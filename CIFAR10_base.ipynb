{
  "cells": [
    {
      "cell_type": "markdown",
      "metadata": {
        "id": "view-in-github",
        "colab_type": "text"
      },
      "source": [
        "<a href=\"https://colab.research.google.com/github/Code-Trees/CNN/blob/master/CIFAR10_base.ipynb\" target=\"_parent\"><img src=\"https://colab.research.google.com/assets/colab-badge.svg\" alt=\"Open In Colab\"/></a>"
      ]
    },
    {
      "cell_type": "code",
      "execution_count": 48,
      "metadata": {
        "id": "2nYRkYAkxIhf"
      },
      "outputs": [],
      "source": [
        "# Requirement Check"
      ]
    },
    {
      "cell_type": "code",
      "execution_count": 49,
      "metadata": {
        "id": "TpNG8BrvS1iq"
      },
      "outputs": [],
      "source": [
        "# !pip install -U albumentations\n",
        "# !pip install opencv-python\n",
        "# !pip install opencv-python-headless==4.5.2.52\n",
        "# !pip install Pillow\n",
        "# !pip install rf_calc"
      ]
    },
    {
      "cell_type": "code",
      "execution_count": 50,
      "metadata": {
        "id": "lS60UZTSjNOC"
      },
      "outputs": [],
      "source": [
        "import warnings\n",
        "warnings.filterwarnings('ignore')"
      ]
    },
    {
      "cell_type": "code",
      "execution_count": 51,
      "metadata": {
        "colab": {
          "base_uri": "https://localhost:8080/",
          "height": 35
        },
        "id": "QVbdg0z4poCc",
        "outputId": "11d37398-d00d-4dc2-9a19-3b37d34ebb4a"
      },
      "outputs": [
        {
          "output_type": "display_data",
          "data": {
            "application/javascript": [
              "IPython.notebook.set_autosave_interval(10000)"
            ]
          },
          "metadata": {}
        },
        {
          "output_type": "stream",
          "name": "stdout",
          "text": [
            "Autosaving every 10 seconds\n"
          ]
        }
      ],
      "source": [
        "from IPython.core.interactiveshell import InteractiveShell\n",
        "InteractiveShell.ast_node_interactivity = 'all'\n",
        "%autosave 10"
      ]
    },
    {
      "cell_type": "code",
      "execution_count": 52,
      "metadata": {
        "id": "R5mwABzayFAH"
      },
      "outputs": [],
      "source": [
        "import torch\n",
        "import torch.nn.functional as F\n",
        "import torch.nn as nn\n",
        "\n",
        "from torch.optim import SGD\n",
        "from torch.utils.data import DataLoader\n",
        "from torch.optim.lr_scheduler import StepLR\n",
        "\n",
        "from torchvision import transforms,datasets\n"
      ]
    },
    {
      "cell_type": "code",
      "execution_count": 53,
      "metadata": {
        "id": "rDm1IV0SwRVn"
      },
      "outputs": [],
      "source": [
        "import albumentations as A\n",
        "from albumentations.augmentations.geometric.resize import Resize\n",
        "from albumentations.pytorch.transforms import ToTensorV2"
      ]
    },
    {
      "cell_type": "code",
      "execution_count": 53,
      "metadata": {
        "id": "LDUiz2uupIW3"
      },
      "outputs": [],
      "source": [
        ""
      ]
    },
    {
      "cell_type": "code",
      "execution_count": 54,
      "metadata": {
        "id": "536wcDeSyFNV"
      },
      "outputs": [],
      "source": [
        "import numpy as np\n",
        "import matplotlib.pyplot as plt\n",
        "from torchsummary import summary\n",
        "import random\n",
        "import seaborn as sns\n",
        "\n",
        "import gc"
      ]
    },
    {
      "cell_type": "code",
      "execution_count": 55,
      "metadata": {
        "id": "0_UHX_gL2Bp2"
      },
      "outputs": [],
      "source": [
        "# we will use the CIFAR10 dataset. It has the classes:\n",
        "# ‘airplane’, ‘automobile’, ‘bird’, ‘cat’, ‘deer’, ‘dog’, ‘frog’, ‘horse’, ‘ship’, ‘truck’.\n",
        "# The images in CIFAR-10 are of size 3x32x32, i.e. 3-channel color images of 32x32 pixels in size."
      ]
    },
    {
      "cell_type": "code",
      "execution_count": 56,
      "metadata": {
        "id": "HKtfXQ8o20UO"
      },
      "outputs": [],
      "source": [
        "from tqdm import tqdm\n",
        "from rf_calc import receptive_field"
      ]
    },
    {
      "cell_type": "code",
      "execution_count": 57,
      "metadata": {
        "id": "vmMDwq7b17ou"
      },
      "outputs": [],
      "source": [
        "def get_data(train_transform_composes =None ,test_transform_composes =None):\n",
        "    \"\"\"We can compose customs , else the default is tensors \n",
        "    \"\"\"\n",
        "    train = datasets.CIFAR10(root= './',download = True, train = True,transform = train_transform_composes)\n",
        "    \n",
        "    test = datasets.CIFAR10(root= './',download = True, train = False ,transform = train_transform_composes)\n",
        "\n",
        "    return train,test \n"
      ]
    },
    {
      "cell_type": "code",
      "execution_count": 58,
      "metadata": {
        "id": "VhvjgRRvY9j7"
      },
      "outputs": [],
      "source": [
        "def plot_unique_images(data_set,labels = None):\n",
        "    img_data = data_set.data\n",
        "    target = data_set.targets.copy()\n",
        "\n",
        "    fig = plt.figure(figsize=(30,30))\n",
        "    count = 1\n",
        "    unique_images_index = [random.choice(np.where(np.array(target) == search)[0]) for search in list(set(target))]\n",
        "\n",
        "    for image_index in unique_images_index:\n",
        "        n= image_index\n",
        "        ax = fig.add_subplot(1,10,count)\n",
        "        _=plt.imshow(img_data[n])\n",
        "        try:\n",
        "            _=plt.title(f\"label :{labels[target[n]]} idx:{n}\")\n",
        "        except:\n",
        "            _=plt.title(f\"idx:{n} Label: {target[n]}\")\n",
        "        _ = plt.autoscale()\n",
        "        _= fig.tight_layout(pad =1)\n",
        "        count+= 1\n",
        "        if count>=len(target):\n",
        "            break\n",
        "    plt.show()\n"
      ]
    },
    {
      "cell_type": "code",
      "execution_count": 59,
      "metadata": {
        "id": "jDzg2TuWZBYi"
      },
      "outputs": [],
      "source": [
        "def get_data_stats(dataset_train,dataset_test = None,img_norm_typ ='train',plot = False):\n",
        "    MEAN = []\n",
        "    STD = []\n",
        "    VAR = []\n",
        "    if img_norm_typ == 'train':\n",
        "        fig = plt.figure(figsize=(15,5))\n",
        "        for i in range(0,dataset_train.data.shape[len(dataset_train.data.shape)-1]):\n",
        "            scale = dataset_train.data[:,:,:,i]/dataset_train.data[:,:,:,i].max()\n",
        "            MEAN.append(scale.mean())\n",
        "            STD.append(scale.std())\n",
        "            VAR.append(scale.var())\n",
        "            if plot == True:\n",
        "                ax = fig.add_subplot(1,3,i+1)\n",
        "                _=sns.histplot(scale.reshape(-1) )\n",
        "                _=plt.title(f\"label :{'Train' if dataset_train.train else 'Test' } Channel:{i+1}\")\n",
        "                _= plt.xlabel(f\"Mean:{round(MEAN[i],3)}, std:{round(STD[i],3)}, var:{round(VAR[i],3)}\")\n",
        "                _ = plt.autoscale()\n",
        "                _= fig.tight_layout(pad =1)\n",
        "        # plt.show()\n",
        "        # print(f\" For {'Train' if dataset_train.train else 'Test'} data, Mean: {MEAN} || Variance: {VAR} || Standard Dev: {STD} || Data Dim: {dataset_train.data.shape}\")\n",
        "\n",
        "    elif img_norm_typ == 'train+test':\n",
        "        fig = plt.figure(figsize=(10,5))\n",
        "        mega_data  =np.append(dataset_train.data, dataset_test.data, 0)\n",
        "        scale = mega_data[:,:,:,i]/mega_data[:,:,:,i].max()\n",
        "        MEAN.append(scale.mean())\n",
        "        STD.append(scale.std())\n",
        "        VAR.append(scale.var())\n",
        "        if plot == True:\n",
        "                ax = fig.add_subplot(1,3,i+1)\n",
        "                _=sns.histplot(scale.reshape(-1))\n",
        "                _=plt.title(f\"label :{'Train' if dataset_train.train else 'Test' } Channel:{i+1}\")\n",
        "                _= plt.xlabel(f\"Mean:{round(MEAN[i],3)},std:{round(STD[i],3)},var:{round(VAR[i],3)}\")\n",
        "                _ = plt.autoscale()\n",
        "                _= fig.tight_layout(pad =1)\n",
        "        # print(f\"For {'Train' if dataset_train.train else 'Test'} data, Mean: {MEAN} || Variance: {VAR} || Standard Dev: {STD} || for {mega_data.shape} Dim\")\n",
        "    return tuple(MEAN),tuple(STD)\n",
        "\n"
      ]
    },
    {
      "cell_type": "code",
      "execution_count": 60,
      "metadata": {
        "colab": {
          "base_uri": "https://localhost:8080/"
        },
        "id": "epO0bJ9W166u",
        "outputId": "5607ce8e-68c9-4c2a-cc26-551511ef0edf"
      },
      "outputs": [
        {
          "output_type": "stream",
          "name": "stdout",
          "text": [
            "Files already downloaded and verified\n",
            "Files already downloaded and verified\n"
          ]
        }
      ],
      "source": [
        "train,test = get_data()"
      ]
    },
    {
      "cell_type": "code",
      "execution_count": 61,
      "metadata": {
        "colab": {
          "base_uri": "https://localhost:8080/"
        },
        "id": "uh9u0GTk3K7L",
        "outputId": "681b21d3-c080-40d1-c9b0-f602101623e5"
      },
      "outputs": [
        {
          "output_type": "execute_result",
          "data": {
            "text/plain": [
              "(50000, 32, 32, 3)"
            ]
          },
          "metadata": {},
          "execution_count": 61
        },
        {
          "output_type": "execute_result",
          "data": {
            "text/plain": [
              "50000"
            ]
          },
          "metadata": {},
          "execution_count": 61
        },
        {
          "output_type": "execute_result",
          "data": {
            "text/plain": [
              "(10000, 32, 32, 3)"
            ]
          },
          "metadata": {},
          "execution_count": 61
        },
        {
          "output_type": "execute_result",
          "data": {
            "text/plain": [
              "10000"
            ]
          },
          "metadata": {},
          "execution_count": 61
        }
      ],
      "source": [
        "train.data.shape\n",
        "len(train.targets)\n",
        "test.data.shape\n",
        "len(test.targets)"
      ]
    },
    {
      "cell_type": "code",
      "execution_count": 62,
      "metadata": {
        "colab": {
          "base_uri": "https://localhost:8080/",
          "height": 367
        },
        "id": "sUOh7izWQx4B",
        "outputId": "19316a8c-4ad5-411e-ffcf-92eac50c420a"
      },
      "outputs": [
        {
          "output_type": "display_data",
          "data": {
            "image/png": "[encoded data removed]",
            "text/plain": [
              "<Figure size 2160x2160 with 10 Axes>"
            ]
          },
          "metadata": {
            "needs_background": "light"
          }
        },
        {
          "output_type": "display_data",
          "data": {
            "image/png": "[encoded data removed]",
            "text/plain": [
              "<Figure size 2160x2160 with 10 Axes>"
            ]
          },
          "metadata": {
            "needs_background": "light"
          }
        }
      ],
      "source": [
        "labels = {0:'airplane',1:'automobile',2:'bird',3:'cat',4:'deer',5:'dog',6:'frog',7:'horse',8:'ship',9:'truck'}\n",
        "plot_unique_images(train,labels =labels)\n",
        "plot_unique_images(train,labels =labels)"
      ]
    },
    {
      "cell_type": "code",
      "execution_count": 63,
      "metadata": {
        "id": "7y222dwRSTsb"
      },
      "outputs": [],
      "source": [
        "#Calculating mean and veriance and std"
      ]
    },
    {
      "cell_type": "code",
      "execution_count": 64,
      "metadata": {
        "colab": {
          "base_uri": "https://localhost:8080/",
          "height": 35
        },
        "id": "9hmSYR5PWgO7",
        "outputId": "dbe7ab25-e337-41c4-f52d-91ad0bedb80a"
      },
      "outputs": [
        {
          "output_type": "display_data",
          "data": {
            "text/plain": [
              "<Figure size 1080x360 with 0 Axes>"
            ]
          },
          "metadata": {}
        }
      ],
      "source": [
        "mean,std  = get_data_stats(train,test,img_norm_typ ='train',plot = False)"
      ]
    },
    {
      "cell_type": "code",
      "execution_count": 65,
      "metadata": {
        "colab": {
          "base_uri": "https://localhost:8080/"
        },
        "id": "JZXB5oYHkbAo",
        "outputId": "14161196-b7b6-46cc-f148-9081f55eebf3"
      },
      "outputs": [
        {
          "output_type": "stream",
          "name": "stdout",
          "text": [
            "['Affine', 'BaseCompose', 'BasicIAATransform', 'BasicTransform', 'BboxParams', 'BboxProcessor', 'BboxType', 'Blur', 'CLAHE', 'CenterCrop', 'ChannelDropout', 'ChannelShuffle', 'CoarseDropout', 'ColorJitter', 'Compose', 'Crop', 'CropAndPad', 'CropNonEmptyMaskIfExists', 'Cutout', 'Downscale', 'DualIAATransform', 'DualTransform', 'ElasticTransform', 'Emboss', 'Equalize', 'FDA', 'FGeometric', 'FancyPCA', 'Flip', 'FromFloat', 'GaussNoise', 'GaussianBlur', 'GlassBlur', 'GridDistortion', 'GridDropout', 'HistogramMatching', 'HorizontalFlip', 'HueSaturationValue', 'IAAAdditiveGaussianNoise', 'IAAAffine', 'IAACropAndPad', 'IAAEmboss', 'IAAFliplr', 'IAAFlipud', 'IAAPerspective', 'IAAPiecewiseAffine', 'IAASharpen', 'IAASuperpixels', 'ISONoise', 'ImageCompression', 'ImageOnlyIAATransform', 'ImageOnlyTransform', 'InvertImg', 'JpegCompression', 'KeypointParams', 'KeypointType', 'KeypointsProcessor', 'Lambda', 'List', 'LongestMaxSize', 'MAX_VALUES_BY_DTYPE', 'MaskDropout', 'MedianBlur', 'MotionBlur', 'MultiplicativeNoise', 'NoOp', 'Normalize', 'OneOf', 'OneOrOther', 'OpticalDistortion', 'Optional', 'PadIfNeeded', 'Perspective', 'PiecewiseAffine', 'PixelDistributionAdaptation', 'Posterize', 'RGBShift', 'RandomBrightness', 'RandomBrightnessContrast', 'RandomContrast', 'RandomCrop', 'RandomCropNearBBox', 'RandomFog', 'RandomGamma', 'RandomGridShuffle', 'RandomRain', 'RandomResizedCrop', 'RandomRotate90', 'RandomScale', 'RandomShadow', 'RandomSizedBBoxSafeCrop', 'RandomSizedCrop', 'RandomSnow', 'RandomSunFlare', 'RandomToneCurve', 'ReplayCompose', 'Resize', 'Rotate', 'SafeRotate', 'Sequence', 'Sequential', 'Sharpen', 'ShiftScaleRotate', 'SmallestMaxSize', 'Solarize', 'SomeOf', 'Superpixels', 'TemplateTransform', 'ToFloat', 'ToGray', 'ToSepia', 'Transpose', 'Tuple', 'Union', 'VerticalFlip', '__builtins__', '__cached__', '__doc__', '__file__', '__loader__', '__name__', '__package__', '__path__', '__spec__', '__version__', 'absolute_import', 'adapt_pixel_distribution', 'add_fog', 'add_rain', 'add_shadow', 'add_snow', 'add_sun_flare', 'add_weighted', 'adjust_brightness_torchvision', 'adjust_contrast_torchvision', 'adjust_hue_torchvision', 'adjust_saturation_torchvision', 'angle_2pi_range', 'angle_to_2pi_range', 'apply_histogram', 'augmentations', 'bbox_affine', 'bbox_center_crop', 'bbox_crop', 'bbox_flip', 'bbox_hflip', 'bbox_piecewise_affine', 'bbox_random_crop', 'bbox_rot90', 'bbox_rotate', 'bbox_safe_rotate', 'bbox_shift_scale_rotate', 'bbox_transpose', 'bbox_utils', 'bbox_vflip', 'blur', 'brightness_contrast_adjust', 'calculate_bbox_area', 'center_crop', 'channel_dropout', 'channel_shuffle', 'check_keypoints', 'clahe', 'clamping_crop', 'clip', 'clipped', 'convert_bbox_from_albumentations', 'convert_bbox_to_albumentations', 'convert_bboxes_from_albumentations', 'convert_bboxes_to_albumentations', 'convert_keypoints_from_albumentations', 'convert_keypoints_to_albumentations', 'convolve', 'core', 'crop', 'crop_and_pad', 'crop_and_pad_bbox', 'crop_and_pad_keypoint', 'crop_bbox_by_coords', 'crop_keypoint_by_coords', 'crops', 'cutout', 'cv2', 'denormalize_bbox', 'denormalize_bboxes', 'division', 'domain_adaptation', 'downscale', 'elastic_transform', 'elastic_transform_approx', 'equalize', 'fancy_pca', 'filter_bboxes_by_visibility', 'filter_keypoints', 'fourier_domain_adaptation', 'from_dict', 'from_distance_maps', 'from_float', 'functional', 'gamma_transform', 'gauss_noise', 'gaussian_blur', 'gaussian_filter', 'geometric', 'get_center_crop_coords', 'get_num_channels', 'get_random_crop_coords', 'glass_blur', 'grid_distortion', 'hflip', 'hflip_cv2', 'image_compression', 'imgaug', 'invert', 'is_grayscale_image', 'is_multispectral_image', 'is_rgb_image', 'iso_noise', 'keypoint_affine', 'keypoint_center_crop', 'keypoint_flip', 'keypoint_hflip', 'keypoint_piecewise_affine', 'keypoint_random_crop', 'keypoint_rot90', 'keypoint_rotate', 'keypoint_safe_rotate', 'keypoint_scale', 'keypoint_shift_scale_rotate', 'keypoint_transpose', 'keypoint_vflip', 'keypoints_utils', 'linear_transformation_rgb', 'load', 'longest_max_size', 'math', 'median_blur', 'move_tone_curve', 'multiply', 'non_rgb_warning', 'noop', 'normalize', 'normalize_bbox', 'normalize_bboxes', 'np', 'optical_distortion', 'pad', 'pad_with_params', 'perspective', 'perspective_bbox', 'perspective_keypoint', 'piecewise_affine', 'posterize', 'preserve_channel_dim', 'preserve_shape', 'product', 'py3round', 'pytorch', 'random_crop', 'random_flip', 'read_bgr_image', 'read_rgb_image', 'resize', 'rot90', 'rotate', 'rotation2DMatrixToEulerAngles', 'safe_rotate', 'safe_rotate_enlarged_img_size', 'save', 'scale', 'shift_hsv', 'shift_rgb', 'shift_scale_rotate', 'skimage', 'smallest_max_size', 'solarize', 'superpixels', 'swap_tiles_on_image', 'to_dict', 'to_distance_maps', 'to_float', 'to_gray', 'to_tuple', 'transforms', 'transpose', 'utils', 'vflip', 'warn', 'warp_affine', 'wraps']\n"
          ]
        }
      ],
      "source": [
        "print(dir(A))"
      ]
    },
    {
      "cell_type": "code",
      "execution_count": 65,
      "metadata": {
        "id": "ZIDY1OC788SZ"
      },
      "outputs": [],
      "source": [
        ""
      ]
    },
    {
      "cell_type": "code",
      "execution_count": 66,
      "metadata": {
        "id": "f_LdWFCWzTzP"
      },
      "outputs": [],
      "source": [
        "#Using the Albumentation module  trying to do somw augmentation"
      ]
    },
    {
      "cell_type": "code",
      "execution_count": 67,
      "metadata": {
        "id": "RfUI7Ble5jOA"
      },
      "outputs": [],
      "source": [
        "def augment(aug, image):\n",
        "    return aug(image=image)['image']"
      ]
    },
    {
      "cell_type": "code",
      "execution_count": 68,
      "metadata": {
        "id": "v34OzkYP59VA"
      },
      "outputs": [],
      "source": [
        "#hflip"
      ]
    },
    {
      "cell_type": "code",
      "execution_count": 69,
      "metadata": {
        "colab": {
          "base_uri": "https://localhost:8080/",
          "height": 177
        },
        "id": "q9pNn9KJysUZ",
        "outputId": "cc859890-195a-4b2d-a2ca-edb2e5fcd9aa"
      },
      "outputs": [
        {
          "output_type": "display_data",
          "data": {
            "image/png": "[encoded data removed]",
            "text/plain": [
              "<Figure size 360x360 with 2 Axes>"
            ]
          },
          "metadata": {
            "needs_background": "light"
          }
        }
      ],
      "source": [
        "image = train.data[np.random.randint(0,50000)]\n",
        "fig = plt.figure(figsize=(5,5))\n",
        "for i in range(1,3):    \n",
        "    ax = fig.add_subplot(1,2,i)\n",
        "    _ = plt.imshow(image)\n",
        "    image = A.hflip(image)\n"
      ]
    },
    {
      "cell_type": "code",
      "execution_count": 70,
      "metadata": {
        "id": "J58e-2E542Qb"
      },
      "outputs": [],
      "source": [
        "#ShiftScaleRotate"
      ]
    },
    {
      "cell_type": "code",
      "execution_count": 71,
      "metadata": {
        "colab": {
          "base_uri": "https://localhost:8080/"
        },
        "id": "1TakGKIs6fto",
        "outputId": "1fc2697d-7778-4306-df83-244c9fa64c62"
      },
      "outputs": [
        {
          "output_type": "execute_result",
          "data": {
            "text/plain": [
              "ShiftScaleRotate(always_apply=False, p=0.5, shift_limit_x=(-0.0625, 0.0625), shift_limit_y=(-0.0625, 0.0625), scale_limit=(-0.09999999999999998, 0.10000000000000009), rotate_limit=(-45, 45), interpolation=1, border_mode=4, value=None, mask_value=None)"
            ]
          },
          "metadata": {},
          "execution_count": 71
        }
      ],
      "source": [
        "A.ShiftScaleRotate()"
      ]
    },
    {
      "cell_type": "code",
      "execution_count": 72,
      "metadata": {
        "colab": {
          "base_uri": "https://localhost:8080/",
          "height": 177
        },
        "id": "3hMY-HD63go4",
        "outputId": "fc6e03e2-0758-4d66-aa0c-6c7010b2b5ac"
      },
      "outputs": [
        {
          "output_type": "display_data",
          "data": {
            "image/png": "[encoded data removed]",
            "text/plain": [
              "<Figure size 360x360 with 2 Axes>"
            ]
          },
          "metadata": {
            "needs_background": "light"
          }
        }
      ],
      "source": [
        "\n",
        "image = train.data[np.random.randint(0,50000)]\n",
        "fig = plt.figure(figsize=(5,5))\n",
        "for i in range(1,3):    \n",
        "    ax = fig.add_subplot(1,2,i)\n",
        "    _ = plt.imshow(image)\n",
        "    aug = A.ShiftScaleRotate(always_apply=True)\n",
        "    image = augment(aug,image)"
      ]
    },
    {
      "cell_type": "code",
      "execution_count": 73,
      "metadata": {
        "colab": {
          "base_uri": "https://localhost:8080/"
        },
        "id": "IjA9Hv7K6R_x",
        "outputId": "bcc353ac-d8d2-422e-a107-2b5e4e6f5647"
      },
      "outputs": [
        {
          "output_type": "execute_result",
          "data": {
            "text/plain": [
              "CoarseDropout(always_apply=False, p=0.5, max_holes=8, max_height=8, max_width=8, min_holes=8, min_height=8, min_width=8, fill_value=0, mask_fill_value=None)"
            ]
          },
          "metadata": {},
          "execution_count": 73
        }
      ],
      "source": [
        "A.CoarseDropout()"
      ]
    },
    {
      "cell_type": "code",
      "execution_count": 74,
      "metadata": {
        "colab": {
          "base_uri": "https://localhost:8080/",
          "height": 177
        },
        "id": "ShHvmbLJ6Cr4",
        "outputId": "efa68eaf-6e7c-418a-e39c-fe5cf803ab96"
      },
      "outputs": [
        {
          "output_type": "display_data",
          "data": {
            "image/png": "[encoded data removed]",
            "text/plain": [
              "<Figure size 360x360 with 2 Axes>"
            ]
          },
          "metadata": {
            "needs_background": "light"
          }
        }
      ],
      "source": [
        "image = train.data[np.random.randint(0,50000)]\n",
        "fig = plt.figure(figsize=(5,5))\n",
        "for i in range(1,3):    \n",
        "    ax = fig.add_subplot(1,2,i)\n",
        "    _ = plt.imshow(image)\n",
        "    aug = A.CoarseDropout(always_apply = True,max_holes = 1, max_height=16, max_width=16, min_holes = 1, min_height=16, min_width=16, fill_value=mean, mask_fill_value = None)\n",
        "    image = augment(aug,image)"
      ]
    },
    {
      "cell_type": "code",
      "execution_count": 74,
      "metadata": {
        "id": "tm7wvNB-mNtG"
      },
      "outputs": [],
      "source": [
        ""
      ]
    },
    {
      "cell_type": "code",
      "execution_count": 75,
      "metadata": {
        "id": "drERcp4uhS4D"
      },
      "outputs": [],
      "source": [
        "# dir(A.pytorch.transforms)"
      ]
    },
    {
      "cell_type": "code",
      "execution_count": 76,
      "metadata": {
        "id": "Z9MBD0jPacQN"
      },
      "outputs": [],
      "source": [
        "train_transform =A.Compose([A.Resize(32,32),\n",
        "                            A.Normalize(mean = mean,std = std,max_pixel_value=255,always_apply = True),\n",
        "                            A.ShiftScaleRotate(always_apply=False),\n",
        "                            A.CoarseDropout(always_apply = False,max_holes = 1, max_height=16, max_width=16, min_holes = 1, min_height=16, min_width=16, fill_value=mean, mask_fill_value = None),\n",
        "                            ToTensorV2(transpose_mask =False),\n",
        "                            ])      "
      ]
    },
    {
      "cell_type": "code",
      "execution_count": 77,
      "metadata": {
        "id": "T_BVQbBtf_pV"
      },
      "outputs": [],
      "source": [
        "test_transform = A.Compose([A.Resize(32,32),\n",
        "                            A.Normalize(mean = mean,std = std,max_pixel_value=255,always_apply = True),\n",
        "                            ToTensorV2(transpose_mask =False),\n",
        "                            ])"
      ]
    },
    {
      "cell_type": "code",
      "execution_count": 78,
      "metadata": {
        "id": "ErA4gL-Vbp46"
      },
      "outputs": [],
      "source": [
        "from torch.utils.data.dataset import Dataset"
      ]
    },
    {
      "cell_type": "code",
      "execution_count": 79,
      "metadata": {
        "id": "MEmErKJYn3cn"
      },
      "outputs": [],
      "source": [
        "class AlbumDataset(Dataset):\n",
        "    \"\"\"Face Landmarks dataset.\"\"\"\n",
        "\n",
        "    def __init__(self, data,transform=None):\n",
        "        \"\"\"\n",
        "        Args:\n",
        "            csv_file (string): Path to the csv file with annotations.\n",
        "            root_dir (string): Directory with all the images.\n",
        "            transform (callable, optional): Optional transform to be applied\n",
        "                on a sample.\n",
        "        \"\"\"\n",
        "        self.train = train.data\n",
        "        self.label = train.targets\n",
        "        self.transform = transform\n",
        "\n",
        "    def __len__(self):\n",
        "        return (len(self.train))\n",
        "\n",
        "    def __getitem__(self, idx):\n",
        "        image = self.train[idx]\n",
        "        image = np.array(image)\n",
        "        # image = image.fromarray(image).convert('RGB')\n",
        "        # image = np.asarray(image).astype(np.unit8)\n",
        "        if self.transform:\n",
        "            aug_image = self.transform(image= image)[\"image\"]\n",
        "            # aug_image = aug_image.T\n",
        "        aug_image = torch.tensor(aug_image,dtype =torch.float)\n",
        "        return aug_image,self.label[idx]"
      ]
    },
    {
      "cell_type": "code",
      "execution_count": 80,
      "metadata": {
        "id": "5BrYDedLaQi2"
      },
      "outputs": [],
      "source": [
        "train_alb = AlbumDataset(train,train_transform)\n",
        "test_alb = AlbumDataset(test,test_transform)"
      ]
    },
    {
      "cell_type": "code",
      "execution_count": 81,
      "metadata": {
        "id": "5CP54kulCnBf"
      },
      "outputs": [],
      "source": [
        "#create a DataHook class to get everything "
      ]
    },
    {
      "cell_type": "code",
      "execution_count": 82,
      "metadata": {
        "id": "M-TCK-7uXtVU"
      },
      "outputs": [],
      "source": [
        "# t = train.data\n",
        "# type(t[10])\n",
        "\n",
        "# a = t[np.random.randint(0,50000)]\n",
        "# plt.imshow(a)\n",
        "# plt.show()\n",
        "# plt.subplots(figsize = (10,10))\n",
        "# a = train_transform(image = a)[\"image\"]\n",
        "# a.shape\n",
        "# a =a.T\n",
        "# # a = a[:,:,1]\n",
        "# plt.imshow(a)\n",
        "# plt.show()\n",
        "# plt.imshow(a.T)\n",
        "# a.max()\n",
        "# a.max()\n",
        "\n",
        "# for data,target in train_loader:\n",
        "#     data.shape\n",
        "#     target.shape\n",
        "#     break"
      ]
    },
    {
      "cell_type": "code",
      "execution_count": 83,
      "metadata": {
        "id": "o1QoCL7MwTOt"
      },
      "outputs": [],
      "source": [
        "batch_size = 64\n",
        "epochs = 25\n",
        "\n",
        "args = {'pin_memory':True,'num_workers':4} if torch.cuda.is_available() else {}\n",
        "train_loader = DataLoader(train_alb,batch_size=batch_size,shuffle = True,**args)\n",
        "test_loader = DataLoader(test_alb,batch_size=batch_size,**args)"
      ]
    },
    {
      "cell_type": "code",
      "execution_count": 84,
      "metadata": {
        "colab": {
          "base_uri": "https://localhost:8080/"
        },
        "id": "Ii9XcW8kwU1s",
        "outputId": "9394d738-15b9-407b-a235-6e3fa824e9f7"
      },
      "outputs": [
        {
          "output_type": "execute_result",
          "data": {
            "text/plain": [
              "torch.Size([64, 3, 32, 32])"
            ]
          },
          "metadata": {},
          "execution_count": 84
        }
      ],
      "source": [
        "for data, target in train_loader:\n",
        "    data.shape\n",
        "    break"
      ]
    },
    {
      "cell_type": "code",
      "execution_count": 85,
      "metadata": {
        "id": "r0UaSg3IBa2A"
      },
      "outputs": [],
      "source": [
        "class GhostBatchNorm(nn.BatchNorm2d):\n",
        "    \"\"\"\n",
        "    From : https://github.com/davidcpage/cifar10-fast/blob/master/bag_of_tricks.ipynb\n",
        "\n",
        "    Batch norm seems to work best with batch size of around 32. The reasons presumably have to do \n",
        "    with noise in the batch statistics and specifically a balance between a beneficial regularising effect \n",
        "    at intermediate batch sizes and an excess of noise at small batches.\n",
        "    \n",
        "    Our batches are of size 512 and we can't afford to reduce them without taking a serious hit on training times, \n",
        "    but we can apply batch norm separately to subsets of a training batch. This technique, known as 'ghost' batch \n",
        "    norm, is usually used in a distributed setting but is just as useful when using large batches on a single node. \n",
        "    It isn't supported directly in PyTorch but we can roll our own easily enough.\n",
        "    \"\"\"\n",
        "    def __init__(self, num_features, num_splits, eps=1e-05, momentum=0.1, weight=True, bias=True):\n",
        "        super(GhostBatchNorm, self).__init__(num_features, eps=eps, momentum=momentum)\n",
        "        self.weight.data.fill_(1.0)\n",
        "        self.bias.data.fill_(0.0)\n",
        "        self.weight.requires_grad = weight\n",
        "        self.bias.requires_grad = bias        \n",
        "        self.num_splits = num_splits\n",
        "        self.register_buffer('running_mean', torch.zeros(num_features*self.num_splits))\n",
        "        self.register_buffer('running_var', torch.ones(num_features*self.num_splits))\n",
        "\n",
        "    def train(self, mode=True):\n",
        "        if (self.training is True) and (mode is False):\n",
        "            self.running_mean = torch.mean(self.running_mean.view(self.num_splits, self.num_features), dim=0).repeat(self.num_splits)\n",
        "            self.running_var = torch.mean(self.running_var.view(self.num_splits, self.num_features), dim=0).repeat(self.num_splits)\n",
        "        return super(GhostBatchNorm, self).train(mode)\n",
        "        \n",
        "    def forward(self, input):\n",
        "        N, C, H, W = input.shape\n",
        "        if self.training or not self.track_running_stats:\n",
        "            return F.batch_norm(\n",
        "                input.view(-1, C*self.num_splits, H, W), self.running_mean, self.running_var, \n",
        "                self.weight.repeat(self.num_splits), self.bias.repeat(self.num_splits),\n",
        "                True, self.momentum, self.eps).view(N, C, H, W) \n",
        "        else:\n",
        "            return F.batch_norm(\n",
        "                input, self.running_mean[:self.num_features], self.running_var[:self.num_features], \n",
        "                self.weight, self.bias, False, self.momentum, self.eps)"
      ]
    },
    {
      "cell_type": "code",
      "execution_count": 86,
      "metadata": {
        "id": "vSYBqMQS_-Tf"
      },
      "outputs": [],
      "source": [
        "def Normalize(norm_type,num_features,n_group=2):\n",
        "    if norm_type == 'bn':\n",
        "        return nn.BatchNorm2d(num_features = num_features)\n",
        "\n",
        "    elif norm_type =='gn':\n",
        "        return nn.GroupNorm(num_groups=n_group ,num_channels=num_features)\n",
        "    \n",
        "    elif norm_type =='ln':\n",
        "        return nn.GroupNorm(num_groups =1, num_channels=num_features)\n",
        "\n",
        "    elif norm_type == 'gbn':\n",
        "        return  GhostBatchNorm(num_features, num_splits=4, weight=False)\n",
        "        \n",
        "    else:\n",
        "        print ('Invalid norm Parameter, Providing Default as BN ')\n",
        "        return nn.BatchNorm2d(num_features = num_features,)"
      ]
    },
    {
      "cell_type": "code",
      "execution_count": 87,
      "metadata": {
        "id": "1sYqJno_Oifq"
      },
      "outputs": [],
      "source": [
        "class Depthwise_sep_conv(nn.Module):\n",
        "    def __init__(self,in_channels,out_channels,dropout_val=0.1,norm_type = 'bn',stride = 1):\n",
        "        super(Depthwise_sep_conv,self).__init__()\n",
        "        self.in_channels  = in_channels\n",
        "        self.out_channels = out_channels\n",
        "        self.stride = stride\n",
        "        self.dropout_val = dropout_val\n",
        "        self.norm_type = norm_type\n",
        "\n",
        "        self.deptwiseseperable = nn.Conv2d(in_channels=self.in_channels, out_channels=self.in_channels,kernel_size =(3,3), stride = self.stride,padding = 1,groups = self.in_channels, bias = False)\n",
        "        self.pointwise = nn.Conv2d(in_channels=self.in_channels, out_channels=self.out_channels,kernel_size =(1,1), stride =1, bias = False)\n",
        "        self.norm = Normalize(norm_type = self.norm_type ,num_features= self.out_channels)\n",
        "        self.relu = nn.ReLU()\n",
        "        self.drop = nn.Dropout2d(p = self.dropout_val)\n",
        "    \n",
        "    def forward(self,x):\n",
        "        x = self.deptwiseseperable(x)\n",
        "        x = self.pointwise(x)\n",
        "        x = self.relu(x)\n",
        "        x = self.drop(x)\n",
        "        return x"
      ]
    },
    {
      "cell_type": "code",
      "execution_count": 88,
      "metadata": {
        "id": "i2imTJ9DCj2d"
      },
      "outputs": [],
      "source": [
        "class ConvBlock(nn.Module):\n",
        "    def __init__(self,in_channels,out_channels,stride,padding,kernel_size=(3,3),norm_type = 'bn' ,dropout_val = 0):\n",
        "        super(ConvBlock,self).__init__()\n",
        "        self.in_channels = in_channels\n",
        "        self.out_channels = out_channels\n",
        "        self.stride=stride\n",
        "        self.padding= padding\n",
        "        self.kernel_size=kernel_size\n",
        "        self.norm_type = norm_type\n",
        "        self.dropout_val = dropout_val\n",
        "\n",
        "        self.conv = nn.Conv2d(in_channels=self.in_channels, out_channels=self.out_channels,kernel_size=self.kernel_size,stride =self.stride,padding = self.padding,bias = False)\n",
        "        self.norm = Normalize(norm_type = self.norm_type ,num_features= self.out_channels)\n",
        "        self.relu = nn.ReLU()\n",
        "        self.drop = nn.Dropout2d(p = self.dropout_val)\n",
        "\n",
        "    def forward(self,x):\n",
        "        x = self.relu(self.norm(self.conv(x)))\n",
        "        x= self.drop(x)\n",
        "        return x"
      ]
    },
    {
      "cell_type": "code",
      "execution_count": 89,
      "metadata": {
        "id": "BXaOiEc8yoVo"
      },
      "outputs": [],
      "source": [
        "class Cifar10Net(nn.Module):\n",
        "    def __init__(self,dropout_val = 0,norm_type = 'bn'):\n",
        "        super(Cifar10Net,self).__init__()\n",
        "        self.norm_type = norm_type\n",
        "        self.drop = dropout_val\n",
        "\n",
        "        self.block1 = nn.Sequential(\n",
        "            ConvBlock(in_channels=3,out_channels=32,kernel_size = (3,3),stride = 1, padding = 1,norm_type = self.norm_type,dropout_val= self.drop),\n",
        "            ConvBlock(in_channels=32,out_channels=32,kernel_size = (3,3),stride = 1, padding = 1,norm_type = self.norm_type,dropout_val= self.drop)\n",
        "            )#Input : 32x32x3 |  Outout: 32x32x32 |  RF: 5x5\n",
        "        \n",
        "        self.block2 = nn.Sequential(\n",
        "            ConvBlock(in_channels=32,out_channels=64,kernel_size = (3,3),stride = 2, padding = 1,norm_type = self.norm_type,dropout_val= self.drop),\n",
        "            Depthwise_sep_conv(in_channels=64,out_channels=64,stride = 2,norm_type = self.norm_type,dropout_val= self.drop),\n",
        "            \n",
        "        )#Input : 32x32x33 |  Outout: 16x16x64 |  RF: 11*11\n",
        "        \n",
        "        self.block3 = nn.Sequential(\n",
        "            ConvBlock(in_channels=64,out_channels=64,kernel_size = (3,3),stride = 1, padding = 0,norm_type = self.norm_type,dropout_val= self.drop),\n",
        "            ConvBlock(in_channels=64,out_channels=32,kernel_size = (1,1),stride = 1, padding = 0,norm_type = self.norm_type,dropout_val= self.drop)\n",
        "            \n",
        "            \n",
        "        )#Input : 16x16x64 |  Outout: 16x16x64 |  RF: 15x15\n",
        "        \n",
        "        self.block4 = nn.Sequential(\n",
        "            ConvBlock(in_channels=32,out_channels=32,kernel_size = (3,3),stride = 1, padding = 1,norm_type = self.norm_type,dropout_val= self.drop),\n",
        "            ConvBlock(in_channels=32,out_channels=32,kernel_size = (3,3),stride = 1, padding = 0,norm_type = self.norm_type,dropout_val= self.drop)\n",
        "            \n",
        "        )#Input : 32x32x3 |  Outout: 32x32x32 |  RF: 5x5\n",
        "\n",
        "        self.block5 = nn.Sequential(\n",
        "            Depthwise_sep_conv(in_channels=32,out_channels=64,stride = 1,norm_type = self.norm_type,dropout_val= self.drop),\n",
        "            ConvBlock(in_channels=64,out_channels=128,kernel_size = (1,1),stride = 1, padding = 0,norm_type = self.norm_type,dropout_val= self.drop)\n",
        "            \n",
        "        )#Input : 32x32x3 |  Outout: 32x32x32 |  RF: 5x5\n",
        "\n",
        "        self.gap = nn.AvgPool2d(kernel_size = (4,4),stride = 1)\n",
        "\n",
        "        self.fc1 = nn.Linear(in_features =128,out_features = 10 )\n",
        "        # # arch\n",
        "\n",
        "    def forward(self,x):\n",
        "        x = self.block1(x)\n",
        "        x = self.block2(x)\n",
        "        x = self.block3(x)\n",
        "        x = self.block4(x)\n",
        "        x = self.block5(x)\n",
        "        x = self.gap(x)\n",
        "        x = x.view(-1,128)\n",
        "        x = self.fc1(x)\n",
        "        return F.log_softmax(x,dim = -1)\n",
        "        # return F.nll_loss(x)\n"
      ]
    },
    {
      "cell_type": "code",
      "execution_count": 90,
      "metadata": {
        "colab": {
          "base_uri": "https://localhost:8080/"
        },
        "id": "mPXuwVAqyoJs",
        "outputId": "cb22310e-955a-451d-ee80-8b80fb34f1d7"
      },
      "outputs": [
        {
          "output_type": "stream",
          "name": "stdout",
          "text": [
            "=======================================Reciptive Field Calculator========================================\n",
            "|    | Kernel_size   | Padding   |   Stride | Input_Img_size   | Output_Img_size   | Receptive_field   |\n",
            "|---:|:--------------|:----------|---------:|:-----------------|:------------------|:------------------|\n",
            "|  0 | 3*3           | 1         |        1 | 32*32            | 32*32             | 3*3               |\n",
            "|  1 | 3*3           | 1         |        1 | 32*32            | 32*32             | 5*5               |\n",
            "|  2 | 3*3           | 1         |        2 | 32*32            | 16*16             | 7*7               |\n",
            "|  3 | 3*3           | 1         |        2 | 16*16            | 8*8               | 11*11             |\n",
            "|  4 | 1*1           | NO        |        1 | 8*8              | 8*8               | 11*11             |\n",
            "|  5 | 3*3           | NO        |        1 | 8*8              | 6*6               | 19*19             |\n",
            "|  6 | 1*1           | NO        |        1 | 6*6              | 6*6               | 19*19             |\n",
            "|  7 | 3*3           | 1         |        1 | 6*6              | 6*6               | 27*27             |\n",
            "|  8 | 3*3           | NO        |        1 | 6*6              | 4*4               | 35*35             |\n",
            "|  9 | 3*3           | 1         |        1 | 4*4              | 4*4               | 43*43             |\n",
            "| 10 | 1*1           | NO        |        1 | 4*4              | 4*4               | 43*43             |\n",
            "| 11 | 1*1           | NO        |        1 | 4*4              | 4*4               | 43*43             |\n",
            "=========================================================================================================\n",
            "----------------------------------------------------------------\n",
            "        Layer (type)               Output Shape         Param #\n",
            "================================================================\n",
            "            Conv2d-1           [-1, 32, 32, 32]             864\n",
            "       BatchNorm2d-2           [-1, 32, 32, 32]              64\n",
            "              ReLU-3           [-1, 32, 32, 32]               0\n",
            "         Dropout2d-4           [-1, 32, 32, 32]               0\n",
            "         ConvBlock-5           [-1, 32, 32, 32]               0\n",
            "            Conv2d-6           [-1, 32, 32, 32]           9,216\n",
            "       BatchNorm2d-7           [-1, 32, 32, 32]              64\n",
            "              ReLU-8           [-1, 32, 32, 32]               0\n",
            "         Dropout2d-9           [-1, 32, 32, 32]               0\n",
            "        ConvBlock-10           [-1, 32, 32, 32]               0\n",
            "           Conv2d-11           [-1, 64, 16, 16]          18,432\n",
            "      BatchNorm2d-12           [-1, 64, 16, 16]             128\n",
            "             ReLU-13           [-1, 64, 16, 16]               0\n",
            "        Dropout2d-14           [-1, 64, 16, 16]               0\n",
            "        ConvBlock-15           [-1, 64, 16, 16]               0\n",
            "           Conv2d-16             [-1, 64, 8, 8]             576\n",
            "           Conv2d-17             [-1, 64, 8, 8]           4,096\n",
            "             ReLU-18             [-1, 64, 8, 8]               0\n",
            "        Dropout2d-19             [-1, 64, 8, 8]               0\n",
            "Depthwise_sep_conv-20             [-1, 64, 8, 8]               0\n",
            "           Conv2d-21             [-1, 64, 6, 6]          36,864\n",
            "      BatchNorm2d-22             [-1, 64, 6, 6]             128\n",
            "             ReLU-23             [-1, 64, 6, 6]               0\n",
            "        Dropout2d-24             [-1, 64, 6, 6]               0\n",
            "        ConvBlock-25             [-1, 64, 6, 6]               0\n",
            "           Conv2d-26             [-1, 32, 6, 6]           2,048\n",
            "      BatchNorm2d-27             [-1, 32, 6, 6]              64\n",
            "             ReLU-28             [-1, 32, 6, 6]               0\n",
            "        Dropout2d-29             [-1, 32, 6, 6]               0\n",
            "        ConvBlock-30             [-1, 32, 6, 6]               0\n",
            "           Conv2d-31             [-1, 32, 6, 6]           9,216\n",
            "      BatchNorm2d-32             [-1, 32, 6, 6]              64\n",
            "             ReLU-33             [-1, 32, 6, 6]               0\n",
            "        Dropout2d-34             [-1, 32, 6, 6]               0\n",
            "        ConvBlock-35             [-1, 32, 6, 6]               0\n",
            "           Conv2d-36             [-1, 32, 4, 4]           9,216\n",
            "      BatchNorm2d-37             [-1, 32, 4, 4]              64\n",
            "             ReLU-38             [-1, 32, 4, 4]               0\n",
            "        Dropout2d-39             [-1, 32, 4, 4]               0\n",
            "        ConvBlock-40             [-1, 32, 4, 4]               0\n",
            "           Conv2d-41             [-1, 32, 4, 4]             288\n",
            "           Conv2d-42             [-1, 64, 4, 4]           2,048\n",
            "             ReLU-43             [-1, 64, 4, 4]               0\n",
            "        Dropout2d-44             [-1, 64, 4, 4]               0\n",
            "Depthwise_sep_conv-45             [-1, 64, 4, 4]               0\n",
            "           Conv2d-46            [-1, 128, 4, 4]           8,192\n",
            "      BatchNorm2d-47            [-1, 128, 4, 4]             256\n",
            "             ReLU-48            [-1, 128, 4, 4]               0\n",
            "        Dropout2d-49            [-1, 128, 4, 4]               0\n",
            "        ConvBlock-50            [-1, 128, 4, 4]               0\n",
            "        AvgPool2d-51            [-1, 128, 1, 1]               0\n",
            "           Linear-52                   [-1, 10]           1,290\n",
            "================================================================\n",
            "Total params: 103,178\n",
            "Trainable params: 103,178\n",
            "Non-trainable params: 0\n",
            "----------------------------------------------------------------\n",
            "Input size (MB): 0.01\n",
            "Forward/backward pass size (MB): 3.59\n",
            "Params size (MB): 0.39\n",
            "Estimated Total Size (MB): 4.00\n",
            "----------------------------------------------------------------\n"
          ]
        }
      ],
      "source": [
        "device = 'cuda' if torch.cuda.is_available() else \"cpu\"\n",
        "model = Cifar10Net(norm_type='bn',dropout_val=0.01).to(device)\n",
        "rf_df = receptive_field(model,32)\n",
        "summary(model,input_size=(3,32,32))"
      ]
    },
    {
      "cell_type": "code",
      "execution_count": 90,
      "metadata": {
        "id": "lYI2ntLCmOem"
      },
      "outputs": [],
      "source": [
        ""
      ]
    },
    {
      "cell_type": "code",
      "execution_count": 91,
      "metadata": {
        "id": "mOoX-kftjnXV"
      },
      "outputs": [],
      "source": [
        "#Trying to explore\n",
        "# for data,target in train_loader:\n",
        "#     data = data.to(device)\n",
        "#     target = target.to(device)\n",
        "#     break\n",
        "# model.train()\n",
        "# op = model(data)\n",
        "# op1 = F.log_softmax(op,dim = -1)\n",
        "# op1.argmax(keepdim= True).eq(target).sum().item()"
      ]
    },
    {
      "cell_type": "code",
      "execution_count": 91,
      "metadata": {
        "id": "a05n4HFDm7XN"
      },
      "outputs": [],
      "source": [
        ""
      ]
    },
    {
      "cell_type": "code",
      "execution_count": 93,
      "metadata": {
        "id": "wdeuLltCm63m"
      },
      "outputs": [],
      "source": [
        "def clean_gpu():\n",
        "    \"\"\"Considering we have GPUs\"\"\"\n",
        "\n",
        "    gc.collect()\n",
        "    torch.cuda.empty_cache()\n",
        "    return None\n",
        "\n",
        "#L1 Loss\n",
        "def get_optimizer(model_obj,loss_type=None,scheduler = False):\n",
        "    loss_type= str(loss_type).upper()\n",
        "    parameters = model_obj.parameters()\n",
        "    if loss_type  == 'L2' :\n",
        "        optimizer = SGD( params = parameters,lr = 0.01,momentum = 0.9,weight_decay= 0.001)\n",
        "    else:\n",
        "        optimizer = SGD( params = parameters,lr = 0.01,momentum = 0.9)\n",
        "    if scheduler == True:\n",
        "        scheduler = StepLR(optimizer,step_size = 6,gamma = 0.1)\n",
        "        return optimizer,scheduler\n",
        "    else:\n",
        "        return optimizer,_\n",
        "\n",
        "def L1_loss(model_obj,loss):\n",
        "        \n",
        "    l1 = 0\n",
        "    lambda_l1 = 0.0001\n",
        "    for p in model_obj.parameters():\n",
        "        l1 = l1+p.abs().sum()\n",
        "        loss = loss+ lambda_l1* l1\n",
        "    return loss\n",
        "\n",
        "def plot_acc_loss(typ ,train_acc,train_losses,test_acc,test_losses):\n",
        "    fig, axs = plt.subplots(1,2,figsize = (20,5))\n",
        "    # print ('Accuracy model on  ', typ)\n",
        "    plt.autoscale()\n",
        "    axs[0].plot(train_acc,color = 'red')\n",
        "    axs[0].plot(test_acc,color = 'green')\n",
        "    title = 'Training/testing accuracy'\n",
        "    axs[0].set_title(title)\n",
        "    axs[0].set_ylabel('Accuracy')\n",
        "    axs[0].set_xlabel('Epoch')\n",
        "    axs[0].legend(['train acc','test acc'], loc='best')\n",
        "       \n",
        "    axs[1].plot(train_losses,color = 'red')\n",
        "    axs[1].plot(test_losses,color = 'green')\n",
        "    title = 'Training/Testing Loss'\n",
        "    axs[1].set_title(title)\n",
        "    axs[1].set_ylabel('Loss')\n",
        "    axs[1].set_xlabel('Epoch')\n",
        "    axs[1].legend(['train loss','test loss'], loc='best')\n",
        "    plt.title(typ + ' model Accuracy Vs Loss')\n",
        "\n",
        "    plt.show()\n",
        "    fig.tight_layout(pad = 1.0)"
      ]
    },
    {
      "cell_type": "code",
      "execution_count": 94,
      "metadata": {
        "id": "eX8TODgnnE3m"
      },
      "outputs": [],
      "source": [
        "train_losses = []\n",
        "train_accuracy = []\n",
        "test_losses =[]\n",
        "test_accuracy = []\n",
        "\n",
        "def trainning(model,device,train_data,optimizer,epochs,L1 = False,L2= False):\n",
        "    total_loss = 0\n",
        "    correct = 0\n",
        "    processed = 0\n",
        "\n",
        "    model.train()\n",
        "    pbar = tqdm(train_loader,colour = '\\x1b[34m')\n",
        "    \n",
        "    for index_id,(data,target) in enumerate(pbar):\n",
        "        data,target = data.to(device),target.to(device)\n",
        "        optimizer.zero_grad()\n",
        "        output = model(data)\n",
        "        loss = F.nll_loss(output,target)\n",
        "        if L1 == True:\n",
        "            loss = L1_loss(model,loss)\n",
        "\n",
        "        total_loss += loss\n",
        "        loss.backward()\n",
        "        optimizer.step()\n",
        "        correct += output.argmax(dim = 1).eq(target).sum().item()\n",
        "        processed += len(data)\n",
        "        pbar.set_description(f\"Train ==> Epochs: {epochs} Batch:  {index_id} loss: {loss} Accuracy: { correct/processed *100 :.2f}% \")\n",
        "\n",
        "    acc = correct /processed\n",
        "    total_loss = total_loss.item()/processed\n",
        "    train_losses.append(total_loss)\n",
        "    train_accuracy.append(acc)\n",
        "\n",
        "    return train_losses, train_accuracy\n",
        "\n",
        "\n",
        "def testing(model,device,test_data,optimizer,epochs):\n",
        "    model.eval()\n",
        "    \n",
        "    test_loss = 0\n",
        "    correct = 0\n",
        "    processed = 0\n",
        "    pbar= tqdm(test_loader)\n",
        "    with torch.no_grad():\n",
        "        for id_x,(data,target) in enumerate(pbar):\n",
        "            data,target = data.to(device),target.to(device)\n",
        "\n",
        "            output = model(data)\n",
        "            test_loss += F.nll_loss(output,target,reduce='sum').item()\n",
        "            pred  = output.argmax(dim =1,keepdim = True)\n",
        "\n",
        "            correct += pred.eq(target.view_as(pred)).sum().item()\n",
        "            processed += len(data)\n",
        "            \n",
        "            pbar.set_description(f\"Test ==> Epochs: {epochs} Batch:  {id_x} loss: {test_loss/processed} Accuracy: { correct / processed *100 :.2f}% \")\n",
        "        \n",
        "    acc = correct / processed\n",
        "    test_loss /= processed\n",
        "    test_accuracy.append(acc)\n",
        "    test_losses.append(test_loss)\n",
        "   \n",
        "    \n",
        "    # print('\\nTest set: Average loss: {:.4f}, Accuracy: {}/{} ({:.6f}%)\\n'.format(\n",
        "    #     test_loss, correct, processed, 100. * correct / processed))\n",
        "    \n",
        "    return test_losses,test_accuracy\n",
        "\n",
        "\n",
        "def print_wrong_image(model,device,data,label,n_images):\n",
        "    if n_images >= 10:\n",
        "        n_images = 10\n",
        "    for data,target in data:\n",
        "        data.to(device),target.to(device)\n",
        "    with torch.no_grad():\n",
        "\n",
        "        out = model((data/255).to(torch.float32).reshape(-1,1,28,28).to(device))\n",
        "    \n",
        "    wrong_idx = (out.to(device).argmax(dim = 1).eq(label.to(device)) ==False).nonzero()\n",
        "    label = label.to('cpu')\n",
        "    img_data = (data/255).to(torch.float32).to('cpu')\n",
        "    wrong_idx = wrong_idx.to('cpu').squeeze()\n",
        "    # print (wrong_idx.shape)\n",
        "    # wrong_idx\n",
        "    np.random.shuffle(wrong_idx.numpy())\n",
        "    fig = plt.figure(figsize=(20,30))\n",
        "    count = 1\n",
        "    for image_index in wrong_idx:\n",
        "        n= image_index\n",
        "        ax = fig.add_subplot(1,10,count)\n",
        "        _=plt.imshow((img_data[n].reshape(28,28).to('cpu')))\n",
        "        _=plt.title(f\"idx:{n }\")\n",
        "        _=plt.xlabel(f\"Act:{label[n].item()} \")\n",
        "        _=plt.ylabel(f\"Pred: {out.argmax(dim = 1)[n].item()} \")\n",
        "        _ = plt.autoscale()\n",
        "        fig.tight_layout(pad = 1.0)\n",
        "        count+= 1\n",
        "        if count==11:\n",
        "            break\n",
        "    plt.show()"
      ]
    },
    {
      "cell_type": "code",
      "execution_count": 95,
      "metadata": {
        "id": "6EjpSYB3nJr1"
      },
      "outputs": [],
      "source": [
        "def Run_Model(model_class,train_loader,test_loader,epochs , L1 = False):\n",
        "    \n",
        "    device = \"cuda\" if torch.cuda.is_available() else \"cpu\"\n",
        "    print (f'running on {device} \\n')\n",
        "    #take input as normal_type ['gbn','bn','gn','ln']\n",
        "    model = model_class.to(device)\n",
        "    try:\n",
        "        summary(model,input_size = (3,32,32))\n",
        "    except:\n",
        "        pass\n",
        "\n",
        "    optimizer,scheduler = get_optimizer(model,scheduler = True )\n",
        "    # optimizer = SGD( params = model.parameters(),lr = 0.01,momentum = 0.9)\n",
        "    for EPOCHS in range(0,epochs):\n",
        "        if L1 == True:\n",
        "            train_losses, train_accuracy = trainning(model,device,train_loader,optimizer,EPOCHS,L1 = L1)\n",
        "        else:\n",
        "            train_losses, train_accuracy = trainning(model,device,train_loader,optimizer,EPOCHS)\n",
        "        test_losses,test_accuracy = testing(model,device,test_loader,optimizer,EPOCHS)\n",
        "        scheduler.step()\n",
        "    return model,train_losses, train_accuracy,test_losses,test_accuracy"
      ]
    },
    {
      "cell_type": "code",
      "execution_count": 96,
      "metadata": {
        "colab": {
          "base_uri": "https://localhost:8080/",
          "height": 788
        },
        "id": "6ZZpcFj6XZ6l",
        "outputId": "4473bbdf-f073-4d5c-bb0e-d50372531bbe"
      },
      "outputs": [
        {
          "output_type": "stream",
          "name": "stdout",
          "text": [
            "Files already downloaded and verified\n",
            "Files already downloaded and verified\n",
            "running on cuda \n",
            "\n"
          ]
        },
        {
          "output_type": "stream",
          "name": "stderr",
          "text": [
            "Train ==> Epochs: 0 Batch:  781 loss: 1.9523917436599731 Accuracy: 34.31% : 100%|██████████| 782/782 [00:18<00:00, 42.19it/s]\n",
            "Test ==> Epochs: 0 Batch:  781 loss: 0.020965701336860657 Accuracy: 50.96% : 100%|██████████| 782/782 [00:10<00:00, 71.46it/s]\n",
            "Train ==> Epochs: 1 Batch:  781 loss: 2.045097589492798 Accuracy: 44.09% : 100%|██████████| 782/782 [00:18<00:00, 42.18it/s]\n",
            "Test ==> Epochs: 1 Batch:  781 loss: 0.020076025984287264 Accuracy: 54.37% : 100%|██████████| 782/782 [00:11<00:00, 69.37it/s]\n",
            "Train ==> Epochs: 2 Batch:  781 loss: 1.2652008533477783 Accuracy: 49.17% : 100%|██████████| 782/782 [00:18<00:00, 42.10it/s]\n",
            "Test ==> Epochs: 2 Batch:  781 loss: 0.01627069251656532 Accuracy: 63.30% : 100%|██████████| 782/782 [00:11<00:00, 68.44it/s]\n",
            "Train ==> Epochs: 3 Batch:  781 loss: 1.4503928422927856 Accuracy: 52.75% : 100%|██████████| 782/782 [00:18<00:00, 42.55it/s]\n",
            "Test ==> Epochs: 3 Batch:  781 loss: 0.014759670748710632 Accuracy: 66.29% : 100%|██████████| 782/782 [00:11<00:00, 68.84it/s]\n",
            "Train ==> Epochs: 4 Batch:  781 loss: 1.3305537700653076 Accuracy: 55.53% : 100%|██████████| 782/782 [00:18<00:00, 42.31it/s]\n",
            "Test ==> Epochs: 4 Batch:  781 loss: 0.01359934123158455 Accuracy: 69.15% : 100%|██████████| 782/782 [00:11<00:00, 71.01it/s]\n",
            "Train ==> Epochs: 5 Batch:  781 loss: 1.1700204610824585 Accuracy: 57.09% : 100%|██████████| 782/782 [00:18<00:00, 41.48it/s]\n",
            "Test ==> Epochs: 5 Batch:  781 loss: 0.012267978004813194 Accuracy: 72.62% : 100%|██████████| 782/782 [00:11<00:00, 70.09it/s]\n",
            "Train ==> Epochs: 6 Batch:  781 loss: 1.707214593887329 Accuracy: 60.98% : 100%|██████████| 782/782 [00:19<00:00, 40.43it/s]\n",
            "Test ==> Epochs: 6 Batch:  781 loss: 0.010893934550285339 Accuracy: 75.87% : 100%|██████████| 782/782 [00:11<00:00, 70.98it/s]\n",
            "Train ==> Epochs: 7 Batch:  781 loss: 1.2761826515197754 Accuracy: 61.92% : 100%|██████████| 782/782 [00:18<00:00, 42.43it/s]\n",
            "Test ==> Epochs: 7 Batch:  781 loss: 0.01077126684486866 Accuracy: 76.01% : 100%|██████████| 782/782 [00:11<00:00, 70.64it/s]\n",
            "Train ==> Epochs: 8 Batch:  781 loss: 1.56198251247406 Accuracy: 62.37% : 100%|██████████| 782/782 [00:19<00:00, 39.84it/s]\n",
            "Test ==> Epochs: 8 Batch:  781 loss: 0.01051621858894825 Accuracy: 76.73% : 100%|██████████| 782/782 [00:11<00:00, 69.69it/s]\n",
            "Train ==> Epochs: 9 Batch:  781 loss: 1.5059489011764526 Accuracy: 62.87% : 100%|██████████| 782/782 [00:18<00:00, 42.24it/s]\n",
            "Test ==> Epochs: 9 Batch:  781 loss: 0.010251934875249863 Accuracy: 77.40% : 100%|██████████| 782/782 [00:11<00:00, 70.46it/s]\n"
          ]
        },
        {
          "output_type": "display_data",
          "data": {
            "image/png": "[encoded data removed]",
            "text/plain": [
              "<Figure size 1440x360 with 2 Axes>"
            ]
          },
          "metadata": {
            "needs_background": "light"
          }
        }
      ],
      "source": [
        "if __name__ == \"__main__\":\n",
        "    batch_size = 64\n",
        "    epochs = 10\n",
        "\n",
        "    _=torch.manual_seed(1)\n",
        "    if torch.cuda.is_available():\n",
        "        _=torch.cuda.manual_seed(1)\n",
        "\n",
        "    train,test = get_data()\n",
        "    #take input as normal_type ['gbn','bn','gn','ln']\n",
        "\n",
        "    args = {'pin_memory':True,'num_workers':4} if torch.cuda.is_available() else {}\n",
        "    train_loader = DataLoader(train_alb,batch_size=batch_size,shuffle = True,**args)\n",
        "    test_loader = DataLoader(test_alb,batch_size=batch_size,**args)\n",
        "    # ['gbn','bn','gn','ln']\n",
        "    try_type = ['gbn']\n",
        "    for norm_type in try_type:\n",
        "\n",
        "        model_class = Cifar10Net(dropout_val=0.01,norm_type=norm_type)\n",
        "        model,train_losses, train_accuracy,test_losses,test_accuracy = Run_Model(model_class,train_alb,test_alb,epochs =epochs)\n",
        "        plot_acc_loss(norm_type ,train_accuracy,train_losses,test_accuracy,test_losses)\n",
        "        clean_gpu()\n",
        "    \n",
        "        # test_data = test.test_data\n",
        "        # test_labels = test.test_labels\n",
        "        # print_wrong_image(model ,device,test_data,test_labels,n_images = 10)\n",
        "        clean_gpu()"
      ]
    },
    {
      "cell_type": "code",
      "source": [
        ""
      ],
      "metadata": {
        "id": "obxxqguqmmIy"
      },
      "execution_count": null,
      "outputs": []
    },
    {
      "cell_type": "markdown",
      "source": [
        ""
      ],
      "metadata": {
        "id": "9uR60qhgmnXc"
      }
    },
    {
      "cell_type": "markdown",
      "source": [
        ""
      ],
      "metadata": {
        "id": "GsOianGJmncW"
      }
    },
    {
      "cell_type": "code",
      "source": [
        ""
      ],
      "metadata": {
        "id": "XHFTJx4xmoR2"
      },
      "execution_count": null,
      "outputs": []
    },
    {
      "cell_type": "markdown",
      "source": [
        ""
      ],
      "metadata": {
        "id": "7Vah5Rj8modd"
      }
    },
    {
      "cell_type": "code",
      "source": [
        ""
      ],
      "metadata": {
        "id": "vhI2Klnwmorw"
      },
      "execution_count": null,
      "outputs": []
    },
    {
      "cell_type": "markdown",
      "source": [
        ""
      ],
      "metadata": {
        "id": "LyVnSQJbmqwF"
      }
    },
    {
      "cell_type": "code",
      "source": [
        ""
      ],
      "metadata": {
        "id": "hphl_-XEmseX"
      },
      "execution_count": null,
      "outputs": []
    },
    {
      "cell_type": "code",
      "execution_count": null,
      "metadata": {
        "id": "0IlIpTdXzruI"
      },
      "outputs": [],
      "source": [
        ""
      ]
    },
    {
      "cell_type": "code",
      "execution_count": null,
      "metadata": {
        "id": "daA7bADhpoCo"
      },
      "outputs": [],
      "source": [
        "# import matplotlib.pyplot as plt\n",
        "# import numpy as np\n",
        "\n",
        "# # functions to show an image\n",
        "\n",
        "\n",
        "# def imshow(img):\n",
        "#     img = img / 2 + 0.5     # unnormalize\n",
        "#     npimg = img.numpy()\n",
        "#     plt.imshow(np.transpose(npimg, (1, 2, 0)))\n",
        "\n",
        "\n",
        "# # get some random training images\n",
        "# dataiter = iter(trainloader)\n",
        "# images, labels = dataiter.next()\n",
        "\n",
        "# # show images\n",
        "# imshow(torchvision.utils.make_grid(images))\n",
        "# # print labels\n",
        "# print(' '.join('%5s' % classes[labels[j]] for j in range(4)))"
      ]
    },
    {
      "cell_type": "code",
      "execution_count": null,
      "metadata": {
        "id": "KNf0T5rEy1SO"
      },
      "outputs": [],
      "source": [
        ""
      ]
    },
    {
      "cell_type": "code",
      "execution_count": null,
      "metadata": {
        "id": "M4xBbDROpoCv"
      },
      "outputs": [],
      "source": [
        "import torch.optim as optim\n",
        "\n",
        "criterion = nn.CrossEntropyLoss()\n",
        "optimizer = optim.SGD(net.parameters(), lr=0.001, momentum=0.9)"
      ]
    },
    {
      "cell_type": "markdown",
      "metadata": {
        "id": "O-odOrhdpoC2"
      },
      "source": [
        "4. Train the network\n",
        "^^^^^^^^^^^^^^^^^^^^\n",
        "\n",
        "This is when things start to get interesting.\n",
        "We simply have to loop over our data iterator, and feed the inputs to the\n",
        "network and optimize.\n",
        "\n"
      ]
    },
    {
      "cell_type": "code",
      "execution_count": null,
      "metadata": {
        "id": "kkuRfo1IpoC3"
      },
      "outputs": [],
      "source": [
        "for epoch in range(2):  # loop over the dataset multiple times\n",
        "\n",
        "    running_loss = 0.0\n",
        "    for i, data in enumerate(trainloader, 0):\n",
        "        # get the inputs\n",
        "        inputs, labels = data\n",
        "\n",
        "        # zero the parameter gradients\n",
        "        optimizer.zero_grad()\n",
        "\n",
        "        # forward + backward + optimize\n",
        "        outputs = net(inputs)\n",
        "        loss = criterion(outputs, labels)\n",
        "        loss.backward()\n",
        "        optimizer.step()\n",
        "\n",
        "        # print statistics\n",
        "        running_loss += loss.item()\n",
        "        if i % 2000 == 1999:    # print every 2000 mini-batches\n",
        "            print('[%d, %5d] loss: %.3f' %\n",
        "                  (epoch + 1, i + 1, running_loss / 2000))\n",
        "            running_loss = 0.0\n",
        "\n",
        "print('Finished Training')"
      ]
    },
    {
      "cell_type": "markdown",
      "metadata": {
        "id": "YLrvL_fHpoC5"
      },
      "source": [
        "5. Test the network on the test data\n",
        "^^^^^^^^^^^^^^^^^^^^^^^^^^^^^^^^^^^^\n",
        "\n",
        "We have trained the network for 2 passes over the training dataset.\n",
        "But we need to check if the network has learnt anything at all.\n",
        "\n",
        "We will check this by predicting the class label that the neural network\n",
        "outputs, and checking it against the ground-truth. If the prediction is\n",
        "correct, we add the sample to the list of correct predictions.\n",
        "\n",
        "Okay, first step. Let us display an image from the test set to get familiar.\n",
        "\n"
      ]
    },
    {
      "cell_type": "code",
      "execution_count": null,
      "metadata": {
        "colab": {
          "base_uri": "https://localhost:8080/",
          "height": 245
        },
        "id": "nizbsvw9poC6",
        "outputId": "915dccbf-c8c0-4ac4-d597-b8844fd7b357"
      },
      "outputs": [
        {
          "ename": "NameError",
          "evalue": "ignored",
          "output_type": "error",
          "traceback": [
            "\u001b[0;31m---------------------------------------------------------------------------\u001b[0m",
            "\u001b[0;31mNameError\u001b[0m                                 Traceback (most recent call last)",
            "\u001b[0;32m<ipython-input-48-ae8481ed38bb>\u001b[0m in \u001b[0;36m<module>\u001b[0;34m()\u001b[0m\n\u001b[0;32m----> 1\u001b[0;31m \u001b[0mdataiter\u001b[0m \u001b[0;34m=\u001b[0m \u001b[0miter\u001b[0m\u001b[0;34m(\u001b[0m\u001b[0mtestloader\u001b[0m\u001b[0;34m)\u001b[0m\u001b[0;34m\u001b[0m\u001b[0;34m\u001b[0m\u001b[0m\n\u001b[0m\u001b[1;32m      2\u001b[0m \u001b[0mimages\u001b[0m\u001b[0;34m,\u001b[0m \u001b[0mlabels\u001b[0m \u001b[0;34m=\u001b[0m \u001b[0mdataiter\u001b[0m\u001b[0;34m.\u001b[0m\u001b[0mnext\u001b[0m\u001b[0;34m(\u001b[0m\u001b[0;34m)\u001b[0m\u001b[0;34m\u001b[0m\u001b[0;34m\u001b[0m\u001b[0m\n\u001b[1;32m      3\u001b[0m \u001b[0;34m\u001b[0m\u001b[0m\n\u001b[1;32m      4\u001b[0m \u001b[0;31m# print images\u001b[0m\u001b[0;34m\u001b[0m\u001b[0;34m\u001b[0m\u001b[0;34m\u001b[0m\u001b[0m\n\u001b[1;32m      5\u001b[0m \u001b[0mimshow\u001b[0m\u001b[0;34m(\u001b[0m\u001b[0mtorchvision\u001b[0m\u001b[0;34m.\u001b[0m\u001b[0mutils\u001b[0m\u001b[0;34m.\u001b[0m\u001b[0mmake_grid\u001b[0m\u001b[0;34m(\u001b[0m\u001b[0mimages\u001b[0m\u001b[0;34m)\u001b[0m\u001b[0;34m)\u001b[0m\u001b[0;34m\u001b[0m\u001b[0;34m\u001b[0m\u001b[0m\n",
            "\u001b[0;31mNameError\u001b[0m: name 'testloader' is not defined"
          ]
        }
      ],
      "source": [
        "dataiter = iter(testloader)\n",
        "images, labels = dataiter.next()\n",
        "\n",
        "# print images\n",
        "imshow(torchvision.utils.make_grid(images))\n",
        "print('GroundTruth: ', ' '.join('%5s' % classes[labels[j]] for j in range(4)))"
      ]
    },
    {
      "cell_type": "markdown",
      "metadata": {
        "id": "DAx4QPHVpoC8"
      },
      "source": [
        "Okay, now let us see what the neural network thinks these examples above are:\n",
        "\n"
      ]
    },
    {
      "cell_type": "code",
      "execution_count": null,
      "metadata": {
        "id": "HVLjlssWpoC9"
      },
      "outputs": [],
      "source": [
        "outputs = net(images)"
      ]
    },
    {
      "cell_type": "markdown",
      "metadata": {
        "id": "u8OTHZEApoC_"
      },
      "source": [
        "The outputs are energies for the 10 classes.\n",
        "Higher the energy for a class, the more the network\n",
        "thinks that the image is of the particular class.\n",
        "So, let's get the index of the highest energy:\n",
        "\n"
      ]
    },
    {
      "cell_type": "code",
      "execution_count": null,
      "metadata": {
        "id": "ABRIDW3lpoDA"
      },
      "outputs": [],
      "source": [
        "_, predicted = torch.max(outputs, 1)\n",
        "\n",
        "print('Predicted: ', ' '.join('%5s' % classes[predicted[j]]\n",
        "                              for j in range(4)))"
      ]
    },
    {
      "cell_type": "markdown",
      "metadata": {
        "id": "2TV0TXL1poDC"
      },
      "source": [
        "The results seem pretty good.\n",
        "\n",
        "Let us look at how the network performs on the whole dataset.\n",
        "\n"
      ]
    },
    {
      "cell_type": "code",
      "execution_count": null,
      "metadata": {
        "id": "SZ4-5CESpoDD"
      },
      "outputs": [],
      "source": [
        "correct = 0\n",
        "total = 0\n",
        "with torch.no_grad():\n",
        "    for data in testloader:\n",
        "        images, labels = data\n",
        "        outputs = net(images)\n",
        "        _, predicted = torch.max(outputs.data, 1)\n",
        "        total += labels.size(0)\n",
        "        correct += (predicted == labels).sum().item()\n",
        "\n",
        "print('Accuracy of the network on the 10000 test images: %d %%' % (\n",
        "    100 * correct / total))"
      ]
    },
    {
      "cell_type": "markdown",
      "metadata": {
        "id": "eDdwPBl8poDF"
      },
      "source": [
        "That looks waaay better than chance, which is 10% accuracy (randomly picking\n",
        "a class out of 10 classes).\n",
        "Seems like the network learnt something.\n",
        "\n",
        "Hmmm, what are the classes that performed well, and the classes that did\n",
        "not perform well:\n",
        "\n"
      ]
    },
    {
      "cell_type": "code",
      "execution_count": null,
      "metadata": {
        "id": "pDNFuDEDpoDG"
      },
      "outputs": [],
      "source": [
        "class_correct = list(0. for i in range(10))\n",
        "class_total = list(0. for i in range(10))\n",
        "with torch.no_grad():\n",
        "    for data in testloader:\n",
        "        images, labels = data\n",
        "        outputs = net(images)\n",
        "        _, predicted = torch.max(outputs, 1)\n",
        "        c = (predicted == labels).squeeze()\n",
        "        for i in range(4):\n",
        "            label = labels[i]\n",
        "            class_correct[label] += c[i].item()\n",
        "            class_total[label] += 1\n",
        "\n",
        "\n",
        "for i in range(10):\n",
        "    print('Accuracy of %5s : %2d %%' % (\n",
        "        classes[i], 100 * class_correct[i] / class_total[i]))"
      ]
    }
  ],
  "metadata": {
    "accelerator": "GPU",
    "colab": {
      "collapsed_sections": [],
      "machine_shape": "hm",
      "name": "CIFAR10_try.ipynb",
      "provenance": [],
      "include_colab_link": true
    },
    "kernelspec": {
      "display_name": "Python 3",
      "name": "python3"
    },
    "language_info": {
      "codemirror_mode": {
        "name": "ipython",
        "version": 3
      },
      "file_extension": ".py",
      "mimetype": "text/x-python",
      "name": "python",
      "nbconvert_exporter": "python",
      "pygments_lexer": "ipython3",
      "version": "3.6.6"
    }
  },
  "nbformat": 4,
  "nbformat_minor": 0
}