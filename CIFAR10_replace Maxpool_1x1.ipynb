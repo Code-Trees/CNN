{
  "cells": [
    {
      "cell_type": "markdown",
      "metadata": {
        "id": "view-in-github",
        "colab_type": "text"
      },
      "source": [
        "<a href=\"https://colab.research.google.com/github/Code-Trees/CNN/blob/master/CIFAR10_replace%20Maxpool_1x1.ipynb\" target=\"_parent\"><img src=\"https://colab.research.google.com/assets/colab-badge.svg\" alt=\"Open In Colab\"/></a>"
      ]
    },
    {
      "cell_type": "code",
      "execution_count": 165,
      "metadata": {
        "id": "2nYRkYAkxIhf"
      },
      "outputs": [],
      "source": [
        "# Requirement Check"
      ]
    },
    {
      "cell_type": "code",
      "source": [
        "gpu_info = !nvidia-smi\n",
        "gpu_info = '\\n'.join(gpu_info)\n",
        "if gpu_info.find('failed') >= 0:\n",
        "  print('Not connected to a GPU')\n",
        "else:\n",
        "  print(gpu_info)"
      ],
      "metadata": {
        "colab": {
          "base_uri": "https://localhost:8080/"
        },
        "id": "Daj3KQ4x_6Ev",
        "outputId": "f64cbffc-4e72-4ddb-9f66-d0c31002e350"
      },
      "execution_count": 166,
      "outputs": [
        {
          "output_type": "stream",
          "name": "stdout",
          "text": [
            "Sat Feb 12 03:42:04 2022       \n",
            "+-----------------------------------------------------------------------------+\n",
            "| NVIDIA-SMI 460.32.03    Driver Version: 460.32.03    CUDA Version: 11.2     |\n",
            "|-------------------------------+----------------------+----------------------+\n",
            "| GPU  Name        Persistence-M| Bus-Id        Disp.A | Volatile Uncorr. ECC |\n",
            "| Fan  Temp  Perf  Pwr:Usage/Cap|         Memory-Usage | GPU-Util  Compute M. |\n",
            "|                               |                      |               MIG M. |\n",
            "|===============================+======================+======================|\n",
            "|   0  Tesla P100-PCIE...  Off  | 00000000:00:04.0 Off |                    0 |\n",
            "| N/A   34C    P0    34W / 250W |   1103MiB / 16280MiB |      0%      Default |\n",
            "|                               |                      |                  N/A |\n",
            "+-------------------------------+----------------------+----------------------+\n",
            "                                                                               \n",
            "+-----------------------------------------------------------------------------+\n",
            "| Processes:                                                                  |\n",
            "|  GPU   GI   CI        PID   Type   Process name                  GPU Memory |\n",
            "|        ID   ID                                                   Usage      |\n",
            "|=============================================================================|\n",
            "+-----------------------------------------------------------------------------+\n"
          ]
        }
      ]
    },
    {
      "cell_type": "code",
      "execution_count": 167,
      "metadata": {
        "id": "TpNG8BrvS1iq"
      },
      "outputs": [],
      "source": [
        "# !pip install -U albumentations\n",
        "# !pip install opencv-python\n",
        "# !pip install opencv-python-headless==4.5.2.52\n",
        "# !pip install Pillow\n",
        "# !pip install rf_calc"
      ]
    },
    {
      "cell_type": "code",
      "execution_count": 168,
      "metadata": {
        "id": "lS60UZTSjNOC"
      },
      "outputs": [],
      "source": [
        "import warnings\n",
        "warnings.filterwarnings('ignore')"
      ]
    },
    {
      "cell_type": "code",
      "execution_count": 169,
      "metadata": {
        "colab": {
          "base_uri": "https://localhost:8080/",
          "height": 34
        },
        "id": "QVbdg0z4poCc",
        "outputId": "80cd69c6-7c71-46e8-f164-61dc81b17eba"
      },
      "outputs": [
        {
          "output_type": "display_data",
          "data": {
            "application/javascript": [
              "IPython.notebook.set_autosave_interval(10000)"
            ]
          },
          "metadata": {}
        },
        {
          "output_type": "stream",
          "name": "stdout",
          "text": [
            "Autosaving every 10 seconds\n"
          ]
        }
      ],
      "source": [
        "from IPython.core.interactiveshell import InteractiveShell\n",
        "InteractiveShell.ast_node_interactivity = 'all'\n",
        "%autosave 10"
      ]
    },
    {
      "cell_type": "code",
      "execution_count": 170,
      "metadata": {
        "id": "R5mwABzayFAH"
      },
      "outputs": [],
      "source": [
        "import torch\n",
        "import torch.nn.functional as F\n",
        "import torch.nn as nn\n",
        "\n",
        "from torch.optim import SGD\n",
        "from torch.utils.data import DataLoader\n",
        "from torch.utils.data.dataset import Dataset\n",
        "from torch.optim.lr_scheduler import StepLR\n",
        "\n",
        "from torchvision import transforms,datasets\n",
        "\n",
        "import numpy as np\n",
        "import matplotlib.pyplot as plt\n",
        "from torchsummary import summary\n",
        "import random\n",
        "import seaborn as sns\n",
        "import gc\n",
        "\n",
        "import albumentations as A\n",
        "from albumentations.augmentations.geometric.resize import Resize\n",
        "from albumentations.pytorch.transforms import ToTensorV2"
      ]
    },
    {
      "cell_type": "code",
      "execution_count": 170,
      "metadata": {
        "id": "536wcDeSyFNV"
      },
      "outputs": [],
      "source": [
        ""
      ]
    },
    {
      "cell_type": "code",
      "execution_count": 171,
      "metadata": {
        "id": "0_UHX_gL2Bp2"
      },
      "outputs": [],
      "source": [
        "# we will use the CIFAR10 dataset. It has the classes:\n",
        "# ‘airplane’, ‘automobile’, ‘bird’, ‘cat’, ‘deer’, ‘dog’, ‘frog’, ‘horse’, ‘ship’, ‘truck’.\n",
        "# The images in CIFAR-10 are of size 3x32x32, i.e. 3-channel color images of 32x32 pixels in size."
      ]
    },
    {
      "cell_type": "code",
      "execution_count": 172,
      "metadata": {
        "id": "HKtfXQ8o20UO"
      },
      "outputs": [],
      "source": [
        "from tqdm import tqdm\n",
        "from rf_calc import receptive_field"
      ]
    },
    {
      "cell_type": "markdown",
      "metadata": {
        "id": "XSnEveblkwVz"
      },
      "source": [
        "GPU Cleaner"
      ]
    },
    {
      "cell_type": "code",
      "execution_count": 173,
      "metadata": {
        "id": "mIHPpFNQkvBj"
      },
      "outputs": [],
      "source": [
        "def clean_gpu():\n",
        "    \"\"\"Considering we have GPUs\"\"\"\n",
        "\n",
        "    gc.collect()\n",
        "    torch.cuda.empty_cache()\n",
        "    return None"
      ]
    },
    {
      "cell_type": "markdown",
      "metadata": {
        "id": "CpXzMbFtkzEr"
      },
      "source": [
        "Data Loading "
      ]
    },
    {
      "cell_type": "code",
      "execution_count": 174,
      "metadata": {
        "id": "vmMDwq7b17ou"
      },
      "outputs": [],
      "source": [
        "def get_data(train_transform_composes =None ,test_transform_composes =None):\n",
        "    \"\"\"We can compose customs , else the default is tensors \n",
        "    \"\"\"\n",
        "    train = datasets.CIFAR10(root= './',download = True, train = True,transform = train_transform_composes)\n",
        "    \n",
        "    test = datasets.CIFAR10(root= './',download = True, train = False ,transform = train_transform_composes)\n",
        "\n",
        "    return train,test "
      ]
    },
    {
      "cell_type": "markdown",
      "metadata": {
        "id": "-0J7zYy3k8eS"
      },
      "source": [
        "EDA With Experiments"
      ]
    },
    {
      "cell_type": "code",
      "execution_count": 175,
      "metadata": {
        "id": "VhvjgRRvY9j7"
      },
      "outputs": [],
      "source": [
        "def plot_unique_images(data_set,labels = None):\n",
        "    img_data = data_set.data\n",
        "    target = data_set.targets.copy()\n",
        "\n",
        "    fig = plt.figure(figsize=(30,30))\n",
        "    count = 1\n",
        "    unique_images_index = [random.choice(np.where(np.array(target) == search)[0]) for search in list(set(target))]\n",
        "\n",
        "    for image_index in unique_images_index:\n",
        "        n= image_index\n",
        "        ax = fig.add_subplot(1,10,count)\n",
        "        _=plt.imshow(img_data[n])\n",
        "        try:\n",
        "            _=plt.title(f\"label :{labels[target[n]]} idx:{n}\")\n",
        "        except:\n",
        "            _=plt.title(f\"idx:{n} Label: {target[n]}\")\n",
        "        _ = plt.autoscale()\n",
        "        _= fig.tight_layout(pad =1)\n",
        "        count+= 1\n",
        "        if count>=len(target):\n",
        "            break\n",
        "    plt.show()\n"
      ]
    },
    {
      "cell_type": "code",
      "execution_count": 176,
      "metadata": {
        "id": "jDzg2TuWZBYi"
      },
      "outputs": [],
      "source": [
        "def get_data_stats(dataset_train,dataset_test = None,img_norm_typ ='train',plot = False):\n",
        "    MEAN = []\n",
        "    STD = []\n",
        "    VAR = []\n",
        "    if img_norm_typ == 'train':\n",
        "        fig = plt.figure(figsize=(15,5))\n",
        "        for i in range(0,dataset_train.data.shape[len(dataset_train.data.shape)-1]):\n",
        "            scale = dataset_train.data[:,:,:,i]/dataset_train.data[:,:,:,i].max()\n",
        "            MEAN.append(scale.mean())\n",
        "            STD.append(scale.std())\n",
        "            VAR.append(scale.var())\n",
        "            if plot == True:\n",
        "                ax = fig.add_subplot(1,3,i+1)\n",
        "                _=sns.histplot(scale.reshape(-1) )\n",
        "                _=plt.title(f\"label :{'Train' if dataset_train.train else 'Test' } Channel:{i+1}\")\n",
        "                _= plt.xlabel(f\"Mean:{round(MEAN[i],3)}, std:{round(STD[i],3)}, var:{round(VAR[i],3)}\")\n",
        "                _ = plt.autoscale()\n",
        "                _= fig.tight_layout(pad =1)\n",
        "        # plt.show()\n",
        "        # print(f\" For {'Train' if dataset_train.train else 'Test'} data, Mean: {MEAN} || Variance: {VAR} || Standard Dev: {STD} || Data Dim: {dataset_train.data.shape}\")\n",
        "\n",
        "    elif img_norm_typ == 'train+test':\n",
        "        fig = plt.figure(figsize=(10,5))\n",
        "        mega_data  =np.append(dataset_train.data, dataset_test.data, 0)\n",
        "        for i in range(0,dataset_train.data.shape[len(dataset_train.data.shape)-1]):\n",
        "            scale = mega_data[:,:,:,i]/mega_data[:,:,:,i].max()\n",
        "            MEAN.append(scale.mean())\n",
        "            STD.append(scale.std())\n",
        "            VAR.append(scale.var())\n",
        "            if plot == True:\n",
        "                ax = fig.add_subplot(1,3,i+1)\n",
        "                _=sns.histplot(scale.reshape(-1))\n",
        "                _=plt.title(f\"label :{'Train' if dataset_train.train else 'Test' } Channel:{i+1}\")\n",
        "                _= plt.xlabel(f\"Mean:{round(MEAN[i],3)},std:{round(STD[i],3)},var:{round(VAR[i],3)}\")\n",
        "                _ = plt.autoscale()\n",
        "                _= fig.tight_layout(pad =1)\n",
        "        # print(f\"For {'Train' if dataset_train.train else 'Test'} data, Mean: {MEAN} || Variance: {VAR} || Standard Dev: {STD} || for {mega_data.shape} Dim\")\n",
        "    return tuple(MEAN),tuple(STD)"
      ]
    },
    {
      "cell_type": "code",
      "execution_count": 177,
      "metadata": {
        "colab": {
          "base_uri": "https://localhost:8080/",
          "height": 296
        },
        "id": "sUOh7izWQx4B",
        "outputId": "f0dbd1c4-4c22-455f-c314-1c6c487a69c2"
      },
      "outputs": [
        {
          "output_type": "stream",
          "name": "stdout",
          "text": [
            "Files already downloaded and verified\n",
            "Files already downloaded and verified\n",
            "Train Shape: (50000, 32, 32, 3) Test Shape: (10000, 32, 32, 3) \n",
            "\n"
          ]
        },
        {
          "output_type": "display_data",
          "data": {
            "image/png": "[encoded data removed]",
            "text/plain": [
              "<Figure size 2160x2160 with 10 Axes>"
            ]
          },
          "metadata": {
            "needs_background": "light"
          }
        },
        {
          "output_type": "display_data",
          "data": {
            "image/png": "[encoded data removed]",
            "text/plain": [
              "<Figure size 2160x2160 with 10 Axes>"
            ]
          },
          "metadata": {
            "needs_background": "light"
          }
        }
      ],
      "source": [
        "labels = {0:'airplane',1:'automobile',2:'bird',3:'cat',4:'deer',5:'dog',6:'frog',7:'horse',8:'ship',9:'truck'}\n",
        "train,test = get_data()\n",
        "print(f\"Train Shape: {train.data.shape} Test Shape: {test.data.shape} \\n\")\n",
        "plot_unique_images(train,labels =labels)\n",
        "plot_unique_images(train,labels =labels)"
      ]
    },
    {
      "cell_type": "code",
      "execution_count": 178,
      "metadata": {
        "id": "7y222dwRSTsb"
      },
      "outputs": [],
      "source": [
        "#Calculating mean and veriance and std"
      ]
    },
    {
      "cell_type": "code",
      "execution_count": 179,
      "metadata": {
        "colab": {
          "base_uri": "https://localhost:8080/",
          "height": 69
        },
        "id": "9hmSYR5PWgO7",
        "outputId": "e69444ac-c90c-4da1-a7fe-abce2e7e14a7"
      },
      "outputs": [
        {
          "output_type": "stream",
          "name": "stdout",
          "text": [
            "Mean: (0.49186877885008395, 0.48265390516493006, 0.44717727749693653) \n",
            "STD: (0.2469712143255279, 0.24338893940434994, 0.2615925905215076)\n"
          ]
        },
        {
          "output_type": "display_data",
          "data": {
            "text/plain": [
              "<Figure size 720x360 with 0 Axes>"
            ]
          },
          "metadata": {}
        }
      ],
      "source": [
        "# img_norm_typ  can be 'train' and 'train+test\n",
        "mean,std  = get_data_stats(train,test,img_norm_typ ='train+test',plot = False)\n",
        "print(f\"Mean: {mean} \\nSTD: {std}\")"
      ]
    },
    {
      "cell_type": "markdown",
      "metadata": {
        "id": "xQzYQVeWlC0c"
      },
      "source": [
        "Data Transform Compose"
      ]
    },
    {
      "cell_type": "code",
      "execution_count": 180,
      "metadata": {
        "id": "nOvXHwrSqKJj"
      },
      "outputs": [],
      "source": [
        "# Base Normalization\n",
        "train_transform =A.Compose([A.Resize(32,32),\n",
        "                            A.Normalize(mean = mean,std = std,max_pixel_value=255,always_apply = True),\n",
        "                            ToTensorV2(transpose_mask =False),\n",
        "                            ])      \n",
        "test_transform = A.Compose([A.Resize(32,32),\n",
        "                            A.Normalize(mean = mean,std = std,max_pixel_value=255,always_apply = True),\n",
        "                            ToTensorV2(transpose_mask =False,),\n",
        "                            ])"
      ]
    },
    {
      "cell_type": "code",
      "execution_count": 200,
      "metadata": {
        "colab": {
          "base_uri": "https://localhost:8080/",
          "height": 584
        },
        "id": "oaJ7J8rAqTSr",
        "outputId": "95cff661-598c-4512-a27e-3b6fc40bd5e0"
      },
      "outputs": [
        {
          "output_type": "execute_result",
          "data": {
            "text/plain": [
              "numpy.ndarray"
            ]
          },
          "metadata": {},
          "execution_count": 200
        },
        {
          "output_type": "display_data",
          "data": {
            "image/png": "[encoded data removed]",
            "text/plain": [
              "<Figure size 432x288 with 1 Axes>"
            ]
          },
          "metadata": {
            "needs_background": "light"
          }
        },
        {
          "output_type": "stream",
          "name": "stderr",
          "text": [
            "Clipping input data to the valid range for imshow with RGB data ([0..1] for floats or [0..255] for integers).\n"
          ]
        },
        {
          "output_type": "stream",
          "name": "stdout",
          "text": [
            "Before(32, 32, 3)\n",
            "Aftertorch.Size([3, 32, 32])\n"
          ]
        },
        {
          "output_type": "display_data",
          "data": {
            "image/png": "[encoded data removed]",
            "text/plain": [
              "<Figure size 432x288 with 1 Axes>"
            ]
          },
          "metadata": {
            "needs_background": "light"
          }
        }
      ],
      "source": [
        "t = train.data\n",
        "type(t[10])\n",
        "a = t[np.random.randint(0,50000)]\n",
        "_ = plt.imshow(a)\n",
        "_ = plt.show()\n",
        "print(f\"Before{a.shape}\")\n",
        "# _ = plt.subplots(figsize = (5,5))\n",
        "a = train_transform(image = a)[\"image\"]\n",
        "print(f\"After{a.shape}\")\n",
        "_ = plt.imshow(np.transpose(a,(1,2,0)))\n",
        "# _ = plt.imshow(a)\n",
        "\n",
        "_ = plt.show()"
      ]
    },
    {
      "cell_type": "code",
      "execution_count": 182,
      "metadata": {
        "id": "Z9MBD0jPacQN"
      },
      "outputs": [],
      "source": [
        "# Advanced Normalization\n",
        "# train_transform =A.Compose([A.Resize(32,32),\n",
        "#                             A.Normalize(mean = mean,std = std,max_pixel_value=255,always_apply = True),\n",
        "#                             A.ShiftScaleRotate(always_apply=False),\n",
        "#                             A.CoarseDropout(always_apply = False,max_holes = 1, max_height=16, max_width=16, min_holes = 1, min_height=16, min_width=16, fill_value=mean, mask_fill_value = None),\n",
        "#                             ToTensorV2(transpose_mask =False),\n",
        "#                             ])      \n",
        "# test_transform = A.Compose([A.Resize(32,32),\n",
        "#                             A.Normalize(mean = mean,std = std,max_pixel_value=255,always_apply = True),\n",
        "#                             ToTensorV2(transpose_mask =False),\n",
        "#                             ])"
      ]
    },
    {
      "cell_type": "markdown",
      "metadata": {
        "id": "ErA4gL-Vbp46"
      },
      "source": [
        "Albumentation Compose"
      ]
    },
    {
      "cell_type": "code",
      "execution_count": 183,
      "metadata": {
        "id": "MEmErKJYn3cn"
      },
      "outputs": [],
      "source": [
        "class AlbumDataset(Dataset):\n",
        "    \"\"\"Face Landmarks dataset.\"\"\"\n",
        "\n",
        "    def __init__(self, data,transform=None):\n",
        "        \"\"\"\n",
        "        Args:\n",
        "            csv_file (string): Path to the csv file with annotations.\n",
        "            root_dir (string): Directory with all the images.\n",
        "            transform (callable, optional): Optional transform to be applied\n",
        "                on a sample.\n",
        "        \"\"\"\n",
        "        self.train = train.data\n",
        "        self.label = train.targets\n",
        "        self.transform = transform\n",
        "\n",
        "    def __len__(self):\n",
        "        return (len(self.train))\n",
        "\n",
        "    def __getitem__(self, idx):\n",
        "        image = self.train[idx]\n",
        "        image = np.array(image)\n",
        "        # image = image.fromarray(image).convert('RGB')\n",
        "        # image = np.asarray(image).astype(np.unit8)\n",
        "        if self.transform:\n",
        "            aug_image = self.transform(image= image)[\"image\"]\n",
        "        aug_image = torch.tensor(aug_image,dtype =torch.float)\n",
        "        return aug_image,self.label[idx]"
      ]
    },
    {
      "cell_type": "code",
      "execution_count": 183,
      "metadata": {
        "id": "5BrYDedLaQi2"
      },
      "outputs": [],
      "source": [
        ""
      ]
    },
    {
      "cell_type": "markdown",
      "metadata": {
        "id": "t5HY69M2kKAr"
      },
      "source": [
        "Custom Network Normalization "
      ]
    },
    {
      "cell_type": "code",
      "execution_count": 184,
      "metadata": {
        "id": "r0UaSg3IBa2A"
      },
      "outputs": [],
      "source": [
        "class GhostBatchNorm(nn.BatchNorm2d):\n",
        "    \"\"\"\n",
        "    From : https://github.com/davidcpage/cifar10-fast/blob/master/bag_of_tricks.ipynb\n",
        "\n",
        "    Batch norm seems to work best with batch size of around 32. The reasons presumably have to do \n",
        "    with noise in the batch statistics and specifically a balance between a beneficial regularising effect \n",
        "    at intermediate batch sizes and an excess of noise at small batches.\n",
        "    \n",
        "    Our batches are of size 512 and we can't afford to reduce them without taking a serious hit on training times, \n",
        "    but we can apply batch norm separately to subsets of a training batch. This technique, known as 'ghost' batch \n",
        "    norm, is usually used in a distributed setting but is just as useful when using large batches on a single node. \n",
        "    It isn't supported directly in PyTorch but we can roll our own easily enough.\n",
        "    \"\"\"\n",
        "    def __init__(self, num_features, num_splits, eps=1e-05, momentum=0.1, weight=True, bias=True):\n",
        "        super(GhostBatchNorm, self).__init__(num_features, eps=eps, momentum=momentum)\n",
        "        self.weight.data.fill_(1.0)\n",
        "        self.bias.data.fill_(0.0)\n",
        "        self.weight.requires_grad = weight\n",
        "        self.bias.requires_grad = bias        \n",
        "        self.num_splits = num_splits\n",
        "        self.register_buffer('running_mean', torch.zeros(num_features*self.num_splits))\n",
        "        self.register_buffer('running_var', torch.ones(num_features*self.num_splits))\n",
        "\n",
        "    def train(self, mode=True):\n",
        "        if (self.training is True) and (mode is False):\n",
        "            self.running_mean = torch.mean(self.running_mean.view(self.num_splits, self.num_features), dim=0).repeat(self.num_splits)\n",
        "            self.running_var = torch.mean(self.running_var.view(self.num_splits, self.num_features), dim=0).repeat(self.num_splits)\n",
        "        return super(GhostBatchNorm, self).train(mode)\n",
        "        \n",
        "    def forward(self, input):\n",
        "        N, C, H, W = input.shape\n",
        "        if self.training or not self.track_running_stats:\n",
        "            return F.batch_norm(\n",
        "                input.view(-1, C*self.num_splits, H, W), self.running_mean, self.running_var, \n",
        "                self.weight.repeat(self.num_splits), self.bias.repeat(self.num_splits),\n",
        "                True, self.momentum, self.eps).view(N, C, H, W) \n",
        "        else:\n",
        "            return F.batch_norm(\n",
        "                input, self.running_mean[:self.num_features], self.running_var[:self.num_features], \n",
        "                self.weight, self.bias, False, self.momentum, self.eps)\n",
        "\n",
        "\n",
        "def Normalize(norm_type,num_features,n_group=2):\n",
        "    if norm_type == 'bn':\n",
        "        return nn.BatchNorm2d(num_features = num_features)\n",
        "\n",
        "    elif norm_type =='gn':\n",
        "        return nn.GroupNorm(num_groups=n_group ,num_channels=num_features)\n",
        "    \n",
        "    elif norm_type =='ln':\n",
        "        return nn.GroupNorm(num_groups =1, num_channels=num_features)\n",
        "\n",
        "    elif norm_type == 'gbn':\n",
        "        return  GhostBatchNorm(num_features, num_splits=4, weight=False)\n",
        "        \n",
        "    else:\n",
        "        print ('Invalid norm Parameter, Providing Default as BN ')\n",
        "        return nn.BatchNorm2d(num_features = num_features,)"
      ]
    },
    {
      "cell_type": "code",
      "execution_count": 184,
      "metadata": {
        "id": "av5b7c4qkdiz"
      },
      "outputs": [],
      "source": [
        ""
      ]
    },
    {
      "cell_type": "markdown",
      "metadata": {
        "id": "vSYBqMQS_-Tf"
      },
      "source": [
        "Custom Convolution Blocks"
      ]
    },
    {
      "cell_type": "code",
      "execution_count": 185,
      "metadata": {
        "id": "1sYqJno_Oifq"
      },
      "outputs": [],
      "source": [
        "class Depthwise_sep_conv(nn.Module):\n",
        "    def __init__(self,in_channels,out_channels,dropout_val=0.1,norm_type = 'bn',stride = 1):\n",
        "        super(Depthwise_sep_conv,self).__init__()\n",
        "        self.in_channels  = in_channels\n",
        "        self.out_channels = out_channels\n",
        "        self.stride = stride\n",
        "        self.dropout_val = dropout_val\n",
        "        self.norm_type = norm_type\n",
        "\n",
        "        self.deptwiseseperable = nn.Conv2d(in_channels=self.in_channels, out_channels=self.in_channels,kernel_size =(3,3), stride = self.stride,padding = 1,groups = self.in_channels, bias = False)\n",
        "        self.pointwise = nn.Conv2d(in_channels=self.in_channels, out_channels=self.out_channels,kernel_size =(1,1), stride =1, bias = False)\n",
        "        self.norm = Normalize(norm_type = self.norm_type ,num_features= self.out_channels)\n",
        "        self.relu = nn.ReLU()\n",
        "        self.drop = nn.Dropout2d(p = self.dropout_val)\n",
        "    \n",
        "    def forward(self,x):\n",
        "        x = self.deptwiseseperable(x)\n",
        "        x = self.pointwise(x)\n",
        "        x = self.relu(x)\n",
        "        x = self.drop(x)\n",
        "        return x"
      ]
    },
    {
      "cell_type": "code",
      "execution_count": 186,
      "metadata": {
        "id": "i2imTJ9DCj2d"
      },
      "outputs": [],
      "source": [
        "class ConvBlock(nn.Module):\n",
        "    def __init__(self,in_channels,out_channels,stride,padding,kernel_size=(3,3),norm_type = 'bn' ,dropout_val = 0):\n",
        "        super(ConvBlock,self).__init__()\n",
        "        self.in_channels = in_channels\n",
        "        self.out_channels = out_channels\n",
        "        self.stride=stride\n",
        "        self.padding= padding\n",
        "        self.kernel_size=kernel_size\n",
        "        self.norm_type = norm_type\n",
        "        self.dropout_val = dropout_val\n",
        "\n",
        "        self.conv = nn.Conv2d(in_channels=self.in_channels, out_channels=self.out_channels,kernel_size=self.kernel_size,stride =self.stride,padding = self.padding,bias = False)\n",
        "        self.norm = Normalize(norm_type = self.norm_type ,num_features= self.out_channels)\n",
        "        self.relu = nn.ReLU()\n",
        "        self.drop = nn.Dropout2d(p = self.dropout_val)\n",
        "\n",
        "    def forward(self,x):\n",
        "        x = self.relu(self.norm(self.conv(x)))\n",
        "        x= self.drop(x)\n",
        "        return x"
      ]
    },
    {
      "cell_type": "markdown",
      "metadata": {
        "id": "nrN8Y-yAkfOy"
      },
      "source": [
        "Model Building"
      ]
    },
    {
      "cell_type": "code",
      "execution_count": 187,
      "metadata": {
        "id": "j2S-NcgznQXh"
      },
      "outputs": [],
      "source": [
        "class Cifar10Net1(nn.Module):\n",
        "    def __init__(self,dropout_val = 0,norm_type = 'bn'):\n",
        "        super(Cifar10Net1,self).__init__()\n",
        "        self.norm_type = norm_type\n",
        "        self.drop = dropout_val\n",
        "\n",
        "        self.block1 = nn.Sequential(\n",
        "            ConvBlock(in_channels=3,out_channels=8,kernel_size = (3,3),stride = 1, padding = 0,norm_type = self.norm_type,dropout_val= self.drop),\n",
        "            ConvBlock(in_channels=8,out_channels=8,kernel_size = (3,3),stride = 1, padding = 1,norm_type = self.norm_type,dropout_val= self.drop),\n",
        "            ConvBlock(in_channels=8,out_channels=16,kernel_size = (3,3),stride = 1, padding = 1,norm_type = self.norm_type,dropout_val= self.drop),\n",
        "            )#Input : 32x32x3 |  Outout: 32x32x32 |  RF: 5x5\n",
        "        \n",
        "        self.pool1 =ConvBlock(in_channels=16,out_channels=16,kernel_size = (3,3),stride = 2, padding = 1,norm_type = self.norm_type,dropout_val= self.drop)\n",
        "\n",
        "\n",
        "        self.block2 = nn.Sequential(\n",
        "            ConvBlock(in_channels=16,out_channels=16,kernel_size = (3,3),stride = 1, padding = 1,norm_type = self.norm_type,dropout_val= self.drop),\n",
        "            ConvBlock(in_channels=16,out_channels=32,kernel_size = (3,3),stride = 1, padding = 1,norm_type = self.norm_type,dropout_val= self.drop),\n",
        "            ConvBlock(in_channels=32,out_channels=32,kernel_size = (3,3),stride = 1, padding = 1,norm_type = self.norm_type,dropout_val= self.drop),\n",
        "            )#Input : 32x32x3 |  Outout: 32x32x32 |  RF: 5x5\n",
        "\n",
        "        self.pool2 = ConvBlock(in_channels=32,out_channels=32,kernel_size = (3,3),stride = 2, padding = 0,norm_type = self.norm_type,dropout_val= self.drop)\n",
        "        \n",
        "        self.block3 = nn.Sequential(\n",
        "            ConvBlock(in_channels=32,out_channels=32,kernel_size = (3,3),stride = 1, padding =0,norm_type = self.norm_type,dropout_val= self.drop),\n",
        "            ConvBlock(in_channels=32,out_channels=64,kernel_size = (3,3),stride = 1, padding =1,norm_type = self.norm_type,dropout_val= self.drop),\n",
        "            ConvBlock(in_channels=64,out_channels=64,kernel_size = (3,3),stride = 1, padding =0,norm_type = self.norm_type,dropout_val= self.drop),\n",
        "            )#Input : 32x32x3 |  Outout: 32x32x32 |  RF: 5x5\n",
        "\n",
        "        self.conv_block1 = nn.Conv2d(in_channels=64,out_channels=16,kernel_size = (1,1),stride = 1, padding =0)\n",
        "        self.conv_block2 = nn.Conv2d(in_channels=16,out_channels=32,kernel_size = (3,3),stride = 1, padding =0)\n",
        "        self.conv_block3 = nn.Conv2d(in_channels=32,out_channels=10,kernel_size = (1,1),stride = 1, padding =0)\n",
        "\n",
        "\n",
        "    def forward(self,x):\n",
        "        x = self.block1(x)\n",
        "        x = self.pool1(x)\n",
        "        x = self.block2(x)\n",
        "        x = self.pool2(x)\n",
        "        x = self.block3(x)\n",
        "        x = self.conv_block1(x)\n",
        "        x = self.conv_block2(x)\n",
        "        x = self.conv_block3(x)\n",
        "\n",
        "        # return x\n",
        "        x = x.view(-1,10)\n",
        "        return F.log_softmax(x,dim = -1)"
      ]
    },
    {
      "cell_type": "code",
      "execution_count": 188,
      "metadata": {
        "id": "s4vqR3KnO44t"
      },
      "outputs": [],
      "source": [
        "# # Keeping this arch For referance\n",
        "# class Cifar10Net(nn.Module):\n",
        "#     def __init__(self,dropout_val = 0,norm_type = 'bn'):\n",
        "#         super(Cifar10Net,self).__init__()\n",
        "#         self.norm_type = norm_type\n",
        "#         self.drop = dropout_val\n",
        "\n",
        "#         self.block1 = nn.Sequential(\n",
        "#             ConvBlock(in_channels=3,out_channels=16,kernel_size = (3,3),stride = 1, padding = 1,norm_type = self.norm_type,dropout_val= self.drop),\n",
        "#             ConvBlock(in_channels=16,out_channels=32,kernel_size = (3,3),stride = 1, padding = 1,norm_type = self.norm_type,dropout_val= self.drop)\n",
        "#             )\n",
        "        \n",
        "#         self.pool1 = nn.MaxPool2d(kernel_size = (2,2))\n",
        "\n",
        "#         self.block2 = nn.Sequential(\n",
        "#            ConvBlock(in_channels=32,out_channels=16,kernel_size = (1,1),stride = 1, padding = 0,norm_type = self.norm_type,dropout_val= self.drop),\n",
        "#            ConvBlock(in_channels=16,out_channels=32,kernel_size = (3,3),stride = 1, padding = 1,norm_type = self.norm_type,dropout_val= self.drop),\n",
        "#            ConvBlock(in_channels=32,out_channels=64,kernel_size = (3,3),stride = 1, padding = 1,norm_type = self.norm_type,dropout_val= self.drop),\n",
        "#            )\n",
        "        \n",
        "#         self.pool2 = nn.MaxPool2d(kernel_size = (2,2))\n",
        "\n",
        "#         self.block3 = nn.Sequential(\n",
        "#            ConvBlock(in_channels=64,out_channels=16,kernel_size = (1,1),stride = 1, padding = 0,norm_type = self.norm_type,dropout_val= self.drop),\n",
        "#            ConvBlock(in_channels=16,out_channels=32,kernel_size = (3,3),stride = 1, padding = 1,norm_type = self.norm_type,dropout_val= self.drop),\n",
        "#            ConvBlock(in_channels=32,out_channels=64,kernel_size = (3,3),stride = 1, padding = 1,norm_type = self.norm_type,dropout_val= self.drop),\n",
        "#            )\n",
        "        \n",
        "#         self.pool3 = nn.MaxPool2d(kernel_size = (2,2))\n",
        "\n",
        "#         self.block4 = nn.Sequential(\n",
        "#            ConvBlock(in_channels=64,out_channels=16,kernel_size = (1,1),stride = 1, padding = 0,norm_type = self.norm_type,dropout_val= self.drop),\n",
        "#            ConvBlock(in_channels=16,out_channels=32,kernel_size = (3,3),stride = 1, padding = 1,norm_type = self.norm_type,dropout_val= self.drop),\n",
        "#            ConvBlock(in_channels=32,out_channels=64,kernel_size = (3,3),stride = 1, padding = 1,norm_type = self.norm_type,dropout_val= self.drop),\n",
        "#            )\n",
        "        \n",
        "#         # self.GAP = nn.AvgPool2d(kernel_size=(4,4))\n",
        "#         self.GAP = nn.AdaptiveAvgPool2d(output_size=(1,1))\n",
        "        \n",
        "#         self.block5 = nn.Sequential(\n",
        "#            ConvBlock(in_channels=64,out_channels=16,kernel_size = (3,3),stride = 1, padding = 1,norm_type = self.norm_type,dropout_val= self.drop),\n",
        "#            ConvBlock(in_channels=16,out_channels=10,kernel_size = (1,1),stride = 1, padding = 0,norm_type = self.norm_type,dropout_val= self.drop),\n",
        "#            )\n",
        "\n",
        "    \n",
        "#     def forward(self,x):\n",
        "#         x = self.block1(x)\n",
        "#         x = self.pool1(x)\n",
        "#         x = self.block2(x)\n",
        "#         x = self.pool2(x)\n",
        "#         x = self.block3(x)\n",
        "#         x = self.pool3(x)\n",
        "#         x = self.block4(x)\n",
        "#         x = self.GAP(x)\n",
        "#         x = self.block5(x)\n",
        "#         x = x.view(-1,10)\n",
        "#         return F.log_softmax(x)"
      ]
    },
    {
      "cell_type": "code",
      "execution_count": 189,
      "metadata": {
        "id": "BXaOiEc8yoVo",
        "colab": {
          "base_uri": "https://localhost:8080/"
        },
        "outputId": "ae098733-01a6-48e9-bee2-dc807346ac6a"
      },
      "outputs": [
        {
          "output_type": "stream",
          "name": "stdout",
          "text": [
            "=======================================Reciptive Field Calculator========================================\n",
            "|    | Kernel_size   | Padding   |   Stride | Input_Img_size   | Output_Img_size   | Receptive_field   |\n",
            "|---:|:--------------|:----------|---------:|:-----------------|:------------------|:------------------|\n",
            "|  0 | 3*3           | NO        |        1 | 32*32            | 30*30             | 3*3               |\n",
            "|  1 | 3*3           | 1         |        1 | 30*30            | 30*30             | 5*5               |\n",
            "|  2 | 3*3           | 1         |        1 | 30*30            | 30*30             | 7*7               |\n",
            "|  3 | 3*3           | 1         |        2 | 30*30            | 15*15             | 9*9               |\n",
            "|  4 | 3*3           | 1         |        1 | 15*15            | 15*15             | 13*13             |\n",
            "|  5 | 3*3           | 1         |        1 | 15*15            | 15*15             | 17*17             |\n",
            "|  6 | 3*3           | 1         |        1 | 15*15            | 15*15             | 21*21             |\n",
            "|  7 | 3*3           | NO        |        2 | 15*15            | 7*7               | 25*25             |\n",
            "|  8 | 3*3           | NO        |        1 | 7*7              | 5*5               | 33*33             |\n",
            "|  9 | 3*3           | 1         |        1 | 5*5              | 5*5               | 41*41             |\n",
            "| 10 | 3*3           | NO        |        1 | 5*5              | 3*3               | 49*49             |\n",
            "| 11 | 1*1           | NO        |        1 | 3*3              | 3*3               | 49*49             |\n",
            "| 12 | 3*3           | NO        |        1 | 3*3              | 1*1               | 57*57             |\n",
            "| 13 | 1*1           | NO        |        1 | 1*1              | 1*1               | 57*57             |\n",
            "=========================================================================================================\n",
            "----------------------------------------------------------------\n",
            "        Layer (type)               Output Shape         Param #\n",
            "================================================================\n",
            "            Conv2d-1            [-1, 8, 30, 30]             216\n",
            "       BatchNorm2d-2            [-1, 8, 30, 30]              16\n",
            "              ReLU-3            [-1, 8, 30, 30]               0\n",
            "         Dropout2d-4            [-1, 8, 30, 30]               0\n",
            "         ConvBlock-5            [-1, 8, 30, 30]               0\n",
            "            Conv2d-6            [-1, 8, 30, 30]             576\n",
            "       BatchNorm2d-7            [-1, 8, 30, 30]              16\n",
            "              ReLU-8            [-1, 8, 30, 30]               0\n",
            "         Dropout2d-9            [-1, 8, 30, 30]               0\n",
            "        ConvBlock-10            [-1, 8, 30, 30]               0\n",
            "           Conv2d-11           [-1, 16, 30, 30]           1,152\n",
            "      BatchNorm2d-12           [-1, 16, 30, 30]              32\n",
            "             ReLU-13           [-1, 16, 30, 30]               0\n",
            "        Dropout2d-14           [-1, 16, 30, 30]               0\n",
            "        ConvBlock-15           [-1, 16, 30, 30]               0\n",
            "           Conv2d-16           [-1, 16, 15, 15]           2,304\n",
            "      BatchNorm2d-17           [-1, 16, 15, 15]              32\n",
            "             ReLU-18           [-1, 16, 15, 15]               0\n",
            "        Dropout2d-19           [-1, 16, 15, 15]               0\n",
            "        ConvBlock-20           [-1, 16, 15, 15]               0\n",
            "           Conv2d-21           [-1, 16, 15, 15]           2,304\n",
            "      BatchNorm2d-22           [-1, 16, 15, 15]              32\n",
            "             ReLU-23           [-1, 16, 15, 15]               0\n",
            "        Dropout2d-24           [-1, 16, 15, 15]               0\n",
            "        ConvBlock-25           [-1, 16, 15, 15]               0\n",
            "           Conv2d-26           [-1, 32, 15, 15]           4,608\n",
            "      BatchNorm2d-27           [-1, 32, 15, 15]              64\n",
            "             ReLU-28           [-1, 32, 15, 15]               0\n",
            "        Dropout2d-29           [-1, 32, 15, 15]               0\n",
            "        ConvBlock-30           [-1, 32, 15, 15]               0\n",
            "           Conv2d-31           [-1, 32, 15, 15]           9,216\n",
            "      BatchNorm2d-32           [-1, 32, 15, 15]              64\n",
            "             ReLU-33           [-1, 32, 15, 15]               0\n",
            "        Dropout2d-34           [-1, 32, 15, 15]               0\n",
            "        ConvBlock-35           [-1, 32, 15, 15]               0\n",
            "           Conv2d-36             [-1, 32, 7, 7]           9,216\n",
            "      BatchNorm2d-37             [-1, 32, 7, 7]              64\n",
            "             ReLU-38             [-1, 32, 7, 7]               0\n",
            "        Dropout2d-39             [-1, 32, 7, 7]               0\n",
            "        ConvBlock-40             [-1, 32, 7, 7]               0\n",
            "           Conv2d-41             [-1, 32, 5, 5]           9,216\n",
            "      BatchNorm2d-42             [-1, 32, 5, 5]              64\n",
            "             ReLU-43             [-1, 32, 5, 5]               0\n",
            "        Dropout2d-44             [-1, 32, 5, 5]               0\n",
            "        ConvBlock-45             [-1, 32, 5, 5]               0\n",
            "           Conv2d-46             [-1, 64, 5, 5]          18,432\n",
            "      BatchNorm2d-47             [-1, 64, 5, 5]             128\n",
            "             ReLU-48             [-1, 64, 5, 5]               0\n",
            "        Dropout2d-49             [-1, 64, 5, 5]               0\n",
            "        ConvBlock-50             [-1, 64, 5, 5]               0\n",
            "           Conv2d-51             [-1, 64, 3, 3]          36,864\n",
            "      BatchNorm2d-52             [-1, 64, 3, 3]             128\n",
            "             ReLU-53             [-1, 64, 3, 3]               0\n",
            "        Dropout2d-54             [-1, 64, 3, 3]               0\n",
            "        ConvBlock-55             [-1, 64, 3, 3]               0\n",
            "           Conv2d-56             [-1, 16, 3, 3]           1,040\n",
            "           Conv2d-57             [-1, 32, 1, 1]           4,640\n",
            "           Conv2d-58             [-1, 10, 1, 1]             330\n",
            "================================================================\n",
            "Total params: 100,754\n",
            "Trainable params: 100,754\n",
            "Non-trainable params: 0\n",
            "----------------------------------------------------------------\n",
            "Input size (MB): 0.01\n",
            "Forward/backward pass size (MB): 2.10\n",
            "Params size (MB): 0.38\n",
            "Estimated Total Size (MB): 2.49\n",
            "----------------------------------------------------------------\n"
          ]
        }
      ],
      "source": [
        "device = 'cuda' if torch.cuda.is_available() else \"cpu\"\n",
        "model = Cifar10Net1(norm_type='bn',dropout_val=0.01).to(device)\n",
        "rf_df = receptive_field(model,32)\n",
        "summary(model,input_size=(3,32,32))"
      ]
    },
    {
      "cell_type": "markdown",
      "metadata": {
        "id": "xzED6q5Qxprf"
      },
      "source": [
        "Model Checks"
      ]
    },
    {
      "cell_type": "code",
      "execution_count": 190,
      "metadata": {
        "id": "mPXuwVAqyoJs"
      },
      "outputs": [],
      "source": [
        "# device = 'cuda' if torch.cuda.is_available() else \"cpu\"\n",
        "# model = Cifar10Net(norm_type='bn',dropout_val=0.01).to(device)\n",
        "# rf_df = receptive_field(model,32)\n",
        "# summary(model,input_size=(3,32,32))"
      ]
    },
    {
      "cell_type": "markdown",
      "metadata": {
        "id": "lYI2ntLCmOem"
      },
      "source": [
        "Loss Function and Optimizers"
      ]
    },
    {
      "cell_type": "code",
      "execution_count": 191,
      "metadata": {
        "id": "a05n4HFDm7XN"
      },
      "outputs": [],
      "source": [
        "def get_optimizer(model_obj,loss_type=None,scheduler = False):\n",
        "    loss_type= str(loss_type).upper()\n",
        "    parameters = model_obj.parameters()\n",
        "    if loss_type  == 'L2' :\n",
        "        optimizer = SGD( params = parameters,lr = 0.01,momentum = 0.9,weight_decay= 0.001)\n",
        "    else:\n",
        "        optimizer = SGD( params = parameters,lr = 0.01,momentum = 0.9)\n",
        "    if scheduler == True:\n",
        "        scheduler = StepLR(optimizer,step_size = 15,gamma = 0.1)\n",
        "        return optimizer,scheduler\n",
        "    else:\n",
        "        return optimizer,_\n",
        "\n",
        "\n",
        "#L1 Loss\n",
        "\n",
        "def L1_loss(model_obj,loss):\n",
        "        \n",
        "    l1 = 0\n",
        "    lambda_l1 = 0.0001\n",
        "    for p in model_obj.parameters():\n",
        "        l1 = l1+p.abs().sum()\n",
        "        loss = loss+ lambda_l1* l1\n",
        "    return loss\n"
      ]
    },
    {
      "cell_type": "markdown",
      "metadata": {
        "id": "PDCps6tdlaSD"
      },
      "source": [
        "Model Performance Visualizer"
      ]
    },
    {
      "cell_type": "code",
      "execution_count": 192,
      "metadata": {
        "id": "wdeuLltCm63m"
      },
      "outputs": [],
      "source": [
        "\n",
        "def plot_acc_loss(typ ,train_acc,train_losses,test_acc,test_losses):\n",
        "    fig, axs = plt.subplots(1,2,figsize = (20,5))\n",
        "    # print ('Accuracy model on  ', typ)\n",
        "    plt.autoscale()\n",
        "    axs[0].plot(train_acc,color = 'red')\n",
        "    axs[0].plot(test_acc,color = 'green')\n",
        "    title = 'Training/testing accuracy'\n",
        "    axs[0].set_title(title)\n",
        "    axs[0].set_ylabel('Accuracy')\n",
        "    axs[0].set_xlabel('Epoch')\n",
        "    axs[0].legend(['train acc','test acc'], loc='best')\n",
        "       \n",
        "    axs[1].plot(train_losses,color = 'red')\n",
        "    axs[1].plot(test_losses,color = 'green')\n",
        "    title = 'Training/Testing Loss'\n",
        "    axs[1].set_title(title)\n",
        "    axs[1].set_ylabel('Loss')\n",
        "    axs[1].set_xlabel('Epoch')\n",
        "    axs[1].legend(['train loss','test loss'], loc='best')\n",
        "    plt.title(typ + ' model Accuracy Vs Loss')\n",
        "\n",
        "    plt.show()\n",
        "    fig.tight_layout(pad = 1.0)"
      ]
    },
    {
      "cell_type": "code",
      "execution_count": 192,
      "metadata": {
        "id": "yazoXKp1leJ8"
      },
      "outputs": [],
      "source": [
        ""
      ]
    },
    {
      "cell_type": "markdown",
      "metadata": {
        "id": "PqRHgxBrldsU"
      },
      "source": [
        "Training / Testing Lopp Blocks"
      ]
    },
    {
      "cell_type": "code",
      "execution_count": 193,
      "metadata": {
        "id": "eX8TODgnnE3m"
      },
      "outputs": [],
      "source": [
        "train_losses = []\n",
        "train_accuracy = []\n",
        "test_losses =[]\n",
        "test_accuracy = []\n",
        "\n",
        "def trainning(model,device,train_data,optimizer,epochs,L1 = False,L2= False):\n",
        "    total_loss = 0\n",
        "    correct = 0\n",
        "    processed = 0\n",
        "\n",
        "    model.train()\n",
        "    pbar = tqdm(train_loader,colour = '\\x1b[34m')\n",
        "    \n",
        "    for index_id,(data,target) in enumerate(pbar):\n",
        "        data,target = data.to(device),target.to(device)\n",
        "        optimizer.zero_grad()\n",
        "        output = model(data)\n",
        "        loss = F.nll_loss(output,target)\n",
        "        if L1 == True:\n",
        "            loss = L1_loss(model,loss)\n",
        "\n",
        "        total_loss += loss\n",
        "        loss.backward()\n",
        "        optimizer.step()\n",
        "        correct += output.argmax(dim = 1).eq(target).sum().item()\n",
        "        processed += len(data)\n",
        "        pbar.set_description(f\"Train ==> Epochs: {epochs} Batch:  {index_id} loss: {loss} Accuracy: { correct/processed *100 :.2f}% \")\n",
        "\n",
        "    acc = correct /processed\n",
        "    total_loss = total_loss.item()/processed\n",
        "    train_losses.append(total_loss)\n",
        "    train_accuracy.append(acc)\n",
        "\n",
        "    return train_losses, train_accuracy\n",
        "\n",
        "\n",
        "def testing(model,device,test_data,optimizer,epochs):\n",
        "    model.eval()\n",
        "    \n",
        "    test_loss = 0\n",
        "    correct = 0\n",
        "    processed = 0\n",
        "    pbar= tqdm(test_loader)\n",
        "    with torch.no_grad():\n",
        "        for id_x,(data,target) in enumerate(pbar):\n",
        "            data,target = data.to(device),target.to(device)\n",
        "\n",
        "            output = model(data)\n",
        "            test_loss += F.nll_loss(output,target,reduce='sum').item()\n",
        "            pred  = output.argmax(dim =1,keepdim = True)\n",
        "\n",
        "            correct += pred.eq(target.view_as(pred)).sum().item()\n",
        "            processed += len(data)\n",
        "            \n",
        "            pbar.set_description(f\"Test ==> Epochs: {epochs} Batch:  {id_x} loss: {test_loss/processed} Accuracy: { correct / processed *100 :.2f}% \")\n",
        "        \n",
        "    acc = correct / processed\n",
        "    test_loss /= processed\n",
        "    test_accuracy.append(acc)\n",
        "    test_losses.append(test_loss)\n",
        "   \n",
        "    \n",
        "    # print('\\nTest set: Average loss: {:.4f}, Accuracy: {}/{} ({:.6f}%)\\n'.format(\n",
        "    #     test_loss, correct, processed, 100. * correct / processed))\n",
        "    \n",
        "    return test_losses,test_accuracy"
      ]
    },
    {
      "cell_type": "markdown",
      "metadata": {
        "id": "I2VpCIJnlngb"
      },
      "source": [
        "After Train data Visualization Block"
      ]
    },
    {
      "cell_type": "code",
      "execution_count": 195,
      "metadata": {
        "id": "APE7jzoKh9N7"
      },
      "outputs": [],
      "source": [
        "def print_wrong_image(model,data_loader,l,b):\n",
        "\n",
        "    if l*b >= 30:\n",
        "        n_images = 50\n",
        "    \n",
        "    labels = {0: 'airplane', 1: 'automobile', 2: 'bird', 3: 'cat', 4: 'deer', 5: 'dog', 6: 'frog', 7: 'horse', 8: 'ship', 9: 'truck'}\n",
        "    wrong_images = []\n",
        "    wrong_labels = []\n",
        "    right_labels = []\n",
        "    val = []\n",
        "    device = \"cuda\" if torch.cuda.is_available() else \"cpu\"\n",
        "\n",
        "    for data,label in data_loader:\n",
        "        data,label = data.to(device),label.to(device)\n",
        "        # _=plt.imshow(np.transpose(data[16].to(\"cpu\"),(1,2,0)))\n",
        "        # _=plt.xlabel(f\"Act:{labels[label[16].item()]} \\n  \")\n",
        "        with torch.no_grad():\n",
        "            out = model(data)\n",
        "            wrong_idx = (out.to(device).argmax(dim = 1).eq(label.to(device)) ==False)\n",
        "            val.extend(out[wrong_idx].to(\"cpu\").max(axis = 1)[0])\n",
        "            wrong_images.extend(data[wrong_idx].to(\"cpu\"))\n",
        "            wrong_labels.extend(out[wrong_idx].argmax(dim = 1).to(\"cpu\"))\n",
        "            right_labels.extend(label[wrong_idx].to(\"cpu\"))\n",
        "\n",
        "    wrong_idx = [i for i in range(0,len(wrong_images))]\n",
        "    idx = [i for i in range(0,len(wrong_labels))]\n",
        "    np.random.shuffle(wrong_idx)\n",
        "    fig = plt.figure(figsize=(2.5*b,5*l))\n",
        "    count = 1\n",
        "    for image_index in wrong_idx:\n",
        "        n= image_index\n",
        "        ax = fig.add_subplot(l,b,count)\n",
        "        # plt.imshow(np.array(np.transpose(data[10].to(\"cpu\"),(1,2,0))))\n",
        "        _=plt.imshow(np.transpose(wrong_images[image_index],(1,2,0)))\n",
        "        # _=plt.title(f\"wrong Images\")\n",
        "        _=plt.xlabel(f\"Act:{labels[right_labels[image_index].item()]} \\n Pred: {labels[wrong_labels[image_index].item()]} \\n Val: {val[image_index].item()}\")\n",
        "        \n",
        "        fig.tight_layout(pad = 0.5)\n",
        "        count+= 1\n",
        "        if count== (l*b)+1:\n",
        "            break\n",
        "    _ = plt.autoscale()\n",
        "    _= plt.show()"
      ]
    },
    {
      "cell_type": "markdown",
      "metadata": {
        "id": "tdl4TYhNlrLz"
      },
      "source": [
        "Model and Dependency Calling block "
      ]
    },
    {
      "cell_type": "code",
      "execution_count": 196,
      "metadata": {
        "id": "6EjpSYB3nJr1"
      },
      "outputs": [],
      "source": [
        "def Run_Model(model_class,train_loader,test_loader,epochs , L1 = False):\n",
        "    \n",
        "    device = \"cuda\" if torch.cuda.is_available() else \"cpu\"\n",
        "    print (f'running on {device} \\n')\n",
        "    #take input as normal_type ['gbn','bn','gn','ln']\n",
        "    model = model_class.to(device)\n",
        "    try:\n",
        "        print(summary(model,input_size = (3,32,32)))\n",
        "    except:\n",
        "        pass\n",
        "\n",
        "    optimizer,scheduler = get_optimizer(model,scheduler = True )\n",
        "    # optimizer = SGD( params = model.parameters(),lr = 0.01,momentum = 0.9)\n",
        "    for EPOCHS in range(0,epochs):\n",
        "        if L1 == True:\n",
        "            train_losses, train_accuracy = trainning(model,device,train_loader,optimizer,EPOCHS,L1 = L1)\n",
        "        else:\n",
        "            train_losses, train_accuracy = trainning(model,device,train_loader,optimizer,EPOCHS)\n",
        "        test_losses,test_accuracy = testing(model,device,test_loader,optimizer,EPOCHS)\n",
        "        scheduler.step()\n",
        "        try:\n",
        "            if (EPOCHS >=3)&(max(test_accuracy[:-1]) < test_accuracy[-1]) & (max(test_accuracy) >= .85):\n",
        "                checkpoint = {'epoch': EPOCHS + 1,'valid_loss_min': test_losses[-1],'state_dict': model.state_dict(),'optimizer': optimizer.state_dict(),} # Export to TorchScript\n",
        "                torch.save(checkpoint ,'./Model_cifar10.pt') # Save\n",
        "                print (f\" Target Achieved: {max(test_accuracy)*100}% Test Accuracy !!\")\n",
        "        except:\n",
        "            print('Model Saving Failed !!')\n",
        "\n",
        "        print (\"LR :{}\\n\".format(scheduler.get_lr()[0]))\n",
        "    return model,train_losses, train_accuracy,test_losses,test_accuracy"
      ]
    },
    {
      "cell_type": "markdown",
      "metadata": {
        "id": "64soTjc6lxPc"
      },
      "source": [
        "Master Pipeline Calling Block\n"
      ]
    },
    {
      "cell_type": "code",
      "execution_count": 197,
      "metadata": {
        "colab": {
          "base_uri": "https://localhost:8080/",
          "height": 1000
        },
        "id": "6ZZpcFj6XZ6l",
        "outputId": "1ecba32f-23df-4ccf-bbc8-04fc07a9c157"
      },
      "outputs": [
        {
          "metadata": {
            "tags": null
          },
          "name": "stdout",
          "output_type": "stream",
          "text": [
            "Files already downloaded and verified\n",
            "Files already downloaded and verified\n",
            "running on cuda \n",
            "\n"
          ]
        },
        {
          "metadata": {
            "tags": null
          },
          "name": "stderr",
          "output_type": "stream",
          "text": [
            "Train ==> Epochs: 0 Batch:  781 loss: 1.4743913412094116 Accuracy: 39.70% : 100%|██████████| 782/782 [00:13<00:00, 58.15it/s]\n",
            "Test ==> Epochs: 0 Batch:  781 loss: 0.020411217241287232 Accuracy: 53.35% : 100%|██████████| 782/782 [00:08<00:00, 87.19it/s]\n"
          ]
        },
        {
          "metadata": {
            "tags": null
          },
          "name": "stdout",
          "output_type": "stream",
          "text": [
            "Model Saving Failed !!\n",
            "LR :0.01\n",
            "\n"
          ]
        },
        {
          "metadata": {
            "tags": null
          },
          "name": "stderr",
          "output_type": "stream",
          "text": [
            "Train ==> Epochs: 1 Batch:  781 loss: 1.3018078804016113 Accuracy: 57.23% : 100%|██████████| 782/782 [00:14<00:00, 55.76it/s]\n",
            "Test ==> Epochs: 1 Batch:  781 loss: 0.016171121329069137 Accuracy: 62.71% : 100%|██████████| 782/782 [00:09<00:00, 86.20it/s]\n"
          ]
        },
        {
          "metadata": {
            "tags": null
          },
          "name": "stdout",
          "output_type": "stream",
          "text": [
            "LR :0.01\n",
            "\n"
          ]
        },
        {
          "metadata": {
            "tags": null
          },
          "name": "stderr",
          "output_type": "stream",
          "text": [
            "Train ==> Epochs: 2 Batch:  781 loss: 1.019760251045227 Accuracy: 64.36% : 100%|██████████| 782/782 [00:13<00:00, 57.06it/s]\n",
            "Test ==> Epochs: 2 Batch:  781 loss: 0.01235444943189621 Accuracy: 72.19% : 100%|██████████| 782/782 [00:09<00:00, 86.37it/s]\n"
          ]
        },
        {
          "metadata": {
            "tags": null
          },
          "name": "stdout",
          "output_type": "stream",
          "text": [
            "LR :0.01\n",
            "\n"
          ]
        },
        {
          "metadata": {
            "tags": null
          },
          "name": "stderr",
          "output_type": "stream",
          "text": [
            "Train ==> Epochs: 3 Batch:  781 loss: 1.507882833480835 Accuracy: 68.33% : 100%|██████████| 782/782 [00:13<00:00, 56.41it/s]\n",
            "Test ==> Epochs: 3 Batch:  781 loss: 0.011091076589822769 Accuracy: 75.15% : 100%|██████████| 782/782 [00:09<00:00, 85.05it/s] \n"
          ]
        },
        {
          "metadata": {
            "tags": null
          },
          "name": "stdout",
          "output_type": "stream",
          "text": [
            "LR :0.01\n",
            "\n"
          ]
        },
        {
          "metadata": {
            "tags": null
          },
          "name": "stderr",
          "output_type": "stream",
          "text": [
            "Train ==> Epochs: 4 Batch:  781 loss: 1.1613751649856567 Accuracy: 70.99% : 100%|██████████| 782/782 [00:13<00:00, 57.09it/s]\n",
            "Test ==> Epochs: 4 Batch:  781 loss: 0.00991270383656025 Accuracy: 77.72% : 100%|██████████| 782/782 [00:09<00:00, 85.71it/s]\n"
          ]
        },
        {
          "metadata": {
            "tags": null
          },
          "name": "stdout",
          "output_type": "stream",
          "text": [
            "LR :0.01\n",
            "\n"
          ]
        },
        {
          "metadata": {
            "tags": null
          },
          "name": "stderr",
          "output_type": "stream",
          "text": [
            "Train ==> Epochs: 5 Batch:  781 loss: 0.5834735631942749 Accuracy: 73.04% : 100%|██████████| 782/782 [00:13<00:00, 56.09it/s]\n",
            "Test ==> Epochs: 5 Batch:  781 loss: 0.009373825637996196 Accuracy: 79.13% : 100%|██████████| 782/782 [00:09<00:00, 86.51it/s]\n"
          ]
        },
        {
          "metadata": {
            "tags": null
          },
          "name": "stdout",
          "output_type": "stream",
          "text": [
            "LR :0.01\n",
            "\n"
          ]
        },
        {
          "metadata": {
            "tags": null
          },
          "name": "stderr",
          "output_type": "stream",
          "text": [
            "Train ==> Epochs: 6 Batch:  781 loss: 1.1937695741653442 Accuracy: 74.54% : 100%|██████████| 782/782 [00:13<00:00, 56.34it/s]\n",
            "Test ==> Epochs: 6 Batch:  781 loss: 0.00867455629646778 Accuracy: 80.81% : 100%|██████████| 782/782 [00:09<00:00, 83.57it/s]\n"
          ]
        },
        {
          "metadata": {
            "tags": null
          },
          "name": "stdout",
          "output_type": "stream",
          "text": [
            "LR :0.01\n",
            "\n"
          ]
        },
        {
          "metadata": {
            "tags": null
          },
          "name": "stderr",
          "output_type": "stream",
          "text": [
            "Train ==> Epochs: 7 Batch:  781 loss: 0.8837451934814453 Accuracy: 76.07% : 100%|██████████| 782/782 [00:14<00:00, 55.26it/s]\n",
            "Test ==> Epochs: 7 Batch:  781 loss: 0.00818934119194746 Accuracy: 81.81% : 100%|██████████| 782/782 [00:09<00:00, 84.86it/s] \n"
          ]
        },
        {
          "metadata": {
            "tags": null
          },
          "name": "stdout",
          "output_type": "stream",
          "text": [
            "LR :0.01\n",
            "\n"
          ]
        },
        {
          "metadata": {
            "tags": null
          },
          "name": "stderr",
          "output_type": "stream",
          "text": [
            "Train ==> Epochs: 8 Batch:  781 loss: 1.1654949188232422 Accuracy: 77.17% : 100%|██████████| 782/782 [00:14<00:00, 55.21it/s]\n",
            "Test ==> Epochs: 8 Batch:  781 loss: 0.007420265202224254 Accuracy: 83.56% : 100%|██████████| 782/782 [00:20<00:00, 37.96it/s]\n"
          ]
        },
        {
          "metadata": {
            "tags": null
          },
          "name": "stdout",
          "output_type": "stream",
          "text": [
            "LR :0.01\n",
            "\n"
          ]
        },
        {
          "metadata": {
            "tags": null
          },
          "name": "stderr",
          "output_type": "stream",
          "text": [
            "Train ==> Epochs: 9 Batch:  781 loss: 0.752868115901947 Accuracy: 78.23% : 100%|██████████| 782/782 [00:14<00:00, 54.57it/s]\n",
            "Test ==> Epochs: 9 Batch:  781 loss: 0.007260592010617256 Accuracy: 84.02% : 100%|██████████| 782/782 [00:09<00:00, 86.18it/s]\n"
          ]
        },
        {
          "metadata": {
            "tags": null
          },
          "name": "stdout",
          "output_type": "stream",
          "text": [
            "LR :0.01\n",
            "\n"
          ]
        },
        {
          "metadata": {
            "tags": null
          },
          "name": "stderr",
          "output_type": "stream",
          "text": [
            "Train ==> Epochs: 10 Batch:  781 loss: 0.7393979430198669 Accuracy: 79.25% : 100%|██████████| 782/782 [00:13<00:00, 56.55it/s]\n",
            "Test ==> Epochs: 10 Batch:  781 loss: 0.006490746673345565 Accuracy: 85.91% : 100%|██████████| 782/782 [00:09<00:00, 83.33it/s]\n"
          ]
        },
        {
          "metadata": {
            "tags": null
          },
          "name": "stdout",
          "output_type": "stream",
          "text": [
            " Target Achieved: 85.912% Test Accuracy !!\n",
            "LR :0.01\n",
            "\n"
          ]
        },
        {
          "metadata": {
            "tags": null
          },
          "name": "stderr",
          "output_type": "stream",
          "text": [
            "Train ==> Epochs: 11 Batch:  781 loss: 0.7039241194725037 Accuracy: 79.96% : 100%|██████████| 782/782 [00:36<00:00, 21.71it/s]\n",
            "Test ==> Epochs: 11 Batch:  781 loss: 0.006080506590008736 Accuracy: 86.60% : 100%|██████████| 782/782 [00:08<00:00, 87.59it/s]\n"
          ]
        },
        {
          "metadata": {
            "tags": null
          },
          "name": "stdout",
          "output_type": "stream",
          "text": [
            " Target Achieved: 86.59599999999999% Test Accuracy !!\n",
            "LR :0.01\n",
            "\n"
          ]
        },
        {
          "metadata": {
            "tags": null
          },
          "name": "stderr",
          "output_type": "stream",
          "text": [
            "Train ==> Epochs: 12 Batch:  781 loss: 0.5631643533706665 Accuracy: 80.86% : 100%|██████████| 782/782 [00:13<00:00, 57.18it/s]\n",
            "Test ==> Epochs: 12 Batch:  781 loss: 0.005688803659230471 Accuracy: 87.67% : 100%|██████████| 782/782 [00:09<00:00, 86.41it/s]\n"
          ]
        },
        {
          "metadata": {
            "tags": null
          },
          "name": "stdout",
          "output_type": "stream",
          "text": [
            " Target Achieved: 87.666% Test Accuracy !!\n",
            "LR :0.01\n",
            "\n"
          ]
        },
        {
          "metadata": {
            "tags": null
          },
          "name": "stderr",
          "output_type": "stream",
          "text": [
            "Train ==> Epochs: 13 Batch:  781 loss: 0.8895405530929565 Accuracy: 81.44% : 100%|██████████| 782/782 [00:13<00:00, 56.41it/s]\n",
            "Test ==> Epochs: 13 Batch:  781 loss: 0.005418186560571194 Accuracy: 88.24% : 100%|██████████| 782/782 [00:08<00:00, 87.33it/s]\n"
          ]
        },
        {
          "metadata": {
            "tags": null
          },
          "name": "stdout",
          "output_type": "stream",
          "text": [
            " Target Achieved: 88.242% Test Accuracy !!\n",
            "LR :0.01\n",
            "\n"
          ]
        },
        {
          "metadata": {
            "tags": null
          },
          "name": "stderr",
          "output_type": "stream",
          "text": [
            "Train ==> Epochs: 14 Batch:  781 loss: 0.5496236681938171 Accuracy: 82.14% : 100%|██████████| 782/782 [00:15<00:00, 50.51it/s]\n",
            "Test ==> Epochs: 14 Batch:  781 loss: 0.005191843219846487 Accuracy: 88.60% : 100%|██████████| 782/782 [00:08<00:00, 87.68it/s] \n"
          ]
        },
        {
          "metadata": {
            "tags": null
          },
          "name": "stdout",
          "output_type": "stream",
          "text": [
            " Target Achieved: 88.6% Test Accuracy !!\n",
            "LR :0.0001\n",
            "\n"
          ]
        },
        {
          "metadata": {
            "tags": null
          },
          "name": "stderr",
          "output_type": "stream",
          "text": [
            "Train ==> Epochs: 15 Batch:  781 loss: 0.44435951113700867 Accuracy: 86.17% : 100%|██████████| 782/782 [00:14<00:00, 55.70it/s]\n",
            "Test ==> Epochs: 15 Batch:  781 loss: 0.0037453776470571755 Accuracy: 92.37% : 100%|██████████| 782/782 [00:08<00:00, 87.02it/s] \n"
          ]
        },
        {
          "metadata": {
            "tags": null
          },
          "name": "stdout",
          "output_type": "stream",
          "text": [
            " Target Achieved: 92.36999999999999% Test Accuracy !!\n",
            "LR :0.001\n",
            "\n"
          ]
        },
        {
          "metadata": {
            "tags": null
          },
          "name": "stderr",
          "output_type": "stream",
          "text": [
            "Train ==> Epochs: 16 Batch:  781 loss: 0.6269504427909851 Accuracy: 87.61% : 100%|██████████| 782/782 [00:13<00:00, 56.09it/s]\n",
            "Test ==> Epochs: 16 Batch:  781 loss: 0.003412481643855572 Accuracy: 93.05% : 100%|██████████| 782/782 [00:08<00:00, 86.94it/s]\n"
          ]
        },
        {
          "metadata": {
            "tags": null
          },
          "name": "stdout",
          "output_type": "stream",
          "text": [
            " Target Achieved: 93.052% Test Accuracy !!\n",
            "LR :0.001\n",
            "\n"
          ]
        },
        {
          "metadata": {
            "tags": null
          },
          "name": "stderr",
          "output_type": "stream",
          "text": [
            "Train ==> Epochs: 17 Batch:  781 loss: 0.2346750944852829 Accuracy: 87.96% : 100%|██████████| 782/782 [00:13<00:00, 56.74it/s]\n",
            "Test ==> Epochs: 17 Batch:  781 loss: 0.0031274100141227244 Accuracy: 93.68% : 100%|██████████| 782/782 [00:10<00:00, 71.78it/s]\n"
          ]
        },
        {
          "metadata": {
            "tags": null
          },
          "name": "stdout",
          "output_type": "stream",
          "text": [
            " Target Achieved: 93.684% Test Accuracy !!\n",
            "LR :0.001\n",
            "\n"
          ]
        },
        {
          "metadata": {
            "tags": null
          },
          "name": "stderr",
          "output_type": "stream",
          "text": [
            "Train ==> Epochs: 18 Batch:  781 loss: 0.2388908565044403 Accuracy: 88.52% : 100%|██████████| 782/782 [00:13<00:00, 57.11it/s]\n",
            "Test ==> Epochs: 18 Batch:  781 loss: 0.002941203701719642 Accuracy: 94.20% : 100%|██████████| 782/782 [00:08<00:00, 87.62it/s]\n"
          ]
        },
        {
          "metadata": {
            "tags": null
          },
          "name": "stdout",
          "output_type": "stream",
          "text": [
            " Target Achieved: 94.204% Test Accuracy !!\n",
            "LR :0.001\n",
            "\n"
          ]
        },
        {
          "metadata": {
            "tags": null
          },
          "name": "stderr",
          "output_type": "stream",
          "text": [
            "Train ==> Epochs: 19 Batch:  781 loss: 0.16759593784809113 Accuracy: 88.85% : 100%|██████████| 782/782 [00:13<00:00, 56.21it/s]\n",
            "Test ==> Epochs: 19 Batch:  781 loss: 0.002809046552926302 Accuracy: 94.44% : 100%|██████████| 782/782 [00:09<00:00, 86.54it/s]\n"
          ]
        },
        {
          "metadata": {
            "tags": null
          },
          "name": "stdout",
          "output_type": "stream",
          "text": [
            " Target Achieved: 94.44399999999999% Test Accuracy !!\n",
            "LR :0.001\n",
            "\n"
          ]
        },
        {
          "metadata": {
            "tags": null
          },
          "name": "stderr",
          "output_type": "stream",
          "text": [
            "Train ==> Epochs: 20 Batch:  781 loss: 0.28167489171028137 Accuracy: 89.08% : 100%|██████████| 782/782 [00:13<00:00, 56.33it/s]\n",
            "Test ==> Epochs: 20 Batch:  781 loss: 0.0026367611363530157 Accuracy: 94.85% : 100%|██████████| 782/782 [00:09<00:00, 84.56it/s]\n"
          ]
        },
        {
          "metadata": {
            "tags": null
          },
          "name": "stdout",
          "output_type": "stream",
          "text": [
            " Target Achieved: 94.852% Test Accuracy !!\n",
            "LR :0.001\n",
            "\n"
          ]
        },
        {
          "metadata": {
            "tags": null
          },
          "name": "stderr",
          "output_type": "stream",
          "text": [
            "Train ==> Epochs: 21 Batch:  781 loss: 0.43499141931533813 Accuracy: 89.25% : 100%|██████████| 782/782 [00:13<00:00, 56.78it/s]\n",
            "Test ==> Epochs: 21 Batch:  781 loss: 0.0024925591310858727 Accuracy: 95.12% : 100%|██████████| 782/782 [00:08<00:00, 87.24it/s]\n"
          ]
        },
        {
          "metadata": {
            "tags": null
          },
          "name": "stdout",
          "output_type": "stream",
          "text": [
            " Target Achieved: 95.122% Test Accuracy !!\n",
            "LR :0.001\n",
            "\n"
          ]
        },
        {
          "metadata": {
            "tags": null
          },
          "name": "stderr",
          "output_type": "stream",
          "text": [
            "Train ==> Epochs: 22 Batch:  781 loss: 0.1918511986732483 Accuracy: 89.39% : 100%|██████████| 782/782 [00:16<00:00, 48.26it/s]\n",
            "Test ==> Epochs: 22 Batch:  781 loss: 0.002424510084912181 Accuracy: 95.28% : 100%|██████████| 782/782 [00:09<00:00, 86.04it/s] \n"
          ]
        },
        {
          "metadata": {
            "tags": null
          },
          "name": "stdout",
          "output_type": "stream",
          "text": [
            " Target Achieved: 95.28% Test Accuracy !!\n",
            "LR :0.001\n",
            "\n"
          ]
        },
        {
          "metadata": {
            "tags": null
          },
          "name": "stderr",
          "output_type": "stream",
          "text": [
            "Train ==> Epochs: 23 Batch:  781 loss: 0.48102617263793945 Accuracy: 89.46% : 100%|██████████| 782/782 [00:13<00:00, 56.43it/s]\n",
            "Test ==> Epochs: 23 Batch:  781 loss: 0.002311653701141477 Accuracy: 95.63% : 100%|██████████| 782/782 [00:09<00:00, 85.82it/s]\n"
          ]
        },
        {
          "metadata": {
            "tags": null
          },
          "name": "stdout",
          "output_type": "stream",
          "text": [
            " Target Achieved: 95.626% Test Accuracy !!\n",
            "LR :0.001\n",
            "\n"
          ]
        },
        {
          "metadata": {
            "tags": null
          },
          "name": "stderr",
          "output_type": "stream",
          "text": [
            "Train ==> Epochs: 24 Batch:  781 loss: 0.16097205877304077 Accuracy: 89.83% : 100%|██████████| 782/782 [00:13<00:00, 56.06it/s]\n",
            "Test ==> Epochs: 24 Batch:  781 loss: 0.0022044738233089447 Accuracy: 95.83% : 100%|██████████| 782/782 [00:09<00:00, 85.93it/s]\n"
          ]
        },
        {
          "metadata": {
            "tags": null
          },
          "name": "stdout",
          "output_type": "stream",
          "text": [
            " Target Achieved: 95.83% Test Accuracy !!\n",
            "LR :0.001\n",
            "\n"
          ]
        },
        {
          "metadata": {
            "tags": null
          },
          "name": "stderr",
          "output_type": "stream",
          "text": [
            "Train ==> Epochs: 25 Batch:  781 loss: 0.8322640061378479 Accuracy: 90.10% : 100%|██████████| 782/782 [00:13<00:00, 57.33it/s]\n",
            "Test ==> Epochs: 25 Batch:  781 loss: 0.002065479667261243 Accuracy: 96.19% : 100%|██████████| 782/782 [00:09<00:00, 86.49it/s]\n"
          ]
        },
        {
          "metadata": {
            "tags": null
          },
          "name": "stdout",
          "output_type": "stream",
          "text": [
            " Target Achieved: 96.186% Test Accuracy !!\n",
            "LR :0.001\n",
            "\n"
          ]
        },
        {
          "metadata": {
            "tags": null
          },
          "name": "stderr",
          "output_type": "stream",
          "text": [
            "Train ==> Epochs: 26 Batch:  781 loss: 0.2390771061182022 Accuracy: 90.28% : 100%|██████████| 782/782 [00:13<00:00, 56.34it/s]\n",
            "Test ==> Epochs: 26 Batch:  781 loss: 0.0020129251062870027 Accuracy: 96.30% : 100%|██████████| 782/782 [00:09<00:00, 85.99it/s]\n"
          ]
        },
        {
          "metadata": {
            "tags": null
          },
          "name": "stdout",
          "output_type": "stream",
          "text": [
            " Target Achieved: 96.304% Test Accuracy !!\n",
            "LR :0.001\n",
            "\n"
          ]
        },
        {
          "metadata": {
            "tags": null
          },
          "name": "stderr",
          "output_type": "stream",
          "text": [
            "Train ==> Epochs: 27 Batch:  781 loss: 0.45907238125801086 Accuracy: 90.38% : 100%|██████████| 782/782 [00:13<00:00, 56.53it/s]\n",
            "Test ==> Epochs: 27 Batch:  781 loss: 0.0019326399512588977 Accuracy: 96.47% : 100%|██████████| 782/782 [00:11<00:00, 66.54it/s]\n"
          ]
        },
        {
          "metadata": {
            "tags": null
          },
          "name": "stdout",
          "output_type": "stream",
          "text": [
            " Target Achieved: 96.466% Test Accuracy !!\n",
            "LR :0.001\n",
            "\n"
          ]
        },
        {
          "metadata": {
            "tags": null
          },
          "name": "stderr",
          "output_type": "stream",
          "text": [
            "Train ==> Epochs: 28 Batch:  781 loss: 0.6458605527877808 Accuracy: 90.57% : 100%|██████████| 782/782 [00:13<00:00, 57.19it/s]\n",
            "Test ==> Epochs: 28 Batch:  781 loss: 0.001814023913666606 Accuracy: 96.68% : 100%|██████████| 782/782 [00:08<00:00, 88.86it/s] \n"
          ]
        },
        {
          "metadata": {
            "tags": null
          },
          "name": "stdout",
          "output_type": "stream",
          "text": [
            " Target Achieved: 96.67999999999999% Test Accuracy !!\n",
            "LR :0.001\n",
            "\n"
          ]
        },
        {
          "metadata": {
            "tags": null
          },
          "name": "stderr",
          "output_type": "stream",
          "text": [
            "Train ==> Epochs: 29 Batch:  781 loss: 0.20461967587471008 Accuracy: 90.68% : 100%|██████████| 782/782 [00:13<00:00, 57.14it/s]\n",
            "Test ==> Epochs: 29 Batch:  781 loss: 0.0017654652158915997 Accuracy: 96.92% : 100%|██████████| 782/782 [00:08<00:00, 87.61it/s]\n"
          ]
        },
        {
          "metadata": {
            "tags": null
          },
          "name": "stdout",
          "output_type": "stream",
          "text": [
            " Target Achieved: 96.92% Test Accuracy !!\n",
            "LR :1e-05\n",
            "\n"
          ]
        },
        {
          "metadata": {
            "tags": null
          },
          "name": "stderr",
          "output_type": "stream",
          "text": [
            "Train ==> Epochs: 30 Batch:  781 loss: 0.24810552597045898 Accuracy: 91.54% : 100%|██████████| 782/782 [00:13<00:00, 57.19it/s]\n",
            "Test ==> Epochs: 30 Batch:  781 loss: 0.0016787736557796597 Accuracy: 97.07% : 100%|██████████| 782/782 [00:09<00:00, 84.82it/s]\n"
          ]
        },
        {
          "metadata": {
            "tags": null
          },
          "name": "stdout",
          "output_type": "stream",
          "text": [
            " Target Achieved: 97.072% Test Accuracy !!\n",
            "LR :0.0001\n",
            "\n"
          ]
        },
        {
          "metadata": {
            "tags": null
          },
          "name": "stderr",
          "output_type": "stream",
          "text": [
            "Train ==> Epochs: 31 Batch:  781 loss: 0.2604341208934784 Accuracy: 91.43% : 100%|██████████| 782/782 [00:13<00:00, 57.02it/s]\n",
            "Test ==> Epochs: 31 Batch:  781 loss: 0.0016467504458874463 Accuracy: 97.15% : 100%|██████████| 782/782 [00:08<00:00, 87.92it/s]\n"
          ]
        },
        {
          "metadata": {
            "tags": null
          },
          "name": "stdout",
          "output_type": "stream",
          "text": [
            " Target Achieved: 97.15% Test Accuracy !!\n",
            "LR :0.0001\n",
            "\n"
          ]
        },
        {
          "metadata": {
            "tags": null
          },
          "name": "stderr",
          "output_type": "stream",
          "text": [
            "Train ==> Epochs: 32 Batch:  781 loss: 0.5039201378822327 Accuracy: 91.64% : 100%|██████████| 782/782 [00:13<00:00, 56.94it/s]\n",
            "Test ==> Epochs: 32 Batch:  781 loss: 0.0016426537974923848 Accuracy: 97.21% : 100%|██████████| 782/782 [00:08<00:00, 87.38it/s]\n"
          ]
        },
        {
          "metadata": {
            "tags": null
          },
          "name": "stdout",
          "output_type": "stream",
          "text": [
            " Target Achieved: 97.21% Test Accuracy !!\n",
            "LR :0.0001\n",
            "\n"
          ]
        },
        {
          "metadata": {
            "tags": null
          },
          "name": "stderr",
          "output_type": "stream",
          "text": [
            "Train ==> Epochs: 33 Batch:  781 loss: 0.44391462206840515 Accuracy: 91.73% : 100%|██████████| 782/782 [00:13<00:00, 56.98it/s]\n",
            "Test ==> Epochs: 33 Batch:  781 loss: 0.0016290876557305456 Accuracy: 97.22% : 100%|██████████| 782/782 [00:08<00:00, 89.27it/s]\n"
          ]
        },
        {
          "metadata": {
            "tags": null
          },
          "name": "stdout",
          "output_type": "stream",
          "text": [
            " Target Achieved: 97.22% Test Accuracy !!\n",
            "LR :0.0001\n",
            "\n"
          ]
        },
        {
          "metadata": {
            "tags": null
          },
          "name": "stderr",
          "output_type": "stream",
          "text": [
            "Train ==> Epochs: 34 Batch:  781 loss: 0.24680356681346893 Accuracy: 91.55% : 100%|██████████| 782/782 [00:13<00:00, 58.22it/s]\n",
            "Test ==> Epochs: 34 Batch:  781 loss: 0.0016158486241102219 Accuracy: 97.24% : 100%|██████████| 782/782 [00:12<00:00, 64.04it/s] \n"
          ]
        },
        {
          "metadata": {
            "tags": null
          },
          "name": "stdout",
          "output_type": "stream",
          "text": [
            " Target Achieved: 97.244% Test Accuracy !!\n",
            "LR :0.0001\n",
            "\n"
          ]
        },
        {
          "metadata": {
            "tags": null
          },
          "name": "stderr",
          "output_type": "stream",
          "text": [
            "Train ==> Epochs: 35 Batch:  781 loss: 0.7991498112678528 Accuracy: 91.66% : 100%|██████████| 782/782 [00:13<00:00, 58.29it/s]\n",
            "Test ==> Epochs: 35 Batch:  781 loss: 0.001610876281261444 Accuracy: 97.33% : 100%|██████████| 782/782 [00:08<00:00, 87.97it/s]\n"
          ]
        },
        {
          "metadata": {
            "tags": null
          },
          "name": "stdout",
          "output_type": "stream",
          "text": [
            " Target Achieved: 97.332% Test Accuracy !!\n",
            "LR :0.0001\n",
            "\n"
          ]
        },
        {
          "metadata": {
            "tags": null
          },
          "name": "stderr",
          "output_type": "stream",
          "text": [
            "Train ==> Epochs: 36 Batch:  781 loss: 0.6617695093154907 Accuracy: 91.77% : 100%|██████████| 782/782 [00:13<00:00, 57.14it/s]\n",
            "Test ==> Epochs: 36 Batch:  781 loss: 0.0015798043302074074 Accuracy: 97.31% : 100%|██████████| 782/782 [00:08<00:00, 89.75it/s]\n"
          ]
        },
        {
          "metadata": {
            "tags": null
          },
          "name": "stdout",
          "output_type": "stream",
          "text": [
            "LR :0.0001\n",
            "\n"
          ]
        },
        {
          "metadata": {
            "tags": null
          },
          "name": "stderr",
          "output_type": "stream",
          "text": [
            "Train ==> Epochs: 37 Batch:  781 loss: 0.4120190441608429 Accuracy: 91.60% : 100%|██████████| 782/782 [00:13<00:00, 56.92it/s]\n",
            "Test ==> Epochs: 37 Batch:  781 loss: 0.0015649104726687074 Accuracy: 97.37% : 100%|██████████| 782/782 [00:08<00:00, 87.82it/s]\n"
          ]
        },
        {
          "metadata": {
            "tags": null
          },
          "name": "stdout",
          "output_type": "stream",
          "text": [
            " Target Achieved: 97.372% Test Accuracy !!\n",
            "LR :0.0001\n",
            "\n"
          ]
        },
        {
          "metadata": {
            "tags": null
          },
          "name": "stderr",
          "output_type": "stream",
          "text": [
            "Train ==> Epochs: 38 Batch:  781 loss: 0.06782551854848862 Accuracy: 91.85% : 100%|██████████| 782/782 [00:13<00:00, 56.72it/s]\n",
            "Test ==> Epochs: 38 Batch:  781 loss: 0.001557290740273893 Accuracy: 97.39% : 100%|██████████| 782/782 [00:08<00:00, 88.68it/s] \n"
          ]
        },
        {
          "metadata": {
            "tags": null
          },
          "name": "stdout",
          "output_type": "stream",
          "text": [
            " Target Achieved: 97.394% Test Accuracy !!\n",
            "LR :0.0001\n",
            "\n"
          ]
        },
        {
          "metadata": {
            "tags": null
          },
          "name": "stderr",
          "output_type": "stream",
          "text": [
            "Train ==> Epochs: 39 Batch:  781 loss: 0.3979611396789551 Accuracy: 91.65% : 100%|██████████| 782/782 [00:13<00:00, 57.56it/s]\n",
            "Test ==> Epochs: 39 Batch:  781 loss: 0.0015540708697587252 Accuracy: 97.39% : 100%|██████████| 782/782 [00:08<00:00, 89.40it/s]\n"
          ]
        },
        {
          "metadata": {
            "tags": null
          },
          "name": "stdout",
          "output_type": "stream",
          "text": [
            "LR :0.0001\n",
            "\n"
          ]
        },
        {
          "metadata": {
            "tags": null
          },
          "name": "stderr",
          "output_type": "stream",
          "text": [
            "Train ==> Epochs: 40 Batch:  781 loss: 0.19024161994457245 Accuracy: 91.66% : 100%|██████████| 782/782 [00:13<00:00, 56.94it/s]\n",
            "Test ==> Epochs: 40 Batch:  781 loss: 0.0015349691803753377 Accuracy: 97.41% : 100%|██████████| 782/782 [00:08<00:00, 87.76it/s]\n"
          ]
        },
        {
          "metadata": {
            "tags": null
          },
          "name": "stdout",
          "output_type": "stream",
          "text": [
            " Target Achieved: 97.414% Test Accuracy !!\n",
            "LR :0.0001\n",
            "\n"
          ]
        },
        {
          "metadata": {
            "tags": null
          },
          "name": "stderr",
          "output_type": "stream",
          "text": [
            "Train ==> Epochs: 41 Batch:  781 loss: 0.15503019094467163 Accuracy: 91.92% : 100%|██████████| 782/782 [00:13<00:00, 57.37it/s]\n",
            "Test ==> Epochs: 41 Batch:  781 loss: 0.0015074638954550028 Accuracy: 97.53% : 100%|██████████| 782/782 [00:08<00:00, 88.97it/s] \n"
          ]
        },
        {
          "metadata": {
            "tags": null
          },
          "name": "stdout",
          "output_type": "stream",
          "text": [
            " Target Achieved: 97.528% Test Accuracy !!\n",
            "LR :0.0001\n",
            "\n"
          ]
        },
        {
          "metadata": {
            "tags": null
          },
          "name": "stderr",
          "output_type": "stream",
          "text": [
            "Train ==> Epochs: 42 Batch:  781 loss: 0.621829628944397 Accuracy: 91.80% : 100%|██████████| 782/782 [00:13<00:00, 57.29it/s]\n",
            "Test ==> Epochs: 42 Batch:  781 loss: 0.001496275362484157 Accuracy: 97.55% : 100%|██████████| 782/782 [00:08<00:00, 88.96it/s]\n"
          ]
        },
        {
          "metadata": {
            "tags": null
          },
          "name": "stdout",
          "output_type": "stream",
          "text": [
            " Target Achieved: 97.552% Test Accuracy !!\n",
            "LR :0.0001\n",
            "\n"
          ]
        },
        {
          "metadata": {
            "tags": null
          },
          "name": "stderr",
          "output_type": "stream",
          "text": [
            "Train ==> Epochs: 43 Batch:  781 loss: 0.5469279289245605 Accuracy: 91.84% : 100%|██████████| 782/782 [00:18<00:00, 42.95it/s]\n",
            "Test ==> Epochs: 43 Batch:  781 loss: 0.0015061315456405282 Accuracy: 97.49% : 100%|██████████| 782/782 [00:09<00:00, 86.31it/s]\n"
          ]
        },
        {
          "metadata": {
            "tags": null
          },
          "name": "stdout",
          "output_type": "stream",
          "text": [
            "LR :0.0001\n",
            "\n"
          ]
        },
        {
          "metadata": {
            "tags": null
          },
          "name": "stderr",
          "output_type": "stream",
          "text": [
            "Train ==> Epochs: 44 Batch:  781 loss: 0.5482221841812134 Accuracy: 91.86% : 100%|██████████| 782/782 [00:14<00:00, 55.62it/s]\n",
            "Test ==> Epochs: 44 Batch:  781 loss: 0.0014827721719443798 Accuracy: 97.53% : 100%|██████████| 782/782 [00:09<00:00, 84.85it/s]\n"
          ]
        },
        {
          "metadata": {
            "tags": null
          },
          "name": "stdout",
          "output_type": "stream",
          "text": [
            "LR :1.0000000000000002e-06\n",
            "\n"
          ]
        },
        {
          "metadata": {
            "tags": null
          },
          "name": "stderr",
          "output_type": "stream",
          "text": [
            "Train ==> Epochs: 45 Batch:  781 loss: 0.3380356431007385 Accuracy: 91.82% : 100%|██████████| 782/782 [00:14<00:00, 55.81it/s]\n",
            "Test ==> Epochs: 45 Batch:  781 loss: 0.0014655930431932212 Accuracy: 97.58% : 100%|██████████| 782/782 [00:09<00:00, 86.35it/s] \n"
          ]
        },
        {
          "metadata": {
            "tags": null
          },
          "name": "stdout",
          "output_type": "stream",
          "text": [
            " Target Achieved: 97.58% Test Accuracy !!\n",
            "LR :1e-05\n",
            "\n"
          ]
        },
        {
          "metadata": {
            "tags": null
          },
          "name": "stderr",
          "output_type": "stream",
          "text": [
            "Train ==> Epochs: 46 Batch:  781 loss: 0.6294541358947754 Accuracy: 91.87% : 100%|██████████| 782/782 [00:14<00:00, 55.77it/s]\n",
            "Test ==> Epochs: 46 Batch:  781 loss: 0.001461620424427092 Accuracy: 97.60% : 100%|██████████| 782/782 [00:09<00:00, 84.97it/s]\n"
          ]
        },
        {
          "metadata": {
            "tags": null
          },
          "name": "stdout",
          "output_type": "stream",
          "text": [
            " Target Achieved: 97.596% Test Accuracy !!\n",
            "LR :1e-05\n",
            "\n"
          ]
        },
        {
          "metadata": {
            "tags": null
          },
          "name": "stderr",
          "output_type": "stream",
          "text": [
            "Train ==> Epochs: 47 Batch:  781 loss: 0.06326864659786224 Accuracy: 92.07% : 100%|██████████| 782/782 [00:13<00:00, 56.02it/s]\n",
            "Test ==> Epochs: 47 Batch:  781 loss: 0.001468156451433897 Accuracy: 97.60% : 100%|██████████| 782/782 [00:09<00:00, 86.36it/s]\n"
          ]
        },
        {
          "metadata": {
            "tags": null
          },
          "name": "stdout",
          "output_type": "stream",
          "text": [
            "LR :1e-05\n",
            "\n"
          ]
        },
        {
          "metadata": {
            "tags": null
          },
          "name": "stderr",
          "output_type": "stream",
          "text": [
            "Train ==> Epochs: 48 Batch:  781 loss: 0.6909224390983582 Accuracy: 91.89% : 100%|██████████| 782/782 [00:14<00:00, 54.82it/s]\n",
            "Test ==> Epochs: 48 Batch:  781 loss: 0.0015008045237883925 Accuracy: 97.47% : 100%|██████████| 782/782 [00:09<00:00, 82.02it/s]\n"
          ]
        },
        {
          "metadata": {
            "tags": null
          },
          "name": "stdout",
          "output_type": "stream",
          "text": [
            "LR :1e-05\n",
            "\n"
          ]
        },
        {
          "metadata": {
            "tags": null
          },
          "name": "stderr",
          "output_type": "stream",
          "text": [
            "Train ==> Epochs: 49 Batch:  781 loss: 0.389060914516449 Accuracy: 91.77% : 100%|██████████| 782/782 [00:14<00:00, 55.81it/s]\n",
            "Test ==> Epochs: 49 Batch:  781 loss: 0.0014593370101973415 Accuracy: 97.60% : 100%|██████████| 782/782 [00:09<00:00, 82.89it/s]\n"
          ]
        },
        {
          "metadata": {
            "tags": null
          },
          "name": "stdout",
          "output_type": "stream",
          "text": [
            " Target Achieved: 97.602% Test Accuracy !!\n",
            "LR :1e-05\n",
            "\n"
          ]
        },
        {
          "metadata": {
            "tags": null
          },
          "name": "stderr",
          "output_type": "stream",
          "text": [
            "Train ==> Epochs: 50 Batch:  781 loss: 0.2748420536518097 Accuracy: 91.95% : 100%|██████████| 782/782 [00:14<00:00, 55.37it/s]\n",
            "Test ==> Epochs: 50 Batch:  781 loss: 0.0014737203815206885 Accuracy: 97.58% : 100%|██████████| 782/782 [00:09<00:00, 85.14it/s]\n"
          ]
        },
        {
          "metadata": {
            "tags": null
          },
          "name": "stdout",
          "output_type": "stream",
          "text": [
            "LR :1e-05\n",
            "\n"
          ]
        },
        {
          "metadata": {
            "tags": null
          },
          "name": "stderr",
          "output_type": "stream",
          "text": [
            "Train ==> Epochs: 51 Batch:  781 loss: 0.32355690002441406 Accuracy: 91.89% : 100%|██████████| 782/782 [00:14<00:00, 54.58it/s]\n",
            "Test ==> Epochs: 51 Batch:  781 loss: 0.0014761936256662011 Accuracy: 97.60% : 100%|██████████| 782/782 [00:09<00:00, 81.22it/s]\n"
          ]
        },
        {
          "metadata": {
            "tags": null
          },
          "name": "stdout",
          "output_type": "stream",
          "text": [
            "LR :1e-05\n",
            "\n"
          ]
        },
        {
          "metadata": {
            "tags": null
          },
          "name": "stderr",
          "output_type": "stream",
          "text": [
            "Train ==> Epochs: 52 Batch:  781 loss: 0.7332371473312378 Accuracy: 91.86% : 100%|██████████| 782/782 [00:14<00:00, 54.61it/s]\n",
            "Test ==> Epochs: 52 Batch:  781 loss: 0.0014776759944111109 Accuracy: 97.57% : 100%|██████████| 782/782 [00:09<00:00, 83.35it/s]\n"
          ]
        },
        {
          "metadata": {
            "tags": null
          },
          "name": "stdout",
          "output_type": "stream",
          "text": [
            "LR :1e-05\n",
            "\n"
          ]
        },
        {
          "output_type": "stream",
          "name": "stderr",
          "text": [
            "Train ==> Epochs: 53 Batch:  781 loss: 0.19312548637390137 Accuracy: 92.08% : 100%|██████████| 782/782 [00:14<00:00, 53.89it/s]\n",
            "Test ==> Epochs: 53 Batch:  781 loss: 0.001463761308453977 Accuracy: 97.58% : 100%|██████████| 782/782 [00:15<00:00, 51.94it/s]\n"
          ]
        },
        {
          "output_type": "stream",
          "name": "stdout",
          "text": [
            "LR :1e-05\n",
            "\n"
          ]
        },
        {
          "output_type": "stream",
          "name": "stderr",
          "text": [
            "Train ==> Epochs: 54 Batch:  781 loss: 0.16036807000637054 Accuracy: 92.03% : 100%|██████████| 782/782 [00:14<00:00, 53.44it/s]\n",
            "Test ==> Epochs: 54 Batch:  781 loss: 0.0014767415131628514 Accuracy: 97.57% : 100%|██████████| 782/782 [00:09<00:00, 78.68it/s]\n"
          ]
        },
        {
          "output_type": "stream",
          "name": "stdout",
          "text": [
            "LR :1e-05\n",
            "\n"
          ]
        },
        {
          "output_type": "stream",
          "name": "stderr",
          "text": [
            "Train ==> Epochs: 55 Batch:  781 loss: 0.04005097970366478 Accuracy: 91.89% : 100%|██████████| 782/782 [00:14<00:00, 53.90it/s]\n",
            "Test ==> Epochs: 55 Batch:  781 loss: 0.001453070697709918 Accuracy: 97.63% : 100%|██████████| 782/782 [00:09<00:00, 82.64it/s]\n"
          ]
        },
        {
          "output_type": "stream",
          "name": "stdout",
          "text": [
            " Target Achieved: 97.634% Test Accuracy !!\n",
            "LR :1e-05\n",
            "\n"
          ]
        },
        {
          "output_type": "stream",
          "name": "stderr",
          "text": [
            "Train ==> Epochs: 56 Batch:  781 loss: 0.6941142082214355 Accuracy: 92.05% : 100%|██████████| 782/782 [00:14<00:00, 54.90it/s]\n",
            "Test ==> Epochs: 56 Batch:  781 loss: 0.0014841661796718836 Accuracy: 97.54% : 100%|██████████| 782/782 [00:09<00:00, 82.93it/s]\n"
          ]
        },
        {
          "output_type": "stream",
          "name": "stdout",
          "text": [
            "LR :1e-05\n",
            "\n"
          ]
        },
        {
          "output_type": "stream",
          "name": "stderr",
          "text": [
            "Train ==> Epochs: 57 Batch:  781 loss: 0.3201879858970642 Accuracy: 92.07% : 100%|██████████| 782/782 [00:14<00:00, 55.03it/s]\n",
            "Test ==> Epochs: 57 Batch:  781 loss: 0.0014580533591657878 Accuracy: 97.65% : 100%|██████████| 782/782 [00:09<00:00, 82.20it/s] \n"
          ]
        },
        {
          "output_type": "stream",
          "name": "stdout",
          "text": [
            " Target Achieved: 97.646% Test Accuracy !!\n",
            "LR :1e-05\n",
            "\n"
          ]
        },
        {
          "output_type": "stream",
          "name": "stderr",
          "text": [
            "Train ==> Epochs: 58 Batch:  781 loss: 0.4037679135799408 Accuracy: 91.99% : 100%|██████████| 782/782 [00:14<00:00, 54.95it/s]\n",
            "Test ==> Epochs: 58 Batch:  781 loss: 0.0014743345315381884 Accuracy: 97.60% : 100%|██████████| 782/782 [00:09<00:00, 82.51it/s]\n"
          ]
        },
        {
          "output_type": "stream",
          "name": "stdout",
          "text": [
            "LR :1e-05\n",
            "\n"
          ]
        },
        {
          "output_type": "stream",
          "name": "stderr",
          "text": [
            "Train ==> Epochs: 59 Batch:  781 loss: 0.3014228045940399 Accuracy: 92.08% : 100%|██████████| 782/782 [00:14<00:00, 55.52it/s]\n",
            "Test ==> Epochs: 59 Batch:  781 loss: 0.0014607427226752043 Accuracy: 97.58% : 100%|██████████| 782/782 [00:09<00:00, 83.20it/s]\n"
          ]
        },
        {
          "output_type": "stream",
          "name": "stdout",
          "text": [
            "LR :1.0000000000000002e-07\n",
            "\n"
          ]
        },
        {
          "output_type": "stream",
          "name": "stderr",
          "text": [
            "Train ==> Epochs: 60 Batch:  781 loss: 0.34374505281448364 Accuracy: 92.22% : 100%|██████████| 782/782 [00:14<00:00, 55.22it/s]\n",
            "Test ==> Epochs: 60 Batch:  781 loss: 0.0014349599029123783 Accuracy: 97.65% : 100%|██████████| 782/782 [00:09<00:00, 83.52it/s]\n"
          ]
        },
        {
          "output_type": "stream",
          "name": "stdout",
          "text": [
            " Target Achieved: 97.654% Test Accuracy !!\n",
            "LR :1.0000000000000002e-06\n",
            "\n"
          ]
        },
        {
          "output_type": "stream",
          "name": "stderr",
          "text": [
            "Train ==> Epochs: 61 Batch:  781 loss: 0.2743268311023712 Accuracy: 91.85% : 100%|██████████| 782/782 [00:14<00:00, 54.06it/s]\n",
            "Test ==> Epochs: 61 Batch:  781 loss: 0.0014881292428076268 Accuracy: 97.55% : 100%|██████████| 782/782 [00:11<00:00, 70.12it/s]\n"
          ]
        },
        {
          "output_type": "stream",
          "name": "stdout",
          "text": [
            "LR :1.0000000000000002e-06\n",
            "\n"
          ]
        },
        {
          "output_type": "stream",
          "name": "stderr",
          "text": [
            "Train ==> Epochs: 62 Batch:  781 loss: 1.033102035522461 Accuracy: 92.03% : 100%|██████████| 782/782 [00:14<00:00, 53.54it/s]\n",
            "Test ==> Epochs: 62 Batch:  781 loss: 0.0014505302255600691 Accuracy: 97.63% : 100%|██████████| 782/782 [00:09<00:00, 80.36it/s]\n"
          ]
        },
        {
          "output_type": "stream",
          "name": "stdout",
          "text": [
            "LR :1.0000000000000002e-06\n",
            "\n"
          ]
        },
        {
          "output_type": "stream",
          "name": "stderr",
          "text": [
            "Train ==> Epochs: 63 Batch:  781 loss: 0.8021236658096313 Accuracy: 92.01% : 100%|██████████| 782/782 [00:14<00:00, 54.51it/s]\n",
            "Test ==> Epochs: 63 Batch:  781 loss: 0.0014632171909883618 Accuracy: 97.61% : 100%|██████████| 782/782 [00:10<00:00, 77.99it/s]\n"
          ]
        },
        {
          "output_type": "stream",
          "name": "stdout",
          "text": [
            "LR :1.0000000000000002e-06\n",
            "\n"
          ]
        },
        {
          "output_type": "stream",
          "name": "stderr",
          "text": [
            "Train ==> Epochs: 64 Batch:  781 loss: 0.16743424534797668 Accuracy: 91.78% : 100%|██████████| 782/782 [00:14<00:00, 53.13it/s]\n",
            "Test ==> Epochs: 64 Batch:  781 loss: 0.0014633637189865112 Accuracy: 97.61% : 100%|██████████| 782/782 [00:09<00:00, 79.90it/s]\n"
          ]
        },
        {
          "output_type": "stream",
          "name": "stdout",
          "text": [
            "LR :1.0000000000000002e-06\n",
            "\n"
          ]
        },
        {
          "output_type": "stream",
          "name": "stderr",
          "text": [
            "Train ==> Epochs: 65 Batch:  781 loss: 0.9195076823234558 Accuracy: 91.99% : 100%|██████████| 782/782 [00:14<00:00, 53.77it/s]\n",
            "Test ==> Epochs: 65 Batch:  781 loss: 0.0014410019473731518 Accuracy: 97.64% : 100%|██████████| 782/782 [00:09<00:00, 80.84it/s]\n"
          ]
        },
        {
          "output_type": "stream",
          "name": "stdout",
          "text": [
            "LR :1.0000000000000002e-06\n",
            "\n"
          ]
        },
        {
          "output_type": "stream",
          "name": "stderr",
          "text": [
            "Train ==> Epochs: 66 Batch:  781 loss: 0.5905997157096863 Accuracy: 91.91% : 100%|██████████| 782/782 [00:14<00:00, 53.69it/s]\n",
            "Test ==> Epochs: 66 Batch:  781 loss: 0.0014725841485708953 Accuracy: 97.59% : 100%|██████████| 782/782 [00:15<00:00, 49.05it/s]\n"
          ]
        },
        {
          "output_type": "stream",
          "name": "stdout",
          "text": [
            "LR :1.0000000000000002e-06\n",
            "\n"
          ]
        },
        {
          "output_type": "stream",
          "name": "stderr",
          "text": [
            "Train ==> Epochs: 67 Batch:  781 loss: 0.4233357906341553 Accuracy: 92.02% : 100%|██████████| 782/782 [00:14<00:00, 54.17it/s]\n",
            "Test ==> Epochs: 67 Batch:  781 loss: 0.0014639029301330448 Accuracy: 97.54% : 100%|██████████| 782/782 [00:09<00:00, 79.83it/s]\n"
          ]
        },
        {
          "output_type": "stream",
          "name": "stdout",
          "text": [
            "LR :1.0000000000000002e-06\n",
            "\n"
          ]
        },
        {
          "output_type": "stream",
          "name": "stderr",
          "text": [
            "Train ==> Epochs: 68 Batch:  781 loss: 0.8226585388183594 Accuracy: 91.79% : 100%|██████████| 782/782 [00:14<00:00, 53.69it/s]\n",
            "Test ==> Epochs: 68 Batch:  781 loss: 0.0014558146639913321 Accuracy: 97.61% : 100%|██████████| 782/782 [00:09<00:00, 79.54it/s]\n"
          ]
        },
        {
          "output_type": "stream",
          "name": "stdout",
          "text": [
            "LR :1.0000000000000002e-06\n",
            "\n"
          ]
        },
        {
          "output_type": "stream",
          "name": "stderr",
          "text": [
            "Train ==> Epochs: 69 Batch:  781 loss: 0.20397675037384033 Accuracy: 92.26% : 100%|██████████| 782/782 [00:14<00:00, 53.80it/s]\n",
            "Test ==> Epochs: 69 Batch:  781 loss: 0.0014700311002880334 Accuracy: 97.58% : 100%|██████████| 782/782 [00:09<00:00, 79.07it/s]\n"
          ]
        },
        {
          "output_type": "stream",
          "name": "stdout",
          "text": [
            "LR :1.0000000000000002e-06\n",
            "\n"
          ]
        },
        {
          "output_type": "stream",
          "name": "stderr",
          "text": [
            "Train ==> Epochs: 70 Batch:  781 loss: 0.44572901725769043 Accuracy: 91.93% : 100%|██████████| 782/782 [00:14<00:00, 53.34it/s]\n",
            "Test ==> Epochs: 70 Batch:  781 loss: 0.001487152919434011 Accuracy: 97.56% : 100%|██████████| 782/782 [00:09<00:00, 80.13it/s]\n"
          ]
        },
        {
          "output_type": "stream",
          "name": "stdout",
          "text": [
            "LR :1.0000000000000002e-06\n",
            "\n"
          ]
        },
        {
          "output_type": "stream",
          "name": "stderr",
          "text": [
            "Train ==> Epochs: 71 Batch:  781 loss: 0.6519010066986084 Accuracy: 91.96% : 100%|██████████| 782/782 [00:14<00:00, 53.16it/s]\n",
            "Test ==> Epochs: 71 Batch:  781 loss: 0.001482912111543119 Accuracy: 97.53% : 100%|██████████| 782/782 [00:09<00:00, 79.12it/s]\n"
          ]
        },
        {
          "output_type": "stream",
          "name": "stdout",
          "text": [
            "LR :1.0000000000000002e-06\n",
            "\n"
          ]
        },
        {
          "output_type": "stream",
          "name": "stderr",
          "text": [
            "Train ==> Epochs: 72 Batch:  781 loss: 1.0964043140411377 Accuracy: 91.95% : 100%|██████████| 782/782 [00:14<00:00, 53.97it/s]\n",
            "Test ==> Epochs: 72 Batch:  781 loss: 0.0014536606104299426 Accuracy: 97.59% : 100%|██████████| 782/782 [00:10<00:00, 77.99it/s]\n"
          ]
        },
        {
          "output_type": "stream",
          "name": "stdout",
          "text": [
            "LR :1.0000000000000002e-06\n",
            "\n"
          ]
        },
        {
          "output_type": "stream",
          "name": "stderr",
          "text": [
            "Train ==> Epochs: 73 Batch:  781 loss: 0.3740994334220886 Accuracy: 91.89% : 100%|██████████| 782/782 [00:14<00:00, 53.73it/s]\n",
            "Test ==> Epochs: 73 Batch:  781 loss: 0.0014490421087667345 Accuracy: 97.64% : 100%|██████████| 782/782 [00:09<00:00, 78.82it/s]\n"
          ]
        },
        {
          "output_type": "stream",
          "name": "stdout",
          "text": [
            "LR :1.0000000000000002e-06\n",
            "\n"
          ]
        },
        {
          "output_type": "stream",
          "name": "stderr",
          "text": [
            "Train ==> Epochs: 74 Batch:  781 loss: 0.5507996082305908 Accuracy: 92.00% : 100%|██████████| 782/782 [00:14<00:00, 53.71it/s]\n",
            "Test ==> Epochs: 74 Batch:  781 loss: 0.001474219899214804 Accuracy: 97.55% : 100%|██████████| 782/782 [00:09<00:00, 79.19it/s]\n"
          ]
        },
        {
          "output_type": "stream",
          "name": "stdout",
          "text": [
            "LR :1.0000000000000004e-08\n",
            "\n"
          ]
        },
        {
          "output_type": "stream",
          "name": "stderr",
          "text": [
            "Train ==> Epochs: 75 Batch:  781 loss: 0.25079816579818726 Accuracy: 91.76% : 100%|██████████| 782/782 [00:14<00:00, 53.33it/s]\n",
            "Test ==> Epochs: 75 Batch:  781 loss: 0.0014632331250980497 Accuracy: 97.60% : 100%|██████████| 782/782 [00:09<00:00, 78.44it/s]\n"
          ]
        },
        {
          "output_type": "stream",
          "name": "stdout",
          "text": [
            "LR :1.0000000000000002e-07\n",
            "\n"
          ]
        },
        {
          "output_type": "stream",
          "name": "stderr",
          "text": [
            "Train ==> Epochs: 76 Batch:  781 loss: 0.3919755220413208 Accuracy: 91.89% : 100%|██████████| 782/782 [00:14<00:00, 52.84it/s]\n",
            "Test ==> Epochs: 76 Batch:  781 loss: 0.001442713303603232 Accuracy: 97.65% : 100%|██████████| 782/782 [00:09<00:00, 79.06it/s]\n"
          ]
        },
        {
          "output_type": "stream",
          "name": "stdout",
          "text": [
            "LR :1.0000000000000002e-07\n",
            "\n"
          ]
        },
        {
          "output_type": "stream",
          "name": "stderr",
          "text": [
            "Train ==> Epochs: 77 Batch:  781 loss: 0.33704784512519836 Accuracy: 92.10% : 100%|██████████| 782/782 [00:14<00:00, 53.42it/s]\n",
            "Test ==> Epochs: 77 Batch:  781 loss: 0.001455551828891039 Accuracy: 97.58% : 100%|██████████| 782/782 [00:09<00:00, 78.40it/s]\n"
          ]
        },
        {
          "output_type": "stream",
          "name": "stdout",
          "text": [
            "LR :1.0000000000000002e-07\n",
            "\n"
          ]
        },
        {
          "output_type": "stream",
          "name": "stderr",
          "text": [
            "Train ==> Epochs: 78 Batch:  781 loss: 0.3818182349205017 Accuracy: 92.13% : 100%|██████████| 782/782 [00:14<00:00, 53.26it/s]\n",
            "Test ==> Epochs: 78 Batch:  781 loss: 0.0014900452786684036 Accuracy: 97.56% : 100%|██████████| 782/782 [00:09<00:00, 79.44it/s]\n"
          ]
        },
        {
          "output_type": "stream",
          "name": "stdout",
          "text": [
            "LR :1.0000000000000002e-07\n",
            "\n"
          ]
        },
        {
          "output_type": "stream",
          "name": "stderr",
          "text": [
            "Train ==> Epochs: 79 Batch:  781 loss: 0.2773371934890747 Accuracy: 91.82% : 100%|██████████| 782/782 [00:14<00:00, 52.94it/s]\n",
            "Test ==> Epochs: 79 Batch:  781 loss: 0.0014580901351571084 Accuracy: 97.58% : 100%|██████████| 782/782 [00:09<00:00, 78.73it/s]\n"
          ]
        },
        {
          "output_type": "stream",
          "name": "stdout",
          "text": [
            "LR :1.0000000000000002e-07\n",
            "\n"
          ]
        },
        {
          "output_type": "display_data",
          "data": {
            "image/png": "[encoded data removed]",
            "text/plain": [
              "<Figure size 1440x360 with 2 Axes>"
            ]
          },
          "metadata": {
            "needs_background": "light"
          }
        },
        {
          "output_type": "stream",
          "name": "stderr",
          "text": [
            "Clipping input data to the valid range for imshow with RGB data ([0..1] for floats or [0..255] for integers).\n",
            "Clipping input data to the valid range for imshow with RGB data ([0..1] for floats or [0..255] for integers).\n",
            "Clipping input data to the valid range for imshow with RGB data ([0..1] for floats or [0..255] for integers).\n",
            "Clipping input data to the valid range for imshow with RGB data ([0..1] for floats or [0..255] for integers).\n",
            "Clipping input data to the valid range for imshow with RGB data ([0..1] for floats or [0..255] for integers).\n",
            "Clipping input data to the valid range for imshow with RGB data ([0..1] for floats or [0..255] for integers).\n",
            "Clipping input data to the valid range for imshow with RGB data ([0..1] for floats or [0..255] for integers).\n",
            "Clipping input data to the valid range for imshow with RGB data ([0..1] for floats or [0..255] for integers).\n",
            "Clipping input data to the valid range for imshow with RGB data ([0..1] for floats or [0..255] for integers).\n",
            "Clipping input data to the valid range for imshow with RGB data ([0..1] for floats or [0..255] for integers).\n",
            "Clipping input data to the valid range for imshow with RGB data ([0..1] for floats or [0..255] for integers).\n",
            "Clipping input data to the valid range for imshow with RGB data ([0..1] for floats or [0..255] for integers).\n",
            "Clipping input data to the valid range for imshow with RGB data ([0..1] for floats or [0..255] for integers).\n",
            "Clipping input data to the valid range for imshow with RGB data ([0..1] for floats or [0..255] for integers).\n",
            "Clipping input data to the valid range for imshow with RGB data ([0..1] for floats or [0..255] for integers).\n",
            "Clipping input data to the valid range for imshow with RGB data ([0..1] for floats or [0..255] for integers).\n",
            "Clipping input data to the valid range for imshow with RGB data ([0..1] for floats or [0..255] for integers).\n",
            "Clipping input data to the valid range for imshow with RGB data ([0..1] for floats or [0..255] for integers).\n",
            "Clipping input data to the valid range for imshow with RGB data ([0..1] for floats or [0..255] for integers).\n",
            "Clipping input data to the valid range for imshow with RGB data ([0..1] for floats or [0..255] for integers).\n",
            "Clipping input data to the valid range for imshow with RGB data ([0..1] for floats or [0..255] for integers).\n"
          ]
        },
        {
          "output_type": "display_data",
          "data": {
            "image/png": "[encoded data removed]",
            "text/plain": [
              "<Figure size 1260x1080 with 21 Axes>"
            ]
          },
          "metadata": {
            "needs_background": "light"
          }
        }
      ],
      "source": [
        "if __name__ == \"__main__\":\n",
        "    batch_size = 64\n",
        "    epochs = 80\n",
        "\n",
        "    _=torch.manual_seed(1)\n",
        "    if torch.cuda.is_available():\n",
        "        _=torch.cuda.manual_seed(1)\n",
        "\n",
        "    train,test = get_data()\n",
        "    #take input as normal_type ['gbn','bn','gn','ln']\n",
        "\n",
        "    train_alb = AlbumDataset(train,train_transform)\n",
        "    test_alb = AlbumDataset(test,test_transform)\n",
        "\n",
        "    args = {'pin_memory':True,'num_workers':4} if torch.cuda.is_available() else {}\n",
        "    train_loader = DataLoader(train_alb,batch_size=batch_size,shuffle = True,**args)\n",
        "    test_loader = DataLoader(test_alb,batch_size=batch_size,**args)\n",
        "    # ['gbn','bn','gn','ln']\n",
        "    try_type = ['gbn']\n",
        "    for norm_type in try_type:\n",
        "\n",
        "        model_class = Cifar10Net1(dropout_val=0.01,norm_type=norm_type)\n",
        "        model,train_losses, train_accuracy,test_losses,test_accuracy = Run_Model(model_class,train_alb,test_alb,epochs =epochs)\n",
        "        plot_acc_loss(norm_type ,train_accuracy,train_losses,test_accuracy,test_losses)\n",
        "        clean_gpu()\n",
        "\n",
        "        print_wrong_image(model,test_loader,3,7)\n",
        "        clean_gpu()"
      ]
    },
    {
      "cell_type": "code",
      "execution_count": 198,
      "metadata": {
        "id": "4CJVjjt0E92u",
        "colab": {
          "base_uri": "https://localhost:8080/",
          "height": 34
        },
        "outputId": "c0905634-5d9d-48d7-e587-2413b2b080db"
      },
      "outputs": [
        {
          "data": {
            "application/javascript": [
              "IPython.notebook.set_autosave_interval(1000)"
            ]
          },
          "metadata": {},
          "output_type": "display_data"
        },
        {
          "metadata": {
            "tags": null
          },
          "name": "stdout",
          "output_type": "stream",
          "text": [
            "Autosaving every 1 seconds\n"
          ]
        }
      ],
      "source": [
        "%autosave 1"
      ]
    },
    {
      "cell_type": "code",
      "source": [
        ""
      ],
      "metadata": {
        "id": "iC5Y4W1iBq10"
      },
      "execution_count": 198,
      "outputs": []
    }
  ],
  "metadata": {
    "accelerator": "GPU",
    "colab": {
      "collapsed_sections": [],
      "machine_shape": "hm",
      "name": "CIFAR10_try.ipynb",
      "provenance": [],
      "include_colab_link": true
    },
    "kernelspec": {
      "display_name": "Python 3",
      "name": "python3"
    },
    "language_info": {
      "codemirror_mode": {
        "name": "ipython",
        "version": 3
      },
      "file_extension": ".py",
      "mimetype": "text/x-python",
      "name": "python",
      "nbconvert_exporter": "python",
      "pygments_lexer": "ipython3",
      "version": "3.6.6"
    }
  },
  "nbformat": 4,
  "nbformat_minor": 0
}