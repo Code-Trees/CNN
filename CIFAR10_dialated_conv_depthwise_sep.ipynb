{
  "cells": [
    {
      "cell_type": "markdown",
      "metadata": {
        "id": "view-in-github",
        "colab_type": "text"
      },
      "source": [
        "<a href=\"https://colab.research.google.com/github/Code-Trees/CNN/blob/master/CIFAR10_dialated_conv_depthwise_sep.ipynb\" target=\"_parent\"><img src=\"https://colab.research.google.com/assets/colab-badge.svg\" alt=\"Open In Colab\"/></a>"
      ]
    },
    {
      "cell_type": "code",
      "execution_count": 86,
      "metadata": {
        "id": "2nYRkYAkxIhf"
      },
      "outputs": [],
      "source": [
        "# Requirement Check"
      ]
    },
    {
      "cell_type": "code",
      "source": [
        "gpu_info = !nvidia-smi\n",
        "gpu_info = '\\n'.join(gpu_info)\n",
        "if gpu_info.find('failed') >= 0:\n",
        "  print('Not connected to a GPU')\n",
        "else:\n",
        "  print(gpu_info) "
      ],
      "metadata": {
        "colab": {
          "base_uri": "https://localhost:8080/"
        },
        "id": "Daj3KQ4x_6Ev",
        "outputId": "db0905ff-c6aa-4486-ef0b-400ef2d117a8"
      },
      "execution_count": 87,
      "outputs": [
        {
          "output_type": "stream",
          "name": "stdout",
          "text": [
            "Tue Feb 15 06:37:35 2022       \n",
            "+-----------------------------------------------------------------------------+\n",
            "| NVIDIA-SMI 460.32.03    Driver Version: 460.32.03    CUDA Version: 11.2     |\n",
            "|-------------------------------+----------------------+----------------------+\n",
            "| GPU  Name        Persistence-M| Bus-Id        Disp.A | Volatile Uncorr. ECC |\n",
            "| Fan  Temp  Perf  Pwr:Usage/Cap|         Memory-Usage | GPU-Util  Compute M. |\n",
            "|                               |                      |               MIG M. |\n",
            "|===============================+======================+======================|\n",
            "|   0  Tesla T4            Off  | 00000000:00:04.0 Off |                    0 |\n",
            "| N/A   46C    P0    28W /  70W |   1596MiB / 15109MiB |      0%      Default |\n",
            "|                               |                      |                  N/A |\n",
            "+-------------------------------+----------------------+----------------------+\n",
            "                                                                               \n",
            "+-----------------------------------------------------------------------------+\n",
            "| Processes:                                                                  |\n",
            "|  GPU   GI   CI        PID   Type   Process name                  GPU Memory |\n",
            "|        ID   ID                                                   Usage      |\n",
            "|=============================================================================|\n",
            "+-----------------------------------------------------------------------------+\n"
          ]
        }
      ]
    },
    {
      "cell_type": "code",
      "execution_count": 88,
      "metadata": {
        "id": "TpNG8BrvS1iq",
        "colab": {
          "base_uri": "https://localhost:8080/"
        },
        "outputId": "8240d280-8aef-421e-d8ad-bb5d298f9a5f"
      },
      "outputs": [
        {
          "output_type": "stream",
          "name": "stdout",
          "text": [
            "Requirement already satisfied: opencv-python in /usr/local/lib/python3.7/dist-packages (4.1.2.30)\n",
            "Requirement already satisfied: numpy>=1.14.5 in /usr/local/lib/python3.7/dist-packages (from opencv-python) (1.19.5)\n",
            "Requirement already satisfied: albumentations in /usr/local/lib/python3.7/dist-packages (1.1.0)\n",
            "Requirement already satisfied: scipy in /usr/local/lib/python3.7/dist-packages (from albumentations) (1.4.1)\n",
            "Requirement already satisfied: scikit-image>=0.16.1 in /usr/local/lib/python3.7/dist-packages (from albumentations) (0.18.3)\n",
            "Requirement already satisfied: PyYAML in /usr/local/lib/python3.7/dist-packages (from albumentations) (3.13)\n",
            "Requirement already satisfied: opencv-python-headless>=4.1.1 in /usr/local/lib/python3.7/dist-packages (from albumentations) (4.5.2.52)\n",
            "Requirement already satisfied: qudida>=0.0.4 in /usr/local/lib/python3.7/dist-packages (from albumentations) (0.0.4)\n",
            "Requirement already satisfied: numpy>=1.11.1 in /usr/local/lib/python3.7/dist-packages (from albumentations) (1.19.5)\n",
            "Requirement already satisfied: scikit-learn>=0.19.1 in /usr/local/lib/python3.7/dist-packages (from qudida>=0.0.4->albumentations) (1.0.2)\n",
            "Requirement already satisfied: typing-extensions in /usr/local/lib/python3.7/dist-packages (from qudida>=0.0.4->albumentations) (3.10.0.2)\n",
            "Requirement already satisfied: pillow!=7.1.0,!=7.1.1,>=4.3.0 in /usr/local/lib/python3.7/dist-packages (from scikit-image>=0.16.1->albumentations) (7.1.2)\n",
            "Requirement already satisfied: imageio>=2.3.0 in /usr/local/lib/python3.7/dist-packages (from scikit-image>=0.16.1->albumentations) (2.4.1)\n",
            "Requirement already satisfied: tifffile>=2019.7.26 in /usr/local/lib/python3.7/dist-packages (from scikit-image>=0.16.1->albumentations) (2021.11.2)\n",
            "Requirement already satisfied: networkx>=2.0 in /usr/local/lib/python3.7/dist-packages (from scikit-image>=0.16.1->albumentations) (2.6.3)\n",
            "Requirement already satisfied: PyWavelets>=1.1.1 in /usr/local/lib/python3.7/dist-packages (from scikit-image>=0.16.1->albumentations) (1.2.0)\n",
            "Requirement already satisfied: matplotlib!=3.0.0,>=2.0.0 in /usr/local/lib/python3.7/dist-packages (from scikit-image>=0.16.1->albumentations) (3.2.2)\n",
            "Requirement already satisfied: pyparsing!=2.0.4,!=2.1.2,!=2.1.6,>=2.0.1 in /usr/local/lib/python3.7/dist-packages (from matplotlib!=3.0.0,>=2.0.0->scikit-image>=0.16.1->albumentations) (3.0.7)\n",
            "Requirement already satisfied: python-dateutil>=2.1 in /usr/local/lib/python3.7/dist-packages (from matplotlib!=3.0.0,>=2.0.0->scikit-image>=0.16.1->albumentations) (2.8.2)\n",
            "Requirement already satisfied: kiwisolver>=1.0.1 in /usr/local/lib/python3.7/dist-packages (from matplotlib!=3.0.0,>=2.0.0->scikit-image>=0.16.1->albumentations) (1.3.2)\n",
            "Requirement already satisfied: cycler>=0.10 in /usr/local/lib/python3.7/dist-packages (from matplotlib!=3.0.0,>=2.0.0->scikit-image>=0.16.1->albumentations) (0.11.0)\n",
            "Requirement already satisfied: six>=1.5 in /usr/local/lib/python3.7/dist-packages (from python-dateutil>=2.1->matplotlib!=3.0.0,>=2.0.0->scikit-image>=0.16.1->albumentations) (1.15.0)\n",
            "Requirement already satisfied: threadpoolctl>=2.0.0 in /usr/local/lib/python3.7/dist-packages (from scikit-learn>=0.19.1->qudida>=0.0.4->albumentations) (3.1.0)\n",
            "Requirement already satisfied: joblib>=0.11 in /usr/local/lib/python3.7/dist-packages (from scikit-learn>=0.19.1->qudida>=0.0.4->albumentations) (1.1.0)\n",
            "Requirement already satisfied: opencv-python-headless==4.5.2.52 in /usr/local/lib/python3.7/dist-packages (4.5.2.52)\n",
            "Requirement already satisfied: numpy>=1.14.5 in /usr/local/lib/python3.7/dist-packages (from opencv-python-headless==4.5.2.52) (1.19.5)\n",
            "Requirement already satisfied: Pillow in /usr/local/lib/python3.7/dist-packages (7.1.2)\n",
            "Requirement already satisfied: rf_calc in /usr/local/lib/python3.7/dist-packages (0.0.7)\n",
            "Requirement already satisfied: pandas>=1.1.5 in /usr/local/lib/python3.7/dist-packages (from rf_calc) (1.3.5)\n",
            "Requirement already satisfied: numpy>=1.19.4 in /usr/local/lib/python3.7/dist-packages (from rf_calc) (1.19.5)\n",
            "Requirement already satisfied: tabulate>=0.8.9 in /usr/local/lib/python3.7/dist-packages (from rf_calc) (0.8.9)\n",
            "Requirement already satisfied: pytz>=2017.3 in /usr/local/lib/python3.7/dist-packages (from pandas>=1.1.5->rf_calc) (2018.9)\n",
            "Requirement already satisfied: python-dateutil>=2.7.3 in /usr/local/lib/python3.7/dist-packages (from pandas>=1.1.5->rf_calc) (2.8.2)\n",
            "Requirement already satisfied: six>=1.5 in /usr/local/lib/python3.7/dist-packages (from python-dateutil>=2.7.3->pandas>=1.1.5->rf_calc) (1.15.0)\n"
          ]
        }
      ],
      "source": [
        "import os\n",
        "\n",
        "!pip install opencv-python\n",
        "!pip install -U albumentations\n",
        "!pip install opencv-python-headless==4.5.2.52\n",
        "!pip install Pillow\n",
        "!pip install rf_calc"
      ]
    },
    {
      "cell_type": "code",
      "execution_count": 89,
      "metadata": {
        "id": "lS60UZTSjNOC",
        "colab": {
          "base_uri": "https://localhost:8080/",
          "height": 35
        },
        "outputId": "7314067e-e93b-4ee1-aa95-dcdb20d70662"
      },
      "outputs": [
        {
          "output_type": "display_data",
          "data": {
            "application/javascript": [
              "IPython.notebook.set_autosave_interval(5000)"
            ]
          },
          "metadata": {}
        },
        {
          "output_type": "stream",
          "name": "stdout",
          "text": [
            "Autosaving every 5 seconds\n"
          ]
        }
      ],
      "source": [
        "import warnings\n",
        "warnings.filterwarnings('ignore')\n",
        "%autosave 5"
      ]
    },
    {
      "cell_type": "code",
      "execution_count": 90,
      "metadata": {
        "colab": {
          "base_uri": "https://localhost:8080/",
          "height": 35
        },
        "id": "QVbdg0z4poCc",
        "outputId": "31dd3ac3-bb44-4067-d425-38caed22c5c1"
      },
      "outputs": [
        {
          "output_type": "display_data",
          "data": {
            "application/javascript": [
              "IPython.notebook.set_autosave_interval(10000)"
            ]
          },
          "metadata": {}
        },
        {
          "output_type": "stream",
          "name": "stdout",
          "text": [
            "Autosaving every 10 seconds\n"
          ]
        }
      ],
      "source": [
        "from IPython.core.interactiveshell import InteractiveShell\n",
        "InteractiveShell.ast_node_interactivity = 'all'\n",
        "%autosave 10"
      ]
    },
    {
      "cell_type": "code",
      "execution_count": 91,
      "metadata": {
        "id": "R5mwABzayFAH"
      },
      "outputs": [],
      "source": [
        "import torch\n",
        "import torch.nn.functional as F\n",
        "import torch.nn as nn\n",
        "\n",
        "from torch.optim import SGD\n",
        "from torch.utils.data import DataLoader\n",
        "from torch.utils.data.dataset import Dataset\n",
        "from torch.optim.lr_scheduler import StepLR\n",
        "\n",
        "from torchvision import transforms,datasets\n",
        "\n",
        "import numpy as np\n",
        "import matplotlib.pyplot as plt\n",
        "from torchsummary import summary\n",
        "import random\n",
        "import seaborn as sns\n",
        "import gc\n",
        "\n",
        "import albumentations as A\n",
        "from albumentations.augmentations.geometric.resize import Resize\n",
        "from albumentations.pytorch.transforms import ToTensorV2"
      ]
    },
    {
      "cell_type": "code",
      "execution_count": 91,
      "metadata": {
        "id": "536wcDeSyFNV"
      },
      "outputs": [],
      "source": [
        ""
      ]
    },
    {
      "cell_type": "code",
      "execution_count": 92,
      "metadata": {
        "id": "0_UHX_gL2Bp2"
      },
      "outputs": [],
      "source": [
        "# we will use the CIFAR10 dataset. It has the classes:\n",
        "# ‘airplane’, ‘automobile’, ‘bird’, ‘cat’, ‘deer’, ‘dog’, ‘frog’, ‘horse’, ‘ship’, ‘truck’.\n",
        "# The images in CIFAR-10 are of size 3x32x32, i.e. 3-channel color images of 32x32 pixels in size."
      ]
    },
    {
      "cell_type": "code",
      "execution_count": 93,
      "metadata": {
        "id": "HKtfXQ8o20UO"
      },
      "outputs": [],
      "source": [
        "from tqdm import tqdm\n",
        "from rf_calc import receptive_field"
      ]
    },
    {
      "cell_type": "markdown",
      "metadata": {
        "id": "XSnEveblkwVz"
      },
      "source": [
        "GPU Cleaner"
      ]
    },
    {
      "cell_type": "code",
      "execution_count": 94,
      "metadata": {
        "id": "mIHPpFNQkvBj"
      },
      "outputs": [],
      "source": [
        "def clean_gpu():\n",
        "    \"\"\"Considering we have GPUs\"\"\"\n",
        "\n",
        "    gc.collect()\n",
        "    torch.cuda.empty_cache()\n",
        "    return None"
      ]
    },
    {
      "cell_type": "markdown",
      "metadata": {
        "id": "CpXzMbFtkzEr"
      },
      "source": [
        "Data Loading "
      ]
    },
    {
      "cell_type": "code",
      "execution_count": 95,
      "metadata": {
        "id": "vmMDwq7b17ou"
      },
      "outputs": [],
      "source": [
        "def get_data(train_transform_composes =None ,test_transform_composes =None):\n",
        "    \"\"\"We can compose customs , else the default is tensors \n",
        "    \"\"\"\n",
        "    train = datasets.CIFAR10(root= './',download = True, train = True,transform = train_transform_composes)\n",
        "    \n",
        "    test = datasets.CIFAR10(root= './',download = True, train = False ,transform = train_transform_composes)\n",
        "\n",
        "    return train,test "
      ]
    },
    {
      "cell_type": "markdown",
      "metadata": {
        "id": "-0J7zYy3k8eS"
      },
      "source": [
        "EDA With Experiments"
      ]
    },
    {
      "cell_type": "code",
      "execution_count": 96,
      "metadata": {
        "id": "VhvjgRRvY9j7"
      },
      "outputs": [],
      "source": [
        "def plot_unique_images(data_set,labels = None):\n",
        "    img_data = data_set.data\n",
        "    target = data_set.targets.copy()\n",
        "\n",
        "    fig = plt.figure(figsize=(30,30))\n",
        "    count = 1\n",
        "    unique_images_index = [random.choice(np.where(np.array(target) == search)[0]) for search in list(set(target))]\n",
        "\n",
        "    for image_index in unique_images_index:\n",
        "        n= image_index\n",
        "        ax = fig.add_subplot(1,10,count)\n",
        "        _=plt.imshow(img_data[n])\n",
        "        try:\n",
        "            _=plt.title(f\"label :{labels[target[n]]} idx:{n}\")\n",
        "        except:\n",
        "            _=plt.title(f\"idx:{n} Label: {target[n]}\")\n",
        "        _ = plt.autoscale()\n",
        "        _= fig.tight_layout(pad =1)\n",
        "        count+= 1\n",
        "        if count>=len(target):\n",
        "            break\n",
        "    plt.show()\n"
      ]
    },
    {
      "cell_type": "code",
      "execution_count": 97,
      "metadata": {
        "id": "jDzg2TuWZBYi"
      },
      "outputs": [],
      "source": [
        "def get_data_stats(dataset_train,dataset_test = None,img_norm_typ ='train',plot = False):\n",
        "    MEAN = []\n",
        "    STD = []\n",
        "    VAR = []\n",
        "    if img_norm_typ == 'train':\n",
        "        fig = plt.figure(figsize=(15,5))\n",
        "        for i in range(0,dataset_train.data.shape[len(dataset_train.data.shape)-1]):\n",
        "            scale = dataset_train.data[:,:,:,i]/dataset_train.data[:,:,:,i].max()\n",
        "            MEAN.append(scale.mean())\n",
        "            STD.append(scale.std())\n",
        "            VAR.append(scale.var())\n",
        "            if plot == True:\n",
        "                ax = fig.add_subplot(1,3,i+1)\n",
        "                _=sns.histplot(scale.reshape(-1) )\n",
        "                _=plt.title(f\"label :{'Train' if dataset_train.train else 'Test' } Channel:{i+1}\")\n",
        "                _= plt.xlabel(f\"Mean:{round(MEAN[i],3)}, std:{round(STD[i],3)}, var:{round(VAR[i],3)}\")\n",
        "                _ = plt.autoscale()\n",
        "                _= fig.tight_layout(pad =1)\n",
        "        # plt.show()\n",
        "        # print(f\" For {'Train' if dataset_train.train else 'Test'} data, Mean: {MEAN} || Variance: {VAR} || Standard Dev: {STD} || Data Dim: {dataset_train.data.shape}\")\n",
        "\n",
        "    elif img_norm_typ == 'train+test':\n",
        "        fig = plt.figure(figsize=(10,5))\n",
        "        mega_data  =np.append(dataset_train.data, dataset_test.data, 0)\n",
        "        for i in range(0,dataset_train.data.shape[len(dataset_train.data.shape)-1]):\n",
        "            scale = mega_data[:,:,:,i]/mega_data[:,:,:,i].max()\n",
        "            MEAN.append(scale.mean())\n",
        "            STD.append(scale.std())\n",
        "            VAR.append(scale.var())\n",
        "            if plot == True:\n",
        "                ax = fig.add_subplot(1,3,i+1)\n",
        "                _=sns.histplot(scale.reshape(-1))\n",
        "                _=plt.title(f\"label :{'Train' if dataset_train.train else 'Test' } Channel:{i+1}\")\n",
        "                _= plt.xlabel(f\"Mean:{round(MEAN[i],3)},std:{round(STD[i],3)},var:{round(VAR[i],3)}\")\n",
        "                _ = plt.autoscale()\n",
        "                _= fig.tight_layout(pad =1)\n",
        "        # print(f\"For {'Train' if dataset_train.train else 'Test'} data, Mean: {MEAN} || Variance: {VAR} || Standard Dev: {STD} || for {mega_data.shape} Dim\")\n",
        "    return tuple(MEAN),tuple(STD)"
      ]
    },
    {
      "cell_type": "code",
      "execution_count": 98,
      "metadata": {
        "colab": {
          "base_uri": "https://localhost:8080/",
          "height": 440
        },
        "id": "sUOh7izWQx4B",
        "outputId": "6632415c-cf80-49a3-b562-e1b4d12caf4e"
      },
      "outputs": [
        {
          "output_type": "stream",
          "name": "stdout",
          "text": [
            "Files already downloaded and verified\n",
            "Files already downloaded and verified\n",
            "Train Shape: (50000, 32, 32, 3) Test Shape: (10000, 32, 32, 3) \n",
            "\n"
          ]
        },
        {
          "output_type": "display_data",
          "data": {
            "image/png": "[encoded data removed]",
            "text/plain": [
              "<Figure size 2160x2160 with 10 Axes>"
            ]
          },
          "metadata": {
            "needs_background": "light"
          }
        },
        {
          "output_type": "display_data",
          "data": {
            "image/png": "[encoded data removed]",
            "text/plain": [
              "<Figure size 2160x2160 with 10 Axes>"
            ]
          },
          "metadata": {
            "needs_background": "light"
          }
        }
      ],
      "source": [
        "labels = {0:'airplane',1:'automobile',2:'bird',3:'cat',4:'deer',5:'dog',6:'frog',7:'horse',8:'ship',9:'truck'}\n",
        "train,test = get_data()\n",
        "print(f\"Train Shape: {train.data.shape} Test Shape: {test.data.shape} \\n\")\n",
        "plot_unique_images(train,labels =labels)\n",
        "plot_unique_images(train,labels =labels)"
      ]
    },
    {
      "cell_type": "code",
      "execution_count": 99,
      "metadata": {
        "id": "7y222dwRSTsb"
      },
      "outputs": [],
      "source": [
        "#Calculating mean and veriance and std"
      ]
    },
    {
      "cell_type": "code",
      "execution_count": 100,
      "metadata": {
        "colab": {
          "base_uri": "https://localhost:8080/",
          "height": 72
        },
        "id": "9hmSYR5PWgO7",
        "outputId": "68e8b3cb-af02-4562-9064-2518911b60b8"
      },
      "outputs": [
        {
          "output_type": "stream",
          "name": "stdout",
          "text": [
            "Mean: (0.49186877885008395, 0.48265390516493006, 0.44717727749693653) \n",
            "STD: (0.2469712143255279, 0.24338893940434994, 0.2615925905215076)\n"
          ]
        },
        {
          "output_type": "display_data",
          "data": {
            "text/plain": [
              "<Figure size 720x360 with 0 Axes>"
            ]
          },
          "metadata": {}
        }
      ],
      "source": [
        "# img_norm_typ  can be 'train' and 'train+test\n",
        "mean,std  = get_data_stats(train,test,img_norm_typ ='train+test',plot = False)\n",
        "print(f\"Mean: {mean} \\nSTD: {std}\")"
      ]
    },
    {
      "cell_type": "markdown",
      "metadata": {
        "id": "xQzYQVeWlC0c"
      },
      "source": [
        "Data Transform Compose"
      ]
    },
    {
      "cell_type": "code",
      "execution_count": 101,
      "metadata": {
        "id": "nOvXHwrSqKJj"
      },
      "outputs": [],
      "source": [
        "# Base Normalization\n",
        "train_transform =A.Compose([A.Resize(32,32),\n",
        "                            A.Normalize(mean = mean,std = std,max_pixel_value=255,always_apply = True),\n",
        "                            ToTensorV2(transpose_mask =False),\n",
        "                            ])      \n",
        "test_transform = A.Compose([A.Resize(32,32),\n",
        "                            A.Normalize(mean = mean,std = std,max_pixel_value=255,always_apply = True),\n",
        "                            ToTensorV2(transpose_mask =False,),\n",
        "                            ])"
      ]
    },
    {
      "cell_type": "code",
      "source": [
        "# Advanced Normalization\n",
        "train_transform =A.Compose([A.Resize(32,32),\n",
        "                            A.Normalize(mean = mean,std = std,max_pixel_value=255,always_apply = True),\n",
        "                             A.ShiftScaleRotate(always_apply=False),\n",
        "                             A.CoarseDropout(always_apply = False,max_holes = 1, max_height=16, max_width=16, min_holes = 1, min_height=16, min_width=16, fill_value=mean, mask_fill_value = None),\n",
        "                            ToTensorV2(transpose_mask =False),\n",
        "                             ])      \n",
        "test_transform = A.Compose([A.Resize(32,32),\n",
        "                             A.Normalize(mean = mean,std = std,max_pixel_value=255,always_apply = True),\n",
        "                           ToTensorV2(transpose_mask =False), ])"
      ],
      "metadata": {
        "id": "-nT0T1cIDPug"
      },
      "execution_count": 102,
      "outputs": []
    },
    {
      "cell_type": "code",
      "execution_count": 103,
      "metadata": {
        "colab": {
          "base_uri": "https://localhost:8080/",
          "height": 588
        },
        "id": "oaJ7J8rAqTSr",
        "outputId": "5c0bb7d7-d2fc-4688-bda2-af84c6f74844"
      },
      "outputs": [
        {
          "output_type": "execute_result",
          "data": {
            "text/plain": [
              "numpy.ndarray"
            ]
          },
          "metadata": {},
          "execution_count": 103
        },
        {
          "output_type": "display_data",
          "data": {
            "image/png": "[encoded data removed]",
            "text/plain": [
              "<Figure size 432x288 with 1 Axes>"
            ]
          },
          "metadata": {
            "needs_background": "light"
          }
        },
        {
          "output_type": "stream",
          "name": "stderr",
          "text": [
            "Clipping input data to the valid range for imshow with RGB data ([0..1] for floats or [0..255] for integers).\n"
          ]
        },
        {
          "output_type": "stream",
          "name": "stdout",
          "text": [
            "Before(32, 32, 3)\n",
            "Aftertorch.Size([3, 32, 32])\n"
          ]
        },
        {
          "output_type": "display_data",
          "data": {
            "image/png": "[encoded data removed]",
            "text/plain": [
              "<Figure size 432x288 with 1 Axes>"
            ]
          },
          "metadata": {
            "needs_background": "light"
          }
        }
      ],
      "source": [
        "t = train.data\n",
        "type(t[10])\n",
        "a = t[np.random.randint(0,50000)]\n",
        "_ = plt.imshow(a)\n",
        "_ = plt.show()\n",
        "print(f\"Before{a.shape}\")\n",
        "# _ = plt.subplots(figsize = (5,5))\n",
        "a = train_transform(image = a)[\"image\"]\n",
        "print(f\"After{a.shape}\")\n",
        "_ = plt.imshow(np.transpose(a,(1,2,0)))\n",
        "# _ = plt.imshow(a)\n",
        "\n",
        "_ = plt.show()"
      ]
    },
    {
      "cell_type": "code",
      "execution_count": 103,
      "metadata": {
        "id": "Z9MBD0jPacQN"
      },
      "outputs": [],
      "source": [
        ""
      ]
    },
    {
      "cell_type": "markdown",
      "metadata": {
        "id": "ErA4gL-Vbp46"
      },
      "source": [
        "Albumentation Compose"
      ]
    },
    {
      "cell_type": "code",
      "execution_count": 104,
      "metadata": {
        "id": "MEmErKJYn3cn"
      },
      "outputs": [],
      "source": [
        "class AlbumDataset(Dataset):\n",
        "    \"\"\"Face Landmarks dataset.\"\"\"\n",
        "\n",
        "    def __init__(self, data,transform=None):\n",
        "        \"\"\"\n",
        "        Args:\n",
        "            csv_file (string): Path to the csv file with annotations.\n",
        "            root_dir (string): Directory with all the images.\n",
        "            transform (callable, optional): Optional transform to be applied\n",
        "                on a sample.\n",
        "        \"\"\"\n",
        "        self.train = train.data\n",
        "        self.label = train.targets\n",
        "        self.transform = transform\n",
        "\n",
        "    def __len__(self):\n",
        "        return (len(self.train))\n",
        "\n",
        "    def __getitem__(self, idx):\n",
        "        image = self.train[idx]\n",
        "        image = np.array(image)\n",
        "        # image = image.fromarray(image).convert('RGB')\n",
        "        # image = np.asarray(image).astype(np.unit8)\n",
        "        if self.transform:\n",
        "            aug_image = self.transform(image= image)[\"image\"]\n",
        "        aug_image = torch.tensor(aug_image,dtype =torch.float)\n",
        "        return aug_image,self.label[idx]"
      ]
    },
    {
      "cell_type": "code",
      "execution_count": 104,
      "metadata": {
        "id": "5BrYDedLaQi2"
      },
      "outputs": [],
      "source": [
        ""
      ]
    },
    {
      "cell_type": "markdown",
      "metadata": {
        "id": "t5HY69M2kKAr"
      },
      "source": [
        "Custom Network Normalization "
      ]
    },
    {
      "cell_type": "code",
      "execution_count": 105,
      "metadata": {
        "id": "r0UaSg3IBa2A"
      },
      "outputs": [],
      "source": [
        "class GhostBatchNorm(nn.BatchNorm2d):\n",
        "    \"\"\"\n",
        "    From : https://github.com/davidcpage/cifar10-fast/blob/master/bag_of_tricks.ipynb\n",
        "\n",
        "    Batch norm seems to work best with batch size of around 32. The reasons presumably have to do \n",
        "    with noise in the batch statistics and specifically a balance between a beneficial regularising effect \n",
        "    at intermediate batch sizes and an excess of noise at small batches.\n",
        "    \n",
        "    Our batches are of size 512 and we can't afford to reduce them without taking a serious hit on training times, \n",
        "    but we can apply batch norm separately to subsets of a training batch. This technique, known as 'ghost' batch \n",
        "    norm, is usually used in a distributed setting but is just as useful when using large batches on a single node. \n",
        "    It isn't supported directly in PyTorch but we can roll our own easily enough.\n",
        "    \"\"\"\n",
        "    def __init__(self, num_features, num_splits, eps=1e-05, momentum=0.1, weight=True, bias=True):\n",
        "        super(GhostBatchNorm, self).__init__(num_features, eps=eps, momentum=momentum)\n",
        "        self.weight.data.fill_(1.0)\n",
        "        self.bias.data.fill_(0.0)\n",
        "        self.weight.requires_grad = weight\n",
        "        self.bias.requires_grad = bias        \n",
        "        self.num_splits = num_splits\n",
        "        self.register_buffer('running_mean', torch.zeros(num_features*self.num_splits))\n",
        "        self.register_buffer('running_var', torch.ones(num_features*self.num_splits))\n",
        "\n",
        "    def train(self, mode=True):\n",
        "        if (self.training is True) and (mode is False):\n",
        "            self.running_mean = torch.mean(self.running_mean.view(self.num_splits, self.num_features), dim=0).repeat(self.num_splits)\n",
        "            self.running_var = torch.mean(self.running_var.view(self.num_splits, self.num_features), dim=0).repeat(self.num_splits)\n",
        "        return super(GhostBatchNorm, self).train(mode)\n",
        "        \n",
        "    def forward(self, input):\n",
        "        N, C, H, W = input.shape\n",
        "        if self.training or not self.track_running_stats:\n",
        "            return F.batch_norm(\n",
        "                input.view(-1, C*self.num_splits, H, W), self.running_mean, self.running_var, \n",
        "                self.weight.repeat(self.num_splits), self.bias.repeat(self.num_splits),\n",
        "                True, self.momentum, self.eps).view(N, C, H, W) \n",
        "        else:\n",
        "            return F.batch_norm(\n",
        "                input, self.running_mean[:self.num_features], self.running_var[:self.num_features], \n",
        "                self.weight, self.bias, False, self.momentum, self.eps)\n",
        "\n",
        "\n",
        "def Normalize(norm_type,num_features,n_group=2):\n",
        "    if norm_type == 'bn':\n",
        "        return nn.BatchNorm2d(num_features = num_features)\n",
        "\n",
        "    elif norm_type =='gn':\n",
        "        return nn.GroupNorm(num_groups=n_group ,num_channels=num_features)\n",
        "    \n",
        "    elif norm_type =='ln':\n",
        "        return nn.GroupNorm(num_groups =1, num_channels=num_features)\n",
        "\n",
        "    elif norm_type == 'gbn':\n",
        "        return  GhostBatchNorm(num_features, num_splits=4, weight=False)\n",
        "        \n",
        "    else:\n",
        "        print ('Invalid norm Parameter, Providing Default as BN ')\n",
        "        return nn.BatchNorm2d(num_features = num_features,)"
      ]
    },
    {
      "cell_type": "code",
      "execution_count": 105,
      "metadata": {
        "id": "av5b7c4qkdiz"
      },
      "outputs": [],
      "source": [
        ""
      ]
    },
    {
      "cell_type": "markdown",
      "metadata": {
        "id": "vSYBqMQS_-Tf"
      },
      "source": [
        "Custom Convolution Blocks"
      ]
    },
    {
      "cell_type": "code",
      "execution_count": 106,
      "metadata": {
        "id": "1sYqJno_Oifq"
      },
      "outputs": [],
      "source": [
        "class Depthwise_sep_conv(nn.Module):\n",
        "    def __init__(self,in_channels,out_channels,dropout_val=0.1,norm_type = 'bn',stride = 1,padding = 1):\n",
        "        super(Depthwise_sep_conv,self).__init__()\n",
        "        self.in_channels  = in_channels\n",
        "        self.out_channels = out_channels\n",
        "        self.stride = stride\n",
        "        self.dropout_val = dropout_val\n",
        "        self.norm_type = norm_type\n",
        "        self.padding = padding \n",
        "\n",
        "        self.deptwiseseperable = nn.Conv2d(in_channels=self.in_channels, out_channels=self.in_channels,kernel_size =(3,3), stride = self.stride,padding = self.padding,groups = self.in_channels, bias = False)\n",
        "        self.pointwise = nn.Conv2d(in_channels=self.in_channels, out_channels=self.out_channels,kernel_size =(1,1), stride =1, bias = False)\n",
        "        self.norm = Normalize(norm_type = self.norm_type ,num_features= self.out_channels)\n",
        "        self.relu = nn.ReLU()\n",
        "        self.drop = nn.Dropout2d(p = self.dropout_val)\n",
        "    \n",
        "    def forward(self,x):\n",
        "        x = self.deptwiseseperable(x)\n",
        "        x = self.pointwise(x)\n",
        "        x = self.relu(x)\n",
        "        x = self.drop(x)\n",
        "        return x"
      ]
    },
    {
      "cell_type": "code",
      "execution_count": 107,
      "metadata": {
        "id": "i2imTJ9DCj2d"
      },
      "outputs": [],
      "source": [
        "class ConvBlock(nn.Module):\n",
        "    def __init__(self,in_channels,out_channels,stride,padding,kernel_size=(3,3),norm_type = 'bn' ,dropout_val = 0,dilation = 1):\n",
        "        super(ConvBlock,self).__init__()\n",
        "        self.in_channels = in_channels\n",
        "        self.out_channels = out_channels\n",
        "        self.stride=stride\n",
        "        self.padding= padding\n",
        "        self.kernel_size=kernel_size\n",
        "        self.norm_type = norm_type\n",
        "        self.dropout_val = dropout_val\n",
        "        self.dilation = dilation\n",
        "\n",
        "        self.conv = nn.Conv2d(in_channels=self.in_channels, out_channels=self.out_channels,kernel_size=self.kernel_size,stride =self.stride,padding = self.padding,dilation =self.dilation ,bias = False)\n",
        "        self.norm = Normalize(norm_type = self.norm_type ,num_features= self.out_channels)\n",
        "        self.relu = nn.ReLU()\n",
        "        self.drop = nn.Dropout2d(p = self.dropout_val)\n",
        "\n",
        "    def forward(self,x):\n",
        "        x = self.relu(self.norm(self.conv(x)))\n",
        "        x= self.drop(x)\n",
        "        return x"
      ]
    },
    {
      "cell_type": "markdown",
      "metadata": {
        "id": "nrN8Y-yAkfOy"
      },
      "source": [
        "Model Building"
      ]
    },
    {
      "cell_type": "code",
      "execution_count": 112,
      "metadata": {
        "id": "j2S-NcgznQXh"
      },
      "outputs": [],
      "source": [
        "class Cifar10Net1(nn.Module):\n",
        "    def __init__(self,dropout_val = 0,norm_type = 'bn'):\n",
        "        super(Cifar10Net1,self).__init__()\n",
        "        self.norm_type = norm_type\n",
        "        self.drop = dropout_val\n",
        "\n",
        "        self.block1 = nn.Sequential(\n",
        "            ConvBlock(in_channels=3,out_channels=8,kernel_size = (3,3),stride = 1, padding = 0,norm_type = self.norm_type,dropout_val= self.drop),\n",
        "            ConvBlock(in_channels=8,out_channels=16,kernel_size = (3,3),stride = 1, padding = 1,norm_type = self.norm_type,dropout_val= self.drop),\n",
        "            ConvBlock(in_channels=16,out_channels=32,kernel_size = (3,3),stride = 1, padding = 1,norm_type = self.norm_type,dropout_val= self.drop),\n",
        "            )\n",
        "        \n",
        "        self.pool1 =ConvBlock(in_channels=32,out_channels=32,kernel_size = (3,3),stride = 2, padding = 1,norm_type = self.norm_type,dropout_val= self.drop)\n",
        "\n",
        "\n",
        "        self.block2 = nn.Sequential(\n",
        "            ConvBlock(in_channels=32,out_channels=16,kernel_size = (1,1),stride = 1, padding = 1,norm_type = self.norm_type,dropout_val= self.drop),\n",
        "            Depthwise_sep_conv(in_channels=16,out_channels=32,dropout_val=self.drop,norm_type = self.norm_type,stride = 1,padding = 1),\n",
        "            Depthwise_sep_conv(in_channels=32,out_channels=64,dropout_val=self.drop,norm_type = self.norm_type,stride = 1,padding = 1),\n",
        "            # ConvBlock(in_channels=32,out_channels=64,kernel_size = (3,3),stride = 1, padding = 1,norm_type = self.norm_type,dropout_val= self.drop),\n",
        "            )\n",
        "\n",
        "        self.pool2 = ConvBlock(in_channels=64,out_channels=64,kernel_size = (3,3),stride = 2, padding = 0,norm_type = self.norm_type,dropout_val= self.drop)\n",
        "        \n",
        "        self.block3 = nn.Sequential(\n",
        "            ConvBlock(in_channels=64,out_channels=32,kernel_size = (1,1),stride = 1, padding =1,norm_type = self.norm_type,dropout_val= self.drop),\n",
        "            Depthwise_sep_conv(in_channels=32,out_channels=64,dropout_val=self.drop,norm_type = self.norm_type,stride = 1,padding =1),\n",
        "            Depthwise_sep_conv(in_channels=64,out_channels=128,dropout_val=self.drop,norm_type = self.norm_type,stride = 1,padding =1),\n",
        "            )\n",
        "\n",
        "        self.conv_block1 = ConvBlock(in_channels=128,out_channels=32,kernel_size = (1,1),stride = 1, padding =0,norm_type = self.norm_type,dropout_val= self.drop),\n",
        "        self.conv_block2 = ConvBlock(in_channels=32,out_channels=32,kernel_size = (3,3),stride = 1, padding =0,norm_type = self.norm_type,dropout_val= self.drop,dilation =2),\n",
        "        self.conv_block3 = ConvBlock(in_channels=32,out_channels=64,kernel_size = (3,3),stride = 1, padding =0,norm_type = self.norm_type,dropout_val= self.drop,dilation =2),\n",
        "\n",
        "        # self.conv_block1 = nn.Conv2d(in_channels=128,out_channels=32,kernel_size = (1,1),stride = 1, padding =0,bias= False)\n",
        "        # self.conv_block2 = nn.Conv2d(in_channels=32,out_channels=32,kernel_size = (3,3),stride = 1, padding =0,dilation =2,bias= False)\n",
        "        self.conv_block3 = nn.Conv2d(in_channels=32,out_channels=64,kernel_size = (3,3),stride = 1, padding =0,bias= False)\n",
        "        \n",
        "        \n",
        "        self.GAP = nn.AdaptiveAvgPool2d(output_size=(1,1))\n",
        "        # self.GAP = nn.AvgPool2d(kernel_size = (5,5))\n",
        "        self.linear = nn.Linear(in_features =64 ,out_features = 10)\n",
        "        # self.conv_block4 = nn.Conv2d(in_channels=64,out_channels=10,kernel_size = (3,3),stride = 1, padding =0)\n",
        "        # self.conv_block5 = nn.Conv2d(in_channels=64,out_channels=10,kernel_size = (1,1),stride = 1, padding =0)\n",
        "        # self.conv_block4 = nn.Conv2d(in_channels=32,out_channels=10,kernel_size = (1,1),stride = 1, padding =0,bias= False)\n",
        "\n",
        "\n",
        "\n",
        "    def forward(self,x):\n",
        "        x = self.block1(x)\n",
        "        x = self.pool1(x)\n",
        "        x = self.block2(x)\n",
        "        x = self.pool2(x)\n",
        "        x = self.block3(x)\n",
        "        x = self.conv_block1(x)\n",
        "        x = self.conv_block2(x)\n",
        "        x = self.conv_block3(x)\n",
        "        x = self.GAP(x)\n",
        "        # x = self.conv_block4(x)\n",
        "        # x = self.conv_block5(x)\n",
        "        # return x\n",
        "        x = x.view(-1,64)\n",
        "        x = self.linear(x)\n",
        "        return F.log_softmax(x,dim = -1)"
      ]
    },
    {
      "cell_type": "code",
      "execution_count": 112,
      "metadata": {
        "id": "s4vqR3KnO44t"
      },
      "outputs": [],
      "source": [
        ""
      ]
    },
    {
      "cell_type": "code",
      "execution_count": 113,
      "metadata": {
        "id": "BXaOiEc8yoVo",
        "colab": {
          "base_uri": "https://localhost:8080/"
        },
        "outputId": "5c0646ae-f10c-4b14-9776-3d853c8f406a"
      },
      "outputs": [
        {
          "output_type": "stream",
          "name": "stdout",
          "text": [
            "=======================================Reciptive Field Calculator========================================\n",
            "|    | Kernel_size   | Padding   |   Stride | Input_Img_size   | Output_Img_size   | Receptive_field   |\n",
            "|---:|:--------------|:----------|---------:|:-----------------|:------------------|:------------------|\n",
            "|  0 | 3*3           | NO        |        1 | 32*32            | 30*30             | 3*3               |\n",
            "|  1 | 3*3           | 1         |        1 | 30*30            | 30*30             | 5*5               |\n",
            "|  2 | 3*3           | 1         |        1 | 30*30            | 30*30             | 7*7               |\n",
            "|  3 | 3*3           | 1         |        2 | 30*30            | 15*15             | 9*9               |\n",
            "|  4 | 1*1           | 1         |        1 | 15*15            | 17*17             | 9*9               |\n",
            "|  5 | 3*3           | 1         |        1 | 17*17            | 17*17             | 13*13             |\n",
            "|  6 | 1*1           | NO        |        1 | 17*17            | 17*17             | 13*13             |\n",
            "|  7 | 3*3           | 1         |        1 | 17*17            | 17*17             | 17*17             |\n",
            "|  8 | 1*1           | NO        |        1 | 17*17            | 17*17             | 17*17             |\n",
            "|  9 | 3*3           | NO        |        2 | 17*17            | 8*8               | 21*21             |\n",
            "| 10 | 1*1           | 1         |        1 | 8*8              | 10*10             | 21*21             |\n",
            "| 11 | 3*3           | 1         |        1 | 10*10            | 10*10             | 29*29             |\n",
            "| 12 | 1*1           | NO        |        1 | 10*10            | 10*10             | 29*29             |\n",
            "| 13 | 3*3           | 1         |        1 | 10*10            | 10*10             | 37*37             |\n",
            "| 14 | 1*1           | NO        |        1 | 10*10            | 10*10             | 37*37             |\n",
            "| 15 | 1*1           | NO        |        1 | 10*10            | 10*10             | 37*37             |\n",
            "| 16 | 3*3           | NO        |        1 | 10*10            | 8*8               | 45*45             |\n",
            "| 17 | 3*3           | NO        |        1 | 8*8              | 6*6               | 53*53             |\n",
            "| 18 | 1*1           | NO        |        1 | 6*6              | 6*6               | 53*53             |\n",
            "=========================================================================================================\n",
            "----------------------------------------------------------------\n",
            "        Layer (type)               Output Shape         Param #\n",
            "================================================================\n",
            "            Conv2d-1            [-1, 8, 30, 30]             216\n",
            "       BatchNorm2d-2            [-1, 8, 30, 30]              16\n",
            "              ReLU-3            [-1, 8, 30, 30]               0\n",
            "         Dropout2d-4            [-1, 8, 30, 30]               0\n",
            "         ConvBlock-5            [-1, 8, 30, 30]               0\n",
            "            Conv2d-6           [-1, 16, 30, 30]           1,152\n",
            "       BatchNorm2d-7           [-1, 16, 30, 30]              32\n",
            "              ReLU-8           [-1, 16, 30, 30]               0\n",
            "         Dropout2d-9           [-1, 16, 30, 30]               0\n",
            "        ConvBlock-10           [-1, 16, 30, 30]               0\n",
            "           Conv2d-11           [-1, 32, 30, 30]           4,608\n",
            "      BatchNorm2d-12           [-1, 32, 30, 30]              64\n",
            "             ReLU-13           [-1, 32, 30, 30]               0\n",
            "        Dropout2d-14           [-1, 32, 30, 30]               0\n",
            "        ConvBlock-15           [-1, 32, 30, 30]               0\n",
            "           Conv2d-16           [-1, 32, 15, 15]           9,216\n",
            "      BatchNorm2d-17           [-1, 32, 15, 15]              64\n",
            "             ReLU-18           [-1, 32, 15, 15]               0\n",
            "        Dropout2d-19           [-1, 32, 15, 15]               0\n",
            "        ConvBlock-20           [-1, 32, 15, 15]               0\n",
            "           Conv2d-21           [-1, 16, 17, 17]             512\n",
            "      BatchNorm2d-22           [-1, 16, 17, 17]              32\n",
            "             ReLU-23           [-1, 16, 17, 17]               0\n",
            "        Dropout2d-24           [-1, 16, 17, 17]               0\n",
            "        ConvBlock-25           [-1, 16, 17, 17]               0\n",
            "           Conv2d-26           [-1, 16, 17, 17]             144\n",
            "           Conv2d-27           [-1, 32, 17, 17]             512\n",
            "             ReLU-28           [-1, 32, 17, 17]               0\n",
            "        Dropout2d-29           [-1, 32, 17, 17]               0\n",
            "Depthwise_sep_conv-30           [-1, 32, 17, 17]               0\n",
            "           Conv2d-31           [-1, 32, 17, 17]             288\n",
            "           Conv2d-32           [-1, 64, 17, 17]           2,048\n",
            "             ReLU-33           [-1, 64, 17, 17]               0\n",
            "        Dropout2d-34           [-1, 64, 17, 17]               0\n",
            "Depthwise_sep_conv-35           [-1, 64, 17, 17]               0\n",
            "           Conv2d-36             [-1, 64, 8, 8]          36,864\n",
            "      BatchNorm2d-37             [-1, 64, 8, 8]             128\n",
            "             ReLU-38             [-1, 64, 8, 8]               0\n",
            "        Dropout2d-39             [-1, 64, 8, 8]               0\n",
            "        ConvBlock-40             [-1, 64, 8, 8]               0\n",
            "           Conv2d-41           [-1, 32, 10, 10]           2,048\n",
            "      BatchNorm2d-42           [-1, 32, 10, 10]              64\n",
            "             ReLU-43           [-1, 32, 10, 10]               0\n",
            "        Dropout2d-44           [-1, 32, 10, 10]               0\n",
            "        ConvBlock-45           [-1, 32, 10, 10]               0\n",
            "           Conv2d-46           [-1, 32, 10, 10]             288\n",
            "           Conv2d-47           [-1, 64, 10, 10]           2,048\n",
            "             ReLU-48           [-1, 64, 10, 10]               0\n",
            "        Dropout2d-49           [-1, 64, 10, 10]               0\n",
            "Depthwise_sep_conv-50           [-1, 64, 10, 10]               0\n",
            "           Conv2d-51           [-1, 64, 10, 10]             576\n",
            "           Conv2d-52          [-1, 128, 10, 10]           8,192\n",
            "             ReLU-53          [-1, 128, 10, 10]               0\n",
            "        Dropout2d-54          [-1, 128, 10, 10]               0\n",
            "Depthwise_sep_conv-55          [-1, 128, 10, 10]               0\n",
            "           Conv2d-56           [-1, 32, 10, 10]           4,096\n",
            "           Conv2d-57             [-1, 32, 6, 6]           9,216\n",
            "           Conv2d-58             [-1, 64, 4, 4]          18,432\n",
            "AdaptiveAvgPool2d-59             [-1, 64, 1, 1]               0\n",
            "           Linear-60                   [-1, 10]             650\n",
            "================================================================\n",
            "Total params: 101,506\n",
            "Trainable params: 101,506\n",
            "Non-trainable params: 0\n",
            "----------------------------------------------------------------\n",
            "Input size (MB): 0.01\n",
            "Forward/backward pass size (MB): 4.31\n",
            "Params size (MB): 0.39\n",
            "Estimated Total Size (MB): 4.70\n",
            "----------------------------------------------------------------\n"
          ]
        }
      ],
      "source": [
        "device = 'cuda' if torch.cuda.is_available() else \"cpu\"\n",
        "model = Cifar10Net1(norm_type='bn',dropout_val=0.01).to(device)\n",
        "rf_df = receptive_field(model,32)\n",
        "summary(model,input_size=(3,32,32))"
      ]
    },
    {
      "cell_type": "markdown",
      "metadata": {
        "id": "xzED6q5Qxprf"
      },
      "source": [
        "Model Checks"
      ]
    },
    {
      "cell_type": "code",
      "execution_count": 114,
      "metadata": {
        "id": "mPXuwVAqyoJs"
      },
      "outputs": [],
      "source": [
        "# device = 'cuda' if torch.cuda.is_available() else \"cpu\"\n",
        "# model = Cifar10Net(norm_type='bn',dropout_val=0.01).to(device)\n",
        "# rf_df = receptive_field(model,32)\n",
        "# summary(model,input_size=(3,32,32))"
      ]
    },
    {
      "cell_type": "markdown",
      "metadata": {
        "id": "lYI2ntLCmOem"
      },
      "source": [
        "Loss Function and Optimizers"
      ]
    },
    {
      "cell_type": "code",
      "execution_count": 115,
      "metadata": {
        "id": "a05n4HFDm7XN"
      },
      "outputs": [],
      "source": [
        "def get_optimizer(model_obj,loss_type=None,scheduler = False):\n",
        "    loss_type= str(loss_type).upper()\n",
        "    parameters = model_obj.parameters()\n",
        "    if loss_type  == 'L2' :\n",
        "        optimizer = SGD( params = parameters,lr = 0.01,momentum = 0.9,weight_decay= 0.001)\n",
        "    else:\n",
        "        optimizer = SGD( params = parameters,lr = 0.01,momentum = 0.9)\n",
        "    if scheduler == True:\n",
        "        scheduler = StepLR(optimizer,step_size = 20,gamma = 0.1)\n",
        "        return optimizer,scheduler\n",
        "    else:\n",
        "        return optimizer,_\n",
        "\n",
        "\n",
        "#L1 Loss\n",
        "\n",
        "def L1_loss(model_obj,loss):\n",
        "        \n",
        "    l1 = 0\n",
        "    lambda_l1 = 0.0001\n",
        "    for p in model_obj.parameters():\n",
        "        l1 = l1+p.abs().sum()\n",
        "        loss = loss+ lambda_l1* l1\n",
        "    return loss\n"
      ]
    },
    {
      "cell_type": "markdown",
      "metadata": {
        "id": "PDCps6tdlaSD"
      },
      "source": [
        "Model Performance Visualizer"
      ]
    },
    {
      "cell_type": "code",
      "execution_count": 116,
      "metadata": {
        "id": "wdeuLltCm63m"
      },
      "outputs": [],
      "source": [
        "\n",
        "def plot_acc_loss(typ ,train_acc,train_losses,test_acc,test_losses):\n",
        "    fig, axs = plt.subplots(1,2,figsize = (20,5))\n",
        "    # print ('Accuracy model on  ', typ)\n",
        "    plt.autoscale()\n",
        "    axs[0].plot(train_acc,color = 'red')\n",
        "    axs[0].plot(test_acc,color = 'green')\n",
        "    title = 'Training/testing accuracy'\n",
        "    axs[0].set_title(title)\n",
        "    axs[0].set_ylabel('Accuracy')\n",
        "    axs[0].set_xlabel('Epoch')\n",
        "    axs[0].legend(['train acc','test acc'], loc='best')\n",
        "       \n",
        "    axs[1].plot(train_losses,color = 'red')\n",
        "    axs[1].plot(test_losses,color = 'green')\n",
        "    title = 'Training/Testing Loss'\n",
        "    axs[1].set_title(title)\n",
        "    axs[1].set_ylabel('Loss')\n",
        "    axs[1].set_xlabel('Epoch')\n",
        "    axs[1].legend(['train loss','test loss'], loc='best')\n",
        "    plt.title(typ + ' model Accuracy Vs Loss')\n",
        "\n",
        "    plt.show()\n",
        "    fig.tight_layout(pad = 1.0)"
      ]
    },
    {
      "cell_type": "code",
      "execution_count": 116,
      "metadata": {
        "id": "yazoXKp1leJ8"
      },
      "outputs": [],
      "source": [
        ""
      ]
    },
    {
      "cell_type": "markdown",
      "metadata": {
        "id": "PqRHgxBrldsU"
      },
      "source": [
        "Training / Testing Lopp Blocks"
      ]
    },
    {
      "cell_type": "code",
      "execution_count": 117,
      "metadata": {
        "id": "eX8TODgnnE3m"
      },
      "outputs": [],
      "source": [
        "train_losses = []\n",
        "train_accuracy = []\n",
        "test_losses =[]\n",
        "test_accuracy = []\n",
        "\n",
        "def trainning(model,device,train_data,optimizer,epochs,L1 = False,L2= False):\n",
        "    total_loss = 0\n",
        "    correct = 0\n",
        "    processed = 0\n",
        "\n",
        "    model.train()\n",
        "    pbar = tqdm(train_loader,colour = '\\x1b[34m')\n",
        "    \n",
        "    for index_id,(data,target) in enumerate(pbar):\n",
        "        data,target = data.to(device),target.to(device)\n",
        "        optimizer.zero_grad()\n",
        "        output = model(data)\n",
        "        loss = F.nll_loss(output,target)\n",
        "        if L1 == True:\n",
        "            loss = L1_loss(model,loss)\n",
        "\n",
        "        total_loss += loss\n",
        "        loss.backward()\n",
        "        optimizer.step()\n",
        "        correct += output.argmax(dim = 1).eq(target).sum().item()\n",
        "        processed += len(data)\n",
        "        pbar.set_description(f\"Train ==> Epochs: {epochs} Batch:  {index_id} loss: {loss} Accuracy: { correct/processed *100 :.2f}% \")\n",
        "\n",
        "    acc = correct /processed\n",
        "    total_loss = total_loss.item()/processed\n",
        "    train_losses.append(total_loss)\n",
        "    train_accuracy.append(acc)\n",
        "\n",
        "    return train_losses, train_accuracy\n",
        "\n",
        "\n",
        "def testing(model,device,test_data,optimizer,epochs):\n",
        "    model.eval()\n",
        "    \n",
        "    test_loss = 0\n",
        "    correct = 0\n",
        "    processed = 0\n",
        "    pbar= tqdm(test_loader)\n",
        "    with torch.no_grad():\n",
        "        for id_x,(data,target) in enumerate(pbar):\n",
        "            data,target = data.to(device),target.to(device)\n",
        "\n",
        "            output = model(data)\n",
        "            test_loss += F.nll_loss(output,target,reduce='sum').item()\n",
        "            pred  = output.argmax(dim =1,keepdim = True)\n",
        "\n",
        "            correct += pred.eq(target.view_as(pred)).sum().item()\n",
        "            processed += len(data)\n",
        "            \n",
        "            pbar.set_description(f\"Test ==> Epochs: {epochs} Batch:  {id_x} loss: {test_loss/processed} Accuracy: { correct / processed *100 :.2f}% \")\n",
        "        \n",
        "    acc = correct / processed\n",
        "    test_loss /= processed\n",
        "    test_accuracy.append(acc)\n",
        "    test_losses.append(test_loss)\n",
        "   \n",
        "    \n",
        "    # print('\\nTest set: Average loss: {:.4f}, Accuracy: {}/{} ({:.6f}%)\\n'.format(\n",
        "    #     test_loss, correct, processed, 100. * correct / processed))\n",
        "    \n",
        "    return test_losses,test_accuracy"
      ]
    },
    {
      "cell_type": "markdown",
      "metadata": {
        "id": "I2VpCIJnlngb"
      },
      "source": [
        "After Train data Visualization Block"
      ]
    },
    {
      "cell_type": "code",
      "execution_count": 118,
      "metadata": {
        "id": "APE7jzoKh9N7"
      },
      "outputs": [],
      "source": [
        "def convert_image_np(inp,mean,std):\n",
        "    \"\"\"Convert a Tensor to numpy image.\"\"\"\n",
        "    inp = inp.numpy().transpose((1, 2, 0))\n",
        "    mean = np.array(mean)\n",
        "    std = np.array(std)\n",
        "    inp = std * inp + mean\n",
        "    inp = np.clip(inp, 0, 1)\n",
        "    return inp\n",
        "    \n",
        "def print_wrong_image(model,data_loader,mean,std,l,b):\n",
        "\n",
        "    if l*b >= 30:\n",
        "        n_images = 50\n",
        "    \n",
        "    labels = {0: 'airplane', 1: 'automobile', 2: 'bird', 3: 'cat', 4: 'deer', 5: 'dog', 6: 'frog', 7: 'horse', 8: 'ship', 9: 'truck'}\n",
        "    wrong_images = []\n",
        "    wrong_labels = []\n",
        "    right_labels = []\n",
        "    val = []\n",
        "    device = \"cuda\" if torch.cuda.is_available() else \"cpu\"\n",
        "\n",
        "    for data,label in data_loader:\n",
        "        data,label = data.to(device),label.to(device)\n",
        "        # _=plt.imshow(np.transpose(data[16].to(\"cpu\"),(1,2,0)))\n",
        "        # _=plt.xlabel(f\"Act:{labels[label[16].item()]} \\n  \")\n",
        "        with torch.no_grad():\n",
        "            out = model(data)\n",
        "            wrong_idx = (out.to(device).argmax(dim = 1).eq(label.to(device)) ==False)\n",
        "            val.extend(out[wrong_idx].to(\"cpu\").max(axis = 1)[0])\n",
        "            wrong_images.extend(data[wrong_idx].to(\"cpu\"))\n",
        "            wrong_labels.extend(out[wrong_idx].argmax(dim = 1).to(\"cpu\"))\n",
        "            right_labels.extend(label[wrong_idx].to(\"cpu\"))\n",
        "\n",
        "    wrong_idx = [i for i in range(0,len(wrong_images))]\n",
        "    idx = [i for i in range(0,len(wrong_labels))]\n",
        "    np.random.shuffle(wrong_idx)\n",
        "    fig = plt.figure(figsize=(2.5*b,5*l))\n",
        "    count = 1\n",
        "    for image_index in wrong_idx:\n",
        "        n= image_index\n",
        "        ax = fig.add_subplot(l,b,count)\n",
        "        # plt.imshow(np.array(np.transpose(data[10].to(\"cpu\"),(1,2,0))))\n",
        "        img_x = convert_image_np(wrong_images[image_index],mean,std)\n",
        "        _=plt.imshow(img_x)\n",
        "        # _=plt.title(f\"wrong Images\")\n",
        "        _=plt.xlabel(f\"Act:{labels[right_labels[image_index].item()]} \\n Pred: {labels[wrong_labels[image_index].item()]} \\n Val: {val[image_index].item()}\")\n",
        "        \n",
        "        fig.tight_layout(pad = 0.5)\n",
        "        count+= 1\n",
        "        if count== (l*b)+1:\n",
        "            break\n",
        "    _ = plt.autoscale()\n",
        "    _= plt.show()"
      ]
    },
    {
      "cell_type": "markdown",
      "metadata": {
        "id": "tdl4TYhNlrLz"
      },
      "source": [
        "Model and Dependency Calling block "
      ]
    },
    {
      "cell_type": "code",
      "execution_count": 119,
      "metadata": {
        "id": "6EjpSYB3nJr1"
      },
      "outputs": [],
      "source": [
        "def Run_Model(model_class,train_loader,test_loader,epochs , L1 = False):\n",
        "    \n",
        "    device = \"cuda\" if torch.cuda.is_available() else \"cpu\"\n",
        "    print (f'running on {device} \\n')\n",
        "    #take input as normal_type ['gbn','bn','gn','ln']\n",
        "    model = model_class.to(device)\n",
        "    try:\n",
        "        print(summary(model,input_size = (3,32,32)))\n",
        "    except:\n",
        "        pass\n",
        "\n",
        "    optimizer,scheduler = get_optimizer(model,scheduler = True )\n",
        "    # optimizer = SGD( params = model.parameters(),lr = 0.01,momentum = 0.9)\n",
        "    for EPOCHS in range(0,epochs):\n",
        "        if L1 == True:\n",
        "            train_losses, train_accuracy = trainning(model,device,train_loader,optimizer,EPOCHS,L1 = L1)\n",
        "        else:\n",
        "            train_losses, train_accuracy = trainning(model,device,train_loader,optimizer,EPOCHS)\n",
        "        test_losses,test_accuracy = testing(model,device,test_loader,optimizer,EPOCHS)\n",
        "        scheduler.step()\n",
        "        try:\n",
        "            if (EPOCHS >=3)&(max(test_accuracy[:-1]) < test_accuracy[-1]) & (max(test_accuracy) >= .85):\n",
        "                checkpoint = {'epoch': EPOCHS + 1,'valid_loss_min': test_losses[-1],'state_dict': model.state_dict(),'optimizer': optimizer.state_dict(),} # Export to TorchScript\n",
        "                torch.save(checkpoint ,'./Model_cifar10.pt') # Save\n",
        "                print (f\" Target Achieved: {max(test_accuracy)*100}% Test Accuracy !!\")\n",
        "        except:\n",
        "            print('Model Saving Failed !!')\n",
        "\n",
        "        print (\"LR :{}\\n\".format(scheduler.get_lr()[0]))\n",
        "    return model,train_losses, train_accuracy,test_losses,test_accuracy"
      ]
    },
    {
      "cell_type": "markdown",
      "metadata": {
        "id": "64soTjc6lxPc"
      },
      "source": [
        "Master Pipeline Calling Block\n"
      ]
    },
    {
      "cell_type": "code",
      "execution_count": 120,
      "metadata": {
        "id": "6ZZpcFj6XZ6l",
        "colab": {
          "base_uri": "https://localhost:8080/",
          "height": 1000
        },
        "outputId": "377d4508-3388-4423-bead-e599354f3f24"
      },
      "outputs": [
        {
          "output_type": "stream",
          "name": "stdout",
          "text": [
            "Files already downloaded and verified\n",
            "Files already downloaded and verified\n",
            "running on cuda \n",
            "\n"
          ]
        },
        {
          "output_type": "stream",
          "name": "stderr",
          "text": [
            "Train ==> Epochs: 0 Batch:  781 loss: 1.8835334777832031 Accuracy: 19.56% : 100%|██████████| 782/782 [00:13<00:00, 56.79it/s]\n",
            "Test ==> Epochs: 0 Batch:  781 loss: 0.028185847747325896 Accuracy: 31.24% : 100%|██████████| 782/782 [00:08<00:00, 95.23it/s] \n"
          ]
        },
        {
          "output_type": "stream",
          "name": "stdout",
          "text": [
            "Model Saving Failed !!\n",
            "LR :0.01\n",
            "\n"
          ]
        },
        {
          "output_type": "stream",
          "name": "stderr",
          "text": [
            "Train ==> Epochs: 1 Batch:  781 loss: 2.0907979011535645 Accuracy: 31.94% : 100%|██████████| 782/782 [00:13<00:00, 56.33it/s]\n",
            "Test ==> Epochs: 1 Batch:  781 loss: 0.02535280319929123 Accuracy: 38.56% : 100%|██████████| 782/782 [00:08<00:00, 94.42it/s] \n"
          ]
        },
        {
          "output_type": "stream",
          "name": "stdout",
          "text": [
            "LR :0.01\n",
            "\n"
          ]
        },
        {
          "output_type": "stream",
          "name": "stderr",
          "text": [
            "Train ==> Epochs: 2 Batch:  781 loss: 1.24092698097229 Accuracy: 37.55% : 100%|██████████| 782/782 [00:13<00:00, 57.51it/s]\n",
            "Test ==> Epochs: 2 Batch:  781 loss: 0.022544214670658112 Accuracy: 45.72% : 100%|██████████| 782/782 [00:08<00:00, 94.07it/s] \n"
          ]
        },
        {
          "output_type": "stream",
          "name": "stdout",
          "text": [
            "LR :0.01\n",
            "\n"
          ]
        },
        {
          "output_type": "stream",
          "name": "stderr",
          "text": [
            "Train ==> Epochs: 3 Batch:  781 loss: 1.776942491531372 Accuracy: 43.10% : 100%|██████████| 782/782 [00:15<00:00, 49.60it/s]\n",
            "Test ==> Epochs: 3 Batch:  781 loss: 0.021154418418407442 Accuracy: 49.16% : 100%|██████████| 782/782 [00:09<00:00, 85.66it/s]\n"
          ]
        },
        {
          "output_type": "stream",
          "name": "stdout",
          "text": [
            "LR :0.01\n",
            "\n"
          ]
        },
        {
          "output_type": "stream",
          "name": "stderr",
          "text": [
            "Train ==> Epochs: 4 Batch:  781 loss: 1.662715196609497 Accuracy: 46.83% : 100%|██████████| 782/782 [00:14<00:00, 53.16it/s]\n",
            "Test ==> Epochs: 4 Batch:  781 loss: 0.019075173243284227 Accuracy: 55.20% : 100%|██████████| 782/782 [00:08<00:00, 89.23it/s]\n"
          ]
        },
        {
          "output_type": "stream",
          "name": "stdout",
          "text": [
            "LR :0.01\n",
            "\n"
          ]
        },
        {
          "output_type": "stream",
          "name": "stderr",
          "text": [
            "Train ==> Epochs: 5 Batch:  781 loss: 1.313826084136963 Accuracy: 49.82% : 100%|██████████| 782/782 [00:13<00:00, 57.61it/s]\n",
            "Test ==> Epochs: 5 Batch:  781 loss: 0.01800992336511612 Accuracy: 58.37% : 100%|██████████| 782/782 [00:08<00:00, 93.47it/s] \n"
          ]
        },
        {
          "output_type": "stream",
          "name": "stdout",
          "text": [
            "LR :0.01\n",
            "\n"
          ]
        },
        {
          "output_type": "stream",
          "name": "stderr",
          "text": [
            "Train ==> Epochs: 6 Batch:  781 loss: 1.2013099193572998 Accuracy: 51.91% : 100%|██████████| 782/782 [00:13<00:00, 58.29it/s]\n",
            "Test ==> Epochs: 6 Batch:  781 loss: 0.016875085809230805 Accuracy: 60.87% : 100%|██████████| 782/782 [00:08<00:00, 94.34it/s] \n"
          ]
        },
        {
          "output_type": "stream",
          "name": "stdout",
          "text": [
            "LR :0.01\n",
            "\n"
          ]
        },
        {
          "output_type": "stream",
          "name": "stderr",
          "text": [
            "Train ==> Epochs: 7 Batch:  781 loss: 1.6008474826812744 Accuracy: 53.47% : 100%|██████████| 782/782 [00:13<00:00, 58.13it/s]\n",
            "Test ==> Epochs: 7 Batch:  781 loss: 0.016904163842201232 Accuracy: 60.28% : 100%|██████████| 782/782 [00:10<00:00, 75.79it/s] \n"
          ]
        },
        {
          "output_type": "stream",
          "name": "stdout",
          "text": [
            "LR :0.01\n",
            "\n"
          ]
        },
        {
          "output_type": "stream",
          "name": "stderr",
          "text": [
            "Train ==> Epochs: 8 Batch:  781 loss: 1.547878623008728 Accuracy: 55.44% : 100%|██████████| 782/782 [00:13<00:00, 58.30it/s]\n",
            "Test ==> Epochs: 8 Batch:  781 loss: 0.014610221996307373 Accuracy: 66.33% : 100%|██████████| 782/782 [00:08<00:00, 94.15it/s] \n"
          ]
        },
        {
          "output_type": "stream",
          "name": "stdout",
          "text": [
            "LR :0.01\n",
            "\n"
          ]
        },
        {
          "output_type": "stream",
          "name": "stderr",
          "text": [
            "Train ==> Epochs: 9 Batch:  781 loss: 1.362180471420288 Accuracy: 56.92% : 100%|██████████| 782/782 [00:13<00:00, 57.70it/s]\n",
            "Test ==> Epochs: 9 Batch:  781 loss: 0.014575303606987 Accuracy: 66.42% : 100%|██████████| 782/782 [00:08<00:00, 95.38it/s]\n"
          ]
        },
        {
          "output_type": "stream",
          "name": "stdout",
          "text": [
            "LR :0.01\n",
            "\n"
          ]
        },
        {
          "output_type": "stream",
          "name": "stderr",
          "text": [
            "Train ==> Epochs: 10 Batch:  781 loss: 1.6879117488861084 Accuracy: 58.10% : 100%|██████████| 782/782 [00:13<00:00, 58.02it/s]\n",
            "Test ==> Epochs: 10 Batch:  781 loss: 0.01604827462553978 Accuracy: 64.46% : 100%|██████████| 782/782 [00:08<00:00, 94.40it/s]\n"
          ]
        },
        {
          "output_type": "stream",
          "name": "stdout",
          "text": [
            "LR :0.01\n",
            "\n"
          ]
        },
        {
          "output_type": "stream",
          "name": "stderr",
          "text": [
            "Train ==> Epochs: 11 Batch:  781 loss: 1.0434452295303345 Accuracy: 59.01% : 100%|██████████| 782/782 [00:13<00:00, 57.92it/s]\n",
            "Test ==> Epochs: 11 Batch:  781 loss: 0.013606494981050491 Accuracy: 69.13% : 100%|██████████| 782/782 [00:08<00:00, 94.13it/s] \n"
          ]
        },
        {
          "output_type": "stream",
          "name": "stdout",
          "text": [
            "LR :0.01\n",
            "\n"
          ]
        },
        {
          "output_type": "stream",
          "name": "stderr",
          "text": [
            "Train ==> Epochs: 12 Batch:  781 loss: 1.864803433418274 Accuracy: 60.40% : 100%|██████████| 782/782 [00:13<00:00, 58.64it/s]\n",
            "Test ==> Epochs: 12 Batch:  781 loss: 0.01315432161808014 Accuracy: 70.10% : 100%|██████████| 782/782 [00:10<00:00, 71.78it/s]\n"
          ]
        },
        {
          "output_type": "stream",
          "name": "stdout",
          "text": [
            "LR :0.01\n",
            "\n"
          ]
        },
        {
          "output_type": "stream",
          "name": "stderr",
          "text": [
            "Train ==> Epochs: 13 Batch:  781 loss: 1.0992892980575562 Accuracy: 61.46% : 100%|██████████| 782/782 [00:13<00:00, 58.11it/s]\n",
            "Test ==> Epochs: 13 Batch:  781 loss: 0.012456005327701568 Accuracy: 71.80% : 100%|██████████| 782/782 [00:08<00:00, 93.76it/s] \n"
          ]
        },
        {
          "output_type": "stream",
          "name": "stdout",
          "text": [
            "LR :0.01\n",
            "\n"
          ]
        },
        {
          "output_type": "stream",
          "name": "stderr",
          "text": [
            "Train ==> Epochs: 14 Batch:  781 loss: 1.2180612087249756 Accuracy: 61.77% : 100%|██████████| 782/782 [00:13<00:00, 58.88it/s]\n",
            "Test ==> Epochs: 14 Batch:  781 loss: 0.012399788739681243 Accuracy: 71.96% : 100%|██████████| 782/782 [00:08<00:00, 91.46it/s] \n"
          ]
        },
        {
          "output_type": "stream",
          "name": "stdout",
          "text": [
            "LR :0.01\n",
            "\n"
          ]
        },
        {
          "output_type": "stream",
          "name": "stderr",
          "text": [
            "Train ==> Epochs: 15 Batch:  781 loss: 0.8860050439834595 Accuracy: 62.40% : 100%|██████████| 782/782 [00:13<00:00, 58.34it/s]\n",
            "Test ==> Epochs: 15 Batch:  781 loss: 0.011934559031128883 Accuracy: 73.37% : 100%|██████████| 782/782 [00:08<00:00, 93.00it/s] \n"
          ]
        },
        {
          "output_type": "stream",
          "name": "stdout",
          "text": [
            "LR :0.01\n",
            "\n"
          ]
        },
        {
          "output_type": "stream",
          "name": "stderr",
          "text": [
            "Train ==> Epochs: 16 Batch:  781 loss: 0.9666346311569214 Accuracy: 63.36% : 100%|██████████| 782/782 [00:13<00:00, 58.35it/s]\n",
            "Test ==> Epochs: 16 Batch:  781 loss: 0.011493098421096802 Accuracy: 74.53% : 100%|██████████| 782/782 [00:08<00:00, 94.07it/s] \n"
          ]
        },
        {
          "output_type": "stream",
          "name": "stdout",
          "text": [
            "LR :0.01\n",
            "\n"
          ]
        },
        {
          "output_type": "stream",
          "name": "stderr",
          "text": [
            "Train ==> Epochs: 17 Batch:  781 loss: 0.9871901869773865 Accuracy: 63.87% : 100%|██████████| 782/782 [00:13<00:00, 56.89it/s]\n",
            "Test ==> Epochs: 17 Batch:  781 loss: 0.011434317899346352 Accuracy: 74.64% : 100%|██████████| 782/782 [00:08<00:00, 92.38it/s] \n"
          ]
        },
        {
          "output_type": "stream",
          "name": "stdout",
          "text": [
            "LR :0.01\n",
            "\n"
          ]
        },
        {
          "output_type": "stream",
          "name": "stderr",
          "text": [
            "Train ==> Epochs: 18 Batch:  781 loss: 0.9411268830299377 Accuracy: 64.39% : 100%|██████████| 782/782 [00:13<00:00, 58.13it/s]\n",
            "Test ==> Epochs: 18 Batch:  781 loss: 0.012004560997486114 Accuracy: 73.09% : 100%|██████████| 782/782 [00:08<00:00, 93.80it/s]\n"
          ]
        },
        {
          "output_type": "stream",
          "name": "stdout",
          "text": [
            "LR :0.01\n",
            "\n"
          ]
        },
        {
          "output_type": "stream",
          "name": "stderr",
          "text": [
            "Train ==> Epochs: 19 Batch:  781 loss: 0.8540065288543701 Accuracy: 64.84% : 100%|██████████| 782/782 [00:13<00:00, 58.18it/s]\n",
            "Test ==> Epochs: 19 Batch:  781 loss: 0.010792091470360756 Accuracy: 76.25% : 100%|██████████| 782/782 [00:11<00:00, 67.88it/s] \n"
          ]
        },
        {
          "output_type": "stream",
          "name": "stdout",
          "text": [
            "LR :0.0001\n",
            "\n"
          ]
        },
        {
          "output_type": "stream",
          "name": "stderr",
          "text": [
            "Train ==> Epochs: 20 Batch:  781 loss: 0.838241457939148 Accuracy: 67.97% : 100%|██████████| 782/782 [00:13<00:00, 57.15it/s]\n",
            "Test ==> Epochs: 20 Batch:  781 loss: 0.009360355277657509 Accuracy: 79.07% : 100%|██████████| 782/782 [00:08<00:00, 94.20it/s] \n"
          ]
        },
        {
          "output_type": "stream",
          "name": "stdout",
          "text": [
            "LR :0.001\n",
            "\n"
          ]
        },
        {
          "output_type": "stream",
          "name": "stderr",
          "text": [
            "Train ==> Epochs: 21 Batch:  781 loss: 1.3245035409927368 Accuracy: 68.64% : 100%|██████████| 782/782 [00:13<00:00, 57.93it/s]\n",
            "Test ==> Epochs: 21 Batch:  781 loss: 0.009217528829574585 Accuracy: 79.51% : 100%|██████████| 782/782 [00:08<00:00, 93.82it/s] \n"
          ]
        },
        {
          "output_type": "stream",
          "name": "stdout",
          "text": [
            "LR :0.001\n",
            "\n"
          ]
        },
        {
          "output_type": "stream",
          "name": "stderr",
          "text": [
            "Train ==> Epochs: 22 Batch:  781 loss: 1.2416293621063232 Accuracy: 68.62% : 100%|██████████| 782/782 [00:13<00:00, 57.94it/s]\n",
            "Test ==> Epochs: 22 Batch:  781 loss: 0.009077487567067147 Accuracy: 79.79% : 100%|██████████| 782/782 [00:08<00:00, 93.49it/s] \n"
          ]
        },
        {
          "output_type": "stream",
          "name": "stdout",
          "text": [
            "LR :0.001\n",
            "\n"
          ]
        },
        {
          "output_type": "stream",
          "name": "stderr",
          "text": [
            "Train ==> Epochs: 23 Batch:  781 loss: 1.0226022005081177 Accuracy: 69.32% : 100%|██████████| 782/782 [00:13<00:00, 57.88it/s]\n",
            "Test ==> Epochs: 23 Batch:  781 loss: 0.009029502281546593 Accuracy: 79.73% : 100%|██████████| 782/782 [00:08<00:00, 93.09it/s] \n"
          ]
        },
        {
          "output_type": "stream",
          "name": "stdout",
          "text": [
            "LR :0.001\n",
            "\n"
          ]
        },
        {
          "output_type": "stream",
          "name": "stderr",
          "text": [
            "Train ==> Epochs: 24 Batch:  781 loss: 0.4867860972881317 Accuracy: 69.21% : 100%|██████████| 782/782 [00:13<00:00, 57.98it/s]\n",
            "Test ==> Epochs: 24 Batch:  781 loss: 0.008923874628543854 Accuracy: 80.13% : 100%|██████████| 782/782 [00:08<00:00, 92.15it/s] \n"
          ]
        },
        {
          "output_type": "stream",
          "name": "stdout",
          "text": [
            "LR :0.001\n",
            "\n"
          ]
        },
        {
          "output_type": "stream",
          "name": "stderr",
          "text": [
            "Train ==> Epochs: 25 Batch:  781 loss: 1.1894118785858154 Accuracy: 69.39% : 100%|██████████| 782/782 [00:13<00:00, 58.29it/s]\n",
            "Test ==> Epochs: 25 Batch:  781 loss: 0.008781913212537766 Accuracy: 80.42% : 100%|██████████| 782/782 [00:08<00:00, 91.64it/s]\n"
          ]
        },
        {
          "output_type": "stream",
          "name": "stdout",
          "text": [
            "LR :0.001\n",
            "\n"
          ]
        },
        {
          "output_type": "stream",
          "name": "stderr",
          "text": [
            "Train ==> Epochs: 26 Batch:  781 loss: 1.2062145471572876 Accuracy: 69.26% : 100%|██████████| 782/782 [00:13<00:00, 58.20it/s]\n",
            "Test ==> Epochs: 26 Batch:  781 loss: 0.00868408115208149 Accuracy: 80.63% : 100%|██████████| 782/782 [00:08<00:00, 92.85it/s] \n"
          ]
        },
        {
          "output_type": "stream",
          "name": "stdout",
          "text": [
            "LR :0.001\n",
            "\n"
          ]
        },
        {
          "output_type": "stream",
          "name": "stderr",
          "text": [
            "Train ==> Epochs: 27 Batch:  781 loss: 0.9776793122291565 Accuracy: 69.42% : 100%|██████████| 782/782 [00:13<00:00, 57.53it/s]\n",
            "Test ==> Epochs: 27 Batch:  781 loss: 0.008702959353923798 Accuracy: 80.61% : 100%|██████████| 782/782 [00:12<00:00, 63.78it/s]\n"
          ]
        },
        {
          "output_type": "stream",
          "name": "stdout",
          "text": [
            "LR :0.001\n",
            "\n"
          ]
        },
        {
          "output_type": "stream",
          "name": "stderr",
          "text": [
            "Train ==> Epochs: 28 Batch:  781 loss: 1.2501115798950195 Accuracy: 69.89% : 100%|██████████| 782/782 [00:13<00:00, 57.21it/s]\n",
            "Test ==> Epochs: 28 Batch:  781 loss: 0.008653439131975174 Accuracy: 80.82% : 100%|██████████| 782/782 [00:08<00:00, 92.36it/s] \n"
          ]
        },
        {
          "output_type": "stream",
          "name": "stdout",
          "text": [
            "LR :0.001\n",
            "\n"
          ]
        },
        {
          "output_type": "stream",
          "name": "stderr",
          "text": [
            "Train ==> Epochs: 29 Batch:  781 loss: 0.83456951379776 Accuracy: 69.93% : 100%|██████████| 782/782 [00:13<00:00, 57.37it/s]\n",
            "Test ==> Epochs: 29 Batch:  781 loss: 0.0089221133685112 Accuracy: 80.25% : 100%|██████████| 782/782 [00:08<00:00, 88.27it/s] \n"
          ]
        },
        {
          "output_type": "stream",
          "name": "stdout",
          "text": [
            "LR :0.001\n",
            "\n"
          ]
        },
        {
          "output_type": "stream",
          "name": "stderr",
          "text": [
            "Train ==> Epochs: 30 Batch:  781 loss: 0.9623093008995056 Accuracy: 70.05% : 100%|██████████| 782/782 [00:14<00:00, 54.73it/s]\n",
            "Test ==> Epochs: 30 Batch:  781 loss: 0.008437226785123349 Accuracy: 81.17% : 100%|██████████| 782/782 [00:09<00:00, 85.44it/s] \n"
          ]
        },
        {
          "output_type": "stream",
          "name": "stdout",
          "text": [
            "LR :0.001\n",
            "\n"
          ]
        },
        {
          "output_type": "stream",
          "name": "stderr",
          "text": [
            "Train ==> Epochs: 31 Batch:  781 loss: 1.3533750772476196 Accuracy: 69.99% : 100%|██████████| 782/782 [00:14<00:00, 53.04it/s]\n",
            "Test ==> Epochs: 31 Batch:  781 loss: 0.008602638310194016 Accuracy: 80.83% : 100%|██████████| 782/782 [00:08<00:00, 88.67it/s]\n"
          ]
        },
        {
          "output_type": "stream",
          "name": "stdout",
          "text": [
            "LR :0.001\n",
            "\n"
          ]
        },
        {
          "output_type": "stream",
          "name": "stderr",
          "text": [
            "Train ==> Epochs: 32 Batch:  781 loss: 1.0795905590057373 Accuracy: 70.06% : 100%|██████████| 782/782 [00:14<00:00, 55.05it/s]\n",
            "Test ==> Epochs: 32 Batch:  781 loss: 0.008450660580396653 Accuracy: 81.19% : 100%|██████████| 782/782 [00:09<00:00, 81.48it/s] \n"
          ]
        },
        {
          "output_type": "stream",
          "name": "stdout",
          "text": [
            "LR :0.001\n",
            "\n"
          ]
        },
        {
          "output_type": "stream",
          "name": "stderr",
          "text": [
            "Train ==> Epochs: 33 Batch:  781 loss: 0.9059116840362549 Accuracy: 70.07% : 100%|██████████| 782/782 [00:13<00:00, 56.54it/s]\n",
            "Test ==> Epochs: 33 Batch:  781 loss: 0.008426948331594467 Accuracy: 81.20% : 100%|██████████| 782/782 [00:09<00:00, 82.00it/s]\n"
          ]
        },
        {
          "output_type": "stream",
          "name": "stdout",
          "text": [
            "LR :0.001\n",
            "\n"
          ]
        },
        {
          "output_type": "stream",
          "name": "stderr",
          "text": [
            "Train ==> Epochs: 34 Batch:  781 loss: 1.833380103111267 Accuracy: 70.36% : 100%|██████████| 782/782 [00:14<00:00, 53.65it/s]\n",
            "Test ==> Epochs: 34 Batch:  781 loss: 0.008350372049808503 Accuracy: 81.43% : 100%|██████████| 782/782 [00:09<00:00, 84.39it/s]\n"
          ]
        },
        {
          "output_type": "stream",
          "name": "stdout",
          "text": [
            "LR :0.001\n",
            "\n"
          ]
        },
        {
          "output_type": "stream",
          "name": "stderr",
          "text": [
            "Train ==> Epochs: 35 Batch:  781 loss: 0.9673961400985718 Accuracy: 70.46% : 100%|██████████| 782/782 [00:14<00:00, 54.91it/s]\n",
            "Test ==> Epochs: 35 Batch:  781 loss: 0.008248071942329406 Accuracy: 81.78% : 100%|██████████| 782/782 [00:08<00:00, 89.58it/s]\n"
          ]
        },
        {
          "output_type": "stream",
          "name": "stdout",
          "text": [
            "LR :0.001\n",
            "\n"
          ]
        },
        {
          "output_type": "stream",
          "name": "stderr",
          "text": [
            "Train ==> Epochs: 36 Batch:  781 loss: 1.0695651769638062 Accuracy: 70.65% : 100%|██████████| 782/782 [00:13<00:00, 56.63it/s]\n",
            "Test ==> Epochs: 36 Batch:  781 loss: 0.00827644220471382 Accuracy: 81.41% : 100%|██████████| 782/782 [00:08<00:00, 91.31it/s] \n"
          ]
        },
        {
          "output_type": "stream",
          "name": "stdout",
          "text": [
            "LR :0.001\n",
            "\n"
          ]
        },
        {
          "output_type": "stream",
          "name": "stderr",
          "text": [
            "Train ==> Epochs: 37 Batch:  781 loss: 0.8515232801437378 Accuracy: 70.31% : 100%|██████████| 782/782 [00:14<00:00, 55.83it/s]\n",
            "Test ==> Epochs: 37 Batch:  781 loss: 0.008157133711874485 Accuracy: 81.81% : 100%|██████████| 782/782 [00:14<00:00, 54.80it/s]\n"
          ]
        },
        {
          "output_type": "stream",
          "name": "stdout",
          "text": [
            "LR :0.001\n",
            "\n"
          ]
        },
        {
          "output_type": "stream",
          "name": "stderr",
          "text": [
            "Train ==> Epochs: 38 Batch:  781 loss: 0.894001305103302 Accuracy: 70.51% : 100%|██████████| 782/782 [00:14<00:00, 53.62it/s]\n",
            "Test ==> Epochs: 38 Batch:  781 loss: 0.008153872087299823 Accuracy: 81.93% : 100%|██████████| 782/782 [00:08<00:00, 88.99it/s] \n"
          ]
        },
        {
          "output_type": "stream",
          "name": "stdout",
          "text": [
            "LR :0.001\n",
            "\n"
          ]
        },
        {
          "output_type": "stream",
          "name": "stderr",
          "text": [
            "Train ==> Epochs: 39 Batch:  781 loss: 1.2064595222473145 Accuracy: 70.61% : 100%|██████████| 782/782 [00:14<00:00, 54.68it/s]\n",
            "Test ==> Epochs: 39 Batch:  781 loss: 0.008037408186197281 Accuracy: 82.21% : 100%|██████████| 782/782 [00:08<00:00, 89.93it/s]\n"
          ]
        },
        {
          "output_type": "stream",
          "name": "stdout",
          "text": [
            "LR :1e-05\n",
            "\n"
          ]
        },
        {
          "output_type": "stream",
          "name": "stderr",
          "text": [
            "Train ==> Epochs: 40 Batch:  781 loss: 0.9694750308990479 Accuracy: 71.18% : 100%|██████████| 782/782 [00:14<00:00, 55.58it/s]\n",
            "Test ==> Epochs: 40 Batch:  781 loss: 0.007981440055966377 Accuracy: 82.19% : 100%|██████████| 782/782 [00:08<00:00, 88.10it/s] \n"
          ]
        },
        {
          "output_type": "stream",
          "name": "stdout",
          "text": [
            "LR :0.0001\n",
            "\n"
          ]
        },
        {
          "output_type": "stream",
          "name": "stderr",
          "text": [
            "Train ==> Epochs: 41 Batch:  781 loss: 1.2095017433166504 Accuracy: 71.07% : 100%|██████████| 782/782 [00:13<00:00, 56.04it/s]\n",
            "Test ==> Epochs: 41 Batch:  781 loss: 0.007972535376250743 Accuracy: 82.26% : 100%|██████████| 782/782 [00:08<00:00, 90.41it/s]\n"
          ]
        },
        {
          "output_type": "stream",
          "name": "stdout",
          "text": [
            "LR :0.0001\n",
            "\n"
          ]
        },
        {
          "output_type": "stream",
          "name": "stderr",
          "text": [
            "Train ==> Epochs: 42 Batch:  781 loss: 0.7087373733520508 Accuracy: 70.99% : 100%|██████████| 782/782 [00:13<00:00, 55.89it/s]\n",
            "Test ==> Epochs: 42 Batch:  781 loss: 0.007927856153845787 Accuracy: 82.40% : 100%|██████████| 782/782 [00:09<00:00, 84.64it/s]\n"
          ]
        },
        {
          "output_type": "stream",
          "name": "stdout",
          "text": [
            "LR :0.0001\n",
            "\n"
          ]
        },
        {
          "output_type": "stream",
          "name": "stderr",
          "text": [
            "Train ==> Epochs: 43 Batch:  781 loss: 0.7848175168037415 Accuracy: 71.41% : 100%|██████████| 782/782 [00:14<00:00, 55.33it/s]\n",
            "Test ==> Epochs: 43 Batch:  781 loss: 0.00793977376550436 Accuracy: 82.32% : 100%|██████████| 782/782 [00:09<00:00, 86.09it/s]\n"
          ]
        },
        {
          "output_type": "stream",
          "name": "stdout",
          "text": [
            "LR :0.0001\n",
            "\n"
          ]
        },
        {
          "output_type": "stream",
          "name": "stderr",
          "text": [
            "Train ==> Epochs: 44 Batch:  781 loss: 1.1184062957763672 Accuracy: 71.38% : 100%|██████████| 782/782 [00:14<00:00, 54.68it/s]\n",
            "Test ==> Epochs: 44 Batch:  781 loss: 0.00795275411695242 Accuracy: 82.39% : 100%|██████████| 782/782 [00:08<00:00, 88.91it/s] \n"
          ]
        },
        {
          "output_type": "stream",
          "name": "stdout",
          "text": [
            "LR :0.0001\n",
            "\n"
          ]
        },
        {
          "output_type": "stream",
          "name": "stderr",
          "text": [
            "Train ==> Epochs: 45 Batch:  781 loss: 1.4412777423858643 Accuracy: 71.29% : 100%|██████████| 782/782 [00:14<00:00, 54.91it/s]\n",
            "Test ==> Epochs: 45 Batch:  781 loss: 0.007957540738880635 Accuracy: 82.35% : 100%|██████████| 782/782 [00:08<00:00, 89.47it/s] \n"
          ]
        },
        {
          "output_type": "stream",
          "name": "stdout",
          "text": [
            "LR :0.0001\n",
            "\n"
          ]
        },
        {
          "output_type": "stream",
          "name": "stderr",
          "text": [
            "Train ==> Epochs: 46 Batch:  781 loss: 0.6376273036003113 Accuracy: 71.21% : 100%|██████████| 782/782 [00:13<00:00, 56.50it/s]\n",
            "Test ==> Epochs: 46 Batch:  781 loss: 0.007964573268890381 Accuracy: 82.32% : 100%|██████████| 782/782 [00:08<00:00, 89.48it/s] \n"
          ]
        },
        {
          "output_type": "stream",
          "name": "stdout",
          "text": [
            "LR :0.0001\n",
            "\n"
          ]
        },
        {
          "output_type": "stream",
          "name": "stderr",
          "text": [
            "Train ==> Epochs: 47 Batch:  781 loss: 0.5775732398033142 Accuracy: 71.28% : 100%|██████████| 782/782 [00:13<00:00, 56.26it/s]\n",
            "Test ==> Epochs: 47 Batch:  781 loss: 0.007887578635811805 Accuracy: 82.48% : 100%|██████████| 782/782 [00:08<00:00, 88.43it/s] \n"
          ]
        },
        {
          "output_type": "stream",
          "name": "stdout",
          "text": [
            "LR :0.0001\n",
            "\n"
          ]
        },
        {
          "output_type": "stream",
          "name": "stderr",
          "text": [
            "Train ==> Epochs: 48 Batch:  781 loss: 1.2793153524398804 Accuracy: 71.28% : 100%|██████████| 782/782 [00:13<00:00, 56.50it/s]\n",
            "Test ==> Epochs: 48 Batch:  781 loss: 0.007878436177670955 Accuracy: 82.60% : 100%|██████████| 782/782 [00:08<00:00, 89.27it/s] \n"
          ]
        },
        {
          "output_type": "stream",
          "name": "stdout",
          "text": [
            "LR :0.0001\n",
            "\n"
          ]
        },
        {
          "output_type": "stream",
          "name": "stderr",
          "text": [
            "Train ==> Epochs: 49 Batch:  781 loss: 1.0910842418670654 Accuracy: 71.15% : 100%|██████████| 782/782 [00:13<00:00, 56.63it/s]\n",
            "Test ==> Epochs: 49 Batch:  781 loss: 0.0079039800080657 Accuracy: 82.54% : 100%|██████████| 782/782 [00:08<00:00, 88.52it/s]\n"
          ]
        },
        {
          "output_type": "stream",
          "name": "stdout",
          "text": [
            "LR :0.0001\n",
            "\n"
          ]
        },
        {
          "output_type": "stream",
          "name": "stderr",
          "text": [
            "Train ==> Epochs: 50 Batch:  781 loss: 0.8271315693855286 Accuracy: 71.17% : 100%|██████████| 782/782 [00:19<00:00, 39.96it/s]\n",
            "Test ==> Epochs: 50 Batch:  781 loss: 0.007889183574318885 Accuracy: 82.51% : 100%|██████████| 782/782 [00:08<00:00, 88.79it/s] \n"
          ]
        },
        {
          "output_type": "stream",
          "name": "stdout",
          "text": [
            "LR :0.0001\n",
            "\n"
          ]
        },
        {
          "output_type": "stream",
          "name": "stderr",
          "text": [
            "Train ==> Epochs: 51 Batch:  781 loss: 0.9170156717300415 Accuracy: 71.27% : 100%|██████████| 782/782 [00:13<00:00, 56.26it/s]\n",
            "Test ==> Epochs: 51 Batch:  781 loss: 0.007874094829261304 Accuracy: 82.51% : 100%|██████████| 782/782 [00:08<00:00, 87.62it/s]\n"
          ]
        },
        {
          "output_type": "stream",
          "name": "stdout",
          "text": [
            "LR :0.0001\n",
            "\n"
          ]
        },
        {
          "output_type": "stream",
          "name": "stderr",
          "text": [
            "Train ==> Epochs: 52 Batch:  781 loss: 1.010884404182434 Accuracy: 71.47% : 100%|██████████| 782/782 [00:13<00:00, 56.21it/s]\n",
            "Test ==> Epochs: 52 Batch:  781 loss: 0.007887493449747563 Accuracy: 82.48% : 100%|██████████| 782/782 [00:08<00:00, 88.23it/s]\n"
          ]
        },
        {
          "output_type": "stream",
          "name": "stdout",
          "text": [
            "LR :0.0001\n",
            "\n"
          ]
        },
        {
          "output_type": "stream",
          "name": "stderr",
          "text": [
            "Train ==> Epochs: 53 Batch:  781 loss: 0.9726888537406921 Accuracy: 71.49% : 100%|██████████| 782/782 [00:14<00:00, 55.61it/s]\n",
            "Test ==> Epochs: 53 Batch:  781 loss: 0.007884678628742694 Accuracy: 82.56% : 100%|██████████| 782/782 [00:08<00:00, 87.72it/s] \n"
          ]
        },
        {
          "output_type": "stream",
          "name": "stdout",
          "text": [
            "LR :0.0001\n",
            "\n"
          ]
        },
        {
          "output_type": "stream",
          "name": "stderr",
          "text": [
            "Train ==> Epochs: 54 Batch:  781 loss: 1.2439969778060913 Accuracy: 71.65% : 100%|██████████| 782/782 [00:13<00:00, 56.26it/s]\n",
            "Test ==> Epochs: 54 Batch:  781 loss: 0.007847349139153957 Accuracy: 82.62% : 100%|██████████| 782/782 [00:08<00:00, 88.20it/s] \n"
          ]
        },
        {
          "output_type": "stream",
          "name": "stdout",
          "text": [
            "LR :0.0001\n",
            "\n"
          ]
        },
        {
          "output_type": "stream",
          "name": "stderr",
          "text": [
            "Train ==> Epochs: 55 Batch:  781 loss: 1.445708155632019 Accuracy: 71.22% : 100%|██████████| 782/782 [00:13<00:00, 56.33it/s]\n",
            "Test ==> Epochs: 55 Batch:  781 loss: 0.007856173921823502 Accuracy: 82.63% : 100%|██████████| 782/782 [00:08<00:00, 88.74it/s] \n"
          ]
        },
        {
          "output_type": "stream",
          "name": "stdout",
          "text": [
            "LR :0.0001\n",
            "\n"
          ]
        },
        {
          "output_type": "stream",
          "name": "stderr",
          "text": [
            "Train ==> Epochs: 56 Batch:  781 loss: 0.7787912487983704 Accuracy: 71.46% : 100%|██████████| 782/782 [00:13<00:00, 56.73it/s]\n",
            "Test ==> Epochs: 56 Batch:  781 loss: 0.007850786274969579 Accuracy: 82.56% : 100%|██████████| 782/782 [00:08<00:00, 87.61it/s] \n"
          ]
        },
        {
          "output_type": "stream",
          "name": "stdout",
          "text": [
            "LR :0.0001\n",
            "\n"
          ]
        },
        {
          "output_type": "stream",
          "name": "stderr",
          "text": [
            "Train ==> Epochs: 57 Batch:  781 loss: 0.7593235969543457 Accuracy: 71.30% : 100%|██████████| 782/782 [00:14<00:00, 54.97it/s]\n",
            "Test ==> Epochs: 57 Batch:  781 loss: 0.007832656771838665 Accuracy: 82.62% : 100%|██████████| 782/782 [00:08<00:00, 87.06it/s]\n"
          ]
        },
        {
          "output_type": "stream",
          "name": "stdout",
          "text": [
            "LR :0.0001\n",
            "\n"
          ]
        },
        {
          "output_type": "stream",
          "name": "stderr",
          "text": [
            "Train ==> Epochs: 58 Batch:  781 loss: 0.7015813589096069 Accuracy: 71.30% : 100%|██████████| 782/782 [00:13<00:00, 56.27it/s]\n",
            "Test ==> Epochs: 58 Batch:  781 loss: 0.007817363704442979 Accuracy: 82.74% : 100%|██████████| 782/782 [00:08<00:00, 88.67it/s] \n"
          ]
        },
        {
          "output_type": "stream",
          "name": "stdout",
          "text": [
            "LR :0.0001\n",
            "\n"
          ]
        },
        {
          "output_type": "stream",
          "name": "stderr",
          "text": [
            "Train ==> Epochs: 59 Batch:  781 loss: 0.9706944227218628 Accuracy: 71.42% : 100%|██████████| 782/782 [00:14<00:00, 55.72it/s]\n",
            "Test ==> Epochs: 59 Batch:  781 loss: 0.00778805577814579 Accuracy: 82.77% : 100%|██████████| 782/782 [00:09<00:00, 80.47it/s] \n"
          ]
        },
        {
          "output_type": "stream",
          "name": "stdout",
          "text": [
            "LR :1.0000000000000002e-06\n",
            "\n"
          ]
        },
        {
          "output_type": "stream",
          "name": "stderr",
          "text": [
            "Train ==> Epochs: 60 Batch:  781 loss: 0.8321479558944702 Accuracy: 71.43% : 100%|██████████| 782/782 [00:14<00:00, 55.55it/s]\n",
            "Test ==> Epochs: 60 Batch:  781 loss: 0.007811930724680424 Accuracy: 82.71% : 100%|██████████| 782/782 [00:09<00:00, 86.76it/s]\n"
          ]
        },
        {
          "output_type": "stream",
          "name": "stdout",
          "text": [
            "LR :1e-05\n",
            "\n"
          ]
        },
        {
          "output_type": "stream",
          "name": "stderr",
          "text": [
            "Train ==> Epochs: 61 Batch:  781 loss: 0.5846376419067383 Accuracy: 71.32% : 100%|██████████| 782/782 [00:14<00:00, 55.83it/s]\n",
            "Test ==> Epochs: 61 Batch:  781 loss: 0.0077875094321370126 Accuracy: 82.77% : 100%|██████████| 782/782 [00:09<00:00, 86.19it/s]\n"
          ]
        },
        {
          "output_type": "stream",
          "name": "stdout",
          "text": [
            "LR :1e-05\n",
            "\n"
          ]
        },
        {
          "output_type": "stream",
          "name": "stderr",
          "text": [
            "Train ==> Epochs: 62 Batch:  781 loss: 0.8691563010215759 Accuracy: 71.51% : 100%|██████████| 782/782 [00:14<00:00, 55.84it/s]\n",
            "Test ==> Epochs: 62 Batch:  781 loss: 0.007830595816969871 Accuracy: 82.59% : 100%|██████████| 782/782 [00:09<00:00, 86.31it/s]\n"
          ]
        },
        {
          "output_type": "stream",
          "name": "stdout",
          "text": [
            "LR :1e-05\n",
            "\n"
          ]
        },
        {
          "output_type": "stream",
          "name": "stderr",
          "text": [
            "Train ==> Epochs: 63 Batch:  781 loss: 1.3596421480178833 Accuracy: 71.34% : 100%|██████████| 782/782 [00:14<00:00, 55.32it/s]\n",
            "Test ==> Epochs: 63 Batch:  781 loss: 0.007805938580930233 Accuracy: 82.72% : 100%|██████████| 782/782 [00:08<00:00, 87.30it/s] \n"
          ]
        },
        {
          "output_type": "stream",
          "name": "stdout",
          "text": [
            "LR :1e-05\n",
            "\n"
          ]
        },
        {
          "output_type": "stream",
          "name": "stderr",
          "text": [
            "Train ==> Epochs: 64 Batch:  781 loss: 0.716198742389679 Accuracy: 71.36% : 100%|██████████| 782/782 [00:14<00:00, 55.80it/s]\n",
            "Test ==> Epochs: 64 Batch:  781 loss: 0.0078080387938022616 Accuracy: 82.74% : 100%|██████████| 782/782 [00:09<00:00, 86.24it/s]\n"
          ]
        },
        {
          "output_type": "stream",
          "name": "stdout",
          "text": [
            "LR :1e-05\n",
            "\n"
          ]
        },
        {
          "output_type": "stream",
          "name": "stderr",
          "text": [
            "Train ==> Epochs: 65 Batch:  781 loss: 0.3360280394554138 Accuracy: 71.63% : 100%|██████████| 782/782 [00:14<00:00, 55.41it/s]\n",
            "Test ==> Epochs: 65 Batch:  781 loss: 0.007819411865472794 Accuracy: 82.62% : 100%|██████████| 782/782 [00:16<00:00, 48.45it/s]\n"
          ]
        },
        {
          "output_type": "stream",
          "name": "stdout",
          "text": [
            "LR :1e-05\n",
            "\n"
          ]
        },
        {
          "output_type": "stream",
          "name": "stderr",
          "text": [
            "Train ==> Epochs: 66 Batch:  781 loss: 0.9304441809654236 Accuracy: 71.50% : 100%|██████████| 782/782 [00:14<00:00, 55.70it/s]\n",
            "Test ==> Epochs: 66 Batch:  781 loss: 0.0078534409609437 Accuracy: 82.60% : 100%|██████████| 782/782 [00:09<00:00, 86.79it/s] \n"
          ]
        },
        {
          "output_type": "stream",
          "name": "stdout",
          "text": [
            "LR :1e-05\n",
            "\n"
          ]
        },
        {
          "output_type": "stream",
          "name": "stderr",
          "text": [
            "Train ==> Epochs: 67 Batch:  781 loss: 0.8051155805587769 Accuracy: 71.21% : 100%|██████████| 782/782 [00:14<00:00, 55.23it/s]\n",
            "Test ==> Epochs: 67 Batch:  781 loss: 0.007791142708957195 Accuracy: 82.77% : 100%|██████████| 782/782 [00:09<00:00, 85.40it/s]\n"
          ]
        },
        {
          "output_type": "stream",
          "name": "stdout",
          "text": [
            "LR :1e-05\n",
            "\n"
          ]
        },
        {
          "output_type": "stream",
          "name": "stderr",
          "text": [
            "Train ==> Epochs: 68 Batch:  781 loss: 0.5309619903564453 Accuracy: 71.30% : 100%|██████████| 782/782 [00:14<00:00, 54.84it/s]\n",
            "Test ==> Epochs: 68 Batch:  781 loss: 0.007811310102641583 Accuracy: 82.70% : 100%|██████████| 782/782 [00:09<00:00, 84.97it/s]\n"
          ]
        },
        {
          "output_type": "stream",
          "name": "stdout",
          "text": [
            "LR :1e-05\n",
            "\n"
          ]
        },
        {
          "output_type": "stream",
          "name": "stderr",
          "text": [
            "Train ==> Epochs: 69 Batch:  781 loss: 1.19063401222229 Accuracy: 71.66% : 100%|██████████| 782/782 [00:14<00:00, 54.90it/s]\n",
            "Test ==> Epochs: 69 Batch:  781 loss: 0.007810214370787143 Accuracy: 82.72% : 100%|██████████| 782/782 [00:08<00:00, 87.86it/s] \n"
          ]
        },
        {
          "output_type": "stream",
          "name": "stdout",
          "text": [
            "LR :1e-05\n",
            "\n"
          ]
        },
        {
          "output_type": "stream",
          "name": "stderr",
          "text": [
            "Train ==> Epochs: 70 Batch:  781 loss: 0.8223314881324768 Accuracy: 71.47% : 100%|██████████| 782/782 [00:14<00:00, 55.08it/s]\n",
            "Test ==> Epochs: 70 Batch:  781 loss: 0.0077938790854811665 Accuracy: 82.70% : 100%|██████████| 782/782 [00:09<00:00, 84.80it/s] \n"
          ]
        },
        {
          "output_type": "stream",
          "name": "stdout",
          "text": [
            "LR :1e-05\n",
            "\n"
          ]
        },
        {
          "output_type": "stream",
          "name": "stderr",
          "text": [
            "Train ==> Epochs: 71 Batch:  781 loss: 0.8659482598304749 Accuracy: 71.45% : 100%|██████████| 782/782 [00:14<00:00, 55.49it/s]\n",
            "Test ==> Epochs: 71 Batch:  781 loss: 0.007790162185430527 Accuracy: 82.71% : 100%|██████████| 782/782 [00:09<00:00, 85.71it/s]\n"
          ]
        },
        {
          "output_type": "stream",
          "name": "stdout",
          "text": [
            "LR :1e-05\n",
            "\n"
          ]
        },
        {
          "output_type": "stream",
          "name": "stderr",
          "text": [
            "Train ==> Epochs: 72 Batch:  781 loss: 0.6498128771781921 Accuracy: 71.60% : 100%|██████████| 782/782 [00:14<00:00, 54.23it/s]\n",
            "Test ==> Epochs: 72 Batch:  781 loss: 0.007834927394092084 Accuracy: 82.57% : 100%|██████████| 782/782 [00:09<00:00, 85.92it/s]\n"
          ]
        },
        {
          "output_type": "stream",
          "name": "stdout",
          "text": [
            "LR :1e-05\n",
            "\n"
          ]
        },
        {
          "output_type": "stream",
          "name": "stderr",
          "text": [
            "Train ==> Epochs: 73 Batch:  781 loss: 0.8744862675666809 Accuracy: 71.54% : 100%|██████████| 782/782 [00:14<00:00, 54.76it/s]\n",
            "Test ==> Epochs: 73 Batch:  781 loss: 0.007827173177301883 Accuracy: 82.60% : 100%|██████████| 782/782 [00:09<00:00, 84.18it/s]\n"
          ]
        },
        {
          "output_type": "stream",
          "name": "stdout",
          "text": [
            "LR :1e-05\n",
            "\n"
          ]
        },
        {
          "output_type": "stream",
          "name": "stderr",
          "text": [
            "Train ==> Epochs: 74 Batch:  781 loss: 0.6123089790344238 Accuracy: 71.36% : 100%|██████████| 782/782 [00:14<00:00, 55.10it/s]\n",
            "Test ==> Epochs: 74 Batch:  781 loss: 0.007824677722752095 Accuracy: 82.67% : 100%|██████████| 782/782 [00:08<00:00, 87.07it/s] \n"
          ]
        },
        {
          "output_type": "stream",
          "name": "stdout",
          "text": [
            "LR :1e-05\n",
            "\n"
          ]
        },
        {
          "output_type": "stream",
          "name": "stderr",
          "text": [
            "Train ==> Epochs: 75 Batch:  781 loss: 0.9549379348754883 Accuracy: 71.64% : 100%|██████████| 782/782 [00:14<00:00, 54.92it/s]\n",
            "Test ==> Epochs: 75 Batch:  781 loss: 0.007804140169918537 Accuracy: 82.74% : 100%|██████████| 782/782 [00:09<00:00, 85.36it/s]\n"
          ]
        },
        {
          "output_type": "stream",
          "name": "stdout",
          "text": [
            "LR :1e-05\n",
            "\n"
          ]
        },
        {
          "output_type": "stream",
          "name": "stderr",
          "text": [
            "Train ==> Epochs: 76 Batch:  781 loss: 0.9084645509719849 Accuracy: 71.43% : 100%|██████████| 782/782 [00:14<00:00, 55.07it/s]\n",
            "Test ==> Epochs: 76 Batch:  781 loss: 0.007802509981691837 Accuracy: 82.75% : 100%|██████████| 782/782 [00:09<00:00, 85.57it/s]\n"
          ]
        },
        {
          "output_type": "stream",
          "name": "stdout",
          "text": [
            "LR :1e-05\n",
            "\n"
          ]
        },
        {
          "output_type": "stream",
          "name": "stderr",
          "text": [
            "Train ==> Epochs: 77 Batch:  781 loss: 1.1320384740829468 Accuracy: 71.37% : 100%|██████████| 782/782 [00:14<00:00, 54.74it/s]\n",
            "Test ==> Epochs: 77 Batch:  781 loss: 0.007816506004929542 Accuracy: 82.68% : 100%|██████████| 782/782 [00:09<00:00, 85.56it/s] \n"
          ]
        },
        {
          "output_type": "stream",
          "name": "stdout",
          "text": [
            "LR :1e-05\n",
            "\n"
          ]
        },
        {
          "output_type": "stream",
          "name": "stderr",
          "text": [
            "Train ==> Epochs: 78 Batch:  781 loss: 1.1965150833129883 Accuracy: 71.53% : 100%|██████████| 782/782 [00:14<00:00, 53.98it/s]\n",
            "Test ==> Epochs: 78 Batch:  781 loss: 0.007805944939255714 Accuracy: 82.63% : 100%|██████████| 782/782 [00:09<00:00, 84.62it/s]\n"
          ]
        },
        {
          "output_type": "stream",
          "name": "stdout",
          "text": [
            "LR :1e-05\n",
            "\n"
          ]
        },
        {
          "output_type": "stream",
          "name": "stderr",
          "text": [
            "Train ==> Epochs: 79 Batch:  781 loss: 1.2694061994552612 Accuracy: 71.53% : 100%|██████████| 782/782 [00:14<00:00, 55.14it/s]\n",
            "Test ==> Epochs: 79 Batch:  781 loss: 0.007801589243412018 Accuracy: 82.71% : 100%|██████████| 782/782 [00:09<00:00, 85.81it/s]"
          ]
        },
        {
          "output_type": "stream",
          "name": "stdout",
          "text": [
            "LR :1.0000000000000002e-07\n",
            "\n"
          ]
        },
        {
          "output_type": "stream",
          "name": "stderr",
          "text": [
            "\n"
          ]
        },
        {
          "output_type": "display_data",
          "data": {
            "text/plain": [
              "<Figure size 1080x360 with 0 Axes>"
            ]
          },
          "metadata": {}
        },
        {
          "output_type": "display_data",
          "data": {
            "image/png": "[encoded data removed]",
            "text/plain": [
              "<Figure size 1440x360 with 2 Axes>"
            ]
          },
          "metadata": {
            "needs_background": "light"
          }
        },
        {
          "output_type": "display_data",
          "data": {
            "image/png": "[encoded data removed]",
            "text/plain": [
              "<Figure size 1260x1080 with 21 Axes>"
            ]
          },
          "metadata": {
            "needs_background": "light"
          }
        }
      ],
      "source": [
        "if __name__ == \"__main__\":\n",
        "    batch_size = 64\n",
        "    epochs = 80\n",
        "\n",
        "    _=torch.manual_seed(1)\n",
        "    if torch.cuda.is_available():\n",
        "        _=torch.cuda.manual_seed(1)\n",
        "\n",
        "    train,test = get_data()\n",
        "    #take input as normal_type ['gbn','bn','gn','ln']\n",
        "    # To Un Normalize the test data\n",
        "    mean,std  = get_data_stats(test,train,img_norm_typ ='train',plot = False)\n",
        "\n",
        "    train_alb = AlbumDataset(train,train_transform)\n",
        "    test_alb = AlbumDataset(test,test_transform)\n",
        "\n",
        "    args = {'pin_memory':True,'num_workers':4} if torch.cuda.is_available() else {}\n",
        "    train_loader = DataLoader(train_alb,batch_size=batch_size,shuffle = True,**args)\n",
        "    test_loader = DataLoader(test_alb,batch_size=batch_size,**args)\n",
        "    # ['gbn','bn','gn','ln']\n",
        "    try_type = ['gbn']\n",
        "    for norm_type in try_type:\n",
        "\n",
        "        model_class = Cifar10Net1(dropout_val=0.00,norm_type=norm_type)\n",
        "        model,train_losses, train_accuracy,test_losses,test_accuracy = Run_Model(model_class,train_alb,test_alb,epochs =epochs)\n",
        "\n",
        "        plot_acc_loss(norm_type ,train_accuracy,train_losses,test_accuracy,test_losses)\n",
        "        clean_gpu()\n",
        "\n",
        "        print_wrong_image(model,test_loader,mean,std,3,7)\n",
        "        clean_gpu()"
      ]
    },
    {
      "cell_type": "code",
      "execution_count": 120,
      "metadata": {
        "id": "4CJVjjt0E92u"
      },
      "outputs": [],
      "source": [
        ""
      ]
    },
    {
      "cell_type": "code",
      "source": [
        ""
      ],
      "metadata": {
        "id": "1_y9tY0f8fPu"
      },
      "execution_count": 120,
      "outputs": []
    }
  ],
  "metadata": {
    "accelerator": "GPU",
    "colab": {
      "collapsed_sections": [],
      "machine_shape": "hm",
      "name": "CIFAR10_try.ipynb",
      "provenance": [],
      "include_colab_link": true
    },
    "kernelspec": {
      "display_name": "Python 3",
      "name": "python3"
    },
    "language_info": {
      "codemirror_mode": {
        "name": "ipython",
        "version": 3
      },
      "file_extension": ".py",
      "mimetype": "text/x-python",
      "name": "python",
      "nbconvert_exporter": "python",
      "pygments_lexer": "ipython3",
      "version": "3.6.6"
    }
  },
  "nbformat": 4,
  "nbformat_minor": 0
}