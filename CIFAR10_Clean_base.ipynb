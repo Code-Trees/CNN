{
  "cells": [
    {
      "cell_type": "markdown",
      "metadata": {
        "id": "view-in-github",
        "colab_type": "text"
      },
      "source": [
        "<a href=\"https://colab.research.google.com/github/Code-Trees/CNN/blob/master/CIFAR10_Clean_base.ipynb\" target=\"_parent\"><img src=\"https://colab.research.google.com/assets/colab-badge.svg\" alt=\"Open In Colab\"/></a>"
      ]
    },
    {
      "cell_type": "code",
      "execution_count": 1,
      "metadata": {
        "id": "2nYRkYAkxIhf"
      },
      "outputs": [],
      "source": [
        "# Requirement Check"
      ]
    },
    {
      "cell_type": "code",
      "execution_count": 2,
      "metadata": {
        "id": "TpNG8BrvS1iq"
      },
      "outputs": [],
      "source": [
        "# !pip install -U albumentations\n",
        "# !pip install opencv-python\n",
        "# !pip install opencv-python-headless==4.5.2.52\n",
        "# !pip install Pillow\n",
        "# !pip install rf_calc"
      ]
    },
    {
      "cell_type": "code",
      "execution_count": 3,
      "metadata": {
        "id": "lS60UZTSjNOC"
      },
      "outputs": [],
      "source": [
        "import warnings\n",
        "warnings.filterwarnings('ignore')"
      ]
    },
    {
      "cell_type": "code",
      "execution_count": 4,
      "metadata": {
        "colab": {
          "base_uri": "https://localhost:8080/",
          "height": 35
        },
        "id": "QVbdg0z4poCc",
        "outputId": "b8a1ada9-c3fa-4b38-85ab-e2d7318c0645"
      },
      "outputs": [
        {
          "output_type": "display_data",
          "data": {
            "application/javascript": [
              "IPython.notebook.set_autosave_interval(10000)"
            ]
          },
          "metadata": {}
        },
        {
          "output_type": "stream",
          "name": "stdout",
          "text": [
            "Autosaving every 10 seconds\n"
          ]
        }
      ],
      "source": [
        "from IPython.core.interactiveshell import InteractiveShell\n",
        "InteractiveShell.ast_node_interactivity = 'all'\n",
        "%autosave 10"
      ]
    },
    {
      "cell_type": "code",
      "execution_count": 5,
      "metadata": {
        "id": "R5mwABzayFAH"
      },
      "outputs": [],
      "source": [
        "import torch\n",
        "import torch.nn.functional as F\n",
        "import torch.nn as nn\n",
        "\n",
        "from torch.optim import SGD\n",
        "from torch.utils.data import DataLoader\n",
        "from torch.utils.data.dataset import Dataset\n",
        "from torch.optim.lr_scheduler import StepLR\n",
        "\n",
        "from torchvision import transforms,datasets\n",
        "\n",
        "import numpy as np\n",
        "import matplotlib.pyplot as plt\n",
        "from torchsummary import summary\n",
        "import random\n",
        "import seaborn as sns\n",
        "import gc\n",
        "\n",
        "import albumentations as A\n",
        "from albumentations.augmentations.geometric.resize import Resize\n",
        "from albumentations.pytorch.transforms import ToTensorV2"
      ]
    },
    {
      "cell_type": "code",
      "execution_count": 5,
      "metadata": {
        "id": "536wcDeSyFNV"
      },
      "outputs": [],
      "source": [
        ""
      ]
    },
    {
      "cell_type": "code",
      "execution_count": 6,
      "metadata": {
        "id": "0_UHX_gL2Bp2"
      },
      "outputs": [],
      "source": [
        "# we will use the CIFAR10 dataset. It has the classes:\n",
        "# ‘airplane’, ‘automobile’, ‘bird’, ‘cat’, ‘deer’, ‘dog’, ‘frog’, ‘horse’, ‘ship’, ‘truck’.\n",
        "# The images in CIFAR-10 are of size 3x32x32, i.e. 3-channel color images of 32x32 pixels in size."
      ]
    },
    {
      "cell_type": "code",
      "execution_count": 7,
      "metadata": {
        "id": "HKtfXQ8o20UO"
      },
      "outputs": [],
      "source": [
        "from tqdm import tqdm\n",
        "from rf_calc import receptive_field"
      ]
    },
    {
      "cell_type": "markdown",
      "source": [
        "GPU Cleaner"
      ],
      "metadata": {
        "id": "XSnEveblkwVz"
      }
    },
    {
      "cell_type": "code",
      "source": [
        "def clean_gpu():\n",
        "    \"\"\"Considering we have GPUs\"\"\"\n",
        "\n",
        "    gc.collect()\n",
        "    torch.cuda.empty_cache()\n",
        "    return None"
      ],
      "metadata": {
        "id": "mIHPpFNQkvBj"
      },
      "execution_count": 33,
      "outputs": []
    },
    {
      "cell_type": "markdown",
      "source": [
        "Data Loading "
      ],
      "metadata": {
        "id": "CpXzMbFtkzEr"
      }
    },
    {
      "cell_type": "code",
      "execution_count": 34,
      "metadata": {
        "id": "vmMDwq7b17ou"
      },
      "outputs": [],
      "source": [
        "def get_data(train_transform_composes =None ,test_transform_composes =None):\n",
        "    \"\"\"We can compose customs , else the default is tensors \n",
        "    \"\"\"\n",
        "    train = datasets.CIFAR10(root= './',download = True, train = True,transform = train_transform_composes)\n",
        "    \n",
        "    test = datasets.CIFAR10(root= './',download = True, train = False ,transform = train_transform_composes)\n",
        "\n",
        "    return train,test "
      ]
    },
    {
      "cell_type": "markdown",
      "source": [
        "EDA With Experiments"
      ],
      "metadata": {
        "id": "-0J7zYy3k8eS"
      }
    },
    {
      "cell_type": "code",
      "execution_count": 9,
      "metadata": {
        "id": "VhvjgRRvY9j7"
      },
      "outputs": [],
      "source": [
        "def plot_unique_images(data_set,labels = None):\n",
        "    img_data = data_set.data\n",
        "    target = data_set.targets.copy()\n",
        "\n",
        "    fig = plt.figure(figsize=(30,30))\n",
        "    count = 1\n",
        "    unique_images_index = [random.choice(np.where(np.array(target) == search)[0]) for search in list(set(target))]\n",
        "\n",
        "    for image_index in unique_images_index:\n",
        "        n= image_index\n",
        "        ax = fig.add_subplot(1,10,count)\n",
        "        _=plt.imshow(img_data[n])\n",
        "        try:\n",
        "            _=plt.title(f\"label :{labels[target[n]]} idx:{n}\")\n",
        "        except:\n",
        "            _=plt.title(f\"idx:{n} Label: {target[n]}\")\n",
        "        _ = plt.autoscale()\n",
        "        _= fig.tight_layout(pad =1)\n",
        "        count+= 1\n",
        "        if count>=len(target):\n",
        "            break\n",
        "    plt.show()\n"
      ]
    },
    {
      "cell_type": "code",
      "execution_count": 10,
      "metadata": {
        "id": "jDzg2TuWZBYi"
      },
      "outputs": [],
      "source": [
        "def get_data_stats(dataset_train,dataset_test = None,img_norm_typ ='train',plot = False):\n",
        "    MEAN = []\n",
        "    STD = []\n",
        "    VAR = []\n",
        "    if img_norm_typ == 'train':\n",
        "        fig = plt.figure(figsize=(15,5))\n",
        "        for i in range(0,dataset_train.data.shape[len(dataset_train.data.shape)-1]):\n",
        "            scale = dataset_train.data[:,:,:,i]/dataset_train.data[:,:,:,i].max()\n",
        "            MEAN.append(scale.mean())\n",
        "            STD.append(scale.std())\n",
        "            VAR.append(scale.var())\n",
        "            if plot == True:\n",
        "                ax = fig.add_subplot(1,3,i+1)\n",
        "                _=sns.histplot(scale.reshape(-1) )\n",
        "                _=plt.title(f\"label :{'Train' if dataset_train.train else 'Test' } Channel:{i+1}\")\n",
        "                _= plt.xlabel(f\"Mean:{round(MEAN[i],3)}, std:{round(STD[i],3)}, var:{round(VAR[i],3)}\")\n",
        "                _ = plt.autoscale()\n",
        "                _= fig.tight_layout(pad =1)\n",
        "        # plt.show()\n",
        "        # print(f\" For {'Train' if dataset_train.train else 'Test'} data, Mean: {MEAN} || Variance: {VAR} || Standard Dev: {STD} || Data Dim: {dataset_train.data.shape}\")\n",
        "\n",
        "    elif img_norm_typ == 'train+test':\n",
        "        fig = plt.figure(figsize=(10,5))\n",
        "        mega_data  =np.append(dataset_train.data, dataset_test.data, 0)\n",
        "        scale = mega_data[:,:,:,i]/mega_data[:,:,:,i].max()\n",
        "        MEAN.append(scale.mean())\n",
        "        STD.append(scale.std())\n",
        "        VAR.append(scale.var())\n",
        "        if plot == True:\n",
        "                ax = fig.add_subplot(1,3,i+1)\n",
        "                _=sns.histplot(scale.reshape(-1))\n",
        "                _=plt.title(f\"label :{'Train' if dataset_train.train else 'Test' } Channel:{i+1}\")\n",
        "                _= plt.xlabel(f\"Mean:{round(MEAN[i],3)},std:{round(STD[i],3)},var:{round(VAR[i],3)}\")\n",
        "                _ = plt.autoscale()\n",
        "                _= fig.tight_layout(pad =1)\n",
        "        # print(f\"For {'Train' if dataset_train.train else 'Test'} data, Mean: {MEAN} || Variance: {VAR} || Standard Dev: {STD} || for {mega_data.shape} Dim\")\n",
        "    return tuple(MEAN),tuple(STD)"
      ]
    },
    {
      "cell_type": "code",
      "execution_count": 13,
      "metadata": {
        "colab": {
          "base_uri": "https://localhost:8080/",
          "height": 440
        },
        "id": "sUOh7izWQx4B",
        "outputId": "abff2258-1831-49dd-9bec-e0b202f2787c"
      },
      "outputs": [
        {
          "output_type": "stream",
          "name": "stdout",
          "text": [
            "Files already downloaded and verified\n",
            "Files already downloaded and verified\n",
            "Train Shape: (50000, 32, 32, 3) Test Shape: (10000, 32, 32, 3) \n",
            "\n"
          ]
        },
        {
          "output_type": "display_data",
          "data": {
            "image/png": "[encoded data removed]",
            "text/plain": [
              "<Figure size 2160x2160 with 10 Axes>"
            ]
          },
          "metadata": {
            "needs_background": "light"
          }
        },
        {
          "output_type": "display_data",
          "data": {
            "image/png": "[encoded data removed]",
            "text/plain": [
              "<Figure size 2160x2160 with 10 Axes>"
            ]
          },
          "metadata": {
            "needs_background": "light"
          }
        }
      ],
      "source": [
        "labels = {0:'airplane',1:'automobile',2:'bird',3:'cat',4:'deer',5:'dog',6:'frog',7:'horse',8:'ship',9:'truck'}\n",
        "train,test = get_data()\n",
        "print(f\"Train Shape: {train.data.shape} Test Shape: {test.data.shape} \\n\")\n",
        "plot_unique_images(train,labels =labels)\n",
        "plot_unique_images(train,labels =labels)"
      ]
    },
    {
      "cell_type": "code",
      "execution_count": 14,
      "metadata": {
        "id": "7y222dwRSTsb"
      },
      "outputs": [],
      "source": [
        "#Calculating mean and veriance and std"
      ]
    },
    {
      "cell_type": "code",
      "execution_count": 19,
      "metadata": {
        "colab": {
          "base_uri": "https://localhost:8080/",
          "height": 407
        },
        "id": "9hmSYR5PWgO7",
        "outputId": "befd84bf-c6a7-4e91-b53f-7b87d5436a6d"
      },
      "outputs": [
        {
          "output_type": "stream",
          "name": "stdout",
          "text": [
            "Mean: (0.49139967861519745, 0.4821584083946076, 0.44653091444546616) \n",
            "STD: (0.2470322324632823, 0.24348512800005553, 0.2615878417279641)\n"
          ]
        },
        {
          "output_type": "display_data",
          "data": {
            "image/png": "[encoded data removed]",
            "text/plain": [
              "<Figure size 1080x360 with 3 Axes>"
            ]
          },
          "metadata": {
            "needs_background": "light"
          }
        }
      ],
      "source": [
        "mean,std  = get_data_stats(train,test,img_norm_typ ='train',plot = True)\n",
        "print(f\"Mean: {mean} \\nSTD: {std}\")"
      ]
    },
    {
      "cell_type": "markdown",
      "source": [
        "Data Transform Compose"
      ],
      "metadata": {
        "id": "xQzYQVeWlC0c"
      }
    },
    {
      "cell_type": "code",
      "source": [
        "# Base Normalization\n",
        "train_transform =A.Compose([A.Resize(32,32),\n",
        "                            A.Normalize(mean = mean,std = std,max_pixel_value=255,always_apply = True),\n",
        "                            ToTensorV2(transpose_mask =False),\n",
        "                            ])      \n",
        "test_transform = A.Compose([A.Resize(32,32),\n",
        "                            # A.Normalize(mean = mean,std = std,max_pixel_value=255,always_apply = True),\n",
        "                            ToTensorV2(transpose_mask =False,),\n",
        "                            ])"
      ],
      "metadata": {
        "id": "nOvXHwrSqKJj"
      },
      "execution_count": 21,
      "outputs": []
    },
    {
      "cell_type": "code",
      "source": [
        "t = train.data\n",
        "type(t[10])\n",
        "a = t[np.random.randint(0,50000)]\n",
        "_ = plt.imshow(a)\n",
        "_ = plt.show()\n",
        "# _ = plt.subplots(figsize = (5,5))\n",
        "a = train_transform(image = a)[\"image\"]\n",
        "a.shape\n",
        "_ = plt.imshow(np.transpose(a,(1,2,0)))\n",
        "_ = plt.show()"
      ],
      "metadata": {
        "colab": {
          "base_uri": "https://localhost:8080/",
          "height": 552
        },
        "id": "oaJ7J8rAqTSr",
        "outputId": "bfe6f4c2-6cb8-48aa-ff26-06174b2abe20"
      },
      "execution_count": 23,
      "outputs": [
        {
          "output_type": "execute_result",
          "data": {
            "text/plain": [
              "numpy.ndarray"
            ]
          },
          "metadata": {},
          "execution_count": 23
        },
        {
          "output_type": "display_data",
          "data": {
            "image/png": "[encoded data removed]",
            "text/plain": [
              "<Figure size 432x288 with 1 Axes>"
            ]
          },
          "metadata": {
            "needs_background": "light"
          }
        },
        {
          "output_type": "execute_result",
          "data": {
            "text/plain": [
              "torch.Size([3, 32, 32])"
            ]
          },
          "metadata": {},
          "execution_count": 23
        },
        {
          "output_type": "stream",
          "name": "stderr",
          "text": [
            "Clipping input data to the valid range for imshow with RGB data ([0..1] for floats or [0..255] for integers).\n"
          ]
        },
        {
          "output_type": "display_data",
          "data": {
            "image/png": "[encoded data removed]",
            "text/plain": [
              "<Figure size 432x288 with 1 Axes>"
            ]
          },
          "metadata": {
            "needs_background": "light"
          }
        }
      ]
    },
    {
      "cell_type": "code",
      "execution_count": 24,
      "metadata": {
        "id": "Z9MBD0jPacQN"
      },
      "outputs": [],
      "source": [
        "# Advanced Normalization\n",
        "# train_transform =A.Compose([A.Resize(32,32),\n",
        "#                             A.Normalize(mean = mean,std = std,max_pixel_value=255,always_apply = True),\n",
        "#                             A.ShiftScaleRotate(always_apply=False),\n",
        "#                             A.CoarseDropout(always_apply = False,max_holes = 1, max_height=16, max_width=16, min_holes = 1, min_height=16, min_width=16, fill_value=mean, mask_fill_value = None),\n",
        "#                             ToTensorV2(transpose_mask =False),\n",
        "#                             ])      \n",
        "# test_transform = A.Compose([A.Resize(32,32),\n",
        "#                             A.Normalize(mean = mean,std = std,max_pixel_value=255,always_apply = True),\n",
        "#                             ToTensorV2(transpose_mask =False),\n",
        "#                             ])"
      ]
    },
    {
      "cell_type": "markdown",
      "source": [
        "Albumentation Compose"
      ],
      "metadata": {
        "id": "ErA4gL-Vbp46"
      }
    },
    {
      "cell_type": "code",
      "execution_count": 25,
      "metadata": {
        "id": "MEmErKJYn3cn"
      },
      "outputs": [],
      "source": [
        "class AlbumDataset(Dataset):\n",
        "    \"\"\"Face Landmarks dataset.\"\"\"\n",
        "\n",
        "    def __init__(self, data,transform=None):\n",
        "        \"\"\"\n",
        "        Args:\n",
        "            csv_file (string): Path to the csv file with annotations.\n",
        "            root_dir (string): Directory with all the images.\n",
        "            transform (callable, optional): Optional transform to be applied\n",
        "                on a sample.\n",
        "        \"\"\"\n",
        "        self.train = train.data\n",
        "        self.label = train.targets\n",
        "        self.transform = transform\n",
        "\n",
        "    def __len__(self):\n",
        "        return (len(self.train))\n",
        "\n",
        "    def __getitem__(self, idx):\n",
        "        image = self.train[idx]\n",
        "        image = np.array(image)\n",
        "        # image = image.fromarray(image).convert('RGB')\n",
        "        # image = np.asarray(image).astype(np.unit8)\n",
        "        if self.transform:\n",
        "            aug_image = self.transform(image= image)[\"image\"]\n",
        "        aug_image = torch.tensor(aug_image,dtype =torch.float)\n",
        "        return aug_image,self.label[idx]"
      ]
    },
    {
      "cell_type": "code",
      "execution_count": 25,
      "metadata": {
        "id": "5BrYDedLaQi2"
      },
      "outputs": [],
      "source": [
        ""
      ]
    },
    {
      "cell_type": "markdown",
      "source": [
        "Custom Network Normalization "
      ],
      "metadata": {
        "id": "t5HY69M2kKAr"
      }
    },
    {
      "cell_type": "code",
      "execution_count": 28,
      "metadata": {
        "id": "r0UaSg3IBa2A"
      },
      "outputs": [],
      "source": [
        "class GhostBatchNorm(nn.BatchNorm2d):\n",
        "    \"\"\"\n",
        "    From : https://github.com/davidcpage/cifar10-fast/blob/master/bag_of_tricks.ipynb\n",
        "\n",
        "    Batch norm seems to work best with batch size of around 32. The reasons presumably have to do \n",
        "    with noise in the batch statistics and specifically a balance between a beneficial regularising effect \n",
        "    at intermediate batch sizes and an excess of noise at small batches.\n",
        "    \n",
        "    Our batches are of size 512 and we can't afford to reduce them without taking a serious hit on training times, \n",
        "    but we can apply batch norm separately to subsets of a training batch. This technique, known as 'ghost' batch \n",
        "    norm, is usually used in a distributed setting but is just as useful when using large batches on a single node. \n",
        "    It isn't supported directly in PyTorch but we can roll our own easily enough.\n",
        "    \"\"\"\n",
        "    def __init__(self, num_features, num_splits, eps=1e-05, momentum=0.1, weight=True, bias=True):\n",
        "        super(GhostBatchNorm, self).__init__(num_features, eps=eps, momentum=momentum)\n",
        "        self.weight.data.fill_(1.0)\n",
        "        self.bias.data.fill_(0.0)\n",
        "        self.weight.requires_grad = weight\n",
        "        self.bias.requires_grad = bias        \n",
        "        self.num_splits = num_splits\n",
        "        self.register_buffer('running_mean', torch.zeros(num_features*self.num_splits))\n",
        "        self.register_buffer('running_var', torch.ones(num_features*self.num_splits))\n",
        "\n",
        "    def train(self, mode=True):\n",
        "        if (self.training is True) and (mode is False):\n",
        "            self.running_mean = torch.mean(self.running_mean.view(self.num_splits, self.num_features), dim=0).repeat(self.num_splits)\n",
        "            self.running_var = torch.mean(self.running_var.view(self.num_splits, self.num_features), dim=0).repeat(self.num_splits)\n",
        "        return super(GhostBatchNorm, self).train(mode)\n",
        "        \n",
        "    def forward(self, input):\n",
        "        N, C, H, W = input.shape\n",
        "        if self.training or not self.track_running_stats:\n",
        "            return F.batch_norm(\n",
        "                input.view(-1, C*self.num_splits, H, W), self.running_mean, self.running_var, \n",
        "                self.weight.repeat(self.num_splits), self.bias.repeat(self.num_splits),\n",
        "                True, self.momentum, self.eps).view(N, C, H, W) \n",
        "        else:\n",
        "            return F.batch_norm(\n",
        "                input, self.running_mean[:self.num_features], self.running_var[:self.num_features], \n",
        "                self.weight, self.bias, False, self.momentum, self.eps)\n",
        "\n",
        "\n",
        "def Normalize(norm_type,num_features,n_group=2):\n",
        "    if norm_type == 'bn':\n",
        "        return nn.BatchNorm2d(num_features = num_features)\n",
        "\n",
        "    elif norm_type =='gn':\n",
        "        return nn.GroupNorm(num_groups=n_group ,num_channels=num_features)\n",
        "    \n",
        "    elif norm_type =='ln':\n",
        "        return nn.GroupNorm(num_groups =1, num_channels=num_features)\n",
        "\n",
        "    elif norm_type == 'gbn':\n",
        "        return  GhostBatchNorm(num_features, num_splits=4, weight=False)\n",
        "        \n",
        "    else:\n",
        "        print ('Invalid norm Parameter, Providing Default as BN ')\n",
        "        return nn.BatchNorm2d(num_features = num_features,)"
      ]
    },
    {
      "cell_type": "code",
      "source": [
        ""
      ],
      "metadata": {
        "id": "av5b7c4qkdiz"
      },
      "execution_count": 28,
      "outputs": []
    },
    {
      "cell_type": "markdown",
      "source": [
        "Custom Convolution Blocks"
      ],
      "metadata": {
        "id": "vSYBqMQS_-Tf"
      }
    },
    {
      "cell_type": "code",
      "execution_count": 29,
      "metadata": {
        "id": "1sYqJno_Oifq"
      },
      "outputs": [],
      "source": [
        "class Depthwise_sep_conv(nn.Module):\n",
        "    def __init__(self,in_channels,out_channels,dropout_val=0.1,norm_type = 'bn',stride = 1):\n",
        "        super(Depthwise_sep_conv,self).__init__()\n",
        "        self.in_channels  = in_channels\n",
        "        self.out_channels = out_channels\n",
        "        self.stride = stride\n",
        "        self.dropout_val = dropout_val\n",
        "        self.norm_type = norm_type\n",
        "\n",
        "        self.deptwiseseperable = nn.Conv2d(in_channels=self.in_channels, out_channels=self.in_channels,kernel_size =(3,3), stride = self.stride,padding = 1,groups = self.in_channels, bias = False)\n",
        "        self.pointwise = nn.Conv2d(in_channels=self.in_channels, out_channels=self.out_channels,kernel_size =(1,1), stride =1, bias = False)\n",
        "        self.norm = Normalize(norm_type = self.norm_type ,num_features= self.out_channels)\n",
        "        self.relu = nn.ReLU()\n",
        "        self.drop = nn.Dropout2d(p = self.dropout_val)\n",
        "    \n",
        "    def forward(self,x):\n",
        "        x = self.deptwiseseperable(x)\n",
        "        x = self.pointwise(x)\n",
        "        x = self.relu(x)\n",
        "        x = self.drop(x)\n",
        "        return x"
      ]
    },
    {
      "cell_type": "code",
      "execution_count": 30,
      "metadata": {
        "id": "i2imTJ9DCj2d"
      },
      "outputs": [],
      "source": [
        "class ConvBlock(nn.Module):\n",
        "    def __init__(self,in_channels,out_channels,stride,padding,kernel_size=(3,3),norm_type = 'bn' ,dropout_val = 0):\n",
        "        super(ConvBlock,self).__init__()\n",
        "        self.in_channels = in_channels\n",
        "        self.out_channels = out_channels\n",
        "        self.stride=stride\n",
        "        self.padding= padding\n",
        "        self.kernel_size=kernel_size\n",
        "        self.norm_type = norm_type\n",
        "        self.dropout_val = dropout_val\n",
        "\n",
        "        self.conv = nn.Conv2d(in_channels=self.in_channels, out_channels=self.out_channels,kernel_size=self.kernel_size,stride =self.stride,padding = self.padding,bias = False)\n",
        "        self.norm = Normalize(norm_type = self.norm_type ,num_features= self.out_channels)\n",
        "        self.relu = nn.ReLU()\n",
        "        self.drop = nn.Dropout2d(p = self.dropout_val)\n",
        "\n",
        "    def forward(self,x):\n",
        "        x = self.relu(self.norm(self.conv(x)))\n",
        "        x= self.drop(x)\n",
        "        return x"
      ]
    },
    {
      "cell_type": "markdown",
      "source": [
        "Model Building"
      ],
      "metadata": {
        "id": "nrN8Y-yAkfOy"
      }
    },
    {
      "cell_type": "code",
      "execution_count": 31,
      "metadata": {
        "id": "BXaOiEc8yoVo"
      },
      "outputs": [],
      "source": [
        "class Cifar10Net(nn.Module):\n",
        "    def __init__(self,dropout_val = 0,norm_type = 'bn'):\n",
        "        super(Cifar10Net,self).__init__()\n",
        "        self.norm_type = norm_type\n",
        "        self.drop = dropout_val\n",
        "\n",
        "        self.block1 = nn.Sequential(\n",
        "            ConvBlock(in_channels=3,out_channels=8,kernel_size = (3,3),stride = 1, padding = 0,norm_type = self.norm_type,dropout_val= self.drop),\n",
        "            ConvBlock(in_channels=8,out_channels=8,kernel_size = (3,3),stride = 1, padding = 1,norm_type = self.norm_type,dropout_val= self.drop),\n",
        "            ConvBlock(in_channels=8,out_channels=16,kernel_size = (3,3),stride = 1, padding = 1,norm_type = self.norm_type,dropout_val= self.drop),\n",
        "            )#Input : 32x32x3 |  Outout: 32x32x32 |  RF: 5x5\n",
        "        \n",
        "        self.pool1 = nn.MaxPool2d(kernel_size=(2,2),stride = 2)\n",
        "\n",
        "        self.block2 = nn.Sequential(\n",
        "            ConvBlock(in_channels=16,out_channels=16,kernel_size = (3,3),stride = 1, padding = 1,norm_type = self.norm_type,dropout_val= self.drop),\n",
        "            ConvBlock(in_channels=16,out_channels=32,kernel_size = (3,3),stride = 1, padding = 1,norm_type = self.norm_type,dropout_val= self.drop),\n",
        "            ConvBlock(in_channels=32,out_channels=32,kernel_size = (3,3),stride = 1, padding = 1,norm_type = self.norm_type,dropout_val= self.drop),\n",
        "            )#Input : 32x32x3 |  Outout: 32x32x32 |  RF: 5x5\n",
        "\n",
        "        self.pool2 = nn.MaxPool2d(kernel_size=(2,2),stride = 2)\n",
        "        \n",
        "        self.block3 = nn.Sequential(\n",
        "            ConvBlock(in_channels=32,out_channels=32,kernel_size = (3,3),stride = 1, padding =0,norm_type = self.norm_type,dropout_val= self.drop),\n",
        "            ConvBlock(in_channels=32,out_channels=64,kernel_size = (3,3),stride = 1, padding =1,norm_type = self.norm_type,dropout_val= self.drop),\n",
        "            ConvBlock(in_channels=64,out_channels=64,kernel_size = (3,3),stride = 1, padding =0,norm_type = self.norm_type,dropout_val= self.drop),\n",
        "            )#Input : 32x32x3 |  Outout: 32x32x32 |  RF: 5x5\n",
        "\n",
        "        self.conv_block1 = nn.Conv2d(in_channels=64,out_channels=16,kernel_size = (1,1),stride = 1, padding =0)\n",
        "        self.conv_block2 = nn.Conv2d(in_channels=16,out_channels=32,kernel_size = (3,3),stride = 1, padding =0)\n",
        "        self.conv_block3 = nn.Conv2d(in_channels=32,out_channels=10,kernel_size = (1,1),stride = 1, padding =0)\n",
        "\n",
        "\n",
        "    def forward(self,x):\n",
        "        x = self.block1(x)\n",
        "        x = self.pool1(x)\n",
        "        x = self.block2(x)\n",
        "        x = self.pool2(x)\n",
        "        x = self.block3(x)\n",
        "        x = self.conv_block1(x)\n",
        "        x = self.conv_block2(x)\n",
        "        x = self.conv_block3(x)\n",
        "\n",
        "        # return x\n",
        "        x = x.view(-1,10)\n",
        "        return F.log_softmax(x,dim = -1)"
      ]
    },
    {
      "cell_type": "markdown",
      "source": [
        "Model Checks"
      ],
      "metadata": {
        "id": "xzED6q5Qxprf"
      }
    },
    {
      "cell_type": "code",
      "execution_count": 32,
      "metadata": {
        "colab": {
          "base_uri": "https://localhost:8080/"
        },
        "id": "mPXuwVAqyoJs",
        "outputId": "20323a7e-6154-453a-f850-8e93c3fe08ff"
      },
      "outputs": [
        {
          "output_type": "stream",
          "name": "stdout",
          "text": [
            "=======================================Reciptive Field Calculator========================================\n",
            "|    | Kernel_size   | Padding   |   Stride | Input_Img_size   | Output_Img_size   | Receptive_field   |\n",
            "|---:|:--------------|:----------|---------:|:-----------------|:------------------|:------------------|\n",
            "|  0 | 3*3           | NO        |        1 | 32*32            | 30*30             | 3*3               |\n",
            "|  1 | 3*3           | 1         |        1 | 30*30            | 30*30             | 5*5               |\n",
            "|  2 | 3*3           | 1         |        1 | 30*30            | 30*30             | 7*7               |\n",
            "|  3 | 2*2           | NO        |        2 | 30*30            | 15*15             | 8*8               |\n",
            "|  4 | 3*3           | 1         |        1 | 15*15            | 15*15             | 12*12             |\n",
            "|  5 | 3*3           | 1         |        1 | 15*15            | 15*15             | 16*16             |\n",
            "|  6 | 3*3           | 1         |        1 | 15*15            | 15*15             | 20*20             |\n",
            "|  7 | 2*2           | NO        |        2 | 15*15            | 7*7               | 22*22             |\n",
            "|  8 | 3*3           | NO        |        1 | 7*7              | 5*5               | 30*30             |\n",
            "|  9 | 3*3           | 1         |        1 | 5*5              | 5*5               | 38*38             |\n",
            "| 10 | 3*3           | NO        |        1 | 5*5              | 3*3               | 46*46             |\n",
            "| 11 | 1*1           | NO        |        1 | 3*3              | 3*3               | 46*46             |\n",
            "| 12 | 3*3           | NO        |        1 | 3*3              | 1*1               | 54*54             |\n",
            "| 13 | 1*1           | NO        |        1 | 1*1              | 1*1               | 54*54             |\n",
            "=========================================================================================================\n",
            "----------------------------------------------------------------\n",
            "        Layer (type)               Output Shape         Param #\n",
            "================================================================\n",
            "            Conv2d-1            [-1, 8, 30, 30]             216\n",
            "       BatchNorm2d-2            [-1, 8, 30, 30]              16\n",
            "              ReLU-3            [-1, 8, 30, 30]               0\n",
            "         Dropout2d-4            [-1, 8, 30, 30]               0\n",
            "         ConvBlock-5            [-1, 8, 30, 30]               0\n",
            "            Conv2d-6            [-1, 8, 30, 30]             576\n",
            "       BatchNorm2d-7            [-1, 8, 30, 30]              16\n",
            "              ReLU-8            [-1, 8, 30, 30]               0\n",
            "         Dropout2d-9            [-1, 8, 30, 30]               0\n",
            "        ConvBlock-10            [-1, 8, 30, 30]               0\n",
            "           Conv2d-11           [-1, 16, 30, 30]           1,152\n",
            "      BatchNorm2d-12           [-1, 16, 30, 30]              32\n",
            "             ReLU-13           [-1, 16, 30, 30]               0\n",
            "        Dropout2d-14           [-1, 16, 30, 30]               0\n",
            "        ConvBlock-15           [-1, 16, 30, 30]               0\n",
            "        MaxPool2d-16           [-1, 16, 15, 15]               0\n",
            "           Conv2d-17           [-1, 16, 15, 15]           2,304\n",
            "      BatchNorm2d-18           [-1, 16, 15, 15]              32\n",
            "             ReLU-19           [-1, 16, 15, 15]               0\n",
            "        Dropout2d-20           [-1, 16, 15, 15]               0\n",
            "        ConvBlock-21           [-1, 16, 15, 15]               0\n",
            "           Conv2d-22           [-1, 32, 15, 15]           4,608\n",
            "      BatchNorm2d-23           [-1, 32, 15, 15]              64\n",
            "             ReLU-24           [-1, 32, 15, 15]               0\n",
            "        Dropout2d-25           [-1, 32, 15, 15]               0\n",
            "        ConvBlock-26           [-1, 32, 15, 15]               0\n",
            "           Conv2d-27           [-1, 32, 15, 15]           9,216\n",
            "      BatchNorm2d-28           [-1, 32, 15, 15]              64\n",
            "             ReLU-29           [-1, 32, 15, 15]               0\n",
            "        Dropout2d-30           [-1, 32, 15, 15]               0\n",
            "        ConvBlock-31           [-1, 32, 15, 15]               0\n",
            "        MaxPool2d-32             [-1, 32, 7, 7]               0\n",
            "           Conv2d-33             [-1, 32, 5, 5]           9,216\n",
            "      BatchNorm2d-34             [-1, 32, 5, 5]              64\n",
            "             ReLU-35             [-1, 32, 5, 5]               0\n",
            "        Dropout2d-36             [-1, 32, 5, 5]               0\n",
            "        ConvBlock-37             [-1, 32, 5, 5]               0\n",
            "           Conv2d-38             [-1, 64, 5, 5]          18,432\n",
            "      BatchNorm2d-39             [-1, 64, 5, 5]             128\n",
            "             ReLU-40             [-1, 64, 5, 5]               0\n",
            "        Dropout2d-41             [-1, 64, 5, 5]               0\n",
            "        ConvBlock-42             [-1, 64, 5, 5]               0\n",
            "           Conv2d-43             [-1, 64, 3, 3]          36,864\n",
            "      BatchNorm2d-44             [-1, 64, 3, 3]             128\n",
            "             ReLU-45             [-1, 64, 3, 3]               0\n",
            "        Dropout2d-46             [-1, 64, 3, 3]               0\n",
            "        ConvBlock-47             [-1, 64, 3, 3]               0\n",
            "           Conv2d-48             [-1, 16, 3, 3]           1,040\n",
            "           Conv2d-49             [-1, 32, 1, 1]           4,640\n",
            "           Conv2d-50             [-1, 10, 1, 1]             330\n",
            "================================================================\n",
            "Total params: 89,138\n",
            "Trainable params: 89,138\n",
            "Non-trainable params: 0\n",
            "----------------------------------------------------------------\n",
            "Input size (MB): 0.01\n",
            "Forward/backward pass size (MB): 1.94\n",
            "Params size (MB): 0.34\n",
            "Estimated Total Size (MB): 2.29\n",
            "----------------------------------------------------------------\n"
          ]
        }
      ],
      "source": [
        "device = 'cuda' if torch.cuda.is_available() else \"cpu\"\n",
        "model = Cifar10Net(norm_type='bn',dropout_val=0.01).to(device)\n",
        "rf_df = receptive_field(model,32)\n",
        "summary(model,input_size=(3,32,32))"
      ]
    },
    {
      "cell_type": "markdown",
      "source": [
        "Loss Function and Optimizers"
      ],
      "metadata": {
        "id": "lYI2ntLCmOem"
      }
    },
    {
      "cell_type": "code",
      "execution_count": 36,
      "metadata": {
        "id": "a05n4HFDm7XN"
      },
      "outputs": [],
      "source": [
        "def get_optimizer(model_obj,loss_type=None,scheduler = False):\n",
        "    loss_type= str(loss_type).upper()\n",
        "    parameters = model_obj.parameters()\n",
        "    if loss_type  == 'L2' :\n",
        "        optimizer = SGD( params = parameters,lr = 0.01,momentum = 0.9,weight_decay= 0.001)\n",
        "    else:\n",
        "        optimizer = SGD( params = parameters,lr = 0.01,momentum = 0.9)\n",
        "    if scheduler == True:\n",
        "        scheduler = StepLR(optimizer,step_size = 6,gamma = 0.1)\n",
        "        return optimizer,scheduler\n",
        "    else:\n",
        "        return optimizer,_\n",
        "\n",
        "\n",
        "#L1 Loss\n",
        "\n",
        "def L1_loss(model_obj,loss):\n",
        "        \n",
        "    l1 = 0\n",
        "    lambda_l1 = 0.0001\n",
        "    for p in model_obj.parameters():\n",
        "        l1 = l1+p.abs().sum()\n",
        "        loss = loss+ lambda_l1* l1\n",
        "    return loss\n"
      ]
    },
    {
      "cell_type": "markdown",
      "source": [
        "Model Performance Visualizer"
      ],
      "metadata": {
        "id": "PDCps6tdlaSD"
      }
    },
    {
      "cell_type": "code",
      "execution_count": 37,
      "metadata": {
        "id": "wdeuLltCm63m"
      },
      "outputs": [],
      "source": [
        "\n",
        "def plot_acc_loss(typ ,train_acc,train_losses,test_acc,test_losses):\n",
        "    fig, axs = plt.subplots(1,2,figsize = (20,5))\n",
        "    # print ('Accuracy model on  ', typ)\n",
        "    plt.autoscale()\n",
        "    axs[0].plot(train_acc,color = 'red')\n",
        "    axs[0].plot(test_acc,color = 'green')\n",
        "    title = 'Training/testing accuracy'\n",
        "    axs[0].set_title(title)\n",
        "    axs[0].set_ylabel('Accuracy')\n",
        "    axs[0].set_xlabel('Epoch')\n",
        "    axs[0].legend(['train acc','test acc'], loc='best')\n",
        "       \n",
        "    axs[1].plot(train_losses,color = 'red')\n",
        "    axs[1].plot(test_losses,color = 'green')\n",
        "    title = 'Training/Testing Loss'\n",
        "    axs[1].set_title(title)\n",
        "    axs[1].set_ylabel('Loss')\n",
        "    axs[1].set_xlabel('Epoch')\n",
        "    axs[1].legend(['train loss','test loss'], loc='best')\n",
        "    plt.title(typ + ' model Accuracy Vs Loss')\n",
        "\n",
        "    plt.show()\n",
        "    fig.tight_layout(pad = 1.0)"
      ]
    },
    {
      "cell_type": "code",
      "source": [
        ""
      ],
      "metadata": {
        "id": "yazoXKp1leJ8"
      },
      "execution_count": null,
      "outputs": []
    },
    {
      "cell_type": "markdown",
      "source": [
        "Training / Testing Lopp Blocks"
      ],
      "metadata": {
        "id": "PqRHgxBrldsU"
      }
    },
    {
      "cell_type": "code",
      "execution_count": 38,
      "metadata": {
        "id": "eX8TODgnnE3m"
      },
      "outputs": [],
      "source": [
        "train_losses = []\n",
        "train_accuracy = []\n",
        "test_losses =[]\n",
        "test_accuracy = []\n",
        "\n",
        "def trainning(model,device,train_data,optimizer,epochs,L1 = False,L2= False):\n",
        "    total_loss = 0\n",
        "    correct = 0\n",
        "    processed = 0\n",
        "\n",
        "    model.train()\n",
        "    pbar = tqdm(train_loader,colour = '\\x1b[34m')\n",
        "    \n",
        "    for index_id,(data,target) in enumerate(pbar):\n",
        "        data,target = data.to(device),target.to(device)\n",
        "        optimizer.zero_grad()\n",
        "        output = model(data)\n",
        "        loss = F.nll_loss(output,target)\n",
        "        if L1 == True:\n",
        "            loss = L1_loss(model,loss)\n",
        "\n",
        "        total_loss += loss\n",
        "        loss.backward()\n",
        "        optimizer.step()\n",
        "        correct += output.argmax(dim = 1).eq(target).sum().item()\n",
        "        processed += len(data)\n",
        "        pbar.set_description(f\"Train ==> Epochs: {epochs} Batch:  {index_id} loss: {loss} Accuracy: { correct/processed *100 :.2f}% \")\n",
        "\n",
        "    acc = correct /processed\n",
        "    total_loss = total_loss.item()/processed\n",
        "    train_losses.append(total_loss)\n",
        "    train_accuracy.append(acc)\n",
        "\n",
        "    return train_losses, train_accuracy\n",
        "\n",
        "\n",
        "def testing(model,device,test_data,optimizer,epochs):\n",
        "    model.eval()\n",
        "    \n",
        "    test_loss = 0\n",
        "    correct = 0\n",
        "    processed = 0\n",
        "    pbar= tqdm(test_loader)\n",
        "    with torch.no_grad():\n",
        "        for id_x,(data,target) in enumerate(pbar):\n",
        "            data,target = data.to(device),target.to(device)\n",
        "\n",
        "            output = model(data)\n",
        "            test_loss += F.nll_loss(output,target,reduce='sum').item()\n",
        "            pred  = output.argmax(dim =1,keepdim = True)\n",
        "\n",
        "            correct += pred.eq(target.view_as(pred)).sum().item()\n",
        "            processed += len(data)\n",
        "            \n",
        "            pbar.set_description(f\"Test ==> Epochs: {epochs} Batch:  {id_x} loss: {test_loss/processed} Accuracy: { correct / processed *100 :.2f}% \")\n",
        "        \n",
        "    acc = correct / processed\n",
        "    test_loss /= processed\n",
        "    test_accuracy.append(acc)\n",
        "    test_losses.append(test_loss)\n",
        "   \n",
        "    \n",
        "    # print('\\nTest set: Average loss: {:.4f}, Accuracy: {}/{} ({:.6f}%)\\n'.format(\n",
        "    #     test_loss, correct, processed, 100. * correct / processed))\n",
        "    \n",
        "    return test_losses,test_accuracy\n",
        "\n",
        "\n"
      ]
    },
    {
      "cell_type": "markdown",
      "source": [
        "After Train data Visualization Block"
      ],
      "metadata": {
        "id": "I2VpCIJnlngb"
      }
    },
    {
      "cell_type": "code",
      "source": [
        "def print_wrong_image(model,data_loader,l,b):\n",
        "\n",
        "    if l*b >= 30:\n",
        "        n_images = 50\n",
        "    \n",
        "    labels = {0: 'airplane', 1: 'automobile', 2: 'bird', 3: 'cat', 4: 'deer', 5: 'dog', 6: 'frog', 7: 'horse', 8: 'ship', 9: 'truck'}\n",
        "    wrong_images = []\n",
        "    wrong_labels = []\n",
        "    right_labels = []\n",
        "    device = \"cuda\" if torch.cuda.is_available() else \"cpu\"\n",
        "\n",
        "    for data,label in data_loader:\n",
        "        data,label = data.to(device),label.to(device)\n",
        "        with torch.no_grad():\n",
        "            out = model(data)\n",
        "            wrong_idx = (out.to(device).argmax(dim = 1).eq(label.to(device)) ==False).nonzero()\n",
        "            wrong_images.extend(data[wrong_idx].squeeze().to(\"cpu\"))\n",
        "            wrong_labels.extend(out.to(device).argmax(dim = 1).to(\"cpu\"))\n",
        "            right_labels.extend(label[wrong_idx].to(\"cpu\"))\n",
        "\n",
        "    wrong_idx = [i for i in range(0,len(right_labels))]\n",
        "    idx = [i for i in range(0,len(wrong_labels))]\n",
        "    np.random.shuffle(wrong_idx)\n",
        "    fig = plt.figure(figsize=(2.5*b,5*l))\n",
        "    count = 1\n",
        "    for image_index in wrong_idx:\n",
        "        n= image_index\n",
        "        ax = fig.add_subplot(l,b,count)\n",
        "        # plt.imshow(np.array(np.transpose(data[10].to(\"cpu\"),(1,2,0))))\n",
        "        _=plt.imshow(np.transpose(wrong_images[image_index],(1,2,0)))\n",
        "        # _=plt.title(f\"wrong Images\")\n",
        "        _=plt.xlabel(f\"Act:{labels[right_labels[image_index].item()]} \\n Pred: {labels[wrong_labels[image_index].item()]} \")\n",
        "        \n",
        "        fig.tight_layout(pad = 0.5)\n",
        "        count+= 1\n",
        "        if count== (l*b)+1:\n",
        "            break\n",
        "    _ = plt.autoscale()\n",
        "    _= plt.show()\n"
      ],
      "metadata": {
        "id": "APE7jzoKh9N7"
      },
      "execution_count": 39,
      "outputs": []
    },
    {
      "cell_type": "markdown",
      "source": [
        "Model and Dependency Calling block "
      ],
      "metadata": {
        "id": "tdl4TYhNlrLz"
      }
    },
    {
      "cell_type": "code",
      "execution_count": 40,
      "metadata": {
        "id": "6EjpSYB3nJr1"
      },
      "outputs": [],
      "source": [
        "def Run_Model(model_class,train_loader,test_loader,epochs , L1 = False):\n",
        "    \n",
        "    device = \"cuda\" if torch.cuda.is_available() else \"cpu\"\n",
        "    print (f'running on {device} \\n')\n",
        "    #take input as normal_type ['gbn','bn','gn','ln']\n",
        "    model = model_class.to(device)\n",
        "    try:\n",
        "        print(summary(model,input_size = (3,32,32)))\n",
        "    except:\n",
        "        pass\n",
        "\n",
        "    optimizer,scheduler = get_optimizer(model,scheduler = True )\n",
        "    # optimizer = SGD( params = model.parameters(),lr = 0.01,momentum = 0.9)\n",
        "    for EPOCHS in range(0,epochs):\n",
        "        if L1 == True:\n",
        "            train_losses, train_accuracy = trainning(model,device,train_loader,optimizer,EPOCHS,L1 = L1)\n",
        "        else:\n",
        "            train_losses, train_accuracy = trainning(model,device,train_loader,optimizer,EPOCHS)\n",
        "        test_losses,test_accuracy = testing(model,device,test_loader,optimizer,EPOCHS)\n",
        "        scheduler.step()\n",
        "        print (\"LR :{}\\n\".format(scheduler.get_lr()[0]))\n",
        "    return model,train_losses, train_accuracy,test_losses,test_accuracy"
      ]
    },
    {
      "cell_type": "code",
      "source": [
        ""
      ],
      "metadata": {
        "id": "Qo8S5JoMlyDr"
      },
      "execution_count": null,
      "outputs": []
    },
    {
      "cell_type": "markdown",
      "source": [
        "Master Pipeline Calling Block\n"
      ],
      "metadata": {
        "id": "64soTjc6lxPc"
      }
    },
    {
      "cell_type": "code",
      "execution_count": 72,
      "metadata": {
        "colab": {
          "base_uri": "https://localhost:8080/",
          "height": 1000
        },
        "id": "6ZZpcFj6XZ6l",
        "outputId": "3a70c075-787a-4830-e140-102c8408b2bd"
      },
      "outputs": [
        {
          "output_type": "stream",
          "name": "stdout",
          "text": [
            "Files already downloaded and verified\n",
            "Files already downloaded and verified\n",
            "running on cuda \n",
            "\n"
          ]
        },
        {
          "output_type": "stream",
          "name": "stderr",
          "text": [
            "Train ==> Epochs: 0 Batch:  781 loss: 1.5676227807998657 Accuracy: 44.37% : 100%|██████████| 782/782 [00:11<00:00, 69.55it/s]\n",
            "Test ==> Epochs: 0 Batch:  781 loss: 0.01719936239361763 Accuracy: 60.29% : 100%|██████████| 782/782 [00:07<00:00, 99.20it/s] \n"
          ]
        },
        {
          "output_type": "stream",
          "name": "stdout",
          "text": [
            "LR :0.01\n",
            "\n"
          ]
        },
        {
          "output_type": "stream",
          "name": "stderr",
          "text": [
            "Train ==> Epochs: 1 Batch:  781 loss: 1.0554907321929932 Accuracy: 60.81% : 100%|██████████| 782/782 [00:11<00:00, 67.39it/s]\n",
            "Test ==> Epochs: 1 Batch:  781 loss: 0.015575322213172912 Accuracy: 65.13% : 100%|██████████| 782/782 [00:08<00:00, 96.21it/s] \n"
          ]
        },
        {
          "output_type": "stream",
          "name": "stdout",
          "text": [
            "LR :0.01\n",
            "\n"
          ]
        },
        {
          "output_type": "stream",
          "name": "stderr",
          "text": [
            "Train ==> Epochs: 2 Batch:  781 loss: 0.8793073296546936 Accuracy: 67.06% : 100%|██████████| 782/782 [00:11<00:00, 67.33it/s]\n",
            "Test ==> Epochs: 2 Batch:  781 loss: 0.013124435999393462 Accuracy: 70.82% : 100%|██████████| 782/782 [00:07<00:00, 99.42it/s] \n"
          ]
        },
        {
          "output_type": "stream",
          "name": "stdout",
          "text": [
            "LR :0.01\n",
            "\n"
          ]
        },
        {
          "output_type": "stream",
          "name": "stderr",
          "text": [
            "Train ==> Epochs: 3 Batch:  781 loss: 0.7991155385971069 Accuracy: 70.71% : 100%|██████████| 782/782 [00:11<00:00, 66.48it/s]\n",
            "Test ==> Epochs: 3 Batch:  781 loss: 0.010852789186239243 Accuracy: 75.52% : 100%|██████████| 782/782 [00:07<00:00, 99.27it/s] \n"
          ]
        },
        {
          "output_type": "stream",
          "name": "stdout",
          "text": [
            "LR :0.01\n",
            "\n"
          ]
        },
        {
          "output_type": "stream",
          "name": "stderr",
          "text": [
            "Train ==> Epochs: 4 Batch:  781 loss: 1.2488988637924194 Accuracy: 72.93% : 100%|██████████| 782/782 [00:11<00:00, 65.27it/s]\n",
            "Test ==> Epochs: 4 Batch:  781 loss: 0.010045338579416275 Accuracy: 77.36% : 100%|██████████| 782/782 [00:07<00:00, 102.05it/s]\n"
          ]
        },
        {
          "output_type": "stream",
          "name": "stdout",
          "text": [
            "LR :0.01\n",
            "\n"
          ]
        },
        {
          "output_type": "stream",
          "name": "stderr",
          "text": [
            "Train ==> Epochs: 5 Batch:  781 loss: 0.6417961120605469 Accuracy: 74.37% : 100%|██████████| 782/782 [00:12<00:00, 65.15it/s]\n",
            "Test ==> Epochs: 5 Batch:  781 loss: 0.008940090799927712 Accuracy: 80.26% : 100%|██████████| 782/782 [00:07<00:00, 99.43it/s]\n"
          ]
        },
        {
          "output_type": "stream",
          "name": "stdout",
          "text": [
            "LR :0.0001\n",
            "\n"
          ]
        },
        {
          "output_type": "stream",
          "name": "stderr",
          "text": [
            "Train ==> Epochs: 6 Batch:  781 loss: 0.2691081464290619 Accuracy: 79.30% : 100%|██████████| 782/782 [00:11<00:00, 68.55it/s]\n",
            "Test ==> Epochs: 6 Batch:  781 loss: 0.007154751481115818 Accuracy: 84.26% : 100%|██████████| 782/782 [00:08<00:00, 92.95it/s] \n"
          ]
        },
        {
          "output_type": "stream",
          "name": "stdout",
          "text": [
            "LR :0.001\n",
            "\n"
          ]
        },
        {
          "output_type": "stream",
          "name": "stderr",
          "text": [
            "Train ==> Epochs: 7 Batch:  781 loss: 0.6835571527481079 Accuracy: 80.31% : 100%|██████████| 782/782 [00:11<00:00, 68.21it/s]\n",
            "Test ==> Epochs: 7 Batch:  781 loss: 0.006811860449910164 Accuracy: 85.06% : 100%|██████████| 782/782 [00:07<00:00, 98.33it/s] \n"
          ]
        },
        {
          "output_type": "stream",
          "name": "stdout",
          "text": [
            "LR :0.001\n",
            "\n"
          ]
        },
        {
          "output_type": "stream",
          "name": "stderr",
          "text": [
            "Train ==> Epochs: 8 Batch:  781 loss: 1.1297922134399414 Accuracy: 80.95% : 100%|██████████| 782/782 [00:12<00:00, 64.55it/s]\n",
            "Test ==> Epochs: 8 Batch:  781 loss: 0.006604459646344185 Accuracy: 85.37% : 100%|██████████| 782/782 [00:07<00:00, 97.95it/s]\n"
          ]
        },
        {
          "output_type": "stream",
          "name": "stdout",
          "text": [
            "LR :0.001\n",
            "\n"
          ]
        },
        {
          "output_type": "stream",
          "name": "stderr",
          "text": [
            "Train ==> Epochs: 9 Batch:  781 loss: 0.7243228554725647 Accuracy: 81.25% : 100%|██████████| 782/782 [00:11<00:00, 67.08it/s]\n",
            "Test ==> Epochs: 9 Batch:  781 loss: 0.006361266513168812 Accuracy: 86.07% : 100%|██████████| 782/782 [00:07<00:00, 98.42it/s] \n"
          ]
        },
        {
          "output_type": "stream",
          "name": "stdout",
          "text": [
            "LR :0.001\n",
            "\n"
          ]
        },
        {
          "output_type": "stream",
          "name": "stderr",
          "text": [
            "Train ==> Epochs: 10 Batch:  781 loss: 0.5972194671630859 Accuracy: 81.45% : 100%|██████████| 782/782 [00:11<00:00, 67.40it/s]\n",
            "Test ==> Epochs: 10 Batch:  781 loss: 0.00617021849706769 Accuracy: 86.49% : 100%|██████████| 782/782 [00:08<00:00, 89.27it/s]\n"
          ]
        },
        {
          "output_type": "stream",
          "name": "stdout",
          "text": [
            "LR :0.001\n",
            "\n"
          ]
        },
        {
          "output_type": "stream",
          "name": "stderr",
          "text": [
            "Train ==> Epochs: 11 Batch:  781 loss: 1.1402308940887451 Accuracy: 81.99% : 100%|██████████| 782/782 [00:11<00:00, 67.75it/s]\n",
            "Test ==> Epochs: 11 Batch:  781 loss: 0.005980296154469252 Accuracy: 86.92% : 100%|██████████| 782/782 [00:07<00:00, 99.31it/s] \n"
          ]
        },
        {
          "output_type": "stream",
          "name": "stdout",
          "text": [
            "LR :1e-05\n",
            "\n"
          ]
        },
        {
          "output_type": "stream",
          "name": "stderr",
          "text": [
            "Train ==> Epochs: 12 Batch:  781 loss: 0.5185264945030212 Accuracy: 82.63% : 100%|██████████| 782/782 [00:11<00:00, 67.24it/s]\n",
            "Test ==> Epochs: 12 Batch:  781 loss: 0.0058593800288438795 Accuracy: 87.27% : 100%|██████████| 782/782 [00:07<00:00, 99.54it/s] \n"
          ]
        },
        {
          "output_type": "stream",
          "name": "stdout",
          "text": [
            "LR :0.0001\n",
            "\n"
          ]
        },
        {
          "output_type": "stream",
          "name": "stderr",
          "text": [
            "Train ==> Epochs: 13 Batch:  781 loss: 0.6613146066665649 Accuracy: 82.79% : 100%|██████████| 782/782 [00:12<00:00, 61.95it/s]\n",
            "Test ==> Epochs: 13 Batch:  781 loss: 0.005832024586200714 Accuracy: 87.29% : 100%|██████████| 782/782 [00:07<00:00, 98.48it/s] \n"
          ]
        },
        {
          "output_type": "stream",
          "name": "stdout",
          "text": [
            "LR :0.0001\n",
            "\n"
          ]
        },
        {
          "output_type": "stream",
          "name": "stderr",
          "text": [
            "Train ==> Epochs: 14 Batch:  781 loss: 0.6035655736923218 Accuracy: 82.91% : 100%|██████████| 782/782 [00:11<00:00, 67.71it/s]\n",
            "Test ==> Epochs: 14 Batch:  781 loss: 0.00577488017141819 Accuracy: 87.48% : 100%|██████████| 782/782 [00:08<00:00, 97.71it/s] \n"
          ]
        },
        {
          "output_type": "stream",
          "name": "stdout",
          "text": [
            "LR :0.0001\n",
            "\n"
          ]
        },
        {
          "output_type": "stream",
          "name": "stderr",
          "text": [
            "Train ==> Epochs: 15 Batch:  781 loss: 0.2662326991558075 Accuracy: 83.14% : 100%|██████████| 782/782 [00:11<00:00, 67.25it/s]\n",
            "Test ==> Epochs: 15 Batch:  781 loss: 0.005780455745160579 Accuracy: 87.46% : 100%|██████████| 782/782 [00:07<00:00, 98.24it/s] \n"
          ]
        },
        {
          "output_type": "stream",
          "name": "stdout",
          "text": [
            "LR :0.0001\n",
            "\n"
          ]
        },
        {
          "output_type": "stream",
          "name": "stderr",
          "text": [
            "Train ==> Epochs: 16 Batch:  781 loss: 0.8409036993980408 Accuracy: 83.21% : 100%|██████████| 782/782 [00:11<00:00, 68.32it/s]\n",
            "Test ==> Epochs: 16 Batch:  781 loss: 0.005734396629035473 Accuracy: 87.47% : 100%|██████████| 782/782 [00:09<00:00, 84.92it/s]\n"
          ]
        },
        {
          "output_type": "stream",
          "name": "stdout",
          "text": [
            "LR :0.0001\n",
            "\n"
          ]
        },
        {
          "output_type": "stream",
          "name": "stderr",
          "text": [
            "Train ==> Epochs: 17 Batch:  781 loss: 0.3264175355434418 Accuracy: 82.98% : 100%|██████████| 782/782 [00:11<00:00, 67.58it/s]\n",
            "Test ==> Epochs: 17 Batch:  781 loss: 0.005699774240702391 Accuracy: 87.66% : 100%|██████████| 782/782 [00:08<00:00, 94.73it/s]\n"
          ]
        },
        {
          "output_type": "stream",
          "name": "stdout",
          "text": [
            "LR :1.0000000000000002e-06\n",
            "\n"
          ]
        },
        {
          "output_type": "stream",
          "name": "stderr",
          "text": [
            "Train ==> Epochs: 18 Batch:  781 loss: 0.7013034224510193 Accuracy: 83.33% : 100%|██████████| 782/782 [00:11<00:00, 67.56it/s]\n",
            "Test ==> Epochs: 18 Batch:  781 loss: 0.005717412292808294 Accuracy: 87.54% : 100%|██████████| 782/782 [00:07<00:00, 98.05it/s] \n"
          ]
        },
        {
          "output_type": "stream",
          "name": "stdout",
          "text": [
            "LR :1e-05\n",
            "\n"
          ]
        },
        {
          "output_type": "stream",
          "name": "stderr",
          "text": [
            "Train ==> Epochs: 19 Batch:  781 loss: 0.4420712888240814 Accuracy: 83.16% : 100%|██████████| 782/782 [00:11<00:00, 67.40it/s]\n",
            "Test ==> Epochs: 19 Batch:  781 loss: 0.005699877410531044 Accuracy: 87.62% : 100%|██████████| 782/782 [00:08<00:00, 96.87it/s] \n"
          ]
        },
        {
          "output_type": "stream",
          "name": "stdout",
          "text": [
            "LR :1e-05\n",
            "\n"
          ]
        },
        {
          "output_type": "stream",
          "name": "stderr",
          "text": [
            "Train ==> Epochs: 20 Batch:  781 loss: 0.5010113716125488 Accuracy: 83.46% : 100%|██████████| 782/782 [00:11<00:00, 68.26it/s]\n",
            "Test ==> Epochs: 20 Batch:  781 loss: 0.0056950835473835466 Accuracy: 87.62% : 100%|██████████| 782/782 [00:07<00:00, 99.84it/s] \n"
          ]
        },
        {
          "output_type": "stream",
          "name": "stdout",
          "text": [
            "LR :1e-05\n",
            "\n"
          ]
        },
        {
          "output_type": "stream",
          "name": "stderr",
          "text": [
            "Train ==> Epochs: 21 Batch:  781 loss: 0.6374374032020569 Accuracy: 83.21% : 100%|██████████| 782/782 [00:13<00:00, 59.31it/s]\n",
            "Test ==> Epochs: 21 Batch:  781 loss: 0.0057159298129379746 Accuracy: 87.60% : 100%|██████████| 782/782 [00:08<00:00, 97.61it/s] \n"
          ]
        },
        {
          "output_type": "stream",
          "name": "stdout",
          "text": [
            "LR :1e-05\n",
            "\n"
          ]
        },
        {
          "output_type": "stream",
          "name": "stderr",
          "text": [
            "Train ==> Epochs: 22 Batch:  781 loss: 0.608107328414917 Accuracy: 83.23% : 100%|██████████| 782/782 [00:11<00:00, 67.69it/s]\n",
            "Test ==> Epochs: 22 Batch:  781 loss: 0.0057276518630981444 Accuracy: 87.59% : 100%|██████████| 782/782 [00:08<00:00, 96.71it/s] \n"
          ]
        },
        {
          "output_type": "stream",
          "name": "stdout",
          "text": [
            "LR :1e-05\n",
            "\n"
          ]
        },
        {
          "output_type": "stream",
          "name": "stderr",
          "text": [
            "Train ==> Epochs: 23 Batch:  781 loss: 1.3096812963485718 Accuracy: 83.16% : 100%|██████████| 782/782 [00:11<00:00, 67.54it/s]\n",
            "Test ==> Epochs: 23 Batch:  781 loss: 0.0056907735627889635 Accuracy: 87.61% : 100%|██████████| 782/782 [00:07<00:00, 98.89it/s] \n"
          ]
        },
        {
          "output_type": "stream",
          "name": "stdout",
          "text": [
            "LR :1.0000000000000002e-07\n",
            "\n"
          ]
        },
        {
          "output_type": "stream",
          "name": "stderr",
          "text": [
            "Train ==> Epochs: 24 Batch:  781 loss: 1.1873058080673218 Accuracy: 83.18% : 100%|██████████| 782/782 [00:11<00:00, 67.89it/s]\n",
            "Test ==> Epochs: 24 Batch:  781 loss: 0.00570867972239852 Accuracy: 87.60% : 100%|██████████| 782/782 [00:07<00:00, 98.87it/s] \n"
          ]
        },
        {
          "output_type": "stream",
          "name": "stdout",
          "text": [
            "LR :1.0000000000000002e-06\n",
            "\n"
          ]
        },
        {
          "output_type": "stream",
          "name": "stderr",
          "text": [
            "Train ==> Epochs: 25 Batch:  781 loss: 0.40632590651512146 Accuracy: 82.91% : 100%|██████████| 782/782 [00:11<00:00, 66.74it/s]\n",
            "Test ==> Epochs: 25 Batch:  781 loss: 0.005684881376773119 Accuracy: 87.62% : 100%|██████████| 782/782 [00:08<00:00, 93.98it/s]\n"
          ]
        },
        {
          "output_type": "stream",
          "name": "stdout",
          "text": [
            "LR :1.0000000000000002e-06\n",
            "\n"
          ]
        },
        {
          "output_type": "stream",
          "name": "stderr",
          "text": [
            "Train ==> Epochs: 26 Batch:  781 loss: 0.5157619118690491 Accuracy: 83.13% : 100%|██████████| 782/782 [00:13<00:00, 56.76it/s]\n",
            "Test ==> Epochs: 26 Batch:  781 loss: 0.005691007205843926 Accuracy: 87.66% : 100%|██████████| 782/782 [00:08<00:00, 95.08it/s]\n"
          ]
        },
        {
          "output_type": "stream",
          "name": "stdout",
          "text": [
            "LR :1.0000000000000002e-06\n",
            "\n"
          ]
        },
        {
          "output_type": "stream",
          "name": "stderr",
          "text": [
            "Train ==> Epochs: 27 Batch:  781 loss: 0.8044531941413879 Accuracy: 83.13% : 100%|██████████| 782/782 [00:11<00:00, 66.77it/s]\n",
            "Test ==> Epochs: 27 Batch:  781 loss: 0.005720050092488527 Accuracy: 87.61% : 100%|██████████| 782/782 [00:08<00:00, 97.18it/s] \n"
          ]
        },
        {
          "output_type": "stream",
          "name": "stdout",
          "text": [
            "LR :1.0000000000000002e-06\n",
            "\n"
          ]
        },
        {
          "output_type": "stream",
          "name": "stderr",
          "text": [
            "Train ==> Epochs: 28 Batch:  781 loss: 0.5712867379188538 Accuracy: 83.21% : 100%|██████████| 782/782 [00:11<00:00, 66.38it/s]\n",
            "Test ==> Epochs: 28 Batch:  781 loss: 0.005679947374165058 Accuracy: 87.69% : 100%|██████████| 782/782 [00:07<00:00, 98.37it/s] \n"
          ]
        },
        {
          "output_type": "stream",
          "name": "stdout",
          "text": [
            "LR :1.0000000000000002e-06\n",
            "\n"
          ]
        },
        {
          "output_type": "stream",
          "name": "stderr",
          "text": [
            "Train ==> Epochs: 29 Batch:  781 loss: 0.3840312659740448 Accuracy: 83.26% : 100%|██████████| 782/782 [00:11<00:00, 67.06it/s]\n",
            "Test ==> Epochs: 29 Batch:  781 loss: 0.005690927051603794 Accuracy: 87.66% : 100%|██████████| 782/782 [00:07<00:00, 98.21it/s] \n"
          ]
        },
        {
          "output_type": "stream",
          "name": "stdout",
          "text": [
            "LR :1.0000000000000004e-08\n",
            "\n"
          ]
        },
        {
          "output_type": "stream",
          "name": "stderr",
          "text": [
            "Train ==> Epochs: 30 Batch:  781 loss: 0.71538907289505 Accuracy: 83.22% : 100%|██████████| 782/782 [00:11<00:00, 67.36it/s]\n",
            "Test ==> Epochs: 30 Batch:  781 loss: 0.0056784220376610755 Accuracy: 87.72% : 100%|██████████| 782/782 [00:08<00:00, 94.94it/s]\n"
          ]
        },
        {
          "output_type": "stream",
          "name": "stdout",
          "text": [
            "LR :1.0000000000000002e-07\n",
            "\n"
          ]
        },
        {
          "output_type": "stream",
          "name": "stderr",
          "text": [
            "Train ==> Epochs: 31 Batch:  781 loss: 0.3554638624191284 Accuracy: 82.98% : 100%|██████████| 782/782 [00:11<00:00, 66.39it/s]\n",
            "Test ==> Epochs: 31 Batch:  781 loss: 0.005686071573197842 Accuracy: 87.71% : 100%|██████████| 782/782 [00:08<00:00, 95.30it/s] \n"
          ]
        },
        {
          "output_type": "stream",
          "name": "stdout",
          "text": [
            "LR :1.0000000000000002e-07\n",
            "\n"
          ]
        },
        {
          "output_type": "stream",
          "name": "stderr",
          "text": [
            "Train ==> Epochs: 32 Batch:  781 loss: 1.1368473768234253 Accuracy: 83.27% : 100%|██████████| 782/782 [00:11<00:00, 66.84it/s]\n",
            "Test ==> Epochs: 32 Batch:  781 loss: 0.005687418823838234 Accuracy: 87.65% : 100%|██████████| 782/782 [00:10<00:00, 74.07it/s] \n"
          ]
        },
        {
          "output_type": "stream",
          "name": "stdout",
          "text": [
            "LR :1.0000000000000002e-07\n",
            "\n"
          ]
        },
        {
          "output_type": "stream",
          "name": "stderr",
          "text": [
            "Train ==> Epochs: 33 Batch:  781 loss: 0.921694278717041 Accuracy: 83.20% : 100%|██████████| 782/782 [00:11<00:00, 66.78it/s]\n",
            "Test ==> Epochs: 33 Batch:  781 loss: 0.00574056832715869 Accuracy: 87.47% : 100%|██████████| 782/782 [00:08<00:00, 97.22it/s]\n"
          ]
        },
        {
          "output_type": "stream",
          "name": "stdout",
          "text": [
            "LR :1.0000000000000002e-07\n",
            "\n"
          ]
        },
        {
          "output_type": "stream",
          "name": "stderr",
          "text": [
            "Train ==> Epochs: 34 Batch:  781 loss: 0.33536070585250854 Accuracy: 83.15% : 100%|██████████| 782/782 [00:11<00:00, 66.61it/s]\n",
            "Test ==> Epochs: 34 Batch:  781 loss: 0.005691643445640803 Accuracy: 87.69% : 100%|██████████| 782/782 [00:08<00:00, 95.02it/s] \n"
          ]
        },
        {
          "output_type": "stream",
          "name": "stdout",
          "text": [
            "LR :1.0000000000000002e-07\n",
            "\n"
          ]
        },
        {
          "output_type": "stream",
          "name": "stderr",
          "text": [
            "Train ==> Epochs: 35 Batch:  781 loss: 0.9506465196609497 Accuracy: 83.25% : 100%|██████████| 782/782 [00:11<00:00, 66.79it/s]\n",
            "Test ==> Epochs: 35 Batch:  781 loss: 0.0056997207917273045 Accuracy: 87.68% : 100%|██████████| 782/782 [00:08<00:00, 90.11it/s]\n"
          ]
        },
        {
          "output_type": "stream",
          "name": "stdout",
          "text": [
            "LR :1.0000000000000005e-09\n",
            "\n"
          ]
        },
        {
          "output_type": "stream",
          "name": "stderr",
          "text": [
            "Train ==> Epochs: 36 Batch:  781 loss: 0.13991184532642365 Accuracy: 83.21% : 100%|██████████| 782/782 [00:11<00:00, 66.57it/s]\n",
            "Test ==> Epochs: 36 Batch:  781 loss: 0.005697641973346472 Accuracy: 87.67% : 100%|██████████| 782/782 [00:08<00:00, 97.61it/s] \n"
          ]
        },
        {
          "output_type": "stream",
          "name": "stdout",
          "text": [
            "LR :1.0000000000000004e-08\n",
            "\n"
          ]
        },
        {
          "output_type": "stream",
          "name": "stderr",
          "text": [
            "Train ==> Epochs: 37 Batch:  781 loss: 0.4987081289291382 Accuracy: 83.25% : 100%|██████████| 782/782 [00:11<00:00, 66.16it/s]\n",
            "Test ==> Epochs: 37 Batch:  781 loss: 0.005707010107934475 Accuracy: 87.58% : 100%|██████████| 782/782 [00:08<00:00, 94.90it/s] \n"
          ]
        },
        {
          "output_type": "stream",
          "name": "stdout",
          "text": [
            "LR :1.0000000000000004e-08\n",
            "\n"
          ]
        },
        {
          "output_type": "stream",
          "name": "stderr",
          "text": [
            "Train ==> Epochs: 38 Batch:  781 loss: 0.1834840029478073 Accuracy: 83.36% : 100%|██████████| 782/782 [00:11<00:00, 66.93it/s]\n",
            "Test ==> Epochs: 38 Batch:  781 loss: 0.005718066769093275 Accuracy: 87.61% : 100%|██████████| 782/782 [00:08<00:00, 95.16it/s]\n"
          ]
        },
        {
          "output_type": "stream",
          "name": "stdout",
          "text": [
            "LR :1.0000000000000004e-08\n",
            "\n"
          ]
        },
        {
          "output_type": "stream",
          "name": "stderr",
          "text": [
            "Train ==> Epochs: 39 Batch:  781 loss: 0.44379115104675293 Accuracy: 83.08% : 100%|██████████| 782/782 [00:11<00:00, 66.42it/s]\n",
            "Test ==> Epochs: 39 Batch:  781 loss: 0.0057051472194492815 Accuracy: 87.58% : 100%|██████████| 782/782 [00:08<00:00, 94.74it/s] \n"
          ]
        },
        {
          "output_type": "stream",
          "name": "stdout",
          "text": [
            "LR :1.0000000000000004e-08\n",
            "\n"
          ]
        },
        {
          "output_type": "stream",
          "name": "stderr",
          "text": [
            "Train ==> Epochs: 40 Batch:  781 loss: 0.7437790632247925 Accuracy: 83.07% : 100%|██████████| 782/782 [00:11<00:00, 65.83it/s]\n",
            "Test ==> Epochs: 40 Batch:  781 loss: 0.0056792483815550805 Accuracy: 87.67% : 100%|██████████| 782/782 [00:11<00:00, 70.09it/s] \n"
          ]
        },
        {
          "output_type": "stream",
          "name": "stdout",
          "text": [
            "LR :1.0000000000000004e-08\n",
            "\n"
          ]
        },
        {
          "output_type": "stream",
          "name": "stderr",
          "text": [
            "Train ==> Epochs: 41 Batch:  781 loss: 0.8780149221420288 Accuracy: 83.31% : 100%|██████████| 782/782 [00:11<00:00, 66.14it/s]\n",
            "Test ==> Epochs: 41 Batch:  781 loss: 0.005694758690446615 Accuracy: 87.65% : 100%|██████████| 782/782 [00:08<00:00, 94.18it/s] \n"
          ]
        },
        {
          "output_type": "stream",
          "name": "stdout",
          "text": [
            "LR :1.0000000000000006e-10\n",
            "\n"
          ]
        },
        {
          "output_type": "stream",
          "name": "stderr",
          "text": [
            "Train ==> Epochs: 42 Batch:  781 loss: 0.48618951439857483 Accuracy: 83.24% : 100%|██████████| 782/782 [00:12<00:00, 65.10it/s]\n",
            "Test ==> Epochs: 42 Batch:  781 loss: 0.005702536617666483 Accuracy: 87.66% : 100%|██████████| 782/782 [00:08<00:00, 94.11it/s]\n"
          ]
        },
        {
          "output_type": "stream",
          "name": "stdout",
          "text": [
            "LR :1.0000000000000005e-09\n",
            "\n"
          ]
        },
        {
          "output_type": "stream",
          "name": "stderr",
          "text": [
            "Train ==> Epochs: 43 Batch:  781 loss: 0.5523121953010559 Accuracy: 83.05% : 100%|██████████| 782/782 [00:11<00:00, 65.20it/s]\n",
            "Test ==> Epochs: 43 Batch:  781 loss: 0.005737811890989542 Accuracy: 87.49% : 100%|██████████| 782/782 [00:08<00:00, 95.17it/s] \n"
          ]
        },
        {
          "output_type": "stream",
          "name": "stdout",
          "text": [
            "LR :1.0000000000000005e-09\n",
            "\n"
          ]
        },
        {
          "output_type": "stream",
          "name": "stderr",
          "text": [
            "Train ==> Epochs: 44 Batch:  781 loss: 0.6632298231124878 Accuracy: 83.16% : 100%|██████████| 782/782 [00:11<00:00, 65.26it/s]\n",
            "Test ==> Epochs: 44 Batch:  781 loss: 0.005699770937860012 Accuracy: 87.64% : 100%|██████████| 782/782 [00:08<00:00, 95.48it/s]\n"
          ]
        },
        {
          "output_type": "stream",
          "name": "stdout",
          "text": [
            "LR :1.0000000000000005e-09\n",
            "\n"
          ]
        },
        {
          "output_type": "stream",
          "name": "stderr",
          "text": [
            "Train ==> Epochs: 45 Batch:  781 loss: 0.46634891629219055 Accuracy: 83.34% : 100%|██████████| 782/782 [00:12<00:00, 64.86it/s]\n",
            "Test ==> Epochs: 45 Batch:  781 loss: 0.005681108021140098 Accuracy: 87.64% : 100%|██████████| 782/782 [00:08<00:00, 92.64it/s]\n"
          ]
        },
        {
          "output_type": "stream",
          "name": "stdout",
          "text": [
            "LR :1.0000000000000005e-09\n",
            "\n"
          ]
        },
        {
          "output_type": "stream",
          "name": "stderr",
          "text": [
            "Train ==> Epochs: 46 Batch:  781 loss: 0.6338247060775757 Accuracy: 83.14% : 100%|██████████| 782/782 [00:11<00:00, 66.13it/s]\n",
            "Test ==> Epochs: 46 Batch:  781 loss: 0.005666795077323913 Accuracy: 87.70% : 100%|██████████| 782/782 [00:08<00:00, 93.22it/s] \n"
          ]
        },
        {
          "output_type": "stream",
          "name": "stdout",
          "text": [
            "LR :1.0000000000000005e-09\n",
            "\n"
          ]
        },
        {
          "output_type": "stream",
          "name": "stderr",
          "text": [
            "Train ==> Epochs: 47 Batch:  781 loss: 0.557533860206604 Accuracy: 83.27% : 100%|██████████| 782/782 [00:12<00:00, 64.17it/s]\n",
            "Test ==> Epochs: 47 Batch:  781 loss: 0.005685486015826463 Accuracy: 87.69% : 100%|██████████| 782/782 [00:08<00:00, 92.97it/s] \n"
          ]
        },
        {
          "output_type": "stream",
          "name": "stdout",
          "text": [
            "LR :1.0000000000000006e-11\n",
            "\n"
          ]
        },
        {
          "output_type": "stream",
          "name": "stderr",
          "text": [
            "Train ==> Epochs: 48 Batch:  781 loss: 1.0556565523147583 Accuracy: 83.04% : 100%|██████████| 782/782 [00:11<00:00, 65.49it/s]\n",
            "Test ==> Epochs: 48 Batch:  781 loss: 0.005660638107061386 Accuracy: 87.67% : 100%|██████████| 782/782 [00:08<00:00, 95.73it/s] \n"
          ]
        },
        {
          "output_type": "stream",
          "name": "stdout",
          "text": [
            "LR :1.0000000000000006e-10\n",
            "\n"
          ]
        },
        {
          "output_type": "stream",
          "name": "stderr",
          "text": [
            "Train ==> Epochs: 49 Batch:  781 loss: 1.2684417963027954 Accuracy: 83.34% : 100%|██████████| 782/782 [00:11<00:00, 65.48it/s]\n",
            "Test ==> Epochs: 49 Batch:  781 loss: 0.0056840095849335194 Accuracy: 87.62% : 100%|██████████| 782/782 [00:08<00:00, 94.03it/s]\n"
          ]
        },
        {
          "output_type": "stream",
          "name": "stdout",
          "text": [
            "LR :1.0000000000000006e-10\n",
            "\n"
          ]
        },
        {
          "output_type": "display_data",
          "data": {
            "image/png": "[encoded data removed]",
            "text/plain": [
              "<Figure size 1440x360 with 2 Axes>"
            ]
          },
          "metadata": {
            "needs_background": "light"
          }
        }
      ],
      "source": [
        "if __name__ == \"__main__\":\n",
        "    batch_size = 64\n",
        "    epochs = 50\n",
        "\n",
        "    _=torch.manual_seed(1)\n",
        "    if torch.cuda.is_available():\n",
        "        _=torch.cuda.manual_seed(1)\n",
        "\n",
        "    train,test = get_data()\n",
        "    #take input as normal_type ['gbn','bn','gn','ln']\n",
        "\n",
        "    train_alb = AlbumDataset(train,train_transform)\n",
        "    test_alb = AlbumDataset(test,test_transform)\n",
        "\n",
        "    args = {'pin_memory':True,'num_workers':4} if torch.cuda.is_available() else {}\n",
        "    train_loader = DataLoader(train_alb,batch_size=batch_size,shuffle = True,**args)\n",
        "    test_loader = DataLoader(test_alb,batch_size=batch_size,**args)\n",
        "    # ['gbn','bn','gn','ln']\n",
        "    try_type = ['gbn']\n",
        "    for norm_type in try_type:\n",
        "\n",
        "        model_class = Cifar10Net(dropout_val=0.01,norm_type=norm_type)\n",
        "        model,train_losses, train_accuracy,test_losses,test_accuracy = Run_Model(model_class,train_alb,test_alb,epochs =epochs)\n",
        "        plot_acc_loss(norm_type ,train_accuracy,train_losses,test_accuracy,test_losses)\n",
        "        clean_gpu()\n",
        "\n",
        "        print_wrong_image(model,test_loader,3,7)\n",
        "        clean_gpu()"
      ]
    },
    {
      "cell_type": "code",
      "source": [
        "%autosave 1"
      ],
      "metadata": {
        "id": "4CJVjjt0E92u",
        "colab": {
          "base_uri": "https://localhost:8080/",
          "height": 35
        },
        "outputId": "9b0df82c-aeb1-4d32-9e85-d833298244b2"
      },
      "execution_count": 73,
      "outputs": [
        {
          "output_type": "display_data",
          "data": {
            "application/javascript": [
              "IPython.notebook.set_autosave_interval(1000)"
            ]
          },
          "metadata": {}
        },
        {
          "output_type": "stream",
          "name": "stdout",
          "text": [
            "Autosaving every 1 seconds\n"
          ]
        }
      ]
    },
    {
      "cell_type": "code",
      "source": [
        ""
      ],
      "metadata": {
        "id": "Ld89Qd1hyqye"
      },
      "execution_count": 73,
      "outputs": []
    }
  ],
  "metadata": {
    "accelerator": "GPU",
    "colab": {
      "collapsed_sections": [],
      "machine_shape": "hm",
      "name": "CIFAR10_try.ipynb",
      "provenance": [],
      "include_colab_link": true
    },
    "kernelspec": {
      "display_name": "Python 3",
      "name": "python3"
    },
    "language_info": {
      "codemirror_mode": {
        "name": "ipython",
        "version": 3
      },
      "file_extension": ".py",
      "mimetype": "text/x-python",
      "name": "python",
      "nbconvert_exporter": "python",
      "pygments_lexer": "ipython3",
      "version": "3.6.6"
    }
  },
  "nbformat": 4,
  "nbformat_minor": 0
}