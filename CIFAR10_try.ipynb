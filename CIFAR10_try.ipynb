{
  "cells": [
    {
      "cell_type": "markdown",
      "metadata": {
        "id": "view-in-github",
        "colab_type": "text"
      },
      "source": [
        "<a href=\"https://colab.research.google.com/github/Code-Trees/CNN/blob/master/CIFAR10_try.ipynb\" target=\"_parent\"><img src=\"https://colab.research.google.com/assets/colab-badge.svg\" alt=\"Open In Colab\"/></a>"
      ]
    },
    {
      "cell_type": "code",
      "execution_count": 318,
      "metadata": {
        "id": "2nYRkYAkxIhf"
      },
      "outputs": [],
      "source": [
        "# Requirement Check"
      ]
    },
    {
      "cell_type": "code",
      "source": [
        "gpu_info = !nvidia-smi\n",
        "gpu_info = '\\n'.join(gpu_info)\n",
        "if gpu_info.find('failed') >= 0:\n",
        "  print('Not connected to a GPU')\n",
        "else:\n",
        "  print(gpu_info)"
      ],
      "metadata": {
        "colab": {
          "base_uri": "https://localhost:8080/"
        },
        "id": "Daj3KQ4x_6Ev",
        "outputId": "13c1c58f-ca16-4cfe-d43b-16e6299bb3b7"
      },
      "execution_count": 319,
      "outputs": [
        {
          "output_type": "stream",
          "name": "stdout",
          "text": [
            "Mon Feb 14 03:50:37 2022       \n",
            "+-----------------------------------------------------------------------------+\n",
            "| NVIDIA-SMI 460.32.03    Driver Version: 460.32.03    CUDA Version: 11.2     |\n",
            "|-------------------------------+----------------------+----------------------+\n",
            "| GPU  Name        Persistence-M| Bus-Id        Disp.A | Volatile Uncorr. ECC |\n",
            "| Fan  Temp  Perf  Pwr:Usage/Cap|         Memory-Usage | GPU-Util  Compute M. |\n",
            "|                               |                      |               MIG M. |\n",
            "|===============================+======================+======================|\n",
            "|   0  Tesla P100-PCIE...  Off  | 00000000:00:04.0 Off |                    0 |\n",
            "| N/A   42C    P0    34W / 250W |   1191MiB / 16280MiB |      0%      Default |\n",
            "|                               |                      |                  N/A |\n",
            "+-------------------------------+----------------------+----------------------+\n",
            "                                                                               \n",
            "+-----------------------------------------------------------------------------+\n",
            "| Processes:                                                                  |\n",
            "|  GPU   GI   CI        PID   Type   Process name                  GPU Memory |\n",
            "|        ID   ID                                                   Usage      |\n",
            "|=============================================================================|\n",
            "+-----------------------------------------------------------------------------+\n"
          ]
        }
      ]
    },
    {
      "cell_type": "code",
      "execution_count": 320,
      "metadata": {
        "id": "TpNG8BrvS1iq"
      },
      "outputs": [],
      "source": [
        "# !pip install -U albumentations\n",
        "# !pip install opencv-python\n",
        "# !pip install opencv-python-headless==4.5.2.52\n",
        "# !pip install Pillow\n",
        "# !pip install rf_calc"
      ]
    },
    {
      "cell_type": "code",
      "execution_count": 321,
      "metadata": {
        "id": "lS60UZTSjNOC",
        "colab": {
          "base_uri": "https://localhost:8080/",
          "height": 35
        },
        "outputId": "5d2a98c7-0e5b-4247-908e-63f8fccd0a39"
      },
      "outputs": [
        {
          "output_type": "display_data",
          "data": {
            "application/javascript": [
              "IPython.notebook.set_autosave_interval(5000)"
            ]
          },
          "metadata": {}
        },
        {
          "output_type": "stream",
          "name": "stdout",
          "text": [
            "Autosaving every 5 seconds\n"
          ]
        }
      ],
      "source": [
        "import warnings\n",
        "warnings.filterwarnings('ignore')\n",
        "%autosave 5"
      ]
    },
    {
      "cell_type": "code",
      "execution_count": 322,
      "metadata": {
        "colab": {
          "base_uri": "https://localhost:8080/",
          "height": 35
        },
        "id": "QVbdg0z4poCc",
        "outputId": "cb5eeec7-327c-4ddd-d7e6-1a6db73ffd59"
      },
      "outputs": [
        {
          "output_type": "display_data",
          "data": {
            "application/javascript": [
              "IPython.notebook.set_autosave_interval(10000)"
            ]
          },
          "metadata": {}
        },
        {
          "output_type": "stream",
          "name": "stdout",
          "text": [
            "Autosaving every 10 seconds\n"
          ]
        }
      ],
      "source": [
        "from IPython.core.interactiveshell import InteractiveShell\n",
        "InteractiveShell.ast_node_interactivity = 'all'\n",
        "%autosave 10"
      ]
    },
    {
      "cell_type": "code",
      "execution_count": 323,
      "metadata": {
        "id": "R5mwABzayFAH"
      },
      "outputs": [],
      "source": [
        "import torch\n",
        "import torch.nn.functional as F\n",
        "import torch.nn as nn\n",
        "\n",
        "from torch.optim import SGD\n",
        "from torch.utils.data import DataLoader\n",
        "from torch.utils.data.dataset import Dataset\n",
        "from torch.optim.lr_scheduler import StepLR\n",
        "\n",
        "from torchvision import transforms,datasets\n",
        "\n",
        "import numpy as np\n",
        "import matplotlib.pyplot as plt\n",
        "from torchsummary import summary\n",
        "import random\n",
        "import seaborn as sns\n",
        "import gc\n",
        "\n",
        "import albumentations as A\n",
        "from albumentations.augmentations.geometric.resize import Resize\n",
        "from albumentations.pytorch.transforms import ToTensorV2"
      ]
    },
    {
      "cell_type": "code",
      "execution_count": 323,
      "metadata": {
        "id": "536wcDeSyFNV"
      },
      "outputs": [],
      "source": [
        ""
      ]
    },
    {
      "cell_type": "code",
      "execution_count": 324,
      "metadata": {
        "id": "0_UHX_gL2Bp2"
      },
      "outputs": [],
      "source": [
        "# we will use the CIFAR10 dataset. It has the classes:\n",
        "# ‘airplane’, ‘automobile’, ‘bird’, ‘cat’, ‘deer’, ‘dog’, ‘frog’, ‘horse’, ‘ship’, ‘truck’.\n",
        "# The images in CIFAR-10 are of size 3x32x32, i.e. 3-channel color images of 32x32 pixels in size."
      ]
    },
    {
      "cell_type": "code",
      "execution_count": 325,
      "metadata": {
        "id": "HKtfXQ8o20UO"
      },
      "outputs": [],
      "source": [
        "from tqdm import tqdm\n",
        "from rf_calc import receptive_field"
      ]
    },
    {
      "cell_type": "markdown",
      "metadata": {
        "id": "XSnEveblkwVz"
      },
      "source": [
        "GPU Cleaner"
      ]
    },
    {
      "cell_type": "code",
      "execution_count": 326,
      "metadata": {
        "id": "mIHPpFNQkvBj"
      },
      "outputs": [],
      "source": [
        "def clean_gpu():\n",
        "    \"\"\"Considering we have GPUs\"\"\"\n",
        "\n",
        "    gc.collect()\n",
        "    torch.cuda.empty_cache()\n",
        "    return None"
      ]
    },
    {
      "cell_type": "markdown",
      "metadata": {
        "id": "CpXzMbFtkzEr"
      },
      "source": [
        "Data Loading "
      ]
    },
    {
      "cell_type": "code",
      "execution_count": 327,
      "metadata": {
        "id": "vmMDwq7b17ou"
      },
      "outputs": [],
      "source": [
        "def get_data(train_transform_composes =None ,test_transform_composes =None):\n",
        "    \"\"\"We can compose customs , else the default is tensors \n",
        "    \"\"\"\n",
        "    train = datasets.CIFAR10(root= './',download = True, train = True,transform = train_transform_composes)\n",
        "    \n",
        "    test = datasets.CIFAR10(root= './',download = True, train = False ,transform = train_transform_composes)\n",
        "\n",
        "    return train,test "
      ]
    },
    {
      "cell_type": "markdown",
      "metadata": {
        "id": "-0J7zYy3k8eS"
      },
      "source": [
        "EDA With Experiments"
      ]
    },
    {
      "cell_type": "code",
      "execution_count": 328,
      "metadata": {
        "id": "VhvjgRRvY9j7"
      },
      "outputs": [],
      "source": [
        "def plot_unique_images(data_set,labels = None):\n",
        "    img_data = data_set.data\n",
        "    target = data_set.targets.copy()\n",
        "\n",
        "    fig = plt.figure(figsize=(30,30))\n",
        "    count = 1\n",
        "    unique_images_index = [random.choice(np.where(np.array(target) == search)[0]) for search in list(set(target))]\n",
        "\n",
        "    for image_index in unique_images_index:\n",
        "        n= image_index\n",
        "        ax = fig.add_subplot(1,10,count)\n",
        "        _=plt.imshow(img_data[n])\n",
        "        try:\n",
        "            _=plt.title(f\"label :{labels[target[n]]} idx:{n}\")\n",
        "        except:\n",
        "            _=plt.title(f\"idx:{n} Label: {target[n]}\")\n",
        "        _ = plt.autoscale()\n",
        "        _= fig.tight_layout(pad =1)\n",
        "        count+= 1\n",
        "        if count>=len(target):\n",
        "            break\n",
        "    plt.show()\n"
      ]
    },
    {
      "cell_type": "code",
      "execution_count": 329,
      "metadata": {
        "id": "jDzg2TuWZBYi"
      },
      "outputs": [],
      "source": [
        "def get_data_stats(dataset_train,dataset_test = None,img_norm_typ ='train',plot = False):\n",
        "    MEAN = []\n",
        "    STD = []\n",
        "    VAR = []\n",
        "    if img_norm_typ == 'train':\n",
        "        fig = plt.figure(figsize=(15,5))\n",
        "        for i in range(0,dataset_train.data.shape[len(dataset_train.data.shape)-1]):\n",
        "            scale = dataset_train.data[:,:,:,i]/dataset_train.data[:,:,:,i].max()\n",
        "            MEAN.append(scale.mean())\n",
        "            STD.append(scale.std())\n",
        "            VAR.append(scale.var())\n",
        "            if plot == True:\n",
        "                ax = fig.add_subplot(1,3,i+1)\n",
        "                _=sns.histplot(scale.reshape(-1) )\n",
        "                _=plt.title(f\"label :{'Train' if dataset_train.train else 'Test' } Channel:{i+1}\")\n",
        "                _= plt.xlabel(f\"Mean:{round(MEAN[i],3)}, std:{round(STD[i],3)}, var:{round(VAR[i],3)}\")\n",
        "                _ = plt.autoscale()\n",
        "                _= fig.tight_layout(pad =1)\n",
        "        # plt.show()\n",
        "        # print(f\" For {'Train' if dataset_train.train else 'Test'} data, Mean: {MEAN} || Variance: {VAR} || Standard Dev: {STD} || Data Dim: {dataset_train.data.shape}\")\n",
        "\n",
        "    elif img_norm_typ == 'train+test':\n",
        "        fig = plt.figure(figsize=(10,5))\n",
        "        mega_data  =np.append(dataset_train.data, dataset_test.data, 0)\n",
        "        for i in range(0,dataset_train.data.shape[len(dataset_train.data.shape)-1]):\n",
        "            scale = mega_data[:,:,:,i]/mega_data[:,:,:,i].max()\n",
        "            MEAN.append(scale.mean())\n",
        "            STD.append(scale.std())\n",
        "            VAR.append(scale.var())\n",
        "            if plot == True:\n",
        "                ax = fig.add_subplot(1,3,i+1)\n",
        "                _=sns.histplot(scale.reshape(-1))\n",
        "                _=plt.title(f\"label :{'Train' if dataset_train.train else 'Test' } Channel:{i+1}\")\n",
        "                _= plt.xlabel(f\"Mean:{round(MEAN[i],3)},std:{round(STD[i],3)},var:{round(VAR[i],3)}\")\n",
        "                _ = plt.autoscale()\n",
        "                _= fig.tight_layout(pad =1)\n",
        "        # print(f\"For {'Train' if dataset_train.train else 'Test'} data, Mean: {MEAN} || Variance: {VAR} || Standard Dev: {STD} || for {mega_data.shape} Dim\")\n",
        "    return tuple(MEAN),tuple(STD)"
      ]
    },
    {
      "cell_type": "code",
      "execution_count": 330,
      "metadata": {
        "colab": {
          "base_uri": "https://localhost:8080/",
          "height": 440
        },
        "id": "sUOh7izWQx4B",
        "outputId": "81ddb4ee-fa5b-4b27-c786-55c773dbe387"
      },
      "outputs": [
        {
          "output_type": "stream",
          "name": "stdout",
          "text": [
            "Files already downloaded and verified\n",
            "Files already downloaded and verified\n",
            "Train Shape: (50000, 32, 32, 3) Test Shape: (10000, 32, 32, 3) \n",
            "\n"
          ]
        },
        {
          "output_type": "display_data",
          "data": {
            "image/png": "[encoded data removed]",
            "text/plain": [
              "<Figure size 2160x2160 with 10 Axes>"
            ]
          },
          "metadata": {
            "needs_background": "light"
          }
        },
        {
          "output_type": "display_data",
          "data": {
            "image/png": "[encoded data removed]",
            "text/plain": [
              "<Figure size 2160x2160 with 10 Axes>"
            ]
          },
          "metadata": {
            "needs_background": "light"
          }
        }
      ],
      "source": [
        "labels = {0:'airplane',1:'automobile',2:'bird',3:'cat',4:'deer',5:'dog',6:'frog',7:'horse',8:'ship',9:'truck'}\n",
        "train,test = get_data()\n",
        "print(f\"Train Shape: {train.data.shape} Test Shape: {test.data.shape} \\n\")\n",
        "plot_unique_images(train,labels =labels)\n",
        "plot_unique_images(train,labels =labels)"
      ]
    },
    {
      "cell_type": "code",
      "execution_count": 331,
      "metadata": {
        "id": "7y222dwRSTsb"
      },
      "outputs": [],
      "source": [
        "#Calculating mean and veriance and std"
      ]
    },
    {
      "cell_type": "code",
      "execution_count": 332,
      "metadata": {
        "colab": {
          "base_uri": "https://localhost:8080/",
          "height": 72
        },
        "id": "9hmSYR5PWgO7",
        "outputId": "510777cd-4c96-4938-d471-1176d5c928c4"
      },
      "outputs": [
        {
          "output_type": "stream",
          "name": "stdout",
          "text": [
            "Mean: (0.49186877885008395, 0.48265390516493006, 0.44717727749693653) \n",
            "STD: (0.2469712143255279, 0.24338893940434994, 0.2615925905215076)\n"
          ]
        },
        {
          "output_type": "display_data",
          "data": {
            "text/plain": [
              "<Figure size 720x360 with 0 Axes>"
            ]
          },
          "metadata": {}
        }
      ],
      "source": [
        "# img_norm_typ  can be 'train' and 'train+test\n",
        "mean,std  = get_data_stats(train,test,img_norm_typ ='train+test',plot = False)\n",
        "print(f\"Mean: {mean} \\nSTD: {std}\")"
      ]
    },
    {
      "cell_type": "markdown",
      "metadata": {
        "id": "xQzYQVeWlC0c"
      },
      "source": [
        "Data Transform Compose"
      ]
    },
    {
      "cell_type": "code",
      "execution_count": 333,
      "metadata": {
        "id": "nOvXHwrSqKJj"
      },
      "outputs": [],
      "source": [
        "# Base Normalization\n",
        "train_transform =A.Compose([A.Resize(32,32),\n",
        "                            A.Normalize(mean = mean,std = std,max_pixel_value=255,always_apply = True),\n",
        "                            ToTensorV2(transpose_mask =False),\n",
        "                            ])      \n",
        "test_transform = A.Compose([A.Resize(32,32),\n",
        "                            A.Normalize(mean = mean,std = std,max_pixel_value=255,always_apply = True),\n",
        "                            ToTensorV2(transpose_mask =False,),\n",
        "                            ])"
      ]
    },
    {
      "cell_type": "code",
      "source": [
        "# Advanced Normalization\n",
        "train_transform =A.Compose([A.Resize(32,32),\n",
        "                            A.Normalize(mean = mean,std = std,max_pixel_value=255,always_apply = True),\n",
        "                             A.ShiftScaleRotate(always_apply=False),\n",
        "                             A.CoarseDropout(always_apply = False,max_holes = 1, max_height=16, max_width=16, min_holes = 1, min_height=16, min_width=16, fill_value=mean, mask_fill_value = None),\n",
        "                            ToTensorV2(transpose_mask =False),\n",
        "                             ])      \n",
        "test_transform = A.Compose([A.Resize(32,32),\n",
        "                             A.Normalize(mean = mean,std = std,max_pixel_value=255,always_apply = True),\n",
        "                           ToTensorV2(transpose_mask =False), ])"
      ],
      "metadata": {
        "id": "-nT0T1cIDPug"
      },
      "execution_count": 334,
      "outputs": []
    },
    {
      "cell_type": "code",
      "execution_count": 335,
      "metadata": {
        "colab": {
          "base_uri": "https://localhost:8080/",
          "height": 588
        },
        "id": "oaJ7J8rAqTSr",
        "outputId": "144df4db-f418-47db-baa2-6b34d56998ae"
      },
      "outputs": [
        {
          "output_type": "execute_result",
          "data": {
            "text/plain": [
              "numpy.ndarray"
            ]
          },
          "metadata": {},
          "execution_count": 335
        },
        {
          "output_type": "display_data",
          "data": {
            "image/png": "[encoded data removed]",
            "text/plain": [
              "<Figure size 432x288 with 1 Axes>"
            ]
          },
          "metadata": {
            "needs_background": "light"
          }
        },
        {
          "output_type": "stream",
          "name": "stderr",
          "text": [
            "Clipping input data to the valid range for imshow with RGB data ([0..1] for floats or [0..255] for integers).\n"
          ]
        },
        {
          "output_type": "stream",
          "name": "stdout",
          "text": [
            "Before(32, 32, 3)\n",
            "Aftertorch.Size([3, 32, 32])\n"
          ]
        },
        {
          "output_type": "display_data",
          "data": {
            "image/png": "[encoded data removed]",
            "text/plain": [
              "<Figure size 432x288 with 1 Axes>"
            ]
          },
          "metadata": {
            "needs_background": "light"
          }
        }
      ],
      "source": [
        "t = train.data\n",
        "type(t[10])\n",
        "a = t[np.random.randint(0,50000)]\n",
        "_ = plt.imshow(a)\n",
        "_ = plt.show()\n",
        "print(f\"Before{a.shape}\")\n",
        "# _ = plt.subplots(figsize = (5,5))\n",
        "a = train_transform(image = a)[\"image\"]\n",
        "print(f\"After{a.shape}\")\n",
        "_ = plt.imshow(np.transpose(a,(1,2,0)))\n",
        "# _ = plt.imshow(a)\n",
        "\n",
        "_ = plt.show()"
      ]
    },
    {
      "cell_type": "code",
      "execution_count": 335,
      "metadata": {
        "id": "Z9MBD0jPacQN"
      },
      "outputs": [],
      "source": [
        ""
      ]
    },
    {
      "cell_type": "markdown",
      "metadata": {
        "id": "ErA4gL-Vbp46"
      },
      "source": [
        "Albumentation Compose"
      ]
    },
    {
      "cell_type": "code",
      "execution_count": 336,
      "metadata": {
        "id": "MEmErKJYn3cn"
      },
      "outputs": [],
      "source": [
        "class AlbumDataset(Dataset):\n",
        "    \"\"\"Face Landmarks dataset.\"\"\"\n",
        "\n",
        "    def __init__(self, data,transform=None):\n",
        "        \"\"\"\n",
        "        Args:\n",
        "            csv_file (string): Path to the csv file with annotations.\n",
        "            root_dir (string): Directory with all the images.\n",
        "            transform (callable, optional): Optional transform to be applied\n",
        "                on a sample.\n",
        "        \"\"\"\n",
        "        self.train = train.data\n",
        "        self.label = train.targets\n",
        "        self.transform = transform\n",
        "\n",
        "    def __len__(self):\n",
        "        return (len(self.train))\n",
        "\n",
        "    def __getitem__(self, idx):\n",
        "        image = self.train[idx]\n",
        "        image = np.array(image)\n",
        "        # image = image.fromarray(image).convert('RGB')\n",
        "        # image = np.asarray(image).astype(np.unit8)\n",
        "        if self.transform:\n",
        "            aug_image = self.transform(image= image)[\"image\"]\n",
        "        aug_image = torch.tensor(aug_image,dtype =torch.float)\n",
        "        return aug_image,self.label[idx]"
      ]
    },
    {
      "cell_type": "code",
      "execution_count": 336,
      "metadata": {
        "id": "5BrYDedLaQi2"
      },
      "outputs": [],
      "source": [
        ""
      ]
    },
    {
      "cell_type": "markdown",
      "metadata": {
        "id": "t5HY69M2kKAr"
      },
      "source": [
        "Custom Network Normalization "
      ]
    },
    {
      "cell_type": "code",
      "execution_count": 337,
      "metadata": {
        "id": "r0UaSg3IBa2A"
      },
      "outputs": [],
      "source": [
        "class GhostBatchNorm(nn.BatchNorm2d):\n",
        "    \"\"\"\n",
        "    From : https://github.com/davidcpage/cifar10-fast/blob/master/bag_of_tricks.ipynb\n",
        "\n",
        "    Batch norm seems to work best with batch size of around 32. The reasons presumably have to do \n",
        "    with noise in the batch statistics and specifically a balance between a beneficial regularising effect \n",
        "    at intermediate batch sizes and an excess of noise at small batches.\n",
        "    \n",
        "    Our batches are of size 512 and we can't afford to reduce them without taking a serious hit on training times, \n",
        "    but we can apply batch norm separately to subsets of a training batch. This technique, known as 'ghost' batch \n",
        "    norm, is usually used in a distributed setting but is just as useful when using large batches on a single node. \n",
        "    It isn't supported directly in PyTorch but we can roll our own easily enough.\n",
        "    \"\"\"\n",
        "    def __init__(self, num_features, num_splits, eps=1e-05, momentum=0.1, weight=True, bias=True):\n",
        "        super(GhostBatchNorm, self).__init__(num_features, eps=eps, momentum=momentum)\n",
        "        self.weight.data.fill_(1.0)\n",
        "        self.bias.data.fill_(0.0)\n",
        "        self.weight.requires_grad = weight\n",
        "        self.bias.requires_grad = bias        \n",
        "        self.num_splits = num_splits\n",
        "        self.register_buffer('running_mean', torch.zeros(num_features*self.num_splits))\n",
        "        self.register_buffer('running_var', torch.ones(num_features*self.num_splits))\n",
        "\n",
        "    def train(self, mode=True):\n",
        "        if (self.training is True) and (mode is False):\n",
        "            self.running_mean = torch.mean(self.running_mean.view(self.num_splits, self.num_features), dim=0).repeat(self.num_splits)\n",
        "            self.running_var = torch.mean(self.running_var.view(self.num_splits, self.num_features), dim=0).repeat(self.num_splits)\n",
        "        return super(GhostBatchNorm, self).train(mode)\n",
        "        \n",
        "    def forward(self, input):\n",
        "        N, C, H, W = input.shape\n",
        "        if self.training or not self.track_running_stats:\n",
        "            return F.batch_norm(\n",
        "                input.view(-1, C*self.num_splits, H, W), self.running_mean, self.running_var, \n",
        "                self.weight.repeat(self.num_splits), self.bias.repeat(self.num_splits),\n",
        "                True, self.momentum, self.eps).view(N, C, H, W) \n",
        "        else:\n",
        "            return F.batch_norm(\n",
        "                input, self.running_mean[:self.num_features], self.running_var[:self.num_features], \n",
        "                self.weight, self.bias, False, self.momentum, self.eps)\n",
        "\n",
        "\n",
        "def Normalize(norm_type,num_features,n_group=2):\n",
        "    if norm_type == 'bn':\n",
        "        return nn.BatchNorm2d(num_features = num_features)\n",
        "\n",
        "    elif norm_type =='gn':\n",
        "        return nn.GroupNorm(num_groups=n_group ,num_channels=num_features)\n",
        "    \n",
        "    elif norm_type =='ln':\n",
        "        return nn.GroupNorm(num_groups =1, num_channels=num_features)\n",
        "\n",
        "    elif norm_type == 'gbn':\n",
        "        return  GhostBatchNorm(num_features, num_splits=4, weight=False)\n",
        "        \n",
        "    else:\n",
        "        print ('Invalid norm Parameter, Providing Default as BN ')\n",
        "        return nn.BatchNorm2d(num_features = num_features,)"
      ]
    },
    {
      "cell_type": "code",
      "execution_count": 337,
      "metadata": {
        "id": "av5b7c4qkdiz"
      },
      "outputs": [],
      "source": [
        ""
      ]
    },
    {
      "cell_type": "markdown",
      "metadata": {
        "id": "vSYBqMQS_-Tf"
      },
      "source": [
        "Custom Convolution Blocks"
      ]
    },
    {
      "cell_type": "code",
      "execution_count": 338,
      "metadata": {
        "id": "1sYqJno_Oifq"
      },
      "outputs": [],
      "source": [
        "class Depthwise_sep_conv(nn.Module):\n",
        "    def __init__(self,in_channels,out_channels,dropout_val=0.1,norm_type = 'bn',stride = 1):\n",
        "        super(Depthwise_sep_conv,self).__init__()\n",
        "        self.in_channels  = in_channels\n",
        "        self.out_channels = out_channels\n",
        "        self.stride = stride\n",
        "        self.dropout_val = dropout_val\n",
        "        self.norm_type = norm_type\n",
        "\n",
        "        self.deptwiseseperable = nn.Conv2d(in_channels=self.in_channels, out_channels=self.in_channels,kernel_size =(3,3), stride = self.stride,padding = 1,groups = self.in_channels, bias = False)\n",
        "        self.pointwise = nn.Conv2d(in_channels=self.in_channels, out_channels=self.out_channels,kernel_size =(1,1), stride =1, bias = False)\n",
        "        self.norm = Normalize(norm_type = self.norm_type ,num_features= self.out_channels)\n",
        "        self.relu = nn.ReLU()\n",
        "        self.drop = nn.Dropout2d(p = self.dropout_val)\n",
        "    \n",
        "    def forward(self,x):\n",
        "        x = self.deptwiseseperable(x)\n",
        "        x = self.pointwise(x)\n",
        "        x = self.relu(x)\n",
        "        x = self.drop(x)\n",
        "        return x"
      ]
    },
    {
      "cell_type": "code",
      "execution_count": 339,
      "metadata": {
        "id": "i2imTJ9DCj2d"
      },
      "outputs": [],
      "source": [
        "class ConvBlock(nn.Module):\n",
        "    def __init__(self,in_channels,out_channels,stride,padding,kernel_size=(3,3),norm_type = 'bn' ,dropout_val = 0):\n",
        "        super(ConvBlock,self).__init__()\n",
        "        self.in_channels = in_channels\n",
        "        self.out_channels = out_channels\n",
        "        self.stride=stride\n",
        "        self.padding= padding\n",
        "        self.kernel_size=kernel_size\n",
        "        self.norm_type = norm_type\n",
        "        self.dropout_val = dropout_val\n",
        "\n",
        "        self.conv = nn.Conv2d(in_channels=self.in_channels, out_channels=self.out_channels,kernel_size=self.kernel_size,stride =self.stride,padding = self.padding,bias = False)\n",
        "        self.norm = Normalize(norm_type = self.norm_type ,num_features= self.out_channels)\n",
        "        self.relu = nn.ReLU()\n",
        "        self.drop = nn.Dropout2d(p = self.dropout_val)\n",
        "\n",
        "    def forward(self,x):\n",
        "        x = self.relu(self.norm(self.conv(x)))\n",
        "        x= self.drop(x)\n",
        "        return x"
      ]
    },
    {
      "cell_type": "markdown",
      "metadata": {
        "id": "nrN8Y-yAkfOy"
      },
      "source": [
        "Model Building"
      ]
    },
    {
      "cell_type": "code",
      "execution_count": 340,
      "metadata": {
        "id": "j2S-NcgznQXh"
      },
      "outputs": [],
      "source": [
        "class Cifar10Net1(nn.Module):\n",
        "    def __init__(self,dropout_val = 0,norm_type = 'bn'):\n",
        "        super(Cifar10Net1,self).__init__()\n",
        "        self.norm_type = norm_type\n",
        "        self.drop = dropout_val\n",
        "\n",
        "        self.block1 = nn.Sequential(\n",
        "            ConvBlock(in_channels=3,out_channels=8,kernel_size = (3,3),stride = 1, padding = 0,norm_type = self.norm_type,dropout_val= self.drop),\n",
        "            ConvBlock(in_channels=8,out_channels=8,kernel_size = (3,3),stride = 1, padding = 1,norm_type = self.norm_type,dropout_val= self.drop),\n",
        "            ConvBlock(in_channels=8,out_channels=16,kernel_size = (3,3),stride = 1, padding = 1,norm_type = self.norm_type,dropout_val= self.drop),\n",
        "            )#Input : 32x32x3 |  Outout: 32x32x32 |  RF: 5x5\n",
        "        \n",
        "        self.pool1 =ConvBlock(in_channels=16,out_channels=16,kernel_size = (3,3),stride = 2, padding = 1,norm_type = self.norm_type,dropout_val= self.drop)\n",
        "\n",
        "\n",
        "        self.block2 = nn.Sequential(\n",
        "            # ConvBlock(in_channels=16,out_channels=16,kernel_size = (3,3),stride = 1, padding = 1,norm_type = self.norm_type,dropout_val= self.drop),\n",
        "            Depthwise_sep_conv(in_channels=16,out_channels=16,dropout_val=0.1,norm_type = 'bn',stride = 1),\n",
        "            ConvBlock(in_channels=16,out_channels=32,kernel_size = (3,3),stride = 1, padding = 1,norm_type = self.norm_type,dropout_val= self.drop),\n",
        "            ConvBlock(in_channels=32,out_channels=32,kernel_size = (3,3),stride = 1, padding = 1,norm_type = self.norm_type,dropout_val= self.drop),\n",
        "            )#Input : 32x32x3 |  Outout: 32x32x32 |  RF: 5x5\n",
        "\n",
        "        self.pool2 = ConvBlock(in_channels=32,out_channels=32,kernel_size = (3,3),stride = 2, padding = 0,norm_type = self.norm_type,dropout_val= self.drop)\n",
        "        \n",
        "        self.block3 = nn.Sequential(\n",
        "            # ConvBlock(in_channels=32,out_channels=32,kernel_size = (3,3),stride = 1, padding =0,norm_type = self.norm_type,dropout_val= self.drop),\n",
        "            Depthwise_sep_conv(in_channels=32,out_channels=32,dropout_val=0.1,norm_type = 'bn',stride = 1),\n",
        "            ConvBlock(in_channels=32,out_channels=64,kernel_size = (3,3),stride = 1, padding =1,norm_type = self.norm_type,dropout_val= self.drop),\n",
        "            ConvBlock(in_channels=64,out_channels=64,kernel_size = (3,3),stride = 1, padding =0,norm_type = self.norm_type,dropout_val= self.drop),\n",
        "            )#Input : 32x32x3 |  Outout: 32x32x32 |  RF: 5x5\n",
        "\n",
        "        self.conv_block1 = nn.Conv2d(in_channels=64,out_channels=16,kernel_size = (1,1),stride = 1, padding =0,bias= False)\n",
        "        self.conv_block2 = nn.Conv2d(in_channels=16,out_channels=32,kernel_size = (3,3),stride = 1, padding =0,bias= False)\n",
        "        self.GAP = nn.AdaptiveAvgPool2d(output_size=(1,1))\n",
        "        \n",
        "        # # self.conv_block3 = nn.Conv2d(in_channels=32,out_channels=16,kernel_size = (1,1),stride = 1, padding =0)\n",
        "        # self.conv_block3 = Depthwise_sep_conv(in_channels=32,out_channels=64,dropout_val=0.1,norm_type = 'bn',stride = 1)\n",
        "        self.conv_block4 = nn.Conv2d(in_channels=32,out_channels=10,kernel_size = (1,1),stride = 1, padding =0,bias= False)\n",
        "\n",
        "\n",
        "\n",
        "    def forward(self,x):\n",
        "        x = self.block1(x)\n",
        "        x = self.pool1(x)\n",
        "        x = self.block2(x)\n",
        "        x = self.pool2(x)\n",
        "        x = self.block3(x)\n",
        "        x = self.conv_block1(x)\n",
        "        x = self.conv_block2(x)\n",
        "        x = self.GAP(x)\n",
        "\n",
        "        # x = self.conv_block3(x)\n",
        "        x = self.conv_block4(x)\n",
        "\n",
        "\n",
        "        # return x\n",
        "        x = x.view(-1,10)\n",
        "        return F.log_softmax(x,dim = -1)"
      ]
    },
    {
      "cell_type": "code",
      "execution_count": 341,
      "metadata": {
        "id": "s4vqR3KnO44t"
      },
      "outputs": [],
      "source": [
        "# # Keeping this arch For referance\n",
        "# class Cifar10Net(nn.Module):\n",
        "#     def __init__(self,dropout_val = 0,norm_type = 'bn'):\n",
        "#         super(Cifar10Net,self).__init__()\n",
        "#         self.norm_type = norm_type\n",
        "#         self.drop = dropout_val\n",
        "\n",
        "#         self.block1 = nn.Sequential(\n",
        "#             ConvBlock(in_channels=3,out_channels=16,kernel_size = (3,3),stride = 1, padding = 1,norm_type = self.norm_type,dropout_val= self.drop),\n",
        "#             ConvBlock(in_channels=16,out_channels=32,kernel_size = (3,3),stride = 1, padding = 1,norm_type = self.norm_type,dropout_val= self.drop)\n",
        "#             )\n",
        "        \n",
        "#         self.pool1 = nn.MaxPool2d(kernel_size = (2,2))\n",
        "\n",
        "#         self.block2 = nn.Sequential(\n",
        "#            ConvBlock(in_channels=32,out_channels=16,kernel_size = (1,1),stride = 1, padding = 0,norm_type = self.norm_type,dropout_val= self.drop),\n",
        "#            ConvBlock(in_channels=16,out_channels=32,kernel_size = (3,3),stride = 1, padding = 1,norm_type = self.norm_type,dropout_val= self.drop),\n",
        "#            ConvBlock(in_channels=32,out_channels=64,kernel_size = (3,3),stride = 1, padding = 1,norm_type = self.norm_type,dropout_val= self.drop),\n",
        "#            )\n",
        "        \n",
        "#         self.pool2 = nn.MaxPool2d(kernel_size = (2,2))\n",
        "\n",
        "#         self.block3 = nn.Sequential(\n",
        "#            ConvBlock(in_channels=64,out_channels=16,kernel_size = (1,1),stride = 1, padding = 0,norm_type = self.norm_type,dropout_val= self.drop),\n",
        "#            ConvBlock(in_channels=16,out_channels=32,kernel_size = (3,3),stride = 1, padding = 1,norm_type = self.norm_type,dropout_val= self.drop),\n",
        "#            ConvBlock(in_channels=32,out_channels=64,kernel_size = (3,3),stride = 1, padding = 1,norm_type = self.norm_type,dropout_val= self.drop),\n",
        "#            )\n",
        "        \n",
        "#         self.pool3 = nn.MaxPool2d(kernel_size = (2,2))\n",
        "\n",
        "#         self.block4 = nn.Sequential(\n",
        "#            ConvBlock(in_channels=64,out_channels=16,kernel_size = (1,1),stride = 1, padding = 0,norm_type = self.norm_type,dropout_val= self.drop),\n",
        "#            ConvBlock(in_channels=16,out_channels=32,kernel_size = (3,3),stride = 1, padding = 1,norm_type = self.norm_type,dropout_val= self.drop),\n",
        "#            ConvBlock(in_channels=32,out_channels=64,kernel_size = (3,3),stride = 1, padding = 1,norm_type = self.norm_type,dropout_val= self.drop),\n",
        "#            )\n",
        "        \n",
        "#         # self.GAP = nn.AvgPool2d(kernel_size=(4,4))\n",
        "#         self.GAP = nn.AdaptiveAvgPool2d(output_size=(1,1))\n",
        "        \n",
        "#         self.block5 = nn.Sequential(\n",
        "#            ConvBlock(in_channels=64,out_channels=16,kernel_size = (3,3),stride = 1, padding = 1,norm_type = self.norm_type,dropout_val= self.drop),\n",
        "#            ConvBlock(in_channels=16,out_channels=10,kernel_size = (1,1),stride = 1, padding = 0,norm_type = self.norm_type,dropout_val= self.drop),\n",
        "#            )\n",
        "\n",
        "    \n",
        "#     def forward(self,x):\n",
        "#         x = self.block1(x)\n",
        "#         x = self.pool1(x)\n",
        "#         x = self.block2(x)\n",
        "#         x = self.pool2(x)\n",
        "#         x = self.block3(x)\n",
        "#         x = self.pool3(x)\n",
        "#         x = self.block4(x)\n",
        "#         x = self.GAP(x)\n",
        "#         x = self.block5(x)\n",
        "#         x = x.view(-1,10)\n",
        "#         return F.log_softmax(x)"
      ]
    },
    {
      "cell_type": "code",
      "execution_count": 342,
      "metadata": {
        "id": "BXaOiEc8yoVo",
        "colab": {
          "base_uri": "https://localhost:8080/"
        },
        "outputId": "4d5e648f-0ebd-40b6-f3ce-cebe2b630392"
      },
      "outputs": [
        {
          "output_type": "stream",
          "name": "stdout",
          "text": [
            "=======================================Reciptive Field Calculator========================================\n",
            "|    | Kernel_size   | Padding   |   Stride | Input_Img_size   | Output_Img_size   | Receptive_field   |\n",
            "|---:|:--------------|:----------|---------:|:-----------------|:------------------|:------------------|\n",
            "|  0 | 3*3           | NO        |        1 | 32*32            | 30*30             | 3*3               |\n",
            "|  1 | 3*3           | 1         |        1 | 30*30            | 30*30             | 5*5               |\n",
            "|  2 | 3*3           | 1         |        1 | 30*30            | 30*30             | 7*7               |\n",
            "|  3 | 3*3           | 1         |        2 | 30*30            | 15*15             | 9*9               |\n",
            "|  4 | 3*3           | 1         |        1 | 15*15            | 15*15             | 13*13             |\n",
            "|  5 | 1*1           | NO        |        1 | 15*15            | 15*15             | 13*13             |\n",
            "|  6 | 3*3           | 1         |        1 | 15*15            | 15*15             | 17*17             |\n",
            "|  7 | 3*3           | 1         |        1 | 15*15            | 15*15             | 21*21             |\n",
            "|  8 | 3*3           | NO        |        2 | 15*15            | 7*7               | 25*25             |\n",
            "|  9 | 3*3           | 1         |        1 | 7*7              | 7*7               | 33*33             |\n",
            "| 10 | 1*1           | NO        |        1 | 7*7              | 7*7               | 33*33             |\n",
            "| 11 | 3*3           | 1         |        1 | 7*7              | 7*7               | 41*41             |\n",
            "| 12 | 3*3           | NO        |        1 | 7*7              | 5*5               | 49*49             |\n",
            "| 13 | 1*1           | NO        |        1 | 5*5              | 5*5               | 49*49             |\n",
            "| 14 | 3*3           | NO        |        1 | 5*5              | 3*3               | 57*57             |\n",
            "| 15 | 1*1           | NO        |        1 | 3*3              | 3*3               | 57*57             |\n",
            "| 16 | 1*1           | NO        |        1 | 3*3              | 3*3               | 57*57             |\n",
            "=========================================================================================================\n",
            "----------------------------------------------------------------\n",
            "        Layer (type)               Output Shape         Param #\n",
            "================================================================\n",
            "            Conv2d-1            [-1, 8, 30, 30]             216\n",
            "       BatchNorm2d-2            [-1, 8, 30, 30]              16\n",
            "              ReLU-3            [-1, 8, 30, 30]               0\n",
            "         Dropout2d-4            [-1, 8, 30, 30]               0\n",
            "         ConvBlock-5            [-1, 8, 30, 30]               0\n",
            "            Conv2d-6            [-1, 8, 30, 30]             576\n",
            "       BatchNorm2d-7            [-1, 8, 30, 30]              16\n",
            "              ReLU-8            [-1, 8, 30, 30]               0\n",
            "         Dropout2d-9            [-1, 8, 30, 30]               0\n",
            "        ConvBlock-10            [-1, 8, 30, 30]               0\n",
            "           Conv2d-11           [-1, 16, 30, 30]           1,152\n",
            "      BatchNorm2d-12           [-1, 16, 30, 30]              32\n",
            "             ReLU-13           [-1, 16, 30, 30]               0\n",
            "        Dropout2d-14           [-1, 16, 30, 30]               0\n",
            "        ConvBlock-15           [-1, 16, 30, 30]               0\n",
            "           Conv2d-16           [-1, 16, 15, 15]           2,304\n",
            "      BatchNorm2d-17           [-1, 16, 15, 15]              32\n",
            "             ReLU-18           [-1, 16, 15, 15]               0\n",
            "        Dropout2d-19           [-1, 16, 15, 15]               0\n",
            "        ConvBlock-20           [-1, 16, 15, 15]               0\n",
            "           Conv2d-21           [-1, 16, 15, 15]             144\n",
            "           Conv2d-22           [-1, 16, 15, 15]             256\n",
            "             ReLU-23           [-1, 16, 15, 15]               0\n",
            "        Dropout2d-24           [-1, 16, 15, 15]               0\n",
            "Depthwise_sep_conv-25           [-1, 16, 15, 15]               0\n",
            "           Conv2d-26           [-1, 32, 15, 15]           4,608\n",
            "      BatchNorm2d-27           [-1, 32, 15, 15]              64\n",
            "             ReLU-28           [-1, 32, 15, 15]               0\n",
            "        Dropout2d-29           [-1, 32, 15, 15]               0\n",
            "        ConvBlock-30           [-1, 32, 15, 15]               0\n",
            "           Conv2d-31           [-1, 32, 15, 15]           9,216\n",
            "      BatchNorm2d-32           [-1, 32, 15, 15]              64\n",
            "             ReLU-33           [-1, 32, 15, 15]               0\n",
            "        Dropout2d-34           [-1, 32, 15, 15]               0\n",
            "        ConvBlock-35           [-1, 32, 15, 15]               0\n",
            "           Conv2d-36             [-1, 32, 7, 7]           9,216\n",
            "      BatchNorm2d-37             [-1, 32, 7, 7]              64\n",
            "             ReLU-38             [-1, 32, 7, 7]               0\n",
            "        Dropout2d-39             [-1, 32, 7, 7]               0\n",
            "        ConvBlock-40             [-1, 32, 7, 7]               0\n",
            "           Conv2d-41             [-1, 32, 7, 7]             288\n",
            "           Conv2d-42             [-1, 32, 7, 7]           1,024\n",
            "             ReLU-43             [-1, 32, 7, 7]               0\n",
            "        Dropout2d-44             [-1, 32, 7, 7]               0\n",
            "Depthwise_sep_conv-45             [-1, 32, 7, 7]               0\n",
            "           Conv2d-46             [-1, 64, 7, 7]          18,432\n",
            "      BatchNorm2d-47             [-1, 64, 7, 7]             128\n",
            "             ReLU-48             [-1, 64, 7, 7]               0\n",
            "        Dropout2d-49             [-1, 64, 7, 7]               0\n",
            "        ConvBlock-50             [-1, 64, 7, 7]               0\n",
            "           Conv2d-51             [-1, 64, 5, 5]          36,864\n",
            "      BatchNorm2d-52             [-1, 64, 5, 5]             128\n",
            "             ReLU-53             [-1, 64, 5, 5]               0\n",
            "        Dropout2d-54             [-1, 64, 5, 5]               0\n",
            "        ConvBlock-55             [-1, 64, 5, 5]               0\n",
            "           Conv2d-56             [-1, 16, 5, 5]           1,024\n",
            "           Conv2d-57             [-1, 32, 3, 3]           4,608\n",
            "AdaptiveAvgPool2d-58             [-1, 32, 1, 1]               0\n",
            "           Conv2d-59             [-1, 10, 1, 1]             320\n",
            "================================================================\n",
            "Total params: 90,792\n",
            "Trainable params: 90,792\n",
            "Non-trainable params: 0\n",
            "----------------------------------------------------------------\n",
            "Input size (MB): 0.01\n",
            "Forward/backward pass size (MB): 2.23\n",
            "Params size (MB): 0.35\n",
            "Estimated Total Size (MB): 2.59\n",
            "----------------------------------------------------------------\n"
          ]
        }
      ],
      "source": [
        "device = 'cuda' if torch.cuda.is_available() else \"cpu\"\n",
        "model = Cifar10Net1(norm_type='bn',dropout_val=0.01).to(device)\n",
        "rf_df = receptive_field(model,32)\n",
        "summary(model,input_size=(3,32,32))"
      ]
    },
    {
      "cell_type": "markdown",
      "metadata": {
        "id": "xzED6q5Qxprf"
      },
      "source": [
        "Model Checks"
      ]
    },
    {
      "cell_type": "code",
      "execution_count": 343,
      "metadata": {
        "id": "mPXuwVAqyoJs"
      },
      "outputs": [],
      "source": [
        "# device = 'cuda' if torch.cuda.is_available() else \"cpu\"\n",
        "# model = Cifar10Net(norm_type='bn',dropout_val=0.01).to(device)\n",
        "# rf_df = receptive_field(model,32)\n",
        "# summary(model,input_size=(3,32,32))"
      ]
    },
    {
      "cell_type": "markdown",
      "metadata": {
        "id": "lYI2ntLCmOem"
      },
      "source": [
        "Loss Function and Optimizers"
      ]
    },
    {
      "cell_type": "code",
      "execution_count": 344,
      "metadata": {
        "id": "a05n4HFDm7XN"
      },
      "outputs": [],
      "source": [
        "def get_optimizer(model_obj,loss_type=None,scheduler = False):\n",
        "    loss_type= str(loss_type).upper()\n",
        "    parameters = model_obj.parameters()\n",
        "    if loss_type  == 'L2' :\n",
        "        optimizer = SGD( params = parameters,lr = 0.01,momentum = 0.9,weight_decay= 0.001)\n",
        "    else:\n",
        "        optimizer = SGD( params = parameters,lr = 0.01,momentum = 0.9)\n",
        "    if scheduler == True:\n",
        "        scheduler = StepLR(optimizer,step_size = 20,gamma = 0.1)\n",
        "        return optimizer,scheduler\n",
        "    else:\n",
        "        return optimizer,_\n",
        "\n",
        "\n",
        "#L1 Loss\n",
        "\n",
        "def L1_loss(model_obj,loss):\n",
        "        \n",
        "    l1 = 0\n",
        "    lambda_l1 = 0.0001\n",
        "    for p in model_obj.parameters():\n",
        "        l1 = l1+p.abs().sum()\n",
        "        loss = loss+ lambda_l1* l1\n",
        "    return loss\n"
      ]
    },
    {
      "cell_type": "markdown",
      "metadata": {
        "id": "PDCps6tdlaSD"
      },
      "source": [
        "Model Performance Visualizer"
      ]
    },
    {
      "cell_type": "code",
      "execution_count": 345,
      "metadata": {
        "id": "wdeuLltCm63m"
      },
      "outputs": [],
      "source": [
        "\n",
        "def plot_acc_loss(typ ,train_acc,train_losses,test_acc,test_losses):\n",
        "    fig, axs = plt.subplots(1,2,figsize = (20,5))\n",
        "    # print ('Accuracy model on  ', typ)\n",
        "    plt.autoscale()\n",
        "    axs[0].plot(train_acc,color = 'red')\n",
        "    axs[0].plot(test_acc,color = 'green')\n",
        "    title = 'Training/testing accuracy'\n",
        "    axs[0].set_title(title)\n",
        "    axs[0].set_ylabel('Accuracy')\n",
        "    axs[0].set_xlabel('Epoch')\n",
        "    axs[0].legend(['train acc','test acc'], loc='best')\n",
        "       \n",
        "    axs[1].plot(train_losses,color = 'red')\n",
        "    axs[1].plot(test_losses,color = 'green')\n",
        "    title = 'Training/Testing Loss'\n",
        "    axs[1].set_title(title)\n",
        "    axs[1].set_ylabel('Loss')\n",
        "    axs[1].set_xlabel('Epoch')\n",
        "    axs[1].legend(['train loss','test loss'], loc='best')\n",
        "    plt.title(typ + ' model Accuracy Vs Loss')\n",
        "\n",
        "    plt.show()\n",
        "    fig.tight_layout(pad = 1.0)"
      ]
    },
    {
      "cell_type": "code",
      "execution_count": 345,
      "metadata": {
        "id": "yazoXKp1leJ8"
      },
      "outputs": [],
      "source": [
        ""
      ]
    },
    {
      "cell_type": "markdown",
      "metadata": {
        "id": "PqRHgxBrldsU"
      },
      "source": [
        "Training / Testing Lopp Blocks"
      ]
    },
    {
      "cell_type": "code",
      "execution_count": 346,
      "metadata": {
        "id": "eX8TODgnnE3m"
      },
      "outputs": [],
      "source": [
        "train_losses = []\n",
        "train_accuracy = []\n",
        "test_losses =[]\n",
        "test_accuracy = []\n",
        "\n",
        "def trainning(model,device,train_data,optimizer,epochs,L1 = False,L2= False):\n",
        "    total_loss = 0\n",
        "    correct = 0\n",
        "    processed = 0\n",
        "\n",
        "    model.train()\n",
        "    pbar = tqdm(train_loader,colour = '\\x1b[34m')\n",
        "    \n",
        "    for index_id,(data,target) in enumerate(pbar):\n",
        "        data,target = data.to(device),target.to(device)\n",
        "        optimizer.zero_grad()\n",
        "        output = model(data)\n",
        "        loss = F.nll_loss(output,target)\n",
        "        if L1 == True:\n",
        "            loss = L1_loss(model,loss)\n",
        "\n",
        "        total_loss += loss\n",
        "        loss.backward()\n",
        "        optimizer.step()\n",
        "        correct += output.argmax(dim = 1).eq(target).sum().item()\n",
        "        processed += len(data)\n",
        "        pbar.set_description(f\"Train ==> Epochs: {epochs} Batch:  {index_id} loss: {loss} Accuracy: { correct/processed *100 :.2f}% \")\n",
        "\n",
        "    acc = correct /processed\n",
        "    total_loss = total_loss.item()/processed\n",
        "    train_losses.append(total_loss)\n",
        "    train_accuracy.append(acc)\n",
        "\n",
        "    return train_losses, train_accuracy\n",
        "\n",
        "\n",
        "def testing(model,device,test_data,optimizer,epochs):\n",
        "    model.eval()\n",
        "    \n",
        "    test_loss = 0\n",
        "    correct = 0\n",
        "    processed = 0\n",
        "    pbar= tqdm(test_loader)\n",
        "    with torch.no_grad():\n",
        "        for id_x,(data,target) in enumerate(pbar):\n",
        "            data,target = data.to(device),target.to(device)\n",
        "\n",
        "            output = model(data)\n",
        "            test_loss += F.nll_loss(output,target,reduce='sum').item()\n",
        "            pred  = output.argmax(dim =1,keepdim = True)\n",
        "\n",
        "            correct += pred.eq(target.view_as(pred)).sum().item()\n",
        "            processed += len(data)\n",
        "            \n",
        "            pbar.set_description(f\"Test ==> Epochs: {epochs} Batch:  {id_x} loss: {test_loss/processed} Accuracy: { correct / processed *100 :.2f}% \")\n",
        "        \n",
        "    acc = correct / processed\n",
        "    test_loss /= processed\n",
        "    test_accuracy.append(acc)\n",
        "    test_losses.append(test_loss)\n",
        "   \n",
        "    \n",
        "    # print('\\nTest set: Average loss: {:.4f}, Accuracy: {}/{} ({:.6f}%)\\n'.format(\n",
        "    #     test_loss, correct, processed, 100. * correct / processed))\n",
        "    \n",
        "    return test_losses,test_accuracy"
      ]
    },
    {
      "cell_type": "markdown",
      "metadata": {
        "id": "I2VpCIJnlngb"
      },
      "source": [
        "After Train data Visualization Block"
      ]
    },
    {
      "cell_type": "code",
      "execution_count": 347,
      "metadata": {
        "id": "APE7jzoKh9N7"
      },
      "outputs": [],
      "source": [
        "def convert_image_np(inp,mean,std):\n",
        "    \"\"\"Convert a Tensor to numpy image.\"\"\"\n",
        "    inp = inp.numpy().transpose((1, 2, 0))\n",
        "    mean = np.array(mean)\n",
        "    std = np.array(std)\n",
        "    inp = std * inp + mean\n",
        "    inp = np.clip(inp, 0, 1)\n",
        "    return inp\n",
        "    \n",
        "def print_wrong_image(model,data_loader,mean,std,l,b):\n",
        "\n",
        "    if l*b >= 30:\n",
        "        n_images = 50\n",
        "    \n",
        "    labels = {0: 'airplane', 1: 'automobile', 2: 'bird', 3: 'cat', 4: 'deer', 5: 'dog', 6: 'frog', 7: 'horse', 8: 'ship', 9: 'truck'}\n",
        "    wrong_images = []\n",
        "    wrong_labels = []\n",
        "    right_labels = []\n",
        "    val = []\n",
        "    device = \"cuda\" if torch.cuda.is_available() else \"cpu\"\n",
        "\n",
        "    for data,label in data_loader:\n",
        "        data,label = data.to(device),label.to(device)\n",
        "        # _=plt.imshow(np.transpose(data[16].to(\"cpu\"),(1,2,0)))\n",
        "        # _=plt.xlabel(f\"Act:{labels[label[16].item()]} \\n  \")\n",
        "        with torch.no_grad():\n",
        "            out = model(data)\n",
        "            wrong_idx = (out.to(device).argmax(dim = 1).eq(label.to(device)) ==False)\n",
        "            val.extend(out[wrong_idx].to(\"cpu\").max(axis = 1)[0])\n",
        "            wrong_images.extend(data[wrong_idx].to(\"cpu\"))\n",
        "            wrong_labels.extend(out[wrong_idx].argmax(dim = 1).to(\"cpu\"))\n",
        "            right_labels.extend(label[wrong_idx].to(\"cpu\"))\n",
        "\n",
        "    wrong_idx = [i for i in range(0,len(wrong_images))]\n",
        "    idx = [i for i in range(0,len(wrong_labels))]\n",
        "    np.random.shuffle(wrong_idx)\n",
        "    fig = plt.figure(figsize=(2.5*b,5*l))\n",
        "    count = 1\n",
        "    for image_index in wrong_idx:\n",
        "        n= image_index\n",
        "        ax = fig.add_subplot(l,b,count)\n",
        "        # plt.imshow(np.array(np.transpose(data[10].to(\"cpu\"),(1,2,0))))\n",
        "        img_x = convert_image_np(wrong_images[image_index],mean,std)\n",
        "        _=plt.imshow(img_x)\n",
        "        # _=plt.title(f\"wrong Images\")\n",
        "        _=plt.xlabel(f\"Act:{labels[right_labels[image_index].item()]} \\n Pred: {labels[wrong_labels[image_index].item()]} \\n Val: {val[image_index].item()}\")\n",
        "        \n",
        "        fig.tight_layout(pad = 0.5)\n",
        "        count+= 1\n",
        "        if count== (l*b)+1:\n",
        "            break\n",
        "    _ = plt.autoscale()\n",
        "    _= plt.show()"
      ]
    },
    {
      "cell_type": "markdown",
      "metadata": {
        "id": "tdl4TYhNlrLz"
      },
      "source": [
        "Model and Dependency Calling block "
      ]
    },
    {
      "cell_type": "code",
      "execution_count": 348,
      "metadata": {
        "id": "6EjpSYB3nJr1"
      },
      "outputs": [],
      "source": [
        "def Run_Model(model_class,train_loader,test_loader,epochs , L1 = False):\n",
        "    \n",
        "    device = \"cuda\" if torch.cuda.is_available() else \"cpu\"\n",
        "    print (f'running on {device} \\n')\n",
        "    #take input as normal_type ['gbn','bn','gn','ln']\n",
        "    model = model_class.to(device)\n",
        "    try:\n",
        "        print(summary(model,input_size = (3,32,32)))\n",
        "    except:\n",
        "        pass\n",
        "\n",
        "    optimizer,scheduler = get_optimizer(model,scheduler = True )\n",
        "    # optimizer = SGD( params = model.parameters(),lr = 0.01,momentum = 0.9)\n",
        "    for EPOCHS in range(0,epochs):\n",
        "        if L1 == True:\n",
        "            train_losses, train_accuracy = trainning(model,device,train_loader,optimizer,EPOCHS,L1 = L1)\n",
        "        else:\n",
        "            train_losses, train_accuracy = trainning(model,device,train_loader,optimizer,EPOCHS)\n",
        "        test_losses,test_accuracy = testing(model,device,test_loader,optimizer,EPOCHS)\n",
        "        scheduler.step()\n",
        "        try:\n",
        "            if (EPOCHS >=3)&(max(test_accuracy[:-1]) < test_accuracy[-1]) & (max(test_accuracy) >= .85):\n",
        "                checkpoint = {'epoch': EPOCHS + 1,'valid_loss_min': test_losses[-1],'state_dict': model.state_dict(),'optimizer': optimizer.state_dict(),} # Export to TorchScript\n",
        "                torch.save(checkpoint ,'./Model_cifar10.pt') # Save\n",
        "                print (f\" Target Achieved: {max(test_accuracy)*100}% Test Accuracy !!\")\n",
        "        except:\n",
        "            print('Model Saving Failed !!')\n",
        "\n",
        "        print (\"LR :{}\\n\".format(scheduler.get_lr()[0]))\n",
        "    return model,train_losses, train_accuracy,test_losses,test_accuracy"
      ]
    },
    {
      "cell_type": "markdown",
      "metadata": {
        "id": "64soTjc6lxPc"
      },
      "source": [
        "Master Pipeline Calling Block\n"
      ]
    },
    {
      "cell_type": "code",
      "execution_count": null,
      "metadata": {
        "colab": {
          "base_uri": "https://localhost:8080/"
        },
        "id": "6ZZpcFj6XZ6l",
        "outputId": "7196e3e9-45b4-4ade-91c5-299042a69586"
      },
      "outputs": [
        {
          "output_type": "stream",
          "name": "stdout",
          "text": [
            "Files already downloaded and verified\n",
            "Files already downloaded and verified\n",
            "running on cuda \n",
            "\n"
          ]
        },
        {
          "output_type": "stream",
          "name": "stderr",
          "text": [
            "Train ==> Epochs: 0 Batch:  781 loss: 1.7283469438552856 Accuracy: 30.93% : 100%|██████████| 782/782 [00:13<00:00, 56.67it/s]\n",
            "Test ==> Epochs: 0 Batch:  781 loss: 0.02420931153059006 Accuracy: 43.06% : 100%|██████████| 782/782 [00:08<00:00, 90.09it/s] \n"
          ]
        },
        {
          "output_type": "stream",
          "name": "stdout",
          "text": [
            "Model Saving Failed !!\n",
            "LR :0.01\n",
            "\n"
          ]
        },
        {
          "output_type": "stream",
          "name": "stderr",
          "text": [
            "Train ==> Epochs: 1 Batch:  781 loss: 1.7980263233184814 Accuracy: 40.48% : 100%|██████████| 782/782 [00:13<00:00, 58.43it/s]\n",
            "Test ==> Epochs: 1 Batch:  781 loss: 0.020797077357769013 Accuracy: 51.38% : 100%|██████████| 782/782 [00:08<00:00, 88.20it/s] \n"
          ]
        },
        {
          "output_type": "stream",
          "name": "stdout",
          "text": [
            "LR :0.01\n",
            "\n"
          ]
        },
        {
          "output_type": "stream",
          "name": "stderr",
          "text": [
            "Train ==> Epochs: 2 Batch:  781 loss: 1.8275009393692017 Accuracy: 44.92% : 100%|██████████| 782/782 [00:13<00:00, 58.74it/s]\n",
            "Test ==> Epochs: 2 Batch:  781 loss: 0.01873944164633751 Accuracy: 56.24% : 100%|██████████| 782/782 [00:08<00:00, 89.82it/s]\n"
          ]
        },
        {
          "output_type": "stream",
          "name": "stdout",
          "text": [
            "LR :0.01\n",
            "\n"
          ]
        },
        {
          "output_type": "stream",
          "name": "stderr",
          "text": [
            "Train ==> Epochs: 3 Batch:  781 loss: 1.2971018552780151 Accuracy: 48.35% : 100%|██████████| 782/782 [00:13<00:00, 58.01it/s]\n",
            "Test ==> Epochs: 3 Batch:  781 loss: 0.01679240465402603 Accuracy: 61.32% : 100%|██████████| 782/782 [00:08<00:00, 88.99it/s] \n"
          ]
        },
        {
          "output_type": "stream",
          "name": "stdout",
          "text": [
            "LR :0.01\n",
            "\n"
          ]
        },
        {
          "output_type": "stream",
          "name": "stderr",
          "text": [
            "Train ==> Epochs: 4 Batch:  781 loss: 1.4241138696670532 Accuracy: 51.09% : 100%|██████████| 782/782 [00:13<00:00, 58.04it/s]\n",
            "Test ==> Epochs: 4 Batch:  781 loss: 0.016184081506729127 Accuracy: 63.40% : 100%|██████████| 782/782 [00:08<00:00, 89.05it/s] \n"
          ]
        },
        {
          "output_type": "stream",
          "name": "stdout",
          "text": [
            "LR :0.01\n",
            "\n"
          ]
        },
        {
          "output_type": "stream",
          "name": "stderr",
          "text": [
            "Train ==> Epochs: 5 Batch:  781 loss: 1.569703459739685 Accuracy: 52.81% : 100%|██████████| 782/782 [00:13<00:00, 56.85it/s]\n",
            "Test ==> Epochs: 5 Batch:  781 loss: 0.01632590821504593 Accuracy: 62.41% : 100%|██████████| 782/782 [00:09<00:00, 86.53it/s]\n"
          ]
        },
        {
          "output_type": "stream",
          "name": "stdout",
          "text": [
            "LR :0.01\n",
            "\n"
          ]
        },
        {
          "output_type": "stream",
          "name": "stderr",
          "text": [
            "Train ==> Epochs: 6 Batch:  781 loss: 1.104196310043335 Accuracy: 54.72% : 100%|██████████| 782/782 [00:13<00:00, 57.60it/s]\n",
            "Test ==> Epochs: 6 Batch:  781 loss: 0.01485771277308464 Accuracy: 66.31% : 100%|██████████| 782/782 [00:08<00:00, 89.93it/s] \n"
          ]
        },
        {
          "output_type": "stream",
          "name": "stdout",
          "text": [
            "LR :0.01\n",
            "\n"
          ]
        },
        {
          "output_type": "stream",
          "name": "stderr",
          "text": [
            "Train ==> Epochs: 7 Batch:  781 loss: 1.3153499364852905 Accuracy: 55.76% : 100%|██████████| 782/782 [00:13<00:00, 58.09it/s]\n",
            "Test ==> Epochs: 7 Batch:  781 loss: 0.014338894253969192 Accuracy: 67.27% : 100%|██████████| 782/782 [00:08<00:00, 87.80it/s] \n"
          ]
        },
        {
          "output_type": "stream",
          "name": "stdout",
          "text": [
            "LR :0.01\n",
            "\n"
          ]
        },
        {
          "output_type": "stream",
          "name": "stderr",
          "text": [
            "Train ==> Epochs: 8 Batch:  781 loss: 1.2528579235076904 Accuracy: 56.54% : 100%|██████████| 782/782 [00:13<00:00, 58.74it/s]\n",
            "Test ==> Epochs: 8 Batch:  781 loss: 0.013688765118718147 Accuracy: 69.01% : 100%|██████████| 782/782 [00:08<00:00, 89.99it/s] \n"
          ]
        },
        {
          "output_type": "stream",
          "name": "stdout",
          "text": [
            "LR :0.01\n",
            "\n"
          ]
        },
        {
          "output_type": "stream",
          "name": "stderr",
          "text": [
            "Train ==> Epochs: 9 Batch:  781 loss: 1.241355538368225 Accuracy: 57.66% : 100%|██████████| 782/782 [00:13<00:00, 57.81it/s]\n",
            "Test ==> Epochs: 9 Batch:  781 loss: 0.012720382940769196 Accuracy: 71.57% : 100%|██████████| 782/782 [00:08<00:00, 87.91it/s] \n"
          ]
        },
        {
          "output_type": "stream",
          "name": "stdout",
          "text": [
            "LR :0.01\n",
            "\n"
          ]
        },
        {
          "output_type": "stream",
          "name": "stderr",
          "text": [
            "Train ==> Epochs: 10 Batch:  781 loss: 0.989835262298584 Accuracy: 58.46% : 100%|██████████| 782/782 [00:13<00:00, 58.69it/s]\n",
            "Test ==> Epochs: 10 Batch:  781 loss: 0.012839929957389832 Accuracy: 71.30% : 100%|██████████| 782/782 [00:18<00:00, 41.49it/s] \n"
          ]
        },
        {
          "output_type": "stream",
          "name": "stdout",
          "text": [
            "LR :0.01\n",
            "\n"
          ]
        },
        {
          "output_type": "stream",
          "name": "stderr",
          "text": [
            "Train ==> Epochs: 11 Batch:  781 loss: 1.1580495834350586 Accuracy: 59.28% : 100%|██████████| 782/782 [00:13<00:00, 57.77it/s]\n",
            "Test ==> Epochs: 11 Batch:  781 loss: 0.012196774565577507 Accuracy: 72.59% : 100%|██████████| 782/782 [00:08<00:00, 88.97it/s] \n"
          ]
        },
        {
          "output_type": "stream",
          "name": "stdout",
          "text": [
            "LR :0.01\n",
            "\n"
          ]
        },
        {
          "output_type": "stream",
          "name": "stderr",
          "text": [
            "Train ==> Epochs: 12 Batch:  781 loss: 1.472469687461853 Accuracy: 60.19% : 100%|██████████| 782/782 [00:13<00:00, 57.70it/s]\n",
            "Test ==> Epochs: 12 Batch:  781 loss: 0.011904973867535591 Accuracy: 73.23% : 100%|██████████| 782/782 [00:08<00:00, 88.45it/s] \n"
          ]
        },
        {
          "output_type": "stream",
          "name": "stdout",
          "text": [
            "LR :0.01\n",
            "\n"
          ]
        },
        {
          "output_type": "stream",
          "name": "stderr",
          "text": [
            "Train ==> Epochs: 13 Batch:  781 loss: 1.6752488613128662 Accuracy: 60.73% : 100%|██████████| 782/782 [00:13<00:00, 56.58it/s]\n",
            "Test ==> Epochs: 13 Batch:  781 loss: 0.011857511618733406 Accuracy: 73.32% : 100%|██████████| 782/782 [00:08<00:00, 87.86it/s] \n"
          ]
        },
        {
          "output_type": "stream",
          "name": "stdout",
          "text": [
            "LR :0.01\n",
            "\n"
          ]
        },
        {
          "output_type": "stream",
          "name": "stderr",
          "text": [
            "Train ==> Epochs: 14 Batch:  781 loss: 1.3592376708984375 Accuracy: 61.15% : 100%|██████████| 782/782 [00:13<00:00, 57.30it/s]\n",
            "Test ==> Epochs: 14 Batch:  781 loss: 0.012718363332748414 Accuracy: 71.46% : 100%|██████████| 782/782 [00:09<00:00, 86.70it/s]\n"
          ]
        },
        {
          "output_type": "stream",
          "name": "stdout",
          "text": [
            "LR :0.01\n",
            "\n"
          ]
        },
        {
          "output_type": "stream",
          "name": "stderr",
          "text": [
            "Train ==> Epochs: 15 Batch:  781 loss: 1.8620245456695557 Accuracy: 61.45% : 100%|██████████| 782/782 [00:13<00:00, 56.56it/s]\n",
            "Test ==> Epochs: 15 Batch:  781 loss: 0.01143691979110241 Accuracy: 74.29% : 100%|██████████| 782/782 [00:09<00:00, 86.38it/s] \n"
          ]
        },
        {
          "output_type": "stream",
          "name": "stdout",
          "text": [
            "LR :0.01\n",
            "\n"
          ]
        },
        {
          "output_type": "stream",
          "name": "stderr",
          "text": [
            "Train ==> Epochs: 16 Batch:  781 loss: 1.2163035869598389 Accuracy: 61.63% : 100%|██████████| 782/782 [00:13<00:00, 57.74it/s]\n",
            "Test ==> Epochs: 16 Batch:  781 loss: 0.01091957382619381 Accuracy: 75.63% : 100%|██████████| 782/782 [00:08<00:00, 87.05it/s] \n"
          ]
        },
        {
          "output_type": "stream",
          "name": "stdout",
          "text": [
            "LR :0.01\n",
            "\n"
          ]
        },
        {
          "output_type": "stream",
          "name": "stderr",
          "text": [
            "Train ==> Epochs: 17 Batch:  781 loss: 1.234692931175232 Accuracy: 62.54% : 100%|██████████| 782/782 [00:13<00:00, 57.79it/s]\n",
            "Test ==> Epochs: 17 Batch:  781 loss: 0.01051605419576168 Accuracy: 76.66% : 100%|██████████| 782/782 [00:09<00:00, 86.80it/s] \n"
          ]
        },
        {
          "output_type": "stream",
          "name": "stdout",
          "text": [
            "LR :0.01\n",
            "\n"
          ]
        },
        {
          "output_type": "stream",
          "name": "stderr",
          "text": [
            "Train ==> Epochs: 18 Batch:  781 loss: 1.0378679037094116 Accuracy: 62.79% : 100%|██████████| 782/782 [00:13<00:00, 56.86it/s]\n",
            "Test ==> Epochs: 18 Batch:  781 loss: 0.01068560194671154 Accuracy: 76.23% : 100%|██████████| 782/782 [00:08<00:00, 87.94it/s] \n"
          ]
        },
        {
          "output_type": "stream",
          "name": "stdout",
          "text": [
            "LR :0.01\n",
            "\n"
          ]
        },
        {
          "output_type": "stream",
          "name": "stderr",
          "text": [
            "Train ==> Epochs: 19 Batch:  781 loss: 0.7265596389770508 Accuracy: 63.43% : 100%|██████████| 782/782 [00:13<00:00, 58.55it/s]\n",
            "Test ==> Epochs: 19 Batch:  781 loss: 0.010512259046435357 Accuracy: 76.50% : 100%|██████████| 782/782 [00:08<00:00, 88.23it/s] \n"
          ]
        },
        {
          "output_type": "stream",
          "name": "stdout",
          "text": [
            "LR :0.0001\n",
            "\n"
          ]
        },
        {
          "output_type": "stream",
          "name": "stderr",
          "text": [
            "Train ==> Epochs: 20 Batch:  781 loss: 1.1046196222305298 Accuracy: 65.03% : 100%|██████████| 782/782 [00:13<00:00, 56.95it/s]\n",
            "Test ==> Epochs: 20 Batch:  781 loss: 0.009277955243587493 Accuracy: 79.37% : 100%|██████████| 782/782 [00:08<00:00, 87.08it/s] \n"
          ]
        },
        {
          "output_type": "stream",
          "name": "stdout",
          "text": [
            "LR :0.001\n",
            "\n"
          ]
        },
        {
          "output_type": "stream",
          "name": "stderr",
          "text": [
            "Train ==> Epochs: 21 Batch:  781 loss: 0.7636334896087646 Accuracy: 66.18% : 100%|██████████| 782/782 [00:13<00:00, 57.04it/s]\n",
            "Test ==> Epochs: 21 Batch:  781 loss: 0.009312979742884636 Accuracy: 79.15% : 100%|██████████| 782/782 [00:09<00:00, 86.58it/s]\n"
          ]
        },
        {
          "output_type": "stream",
          "name": "stdout",
          "text": [
            "LR :0.001\n",
            "\n"
          ]
        },
        {
          "output_type": "stream",
          "name": "stderr",
          "text": [
            "Train ==> Epochs: 22 Batch:  781 loss: 1.3139135837554932 Accuracy: 66.58% : 100%|██████████| 782/782 [00:13<00:00, 58.15it/s]\n",
            "Test ==> Epochs: 22 Batch:  781 loss: 0.009231759923696518 Accuracy: 79.40% : 100%|██████████| 782/782 [00:08<00:00, 87.64it/s] \n"
          ]
        },
        {
          "output_type": "stream",
          "name": "stdout",
          "text": [
            "LR :0.001\n",
            "\n"
          ]
        },
        {
          "output_type": "stream",
          "name": "stderr",
          "text": [
            "Train ==> Epochs: 23 Batch:  781 loss: 1.0561009645462036 Accuracy: 66.41% : 100%|██████████| 782/782 [00:13<00:00, 57.22it/s]\n",
            "Test ==> Epochs: 23 Batch:  781 loss: 0.009137894098758698 Accuracy: 79.81% : 100%|██████████| 782/782 [00:08<00:00, 86.92it/s] \n"
          ]
        },
        {
          "output_type": "stream",
          "name": "stdout",
          "text": [
            "LR :0.001\n",
            "\n"
          ]
        },
        {
          "output_type": "stream",
          "name": "stderr",
          "text": [
            "Train ==> Epochs: 24 Batch:  781 loss: 1.1317797899246216 Accuracy: 66.80% : 100%|██████████| 782/782 [00:13<00:00, 58.04it/s]\n",
            "Test ==> Epochs: 24 Batch:  781 loss: 0.00906871912419796 Accuracy: 79.79% : 100%|██████████| 782/782 [00:09<00:00, 84.58it/s]\n"
          ]
        },
        {
          "output_type": "stream",
          "name": "stdout",
          "text": [
            "LR :0.001\n",
            "\n"
          ]
        },
        {
          "output_type": "stream",
          "name": "stderr",
          "text": [
            "Train ==> Epochs: 25 Batch:  781 loss: 1.1004078388214111 Accuracy: 66.57% : 100%|██████████| 782/782 [00:13<00:00, 57.33it/s]\n",
            "Test ==> Epochs: 25 Batch:  781 loss: 0.00902717722594738 Accuracy: 79.95% : 100%|██████████| 782/782 [00:09<00:00, 86.49it/s] \n"
          ]
        },
        {
          "output_type": "stream",
          "name": "stdout",
          "text": [
            "LR :0.001\n",
            "\n"
          ]
        },
        {
          "output_type": "stream",
          "name": "stderr",
          "text": [
            "Train ==> Epochs: 26 Batch:  781 loss: 1.496669054031372 Accuracy: 66.75% : 100%|██████████| 782/782 [00:13<00:00, 57.19it/s]\n",
            "Test ==> Epochs: 26 Batch:  781 loss: 0.008744885993599892 Accuracy: 80.70% : 100%|██████████| 782/782 [00:09<00:00, 84.10it/s] \n"
          ]
        },
        {
          "output_type": "stream",
          "name": "stdout",
          "text": [
            "LR :0.001\n",
            "\n"
          ]
        },
        {
          "output_type": "stream",
          "name": "stderr",
          "text": [
            "Train ==> Epochs: 27 Batch:  781 loss: 1.1851606369018555 Accuracy: 67.00% : 100%|██████████| 782/782 [00:13<00:00, 56.93it/s]\n",
            "Test ==> Epochs: 27 Batch:  781 loss: 0.008748359460830689 Accuracy: 80.73% : 100%|██████████| 782/782 [00:23<00:00, 33.38it/s]\n"
          ]
        },
        {
          "output_type": "stream",
          "name": "stdout",
          "text": [
            "LR :0.001\n",
            "\n"
          ]
        },
        {
          "output_type": "stream",
          "name": "stderr",
          "text": [
            "Train ==> Epochs: 28 Batch:  781 loss: 1.4363919496536255 Accuracy: 67.05% : 100%|██████████| 782/782 [00:13<00:00, 56.03it/s]\n",
            "Test ==> Epochs: 28 Batch:  781 loss: 0.008767494606375695 Accuracy: 80.55% : 100%|██████████| 782/782 [00:09<00:00, 86.33it/s] \n"
          ]
        },
        {
          "output_type": "stream",
          "name": "stdout",
          "text": [
            "LR :0.001\n",
            "\n"
          ]
        },
        {
          "output_type": "stream",
          "name": "stderr",
          "text": [
            "Train ==> Epochs: 29 Batch:  781 loss: 1.2889829874038696 Accuracy: 66.95% : 100%|██████████| 782/782 [00:13<00:00, 56.70it/s]\n",
            "Test ==> Epochs: 29 Batch:  781 loss: 0.008724912070035935 Accuracy: 80.71% : 100%|██████████| 782/782 [00:09<00:00, 85.68it/s] \n"
          ]
        },
        {
          "output_type": "stream",
          "name": "stdout",
          "text": [
            "LR :0.001\n",
            "\n"
          ]
        },
        {
          "output_type": "stream",
          "name": "stderr",
          "text": [
            "Train ==> Epochs: 30 Batch:  781 loss: 1.5889891386032104 Accuracy: 67.25% : 100%|██████████| 782/782 [00:14<00:00, 53.63it/s]\n",
            "Test ==> Epochs: 30 Batch:  781 loss: 0.008669800147116184 Accuracy: 80.82% : 100%|██████████| 782/782 [00:09<00:00, 83.77it/s] \n"
          ]
        },
        {
          "output_type": "stream",
          "name": "stdout",
          "text": [
            "LR :0.001\n",
            "\n"
          ]
        },
        {
          "output_type": "stream",
          "name": "stderr",
          "text": [
            "Train ==> Epochs: 31 Batch:  781 loss: 1.1025688648223877 Accuracy: 67.64% : 100%|██████████| 782/782 [00:14<00:00, 55.67it/s]\n",
            "Test ==> Epochs: 31 Batch:  781 loss: 0.008636385082006454 Accuracy: 80.89% : 100%|██████████| 782/782 [00:09<00:00, 84.45it/s]\n"
          ]
        },
        {
          "output_type": "stream",
          "name": "stdout",
          "text": [
            "LR :0.001\n",
            "\n"
          ]
        },
        {
          "output_type": "stream",
          "name": "stderr",
          "text": [
            "Train ==> Epochs: 32 Batch:  781 loss: 1.831069827079773 Accuracy: 67.71% : 100%|██████████| 782/782 [00:13<00:00, 56.70it/s]\n",
            "Test ==> Epochs: 32 Batch:  781 loss: 0.008655561532974244 Accuracy: 80.82% : 100%|██████████| 782/782 [00:09<00:00, 84.46it/s] \n"
          ]
        },
        {
          "output_type": "stream",
          "name": "stdout",
          "text": [
            "LR :0.001\n",
            "\n"
          ]
        },
        {
          "output_type": "stream",
          "name": "stderr",
          "text": [
            "Train ==> Epochs: 33 Batch:  781 loss: 1.0263307094573975 Accuracy: 67.39% : 100%|██████████| 782/782 [00:14<00:00, 55.77it/s]\n",
            "Test ==> Epochs: 33 Batch:  781 loss: 0.008563811623156071 Accuracy: 81.00% : 100%|██████████| 782/782 [00:09<00:00, 83.91it/s] \n"
          ]
        },
        {
          "output_type": "stream",
          "name": "stdout",
          "text": [
            "LR :0.001\n",
            "\n"
          ]
        },
        {
          "output_type": "stream",
          "name": "stderr",
          "text": [
            "Train ==> Epochs: 34 Batch:  781 loss: 1.0305774211883545 Accuracy: 67.62% : 100%|██████████| 782/782 [00:14<00:00, 55.80it/s]\n",
            "Test ==> Epochs: 34 Batch:  781 loss: 0.008408242973983288 Accuracy: 81.47% : 100%|██████████| 782/782 [00:09<00:00, 84.60it/s]\n"
          ]
        },
        {
          "output_type": "stream",
          "name": "stdout",
          "text": [
            "LR :0.001\n",
            "\n"
          ]
        },
        {
          "output_type": "stream",
          "name": "stderr",
          "text": [
            "Train ==> Epochs: 35 Batch:  781 loss: 1.0245444774627686 Accuracy: 67.53% : 100%|██████████| 782/782 [00:13<00:00, 56.19it/s]\n",
            "Test ==> Epochs: 35 Batch:  781 loss: 0.0085584203851223 Accuracy: 81.16% : 100%|██████████| 782/782 [00:09<00:00, 86.25it/s] \n"
          ]
        },
        {
          "output_type": "stream",
          "name": "stdout",
          "text": [
            "LR :0.001\n",
            "\n"
          ]
        },
        {
          "output_type": "stream",
          "name": "stderr",
          "text": [
            "Train ==> Epochs: 36 Batch:  781 loss: 0.8111885786056519 Accuracy: 67.64% : 100%|██████████| 782/782 [00:13<00:00, 56.24it/s]\n",
            "Test ==> Epochs: 36 Batch:  781 loss: 0.008547782629728317 Accuracy: 81.11% : 100%|██████████| 782/782 [00:09<00:00, 86.44it/s] \n"
          ]
        },
        {
          "output_type": "stream",
          "name": "stdout",
          "text": [
            "LR :0.001\n",
            "\n"
          ]
        },
        {
          "output_type": "stream",
          "name": "stderr",
          "text": [
            "Train ==> Epochs: 37 Batch:  781 loss: 1.162940263748169 Accuracy: 67.77% : 100%|██████████| 782/782 [00:13<00:00, 56.01it/s]\n",
            "Test ==> Epochs: 37 Batch:  781 loss: 0.008481677634716033 Accuracy: 81.28% : 100%|██████████| 782/782 [00:09<00:00, 84.02it/s] \n"
          ]
        },
        {
          "output_type": "stream",
          "name": "stdout",
          "text": [
            "LR :0.001\n",
            "\n"
          ]
        },
        {
          "output_type": "stream",
          "name": "stderr",
          "text": [
            "Train ==> Epochs: 38 Batch:  781 loss: 1.2889626026153564 Accuracy: 67.52% : 100%|██████████| 782/782 [00:13<00:00, 56.53it/s]\n",
            "Test ==> Epochs: 38 Batch:  781 loss: 0.008367539457678794 Accuracy: 81.51% : 100%|██████████| 782/782 [00:09<00:00, 83.05it/s]\n"
          ]
        },
        {
          "output_type": "stream",
          "name": "stdout",
          "text": [
            "LR :0.001\n",
            "\n"
          ]
        },
        {
          "output_type": "stream",
          "name": "stderr",
          "text": [
            "Train ==> Epochs: 39 Batch:  781 loss: 0.7677487134933472 Accuracy: 67.75% : 100%|██████████| 782/782 [00:13<00:00, 56.87it/s]\n",
            "Test ==> Epochs: 39 Batch:  781 loss: 0.008352054268121719 Accuracy: 81.57% : 100%|██████████| 782/782 [00:09<00:00, 82.61it/s]\n"
          ]
        },
        {
          "output_type": "stream",
          "name": "stdout",
          "text": [
            "LR :1e-05\n",
            "\n"
          ]
        },
        {
          "output_type": "stream",
          "name": "stderr",
          "text": [
            "Train ==> Epochs: 40 Batch:  781 loss: 0.8593356609344482 Accuracy: 67.93% : 100%|██████████| 782/782 [00:13<00:00, 56.83it/s]\n",
            "Test ==> Epochs: 40 Batch:  781 loss: 0.00838260188728571 Accuracy: 81.47% : 100%|██████████| 782/782 [00:09<00:00, 83.11it/s]\n"
          ]
        },
        {
          "output_type": "stream",
          "name": "stdout",
          "text": [
            "LR :0.0001\n",
            "\n"
          ]
        },
        {
          "output_type": "stream",
          "name": "stderr",
          "text": [
            "Train ==> Epochs: 41 Batch:  781 loss: 0.7873699069023132 Accuracy: 68.11% : 100%|██████████| 782/782 [00:13<00:00, 56.01it/s]\n",
            "Test ==> Epochs: 41 Batch:  781 loss: 0.00830047421514988 Accuracy: 81.70% : 100%|██████████| 782/782 [00:09<00:00, 83.99it/s]\n"
          ]
        },
        {
          "output_type": "stream",
          "name": "stdout",
          "text": [
            "LR :0.0001\n",
            "\n"
          ]
        },
        {
          "output_type": "stream",
          "name": "stderr",
          "text": [
            "Train ==> Epochs: 42 Batch:  781 loss: 1.025566577911377 Accuracy: 67.93% : 100%|██████████| 782/782 [00:13<00:00, 56.05it/s]\n",
            "Test ==> Epochs: 42 Batch:  781 loss: 0.008230828834474086 Accuracy: 81.88% : 100%|██████████| 782/782 [00:09<00:00, 85.32it/s] \n"
          ]
        },
        {
          "output_type": "stream",
          "name": "stdout",
          "text": [
            "LR :0.0001\n",
            "\n"
          ]
        },
        {
          "output_type": "stream",
          "name": "stderr",
          "text": [
            "Train ==> Epochs: 43 Batch:  781 loss: 1.2708370685577393 Accuracy: 68.08% : 100%|██████████| 782/782 [00:13<00:00, 55.86it/s]\n",
            "Test ==> Epochs: 43 Batch:  781 loss: 0.00833558075428009 Accuracy: 81.51% : 100%|██████████| 782/782 [00:09<00:00, 83.59it/s] \n"
          ]
        },
        {
          "output_type": "stream",
          "name": "stdout",
          "text": [
            "LR :0.0001\n",
            "\n"
          ]
        },
        {
          "output_type": "stream",
          "name": "stderr",
          "text": [
            "Train ==> Epochs: 44 Batch:  781 loss: 1.6365293264389038 Accuracy: 68.09% : 100%|██████████| 782/782 [00:13<00:00, 56.00it/s]\n",
            "Test ==> Epochs: 44 Batch:  781 loss: 0.00818305335611105 Accuracy: 81.94% : 100%|██████████| 782/782 [00:09<00:00, 83.88it/s]\n"
          ]
        },
        {
          "output_type": "stream",
          "name": "stdout",
          "text": [
            "LR :0.0001\n",
            "\n"
          ]
        },
        {
          "output_type": "stream",
          "name": "stderr",
          "text": [
            "Train ==> Epochs: 45 Batch:  781 loss: 1.3141683340072632 Accuracy: 67.98% : 100%|██████████| 782/782 [00:14<00:00, 55.41it/s]\n",
            "Test ==> Epochs: 45 Batch:  781 loss: 0.008270157834291457 Accuracy: 81.84% : 100%|██████████| 782/782 [00:09<00:00, 81.31it/s]\n"
          ]
        },
        {
          "output_type": "stream",
          "name": "stdout",
          "text": [
            "LR :0.0001\n",
            "\n"
          ]
        },
        {
          "output_type": "stream",
          "name": "stderr",
          "text": [
            "Train ==> Epochs: 46 Batch:  781 loss: 0.5074023008346558 Accuracy: 68.42% : 100%|██████████| 782/782 [00:14<00:00, 55.35it/s]\n",
            "Test ==> Epochs: 46 Batch:  781 loss: 0.008251518573462964 Accuracy: 81.82% : 100%|██████████| 782/782 [00:09<00:00, 82.90it/s] \n"
          ]
        },
        {
          "output_type": "stream",
          "name": "stdout",
          "text": [
            "LR :0.0001\n",
            "\n"
          ]
        },
        {
          "output_type": "stream",
          "name": "stderr",
          "text": [
            "Train ==> Epochs: 47 Batch:  781 loss: 1.164907693862915 Accuracy: 68.05% : 100%|██████████| 782/782 [00:14<00:00, 55.80it/s]\n",
            "Test ==> Epochs: 47 Batch:  781 loss: 0.008179354271292686 Accuracy: 81.97% : 100%|██████████| 782/782 [00:09<00:00, 82.24it/s]\n"
          ]
        },
        {
          "output_type": "stream",
          "name": "stdout",
          "text": [
            "LR :0.0001\n",
            "\n"
          ]
        },
        {
          "output_type": "stream",
          "name": "stderr",
          "text": [
            "Train ==> Epochs: 48 Batch:  781 loss: 0.9566105604171753 Accuracy: 68.47% : 100%|██████████| 782/782 [00:13<00:00, 56.18it/s]\n",
            "Test ==> Epochs: 48 Batch:  781 loss: 0.008310154147744178 Accuracy: 81.65% : 100%|██████████| 782/782 [00:09<00:00, 84.14it/s]\n"
          ]
        },
        {
          "output_type": "stream",
          "name": "stdout",
          "text": [
            "LR :0.0001\n",
            "\n"
          ]
        },
        {
          "output_type": "stream",
          "name": "stderr",
          "text": [
            "Train ==> Epochs: 49 Batch:  781 loss: 1.4345176219940186 Accuracy: 68.26% : 100%|██████████| 782/782 [00:24<00:00, 32.17it/s]\n",
            "Test ==> Epochs: 49 Batch:  781 loss: 0.008273324232399463 Accuracy: 81.79% : 100%|██████████| 782/782 [00:09<00:00, 83.54it/s]\n"
          ]
        },
        {
          "output_type": "stream",
          "name": "stdout",
          "text": [
            "LR :0.0001\n",
            "\n"
          ]
        },
        {
          "output_type": "stream",
          "name": "stderr",
          "text": [
            "Train ==> Epochs: 50 Batch:  781 loss: 1.066508412361145 Accuracy: 68.34% : 100%|██████████| 782/782 [00:14<00:00, 55.28it/s]\n",
            "Test ==> Epochs: 50 Batch:  781 loss: 0.008256371052861214 Accuracy: 81.81% : 100%|██████████| 782/782 [00:09<00:00, 80.32it/s]\n"
          ]
        },
        {
          "output_type": "stream",
          "name": "stdout",
          "text": [
            "LR :0.0001\n",
            "\n"
          ]
        },
        {
          "output_type": "stream",
          "name": "stderr",
          "text": [
            "Train ==> Epochs: 51 Batch:  781 loss: 1.077682614326477 Accuracy: 68.34% : 100%|██████████| 782/782 [00:14<00:00, 54.03it/s]\n",
            "Test ==> Epochs: 51 Batch:  781 loss: 0.008197215830683708 Accuracy: 81.99% : 100%|██████████| 782/782 [00:09<00:00, 81.59it/s]\n"
          ]
        },
        {
          "output_type": "stream",
          "name": "stdout",
          "text": [
            "LR :0.0001\n",
            "\n"
          ]
        },
        {
          "output_type": "stream",
          "name": "stderr",
          "text": [
            "Train ==> Epochs: 52 Batch:  781 loss: 1.4611660242080688 Accuracy: 68.33% : 100%|██████████| 782/782 [00:14<00:00, 53.97it/s]\n",
            "Test ==> Epochs: 52 Batch:  781 loss: 0.008213288268744946 Accuracy: 81.80% : 100%|██████████| 782/782 [00:09<00:00, 80.77it/s]\n"
          ]
        },
        {
          "output_type": "stream",
          "name": "stdout",
          "text": [
            "LR :0.0001\n",
            "\n"
          ]
        },
        {
          "output_type": "stream",
          "name": "stderr",
          "text": [
            "Train ==> Epochs: 53 Batch:  781 loss: 0.6895588040351868 Accuracy: 68.28% : 100%|██████████| 782/782 [00:14<00:00, 54.84it/s]\n",
            "Test ==> Epochs: 53 Batch:  781 loss: 0.008203729776740075 Accuracy: 81.90% : 100%|██████████| 782/782 [00:09<00:00, 80.73it/s]\n"
          ]
        },
        {
          "output_type": "stream",
          "name": "stdout",
          "text": [
            "LR :0.0001\n",
            "\n"
          ]
        },
        {
          "output_type": "stream",
          "name": "stderr",
          "text": [
            "Train ==> Epochs: 54 Batch:  781 loss: 0.8242316246032715 Accuracy: 68.37% : 100%|██████████| 782/782 [00:14<00:00, 55.80it/s]\n",
            "Test ==> Epochs: 54 Batch:  781 loss: 0.008222797545790672 Accuracy: 81.82% : 100%|██████████| 782/782 [00:09<00:00, 82.61it/s]\n"
          ]
        },
        {
          "output_type": "stream",
          "name": "stdout",
          "text": [
            "LR :0.0001\n",
            "\n"
          ]
        },
        {
          "output_type": "stream",
          "name": "stderr",
          "text": [
            "Train ==> Epochs: 55 Batch:  781 loss: 0.963891863822937 Accuracy: 68.27% : 100%|██████████| 782/782 [00:14<00:00, 54.94it/s]\n",
            "Test ==> Epochs: 55 Batch:  781 loss: 0.008210510981082917 Accuracy: 81.93% : 100%|██████████| 782/782 [00:09<00:00, 82.38it/s]\n"
          ]
        },
        {
          "output_type": "stream",
          "name": "stdout",
          "text": [
            "LR :0.0001\n",
            "\n"
          ]
        },
        {
          "output_type": "stream",
          "name": "stderr",
          "text": [
            "Train ==> Epochs: 56 Batch:  781 loss: 1.0470463037490845 Accuracy: 68.28% : 100%|██████████| 782/782 [00:14<00:00, 55.60it/s]\n",
            "Test ==> Epochs: 56 Batch:  781 loss: 0.00817190489590168 Accuracy: 82.02% : 100%|██████████| 782/782 [00:09<00:00, 83.27it/s] \n"
          ]
        },
        {
          "output_type": "stream",
          "name": "stdout",
          "text": [
            "LR :0.0001\n",
            "\n"
          ]
        },
        {
          "output_type": "stream",
          "name": "stderr",
          "text": [
            "Train ==> Epochs: 57 Batch:  781 loss: 1.1493533849716187 Accuracy: 68.25% : 100%|██████████| 782/782 [00:14<00:00, 55.64it/s]\n",
            "Test ==> Epochs: 57 Batch:  781 loss: 0.008127777761816979 Accuracy: 82.10% : 100%|██████████| 782/782 [00:09<00:00, 82.34it/s]\n"
          ]
        },
        {
          "output_type": "stream",
          "name": "stdout",
          "text": [
            "LR :0.0001\n",
            "\n"
          ]
        },
        {
          "output_type": "stream",
          "name": "stderr",
          "text": [
            "Train ==> Epochs: 58 Batch:  781 loss: 0.9266480803489685 Accuracy: 68.64% : 100%|██████████| 782/782 [00:14<00:00, 55.38it/s]\n",
            "Test ==> Epochs: 58 Batch:  781 loss: 0.00815760831952095 Accuracy: 82.12% : 100%|██████████| 782/782 [00:09<00:00, 82.32it/s]\n"
          ]
        },
        {
          "output_type": "stream",
          "name": "stdout",
          "text": [
            "LR :0.0001\n",
            "\n"
          ]
        },
        {
          "output_type": "stream",
          "name": "stderr",
          "text": [
            "Train ==> Epochs: 59 Batch:  781 loss: 0.7838944792747498 Accuracy: 68.01% : 100%|██████████| 782/782 [00:14<00:00, 55.38it/s]\n",
            "Test ==> Epochs: 59 Batch:  781 loss: 0.008210600634515286 Accuracy: 81.91% : 100%|██████████| 782/782 [00:09<00:00, 83.54it/s] \n"
          ]
        },
        {
          "output_type": "stream",
          "name": "stdout",
          "text": [
            "LR :1.0000000000000002e-06\n",
            "\n"
          ]
        },
        {
          "output_type": "stream",
          "name": "stderr",
          "text": [
            "Train ==> Epochs: 60 Batch:  781 loss: 1.0606828927993774 Accuracy: 68.24% : 100%|██████████| 782/782 [00:14<00:00, 55.17it/s]\n",
            "Test ==> Epochs: 60 Batch:  781 loss: 0.008192948871850967 Accuracy: 81.98% : 100%|██████████| 782/782 [00:11<00:00, 70.77it/s]\n"
          ]
        },
        {
          "output_type": "stream",
          "name": "stdout",
          "text": [
            "LR :1e-05\n",
            "\n"
          ]
        },
        {
          "output_type": "stream",
          "name": "stderr",
          "text": [
            "Train ==> Epochs: 61 Batch:  781 loss: 1.040342092514038 Accuracy: 68.46% : 100%|██████████| 782/782 [00:14<00:00, 54.72it/s]\n",
            "Test ==> Epochs: 61 Batch:  781 loss: 0.008123112749159335 Accuracy: 82.18% : 100%|██████████| 782/782 [00:09<00:00, 81.44it/s] \n"
          ]
        },
        {
          "output_type": "stream",
          "name": "stdout",
          "text": [
            "LR :1e-05\n",
            "\n"
          ]
        },
        {
          "output_type": "stream",
          "name": "stderr",
          "text": [
            "Train ==> Epochs: 62 Batch:  781 loss: 0.5407381653785706 Accuracy: 68.13% : 100%|██████████| 782/782 [00:14<00:00, 55.20it/s]\n",
            "Test ==> Epochs: 62 Batch:  781 loss: 0.008084388630986214 Accuracy: 82.28% : 100%|██████████| 782/782 [00:09<00:00, 82.55it/s] \n"
          ]
        },
        {
          "output_type": "stream",
          "name": "stdout",
          "text": [
            "LR :1e-05\n",
            "\n"
          ]
        },
        {
          "output_type": "stream",
          "name": "stderr",
          "text": [
            "Train ==> Epochs: 63 Batch:  781 loss: 1.764676570892334 Accuracy: 68.46% : 100%|██████████| 782/782 [00:14<00:00, 54.57it/s]\n",
            "Test ==> Epochs: 63 Batch:  781 loss: 0.008156504708528519 Accuracy: 81.99% : 100%|██████████| 782/782 [00:09<00:00, 80.04it/s] \n"
          ]
        },
        {
          "output_type": "stream",
          "name": "stdout",
          "text": [
            "LR :1e-05\n",
            "\n"
          ]
        },
        {
          "output_type": "stream",
          "name": "stderr",
          "text": [
            "Train ==> Epochs: 64 Batch:  781 loss: 1.459993839263916 Accuracy: 68.44% : 100%|██████████| 782/782 [00:14<00:00, 54.39it/s]\n",
            "Test ==> Epochs: 64 Batch:  781 loss: 0.008154672546386719 Accuracy: 82.01% : 100%|██████████| 782/782 [00:09<00:00, 81.56it/s] \n"
          ]
        },
        {
          "output_type": "stream",
          "name": "stdout",
          "text": [
            "LR :1e-05\n",
            "\n"
          ]
        },
        {
          "output_type": "stream",
          "name": "stderr",
          "text": [
            "Train ==> Epochs: 65 Batch:  781 loss: 0.7152419686317444 Accuracy: 68.37% : 100%|██████████| 782/782 [00:14<00:00, 55.31it/s]\n",
            "Test ==> Epochs: 65 Batch:  781 loss: 0.008165778753459453 Accuracy: 82.10% : 100%|██████████| 782/782 [00:09<00:00, 79.81it/s] \n"
          ]
        },
        {
          "output_type": "stream",
          "name": "stdout",
          "text": [
            "LR :1e-05\n",
            "\n"
          ]
        },
        {
          "output_type": "stream",
          "name": "stderr",
          "text": [
            "Train ==> Epochs: 66 Batch:  781 loss: 1.0706521272659302 Accuracy: 68.41% : 100%|██████████| 782/782 [00:14<00:00, 55.15it/s]\n",
            "Test ==> Epochs: 66 Batch:  781 loss: 0.008227329378128052 Accuracy: 81.79% : 100%|██████████| 782/782 [00:09<00:00, 80.85it/s] \n"
          ]
        },
        {
          "output_type": "stream",
          "name": "stdout",
          "text": [
            "LR :1e-05\n",
            "\n"
          ]
        },
        {
          "output_type": "stream",
          "name": "stderr",
          "text": [
            "Train ==> Epochs: 67 Batch:  781 loss: 0.9064664840698242 Accuracy: 68.33% : 100%|██████████| 782/782 [00:14<00:00, 54.88it/s]\n",
            "Test ==> Epochs: 67 Batch:  781 loss: 0.008157934721708298 Accuracy: 82.02% : 100%|██████████| 782/782 [00:09<00:00, 79.51it/s]\n"
          ]
        },
        {
          "output_type": "stream",
          "name": "stdout",
          "text": [
            "LR :1e-05\n",
            "\n"
          ]
        },
        {
          "output_type": "stream",
          "name": "stderr",
          "text": [
            "Train ==> Epochs: 68 Batch:  781 loss: 1.2841886281967163 Accuracy: 68.58% : 100%|██████████| 782/782 [00:14<00:00, 54.09it/s]\n",
            "Test ==> Epochs: 68 Batch:  781 loss: 0.008155310856699944 Accuracy: 82.06% : 100%|██████████| 782/782 [00:09<00:00, 78.95it/s]\n"
          ]
        },
        {
          "output_type": "stream",
          "name": "stdout",
          "text": [
            "LR :1e-05\n",
            "\n"
          ]
        },
        {
          "output_type": "stream",
          "name": "stderr",
          "text": [
            "Train ==> Epochs: 69 Batch:  781 loss: 0.9883121252059937 Accuracy: 68.22% : 100%|██████████| 782/782 [00:14<00:00, 55.17it/s]\n",
            "Test ==> Epochs: 69 Batch:  781 loss: 0.008098211091160774 Accuracy: 82.26% : 100%|██████████| 782/782 [00:09<00:00, 82.15it/s] \n"
          ]
        },
        {
          "output_type": "stream",
          "name": "stdout",
          "text": [
            "LR :1e-05\n",
            "\n"
          ]
        },
        {
          "output_type": "stream",
          "name": "stderr",
          "text": [
            "Train ==> Epochs: 70 Batch:  781 loss: 1.0899157524108887 Accuracy: 68.39% : 100%|██████████| 782/782 [00:14<00:00, 54.79it/s]\n",
            "Test ==> Epochs: 70 Batch:  781 loss: 0.008233375851809978 Accuracy: 81.81% : 100%|██████████| 782/782 [00:09<00:00, 80.03it/s] \n"
          ]
        },
        {
          "output_type": "stream",
          "name": "stdout",
          "text": [
            "LR :1e-05\n",
            "\n"
          ]
        },
        {
          "output_type": "stream",
          "name": "stderr",
          "text": [
            "Train ==> Epochs: 71 Batch:  781 loss: 1.5421165227890015 Accuracy: 68.51% : 100%|██████████| 782/782 [00:14<00:00, 54.54it/s]\n",
            "Test ==> Epochs: 71 Batch:  781 loss: 0.008118515932559967 Accuracy: 82.12% : 100%|██████████| 782/782 [00:09<00:00, 81.92it/s]\n"
          ]
        },
        {
          "output_type": "stream",
          "name": "stdout",
          "text": [
            "LR :1e-05\n",
            "\n"
          ]
        },
        {
          "output_type": "stream",
          "name": "stderr",
          "text": [
            "Train ==> Epochs: 72 Batch:  781 loss: 1.198335886001587 Accuracy: 68.35% : 100%|██████████| 782/782 [00:14<00:00, 54.05it/s]\n",
            "Test ==> Epochs: 72 Batch:  781 loss: 0.008218383254110813 Accuracy: 81.93% : 100%|██████████| 782/782 [00:09<00:00, 82.09it/s] \n"
          ]
        },
        {
          "output_type": "stream",
          "name": "stdout",
          "text": [
            "LR :1e-05\n",
            "\n"
          ]
        },
        {
          "output_type": "stream",
          "name": "stderr",
          "text": [
            "Train ==> Epochs: 73 Batch:  781 loss: 0.8298607468605042 Accuracy: 68.51% : 100%|██████████| 782/782 [00:14<00:00, 54.39it/s]\n",
            "Test ==> Epochs: 73 Batch:  781 loss: 0.008151156472861767 Accuracy: 82.05% : 100%|██████████| 782/782 [00:09<00:00, 78.59it/s]\n"
          ]
        },
        {
          "output_type": "stream",
          "name": "stdout",
          "text": [
            "LR :1e-05\n",
            "\n"
          ]
        },
        {
          "output_type": "stream",
          "name": "stderr",
          "text": [
            "Train ==> Epochs: 74 Batch:  781 loss: 1.0657508373260498 Accuracy: 68.44% : 100%|██████████| 782/782 [00:14<00:00, 54.28it/s]\n",
            "Test ==> Epochs: 74 Batch:  781 loss: 0.008169354346692562 Accuracy: 82.08% : 100%|██████████| 782/782 [00:09<00:00, 78.97it/s] \n"
          ]
        },
        {
          "output_type": "stream",
          "name": "stdout",
          "text": [
            "LR :1e-05\n",
            "\n"
          ]
        },
        {
          "output_type": "stream",
          "name": "stderr",
          "text": [
            "Train ==> Epochs: 75 Batch:  781 loss: 0.9591965675354004 Accuracy: 68.49% : 100%|██████████| 782/782 [00:14<00:00, 53.82it/s]\n",
            "Test ==> Epochs: 75 Batch:  781 loss: 0.008096683758199216 Accuracy: 82.25% : 100%|██████████| 782/782 [00:09<00:00, 81.04it/s]\n"
          ]
        },
        {
          "output_type": "stream",
          "name": "stdout",
          "text": [
            "LR :1e-05\n",
            "\n"
          ]
        },
        {
          "output_type": "stream",
          "name": "stderr",
          "text": [
            "Train ==> Epochs: 76 Batch:  781 loss: 0.49254605174064636 Accuracy: 68.45% : 100%|██████████| 782/782 [00:27<00:00, 28.91it/s]\n",
            "Test ==> Epochs: 76 Batch:  781 loss: 0.008141970020234585 Accuracy: 82.15% : 100%|██████████| 782/782 [00:09<00:00, 78.74it/s]\n"
          ]
        },
        {
          "output_type": "stream",
          "name": "stdout",
          "text": [
            "LR :1e-05\n",
            "\n"
          ]
        },
        {
          "output_type": "stream",
          "name": "stderr",
          "text": [
            "Train ==> Epochs: 77 Batch:  781 loss: 1.084387183189392 Accuracy: 68.59% : 100%|██████████| 782/782 [00:14<00:00, 54.14it/s]\n",
            "Test ==> Epochs: 77 Batch:  781 loss: 0.008131154799163341 Accuracy: 82.13% : 100%|██████████| 782/782 [00:10<00:00, 78.05it/s]\n"
          ]
        },
        {
          "output_type": "stream",
          "name": "stdout",
          "text": [
            "LR :1e-05\n",
            "\n"
          ]
        },
        {
          "output_type": "stream",
          "name": "stderr",
          "text": [
            "Train ==> Epochs: 78 Batch:  781 loss: 1.2601786851882935 Accuracy: 68.43% : 100%|██████████| 782/782 [00:14<00:00, 53.75it/s]\n",
            "Test ==> Epochs: 78 Batch:  781 loss: 0.008184745456576348 Accuracy: 81.98% : 100%|██████████| 782/782 [00:09<00:00, 79.96it/s]\n"
          ]
        },
        {
          "output_type": "stream",
          "name": "stdout",
          "text": [
            "LR :1e-05\n",
            "\n"
          ]
        },
        {
          "output_type": "stream",
          "name": "stderr",
          "text": [
            "Train ==> Epochs: 79 Batch:  781 loss: 0.8998942375183105 Accuracy: 68.62% : 100%|██████████| 782/782 [00:14<00:00, 54.59it/s]\n",
            "Test ==> Epochs: 79 Batch:  781 loss: 0.00812882170200348 Accuracy: 82.14% : 100%|██████████| 782/782 [00:09<00:00, 80.50it/s] \n"
          ]
        },
        {
          "output_type": "stream",
          "name": "stdout",
          "text": [
            "LR :1.0000000000000002e-07\n",
            "\n"
          ]
        },
        {
          "output_type": "stream",
          "name": "stderr",
          "text": [
            "Train ==> Epochs: 80 Batch:  781 loss: 0.7012491226196289 Accuracy: 68.30% : 100%|██████████| 782/782 [00:14<00:00, 53.44it/s]\n",
            "Test ==> Epochs: 80 Batch:  781 loss: 0.008104617935419082 Accuracy: 82.14% : 100%|██████████| 782/782 [00:10<00:00, 78.07it/s] \n"
          ]
        },
        {
          "output_type": "stream",
          "name": "stdout",
          "text": [
            "LR :1.0000000000000002e-06\n",
            "\n"
          ]
        },
        {
          "output_type": "stream",
          "name": "stderr",
          "text": [
            "Train ==> Epochs: 81 Batch:  781 loss: 0.8165073990821838 Accuracy: 68.23% : 100%|██████████| 782/782 [00:14<00:00, 54.33it/s]\n",
            "Test ==> Epochs: 81 Batch:  781 loss: 0.008176037968099117 Accuracy: 81.99% : 100%|██████████| 782/782 [00:09<00:00, 78.81it/s] \n"
          ]
        },
        {
          "output_type": "stream",
          "name": "stdout",
          "text": [
            "LR :1.0000000000000002e-06\n",
            "\n"
          ]
        },
        {
          "output_type": "stream",
          "name": "stderr",
          "text": [
            "Train ==> Epochs: 82 Batch:  781 loss: 1.1048938035964966 Accuracy: 68.51% : 100%|██████████| 782/782 [00:14<00:00, 54.98it/s]\n",
            "Test ==> Epochs: 82 Batch:  781 loss: 0.008074435558319092 Accuracy: 82.24% : 100%|██████████| 782/782 [00:09<00:00, 79.47it/s]\n"
          ]
        },
        {
          "output_type": "stream",
          "name": "stdout",
          "text": [
            "LR :1.0000000000000002e-06\n",
            "\n"
          ]
        },
        {
          "output_type": "stream",
          "name": "stderr",
          "text": [
            "Train ==> Epochs: 83 Batch:  781 loss: 1.3505581617355347 Accuracy: 68.15% : 100%|██████████| 782/782 [00:14<00:00, 53.21it/s]\n",
            "Test ==> Epochs: 83 Batch:  781 loss: 0.008135210631787777 Accuracy: 82.11% : 100%|██████████| 782/782 [00:09<00:00, 78.37it/s] \n"
          ]
        },
        {
          "output_type": "stream",
          "name": "stdout",
          "text": [
            "LR :1.0000000000000002e-06\n",
            "\n"
          ]
        },
        {
          "output_type": "stream",
          "name": "stderr",
          "text": [
            "Train ==> Epochs: 84 Batch:  781 loss: 0.5790178775787354 Accuracy: 68.27% : 100%|██████████| 782/782 [00:14<00:00, 54.34it/s]\n",
            "Test ==> Epochs: 84 Batch:  781 loss: 0.008176614553630352 Accuracy: 82.03% : 100%|██████████| 782/782 [00:10<00:00, 77.99it/s] \n"
          ]
        },
        {
          "output_type": "stream",
          "name": "stdout",
          "text": [
            "LR :1.0000000000000002e-06\n",
            "\n"
          ]
        },
        {
          "output_type": "stream",
          "name": "stderr",
          "text": [
            "Train ==> Epochs: 85 Batch:  781 loss: 1.415520191192627 Accuracy: 68.31% : 100%|██████████| 782/782 [00:14<00:00, 53.32it/s]\n",
            "Test ==> Epochs: 85 Batch:  781 loss: 0.008171127858757973 Accuracy: 81.98% : 100%|██████████| 782/782 [00:09<00:00, 79.71it/s]\n"
          ]
        },
        {
          "output_type": "stream",
          "name": "stdout",
          "text": [
            "LR :1.0000000000000002e-06\n",
            "\n"
          ]
        },
        {
          "output_type": "stream",
          "name": "stderr",
          "text": [
            "Train ==> Epochs: 86 Batch:  781 loss: 1.1395913362503052 Accuracy: 68.31% : 100%|██████████| 782/782 [00:14<00:00, 54.12it/s]\n",
            "Test ==> Epochs: 86 Batch:  781 loss: 0.008099490422606468 Accuracy: 82.20% : 100%|██████████| 782/782 [00:10<00:00, 77.49it/s]\n"
          ]
        },
        {
          "output_type": "stream",
          "name": "stdout",
          "text": [
            "LR :1.0000000000000002e-06\n",
            "\n"
          ]
        },
        {
          "output_type": "stream",
          "name": "stderr",
          "text": [
            "Train ==> Epochs: 87 Batch:  781 loss: 0.7149654030799866 Accuracy: 68.16% : 100%|██████████| 782/782 [00:14<00:00, 53.57it/s]\n",
            "Test ==> Epochs: 87 Batch:  781 loss: 0.008126295889914035 Accuracy: 82.17% : 100%|██████████| 782/782 [00:10<00:00, 77.73it/s]\n"
          ]
        },
        {
          "output_type": "stream",
          "name": "stdout",
          "text": [
            "LR :1.0000000000000002e-06\n",
            "\n"
          ]
        },
        {
          "output_type": "stream",
          "name": "stderr",
          "text": [
            "Train ==> Epochs: 88 Batch:  781 loss: 1.2443439960479736 Accuracy: 68.29% : 100%|██████████| 782/782 [00:14<00:00, 52.87it/s]\n",
            "Test ==> Epochs: 88 Batch:  781 loss: 0.008167262676358223 Accuracy: 82.03% : 100%|██████████| 782/782 [00:10<00:00, 77.70it/s]\n"
          ]
        },
        {
          "output_type": "stream",
          "name": "stdout",
          "text": [
            "LR :1.0000000000000002e-06\n",
            "\n"
          ]
        },
        {
          "output_type": "stream",
          "name": "stderr",
          "text": [
            "Train ==> Epochs: 89 Batch:  781 loss: 0.8107283115386963 Accuracy: 68.37% : 100%|██████████| 782/782 [00:14<00:00, 53.47it/s]\n",
            "Test ==> Epochs: 89 Batch:  781 loss: 0.008133016596734524 Accuracy: 82.16% : 100%|██████████| 782/782 [00:10<00:00, 77.32it/s]\n"
          ]
        },
        {
          "output_type": "stream",
          "name": "stdout",
          "text": [
            "LR :1.0000000000000002e-06\n",
            "\n"
          ]
        },
        {
          "output_type": "stream",
          "name": "stderr",
          "text": [
            "Train ==> Epochs: 90 Batch:  781 loss: 0.7000908851623535 Accuracy: 68.42% : 100%|██████████| 782/782 [00:14<00:00, 53.65it/s]\n",
            "Test ==> Epochs: 90 Batch:  781 loss: 0.0081144519880414 Accuracy: 82.15% : 100%|██████████| 782/782 [00:10<00:00, 77.23it/s] \n"
          ]
        },
        {
          "output_type": "stream",
          "name": "stdout",
          "text": [
            "LR :1.0000000000000002e-06\n",
            "\n"
          ]
        },
        {
          "output_type": "stream",
          "name": "stderr",
          "text": [
            "Train ==> Epochs: 91 Batch:  781 loss: 0.639519453048706 Accuracy: 68.69% : 100%|██████████| 782/782 [00:14<00:00, 52.96it/s]\n",
            "Test ==> Epochs: 91 Batch:  781 loss: 0.00812852787822485 Accuracy: 82.11% : 100%|██████████| 782/782 [00:10<00:00, 77.85it/s]\n"
          ]
        },
        {
          "output_type": "stream",
          "name": "stdout",
          "text": [
            "LR :1.0000000000000002e-06\n",
            "\n"
          ]
        },
        {
          "output_type": "stream",
          "name": "stderr",
          "text": [
            "Train ==> Epochs: 92 Batch:  781 loss: 1.2336493730545044 Accuracy: 68.46% : 100%|██████████| 782/782 [00:14<00:00, 53.60it/s]\n",
            "Test ==> Epochs: 92 Batch:  781 loss: 0.008177563246786595 Accuracy: 81.99% : 100%|██████████| 782/782 [00:10<00:00, 77.25it/s]\n"
          ]
        },
        {
          "output_type": "stream",
          "name": "stdout",
          "text": [
            "LR :1.0000000000000002e-06\n",
            "\n"
          ]
        },
        {
          "output_type": "stream",
          "name": "stderr",
          "text": [
            "Train ==> Epochs: 93 Batch:  781 loss: 1.0278420448303223 Accuracy: 68.49% : 100%|██████████| 782/782 [00:14<00:00, 52.98it/s]\n",
            "Test ==> Epochs: 93 Batch:  781 loss: 0.008137671661376952 Accuracy: 82.12% : 100%|██████████| 782/782 [00:10<00:00, 75.27it/s] \n"
          ]
        },
        {
          "output_type": "stream",
          "name": "stdout",
          "text": [
            "LR :1.0000000000000002e-06\n",
            "\n"
          ]
        },
        {
          "output_type": "stream",
          "name": "stderr",
          "text": [
            "Train ==> Epochs: 94 Batch:  781 loss: 0.8104393482208252 Accuracy: 68.50% : 100%|██████████| 782/782 [00:14<00:00, 53.57it/s]\n",
            "Test ==> Epochs: 94 Batch:  781 loss: 0.008121258197426796 Accuracy: 82.21% : 100%|██████████| 782/782 [00:10<00:00, 77.65it/s]\n"
          ]
        },
        {
          "output_type": "stream",
          "name": "stdout",
          "text": [
            "LR :1.0000000000000002e-06\n",
            "\n"
          ]
        },
        {
          "output_type": "stream",
          "name": "stderr",
          "text": [
            "Train ==> Epochs: 95 Batch:  781 loss: 1.6226937770843506 Accuracy: 68.38% : 100%|██████████| 782/782 [00:14<00:00, 53.02it/s]\n",
            "Test ==> Epochs: 95 Batch:  781 loss: 0.008225133863985538 Accuracy: 81.88% : 100%|██████████| 782/782 [00:10<00:00, 77.23it/s] \n"
          ]
        },
        {
          "output_type": "stream",
          "name": "stdout",
          "text": [
            "LR :1.0000000000000002e-06\n",
            "\n"
          ]
        },
        {
          "output_type": "stream",
          "name": "stderr",
          "text": [
            "Train ==> Epochs: 96 Batch:  781 loss: 0.5410807132720947 Accuracy: 68.32% : 100%|██████████| 782/782 [00:14<00:00, 53.34it/s]\n",
            "Test ==> Epochs: 96 Batch:  781 loss: 0.008143825445175171 Accuracy: 82.18% : 100%|██████████| 782/782 [00:09<00:00, 78.57it/s] \n"
          ]
        },
        {
          "output_type": "stream",
          "name": "stdout",
          "text": [
            "LR :1.0000000000000002e-06\n",
            "\n"
          ]
        },
        {
          "output_type": "stream",
          "name": "stderr",
          "text": [
            "Train ==> Epochs: 97 Batch:  781 loss: 0.7089537382125854 Accuracy: 68.41% : 100%|██████████| 782/782 [00:14<00:00, 52.82it/s]\n",
            "Test ==> Epochs: 97 Batch:  781 loss: 0.00814178182721138 Accuracy: 82.09% : 100%|██████████| 782/782 [00:10<00:00, 76.52it/s]\n"
          ]
        },
        {
          "output_type": "stream",
          "name": "stdout",
          "text": [
            "LR :1.0000000000000002e-06\n",
            "\n"
          ]
        },
        {
          "output_type": "stream",
          "name": "stderr",
          "text": [
            "Train ==> Epochs: 98 Batch:  781 loss: 0.9308934807777405 Accuracy: 68.43% : 100%|██████████| 782/782 [00:14<00:00, 53.15it/s]\n",
            "Test ==> Epochs: 98 Batch:  781 loss: 0.008157508511543274 Accuracy: 82.07% : 100%|██████████| 782/782 [00:10<00:00, 77.82it/s]\n"
          ]
        },
        {
          "output_type": "stream",
          "name": "stdout",
          "text": [
            "LR :1.0000000000000002e-06\n",
            "\n"
          ]
        },
        {
          "output_type": "stream",
          "name": "stderr",
          "text": [
            "Train ==> Epochs: 99 Batch:  781 loss: 0.6488586664199829 Accuracy: 68.20% : 100%|██████████| 782/782 [00:14<00:00, 52.58it/s]\n",
            "Test ==> Epochs: 99 Batch:  781 loss: 0.008145344239473343 Accuracy: 82.15% : 100%|██████████| 782/782 [00:10<00:00, 76.61it/s]\n"
          ]
        },
        {
          "output_type": "stream",
          "name": "stdout",
          "text": [
            "LR :1.0000000000000004e-08\n",
            "\n"
          ]
        },
        {
          "output_type": "stream",
          "name": "stderr",
          "text": [
            "Train ==> Epochs: 100 Batch:  781 loss: 0.5297614932060242 Accuracy: 68.45% : 100%|██████████| 782/782 [00:14<00:00, 53.01it/s]\n",
            "Test ==> Epochs: 100 Batch:  781 loss: 0.008193568766713143 Accuracy: 81.98% : 100%|██████████| 782/782 [00:10<00:00, 76.74it/s]\n"
          ]
        },
        {
          "output_type": "stream",
          "name": "stdout",
          "text": [
            "LR :1.0000000000000002e-07\n",
            "\n"
          ]
        },
        {
          "output_type": "stream",
          "name": "stderr",
          "text": [
            "Train ==> Epochs: 101 Batch:  781 loss: 0.6462526321411133 Accuracy: 68.38% : 100%|██████████| 782/782 [00:14<00:00, 52.65it/s]\n",
            "Test ==> Epochs: 101 Batch:  781 loss: 0.008161389199793338 Accuracy: 82.05% : 100%|██████████| 782/782 [00:10<00:00, 77.59it/s] \n"
          ]
        },
        {
          "output_type": "stream",
          "name": "stdout",
          "text": [
            "LR :1.0000000000000002e-07\n",
            "\n"
          ]
        },
        {
          "output_type": "stream",
          "name": "stderr",
          "text": [
            "Train ==> Epochs: 102 Batch:  781 loss: 1.2559304237365723 Accuracy: 68.26% : 100%|██████████| 782/782 [00:14<00:00, 53.38it/s]\n",
            "Test ==> Epochs: 102 Batch:  781 loss: 0.008102573148310184 Accuracy: 82.22% : 100%|██████████| 782/782 [00:10<00:00, 75.42it/s]\n"
          ]
        },
        {
          "output_type": "stream",
          "name": "stdout",
          "text": [
            "LR :1.0000000000000002e-07\n",
            "\n"
          ]
        },
        {
          "output_type": "stream",
          "name": "stderr",
          "text": [
            "Train ==> Epochs: 103 Batch:  781 loss: 0.9549646377563477 Accuracy: 68.47% : 100%|██████████| 782/782 [00:14<00:00, 52.48it/s]\n",
            "Test ==> Epochs: 103 Batch:  781 loss: 0.008111179624199867 Accuracy: 82.14% : 100%|██████████| 782/782 [00:10<00:00, 75.51it/s]\n"
          ]
        },
        {
          "output_type": "stream",
          "name": "stdout",
          "text": [
            "LR :1.0000000000000002e-07\n",
            "\n"
          ]
        },
        {
          "output_type": "stream",
          "name": "stderr",
          "text": [
            "Train ==> Epochs: 104 Batch:  781 loss: 0.39209532737731934 Accuracy: 68.32% : 100%|██████████| 782/782 [00:14<00:00, 52.44it/s]\n",
            "Test ==> Epochs: 104 Batch:  781 loss: 0.00815527684032917 Accuracy: 82.06% : 100%|██████████| 782/782 [00:10<00:00, 76.38it/s] \n"
          ]
        },
        {
          "output_type": "stream",
          "name": "stdout",
          "text": [
            "LR :1.0000000000000002e-07\n",
            "\n"
          ]
        },
        {
          "output_type": "stream",
          "name": "stderr",
          "text": [
            "Train ==> Epochs: 105 Batch:  781 loss: 0.9724633693695068 Accuracy: 68.31% : 100%|██████████| 782/782 [00:14<00:00, 52.84it/s]\n",
            "Test ==> Epochs: 105 Batch:  781 loss: 0.008185152193307876 Accuracy: 82.00% : 100%|██████████| 782/782 [00:10<00:00, 76.03it/s]\n"
          ]
        },
        {
          "output_type": "stream",
          "name": "stdout",
          "text": [
            "LR :1.0000000000000002e-07\n",
            "\n"
          ]
        },
        {
          "output_type": "stream",
          "name": "stderr",
          "text": [
            "Train ==> Epochs: 106 Batch:  781 loss: 1.1330479383468628 Accuracy: 68.61% : 100%|██████████| 782/782 [00:14<00:00, 52.80it/s]\n",
            "Test ==> Epochs: 106 Batch:  781 loss: 0.008120850449204445 Accuracy: 82.15% : 100%|██████████| 782/782 [00:10<00:00, 76.77it/s] \n"
          ]
        },
        {
          "output_type": "stream",
          "name": "stdout",
          "text": [
            "LR :1.0000000000000002e-07\n",
            "\n"
          ]
        },
        {
          "output_type": "stream",
          "name": "stderr",
          "text": [
            "Train ==> Epochs: 107 Batch:  781 loss: 0.8039308190345764 Accuracy: 68.25% : 100%|██████████| 782/782 [00:14<00:00, 52.20it/s]\n",
            "Test ==> Epochs: 107 Batch:  781 loss: 0.0080739014467597 Accuracy: 82.25% : 100%|██████████| 782/782 [00:10<00:00, 75.07it/s]\n"
          ]
        },
        {
          "output_type": "stream",
          "name": "stdout",
          "text": [
            "LR :1.0000000000000002e-07\n",
            "\n"
          ]
        },
        {
          "output_type": "stream",
          "name": "stderr",
          "text": [
            "Train ==> Epochs: 108 Batch:  781 loss: 1.198055386543274 Accuracy: 68.26% : 100%|██████████| 782/782 [00:14<00:00, 52.89it/s]\n",
            "Test ==> Epochs: 108 Batch:  781 loss: 0.008115262179672717 Accuracy: 82.17% : 100%|██████████| 782/782 [00:10<00:00, 75.85it/s]\n"
          ]
        },
        {
          "output_type": "stream",
          "name": "stdout",
          "text": [
            "LR :1.0000000000000002e-07\n",
            "\n"
          ]
        },
        {
          "output_type": "stream",
          "name": "stderr",
          "text": [
            "Train ==> Epochs: 109 Batch:  77 loss: 0.965692937374115 Accuracy: 67.23% :   9%|▉         | 74/782 [00:02<00:12, 55.71it/s] "
          ]
        }
      ],
      "source": [
        "if __name__ == \"__main__\":\n",
        "    batch_size = 64\n",
        "    epochs = 110\n",
        "\n",
        "    _=torch.manual_seed(1)\n",
        "    if torch.cuda.is_available():\n",
        "        _=torch.cuda.manual_seed(1)\n",
        "\n",
        "    train,test = get_data()\n",
        "    #take input as normal_type ['gbn','bn','gn','ln']\n",
        "    # To Un Normalize the test data\n",
        "    mean,std  = get_data_stats(test,train,img_norm_typ ='train',plot = False)\n",
        "\n",
        "    train_alb = AlbumDataset(train,train_transform)\n",
        "    test_alb = AlbumDataset(test,test_transform)\n",
        "\n",
        "    args = {'pin_memory':True,'num_workers':4} if torch.cuda.is_available() else {}\n",
        "    train_loader = DataLoader(train_alb,batch_size=batch_size,shuffle = True,**args)\n",
        "    test_loader = DataLoader(test_alb,batch_size=batch_size,**args)\n",
        "    # ['gbn','bn','gn','ln']\n",
        "    try_type = ['gbn']\n",
        "    for norm_type in try_type:\n",
        "\n",
        "        model_class = Cifar10Net1(dropout_val=0.00,norm_type=norm_type)\n",
        "        model,train_losses, train_accuracy,test_losses,test_accuracy = Run_Model(model_class,train_alb,test_alb,epochs =epochs)\n",
        "\n",
        "        plot_acc_loss(norm_type ,train_accuracy,train_losses,test_accuracy,test_losses)\n",
        "        clean_gpu()\n",
        "\n",
        "        print_wrong_image(model,test_loader,mean,std,3,7)\n",
        "        clean_gpu()"
      ]
    },
    {
      "cell_type": "code",
      "execution_count": null,
      "metadata": {
        "id": "4CJVjjt0E92u"
      },
      "outputs": [],
      "source": [
        ""
      ]
    },
    {
      "cell_type": "code",
      "source": [
        ""
      ],
      "metadata": {
        "id": "1_y9tY0f8fPu"
      },
      "execution_count": null,
      "outputs": []
    }
  ],
  "metadata": {
    "accelerator": "GPU",
    "colab": {
      "collapsed_sections": [],
      "machine_shape": "hm",
      "name": "CIFAR10_try.ipynb",
      "provenance": [],
      "include_colab_link": true
    },
    "kernelspec": {
      "display_name": "Python 3",
      "name": "python3"
    },
    "language_info": {
      "codemirror_mode": {
        "name": "ipython",
        "version": 3
      },
      "file_extension": ".py",
      "mimetype": "text/x-python",
      "name": "python",
      "nbconvert_exporter": "python",
      "pygments_lexer": "ipython3",
      "version": "3.6.6"
    }
  },
  "nbformat": 4,
  "nbformat_minor": 0
}