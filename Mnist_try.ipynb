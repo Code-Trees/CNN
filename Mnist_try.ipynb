{
  "cells": [
    {
      "cell_type": "markdown",
      "metadata": {
        "id": "view-in-github",
        "colab_type": "text"
      },
      "source": [
        "<a href=\"https://colab.research.google.com/github/Code-Trees/CNN/blob/master/Mnist_try.ipynb\" target=\"_parent\"><img src=\"https://colab.research.google.com/assets/colab-badge.svg\" alt=\"Open In Colab\"/></a>"
      ]
    },
    {
      "cell_type": "code",
      "source": [
        "#In this Notebook I tried to build a Network which is optimisez to use less parameters and give best performance .\n",
        "#The concept and Techniques are taken from Resnet and Vgg Net learnings .\n"
      ],
      "metadata": {
        "id": "KGZTI8v_SDFR"
      },
      "execution_count": 1,
      "outputs": []
    },
    {
      "cell_type": "code",
      "execution_count": 2,
      "metadata": {
        "id": "h5NRAc5JOu11"
      },
      "outputs": [],
      "source": [
        "#importing for better interactivity of shell\n",
        "from IPython.core.interactiveshell import InteractiveShell\n",
        "InteractiveShell.ast_node_interactivity = 'all'"
      ]
    },
    {
      "cell_type": "code",
      "source": [
        "#Importing Needed Modules\n",
        "\n",
        "\"\"\"Pytorch have Major 4 Classes:\n",
        "    1> Autograd:Provide Automatic differentation\n",
        "    2> nn -> 2.1: nn.Moduls : Used for model arch building\n",
        "             2.2: nn.functional : Used for model arch building\n",
        "    3> Opti: Provides Different kinds of Optimizers \n",
        "    4> utils: Provides Utils for models, dataloaders,  etc\n",
        "   Also \n",
        "   torchvision: This  module is to  provide  different datasets for model trainning \n",
        "   and data : transforms etc .\n",
        "\"\"\""
      ],
      "metadata": {
        "colab": {
          "base_uri": "https://localhost:8080/",
          "height": 73
        },
        "id": "pd5NTFyqSq2Z",
        "outputId": "925bc114-94cc-43e3-c9e1-f57f42bf2ed9"
      },
      "execution_count": 3,
      "outputs": [
        {
          "output_type": "execute_result",
          "data": {
            "application/vnd.google.colaboratory.intrinsic+json": {
              "type": "string"
            },
            "text/plain": [
              "'Pytorch have Major 4 Classes:\\n    1> Autograd:Provide Automatic differentation\\n    2> nn -> 2.1: nn.Moduls : Used for model arch building\\n             2.2: nn.functional : Used for model arch building\\n    3> Opti: Provides Different kinds of Optimizers \\n    4> utils: Provides Utils for models, dataloaders,  etc\\n   Also \\n   torchvision: This  module is to  provide  different datasets for model trainning \\n   and data : transforms etc .\\n'"
            ]
          },
          "metadata": {},
          "execution_count": 3
        }
      ]
    },
    {
      "cell_type": "code",
      "execution_count": 4,
      "metadata": {
        "id": "GDfJ_u8R7uD2"
      },
      "outputs": [],
      "source": [
        "import warnings\n",
        "warnings.filterwarnings('ignore')"
      ]
    },
    {
      "cell_type": "code",
      "execution_count": 5,
      "metadata": {
        "id": "oPHRRKmcPL3o"
      },
      "outputs": [],
      "source": [
        "import torch\n",
        "import torch.nn as nn\n",
        "import torch.nn.functional as f\n",
        "import torch.nn.functional as F\n",
        "from torch.optim import SGD\n",
        "import torchvision\n",
        "from torch.utils.data import DataLoader"
      ]
    },
    {
      "cell_type": "code",
      "execution_count": 6,
      "metadata": {
        "id": "cuzACDiOQKn-"
      },
      "outputs": [],
      "source": [
        "from torchvision import transforms,datasets\n",
        "import matplotlib.pyplot as plt"
      ]
    },
    {
      "cell_type": "code",
      "execution_count": 7,
      "metadata": {
        "colab": {
          "base_uri": "https://localhost:8080/"
        },
        "id": "4vTQDOCyEnXY",
        "outputId": "d7eead72-517d-4ffa-91af-adea669f4248"
      },
      "outputs": [
        {
          "output_type": "stream",
          "name": "stdout",
          "text": [
            "Collecting rf_calc\n",
            "  Downloading rf_calc-0.0.7-py3-none-any.whl (4.1 kB)\n",
            "Requirement already satisfied: numpy>=1.19.4 in /usr/local/lib/python3.7/dist-packages (from rf_calc) (1.19.5)\n",
            "Requirement already satisfied: pandas>=1.1.5 in /usr/local/lib/python3.7/dist-packages (from rf_calc) (1.3.5)\n",
            "Requirement already satisfied: tabulate>=0.8.9 in /usr/local/lib/python3.7/dist-packages (from rf_calc) (0.8.9)\n",
            "Requirement already satisfied: pytz>=2017.3 in /usr/local/lib/python3.7/dist-packages (from pandas>=1.1.5->rf_calc) (2018.9)\n",
            "Requirement already satisfied: python-dateutil>=2.7.3 in /usr/local/lib/python3.7/dist-packages (from pandas>=1.1.5->rf_calc) (2.8.2)\n",
            "Requirement already satisfied: six>=1.5 in /usr/local/lib/python3.7/dist-packages (from python-dateutil>=2.7.3->pandas>=1.1.5->rf_calc) (1.15.0)\n",
            "Installing collected packages: rf-calc\n",
            "Successfully installed rf-calc-0.0.7\n"
          ]
        }
      ],
      "source": [
        "#This module i have designed to Calculate the receptive field of a CNN model.\n",
        "#Please read the documentation for mode details\n",
        "#https://pypi.org/project/rf-calc/\n",
        " \n",
        "!pip install rf_calc\n",
        "from rf_calc import receptive_field"
      ]
    },
    {
      "cell_type": "code",
      "execution_count": 8,
      "metadata": {
        "id": "bWGDt6jpSTIP"
      },
      "outputs": [],
      "source": [
        "import numpy as np\n",
        "from torchsummary import summary"
      ]
    },
    {
      "cell_type": "code",
      "execution_count": 9,
      "metadata": {
        "id": "_Xl-Jkj3QeHW",
        "colab": {
          "base_uri": "https://localhost:8080/",
          "height": 422,
          "referenced_widgets": [
            "10244aa9b0964755a50007521350fcc7",
            "e34527bb763d40f187ef52dd3c11308a",
            "ddfb0566a9df4ae580480330dad4242b",
            "6702c33371b14c66bc7cf8fda0ecfdea",
            "3af1095775ab42e4b3b3ea0bd173366e",
            "57ff72fc42e946458084d06eefe7f51d",
            "7c278cc75a5f46b9b1850d15d953e71b",
            "e27f8f3896a341d8acaea7a01b7f221f",
            "f739eea93a4d4e1ab5c4f7ce8675bbdc",
            "b373953dd6124560bc35a9f89dc7c472",
            "8ba5f470ecf048e580bcdd40f2109170",
            "552e815db0cb4594b0aeb78a399564f7",
            "6a43d7a87d5746f4b4ac35dfec634467",
            "f5a4a85350884e448e7d58c487bd74e7",
            "caf4bcf3bc214c4aac447bf3d21e12af",
            "d1c17481682442b3a965e05a9024aa8b",
            "19bf2a2a5ef94b23b4ed2f3fb5542ee2",
            "272eda85e85a4ada908bd38e0e1bc069",
            "0bd272e060a0497fb55adb22c888d598",
            "27898d07b50d4e92aa1eb79c693515dc",
            "e147cc7049ac43ccb164e917945258f7",
            "366145fc5b3e407ea1ed6fde84f29484",
            "a5b3b3e26526423aad3ed3ffe45ddcda",
            "29921b6c125f487bb0d3e2dacd79dada",
            "9f5b2f48104f44f2bfc5c9e9e74cfa83",
            "32bceaa951a44732a1e9e3ad71b3594e",
            "26cab0eb010f4460a723887022b544cb",
            "24d96c2ed4ec4cc499ba5cd00dd03698",
            "0aceaa6d1d8541d8b50e5f86acaa0c1f",
            "c09a9987f23c44d59f65694d67740c76",
            "3e94621190d54205b4198c282729750e",
            "d29c971382d9462c9488f719f07a984f",
            "20cf9a6630f2421eaba68fa615e5e874",
            "c0a8f239dcbe48ef8671b3c4a2d3e719",
            "b162a2fd56454d82908cfdfa47898637",
            "5fed331de1a5468c94677ae7f6be2d01",
            "be8892bb8f1b472d802c5d4dc1740431",
            "80fd6f057f91438ca4d4f0c3d02c0ef3",
            "b6499839f55b421cb603f1ea5d3d8553",
            "e732a8f2059744b2801b856e24f07598",
            "60e256945ba94686a28290b16764b1ff",
            "cb642f630acf4664a044c47a273fdbcf",
            "cf8cecbdc705464ca98d30c467a7cb8e",
            "5b524311d7ed4551bac814fcf346e9df"
          ]
        },
        "outputId": "e920dd56-d863-4351-d8b0-c359a26b0d93"
      },
      "outputs": [
        {
          "output_type": "stream",
          "name": "stdout",
          "text": [
            "Downloading http://yann.lecun.com/exdb/mnist/train-images-idx3-ubyte.gz\n",
            "Downloading http://yann.lecun.com/exdb/mnist/train-images-idx3-ubyte.gz to ./MNIST/raw/train-images-idx3-ubyte.gz\n"
          ]
        },
        {
          "output_type": "display_data",
          "data": {
            "application/vnd.jupyter.widget-view+json": {
              "model_id": "10244aa9b0964755a50007521350fcc7",
              "version_minor": 0,
              "version_major": 2
            },
            "text/plain": [
              "  0%|          | 0/9912422 [00:00<?, ?it/s]"
            ]
          },
          "metadata": {}
        },
        {
          "output_type": "stream",
          "name": "stdout",
          "text": [
            "Extracting ./MNIST/raw/train-images-idx3-ubyte.gz to ./MNIST/raw\n",
            "\n",
            "Downloading http://yann.lecun.com/exdb/mnist/train-labels-idx1-ubyte.gz\n",
            "Downloading http://yann.lecun.com/exdb/mnist/train-labels-idx1-ubyte.gz to ./MNIST/raw/train-labels-idx1-ubyte.gz\n"
          ]
        },
        {
          "output_type": "display_data",
          "data": {
            "application/vnd.jupyter.widget-view+json": {
              "model_id": "552e815db0cb4594b0aeb78a399564f7",
              "version_minor": 0,
              "version_major": 2
            },
            "text/plain": [
              "  0%|          | 0/28881 [00:00<?, ?it/s]"
            ]
          },
          "metadata": {}
        },
        {
          "output_type": "stream",
          "name": "stdout",
          "text": [
            "Extracting ./MNIST/raw/train-labels-idx1-ubyte.gz to ./MNIST/raw\n",
            "\n",
            "Downloading http://yann.lecun.com/exdb/mnist/t10k-images-idx3-ubyte.gz\n",
            "Downloading http://yann.lecun.com/exdb/mnist/t10k-images-idx3-ubyte.gz to ./MNIST/raw/t10k-images-idx3-ubyte.gz\n"
          ]
        },
        {
          "output_type": "display_data",
          "data": {
            "application/vnd.jupyter.widget-view+json": {
              "model_id": "a5b3b3e26526423aad3ed3ffe45ddcda",
              "version_minor": 0,
              "version_major": 2
            },
            "text/plain": [
              "  0%|          | 0/1648877 [00:00<?, ?it/s]"
            ]
          },
          "metadata": {}
        },
        {
          "output_type": "stream",
          "name": "stdout",
          "text": [
            "Extracting ./MNIST/raw/t10k-images-idx3-ubyte.gz to ./MNIST/raw\n",
            "\n",
            "Downloading http://yann.lecun.com/exdb/mnist/t10k-labels-idx1-ubyte.gz\n",
            "Downloading http://yann.lecun.com/exdb/mnist/t10k-labels-idx1-ubyte.gz to ./MNIST/raw/t10k-labels-idx1-ubyte.gz\n"
          ]
        },
        {
          "output_type": "display_data",
          "data": {
            "application/vnd.jupyter.widget-view+json": {
              "model_id": "c0a8f239dcbe48ef8671b3c4a2d3e719",
              "version_minor": 0,
              "version_major": 2
            },
            "text/plain": [
              "  0%|          | 0/4542 [00:00<?, ?it/s]"
            ]
          },
          "metadata": {}
        },
        {
          "output_type": "stream",
          "name": "stdout",
          "text": [
            "Extracting ./MNIST/raw/t10k-labels-idx1-ubyte.gz to ./MNIST/raw\n",
            "\n"
          ]
        }
      ],
      "source": [
        "# Downloading the data from  as train and test\n",
        "\n",
        "train = datasets.MNIST(root = './',train = True,download=True,transform=transforms.Compose([transforms.ToTensor(),\n",
        "                                                                                            transforms.Normalize((0.13066062331199646,),(0.30810776352882385,)),\n",
        "                                                                                            transforms.RandomRotation((-7,7) ,fill = 0.13066062331199646)\n",
        "                                                                                            ])) \n",
        "test = datasets.MNIST(root = './',train = False,download=True,transform=transforms.Compose([transforms.ToTensor(),\n",
        "                                                                                            transforms.Normalize((0.13066062331199646,),(0.30810776352882385,))                                                                                            \n",
        "                                                                                            ])) "
      ]
    },
    {
      "cell_type": "code",
      "execution_count": 10,
      "metadata": {
        "colab": {
          "base_uri": "https://localhost:8080/"
        },
        "id": "XsWzEsh8RHZg",
        "outputId": "8002d3a0-dd25-4a76-f5d5-afbc2bc5a8c6"
      },
      "outputs": [
        {
          "output_type": "execute_result",
          "data": {
            "text/plain": [
              "torch.Size([1, 28, 28])"
            ]
          },
          "metadata": {},
          "execution_count": 10
        }
      ],
      "source": [
        "#Checking the data \n",
        "next(iter(train))[0].shape\n",
        "im1 = next(iter(train))[0].reshape(-1,28)"
      ]
    },
    {
      "cell_type": "code",
      "execution_count": 11,
      "metadata": {
        "colab": {
          "base_uri": "https://localhost:8080/",
          "height": 298
        },
        "id": "xe8USBb7T64u",
        "outputId": "fe494daf-c9ef-49ac-bbfa-9ec8eb248886"
      },
      "outputs": [
        {
          "output_type": "execute_result",
          "data": {
            "text/plain": [
              "Text(0.5, 1.0, '5')"
            ]
          },
          "metadata": {},
          "execution_count": 11
        },
        {
          "output_type": "display_data",
          "data": {
            "image/png": "[encoded data removed]",
            "text/plain": [
              "<Figure size 432x288 with 1 Axes>"
            ]
          },
          "metadata": {
            "needs_background": "light"
          }
        }
      ],
      "source": [
        "_ = plt.imshow(im1)\n",
        "plt.title(next(iter(train))[1])"
      ]
    },
    {
      "cell_type": "code",
      "execution_count": 12,
      "metadata": {
        "id": "obWDttbTWL7z"
      },
      "outputs": [],
      "source": [
        "# I want o Go with the batch size 64 here . Because of the below reseach paper:\n",
        "#It is a subjective matter (depends on the kind of problem we are solving )\n",
        "batch_size = 64"
      ]
    },
    {
      "cell_type": "code",
      "execution_count": 13,
      "metadata": {
        "id": "JUq7xspIWQ6T"
      },
      "outputs": [],
      "source": [
        "#Checking if cuda (GPU ) is availabe them we want to add 4 workers to it\n",
        "args = {'pin_memory':True,'num_workers':4} if torch.cuda.is_available() else {}"
      ]
    },
    {
      "cell_type": "code",
      "execution_count": 14,
      "metadata": {
        "id": "GZyiBixSTRP7"
      },
      "outputs": [],
      "source": [
        "#Creating Dataloader loader \n",
        "train_loader = DataLoader(train,batch_size=batch_size,shuffle = True,**args)\n",
        "test_loader = DataLoader(test,batch_size=batch_size,**args)"
      ]
    },
    {
      "cell_type": "code",
      "source": [
        "### EDA of DATA to find mean and std for normalization"
      ],
      "metadata": {
        "id": "-SGXgqH1hdW5"
      },
      "execution_count": 15,
      "outputs": []
    },
    {
      "cell_type": "code",
      "source": [
        "f'Mean: {np.array(train.train_data/255).mean()} Std: {np.array(train.train_data/255).std()}'\n"
      ],
      "metadata": {
        "colab": {
          "base_uri": "https://localhost:8080/",
          "height": 38
        },
        "id": "7ux8u9mBtoev",
        "outputId": "a3958004-47b9-4c73-c672-65f3fcba58fa"
      },
      "execution_count": 16,
      "outputs": [
        {
          "output_type": "execute_result",
          "data": {
            "application/vnd.google.colaboratory.intrinsic+json": {
              "type": "string"
            },
            "text/plain": [
              "'Mean: 0.13066062331199646 Std: 0.30810776352882385'"
            ]
          },
          "metadata": {},
          "execution_count": 16
        }
      ]
    },
    {
      "cell_type": "code",
      "source": [
        "#Hear we Go to build a model "
      ],
      "metadata": {
        "id": "cMcYmgVVWwbd"
      },
      "execution_count": 17,
      "outputs": []
    },
    {
      "cell_type": "code",
      "source": [
        "from torch.nn.modules.batchnorm import BatchNorm2d\n",
        "class Mnist_net(nn.Module):\n",
        "    def __init__(self):\n",
        "        super(Mnist_net,self).__init__()\n",
        "        self.drop_val =0.1\n",
        "\n",
        "        self.conv_block1 = nn.Sequential(\n",
        "                    nn.Conv2d(in_channels = 1,out_channels = 4,kernel_size = (3,3),stride = 1,padding = 1,bias = False ),\n",
        "                    nn.ReLU( ) ,\n",
        "                    nn.BatchNorm2d(num_features = 4),\n",
        "                    nn.Dropout(self.drop_val)\n",
        "        )\n",
        "\n",
        "        self.conv_block1_1 = nn.Sequential(\n",
        "                    nn.Conv2d(in_channels = 4,out_channels = 8,kernel_size =(3,3),stride = 1,padding = 0,bias = False ),\n",
        "                    nn.ReLU( ) ,\n",
        "                    nn.BatchNorm2d(num_features = 8),\n",
        "                    nn.Dropout(self.drop_val)\n",
        "        )\n",
        "\n",
        "        self.conv_block2 = nn.Sequential(\n",
        "                    nn.Conv2d(in_channels = 8,out_channels =16 ,kernel_size = (3,3),stride = 1,padding = 0,bias = False ),\n",
        "                    nn.ReLU( ) ,\n",
        "                    nn.BatchNorm2d(num_features = 16),\n",
        "                    nn.Dropout(self.drop_val)\n",
        "        )\n",
        "\n",
        "        self.conv_block3 = nn.Sequential(\n",
        "                    nn.Conv2d(in_channels = 16,out_channels =8 ,kernel_size = (1,1) ,stride = 1,padding = 0,bias = False ),\n",
        "                    nn.ReLU( ) ,\n",
        "                    nn.BatchNorm2d(num_features = 8),\n",
        "                    nn.Dropout(self.drop_val)\n",
        "        )\n",
        "\n",
        "\n",
        "        self.Pooling1 = nn.MaxPool2d(kernel_size = 2,stride = 2 )\n",
        "\n",
        "\n",
        "        self.conv_block4 = nn.Sequential(\n",
        "                    nn.Conv2d(in_channels = 8,out_channels =10 ,kernel_size = 3,stride = 1,padding = 0,bias = False ),\n",
        "                    nn.ReLU( ) ,\n",
        "                    nn.BatchNorm2d(num_features = 10),\n",
        "                    nn.Dropout(self.drop_val)\n",
        "        )\n",
        "\n",
        "        self.conv_block5= nn.Sequential(\n",
        "                    nn.Conv2d(in_channels = 10,out_channels =10 ,kernel_size = 3,stride = 1,padding = 0,bias = False ),\n",
        "                    nn.ReLU( ) ,\n",
        "                    nn.BatchNorm2d(num_features = 10),\n",
        "                    nn.Dropout(self.drop_val)\n",
        "        )\n",
        "\n",
        "        self.conv_block6 = nn.Sequential(\n",
        "                    nn.Conv2d(in_channels = 10,out_channels =15 ,kernel_size = 3,stride = 1,padding = 0,bias = False ),\n",
        "                    # nn.ReLU( ) ,\n",
        "                    # nn.BatchNorm2d(num_features = 18),\n",
        "                    # nn.Dropout(self.drop_val)\n",
        "        )\n",
        "\n",
        "        # self.Pooling2 = nn.MaxPool2d(kernel_size = 2,stride = 2 )\n",
        "        self.gap = nn.AvgPool2d(kernel_size=5)\n",
        "        self.fc1 = nn.Linear(in_features = 15,out_features = 10)\n",
        "\n",
        "        # self.conv_block7 = nn.Sequential(\n",
        "        #             nn.Conv2d(in_channels = 18,out_channels =20 ,kernel_size = 3,stride = 1,padding = 0,bias = False ),\n",
        "        #             nn.ReLU( ) ,\n",
        "        #             nn.BatchNorm2d(num_features = 20),\n",
        "        #             nn.Dropout(self.drop_val)\n",
        "        # )\n",
        "\n",
        "        # self.conv_block8 = nn.Sequential(\n",
        "        # nn.Conv2d(in_channels = 20  ,out_channels =10 ,kernel_size = 3,stride = 1,padding = 0,bias = False )\n",
        "        # )\n",
        "\n",
        "\n",
        "    def forward(self,x):\n",
        "        x = self.conv_block1(x) #1\n",
        "        x = self.conv_block1_1(x)\n",
        "        x = self.conv_block2(x) #2\n",
        "        x = self.conv_block3(x) #3\n",
        "        x = self.Pooling1(x) #\n",
        "        x = self.conv_block4(x) #4\n",
        "        x = self.conv_block5(x) #5\n",
        "        x = self.conv_block6(x) #6\n",
        "        # x = self.Pooling2(x)\n",
        "        # x = self.conv_block7(x) #7\n",
        "        # x = self.conv_block8(x)\n",
        "        x = self.gap(x)\n",
        "        x =x.view(-1,15)\n",
        "        x = self.fc1(x)\n",
        "\n",
        "        x=f.log_softmax(x)\n",
        "        return x\n"
      ],
      "metadata": {
        "id": "rfUXjo4mVX_6"
      },
      "execution_count": 18,
      "outputs": []
    },
    {
      "cell_type": "code",
      "source": [
        "# tried those below models aswell ( But just to get the stracture ready)"
      ],
      "metadata": {
        "id": "OJD0IpFTW0Gg"
      },
      "execution_count": 19,
      "outputs": []
    },
    {
      "cell_type": "code",
      "source": [
        "# dropout_value = 0.03\n",
        "# class Mnist_net(nn.Module):\n",
        "#     def __init__(self):\n",
        "#         super(Mnist_net, self).__init__()\n",
        "#         # Input Block\n",
        "#         self.convblock1 = nn.Sequential(\n",
        "#             nn.Conv2d(in_channels=1, out_channels=10, kernel_size=(3, 3), padding=0, bias=False),\n",
        "#             nn.BatchNorm2d(10),\n",
        "#             nn.ReLU(),\n",
        "#             nn.Dropout(dropout_value)\n",
        "#         ) # input_size = 28 output_size = 26 receptive_field = 3\n",
        "\n",
        "#         # CONVOLUTION BLOCK 1\n",
        "#         self.convblock2 = nn.Sequential(\n",
        "#             nn.Conv2d(in_channels=10, out_channels=10, kernel_size=(3, 3), padding=0, bias=False),\n",
        "#             nn.BatchNorm2d(10),\n",
        "#             nn.ReLU(),\n",
        "#             nn.Dropout(dropout_value)\n",
        "#         ) # input_size = 26 output_size = 24 receptive_field = 5\n",
        "#         self.convblock3 = nn.Sequential(\n",
        "#             nn.Conv2d(in_channels=10, out_channels=15, kernel_size=(3, 3), padding=0, bias=False),\n",
        "#             nn.BatchNorm2d(15),\n",
        "#             nn.ReLU(),\n",
        "#             nn.Dropout(dropout_value)\n",
        "#         ) # input_size = 24 output_size = 22 receptive_field = 7\n",
        "\n",
        "#         # TRANSITION BLOCK 1\n",
        "#         self.pool1 = nn.MaxPool2d(2, 2) # input_size = 22 output_size = 11 receptive_field = 9\n",
        "        \n",
        "#         self.convblock4 = nn.Sequential(\n",
        "#             nn.Conv2d(in_channels=15, out_channels=10, kernel_size=(1, 1), padding=0, bias=False),\n",
        "#             nn.BatchNorm2d(10),\n",
        "#             nn.ReLU(),\n",
        "#             nn.Dropout(dropout_value)\n",
        "#         ) # input_size = 11 output_size = 11 receptive_field = 9\n",
        "\n",
        "#         # CONVOLUTION BLOCK 2\n",
        "#         self.convblock5 = nn.Sequential(\n",
        "#             nn.Conv2d(in_channels=10, out_channels=10, kernel_size=(3, 3), padding=0, bias=False),\n",
        "#             nn.BatchNorm2d(10),\n",
        "#             nn.ReLU(),\n",
        "#             nn.Dropout(dropout_value)\n",
        "#         ) # input_size = 11 output_size = 9 receptive_field = 13\n",
        "#         self.convblock6 = nn.Sequential(\n",
        "#             nn.Conv2d(in_channels=10, out_channels=10, kernel_size=(3, 3), padding=0, bias=False),\n",
        "#             nn.BatchNorm2d(10),\n",
        "#             nn.ReLU(),\n",
        "#             nn.Dropout(dropout_value)\n",
        "#         ) # input_size = 9 output_size = 7 receptive_field = 17\n",
        "#         self.convblock7 = nn.Sequential(\n",
        "#             nn.Conv2d(in_channels=10, out_channels=10, kernel_size=(3, 3), padding=0, bias=False),\n",
        "#             nn.BatchNorm2d(10),\n",
        "#             nn.ReLU(),\n",
        "#             nn.Dropout(dropout_value)\n",
        "#         ) # input_size = 7 output_size = 5 receptive_field = 21\n",
        "#         # OUTPUT BLOCK\n",
        "#         self.convblock8 = nn.Sequential(\n",
        "#             nn.Conv2d(in_channels=10, out_channels=10, kernel_size=(5, 5), padding=0, bias=False),\n",
        "#         ) # input_size = 5 output_size = 1  receptive_field = 29\n",
        "        \n",
        "\n",
        "#     def forward(self, x):\n",
        "#         x = self.convblock1(x)\n",
        "#         x = self.convblock2(x)\n",
        "#         x = self.convblock3(x)\n",
        "#         x = self.pool1(x)\n",
        "#         x = self.convblock4(x)\n",
        "#         x = self.convblock5(x)\n",
        "#         x = self.convblock6(x)\n",
        "#         x = self.convblock7(x)\n",
        "#         x = self.convblock8(x)\n",
        "        \n",
        "#         x = x.view(-1, 10)\n",
        "#         return F.log_softmax(x, dim=-1)"
      ],
      "metadata": {
        "id": "YCDhK-QoLpWI"
      },
      "execution_count": 20,
      "outputs": []
    },
    {
      "cell_type": "code",
      "execution_count": 21,
      "metadata": {
        "id": "bk5aVyAv-oSe"
      },
      "outputs": [],
      "source": [
        "# from torch.nn.modules.batchnorm import BatchNorm2d\n",
        "# class Mnist_net(nn.Module):\n",
        "#     def __init__(self):\n",
        "#         super(Mnist_net,self).__init__()\n",
        "#         self.drop_val =0.001\n",
        "#         self.conv_block1 = nn.Sequential(\n",
        "#             nn.Conv2d(in_channels = 1,out_channels = 8,kernel_size = 3,stride = 1,padding = 1,bias = False ),\n",
        "#             nn.ReLU( ) ,\n",
        "#             nn.BatchNorm2d(num_features = 8),\n",
        "#             nn.Dropout(self.drop_val)\n",
        "#         )\n",
        "\n",
        "#         self.conv_block2 = nn.Sequential(\n",
        "#             nn.Conv2d(in_channels = 8,out_channels =10 ,kernel_size = 3,stride = 1,padding = 1,bias = False ),\n",
        "#             nn.ReLU( ) ,\n",
        "#             nn.BatchNorm2d(num_features = 10),\n",
        "#             nn.Dropout(self.drop_val)\n",
        "#         )\n",
        "        \n",
        "#         self.conv_block3 = nn.Sequential(\n",
        "#             nn.Conv2d(in_channels = 10,out_channels =12 ,kernel_size = 3,stride = 1,padding = 1,bias = False ),\n",
        "#             nn.ReLU( ) ,\n",
        "#             nn.BatchNorm2d(num_features = 12),\n",
        "#             nn.Dropout(self.drop_val)\n",
        "#         )\n",
        "\n",
        "\n",
        "#         self.Pooling1 = nn.MaxPool2d(kernel_size = 2,stride = 2 )\n",
        "\n",
        "#         self.conv_block4 = nn.Sequential(\n",
        "#             nn.Conv2d(in_channels = 12,out_channels =16 ,kernel_size = 1,stride = 1,padding = 0,bias = False ),\n",
        "#             nn.ReLU( ) ,\n",
        "#             nn.BatchNorm2d(num_features = 16),\n",
        "#             nn.Dropout(self.drop_val)\n",
        "#         )\n",
        "\n",
        "#         self.conv_block5= nn.Sequential(\n",
        "#             nn.Conv2d(in_channels = 16,out_channels =18 ,kernel_size = 3,stride = 1,padding = 0,bias = False ),\n",
        "#             nn.ReLU( ) ,\n",
        "#             nn.BatchNorm2d(num_features = 18),\n",
        "#             nn.Dropout(self.drop_val)\n",
        "#         )\n",
        "\n",
        "#         self.conv_block6 = nn.Sequential(\n",
        "#             nn.Conv2d(in_channels = 18,out_channels =20 ,kernel_size = 3,stride = 1,padding = 0,bias = False ),\n",
        "#             nn.ReLU( ) ,\n",
        "#             nn.BatchNorm2d(num_features = 20),\n",
        "#             nn.Dropout(self.drop_val)\n",
        "#         )\n",
        "\n",
        "#         self.Pooling2 = nn.MaxPool2d(kernel_size = 2,stride = 2 )\n",
        "\n",
        "#         self.conv_block7 = nn.Sequential(\n",
        "#             nn.Conv2d(in_channels = 20,out_channels =24 ,kernel_size = 3,stride = 1,padding = 0,bias = False ),\n",
        "#             nn.ReLU( ) ,\n",
        "#             nn.BatchNorm2d(num_features = 24),\n",
        "#             nn.Dropout(self.drop_val)\n",
        "#         )\n",
        "#         self.conv_block8 = nn.Sequential(\n",
        "#             nn.Conv2d(in_channels = 24  ,out_channels =10 ,kernel_size = 3,stride = 1,padding = 0,bias = False )\n",
        "#         )\n",
        "\n",
        "#         # self.Gap = nn.AvgPool2d(kernel_size = 3,stride = 1)\n",
        "\n",
        "#     def forward(self,x):\n",
        "#         x = self.conv_block1(x) #1\n",
        "#         x = self.conv_block2(x) #2\n",
        "#         x = self.conv_block3(x) #3\n",
        "#         x = self.Pooling1(x) #\n",
        "#         x = self.conv_block4(x) #4\n",
        "#         x = self.conv_block5(x) #5\n",
        "#         x = self.conv_block6(x) #6\n",
        "#         x = self.Pooling2(x)\n",
        "#         x = self.conv_block7(x) #7\n",
        "#         x = self.conv_block8(x)\n",
        "#         # x = self.Gap(x)\n",
        "#         x =x.view(-1,10)\n",
        "#         x=f.log_softmax(x)\n",
        "#         return x\n"
      ]
    },
    {
      "cell_type": "code",
      "execution_count": 22,
      "metadata": {
        "id": "KmWBGXMB-nqS",
        "colab": {
          "base_uri": "https://localhost:8080/"
        },
        "outputId": "ab2a23fc-67d2-4a8e-923b-4729d70aeee1"
      },
      "outputs": [
        {
          "output_type": "stream",
          "name": "stdout",
          "text": [
            "running on cuda\n"
          ]
        }
      ],
      "source": [
        "#Checking Device \n",
        "device = \"cuda\" if torch.cuda.is_available() else \"cpu\"\n",
        "print (f'running on {device}')\n",
        "model = Mnist_net().to(device)"
      ]
    },
    {
      "cell_type": "code",
      "execution_count": 23,
      "metadata": {
        "id": "iEVqBLGfd6KE"
      },
      "outputs": [],
      "source": [
        "# # # This is a Try\n",
        "\n",
        "# for data,target in train_loader:\n",
        "#     data,target = data.to(device),target.to(device)\n",
        "#     break\n",
        "# # data1 = data[0]\n",
        "# # data1 = data1.reshape(-1,1,28,28)\n",
        "# # im = model.forward(data)\n",
        "# # # plt.imshow(data1.reshape(28,28))\n",
        "# # im.shape\n",
        "# # im.view(-1,10)\n",
        "# # target[5]\n",
        "# # im[0].reshape(-1,10)\n",
        "# summary(model,(1,28,28),)"
      ]
    },
    {
      "cell_type": "code",
      "source": [
        "summary(model,(1,28,28))"
      ],
      "metadata": {
        "colab": {
          "base_uri": "https://localhost:8080/"
        },
        "id": "GKFqJeyXXTVM",
        "outputId": "1e681a19-b112-42e6-8b27-21d081e28f12"
      },
      "execution_count": 24,
      "outputs": [
        {
          "output_type": "stream",
          "name": "stdout",
          "text": [
            "----------------------------------------------------------------\n",
            "        Layer (type)               Output Shape         Param #\n",
            "================================================================\n",
            "            Conv2d-1            [-1, 4, 28, 28]              36\n",
            "              ReLU-2            [-1, 4, 28, 28]               0\n",
            "       BatchNorm2d-3            [-1, 4, 28, 28]               8\n",
            "           Dropout-4            [-1, 4, 28, 28]               0\n",
            "            Conv2d-5            [-1, 8, 26, 26]             288\n",
            "              ReLU-6            [-1, 8, 26, 26]               0\n",
            "       BatchNorm2d-7            [-1, 8, 26, 26]              16\n",
            "           Dropout-8            [-1, 8, 26, 26]               0\n",
            "            Conv2d-9           [-1, 16, 24, 24]           1,152\n",
            "             ReLU-10           [-1, 16, 24, 24]               0\n",
            "      BatchNorm2d-11           [-1, 16, 24, 24]              32\n",
            "          Dropout-12           [-1, 16, 24, 24]               0\n",
            "           Conv2d-13            [-1, 8, 24, 24]             128\n",
            "             ReLU-14            [-1, 8, 24, 24]               0\n",
            "      BatchNorm2d-15            [-1, 8, 24, 24]              16\n",
            "          Dropout-16            [-1, 8, 24, 24]               0\n",
            "        MaxPool2d-17            [-1, 8, 12, 12]               0\n",
            "           Conv2d-18           [-1, 10, 10, 10]             720\n",
            "             ReLU-19           [-1, 10, 10, 10]               0\n",
            "      BatchNorm2d-20           [-1, 10, 10, 10]              20\n",
            "          Dropout-21           [-1, 10, 10, 10]               0\n",
            "           Conv2d-22             [-1, 10, 8, 8]             900\n",
            "             ReLU-23             [-1, 10, 8, 8]               0\n",
            "      BatchNorm2d-24             [-1, 10, 8, 8]              20\n",
            "          Dropout-25             [-1, 10, 8, 8]               0\n",
            "           Conv2d-26             [-1, 15, 6, 6]           1,350\n",
            "        AvgPool2d-27             [-1, 15, 1, 1]               0\n",
            "           Linear-28                   [-1, 10]             160\n",
            "================================================================\n",
            "Total params: 4,846\n",
            "Trainable params: 4,846\n",
            "Non-trainable params: 0\n",
            "----------------------------------------------------------------\n",
            "Input size (MB): 0.00\n",
            "Forward/backward pass size (MB): 0.75\n",
            "Params size (MB): 0.02\n",
            "Estimated Total Size (MB): 0.77\n",
            "----------------------------------------------------------------\n"
          ]
        }
      ]
    },
    {
      "cell_type": "code",
      "execution_count": 25,
      "metadata": {
        "colab": {
          "base_uri": "https://localhost:8080/"
        },
        "id": "yc0kIxq4FkVp",
        "outputId": "d1188d6d-1088-4d79-8c82-5c3fe63b4b8f"
      },
      "outputs": [
        {
          "output_type": "stream",
          "name": "stdout",
          "text": [
            "=======================================Reciptive Field Calculator========================================\n",
            "|    | Kernel_size   | Padding   |   Stride | Input_Img_size   | Output_Img_size   | Receptive_field   |\n",
            "|---:|:--------------|:----------|---------:|:-----------------|:------------------|:------------------|\n",
            "|  0 | 3*3           | 1         |        1 | 28*28            | 28*28             | 3*3               |\n",
            "|  1 | 3*3           | NO        |        1 | 28*28            | 26*26             | 5*5               |\n",
            "|  2 | 3*3           | NO        |        1 | 26*26            | 24*24             | 7*7               |\n",
            "|  3 | 1*1           | NO        |        1 | 24*24            | 24*24             | 7*7               |\n",
            "|  4 | 2*2           | NO        |        2 | 24*24            | 12*12             | 8*8               |\n",
            "|  5 | 3*3           | NO        |        1 | 12*12            | 10*10             | 12*12             |\n",
            "|  6 | 3*3           | NO        |        1 | 10*10            | 8*8               | 16*16             |\n",
            "|  7 | 3*3           | NO        |        1 | 8*8              | 6*6               | 20*20             |\n",
            "=========================================================================================================\n"
          ]
        }
      ],
      "source": [
        " rf_df = receptive_field(model,28)"
      ]
    },
    {
      "cell_type": "code",
      "source": [
        "#Not Using stepLR yet \n",
        "from torch.optim.lr_scheduler import StepLR"
      ],
      "metadata": {
        "id": "SJecwbTZd2WT"
      },
      "execution_count": 26,
      "outputs": []
    },
    {
      "cell_type": "code",
      "execution_count": 27,
      "metadata": {
        "id": "9K5wQ8C3klmX"
      },
      "outputs": [],
      "source": [
        "parameters = model.parameters()\n",
        "optimizer = SGD( params = parameters,lr = 0.01,momentum = 0.9)\n",
        "scheduler = StepLR(optimizer,step_size = 6,gamma = 0.1)"
      ]
    },
    {
      "cell_type": "code",
      "execution_count": 28,
      "metadata": {
        "id": "5rfGAz-6qpCn"
      },
      "outputs": [],
      "source": [
        "# !pip install tqdm"
      ]
    },
    {
      "cell_type": "code",
      "execution_count": 29,
      "metadata": {
        "id": "anEhEO5kq9Hg"
      },
      "outputs": [],
      "source": [
        "from tqdm import tqdm"
      ]
    },
    {
      "cell_type": "code",
      "execution_count": 30,
      "metadata": {
        "id": "jE915BLywwtY",
        "cellView": "code"
      },
      "outputs": [],
      "source": [
        "#@title Default title text\n",
        "# # This is a Try\n",
        "\n",
        "# for data,target in train_loader:\n",
        "#     data,target = data.to(device),target.to(device)\n",
        "#     break\n",
        "# data1 = data[0]\n",
        "# data1 = data1.reshape(-1,1,28,28)\n",
        "# im = model.forward(data)\n",
        "# # plt.imshow(data1.reshape(28,28))\n",
        "# im.shape\n",
        "# im.view(-1,10)\n",
        "# target[5]\n",
        "# im[0].reshape(-1,10)\n",
        "# summary(model,(1,28,28))\n",
        "# im = model(data)\n",
        "# lo = f.nll_loss(im,target,reduction = 'sum')"
      ]
    },
    {
      "cell_type": "code",
      "execution_count": 31,
      "metadata": {
        "id": "kjtTDqN9YHPN"
      },
      "outputs": [],
      "source": [
        "#Train / test function \n",
        "# Also a Miss classification functionto do data visualization \n",
        "def trainning(model,device,train_data,optimizer,epochs):\n",
        "    model.train()\n",
        "    pbar = tqdm(train_loader)\n",
        "    acc_train = []\n",
        "    correct = 0\n",
        "    for index_id,(data,target) in enumerate(pbar):\n",
        "        data,target = data.to(device),target.to(device)\n",
        "        optimizer.zero_grad()\n",
        "        output = model(data)\n",
        "        loss = f.nll_loss(output,target)\n",
        "        loss.backward()\n",
        "        optimizer.step()\n",
        "        correct += output.argmax(dim = 1).eq(target).sum().item()\n",
        "        \n",
        "        pbar.set_description(f\"Epochs: {epochs} Batch:  {index_id} loss: {loss} Accuracy: {correct /len(train_loader.dataset) *100 :.2f}% \")\n",
        "\n",
        "\n",
        "l=[]\n",
        "acc = []\n",
        "def testing(model,device,test_data,optimizer,epochs):\n",
        "    model.eval()\n",
        "    test_loss = 0\n",
        "    correct = 0\n",
        "\n",
        "    with torch.no_grad():\n",
        "        for id_x,(data,target) in enumerate(test_loader):\n",
        "            data,target = data.to(device),target.to(device)\n",
        "            output = model(data)\n",
        "            test_loss += f.nll_loss(output,target,reduce='mean').item()\n",
        "            pred  = output.argmax(dim =1,keepdim = True)\n",
        "            correct += pred.eq(target.view_as(pred)).sum().item()\n",
        "            # print_wrong_image(output,target,data)\n",
        "    test_loss /= len(test_loader.dataset)\n",
        "\n",
        "    print('\\nTest set: Average loss: {:.4f}, Accuracy: {}/{} ({:.6f}%)\\n'.format(\n",
        "        test_loss, correct, len(test_loader.dataset),\n",
        "        100. * correct / len(test_loader.dataset)))\n",
        "    l.append(test_loss)\n",
        "    acc.append(100. * correct / len(test_loader.dataset))\n",
        "\n",
        "def print_wrong_image(model,device,data,label,n_images):\n",
        "    if n_images >= 10:\n",
        "        n_images = 10\n",
        "    \n",
        "    out = model((data/255).to(torch.float32).reshape(-1,1,28,28).to(device))\n",
        "    wrong_idx = (out.to(device).argmax(dim = 1).eq(label.to(device)) ==False).nonzero()\n",
        "    label = label.to('cpu')\n",
        "    img_data = (data/255).to(torch.float32).to('cpu')\n",
        "    wrong_idx = wrong_idx.to('cpu').squeeze()\n",
        "    # print (wrong_idx.shape)\n",
        "    # wrong_idx\n",
        "    np.random.shuffle(wrong_idx.numpy())\n",
        "    fig = plt.figure(figsize=(20,30))\n",
        "    count = 1\n",
        "    for image_index in wrong_idx:\n",
        "        n= image_index\n",
        "        ax = fig.add_subplot(1,10,count)\n",
        "        _=plt.imshow((img_data[n].reshape(28,28).to('cpu')))\n",
        "        _=plt.title(f\"idx:{n }\")\n",
        "        _=plt.xlabel(f\"Act:{label[n].item()} \")\n",
        "        _=plt.ylabel(f\"Pred: {out.argmax(dim = 1)[n].item()} \")\n",
        "        _ = plt.autoscale()\n",
        "        fig.tight_layout(pad = 1.0)\n",
        "        count+= 1\n",
        "        if count==11:\n",
        "            break"
      ]
    },
    {
      "cell_type": "code",
      "execution_count": 32,
      "metadata": {
        "colab": {
          "base_uri": "https://localhost:8080/"
        },
        "id": "n1d0r4IGoTZx",
        "outputId": "c500dc73-e1f7-44bb-d44b-4f656afc68a8"
      },
      "outputs": [
        {
          "output_type": "stream",
          "name": "stderr",
          "text": [
            "Epochs: 0 Batch:  937 loss: 0.12364272773265839 Accuracy: 88.74% : 100%|██████████| 938/938 [00:14<00:00, 65.50it/s]\n"
          ]
        },
        {
          "output_type": "stream",
          "name": "stdout",
          "text": [
            "\n",
            "Test set: Average loss: 0.0013, Accuracy: 9760/10000 (97.600000%)\n",
            "\n"
          ]
        },
        {
          "output_type": "stream",
          "name": "stderr",
          "text": [
            "Epochs: 1 Batch:  937 loss: 0.04685650393366814 Accuracy: 96.86% : 100%|██████████| 938/938 [00:13<00:00, 67.99it/s]\n"
          ]
        },
        {
          "output_type": "stream",
          "name": "stdout",
          "text": [
            "\n",
            "Test set: Average loss: 0.0008, Accuracy: 9832/10000 (98.320000%)\n",
            "\n"
          ]
        },
        {
          "output_type": "stream",
          "name": "stderr",
          "text": [
            "Epochs: 2 Batch:  937 loss: 0.028469841927289963 Accuracy: 97.46% : 100%|██████████| 938/938 [00:13<00:00, 67.49it/s]\n"
          ]
        },
        {
          "output_type": "stream",
          "name": "stdout",
          "text": [
            "\n",
            "Test set: Average loss: 0.0008, Accuracy: 9828/10000 (98.280000%)\n",
            "\n"
          ]
        },
        {
          "output_type": "stream",
          "name": "stderr",
          "text": [
            "Epochs: 3 Batch:  937 loss: 0.02415846660733223 Accuracy: 97.72% : 100%|██████████| 938/938 [00:15<00:00, 59.84it/s]\n"
          ]
        },
        {
          "output_type": "stream",
          "name": "stdout",
          "text": [
            "\n",
            "Test set: Average loss: 0.0007, Accuracy: 9854/10000 (98.540000%)\n",
            "\n"
          ]
        },
        {
          "output_type": "stream",
          "name": "stderr",
          "text": [
            "Epochs: 4 Batch:  937 loss: 0.1137993112206459 Accuracy: 97.96% : 100%|██████████| 938/938 [00:14<00:00, 63.36it/s]\n"
          ]
        },
        {
          "output_type": "stream",
          "name": "stdout",
          "text": [
            "\n",
            "Test set: Average loss: 0.0005, Accuracy: 9896/10000 (98.960000%)\n",
            "\n"
          ]
        },
        {
          "output_type": "stream",
          "name": "stderr",
          "text": [
            "Epochs: 5 Batch:  937 loss: 0.01467245165258646 Accuracy: 98.05% : 100%|██████████| 938/938 [00:14<00:00, 66.68it/s]\n"
          ]
        },
        {
          "output_type": "stream",
          "name": "stdout",
          "text": [
            "\n",
            "Test set: Average loss: 0.0005, Accuracy: 9886/10000 (98.860000%)\n",
            "\n"
          ]
        },
        {
          "output_type": "stream",
          "name": "stderr",
          "text": [
            "Epochs: 6 Batch:  937 loss: 0.026706507429480553 Accuracy: 98.20% : 100%|██████████| 938/938 [00:13<00:00, 67.94it/s]\n"
          ]
        },
        {
          "output_type": "stream",
          "name": "stdout",
          "text": [
            "\n",
            "Test set: Average loss: 0.0005, Accuracy: 9900/10000 (99.000000%)\n",
            "\n"
          ]
        },
        {
          "output_type": "stream",
          "name": "stderr",
          "text": [
            "Epochs: 7 Batch:  937 loss: 0.09425130486488342 Accuracy: 98.24% : 100%|██████████| 938/938 [00:13<00:00, 67.53it/s]\n"
          ]
        },
        {
          "output_type": "stream",
          "name": "stdout",
          "text": [
            "\n",
            "Test set: Average loss: 0.0005, Accuracy: 9907/10000 (99.070000%)\n",
            "\n"
          ]
        },
        {
          "output_type": "stream",
          "name": "stderr",
          "text": [
            "Epochs: 8 Batch:  937 loss: 0.058743663132190704 Accuracy: 98.31% : 100%|██████████| 938/938 [00:13<00:00, 67.53it/s]\n"
          ]
        },
        {
          "output_type": "stream",
          "name": "stdout",
          "text": [
            "\n",
            "Test set: Average loss: 0.0005, Accuracy: 9911/10000 (99.110000%)\n",
            "\n"
          ]
        },
        {
          "output_type": "stream",
          "name": "stderr",
          "text": [
            "Epochs: 9 Batch:  937 loss: 0.02051590010523796 Accuracy: 98.38% : 100%|██████████| 938/938 [00:14<00:00, 65.45it/s]\n"
          ]
        },
        {
          "output_type": "stream",
          "name": "stdout",
          "text": [
            "\n",
            "Test set: Average loss: 0.0005, Accuracy: 9913/10000 (99.130000%)\n",
            "\n"
          ]
        },
        {
          "output_type": "stream",
          "name": "stderr",
          "text": [
            "Epochs: 10 Batch:  937 loss: 0.32710278034210205 Accuracy: 98.36% : 100%|██████████| 938/938 [00:13<00:00, 68.00it/s]\n"
          ]
        },
        {
          "output_type": "stream",
          "name": "stdout",
          "text": [
            "\n",
            "Test set: Average loss: 0.0005, Accuracy: 9906/10000 (99.060000%)\n",
            "\n"
          ]
        },
        {
          "output_type": "stream",
          "name": "stderr",
          "text": [
            "Epochs: 11 Batch:  937 loss: 0.01143629290163517 Accuracy: 98.43% : 100%|██████████| 938/938 [00:13<00:00, 67.34it/s]\n"
          ]
        },
        {
          "output_type": "stream",
          "name": "stdout",
          "text": [
            "\n",
            "Test set: Average loss: 0.0004, Accuracy: 9914/10000 (99.140000%)\n",
            "\n"
          ]
        },
        {
          "output_type": "stream",
          "name": "stderr",
          "text": [
            "Epochs: 12 Batch:  937 loss: 0.05627843365073204 Accuracy: 98.54% : 100%|██████████| 938/938 [00:13<00:00, 67.27it/s]\n"
          ]
        },
        {
          "output_type": "stream",
          "name": "stdout",
          "text": [
            "\n",
            "Test set: Average loss: 0.0004, Accuracy: 9916/10000 (99.160000%)\n",
            "\n"
          ]
        },
        {
          "output_type": "stream",
          "name": "stderr",
          "text": [
            "Epochs: 13 Batch:  937 loss: 0.0321480855345726 Accuracy: 98.48% : 100%|██████████| 938/938 [00:13<00:00, 67.54it/s]\n"
          ]
        },
        {
          "output_type": "stream",
          "name": "stdout",
          "text": [
            "\n",
            "Test set: Average loss: 0.0004, Accuracy: 9916/10000 (99.160000%)\n",
            "\n"
          ]
        },
        {
          "output_type": "stream",
          "name": "stderr",
          "text": [
            "Epochs: 14 Batch:  937 loss: 0.012187724933028221 Accuracy: 98.49% : 100%|██████████| 938/938 [00:16<00:00, 56.66it/s]\n"
          ]
        },
        {
          "output_type": "stream",
          "name": "stdout",
          "text": [
            "\n",
            "Test set: Average loss: 0.0005, Accuracy: 9897/10000 (98.970000%)\n",
            "\n"
          ]
        },
        {
          "output_type": "stream",
          "name": "stderr",
          "text": [
            "Epochs: 15 Batch:  937 loss: 0.0018493940588086843 Accuracy: 98.51% : 100%|██████████| 938/938 [00:15<00:00, 61.96it/s]\n"
          ]
        },
        {
          "output_type": "stream",
          "name": "stdout",
          "text": [
            "\n",
            "Test set: Average loss: 0.0004, Accuracy: 9917/10000 (99.170000%)\n",
            "\n"
          ]
        },
        {
          "output_type": "stream",
          "name": "stderr",
          "text": [
            "Epochs: 16 Batch:  937 loss: 0.13607871532440186 Accuracy: 98.58% : 100%|██████████| 938/938 [00:15<00:00, 61.97it/s]\n"
          ]
        },
        {
          "output_type": "stream",
          "name": "stdout",
          "text": [
            "\n",
            "Test set: Average loss: 0.0004, Accuracy: 9918/10000 (99.180000%)\n",
            "\n"
          ]
        },
        {
          "output_type": "stream",
          "name": "stderr",
          "text": [
            "Epochs: 17 Batch:  937 loss: 0.10353759676218033 Accuracy: 98.54% : 100%|██████████| 938/938 [00:14<00:00, 66.20it/s]\n"
          ]
        },
        {
          "output_type": "stream",
          "name": "stdout",
          "text": [
            "\n",
            "Test set: Average loss: 0.0004, Accuracy: 9911/10000 (99.110000%)\n",
            "\n"
          ]
        },
        {
          "output_type": "stream",
          "name": "stderr",
          "text": [
            "Epochs: 18 Batch:  937 loss: 0.015000786632299423 Accuracy: 98.55% : 100%|██████████| 938/938 [00:14<00:00, 66.66it/s]\n"
          ]
        },
        {
          "output_type": "stream",
          "name": "stdout",
          "text": [
            "\n",
            "Test set: Average loss: 0.0004, Accuracy: 9913/10000 (99.130000%)\n",
            "\n"
          ]
        },
        {
          "output_type": "stream",
          "name": "stderr",
          "text": [
            "Epochs: 19 Batch:  937 loss: 0.013050878420472145 Accuracy: 98.54% : 100%|██████████| 938/938 [00:14<00:00, 66.78it/s]\n"
          ]
        },
        {
          "output_type": "stream",
          "name": "stdout",
          "text": [
            "\n",
            "Test set: Average loss: 0.0005, Accuracy: 9903/10000 (99.030000%)\n",
            "\n"
          ]
        }
      ],
      "source": [
        "#Starting with epochs\n",
        " \n",
        "for epochs in range(0,20):\n",
        "    trainning(model,device,train_loader,optimizer,epochs)\n",
        "    testing(model,device,test_loader,optimizer,epochs)"
      ]
    },
    {
      "cell_type": "code",
      "source": [
        "#Checking where we went wrong "
      ],
      "metadata": {
        "id": "771yKt1xXWgb"
      },
      "execution_count": 33,
      "outputs": []
    },
    {
      "cell_type": "code",
      "source": [
        "train_data = train.train_data\n",
        "train_labels = train.train_labels\n",
        "print_wrong_image(model,device,train_data,train_labels,10)"
      ],
      "metadata": {
        "colab": {
          "base_uri": "https://localhost:8080/",
          "height": 174
        },
        "id": "AzqHBsUZ4xST",
        "outputId": "6c9c184c-0192-4159-9d5d-8a0acdbcaf93"
      },
      "execution_count": 34,
      "outputs": [
        {
          "output_type": "display_data",
          "data": {
            "image/png": "[encoded data removed]",
            "text/plain": [
              "<Figure size 1440x2160 with 10 Axes>"
            ]
          },
          "metadata": {
            "needs_background": "light"
          }
        }
      ]
    },
    {
      "cell_type": "code",
      "source": [
        "test_data = test.test_data\n",
        "test_labels = test.test_labels\n",
        "print_wrong_image(model,device,test_data,test_labels,10)"
      ],
      "metadata": {
        "colab": {
          "base_uri": "https://localhost:8080/",
          "height": 174
        },
        "id": "u4oKP6-Z5qRe",
        "outputId": "cf58c372-206b-43cf-8fb1-1dc0634304a1"
      },
      "execution_count": 35,
      "outputs": [
        {
          "output_type": "display_data",
          "data": {
            "image/png": "[encoded data removed]",
            "text/plain": [
              "<Figure size 1440x2160 with 10 Axes>"
            ]
          },
          "metadata": {
            "needs_background": "light"
          }
        }
      ]
    },
    {
      "cell_type": "code",
      "source": [
        "#Saving the most precious Meney by clearning some GPU space   \n",
        "import torch, gc\n",
        "gc.collect()\n",
        "torch.cuda.empty_cache()"
      ],
      "metadata": {
        "colab": {
          "base_uri": "https://localhost:8080/"
        },
        "id": "p1zW2otw-cQt",
        "outputId": "a00bcab2-a6f3-4a56-a5c8-158fd2365b42"
      },
      "execution_count": 36,
      "outputs": [
        {
          "output_type": "execute_result",
          "data": {
            "text/plain": [
              "37839"
            ]
          },
          "metadata": {},
          "execution_count": 36
        }
      ]
    },
    {
      "cell_type": "code",
      "source": [
        ""
      ],
      "metadata": {
        "id": "WHJWzecvBvLR"
      },
      "execution_count": 36,
      "outputs": []
    }
  ],
  "metadata": {
    "colab": {
      "collapsed_sections": [],
      "name": "Mnist_try.ipynb",
      "provenance": [],
      "machine_shape": "hm",
      "authorship_tag": "ABX9TyPZgLK9K60v+4LuSu42YEi4",
      "include_colab_link": true
    },
    "kernelspec": {
      "display_name": "Python 3",
      "name": "python3"
    },
    "language_info": {
      "name": "python"
    },
    "accelerator": "GPU",
    "widgets": {
      "application/vnd.jupyter.widget-state+json": {
        "10244aa9b0964755a50007521350fcc7": {
          "model_module": "@jupyter-widgets/controls",
          "model_name": "HBoxModel",
          "model_module_version": "1.5.0",
          "state": {
            "_view_name": "HBoxView",
            "_dom_classes": [],
            "_model_name": "HBoxModel",
            "_view_module": "@jupyter-widgets/controls",
            "_model_module_version": "1.5.0",
            "_view_count": null,
            "_view_module_version": "1.5.0",
            "box_style": "",
            "layout": "IPY_MODEL_e34527bb763d40f187ef52dd3c11308a",
            "_model_module": "@jupyter-widgets/controls",
            "children": [
              "IPY_MODEL_ddfb0566a9df4ae580480330dad4242b",
              "IPY_MODEL_6702c33371b14c66bc7cf8fda0ecfdea",
              "IPY_MODEL_3af1095775ab42e4b3b3ea0bd173366e"
            ]
          }
        },
        "e34527bb763d40f187ef52dd3c11308a": {
          "model_module": "@jupyter-widgets/base",
          "model_name": "LayoutModel",
          "model_module_version": "1.2.0",
          "state": {
            "_view_name": "LayoutView",
            "grid_template_rows": null,
            "right": null,
            "justify_content": null,
            "_view_module": "@jupyter-widgets/base",
            "overflow": null,
            "_model_module_version": "1.2.0",
            "_view_count": null,
            "flex_flow": null,
            "width": null,
            "min_width": null,
            "border": null,
            "align_items": null,
            "bottom": null,
            "_model_module": "@jupyter-widgets/base",
            "top": null,
            "grid_column": null,
            "overflow_y": null,
            "overflow_x": null,
            "grid_auto_flow": null,
            "grid_area": null,
            "grid_template_columns": null,
            "flex": null,
            "_model_name": "LayoutModel",
            "justify_items": null,
            "grid_row": null,
            "max_height": null,
            "align_content": null,
            "visibility": null,
            "align_self": null,
            "height": null,
            "min_height": null,
            "padding": null,
            "grid_auto_rows": null,
            "grid_gap": null,
            "max_width": null,
            "order": null,
            "_view_module_version": "1.2.0",
            "grid_template_areas": null,
            "object_position": null,
            "object_fit": null,
            "grid_auto_columns": null,
            "margin": null,
            "display": null,
            "left": null
          }
        },
        "ddfb0566a9df4ae580480330dad4242b": {
          "model_module": "@jupyter-widgets/controls",
          "model_name": "HTMLModel",
          "model_module_version": "1.5.0",
          "state": {
            "_view_name": "HTMLView",
            "style": "IPY_MODEL_57ff72fc42e946458084d06eefe7f51d",
            "_dom_classes": [],
            "description": "",
            "_model_name": "HTMLModel",
            "placeholder": "​",
            "_view_module": "@jupyter-widgets/controls",
            "_model_module_version": "1.5.0",
            "value": "",
            "_view_count": null,
            "_view_module_version": "1.5.0",
            "description_tooltip": null,
            "_model_module": "@jupyter-widgets/controls",
            "layout": "IPY_MODEL_7c278cc75a5f46b9b1850d15d953e71b"
          }
        },
        "6702c33371b14c66bc7cf8fda0ecfdea": {
          "model_module": "@jupyter-widgets/controls",
          "model_name": "FloatProgressModel",
          "model_module_version": "1.5.0",
          "state": {
            "_view_name": "ProgressView",
            "style": "IPY_MODEL_e27f8f3896a341d8acaea7a01b7f221f",
            "_dom_classes": [],
            "description": "",
            "_model_name": "FloatProgressModel",
            "bar_style": "success",
            "max": 9912422,
            "_view_module": "@jupyter-widgets/controls",
            "_model_module_version": "1.5.0",
            "value": 9912422,
            "_view_count": null,
            "_view_module_version": "1.5.0",
            "orientation": "horizontal",
            "min": 0,
            "description_tooltip": null,
            "_model_module": "@jupyter-widgets/controls",
            "layout": "IPY_MODEL_f739eea93a4d4e1ab5c4f7ce8675bbdc"
          }
        },
        "3af1095775ab42e4b3b3ea0bd173366e": {
          "model_module": "@jupyter-widgets/controls",
          "model_name": "HTMLModel",
          "model_module_version": "1.5.0",
          "state": {
            "_view_name": "HTMLView",
            "style": "IPY_MODEL_b373953dd6124560bc35a9f89dc7c472",
            "_dom_classes": [],
            "description": "",
            "_model_name": "HTMLModel",
            "placeholder": "​",
            "_view_module": "@jupyter-widgets/controls",
            "_model_module_version": "1.5.0",
            "value": " 9913344/? [00:00&lt;00:00, 20891712.95it/s]",
            "_view_count": null,
            "_view_module_version": "1.5.0",
            "description_tooltip": null,
            "_model_module": "@jupyter-widgets/controls",
            "layout": "IPY_MODEL_8ba5f470ecf048e580bcdd40f2109170"
          }
        },
        "57ff72fc42e946458084d06eefe7f51d": {
          "model_module": "@jupyter-widgets/controls",
          "model_name": "DescriptionStyleModel",
          "model_module_version": "1.5.0",
          "state": {
            "_view_name": "StyleView",
            "_model_name": "DescriptionStyleModel",
            "description_width": "",
            "_view_module": "@jupyter-widgets/base",
            "_model_module_version": "1.5.0",
            "_view_count": null,
            "_view_module_version": "1.2.0",
            "_model_module": "@jupyter-widgets/controls"
          }
        },
        "7c278cc75a5f46b9b1850d15d953e71b": {
          "model_module": "@jupyter-widgets/base",
          "model_name": "LayoutModel",
          "model_module_version": "1.2.0",
          "state": {
            "_view_name": "LayoutView",
            "grid_template_rows": null,
            "right": null,
            "justify_content": null,
            "_view_module": "@jupyter-widgets/base",
            "overflow": null,
            "_model_module_version": "1.2.0",
            "_view_count": null,
            "flex_flow": null,
            "width": null,
            "min_width": null,
            "border": null,
            "align_items": null,
            "bottom": null,
            "_model_module": "@jupyter-widgets/base",
            "top": null,
            "grid_column": null,
            "overflow_y": null,
            "overflow_x": null,
            "grid_auto_flow": null,
            "grid_area": null,
            "grid_template_columns": null,
            "flex": null,
            "_model_name": "LayoutModel",
            "justify_items": null,
            "grid_row": null,
            "max_height": null,
            "align_content": null,
            "visibility": null,
            "align_self": null,
            "height": null,
            "min_height": null,
            "padding": null,
            "grid_auto_rows": null,
            "grid_gap": null,
            "max_width": null,
            "order": null,
            "_view_module_version": "1.2.0",
            "grid_template_areas": null,
            "object_position": null,
            "object_fit": null,
            "grid_auto_columns": null,
            "margin": null,
            "display": null,
            "left": null
          }
        },
        "e27f8f3896a341d8acaea7a01b7f221f": {
          "model_module": "@jupyter-widgets/controls",
          "model_name": "ProgressStyleModel",
          "model_module_version": "1.5.0",
          "state": {
            "_view_name": "StyleView",
            "_model_name": "ProgressStyleModel",
            "description_width": "",
            "_view_module": "@jupyter-widgets/base",
            "_model_module_version": "1.5.0",
            "_view_count": null,
            "_view_module_version": "1.2.0",
            "bar_color": null,
            "_model_module": "@jupyter-widgets/controls"
          }
        },
        "f739eea93a4d4e1ab5c4f7ce8675bbdc": {
          "model_module": "@jupyter-widgets/base",
          "model_name": "LayoutModel",
          "model_module_version": "1.2.0",
          "state": {
            "_view_name": "LayoutView",
            "grid_template_rows": null,
            "right": null,
            "justify_content": null,
            "_view_module": "@jupyter-widgets/base",
            "overflow": null,
            "_model_module_version": "1.2.0",
            "_view_count": null,
            "flex_flow": null,
            "width": null,
            "min_width": null,
            "border": null,
            "align_items": null,
            "bottom": null,
            "_model_module": "@jupyter-widgets/base",
            "top": null,
            "grid_column": null,
            "overflow_y": null,
            "overflow_x": null,
            "grid_auto_flow": null,
            "grid_area": null,
            "grid_template_columns": null,
            "flex": null,
            "_model_name": "LayoutModel",
            "justify_items": null,
            "grid_row": null,
            "max_height": null,
            "align_content": null,
            "visibility": null,
            "align_self": null,
            "height": null,
            "min_height": null,
            "padding": null,
            "grid_auto_rows": null,
            "grid_gap": null,
            "max_width": null,
            "order": null,
            "_view_module_version": "1.2.0",
            "grid_template_areas": null,
            "object_position": null,
            "object_fit": null,
            "grid_auto_columns": null,
            "margin": null,
            "display": null,
            "left": null
          }
        },
        "b373953dd6124560bc35a9f89dc7c472": {
          "model_module": "@jupyter-widgets/controls",
          "model_name": "DescriptionStyleModel",
          "model_module_version": "1.5.0",
          "state": {
            "_view_name": "StyleView",
            "_model_name": "DescriptionStyleModel",
            "description_width": "",
            "_view_module": "@jupyter-widgets/base",
            "_model_module_version": "1.5.0",
            "_view_count": null,
            "_view_module_version": "1.2.0",
            "_model_module": "@jupyter-widgets/controls"
          }
        },
        "8ba5f470ecf048e580bcdd40f2109170": {
          "model_module": "@jupyter-widgets/base",
          "model_name": "LayoutModel",
          "model_module_version": "1.2.0",
          "state": {
            "_view_name": "LayoutView",
            "grid_template_rows": null,
            "right": null,
            "justify_content": null,
            "_view_module": "@jupyter-widgets/base",
            "overflow": null,
            "_model_module_version": "1.2.0",
            "_view_count": null,
            "flex_flow": null,
            "width": null,
            "min_width": null,
            "border": null,
            "align_items": null,
            "bottom": null,
            "_model_module": "@jupyter-widgets/base",
            "top": null,
            "grid_column": null,
            "overflow_y": null,
            "overflow_x": null,
            "grid_auto_flow": null,
            "grid_area": null,
            "grid_template_columns": null,
            "flex": null,
            "_model_name": "LayoutModel",
            "justify_items": null,
            "grid_row": null,
            "max_height": null,
            "align_content": null,
            "visibility": null,
            "align_self": null,
            "height": null,
            "min_height": null,
            "padding": null,
            "grid_auto_rows": null,
            "grid_gap": null,
            "max_width": null,
            "order": null,
            "_view_module_version": "1.2.0",
            "grid_template_areas": null,
            "object_position": null,
            "object_fit": null,
            "grid_auto_columns": null,
            "margin": null,
            "display": null,
            "left": null
          }
        },
        "552e815db0cb4594b0aeb78a399564f7": {
          "model_module": "@jupyter-widgets/controls",
          "model_name": "HBoxModel",
          "model_module_version": "1.5.0",
          "state": {
            "_view_name": "HBoxView",
            "_dom_classes": [],
            "_model_name": "HBoxModel",
            "_view_module": "@jupyter-widgets/controls",
            "_model_module_version": "1.5.0",
            "_view_count": null,
            "_view_module_version": "1.5.0",
            "box_style": "",
            "layout": "IPY_MODEL_6a43d7a87d5746f4b4ac35dfec634467",
            "_model_module": "@jupyter-widgets/controls",
            "children": [
              "IPY_MODEL_f5a4a85350884e448e7d58c487bd74e7",
              "IPY_MODEL_caf4bcf3bc214c4aac447bf3d21e12af",
              "IPY_MODEL_d1c17481682442b3a965e05a9024aa8b"
            ]
          }
        },
        "6a43d7a87d5746f4b4ac35dfec634467": {
          "model_module": "@jupyter-widgets/base",
          "model_name": "LayoutModel",
          "model_module_version": "1.2.0",
          "state": {
            "_view_name": "LayoutView",
            "grid_template_rows": null,
            "right": null,
            "justify_content": null,
            "_view_module": "@jupyter-widgets/base",
            "overflow": null,
            "_model_module_version": "1.2.0",
            "_view_count": null,
            "flex_flow": null,
            "width": null,
            "min_width": null,
            "border": null,
            "align_items": null,
            "bottom": null,
            "_model_module": "@jupyter-widgets/base",
            "top": null,
            "grid_column": null,
            "overflow_y": null,
            "overflow_x": null,
            "grid_auto_flow": null,
            "grid_area": null,
            "grid_template_columns": null,
            "flex": null,
            "_model_name": "LayoutModel",
            "justify_items": null,
            "grid_row": null,
            "max_height": null,
            "align_content": null,
            "visibility": null,
            "align_self": null,
            "height": null,
            "min_height": null,
            "padding": null,
            "grid_auto_rows": null,
            "grid_gap": null,
            "max_width": null,
            "order": null,
            "_view_module_version": "1.2.0",
            "grid_template_areas": null,
            "object_position": null,
            "object_fit": null,
            "grid_auto_columns": null,
            "margin": null,
            "display": null,
            "left": null
          }
        },
        "f5a4a85350884e448e7d58c487bd74e7": {
          "model_module": "@jupyter-widgets/controls",
          "model_name": "HTMLModel",
          "model_module_version": "1.5.0",
          "state": {
            "_view_name": "HTMLView",
            "style": "IPY_MODEL_19bf2a2a5ef94b23b4ed2f3fb5542ee2",
            "_dom_classes": [],
            "description": "",
            "_model_name": "HTMLModel",
            "placeholder": "​",
            "_view_module": "@jupyter-widgets/controls",
            "_model_module_version": "1.5.0",
            "value": "",
            "_view_count": null,
            "_view_module_version": "1.5.0",
            "description_tooltip": null,
            "_model_module": "@jupyter-widgets/controls",
            "layout": "IPY_MODEL_272eda85e85a4ada908bd38e0e1bc069"
          }
        },
        "caf4bcf3bc214c4aac447bf3d21e12af": {
          "model_module": "@jupyter-widgets/controls",
          "model_name": "FloatProgressModel",
          "model_module_version": "1.5.0",
          "state": {
            "_view_name": "ProgressView",
            "style": "IPY_MODEL_0bd272e060a0497fb55adb22c888d598",
            "_dom_classes": [],
            "description": "",
            "_model_name": "FloatProgressModel",
            "bar_style": "success",
            "max": 28881,
            "_view_module": "@jupyter-widgets/controls",
            "_model_module_version": "1.5.0",
            "value": 28881,
            "_view_count": null,
            "_view_module_version": "1.5.0",
            "orientation": "horizontal",
            "min": 0,
            "description_tooltip": null,
            "_model_module": "@jupyter-widgets/controls",
            "layout": "IPY_MODEL_27898d07b50d4e92aa1eb79c693515dc"
          }
        },
        "d1c17481682442b3a965e05a9024aa8b": {
          "model_module": "@jupyter-widgets/controls",
          "model_name": "HTMLModel",
          "model_module_version": "1.5.0",
          "state": {
            "_view_name": "HTMLView",
            "style": "IPY_MODEL_e147cc7049ac43ccb164e917945258f7",
            "_dom_classes": [],
            "description": "",
            "_model_name": "HTMLModel",
            "placeholder": "​",
            "_view_module": "@jupyter-widgets/controls",
            "_model_module_version": "1.5.0",
            "value": " 29696/? [00:00&lt;00:00, 1032067.64it/s]",
            "_view_count": null,
            "_view_module_version": "1.5.0",
            "description_tooltip": null,
            "_model_module": "@jupyter-widgets/controls",
            "layout": "IPY_MODEL_366145fc5b3e407ea1ed6fde84f29484"
          }
        },
        "19bf2a2a5ef94b23b4ed2f3fb5542ee2": {
          "model_module": "@jupyter-widgets/controls",
          "model_name": "DescriptionStyleModel",
          "model_module_version": "1.5.0",
          "state": {
            "_view_name": "StyleView",
            "_model_name": "DescriptionStyleModel",
            "description_width": "",
            "_view_module": "@jupyter-widgets/base",
            "_model_module_version": "1.5.0",
            "_view_count": null,
            "_view_module_version": "1.2.0",
            "_model_module": "@jupyter-widgets/controls"
          }
        },
        "272eda85e85a4ada908bd38e0e1bc069": {
          "model_module": "@jupyter-widgets/base",
          "model_name": "LayoutModel",
          "model_module_version": "1.2.0",
          "state": {
            "_view_name": "LayoutView",
            "grid_template_rows": null,
            "right": null,
            "justify_content": null,
            "_view_module": "@jupyter-widgets/base",
            "overflow": null,
            "_model_module_version": "1.2.0",
            "_view_count": null,
            "flex_flow": null,
            "width": null,
            "min_width": null,
            "border": null,
            "align_items": null,
            "bottom": null,
            "_model_module": "@jupyter-widgets/base",
            "top": null,
            "grid_column": null,
            "overflow_y": null,
            "overflow_x": null,
            "grid_auto_flow": null,
            "grid_area": null,
            "grid_template_columns": null,
            "flex": null,
            "_model_name": "LayoutModel",
            "justify_items": null,
            "grid_row": null,
            "max_height": null,
            "align_content": null,
            "visibility": null,
            "align_self": null,
            "height": null,
            "min_height": null,
            "padding": null,
            "grid_auto_rows": null,
            "grid_gap": null,
            "max_width": null,
            "order": null,
            "_view_module_version": "1.2.0",
            "grid_template_areas": null,
            "object_position": null,
            "object_fit": null,
            "grid_auto_columns": null,
            "margin": null,
            "display": null,
            "left": null
          }
        },
        "0bd272e060a0497fb55adb22c888d598": {
          "model_module": "@jupyter-widgets/controls",
          "model_name": "ProgressStyleModel",
          "model_module_version": "1.5.0",
          "state": {
            "_view_name": "StyleView",
            "_model_name": "ProgressStyleModel",
            "description_width": "",
            "_view_module": "@jupyter-widgets/base",
            "_model_module_version": "1.5.0",
            "_view_count": null,
            "_view_module_version": "1.2.0",
            "bar_color": null,
            "_model_module": "@jupyter-widgets/controls"
          }
        },
        "27898d07b50d4e92aa1eb79c693515dc": {
          "model_module": "@jupyter-widgets/base",
          "model_name": "LayoutModel",
          "model_module_version": "1.2.0",
          "state": {
            "_view_name": "LayoutView",
            "grid_template_rows": null,
            "right": null,
            "justify_content": null,
            "_view_module": "@jupyter-widgets/base",
            "overflow": null,
            "_model_module_version": "1.2.0",
            "_view_count": null,
            "flex_flow": null,
            "width": null,
            "min_width": null,
            "border": null,
            "align_items": null,
            "bottom": null,
            "_model_module": "@jupyter-widgets/base",
            "top": null,
            "grid_column": null,
            "overflow_y": null,
            "overflow_x": null,
            "grid_auto_flow": null,
            "grid_area": null,
            "grid_template_columns": null,
            "flex": null,
            "_model_name": "LayoutModel",
            "justify_items": null,
            "grid_row": null,
            "max_height": null,
            "align_content": null,
            "visibility": null,
            "align_self": null,
            "height": null,
            "min_height": null,
            "padding": null,
            "grid_auto_rows": null,
            "grid_gap": null,
            "max_width": null,
            "order": null,
            "_view_module_version": "1.2.0",
            "grid_template_areas": null,
            "object_position": null,
            "object_fit": null,
            "grid_auto_columns": null,
            "margin": null,
            "display": null,
            "left": null
          }
        },
        "e147cc7049ac43ccb164e917945258f7": {
          "model_module": "@jupyter-widgets/controls",
          "model_name": "DescriptionStyleModel",
          "model_module_version": "1.5.0",
          "state": {
            "_view_name": "StyleView",
            "_model_name": "DescriptionStyleModel",
            "description_width": "",
            "_view_module": "@jupyter-widgets/base",
            "_model_module_version": "1.5.0",
            "_view_count": null,
            "_view_module_version": "1.2.0",
            "_model_module": "@jupyter-widgets/controls"
          }
        },
        "366145fc5b3e407ea1ed6fde84f29484": {
          "model_module": "@jupyter-widgets/base",
          "model_name": "LayoutModel",
          "model_module_version": "1.2.0",
          "state": {
            "_view_name": "LayoutView",
            "grid_template_rows": null,
            "right": null,
            "justify_content": null,
            "_view_module": "@jupyter-widgets/base",
            "overflow": null,
            "_model_module_version": "1.2.0",
            "_view_count": null,
            "flex_flow": null,
            "width": null,
            "min_width": null,
            "border": null,
            "align_items": null,
            "bottom": null,
            "_model_module": "@jupyter-widgets/base",
            "top": null,
            "grid_column": null,
            "overflow_y": null,
            "overflow_x": null,
            "grid_auto_flow": null,
            "grid_area": null,
            "grid_template_columns": null,
            "flex": null,
            "_model_name": "LayoutModel",
            "justify_items": null,
            "grid_row": null,
            "max_height": null,
            "align_content": null,
            "visibility": null,
            "align_self": null,
            "height": null,
            "min_height": null,
            "padding": null,
            "grid_auto_rows": null,
            "grid_gap": null,
            "max_width": null,
            "order": null,
            "_view_module_version": "1.2.0",
            "grid_template_areas": null,
            "object_position": null,
            "object_fit": null,
            "grid_auto_columns": null,
            "margin": null,
            "display": null,
            "left": null
          }
        },
        "a5b3b3e26526423aad3ed3ffe45ddcda": {
          "model_module": "@jupyter-widgets/controls",
          "model_name": "HBoxModel",
          "model_module_version": "1.5.0",
          "state": {
            "_view_name": "HBoxView",
            "_dom_classes": [],
            "_model_name": "HBoxModel",
            "_view_module": "@jupyter-widgets/controls",
            "_model_module_version": "1.5.0",
            "_view_count": null,
            "_view_module_version": "1.5.0",
            "box_style": "",
            "layout": "IPY_MODEL_29921b6c125f487bb0d3e2dacd79dada",
            "_model_module": "@jupyter-widgets/controls",
            "children": [
              "IPY_MODEL_9f5b2f48104f44f2bfc5c9e9e74cfa83",
              "IPY_MODEL_32bceaa951a44732a1e9e3ad71b3594e",
              "IPY_MODEL_26cab0eb010f4460a723887022b544cb"
            ]
          }
        },
        "29921b6c125f487bb0d3e2dacd79dada": {
          "model_module": "@jupyter-widgets/base",
          "model_name": "LayoutModel",
          "model_module_version": "1.2.0",
          "state": {
            "_view_name": "LayoutView",
            "grid_template_rows": null,
            "right": null,
            "justify_content": null,
            "_view_module": "@jupyter-widgets/base",
            "overflow": null,
            "_model_module_version": "1.2.0",
            "_view_count": null,
            "flex_flow": null,
            "width": null,
            "min_width": null,
            "border": null,
            "align_items": null,
            "bottom": null,
            "_model_module": "@jupyter-widgets/base",
            "top": null,
            "grid_column": null,
            "overflow_y": null,
            "overflow_x": null,
            "grid_auto_flow": null,
            "grid_area": null,
            "grid_template_columns": null,
            "flex": null,
            "_model_name": "LayoutModel",
            "justify_items": null,
            "grid_row": null,
            "max_height": null,
            "align_content": null,
            "visibility": null,
            "align_self": null,
            "height": null,
            "min_height": null,
            "padding": null,
            "grid_auto_rows": null,
            "grid_gap": null,
            "max_width": null,
            "order": null,
            "_view_module_version": "1.2.0",
            "grid_template_areas": null,
            "object_position": null,
            "object_fit": null,
            "grid_auto_columns": null,
            "margin": null,
            "display": null,
            "left": null
          }
        },
        "9f5b2f48104f44f2bfc5c9e9e74cfa83": {
          "model_module": "@jupyter-widgets/controls",
          "model_name": "HTMLModel",
          "model_module_version": "1.5.0",
          "state": {
            "_view_name": "HTMLView",
            "style": "IPY_MODEL_24d96c2ed4ec4cc499ba5cd00dd03698",
            "_dom_classes": [],
            "description": "",
            "_model_name": "HTMLModel",
            "placeholder": "​",
            "_view_module": "@jupyter-widgets/controls",
            "_model_module_version": "1.5.0",
            "value": "",
            "_view_count": null,
            "_view_module_version": "1.5.0",
            "description_tooltip": null,
            "_model_module": "@jupyter-widgets/controls",
            "layout": "IPY_MODEL_0aceaa6d1d8541d8b50e5f86acaa0c1f"
          }
        },
        "32bceaa951a44732a1e9e3ad71b3594e": {
          "model_module": "@jupyter-widgets/controls",
          "model_name": "FloatProgressModel",
          "model_module_version": "1.5.0",
          "state": {
            "_view_name": "ProgressView",
            "style": "IPY_MODEL_c09a9987f23c44d59f65694d67740c76",
            "_dom_classes": [],
            "description": "",
            "_model_name": "FloatProgressModel",
            "bar_style": "success",
            "max": 1648877,
            "_view_module": "@jupyter-widgets/controls",
            "_model_module_version": "1.5.0",
            "value": 1648877,
            "_view_count": null,
            "_view_module_version": "1.5.0",
            "orientation": "horizontal",
            "min": 0,
            "description_tooltip": null,
            "_model_module": "@jupyter-widgets/controls",
            "layout": "IPY_MODEL_3e94621190d54205b4198c282729750e"
          }
        },
        "26cab0eb010f4460a723887022b544cb": {
          "model_module": "@jupyter-widgets/controls",
          "model_name": "HTMLModel",
          "model_module_version": "1.5.0",
          "state": {
            "_view_name": "HTMLView",
            "style": "IPY_MODEL_d29c971382d9462c9488f719f07a984f",
            "_dom_classes": [],
            "description": "",
            "_model_name": "HTMLModel",
            "placeholder": "​",
            "_view_module": "@jupyter-widgets/controls",
            "_model_module_version": "1.5.0",
            "value": " 1649664/? [00:00&lt;00:00, 3884997.79it/s]",
            "_view_count": null,
            "_view_module_version": "1.5.0",
            "description_tooltip": null,
            "_model_module": "@jupyter-widgets/controls",
            "layout": "IPY_MODEL_20cf9a6630f2421eaba68fa615e5e874"
          }
        },
        "24d96c2ed4ec4cc499ba5cd00dd03698": {
          "model_module": "@jupyter-widgets/controls",
          "model_name": "DescriptionStyleModel",
          "model_module_version": "1.5.0",
          "state": {
            "_view_name": "StyleView",
            "_model_name": "DescriptionStyleModel",
            "description_width": "",
            "_view_module": "@jupyter-widgets/base",
            "_model_module_version": "1.5.0",
            "_view_count": null,
            "_view_module_version": "1.2.0",
            "_model_module": "@jupyter-widgets/controls"
          }
        },
        "0aceaa6d1d8541d8b50e5f86acaa0c1f": {
          "model_module": "@jupyter-widgets/base",
          "model_name": "LayoutModel",
          "model_module_version": "1.2.0",
          "state": {
            "_view_name": "LayoutView",
            "grid_template_rows": null,
            "right": null,
            "justify_content": null,
            "_view_module": "@jupyter-widgets/base",
            "overflow": null,
            "_model_module_version": "1.2.0",
            "_view_count": null,
            "flex_flow": null,
            "width": null,
            "min_width": null,
            "border": null,
            "align_items": null,
            "bottom": null,
            "_model_module": "@jupyter-widgets/base",
            "top": null,
            "grid_column": null,
            "overflow_y": null,
            "overflow_x": null,
            "grid_auto_flow": null,
            "grid_area": null,
            "grid_template_columns": null,
            "flex": null,
            "_model_name": "LayoutModel",
            "justify_items": null,
            "grid_row": null,
            "max_height": null,
            "align_content": null,
            "visibility": null,
            "align_self": null,
            "height": null,
            "min_height": null,
            "padding": null,
            "grid_auto_rows": null,
            "grid_gap": null,
            "max_width": null,
            "order": null,
            "_view_module_version": "1.2.0",
            "grid_template_areas": null,
            "object_position": null,
            "object_fit": null,
            "grid_auto_columns": null,
            "margin": null,
            "display": null,
            "left": null
          }
        },
        "c09a9987f23c44d59f65694d67740c76": {
          "model_module": "@jupyter-widgets/controls",
          "model_name": "ProgressStyleModel",
          "model_module_version": "1.5.0",
          "state": {
            "_view_name": "StyleView",
            "_model_name": "ProgressStyleModel",
            "description_width": "",
            "_view_module": "@jupyter-widgets/base",
            "_model_module_version": "1.5.0",
            "_view_count": null,
            "_view_module_version": "1.2.0",
            "bar_color": null,
            "_model_module": "@jupyter-widgets/controls"
          }
        },
        "3e94621190d54205b4198c282729750e": {
          "model_module": "@jupyter-widgets/base",
          "model_name": "LayoutModel",
          "model_module_version": "1.2.0",
          "state": {
            "_view_name": "LayoutView",
            "grid_template_rows": null,
            "right": null,
            "justify_content": null,
            "_view_module": "@jupyter-widgets/base",
            "overflow": null,
            "_model_module_version": "1.2.0",
            "_view_count": null,
            "flex_flow": null,
            "width": null,
            "min_width": null,
            "border": null,
            "align_items": null,
            "bottom": null,
            "_model_module": "@jupyter-widgets/base",
            "top": null,
            "grid_column": null,
            "overflow_y": null,
            "overflow_x": null,
            "grid_auto_flow": null,
            "grid_area": null,
            "grid_template_columns": null,
            "flex": null,
            "_model_name": "LayoutModel",
            "justify_items": null,
            "grid_row": null,
            "max_height": null,
            "align_content": null,
            "visibility": null,
            "align_self": null,
            "height": null,
            "min_height": null,
            "padding": null,
            "grid_auto_rows": null,
            "grid_gap": null,
            "max_width": null,
            "order": null,
            "_view_module_version": "1.2.0",
            "grid_template_areas": null,
            "object_position": null,
            "object_fit": null,
            "grid_auto_columns": null,
            "margin": null,
            "display": null,
            "left": null
          }
        },
        "d29c971382d9462c9488f719f07a984f": {
          "model_module": "@jupyter-widgets/controls",
          "model_name": "DescriptionStyleModel",
          "model_module_version": "1.5.0",
          "state": {
            "_view_name": "StyleView",
            "_model_name": "DescriptionStyleModel",
            "description_width": "",
            "_view_module": "@jupyter-widgets/base",
            "_model_module_version": "1.5.0",
            "_view_count": null,
            "_view_module_version": "1.2.0",
            "_model_module": "@jupyter-widgets/controls"
          }
        },
        "20cf9a6630f2421eaba68fa615e5e874": {
          "model_module": "@jupyter-widgets/base",
          "model_name": "LayoutModel",
          "model_module_version": "1.2.0",
          "state": {
            "_view_name": "LayoutView",
            "grid_template_rows": null,
            "right": null,
            "justify_content": null,
            "_view_module": "@jupyter-widgets/base",
            "overflow": null,
            "_model_module_version": "1.2.0",
            "_view_count": null,
            "flex_flow": null,
            "width": null,
            "min_width": null,
            "border": null,
            "align_items": null,
            "bottom": null,
            "_model_module": "@jupyter-widgets/base",
            "top": null,
            "grid_column": null,
            "overflow_y": null,
            "overflow_x": null,
            "grid_auto_flow": null,
            "grid_area": null,
            "grid_template_columns": null,
            "flex": null,
            "_model_name": "LayoutModel",
            "justify_items": null,
            "grid_row": null,
            "max_height": null,
            "align_content": null,
            "visibility": null,
            "align_self": null,
            "height": null,
            "min_height": null,
            "padding": null,
            "grid_auto_rows": null,
            "grid_gap": null,
            "max_width": null,
            "order": null,
            "_view_module_version": "1.2.0",
            "grid_template_areas": null,
            "object_position": null,
            "object_fit": null,
            "grid_auto_columns": null,
            "margin": null,
            "display": null,
            "left": null
          }
        },
        "c0a8f239dcbe48ef8671b3c4a2d3e719": {
          "model_module": "@jupyter-widgets/controls",
          "model_name": "HBoxModel",
          "model_module_version": "1.5.0",
          "state": {
            "_view_name": "HBoxView",
            "_dom_classes": [],
            "_model_name": "HBoxModel",
            "_view_module": "@jupyter-widgets/controls",
            "_model_module_version": "1.5.0",
            "_view_count": null,
            "_view_module_version": "1.5.0",
            "box_style": "",
            "layout": "IPY_MODEL_b162a2fd56454d82908cfdfa47898637",
            "_model_module": "@jupyter-widgets/controls",
            "children": [
              "IPY_MODEL_5fed331de1a5468c94677ae7f6be2d01",
              "IPY_MODEL_be8892bb8f1b472d802c5d4dc1740431",
              "IPY_MODEL_80fd6f057f91438ca4d4f0c3d02c0ef3"
            ]
          }
        },
        "b162a2fd56454d82908cfdfa47898637": {
          "model_module": "@jupyter-widgets/base",
          "model_name": "LayoutModel",
          "model_module_version": "1.2.0",
          "state": {
            "_view_name": "LayoutView",
            "grid_template_rows": null,
            "right": null,
            "justify_content": null,
            "_view_module": "@jupyter-widgets/base",
            "overflow": null,
            "_model_module_version": "1.2.0",
            "_view_count": null,
            "flex_flow": null,
            "width": null,
            "min_width": null,
            "border": null,
            "align_items": null,
            "bottom": null,
            "_model_module": "@jupyter-widgets/base",
            "top": null,
            "grid_column": null,
            "overflow_y": null,
            "overflow_x": null,
            "grid_auto_flow": null,
            "grid_area": null,
            "grid_template_columns": null,
            "flex": null,
            "_model_name": "LayoutModel",
            "justify_items": null,
            "grid_row": null,
            "max_height": null,
            "align_content": null,
            "visibility": null,
            "align_self": null,
            "height": null,
            "min_height": null,
            "padding": null,
            "grid_auto_rows": null,
            "grid_gap": null,
            "max_width": null,
            "order": null,
            "_view_module_version": "1.2.0",
            "grid_template_areas": null,
            "object_position": null,
            "object_fit": null,
            "grid_auto_columns": null,
            "margin": null,
            "display": null,
            "left": null
          }
        },
        "5fed331de1a5468c94677ae7f6be2d01": {
          "model_module": "@jupyter-widgets/controls",
          "model_name": "HTMLModel",
          "model_module_version": "1.5.0",
          "state": {
            "_view_name": "HTMLView",
            "style": "IPY_MODEL_b6499839f55b421cb603f1ea5d3d8553",
            "_dom_classes": [],
            "description": "",
            "_model_name": "HTMLModel",
            "placeholder": "​",
            "_view_module": "@jupyter-widgets/controls",
            "_model_module_version": "1.5.0",
            "value": "",
            "_view_count": null,
            "_view_module_version": "1.5.0",
            "description_tooltip": null,
            "_model_module": "@jupyter-widgets/controls",
            "layout": "IPY_MODEL_e732a8f2059744b2801b856e24f07598"
          }
        },
        "be8892bb8f1b472d802c5d4dc1740431": {
          "model_module": "@jupyter-widgets/controls",
          "model_name": "FloatProgressModel",
          "model_module_version": "1.5.0",
          "state": {
            "_view_name": "ProgressView",
            "style": "IPY_MODEL_60e256945ba94686a28290b16764b1ff",
            "_dom_classes": [],
            "description": "",
            "_model_name": "FloatProgressModel",
            "bar_style": "success",
            "max": 4542,
            "_view_module": "@jupyter-widgets/controls",
            "_model_module_version": "1.5.0",
            "value": 4542,
            "_view_count": null,
            "_view_module_version": "1.5.0",
            "orientation": "horizontal",
            "min": 0,
            "description_tooltip": null,
            "_model_module": "@jupyter-widgets/controls",
            "layout": "IPY_MODEL_cb642f630acf4664a044c47a273fdbcf"
          }
        },
        "80fd6f057f91438ca4d4f0c3d02c0ef3": {
          "model_module": "@jupyter-widgets/controls",
          "model_name": "HTMLModel",
          "model_module_version": "1.5.0",
          "state": {
            "_view_name": "HTMLView",
            "style": "IPY_MODEL_cf8cecbdc705464ca98d30c467a7cb8e",
            "_dom_classes": [],
            "description": "",
            "_model_name": "HTMLModel",
            "placeholder": "​",
            "_view_module": "@jupyter-widgets/controls",
            "_model_module_version": "1.5.0",
            "value": " 5120/? [00:00&lt;00:00, 211921.33it/s]",
            "_view_count": null,
            "_view_module_version": "1.5.0",
            "description_tooltip": null,
            "_model_module": "@jupyter-widgets/controls",
            "layout": "IPY_MODEL_5b524311d7ed4551bac814fcf346e9df"
          }
        },
        "b6499839f55b421cb603f1ea5d3d8553": {
          "model_module": "@jupyter-widgets/controls",
          "model_name": "DescriptionStyleModel",
          "model_module_version": "1.5.0",
          "state": {
            "_view_name": "StyleView",
            "_model_name": "DescriptionStyleModel",
            "description_width": "",
            "_view_module": "@jupyter-widgets/base",
            "_model_module_version": "1.5.0",
            "_view_count": null,
            "_view_module_version": "1.2.0",
            "_model_module": "@jupyter-widgets/controls"
          }
        },
        "e732a8f2059744b2801b856e24f07598": {
          "model_module": "@jupyter-widgets/base",
          "model_name": "LayoutModel",
          "model_module_version": "1.2.0",
          "state": {
            "_view_name": "LayoutView",
            "grid_template_rows": null,
            "right": null,
            "justify_content": null,
            "_view_module": "@jupyter-widgets/base",
            "overflow": null,
            "_model_module_version": "1.2.0",
            "_view_count": null,
            "flex_flow": null,
            "width": null,
            "min_width": null,
            "border": null,
            "align_items": null,
            "bottom": null,
            "_model_module": "@jupyter-widgets/base",
            "top": null,
            "grid_column": null,
            "overflow_y": null,
            "overflow_x": null,
            "grid_auto_flow": null,
            "grid_area": null,
            "grid_template_columns": null,
            "flex": null,
            "_model_name": "LayoutModel",
            "justify_items": null,
            "grid_row": null,
            "max_height": null,
            "align_content": null,
            "visibility": null,
            "align_self": null,
            "height": null,
            "min_height": null,
            "padding": null,
            "grid_auto_rows": null,
            "grid_gap": null,
            "max_width": null,
            "order": null,
            "_view_module_version": "1.2.0",
            "grid_template_areas": null,
            "object_position": null,
            "object_fit": null,
            "grid_auto_columns": null,
            "margin": null,
            "display": null,
            "left": null
          }
        },
        "60e256945ba94686a28290b16764b1ff": {
          "model_module": "@jupyter-widgets/controls",
          "model_name": "ProgressStyleModel",
          "model_module_version": "1.5.0",
          "state": {
            "_view_name": "StyleView",
            "_model_name": "ProgressStyleModel",
            "description_width": "",
            "_view_module": "@jupyter-widgets/base",
            "_model_module_version": "1.5.0",
            "_view_count": null,
            "_view_module_version": "1.2.0",
            "bar_color": null,
            "_model_module": "@jupyter-widgets/controls"
          }
        },
        "cb642f630acf4664a044c47a273fdbcf": {
          "model_module": "@jupyter-widgets/base",
          "model_name": "LayoutModel",
          "model_module_version": "1.2.0",
          "state": {
            "_view_name": "LayoutView",
            "grid_template_rows": null,
            "right": null,
            "justify_content": null,
            "_view_module": "@jupyter-widgets/base",
            "overflow": null,
            "_model_module_version": "1.2.0",
            "_view_count": null,
            "flex_flow": null,
            "width": null,
            "min_width": null,
            "border": null,
            "align_items": null,
            "bottom": null,
            "_model_module": "@jupyter-widgets/base",
            "top": null,
            "grid_column": null,
            "overflow_y": null,
            "overflow_x": null,
            "grid_auto_flow": null,
            "grid_area": null,
            "grid_template_columns": null,
            "flex": null,
            "_model_name": "LayoutModel",
            "justify_items": null,
            "grid_row": null,
            "max_height": null,
            "align_content": null,
            "visibility": null,
            "align_self": null,
            "height": null,
            "min_height": null,
            "padding": null,
            "grid_auto_rows": null,
            "grid_gap": null,
            "max_width": null,
            "order": null,
            "_view_module_version": "1.2.0",
            "grid_template_areas": null,
            "object_position": null,
            "object_fit": null,
            "grid_auto_columns": null,
            "margin": null,
            "display": null,
            "left": null
          }
        },
        "cf8cecbdc705464ca98d30c467a7cb8e": {
          "model_module": "@jupyter-widgets/controls",
          "model_name": "DescriptionStyleModel",
          "model_module_version": "1.5.0",
          "state": {
            "_view_name": "StyleView",
            "_model_name": "DescriptionStyleModel",
            "description_width": "",
            "_view_module": "@jupyter-widgets/base",
            "_model_module_version": "1.5.0",
            "_view_count": null,
            "_view_module_version": "1.2.0",
            "_model_module": "@jupyter-widgets/controls"
          }
        },
        "5b524311d7ed4551bac814fcf346e9df": {
          "model_module": "@jupyter-widgets/base",
          "model_name": "LayoutModel",
          "model_module_version": "1.2.0",
          "state": {
            "_view_name": "LayoutView",
            "grid_template_rows": null,
            "right": null,
            "justify_content": null,
            "_view_module": "@jupyter-widgets/base",
            "overflow": null,
            "_model_module_version": "1.2.0",
            "_view_count": null,
            "flex_flow": null,
            "width": null,
            "min_width": null,
            "border": null,
            "align_items": null,
            "bottom": null,
            "_model_module": "@jupyter-widgets/base",
            "top": null,
            "grid_column": null,
            "overflow_y": null,
            "overflow_x": null,
            "grid_auto_flow": null,
            "grid_area": null,
            "grid_template_columns": null,
            "flex": null,
            "_model_name": "LayoutModel",
            "justify_items": null,
            "grid_row": null,
            "max_height": null,
            "align_content": null,
            "visibility": null,
            "align_self": null,
            "height": null,
            "min_height": null,
            "padding": null,
            "grid_auto_rows": null,
            "grid_gap": null,
            "max_width": null,
            "order": null,
            "_view_module_version": "1.2.0",
            "grid_template_areas": null,
            "object_position": null,
            "object_fit": null,
            "grid_auto_columns": null,
            "margin": null,
            "display": null,
            "left": null
          }
        }
      }
    }
  },
  "nbformat": 4,
  "nbformat_minor": 0
}