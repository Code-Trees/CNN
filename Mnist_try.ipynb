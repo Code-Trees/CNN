{
  "cells": [
    {
      "cell_type": "markdown",
      "metadata": {
        "id": "view-in-github",
        "colab_type": "text"
      },
      "source": [
        "<a href=\"https://colab.research.google.com/github/Code-Trees/CNN/blob/master/Mnist_try.ipynb\" target=\"_parent\"><img src=\"https://colab.research.google.com/assets/colab-badge.svg\" alt=\"Open In Colab\"/></a>"
      ]
    },
    {
      "cell_type": "code",
      "execution_count": null,
      "metadata": {
        "id": "h5NRAc5JOu11"
      },
      "outputs": [],
      "source": [
        "from IPython.core.interactiveshell import InteractiveShell\n",
        "InteractiveShell.ast_node_interactivity = 'all'"
      ]
    },
    {
      "cell_type": "code",
      "source": [
        "!pwd"
      ],
      "metadata": {
        "colab": {
          "base_uri": "https://localhost:8080/"
        },
        "id": "nw5PhR_MRIBG",
        "outputId": "d43e6e5a-984c-45c7-9858-f2190dc35d84"
      },
      "execution_count": null,
      "outputs": [
        {
          "output_type": "stream",
          "name": "stdout",
          "text": [
            "/content\n"
          ]
        }
      ]
    },
    {
      "cell_type": "code",
      "execution_count": null,
      "metadata": {
        "id": "GDfJ_u8R7uD2"
      },
      "outputs": [],
      "source": [
        "import warnings\n",
        "warnings.filterwarnings('ignore')"
      ]
    },
    {
      "cell_type": "code",
      "execution_count": null,
      "metadata": {
        "id": "oPHRRKmcPL3o"
      },
      "outputs": [],
      "source": [
        "import torch\n",
        "import torch.nn as nn\n",
        "import torch.nn.functional as f\n",
        "import torch.nn.functional as F\n",
        "from torch.optim import SGD\n",
        "import torchvision\n",
        "from torch.utils.data import DataLoader"
      ]
    },
    {
      "cell_type": "code",
      "execution_count": null,
      "metadata": {
        "id": "cuzACDiOQKn-"
      },
      "outputs": [],
      "source": [
        "from torchvision import transforms,datasets\n",
        "import matplotlib.pyplot as plt"
      ]
    },
    {
      "cell_type": "code",
      "execution_count": null,
      "metadata": {
        "colab": {
          "base_uri": "https://localhost:8080/"
        },
        "id": "4vTQDOCyEnXY",
        "outputId": "f7aa37ab-7bc8-4ef9-aac4-3924edebc8b2"
      },
      "outputs": [
        {
          "output_type": "stream",
          "name": "stdout",
          "text": [
            "Requirement already satisfied: rf_calc in /usr/local/lib/python3.7/dist-packages (0.0.7)\n",
            "Requirement already satisfied: tabulate>=0.8.9 in /usr/local/lib/python3.7/dist-packages (from rf_calc) (0.8.9)\n",
            "Requirement already satisfied: numpy>=1.19.4 in /usr/local/lib/python3.7/dist-packages (from rf_calc) (1.19.5)\n",
            "Requirement already satisfied: pandas>=1.1.5 in /usr/local/lib/python3.7/dist-packages (from rf_calc) (1.3.5)\n",
            "Requirement already satisfied: python-dateutil>=2.7.3 in /usr/local/lib/python3.7/dist-packages (from pandas>=1.1.5->rf_calc) (2.8.2)\n",
            "Requirement already satisfied: pytz>=2017.3 in /usr/local/lib/python3.7/dist-packages (from pandas>=1.1.5->rf_calc) (2018.9)\n",
            "Requirement already satisfied: six>=1.5 in /usr/local/lib/python3.7/dist-packages (from python-dateutil>=2.7.3->pandas>=1.1.5->rf_calc) (1.15.0)\n"
          ]
        }
      ],
      "source": [
        "!pip install rf_calc\n",
        "from rf_calc import receptive_field"
      ]
    },
    {
      "cell_type": "code",
      "execution_count": null,
      "metadata": {
        "id": "bWGDt6jpSTIP"
      },
      "outputs": [],
      "source": [
        "import numpy as np\n",
        "from torchsummary import summary"
      ]
    },
    {
      "cell_type": "code",
      "execution_count": null,
      "metadata": {
        "id": "_Xl-Jkj3QeHW"
      },
      "outputs": [],
      "source": [
        "train = datasets.MNIST(root = './',train = True,download=True,transform=transforms.Compose([transforms.ToTensor(),\n",
        "                                                                                            transforms.Normalize((0.13066062331199646,),(0.30810776352882385,)),\n",
        "                                                                                            transforms.RandomRotation((-7,7) ,fill = 0.13066062331199646)\n",
        "                                                                                            ])) \n",
        "test = datasets.MNIST(root = './',train = False,download=True,transform=transforms.Compose([transforms.ToTensor(),\n",
        "                                                                                            transforms.Normalize((0.13066062331199646,),(0.30810776352882385,))                                                                                            \n",
        "                                                                                            ])) "
      ]
    },
    {
      "cell_type": "code",
      "execution_count": null,
      "metadata": {
        "colab": {
          "base_uri": "https://localhost:8080/"
        },
        "id": "XsWzEsh8RHZg",
        "outputId": "b0eddeda-0afa-4cf3-81e8-d774b8de4a69"
      },
      "outputs": [
        {
          "output_type": "execute_result",
          "data": {
            "text/plain": [
              "torch.Size([1, 28, 28])"
            ]
          },
          "metadata": {},
          "execution_count": 8
        }
      ],
      "source": [
        "next(iter(train))[0].shape\n",
        "im1 = next(iter(train))[0].reshape(-1,28)"
      ]
    },
    {
      "cell_type": "code",
      "execution_count": null,
      "metadata": {
        "colab": {
          "base_uri": "https://localhost:8080/",
          "height": 298
        },
        "id": "xe8USBb7T64u",
        "outputId": "b44b43ba-0d01-4530-b958-0e0e23a26c42"
      },
      "outputs": [
        {
          "output_type": "execute_result",
          "data": {
            "text/plain": [
              "Text(0.5, 1.0, '5')"
            ]
          },
          "metadata": {},
          "execution_count": 9
        },
        {
          "output_type": "display_data",
          "data": {
            "image/png": "[encoded data removed]",
            "text/plain": [
              "<Figure size 432x288 with 1 Axes>"
            ]
          },
          "metadata": {
            "needs_background": "light"
          }
        }
      ],
      "source": [
        "_ = plt.imshow(im1)\n",
        "plt.title(next(iter(train))[1])"
      ]
    },
    {
      "cell_type": "code",
      "execution_count": null,
      "metadata": {
        "id": "obWDttbTWL7z"
      },
      "outputs": [],
      "source": [
        "batch_size = 64"
      ]
    },
    {
      "cell_type": "code",
      "execution_count": null,
      "metadata": {
        "id": "JUq7xspIWQ6T"
      },
      "outputs": [],
      "source": [
        "args = {'pin_memory':True,'num_workers':4} if torch.cuda.is_available() else {}"
      ]
    },
    {
      "cell_type": "code",
      "execution_count": null,
      "metadata": {
        "id": "GZyiBixSTRP7"
      },
      "outputs": [],
      "source": [
        "train_loader = DataLoader(train,batch_size=batch_size,shuffle = True,**args)\n",
        "test_loader = DataLoader(test,batch_size=batch_size,**args)"
      ]
    },
    {
      "cell_type": "code",
      "source": [
        "### EDA of DATA to find mean and std"
      ],
      "metadata": {
        "id": "-SGXgqH1hdW5"
      },
      "execution_count": null,
      "outputs": []
    },
    {
      "cell_type": "code",
      "source": [
        "f'Mean: {np.array(train.train_data/255).mean()} Std: {np.array(train.train_data/255).std()}'\n"
      ],
      "metadata": {
        "colab": {
          "base_uri": "https://localhost:8080/",
          "height": 38
        },
        "id": "7ux8u9mBtoev",
        "outputId": "4d008e7f-4b4b-48c7-fcac-6ebee69ec4de"
      },
      "execution_count": null,
      "outputs": [
        {
          "output_type": "execute_result",
          "data": {
            "application/vnd.google.colaboratory.intrinsic+json": {
              "type": "string"
            },
            "text/plain": [
              "'Mean: 0.13066062331199646 Std: 0.30810776352882385'"
            ]
          },
          "metadata": {},
          "execution_count": 14
        }
      ]
    },
    {
      "cell_type": "code",
      "source": [
        "from torch.nn.modules.batchnorm import BatchNorm2d\n",
        "class Mnist_net(nn.Module):\n",
        "    def __init__(self):\n",
        "        super(Mnist_net,self).__init__()\n",
        "        self.drop_val =0.1\n",
        "\n",
        "        self.conv_block1 = nn.Sequential(\n",
        "                    nn.Conv2d(in_channels = 1,out_channels = 4,kernel_size = (3,3),stride = 1,padding = 1,bias = False ),\n",
        "                    nn.ReLU( ) ,\n",
        "                    nn.BatchNorm2d(num_features = 4),\n",
        "                    nn.Dropout(self.drop_val)\n",
        "        )\n",
        "\n",
        "        self.conv_block1_1 = nn.Sequential(\n",
        "                    nn.Conv2d(in_channels = 4,out_channels = 8,kernel_size =(3,3),stride = 1,padding = 0,bias = False ),\n",
        "                    nn.ReLU( ) ,\n",
        "                    nn.BatchNorm2d(num_features = 8),\n",
        "                    nn.Dropout(self.drop_val)\n",
        "        )\n",
        "\n",
        "        self.conv_block2 = nn.Sequential(\n",
        "                    nn.Conv2d(in_channels = 8,out_channels =16 ,kernel_size = (3,3),stride = 1,padding = 0,bias = False ),\n",
        "                    nn.ReLU( ) ,\n",
        "                    nn.BatchNorm2d(num_features = 16),\n",
        "                    nn.Dropout(self.drop_val)\n",
        "        )\n",
        "\n",
        "        self.conv_block3 = nn.Sequential(\n",
        "                    nn.Conv2d(in_channels = 16,out_channels =8 ,kernel_size = (1,1) ,stride = 1,padding = 0,bias = False ),\n",
        "                    nn.ReLU( ) ,\n",
        "                    nn.BatchNorm2d(num_features = 8),\n",
        "                    nn.Dropout(self.drop_val)\n",
        "        )\n",
        "\n",
        "\n",
        "        self.Pooling1 = nn.MaxPool2d(kernel_size = 2,stride = 2 )\n",
        "\n",
        "\n",
        "        self.conv_block4 = nn.Sequential(\n",
        "                    nn.Conv2d(in_channels = 8,out_channels =10 ,kernel_size = 3,stride = 1,padding = 0,bias = False ),\n",
        "                    nn.ReLU( ) ,\n",
        "                    nn.BatchNorm2d(num_features = 10),\n",
        "                    nn.Dropout(self.drop_val)\n",
        "        )\n",
        "\n",
        "        self.conv_block5= nn.Sequential(\n",
        "                    nn.Conv2d(in_channels = 10,out_channels =10 ,kernel_size = 3,stride = 1,padding = 0,bias = False ),\n",
        "                    nn.ReLU( ) ,\n",
        "                    nn.BatchNorm2d(num_features = 10),\n",
        "                    nn.Dropout(self.drop_val)\n",
        "        )\n",
        "\n",
        "        self.conv_block6 = nn.Sequential(\n",
        "                    nn.Conv2d(in_channels = 10,out_channels =15 ,kernel_size = 3,stride = 1,padding = 0,bias = False ),\n",
        "                    # nn.ReLU( ) ,\n",
        "                    # nn.BatchNorm2d(num_features = 18),\n",
        "                    # nn.Dropout(self.drop_val)\n",
        "        )\n",
        "\n",
        "        # self.Pooling2 = nn.MaxPool2d(kernel_size = 2,stride = 2 )\n",
        "        self.gap = nn.AvgPool2d(kernel_size=5)\n",
        "        self.fc1 = nn.Linear(in_features = 15,out_features = 10)\n",
        "\n",
        "        # self.conv_block7 = nn.Sequential(\n",
        "        #             nn.Conv2d(in_channels = 18,out_channels =20 ,kernel_size = 3,stride = 1,padding = 0,bias = False ),\n",
        "        #             nn.ReLU( ) ,\n",
        "        #             nn.BatchNorm2d(num_features = 20),\n",
        "        #             nn.Dropout(self.drop_val)\n",
        "        # )\n",
        "\n",
        "        # self.conv_block8 = nn.Sequential(\n",
        "        # nn.Conv2d(in_channels = 20  ,out_channels =10 ,kernel_size = 3,stride = 1,padding = 0,bias = False )\n",
        "        # )\n",
        "\n",
        "\n",
        "    def forward(self,x):\n",
        "        x = self.conv_block1(x) #1\n",
        "        x = self.conv_block1_1(x)\n",
        "        x = self.conv_block2(x) #2\n",
        "        x = self.conv_block3(x) #3\n",
        "        x = self.Pooling1(x) #\n",
        "        x = self.conv_block4(x) #4\n",
        "        x = self.conv_block5(x) #5\n",
        "        x = self.conv_block6(x) #6\n",
        "        # x = self.Pooling2(x)\n",
        "        # x = self.conv_block7(x) #7\n",
        "        # x = self.conv_block8(x)\n",
        "        x = self.gap(x)\n",
        "        x =x.view(-1,15)\n",
        "        x = self.fc1(x)\n",
        "\n",
        "        x=f.log_softmax(x)\n",
        "        return x\n"
      ],
      "metadata": {
        "id": "rfUXjo4mVX_6"
      },
      "execution_count": null,
      "outputs": []
    },
    {
      "cell_type": "code",
      "source": [
        "# dropout_value = 0.03\n",
        "# class Mnist_net(nn.Module):\n",
        "#     def __init__(self):\n",
        "#         super(Mnist_net, self).__init__()\n",
        "#         # Input Block\n",
        "#         self.convblock1 = nn.Sequential(\n",
        "#             nn.Conv2d(in_channels=1, out_channels=10, kernel_size=(3, 3), padding=0, bias=False),\n",
        "#             nn.BatchNorm2d(10),\n",
        "#             nn.ReLU(),\n",
        "#             nn.Dropout(dropout_value)\n",
        "#         ) # input_size = 28 output_size = 26 receptive_field = 3\n",
        "\n",
        "#         # CONVOLUTION BLOCK 1\n",
        "#         self.convblock2 = nn.Sequential(\n",
        "#             nn.Conv2d(in_channels=10, out_channels=10, kernel_size=(3, 3), padding=0, bias=False),\n",
        "#             nn.BatchNorm2d(10),\n",
        "#             nn.ReLU(),\n",
        "#             nn.Dropout(dropout_value)\n",
        "#         ) # input_size = 26 output_size = 24 receptive_field = 5\n",
        "#         self.convblock3 = nn.Sequential(\n",
        "#             nn.Conv2d(in_channels=10, out_channels=15, kernel_size=(3, 3), padding=0, bias=False),\n",
        "#             nn.BatchNorm2d(15),\n",
        "#             nn.ReLU(),\n",
        "#             nn.Dropout(dropout_value)\n",
        "#         ) # input_size = 24 output_size = 22 receptive_field = 7\n",
        "\n",
        "#         # TRANSITION BLOCK 1\n",
        "#         self.pool1 = nn.MaxPool2d(2, 2) # input_size = 22 output_size = 11 receptive_field = 9\n",
        "        \n",
        "#         self.convblock4 = nn.Sequential(\n",
        "#             nn.Conv2d(in_channels=15, out_channels=10, kernel_size=(1, 1), padding=0, bias=False),\n",
        "#             nn.BatchNorm2d(10),\n",
        "#             nn.ReLU(),\n",
        "#             nn.Dropout(dropout_value)\n",
        "#         ) # input_size = 11 output_size = 11 receptive_field = 9\n",
        "\n",
        "#         # CONVOLUTION BLOCK 2\n",
        "#         self.convblock5 = nn.Sequential(\n",
        "#             nn.Conv2d(in_channels=10, out_channels=10, kernel_size=(3, 3), padding=0, bias=False),\n",
        "#             nn.BatchNorm2d(10),\n",
        "#             nn.ReLU(),\n",
        "#             nn.Dropout(dropout_value)\n",
        "#         ) # input_size = 11 output_size = 9 receptive_field = 13\n",
        "#         self.convblock6 = nn.Sequential(\n",
        "#             nn.Conv2d(in_channels=10, out_channels=10, kernel_size=(3, 3), padding=0, bias=False),\n",
        "#             nn.BatchNorm2d(10),\n",
        "#             nn.ReLU(),\n",
        "#             nn.Dropout(dropout_value)\n",
        "#         ) # input_size = 9 output_size = 7 receptive_field = 17\n",
        "#         self.convblock7 = nn.Sequential(\n",
        "#             nn.Conv2d(in_channels=10, out_channels=10, kernel_size=(3, 3), padding=0, bias=False),\n",
        "#             nn.BatchNorm2d(10),\n",
        "#             nn.ReLU(),\n",
        "#             nn.Dropout(dropout_value)\n",
        "#         ) # input_size = 7 output_size = 5 receptive_field = 21\n",
        "#         # OUTPUT BLOCK\n",
        "#         self.convblock8 = nn.Sequential(\n",
        "#             nn.Conv2d(in_channels=10, out_channels=10, kernel_size=(5, 5), padding=0, bias=False),\n",
        "#         ) # input_size = 5 output_size = 1  receptive_field = 29\n",
        "        \n",
        "\n",
        "#     def forward(self, x):\n",
        "#         x = self.convblock1(x)\n",
        "#         x = self.convblock2(x)\n",
        "#         x = self.convblock3(x)\n",
        "#         x = self.pool1(x)\n",
        "#         x = self.convblock4(x)\n",
        "#         x = self.convblock5(x)\n",
        "#         x = self.convblock6(x)\n",
        "#         x = self.convblock7(x)\n",
        "#         x = self.convblock8(x)\n",
        "        \n",
        "#         x = x.view(-1, 10)\n",
        "#         return F.log_softmax(x, dim=-1)"
      ],
      "metadata": {
        "id": "YCDhK-QoLpWI"
      },
      "execution_count": null,
      "outputs": []
    },
    {
      "cell_type": "code",
      "execution_count": null,
      "metadata": {
        "id": "bk5aVyAv-oSe"
      },
      "outputs": [],
      "source": [
        "# from torch.nn.modules.batchnorm import BatchNorm2d\n",
        "# class Mnist_net(nn.Module):\n",
        "#     def __init__(self):\n",
        "#         super(Mnist_net,self).__init__()\n",
        "#         self.drop_val =0.001\n",
        "#         self.conv_block1 = nn.Sequential(\n",
        "#             nn.Conv2d(in_channels = 1,out_channels = 8,kernel_size = 3,stride = 1,padding = 1,bias = False ),\n",
        "#             nn.ReLU( ) ,\n",
        "#             nn.BatchNorm2d(num_features = 8),\n",
        "#             nn.Dropout(self.drop_val)\n",
        "#         )\n",
        "\n",
        "#         self.conv_block2 = nn.Sequential(\n",
        "#             nn.Conv2d(in_channels = 8,out_channels =10 ,kernel_size = 3,stride = 1,padding = 1,bias = False ),\n",
        "#             nn.ReLU( ) ,\n",
        "#             nn.BatchNorm2d(num_features = 10),\n",
        "#             nn.Dropout(self.drop_val)\n",
        "#         )\n",
        "        \n",
        "#         self.conv_block3 = nn.Sequential(\n",
        "#             nn.Conv2d(in_channels = 10,out_channels =12 ,kernel_size = 3,stride = 1,padding = 1,bias = False ),\n",
        "#             nn.ReLU( ) ,\n",
        "#             nn.BatchNorm2d(num_features = 12),\n",
        "#             nn.Dropout(self.drop_val)\n",
        "#         )\n",
        "\n",
        "\n",
        "#         self.Pooling1 = nn.MaxPool2d(kernel_size = 2,stride = 2 )\n",
        "\n",
        "#         self.conv_block4 = nn.Sequential(\n",
        "#             nn.Conv2d(in_channels = 12,out_channels =16 ,kernel_size = 1,stride = 1,padding = 0,bias = False ),\n",
        "#             nn.ReLU( ) ,\n",
        "#             nn.BatchNorm2d(num_features = 16),\n",
        "#             nn.Dropout(self.drop_val)\n",
        "#         )\n",
        "\n",
        "#         self.conv_block5= nn.Sequential(\n",
        "#             nn.Conv2d(in_channels = 16,out_channels =18 ,kernel_size = 3,stride = 1,padding = 0,bias = False ),\n",
        "#             nn.ReLU( ) ,\n",
        "#             nn.BatchNorm2d(num_features = 18),\n",
        "#             nn.Dropout(self.drop_val)\n",
        "#         )\n",
        "\n",
        "#         self.conv_block6 = nn.Sequential(\n",
        "#             nn.Conv2d(in_channels = 18,out_channels =20 ,kernel_size = 3,stride = 1,padding = 0,bias = False ),\n",
        "#             nn.ReLU( ) ,\n",
        "#             nn.BatchNorm2d(num_features = 20),\n",
        "#             nn.Dropout(self.drop_val)\n",
        "#         )\n",
        "\n",
        "#         self.Pooling2 = nn.MaxPool2d(kernel_size = 2,stride = 2 )\n",
        "\n",
        "#         self.conv_block7 = nn.Sequential(\n",
        "#             nn.Conv2d(in_channels = 20,out_channels =24 ,kernel_size = 3,stride = 1,padding = 0,bias = False ),\n",
        "#             nn.ReLU( ) ,\n",
        "#             nn.BatchNorm2d(num_features = 24),\n",
        "#             nn.Dropout(self.drop_val)\n",
        "#         )\n",
        "#         self.conv_block8 = nn.Sequential(\n",
        "#             nn.Conv2d(in_channels = 24  ,out_channels =10 ,kernel_size = 3,stride = 1,padding = 0,bias = False )\n",
        "#         )\n",
        "\n",
        "#         # self.Gap = nn.AvgPool2d(kernel_size = 3,stride = 1)\n",
        "\n",
        "#     def forward(self,x):\n",
        "#         x = self.conv_block1(x) #1\n",
        "#         x = self.conv_block2(x) #2\n",
        "#         x = self.conv_block3(x) #3\n",
        "#         x = self.Pooling1(x) #\n",
        "#         x = self.conv_block4(x) #4\n",
        "#         x = self.conv_block5(x) #5\n",
        "#         x = self.conv_block6(x) #6\n",
        "#         x = self.Pooling2(x)\n",
        "#         x = self.conv_block7(x) #7\n",
        "#         x = self.conv_block8(x)\n",
        "#         # x = self.Gap(x)\n",
        "#         x =x.view(-1,10)\n",
        "#         x=f.log_softmax(x)\n",
        "#         return x\n"
      ]
    },
    {
      "cell_type": "code",
      "execution_count": null,
      "metadata": {
        "id": "KmWBGXMB-nqS",
        "colab": {
          "base_uri": "https://localhost:8080/"
        },
        "outputId": "d5346359-d644-4fb0-aa47-b3ad98d5920f"
      },
      "outputs": [
        {
          "output_type": "stream",
          "name": "stdout",
          "text": [
            "running on cuda\n"
          ]
        }
      ],
      "source": [
        "device = \"cuda\" if torch.cuda.is_available() else \"cpu\"\n",
        "print (f'running on {device}')\n",
        "model = Mnist_net().to(device)"
      ]
    },
    {
      "cell_type": "code",
      "execution_count": null,
      "metadata": {
        "id": "iEVqBLGfd6KE"
      },
      "outputs": [],
      "source": [
        "# # # This is a Try\n",
        "\n",
        "# for data,target in train_loader:\n",
        "#     data,target = data.to(device),target.to(device)\n",
        "#     break\n",
        "# # data1 = data[0]\n",
        "# # data1 = data1.reshape(-1,1,28,28)\n",
        "# # im = model.forward(data)\n",
        "# # # plt.imshow(data1.reshape(28,28))\n",
        "# # im.shape\n",
        "# # im.view(-1,10)\n",
        "# # target[5]\n",
        "# # im[0].reshape(-1,10)\n",
        "# summary(model,(1,28,28),)"
      ]
    },
    {
      "cell_type": "code",
      "source": [
        "summary(model,(1,28,28))"
      ],
      "metadata": {
        "colab": {
          "base_uri": "https://localhost:8080/"
        },
        "id": "GKFqJeyXXTVM",
        "outputId": "6d0de1b6-9fd4-4261-bad5-2d5a73c814d5"
      },
      "execution_count": null,
      "outputs": [
        {
          "output_type": "stream",
          "name": "stdout",
          "text": [
            "----------------------------------------------------------------\n",
            "        Layer (type)               Output Shape         Param #\n",
            "================================================================\n",
            "            Conv2d-1            [-1, 4, 28, 28]              36\n",
            "              ReLU-2            [-1, 4, 28, 28]               0\n",
            "       BatchNorm2d-3            [-1, 4, 28, 28]               8\n",
            "           Dropout-4            [-1, 4, 28, 28]               0\n",
            "            Conv2d-5            [-1, 8, 26, 26]             288\n",
            "              ReLU-6            [-1, 8, 26, 26]               0\n",
            "       BatchNorm2d-7            [-1, 8, 26, 26]              16\n",
            "           Dropout-8            [-1, 8, 26, 26]               0\n",
            "            Conv2d-9           [-1, 16, 24, 24]           1,152\n",
            "             ReLU-10           [-1, 16, 24, 24]               0\n",
            "      BatchNorm2d-11           [-1, 16, 24, 24]              32\n",
            "          Dropout-12           [-1, 16, 24, 24]               0\n",
            "           Conv2d-13            [-1, 8, 24, 24]             128\n",
            "             ReLU-14            [-1, 8, 24, 24]               0\n",
            "      BatchNorm2d-15            [-1, 8, 24, 24]              16\n",
            "          Dropout-16            [-1, 8, 24, 24]               0\n",
            "        MaxPool2d-17            [-1, 8, 12, 12]               0\n",
            "           Conv2d-18           [-1, 10, 10, 10]             720\n",
            "             ReLU-19           [-1, 10, 10, 10]               0\n",
            "      BatchNorm2d-20           [-1, 10, 10, 10]              20\n",
            "          Dropout-21           [-1, 10, 10, 10]               0\n",
            "           Conv2d-22             [-1, 10, 8, 8]             900\n",
            "             ReLU-23             [-1, 10, 8, 8]               0\n",
            "      BatchNorm2d-24             [-1, 10, 8, 8]              20\n",
            "          Dropout-25             [-1, 10, 8, 8]               0\n",
            "           Conv2d-26             [-1, 15, 6, 6]           1,350\n",
            "        AvgPool2d-27             [-1, 15, 1, 1]               0\n",
            "           Linear-28                   [-1, 10]             160\n",
            "================================================================\n",
            "Total params: 4,846\n",
            "Trainable params: 4,846\n",
            "Non-trainable params: 0\n",
            "----------------------------------------------------------------\n",
            "Input size (MB): 0.00\n",
            "Forward/backward pass size (MB): 0.75\n",
            "Params size (MB): 0.02\n",
            "Estimated Total Size (MB): 0.77\n",
            "----------------------------------------------------------------\n"
          ]
        }
      ]
    },
    {
      "cell_type": "code",
      "execution_count": null,
      "metadata": {
        "colab": {
          "base_uri": "https://localhost:8080/"
        },
        "id": "yc0kIxq4FkVp",
        "outputId": "1a96eab8-dd4e-40e3-fd83-eb3e3adeaf5f"
      },
      "outputs": [
        {
          "output_type": "stream",
          "name": "stdout",
          "text": [
            "=======================================Reciptive Field Calculator========================================\n",
            "|    | Kernel_size   | Padding   |   Stride | Input_Img_size   | Output_Img_size   | Receptive_field   |\n",
            "|---:|:--------------|:----------|---------:|:-----------------|:------------------|:------------------|\n",
            "|  0 | 3*3           | 1         |        1 | 28*28            | 28*28             | 3*3               |\n",
            "|  1 | 3*3           | NO        |        1 | 28*28            | 26*26             | 5*5               |\n",
            "|  2 | 3*3           | NO        |        1 | 26*26            | 24*24             | 7*7               |\n",
            "|  3 | 1*1           | NO        |        1 | 24*24            | 24*24             | 7*7               |\n",
            "|  4 | 2*2           | NO        |        2 | 24*24            | 12*12             | 8*8               |\n",
            "|  5 | 3*3           | NO        |        1 | 12*12            | 10*10             | 12*12             |\n",
            "|  6 | 3*3           | NO        |        1 | 10*10            | 8*8               | 16*16             |\n",
            "|  7 | 3*3           | NO        |        1 | 8*8              | 6*6               | 20*20             |\n",
            "=========================================================================================================\n"
          ]
        }
      ],
      "source": [
        " rf_df = receptive_field(model,28)"
      ]
    },
    {
      "cell_type": "code",
      "source": [
        "from torch.optim.lr_scheduler import StepLR"
      ],
      "metadata": {
        "id": "SJecwbTZd2WT"
      },
      "execution_count": null,
      "outputs": []
    },
    {
      "cell_type": "code",
      "execution_count": null,
      "metadata": {
        "id": "9K5wQ8C3klmX"
      },
      "outputs": [],
      "source": [
        "parameters = model.parameters()\n",
        "optimizer = SGD( params = parameters,lr = 0.01,momentum = 0.9)\n",
        "scheduler = StepLR(optimizer,step_size = 6,gamma = 0.1)"
      ]
    },
    {
      "cell_type": "code",
      "execution_count": null,
      "metadata": {
        "id": "5rfGAz-6qpCn"
      },
      "outputs": [],
      "source": [
        "# !pip install tqdm"
      ]
    },
    {
      "cell_type": "code",
      "execution_count": null,
      "metadata": {
        "id": "anEhEO5kq9Hg"
      },
      "outputs": [],
      "source": [
        "from tqdm import tqdm"
      ]
    },
    {
      "cell_type": "code",
      "execution_count": null,
      "metadata": {
        "id": "jE915BLywwtY",
        "cellView": "code"
      },
      "outputs": [],
      "source": [
        "#@title Default title text\n",
        "# # This is a Try\n",
        "\n",
        "# for data,target in train_loader:\n",
        "#     data,target = data.to(device),target.to(device)\n",
        "#     break\n",
        "# data1 = data[0]\n",
        "# data1 = data1.reshape(-1,1,28,28)\n",
        "# im = model.forward(data)\n",
        "# # plt.imshow(data1.reshape(28,28))\n",
        "# im.shape\n",
        "# im.view(-1,10)\n",
        "# target[5]\n",
        "# im[0].reshape(-1,10)\n",
        "# summary(model,(1,28,28))\n",
        "# im = model(data)\n",
        "# lo = f.nll_loss(im,target,reduction = 'sum')"
      ]
    },
    {
      "cell_type": "code",
      "execution_count": null,
      "metadata": {
        "id": "kjtTDqN9YHPN"
      },
      "outputs": [],
      "source": [
        "from pyparsing.core import WordEnd\n",
        "def trainning(model,device,train_data,optimizer,epochs):\n",
        "    model.train()\n",
        "    pbar = tqdm(train_loader)\n",
        "    acc_train = []\n",
        "    correct = 0\n",
        "    for index_id,(data,target) in enumerate(pbar):\n",
        "        data,target = data.to(device),target.to(device)\n",
        "        optimizer.zero_grad()\n",
        "        output = model(data)\n",
        "        loss = f.nll_loss(output,target)\n",
        "        loss.backward()\n",
        "        optimizer.step()\n",
        "        correct += output.argmax(dim = 1).eq(target).sum().item()\n",
        "        \n",
        "        pbar.set_description(f\"Epochs: {epochs} Batch:  {index_id} loss: {loss} Accuracy: {correct /len(train_loader.dataset) *100 :.2f}% \")\n",
        "\n",
        "\n",
        "l=[]\n",
        "acc = []\n",
        "def testing(model,device,test_data,optimizer,epochs):\n",
        "    model.eval()\n",
        "    test_loss = 0\n",
        "    correct = 0\n",
        "\n",
        "    with torch.no_grad():\n",
        "        for id_x,(data,target) in enumerate(test_loader):\n",
        "            data,target = data.to(device),target.to(device)\n",
        "            output = model(data)\n",
        "            test_loss += f.nll_loss(output,target,reduce='mean').item()\n",
        "            pred  = output.argmax(dim =1,keepdim = True)\n",
        "            correct += pred.eq(target.view_as(pred)).sum().item()\n",
        "            # print_wrong_image(output,target,data)\n",
        "    test_loss /= len(test_loader.dataset)\n",
        "\n",
        "    print('\\nTest set: Average loss: {:.4f}, Accuracy: {}/{} ({:.6f}%)\\n'.format(\n",
        "        test_loss, correct, len(test_loader.dataset),\n",
        "        100. * correct / len(test_loader.dataset)))\n",
        "    l.append(test_loss)\n",
        "    acc.append(100. * correct / len(test_loader.dataset))\n",
        "\n",
        "def print_wrong_image(model,device,data,label,n_images):\n",
        "    if n_images >= 10:\n",
        "        n_images = 10\n",
        "    \n",
        "    out = model((data/255).to(torch.float32).reshape(-1,1,28,28).to(device))\n",
        "    wrong_idx = (out.to(device).argmax(dim = 1).eq(label.to(device)) ==False).nonzero()\n",
        "    label = label.to('cpu')\n",
        "    img_data = (data/255).to(torch.float32).to('cpu')\n",
        "    wrong_idx = wrong_idx.to('cpu').squeeze()\n",
        "    # print (wrong_idx.shape)\n",
        "    # wrong_idx\n",
        "    np.random.shuffle(wrong_idx.numpy())\n",
        "    fig = plt.figure(figsize=(20,30))\n",
        "    count = 1\n",
        "    for image_index in wrong_idx:\n",
        "        n= image_index\n",
        "        ax = fig.add_subplot(1,10,count)\n",
        "        _=plt.imshow((img_data[n].reshape(28,28).to('cpu')))\n",
        "        _=plt.title(f\"idx:{n }\")\n",
        "        _=plt.xlabel(f\"Act:{label[n].item()} \")\n",
        "        _=plt.ylabel(f\"Pred: {out.argmax(dim = 1)[n].item()} \")\n",
        "        _ = plt.autoscale()\n",
        "        fig.tight_layout(pad = 1.0)\n",
        "        count+= 1\n",
        "        if count==11:\n",
        "            break"
      ]
    },
    {
      "cell_type": "code",
      "execution_count": null,
      "metadata": {
        "colab": {
          "base_uri": "https://localhost:8080/"
        },
        "id": "n1d0r4IGoTZx",
        "outputId": "0303b150-9bd6-44f4-9393-05d419d37015"
      },
      "outputs": [
        {
          "output_type": "stream",
          "name": "stderr",
          "text": [
            "Epochs: 0 Batch:  937 loss: 0.13559536635875702 Accuracy: 89.33% : 100%|██████████| 938/938 [00:21<00:00, 44.15it/s]\n"
          ]
        },
        {
          "output_type": "stream",
          "name": "stdout",
          "text": [
            "\n",
            "Test set: Average loss: 0.0019, Accuracy: 9643/10000 (96.430000%)\n",
            "\n"
          ]
        },
        {
          "output_type": "stream",
          "name": "stderr",
          "text": [
            "Epochs: 1 Batch:  937 loss: 0.29978805780410767 Accuracy: 96.55% : 100%|██████████| 938/938 [00:21<00:00, 44.00it/s]\n"
          ]
        },
        {
          "output_type": "stream",
          "name": "stdout",
          "text": [
            "\n",
            "Test set: Average loss: 0.0013, Accuracy: 9748/10000 (97.480000%)\n",
            "\n"
          ]
        },
        {
          "output_type": "stream",
          "name": "stderr",
          "text": [
            "Epochs: 2 Batch:  937 loss: 0.05101034417748451 Accuracy: 97.16% : 100%|██████████| 938/938 [00:21<00:00, 43.24it/s]\n"
          ]
        },
        {
          "output_type": "stream",
          "name": "stdout",
          "text": [
            "\n",
            "Test set: Average loss: 0.0011, Accuracy: 9779/10000 (97.790000%)\n",
            "\n"
          ]
        },
        {
          "output_type": "stream",
          "name": "stderr",
          "text": [
            "Epochs: 3 Batch:  937 loss: 0.29767337441444397 Accuracy: 97.53% : 100%|██████████| 938/938 [00:21<00:00, 43.44it/s]\n"
          ]
        },
        {
          "output_type": "stream",
          "name": "stdout",
          "text": [
            "\n",
            "Test set: Average loss: 0.0008, Accuracy: 9821/10000 (98.210000%)\n",
            "\n"
          ]
        },
        {
          "output_type": "stream",
          "name": "stderr",
          "text": [
            "Epochs: 4 Batch:  937 loss: 0.06357432901859283 Accuracy: 97.67% : 100%|██████████| 938/938 [00:21<00:00, 44.10it/s]\n"
          ]
        },
        {
          "output_type": "stream",
          "name": "stdout",
          "text": [
            "\n",
            "Test set: Average loss: 0.0009, Accuracy: 9819/10000 (98.190000%)\n",
            "\n"
          ]
        },
        {
          "output_type": "stream",
          "name": "stderr",
          "text": [
            "Epochs: 5 Batch:  937 loss: 0.06666821241378784 Accuracy: 97.78% : 100%|██████████| 938/938 [00:22<00:00, 41.28it/s]\n"
          ]
        },
        {
          "output_type": "stream",
          "name": "stdout",
          "text": [
            "\n",
            "Test set: Average loss: 0.0007, Accuracy: 9847/10000 (98.470000%)\n",
            "\n"
          ]
        },
        {
          "output_type": "stream",
          "name": "stderr",
          "text": [
            "Epochs: 6 Batch:  937 loss: 0.12252438813447952 Accuracy: 98.04% : 100%|██████████| 938/938 [00:22<00:00, 41.99it/s]\n"
          ]
        },
        {
          "output_type": "stream",
          "name": "stdout",
          "text": [
            "\n",
            "Test set: Average loss: 0.0007, Accuracy: 9860/10000 (98.600000%)\n",
            "\n"
          ]
        },
        {
          "output_type": "stream",
          "name": "stderr",
          "text": [
            "Epochs: 7 Batch:  937 loss: 0.26123732328414917 Accuracy: 98.18% : 100%|██████████| 938/938 [00:21<00:00, 43.50it/s]\n"
          ]
        },
        {
          "output_type": "stream",
          "name": "stdout",
          "text": [
            "\n",
            "Test set: Average loss: 0.0006, Accuracy: 9872/10000 (98.720000%)\n",
            "\n"
          ]
        },
        {
          "output_type": "stream",
          "name": "stderr",
          "text": [
            "Epochs: 8 Batch:  937 loss: 0.010040673427283764 Accuracy: 98.11% : 100%|██████████| 938/938 [00:22<00:00, 42.53it/s]\n"
          ]
        },
        {
          "output_type": "stream",
          "name": "stdout",
          "text": [
            "\n",
            "Test set: Average loss: 0.0007, Accuracy: 9859/10000 (98.590000%)\n",
            "\n"
          ]
        },
        {
          "output_type": "stream",
          "name": "stderr",
          "text": [
            "Epochs: 9 Batch:  937 loss: 0.0015510586090385914 Accuracy: 98.14% : 100%|██████████| 938/938 [00:22<00:00, 41.69it/s]\n"
          ]
        },
        {
          "output_type": "stream",
          "name": "stdout",
          "text": [
            "\n",
            "Test set: Average loss: 0.0006, Accuracy: 9889/10000 (98.890000%)\n",
            "\n"
          ]
        },
        {
          "output_type": "stream",
          "name": "stderr",
          "text": [
            "Epochs: 10 Batch:  937 loss: 0.0392460823059082 Accuracy: 98.33% : 100%|██████████| 938/938 [00:21<00:00, 44.07it/s]\n"
          ]
        },
        {
          "output_type": "stream",
          "name": "stdout",
          "text": [
            "\n",
            "Test set: Average loss: 0.0006, Accuracy: 9873/10000 (98.730000%)\n",
            "\n"
          ]
        },
        {
          "output_type": "stream",
          "name": "stderr",
          "text": [
            "Epochs: 11 Batch:  937 loss: 0.07933040708303452 Accuracy: 98.37% : 100%|██████████| 938/938 [00:21<00:00, 44.57it/s]\n"
          ]
        },
        {
          "output_type": "stream",
          "name": "stdout",
          "text": [
            "\n",
            "Test set: Average loss: 0.0006, Accuracy: 9888/10000 (98.880000%)\n",
            "\n"
          ]
        },
        {
          "output_type": "stream",
          "name": "stderr",
          "text": [
            "Epochs: 12 Batch:  937 loss: 0.11957432329654694 Accuracy: 98.41% : 100%|██████████| 938/938 [00:21<00:00, 44.14it/s]\n"
          ]
        },
        {
          "output_type": "stream",
          "name": "stdout",
          "text": [
            "\n",
            "Test set: Average loss: 0.0007, Accuracy: 9868/10000 (98.680000%)\n",
            "\n"
          ]
        },
        {
          "output_type": "stream",
          "name": "stderr",
          "text": [
            "Epochs: 13 Batch:  937 loss: 0.030832825228571892 Accuracy: 98.38% : 100%|██████████| 938/938 [00:21<00:00, 43.39it/s]\n"
          ]
        },
        {
          "output_type": "stream",
          "name": "stdout",
          "text": [
            "\n",
            "Test set: Average loss: 0.0006, Accuracy: 9878/10000 (98.780000%)\n",
            "\n"
          ]
        },
        {
          "output_type": "stream",
          "name": "stderr",
          "text": [
            "Epochs: 14 Batch:  937 loss: 0.0004684419836848974 Accuracy: 98.40% : 100%|██████████| 938/938 [00:21<00:00, 44.63it/s]\n"
          ]
        },
        {
          "output_type": "stream",
          "name": "stdout",
          "text": [
            "\n",
            "Test set: Average loss: 0.0005, Accuracy: 9893/10000 (98.930000%)\n",
            "\n"
          ]
        },
        {
          "output_type": "stream",
          "name": "stderr",
          "text": [
            "Epochs: 15 Batch:  937 loss: 0.00286745629273355 Accuracy: 98.45% : 100%|██████████| 938/938 [00:21<00:00, 44.59it/s]\n"
          ]
        },
        {
          "output_type": "stream",
          "name": "stdout",
          "text": [
            "\n",
            "Test set: Average loss: 0.0005, Accuracy: 9902/10000 (99.020000%)\n",
            "\n"
          ]
        },
        {
          "output_type": "stream",
          "name": "stderr",
          "text": [
            "Epochs: 16 Batch:  937 loss: 0.0020468118600547314 Accuracy: 98.43% : 100%|██████████| 938/938 [00:20<00:00, 44.84it/s]\n"
          ]
        },
        {
          "output_type": "stream",
          "name": "stdout",
          "text": [
            "\n",
            "Test set: Average loss: 0.0006, Accuracy: 9888/10000 (98.880000%)\n",
            "\n"
          ]
        },
        {
          "output_type": "stream",
          "name": "stderr",
          "text": [
            "Epochs: 17 Batch:  937 loss: 0.06696272641420364 Accuracy: 98.50% : 100%|██████████| 938/938 [00:20<00:00, 44.75it/s]\n"
          ]
        },
        {
          "output_type": "stream",
          "name": "stdout",
          "text": [
            "\n",
            "Test set: Average loss: 0.0005, Accuracy: 9902/10000 (99.020000%)\n",
            "\n"
          ]
        },
        {
          "output_type": "stream",
          "name": "stderr",
          "text": [
            "Epochs: 18 Batch:  937 loss: 0.03078502230346203 Accuracy: 98.53% : 100%|██████████| 938/938 [00:21<00:00, 44.34it/s]\n"
          ]
        },
        {
          "output_type": "stream",
          "name": "stdout",
          "text": [
            "\n",
            "Test set: Average loss: 0.0005, Accuracy: 9892/10000 (98.920000%)\n",
            "\n"
          ]
        },
        {
          "output_type": "stream",
          "name": "stderr",
          "text": [
            "Epochs: 19 Batch:  937 loss: 0.08893462270498276 Accuracy: 98.54% : 100%|██████████| 938/938 [00:20<00:00, 44.74it/s]\n"
          ]
        },
        {
          "output_type": "stream",
          "name": "stdout",
          "text": [
            "\n",
            "Test set: Average loss: 0.0005, Accuracy: 9896/10000 (98.960000%)\n",
            "\n"
          ]
        }
      ],
      "source": [
        "for epochs in range(0,20):\n",
        "    trainning(model,device,train_loader,optimizer,epochs)\n",
        "    testing(model,device,test_loader,optimizer,epochs)"
      ]
    },
    {
      "cell_type": "code",
      "source": [
        "train_data = train.train_data\n",
        "train_labels = train.train_labels\n",
        "print_wrong_image(model,device,train_data,train_labels,10)"
      ],
      "metadata": {
        "colab": {
          "base_uri": "https://localhost:8080/",
          "height": 174
        },
        "id": "AzqHBsUZ4xST",
        "outputId": "930afe91-8c8f-498a-a2c2-3f37ee239807"
      },
      "execution_count": null,
      "outputs": [
        {
          "output_type": "display_data",
          "data": {
            "image/png": "[encoded data removed]",
            "text/plain": [
              "<Figure size 1440x2160 with 10 Axes>"
            ]
          },
          "metadata": {
            "needs_background": "light"
          }
        }
      ]
    },
    {
      "cell_type": "code",
      "source": [
        "test_data = test.test_data\n",
        "test_labels = test.test_labels\n",
        "print_wrong_image(model,device,test_data,test_labels,10)"
      ],
      "metadata": {
        "colab": {
          "base_uri": "https://localhost:8080/",
          "height": 174
        },
        "id": "u4oKP6-Z5qRe",
        "outputId": "7d53ced3-18e9-4ea1-df2c-b609ecad6d30"
      },
      "execution_count": null,
      "outputs": [
        {
          "output_type": "display_data",
          "data": {
            "image/png": "[encoded data removed]",
            "text/plain": [
              "<Figure size 1440x2160 with 10 Axes>"
            ]
          },
          "metadata": {
            "needs_background": "light"
          }
        }
      ]
    },
    {
      "cell_type": "code",
      "source": [
        "import torch, gc\n",
        "gc.collect()\n",
        "torch.cuda.empty_cache()"
      ],
      "metadata": {
        "colab": {
          "base_uri": "https://localhost:8080/"
        },
        "id": "p1zW2otw-cQt",
        "outputId": "70212b8b-de65-4c78-b4db-5ed9766fe341"
      },
      "execution_count": null,
      "outputs": [
        {
          "output_type": "execute_result",
          "data": {
            "text/plain": [
              "38457"
            ]
          },
          "metadata": {},
          "execution_count": 56
        }
      ]
    },
    {
      "cell_type": "code",
      "source": [
        ""
      ],
      "metadata": {
        "id": "WHJWzecvBvLR"
      },
      "execution_count": null,
      "outputs": []
    }
  ],
  "metadata": {
    "colab": {
      "collapsed_sections": [],
      "name": "Mnist_try.ipynb",
      "provenance": [],
      "authorship_tag": "ABX9TyMMXI5gbdGt0+c7cN0wY+Ho",
      "include_colab_link": true
    },
    "kernelspec": {
      "display_name": "Python 3",
      "name": "python3"
    },
    "language_info": {
      "name": "python"
    }
  },
  "nbformat": 4,
  "nbformat_minor": 0
}