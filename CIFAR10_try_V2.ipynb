{
  "cells": [
    {
      "cell_type": "markdown",
      "metadata": {
        "id": "view-in-github",
        "colab_type": "text"
      },
      "source": [
        "<a href=\"https://colab.research.google.com/github/Code-Trees/CNN/blob/master/CIFAR10_try_V2.ipynb\" target=\"_parent\"><img src=\"https://colab.research.google.com/assets/colab-badge.svg\" alt=\"Open In Colab\"/></a>"
      ]
    },
    {
      "cell_type": "code",
      "execution_count": 102,
      "metadata": {
        "id": "2nYRkYAkxIhf"
      },
      "outputs": [],
      "source": [
        "# Requirement Check"
      ]
    },
    {
      "cell_type": "code",
      "execution_count": 103,
      "metadata": {
        "id": "TpNG8BrvS1iq"
      },
      "outputs": [],
      "source": [
        "# !pip install -U albumentations\n",
        "# !pip install opencv-python\n",
        "# !pip install opencv-python-headless==4.5.2.52\n",
        "# !pip install Pillow\n",
        "# !pip install rf_calc"
      ]
    },
    {
      "cell_type": "code",
      "execution_count": 104,
      "metadata": {
        "id": "lS60UZTSjNOC"
      },
      "outputs": [],
      "source": [
        "import warnings\n",
        "warnings.filterwarnings('ignore')"
      ]
    },
    {
      "cell_type": "code",
      "execution_count": 105,
      "metadata": {
        "colab": {
          "base_uri": "https://localhost:8080/",
          "height": 34
        },
        "id": "QVbdg0z4poCc",
        "outputId": "a09d5598-a802-4575-b092-6cbba1716c1e"
      },
      "outputs": [
        {
          "output_type": "display_data",
          "data": {
            "application/javascript": [
              "IPython.notebook.set_autosave_interval(10000)"
            ]
          },
          "metadata": {}
        },
        {
          "output_type": "stream",
          "name": "stdout",
          "text": [
            "Autosaving every 10 seconds\n"
          ]
        }
      ],
      "source": [
        "from IPython.core.interactiveshell import InteractiveShell\n",
        "InteractiveShell.ast_node_interactivity = 'all'\n",
        "%autosave 10"
      ]
    },
    {
      "cell_type": "code",
      "execution_count": 106,
      "metadata": {
        "id": "R5mwABzayFAH"
      },
      "outputs": [],
      "source": [
        "import torch\n",
        "import torch.nn.functional as F\n",
        "import torch.nn as nn\n",
        "\n",
        "from torch.optim import SGD\n",
        "from torch.utils.data import DataLoader\n",
        "from torch.utils.data.dataset import Dataset\n",
        "from torch.optim.lr_scheduler import StepLR\n",
        "\n",
        "from torchvision import transforms,datasets\n",
        "\n",
        "import numpy as np\n",
        "import matplotlib.pyplot as plt\n",
        "from torchsummary import summary\n",
        "import random\n",
        "import seaborn as sns\n",
        "import gc\n",
        "\n",
        "import albumentations as A\n",
        "from albumentations.augmentations.geometric.resize import Resize\n",
        "from albumentations.pytorch.transforms import ToTensorV2"
      ]
    },
    {
      "cell_type": "code",
      "execution_count": 106,
      "metadata": {
        "id": "536wcDeSyFNV"
      },
      "outputs": [],
      "source": [
        ""
      ]
    },
    {
      "cell_type": "code",
      "execution_count": 107,
      "metadata": {
        "id": "0_UHX_gL2Bp2"
      },
      "outputs": [],
      "source": [
        "# we will use the CIFAR10 dataset. It has the classes:\n",
        "# ‘airplane’, ‘automobile’, ‘bird’, ‘cat’, ‘deer’, ‘dog’, ‘frog’, ‘horse’, ‘ship’, ‘truck’.\n",
        "# The images in CIFAR-10 are of size 3x32x32, i.e. 3-channel color images of 32x32 pixels in size."
      ]
    },
    {
      "cell_type": "code",
      "execution_count": 108,
      "metadata": {
        "id": "HKtfXQ8o20UO"
      },
      "outputs": [],
      "source": [
        "from tqdm import tqdm\n",
        "from rf_calc import receptive_field"
      ]
    },
    {
      "cell_type": "code",
      "execution_count": 109,
      "metadata": {
        "id": "vmMDwq7b17ou"
      },
      "outputs": [],
      "source": [
        "def get_data(train_transform_composes =None ,test_transform_composes =None):\n",
        "    \"\"\"We can compose customs , else the default is tensors \n",
        "    \"\"\"\n",
        "    train = datasets.CIFAR10(root= './',download = True, train = True,transform = train_transform_composes)\n",
        "    \n",
        "    test = datasets.CIFAR10(root= './',download = True, train = False ,transform = train_transform_composes)\n",
        "\n",
        "    return train,test \n"
      ]
    },
    {
      "cell_type": "code",
      "execution_count": 110,
      "metadata": {
        "id": "VhvjgRRvY9j7"
      },
      "outputs": [],
      "source": [
        "def plot_unique_images(data_set,labels = None):\n",
        "    img_data = data_set.data\n",
        "    target = data_set.targets.copy()\n",
        "\n",
        "    fig = plt.figure(figsize=(30,30))\n",
        "    count = 1\n",
        "    unique_images_index = [random.choice(np.where(np.array(target) == search)[0]) for search in list(set(target))]\n",
        "\n",
        "    for image_index in unique_images_index:\n",
        "        n= image_index\n",
        "        ax = fig.add_subplot(1,10,count)\n",
        "        _=plt.imshow(img_data[n])\n",
        "        try:\n",
        "            _=plt.title(f\"label :{labels[target[n]]} idx:{n}\")\n",
        "        except:\n",
        "            _=plt.title(f\"idx:{n} Label: {target[n]}\")\n",
        "        _ = plt.autoscale()\n",
        "        _= fig.tight_layout(pad =1)\n",
        "        count+= 1\n",
        "        if count>=len(target):\n",
        "            break\n",
        "    plt.show()\n"
      ]
    },
    {
      "cell_type": "code",
      "execution_count": 111,
      "metadata": {
        "id": "jDzg2TuWZBYi"
      },
      "outputs": [],
      "source": [
        "def get_data_stats(dataset_train,dataset_test = None,img_norm_typ ='train',plot = False):\n",
        "    MEAN = []\n",
        "    STD = []\n",
        "    VAR = []\n",
        "    if img_norm_typ == 'train':\n",
        "        fig = plt.figure(figsize=(15,5))\n",
        "        for i in range(0,dataset_train.data.shape[len(dataset_train.data.shape)-1]):\n",
        "            scale = dataset_train.data[:,:,:,i]/dataset_train.data[:,:,:,i].max()\n",
        "            MEAN.append(scale.mean())\n",
        "            STD.append(scale.std())\n",
        "            VAR.append(scale.var())\n",
        "            if plot == True:\n",
        "                ax = fig.add_subplot(1,3,i+1)\n",
        "                _=sns.histplot(scale.reshape(-1) )\n",
        "                _=plt.title(f\"label :{'Train' if dataset_train.train else 'Test' } Channel:{i+1}\")\n",
        "                _= plt.xlabel(f\"Mean:{round(MEAN[i],3)}, std:{round(STD[i],3)}, var:{round(VAR[i],3)}\")\n",
        "                _ = plt.autoscale()\n",
        "                _= fig.tight_layout(pad =1)\n",
        "        # plt.show()\n",
        "        # print(f\" For {'Train' if dataset_train.train else 'Test'} data, Mean: {MEAN} || Variance: {VAR} || Standard Dev: {STD} || Data Dim: {dataset_train.data.shape}\")\n",
        "\n",
        "    elif img_norm_typ == 'train+test':\n",
        "        fig = plt.figure(figsize=(10,5))\n",
        "        mega_data  =np.append(dataset_train.data, dataset_test.data, 0)\n",
        "        scale = mega_data[:,:,:,i]/mega_data[:,:,:,i].max()\n",
        "        MEAN.append(scale.mean())\n",
        "        STD.append(scale.std())\n",
        "        VAR.append(scale.var())\n",
        "        if plot == True:\n",
        "                ax = fig.add_subplot(1,3,i+1)\n",
        "                _=sns.histplot(scale.reshape(-1))\n",
        "                _=plt.title(f\"label :{'Train' if dataset_train.train else 'Test' } Channel:{i+1}\")\n",
        "                _= plt.xlabel(f\"Mean:{round(MEAN[i],3)},std:{round(STD[i],3)},var:{round(VAR[i],3)}\")\n",
        "                _ = plt.autoscale()\n",
        "                _= fig.tight_layout(pad =1)\n",
        "        # print(f\"For {'Train' if dataset_train.train else 'Test'} data, Mean: {MEAN} || Variance: {VAR} || Standard Dev: {STD} || for {mega_data.shape} Dim\")\n",
        "    return tuple(MEAN),tuple(STD)\n",
        "\n"
      ]
    },
    {
      "cell_type": "code",
      "execution_count": 112,
      "metadata": {
        "colab": {
          "base_uri": "https://localhost:8080/"
        },
        "id": "epO0bJ9W166u",
        "outputId": "37650d13-c078-4943-b0a6-20ca696e9280"
      },
      "outputs": [
        {
          "output_type": "stream",
          "name": "stdout",
          "text": [
            "Files already downloaded and verified\n",
            "Files already downloaded and verified\n"
          ]
        }
      ],
      "source": [
        "train,test = get_data()"
      ]
    },
    {
      "cell_type": "code",
      "execution_count": 113,
      "metadata": {
        "colab": {
          "base_uri": "https://localhost:8080/"
        },
        "id": "uh9u0GTk3K7L",
        "outputId": "f0bbe1ce-56ad-470c-e940-0eb4e9f82f2e"
      },
      "outputs": [
        {
          "output_type": "execute_result",
          "data": {
            "text/plain": [
              "(50000, 32, 32, 3)"
            ]
          },
          "metadata": {},
          "execution_count": 113
        },
        {
          "output_type": "execute_result",
          "data": {
            "text/plain": [
              "50000"
            ]
          },
          "metadata": {},
          "execution_count": 113
        },
        {
          "output_type": "execute_result",
          "data": {
            "text/plain": [
              "(10000, 32, 32, 3)"
            ]
          },
          "metadata": {},
          "execution_count": 113
        },
        {
          "output_type": "execute_result",
          "data": {
            "text/plain": [
              "10000"
            ]
          },
          "metadata": {},
          "execution_count": 113
        }
      ],
      "source": [
        "train.data.shape\n",
        "len(train.targets)\n",
        "test.data.shape\n",
        "len(test.targets)"
      ]
    },
    {
      "cell_type": "code",
      "execution_count": 114,
      "metadata": {
        "colab": {
          "base_uri": "https://localhost:8080/",
          "height": 404
        },
        "id": "sUOh7izWQx4B",
        "outputId": "d06c06df-4e99-41ca-8715-e0c8cd14c4ce"
      },
      "outputs": [
        {
          "output_type": "display_data",
          "data": {
            "image/png": "[encoded data removed]",
            "text/plain": [
              "<Figure size 2160x2160 with 10 Axes>"
            ]
          },
          "metadata": {
            "needs_background": "light"
          }
        },
        {
          "output_type": "display_data",
          "data": {
            "image/png": "[encoded data removed]",
            "text/plain": [
              "<Figure size 2160x2160 with 10 Axes>"
            ]
          },
          "metadata": {
            "needs_background": "light"
          }
        }
      ],
      "source": [
        "labels = {0:'airplane',1:'automobile',2:'bird',3:'cat',4:'deer',5:'dog',6:'frog',7:'horse',8:'ship',9:'truck'}\n",
        "plot_unique_images(train,labels =labels)\n",
        "plot_unique_images(train,labels =labels)"
      ]
    },
    {
      "cell_type": "code",
      "execution_count": 115,
      "metadata": {
        "id": "7y222dwRSTsb"
      },
      "outputs": [],
      "source": [
        "#Calculating mean and veriance and std"
      ]
    },
    {
      "cell_type": "code",
      "execution_count": 116,
      "metadata": {
        "colab": {
          "base_uri": "https://localhost:8080/",
          "height": 34
        },
        "id": "9hmSYR5PWgO7",
        "outputId": "dbb84fa1-01a0-4e9d-be12-1e9efd109858"
      },
      "outputs": [
        {
          "output_type": "display_data",
          "data": {
            "text/plain": [
              "<Figure size 1080x360 with 0 Axes>"
            ]
          },
          "metadata": {}
        }
      ],
      "source": [
        "mean,std  = get_data_stats(train,test,img_norm_typ ='train',plot = False)"
      ]
    },
    {
      "cell_type": "code",
      "execution_count": 117,
      "metadata": {
        "id": "drERcp4uhS4D"
      },
      "outputs": [],
      "source": [
        "# dir(A.pytorch.transforms)"
      ]
    },
    {
      "cell_type": "code",
      "source": [
        "mean"
      ],
      "metadata": {
        "colab": {
          "base_uri": "https://localhost:8080/"
        },
        "id": "ThMhKRfXqDr1",
        "outputId": "5173cd1e-ab24-4bbf-8c7f-b82b27b37d50"
      },
      "execution_count": 118,
      "outputs": [
        {
          "output_type": "execute_result",
          "data": {
            "text/plain": [
              "(0.49139967861519745, 0.4821584083946076, 0.44653091444546616)"
            ]
          },
          "metadata": {},
          "execution_count": 118
        }
      ]
    },
    {
      "cell_type": "code",
      "source": [
        "std"
      ],
      "metadata": {
        "colab": {
          "base_uri": "https://localhost:8080/"
        },
        "id": "BjUQRC5qqFMO",
        "outputId": "3a730528-dc69-4eb1-df0d-4cf2b9acd7d5"
      },
      "execution_count": 119,
      "outputs": [
        {
          "output_type": "execute_result",
          "data": {
            "text/plain": [
              "(0.2470322324632823, 0.24348512800005553, 0.2615878417279641)"
            ]
          },
          "metadata": {},
          "execution_count": 119
        }
      ]
    },
    {
      "cell_type": "code",
      "source": [
        "# Base Normalization\n",
        "train_transform =A.Compose([A.Resize(32,32),\n",
        "                            A.Normalize(mean = mean,std = std,max_pixel_value=255,always_apply = True),\n",
        "                            ToTensorV2(transpose_mask =False),\n",
        "                            ])      \n",
        "test_transform = A.Compose([A.Resize(32,32),\n",
        "                            A.Normalize(mean = mean,std = std,max_pixel_value=255,always_apply = True),\n",
        "                            ToTensorV2(transpose_mask =False,),\n",
        "                            ])"
      ],
      "metadata": {
        "id": "nOvXHwrSqKJj"
      },
      "execution_count": 150,
      "outputs": []
    },
    {
      "cell_type": "code",
      "source": [
        " t = train.data\n",
        "type(t[10])\n",
        "\n",
        "a = t[np.random.randint(0,50000)]\n",
        "_ = plt.imshow(a)\n",
        "_ = plt.show()\n",
        "_ = plt.subplots(figsize = (5,5))\n",
        "a = train_transform(image = a)[\"image\"]\n",
        "a.shape\n",
        "_ = plt.imshow(np.transpose(a,(1,2,0)))\n",
        "_ = plt.show()"
      ],
      "metadata": {
        "colab": {
          "base_uri": "https://localhost:8080/",
          "height": 604
        },
        "id": "oaJ7J8rAqTSr",
        "outputId": "448baf10-f407-4eb1-f839-46ff530371f4"
      },
      "execution_count": 190,
      "outputs": [
        {
          "output_type": "execute_result",
          "data": {
            "text/plain": [
              "numpy.ndarray"
            ]
          },
          "metadata": {},
          "execution_count": 190
        },
        {
          "output_type": "display_data",
          "data": {
            "image/png": "[encoded data removed]",
            "text/plain": [
              "<Figure size 432x288 with 1 Axes>"
            ]
          },
          "metadata": {
            "needs_background": "light"
          }
        },
        {
          "output_type": "execute_result",
          "data": {
            "text/plain": [
              "torch.Size([3, 32, 32])"
            ]
          },
          "metadata": {},
          "execution_count": 190
        },
        {
          "output_type": "stream",
          "name": "stderr",
          "text": [
            "Clipping input data to the valid range for imshow with RGB data ([0..1] for floats or [0..255] for integers).\n"
          ]
        },
        {
          "output_type": "display_data",
          "data": {
            "image/png": "[encoded data removed]",
            "text/plain": [
              "<Figure size 360x360 with 1 Axes>"
            ]
          },
          "metadata": {
            "needs_background": "light"
          }
        }
      ]
    },
    {
      "cell_type": "code",
      "execution_count": 152,
      "metadata": {
        "id": "Z9MBD0jPacQN"
      },
      "outputs": [],
      "source": [
        "# Advanced Normalization\n",
        "# train_transform =A.Compose([A.Resize(32,32),\n",
        "#                             A.Normalize(mean = mean,std = std,max_pixel_value=255,always_apply = True),\n",
        "#                             A.ShiftScaleRotate(always_apply=False),\n",
        "#                             A.CoarseDropout(always_apply = False,max_holes = 1, max_height=16, max_width=16, min_holes = 1, min_height=16, min_width=16, fill_value=mean, mask_fill_value = None),\n",
        "#                             ToTensorV2(transpose_mask =False),\n",
        "#                             ])      \n",
        "# test_transform = A.Compose([A.Resize(32,32),\n",
        "#                             A.Normalize(mean = mean,std = std,max_pixel_value=255,always_apply = True),\n",
        "#                             ToTensorV2(transpose_mask =False),\n",
        "#                             ])"
      ]
    },
    {
      "cell_type": "code",
      "execution_count": 152,
      "metadata": {
        "id": "ErA4gL-Vbp46"
      },
      "outputs": [],
      "source": [
        ""
      ]
    },
    {
      "cell_type": "code",
      "execution_count": 153,
      "metadata": {
        "id": "MEmErKJYn3cn"
      },
      "outputs": [],
      "source": [
        "class AlbumDataset(Dataset):\n",
        "    \"\"\"Face Landmarks dataset.\"\"\"\n",
        "\n",
        "    def __init__(self, data,transform=None):\n",
        "        \"\"\"\n",
        "        Args:\n",
        "            csv_file (string): Path to the csv file with annotations.\n",
        "            root_dir (string): Directory with all the images.\n",
        "            transform (callable, optional): Optional transform to be applied\n",
        "                on a sample.\n",
        "        \"\"\"\n",
        "        self.train = train.data\n",
        "        self.label = train.targets\n",
        "        self.transform = transform\n",
        "\n",
        "    def __len__(self):\n",
        "        return (len(self.train))\n",
        "\n",
        "    def __getitem__(self, idx):\n",
        "        image = self.train[idx]\n",
        "        image = np.array(image)\n",
        "        # image = image.fromarray(image).convert('RGB')\n",
        "        # image = np.asarray(image).astype(np.unit8)\n",
        "        if self.transform:\n",
        "            aug_image = self.transform(image= image)[\"image\"]\n",
        "        aug_image = torch.tensor(aug_image,dtype =torch.float)\n",
        "        return aug_image,self.label[idx]"
      ]
    },
    {
      "cell_type": "code",
      "execution_count": 154,
      "metadata": {
        "id": "5BrYDedLaQi2"
      },
      "outputs": [],
      "source": [
        "train_alb = AlbumDataset(train,train_transform)\n",
        "test_alb = AlbumDataset(test,test_transform)"
      ]
    },
    {
      "cell_type": "code",
      "source": [
        ""
      ],
      "metadata": {
        "id": "BNqHbzFBpDd2"
      },
      "execution_count": 154,
      "outputs": []
    },
    {
      "cell_type": "code",
      "execution_count": 155,
      "metadata": {
        "id": "o1QoCL7MwTOt"
      },
      "outputs": [],
      "source": [
        "batch_size = 64\n",
        "epochs = 25\n",
        "\n",
        "args = {'pin_memory':True,'num_workers':4} if torch.cuda.is_available() else {}\n",
        "train_loader = DataLoader(train_alb,batch_size=batch_size,shuffle = True,**args)\n",
        "test_loader = DataLoader(test_alb,batch_size=batch_size,**args)"
      ]
    },
    {
      "cell_type": "code",
      "source": [
        "for data,target in train_loader:\n",
        "    data = data.to(\"cpu\")\n",
        "    target = target.to(\"cpu\")\n",
        "    break"
      ],
      "metadata": {
        "id": "JFo5Tv2Vtahd"
      },
      "execution_count": 156,
      "outputs": []
    },
    {
      "cell_type": "code",
      "source": [
        "data.shape"
      ],
      "metadata": {
        "colab": {
          "base_uri": "https://localhost:8080/"
        },
        "id": "GuLcheDfu5c-",
        "outputId": "1891796d-296b-49eb-85ae-9fd54ba49149"
      },
      "execution_count": 157,
      "outputs": [
        {
          "output_type": "execute_result",
          "data": {
            "text/plain": [
              "torch.Size([64, 3, 32, 32])"
            ]
          },
          "metadata": {},
          "execution_count": 157
        }
      ]
    },
    {
      "cell_type": "code",
      "source": [
        "np.transpose(data[10])."
      ],
      "metadata": {
        "colab": {
          "base_uri": "https://localhost:8080/"
        },
        "id": "3vYu5krOvcuf",
        "outputId": "ca2cbfd1-c8a0-4af6-b262-228c790ebbfb"
      },
      "execution_count": 159,
      "outputs": [
        {
          "output_type": "execute_result",
          "data": {
            "text/plain": [
              "torch.Size([32, 32, 3])"
            ]
          },
          "metadata": {},
          "execution_count": 159
        }
      ]
    },
    {
      "cell_type": "code",
      "source": [
        "plt.imshow(np.array(np.transpose(data[3].to(\"cpu\"),(1,2,0))))"
      ],
      "metadata": {
        "colab": {
          "base_uri": "https://localhost:8080/",
          "height": 301
        },
        "id": "3qSoIkOevxFX",
        "outputId": "ef648527-6c31-47de-b197-50dda6d407b5"
      },
      "execution_count": 189,
      "outputs": [
        {
          "output_type": "stream",
          "name": "stderr",
          "text": [
            "Clipping input data to the valid range for imshow with RGB data ([0..1] for floats or [0..255] for integers).\n"
          ]
        },
        {
          "output_type": "execute_result",
          "data": {
            "text/plain": [
              "<matplotlib.image.AxesImage at 0x7fcd48c82750>"
            ]
          },
          "metadata": {},
          "execution_count": 189
        },
        {
          "output_type": "display_data",
          "data": {
            "image/png": "[encoded data removed]",
            "text/plain": [
              "<Figure size 432x288 with 1 Axes>"
            ]
          },
          "metadata": {
            "needs_background": "light"
          }
        }
      ]
    },
    {
      "cell_type": "code",
      "source": [
        "plt.imshow(np.array(data[10].to(\"cpu\")))"
      ],
      "metadata": {
        "colab": {
          "base_uri": "https://localhost:8080/",
          "height": 301
        },
        "id": "iv53ft6Ntdwp",
        "outputId": "887b5b9c-d053-49e8-f4fb-edba8c7ef2f9"
      },
      "execution_count": 167,
      "outputs": [
        {
          "output_type": "stream",
          "name": "stderr",
          "text": [
            "Clipping input data to the valid range for imshow with RGB data ([0..1] for floats or [0..255] for integers).\n"
          ]
        },
        {
          "output_type": "execute_result",
          "data": {
            "text/plain": [
              "<matplotlib.image.AxesImage at 0x7fce7ee40e10>"
            ]
          },
          "metadata": {},
          "execution_count": 167
        },
        {
          "output_type": "display_data",
          "data": {
            "image/png": "[encoded data removed]",
            "text/plain": [
              "<Figure size 432x288 with 1 Axes>"
            ]
          },
          "metadata": {
            "needs_background": "light"
          }
        }
      ]
    },
    {
      "cell_type": "code",
      "execution_count": 168,
      "metadata": {
        "id": "r0UaSg3IBa2A"
      },
      "outputs": [],
      "source": [
        "class GhostBatchNorm(nn.BatchNorm2d):\n",
        "    \"\"\"\n",
        "    From : https://github.com/davidcpage/cifar10-fast/blob/master/bag_of_tricks.ipynb\n",
        "\n",
        "    Batch norm seems to work best with batch size of around 32. The reasons presumably have to do \n",
        "    with noise in the batch statistics and specifically a balance between a beneficial regularising effect \n",
        "    at intermediate batch sizes and an excess of noise at small batches.\n",
        "    \n",
        "    Our batches are of size 512 and we can't afford to reduce them without taking a serious hit on training times, \n",
        "    but we can apply batch norm separately to subsets of a training batch. This technique, known as 'ghost' batch \n",
        "    norm, is usually used in a distributed setting but is just as useful when using large batches on a single node. \n",
        "    It isn't supported directly in PyTorch but we can roll our own easily enough.\n",
        "    \"\"\"\n",
        "    def __init__(self, num_features, num_splits, eps=1e-05, momentum=0.1, weight=True, bias=True):\n",
        "        super(GhostBatchNorm, self).__init__(num_features, eps=eps, momentum=momentum)\n",
        "        self.weight.data.fill_(1.0)\n",
        "        self.bias.data.fill_(0.0)\n",
        "        self.weight.requires_grad = weight\n",
        "        self.bias.requires_grad = bias        \n",
        "        self.num_splits = num_splits\n",
        "        self.register_buffer('running_mean', torch.zeros(num_features*self.num_splits))\n",
        "        self.register_buffer('running_var', torch.ones(num_features*self.num_splits))\n",
        "\n",
        "    def train(self, mode=True):\n",
        "        if (self.training is True) and (mode is False):\n",
        "            self.running_mean = torch.mean(self.running_mean.view(self.num_splits, self.num_features), dim=0).repeat(self.num_splits)\n",
        "            self.running_var = torch.mean(self.running_var.view(self.num_splits, self.num_features), dim=0).repeat(self.num_splits)\n",
        "        return super(GhostBatchNorm, self).train(mode)\n",
        "        \n",
        "    def forward(self, input):\n",
        "        N, C, H, W = input.shape\n",
        "        if self.training or not self.track_running_stats:\n",
        "            return F.batch_norm(\n",
        "                input.view(-1, C*self.num_splits, H, W), self.running_mean, self.running_var, \n",
        "                self.weight.repeat(self.num_splits), self.bias.repeat(self.num_splits),\n",
        "                True, self.momentum, self.eps).view(N, C, H, W) \n",
        "        else:\n",
        "            return F.batch_norm(\n",
        "                input, self.running_mean[:self.num_features], self.running_var[:self.num_features], \n",
        "                self.weight, self.bias, False, self.momentum, self.eps)"
      ]
    },
    {
      "cell_type": "code",
      "execution_count": 169,
      "metadata": {
        "id": "vSYBqMQS_-Tf"
      },
      "outputs": [],
      "source": [
        "def Normalize(norm_type,num_features,n_group=2):\n",
        "    if norm_type == 'bn':\n",
        "        return nn.BatchNorm2d(num_features = num_features)\n",
        "\n",
        "    elif norm_type =='gn':\n",
        "        return nn.GroupNorm(num_groups=n_group ,num_channels=num_features)\n",
        "    \n",
        "    elif norm_type =='ln':\n",
        "        return nn.GroupNorm(num_groups =1, num_channels=num_features)\n",
        "\n",
        "    elif norm_type == 'gbn':\n",
        "        return  GhostBatchNorm(num_features, num_splits=4, weight=False)\n",
        "        \n",
        "    else:\n",
        "        print ('Invalid norm Parameter, Providing Default as BN ')\n",
        "        return nn.BatchNorm2d(num_features = num_features,)"
      ]
    },
    {
      "cell_type": "code",
      "execution_count": 170,
      "metadata": {
        "id": "1sYqJno_Oifq"
      },
      "outputs": [],
      "source": [
        "class Depthwise_sep_conv(nn.Module):\n",
        "    def __init__(self,in_channels,out_channels,dropout_val=0.1,norm_type = 'bn',stride = 1):\n",
        "        super(Depthwise_sep_conv,self).__init__()\n",
        "        self.in_channels  = in_channels\n",
        "        self.out_channels = out_channels\n",
        "        self.stride = stride\n",
        "        self.dropout_val = dropout_val\n",
        "        self.norm_type = norm_type\n",
        "\n",
        "        self.deptwiseseperable = nn.Conv2d(in_channels=self.in_channels, out_channels=self.in_channels,kernel_size =(3,3), stride = self.stride,padding = 1,groups = self.in_channels, bias = False)\n",
        "        self.pointwise = nn.Conv2d(in_channels=self.in_channels, out_channels=self.out_channels,kernel_size =(1,1), stride =1, bias = False)\n",
        "        self.norm = Normalize(norm_type = self.norm_type ,num_features= self.out_channels)\n",
        "        self.relu = nn.ReLU()\n",
        "        self.drop = nn.Dropout2d(p = self.dropout_val)\n",
        "    \n",
        "    def forward(self,x):\n",
        "        x = self.deptwiseseperable(x)\n",
        "        x = self.pointwise(x)\n",
        "        x = self.relu(x)\n",
        "        x = self.drop(x)\n",
        "        return x"
      ]
    },
    {
      "cell_type": "code",
      "execution_count": 171,
      "metadata": {
        "id": "i2imTJ9DCj2d"
      },
      "outputs": [],
      "source": [
        "class ConvBlock(nn.Module):\n",
        "    def __init__(self,in_channels,out_channels,stride,padding,kernel_size=(3,3),norm_type = 'bn' ,dropout_val = 0):\n",
        "        super(ConvBlock,self).__init__()\n",
        "        self.in_channels = in_channels\n",
        "        self.out_channels = out_channels\n",
        "        self.stride=stride\n",
        "        self.padding= padding\n",
        "        self.kernel_size=kernel_size\n",
        "        self.norm_type = norm_type\n",
        "        self.dropout_val = dropout_val\n",
        "\n",
        "        self.conv = nn.Conv2d(in_channels=self.in_channels, out_channels=self.out_channels,kernel_size=self.kernel_size,stride =self.stride,padding = self.padding,bias = False)\n",
        "        self.norm = Normalize(norm_type = self.norm_type ,num_features= self.out_channels)\n",
        "        self.relu = nn.ReLU()\n",
        "        self.drop = nn.Dropout2d(p = self.dropout_val)\n",
        "\n",
        "    def forward(self,x):\n",
        "        x = self.relu(self.norm(self.conv(x)))\n",
        "        x= self.drop(x)\n",
        "        return x"
      ]
    },
    {
      "cell_type": "code",
      "execution_count": 172,
      "metadata": {
        "id": "BXaOiEc8yoVo"
      },
      "outputs": [],
      "source": [
        "class Cifar10Net(nn.Module):\n",
        "    def __init__(self,dropout_val = 0,norm_type = 'bn'):\n",
        "        super(Cifar10Net,self).__init__()\n",
        "        self.norm_type = norm_type\n",
        "        self.drop = dropout_val\n",
        "\n",
        "        self.block1 = nn.Sequential(\n",
        "            ConvBlock(in_channels=3,out_channels=8,kernel_size = (3,3),stride = 1, padding = 0,norm_type = self.norm_type,dropout_val= self.drop),\n",
        "            ConvBlock(in_channels=8,out_channels=8,kernel_size = (3,3),stride = 1, padding = 1,norm_type = self.norm_type,dropout_val= self.drop),\n",
        "            ConvBlock(in_channels=8,out_channels=16,kernel_size = (3,3),stride = 1, padding = 1,norm_type = self.norm_type,dropout_val= self.drop),\n",
        "            )#Input : 32x32x3 |  Outout: 32x32x32 |  RF: 5x5\n",
        "        \n",
        "        self.pool1 = nn.MaxPool2d(kernel_size=(2,2),stride = 2)\n",
        "\n",
        "        self.block2 = nn.Sequential(\n",
        "            ConvBlock(in_channels=16,out_channels=16,kernel_size = (3,3),stride = 1, padding = 1,norm_type = self.norm_type,dropout_val= self.drop),\n",
        "            ConvBlock(in_channels=16,out_channels=32,kernel_size = (3,3),stride = 1, padding = 1,norm_type = self.norm_type,dropout_val= self.drop),\n",
        "            ConvBlock(in_channels=32,out_channels=32,kernel_size = (3,3),stride = 1, padding = 1,norm_type = self.norm_type,dropout_val= self.drop),\n",
        "            )#Input : 32x32x3 |  Outout: 32x32x32 |  RF: 5x5\n",
        "\n",
        "        self.pool2 = nn.MaxPool2d(kernel_size=(2,2),stride = 2)\n",
        "        \n",
        "        self.block3 = nn.Sequential(\n",
        "            ConvBlock(in_channels=32,out_channels=32,kernel_size = (3,3),stride = 1, padding =0,norm_type = self.norm_type,dropout_val= self.drop),\n",
        "            ConvBlock(in_channels=32,out_channels=64,kernel_size = (3,3),stride = 1, padding =1,norm_type = self.norm_type,dropout_val= self.drop),\n",
        "            ConvBlock(in_channels=64,out_channels=64,kernel_size = (3,3),stride = 1, padding =0,norm_type = self.norm_type,dropout_val= self.drop),\n",
        "            )#Input : 32x32x3 |  Outout: 32x32x32 |  RF: 5x5\n",
        "\n",
        "        self.conv_block1 = nn.Conv2d(in_channels=64,out_channels=16,kernel_size = (1,1),stride = 1, padding =0)\n",
        "        self.conv_block2 = nn.Conv2d(in_channels=16,out_channels=32,kernel_size = (3,3),stride = 1, padding =0)\n",
        "        self.conv_block3 = nn.Conv2d(in_channels=32,out_channels=10,kernel_size = (1,1),stride = 1, padding =0)\n",
        "\n",
        "\n",
        "    def forward(self,x):\n",
        "        x = self.block1(x)\n",
        "        x = self.pool1(x)\n",
        "        x = self.block2(x)\n",
        "        x = self.pool2(x)\n",
        "        x = self.block3(x)\n",
        "        x = self.conv_block1(x)\n",
        "        x = self.conv_block2(x)\n",
        "        x = self.conv_block3(x)\n",
        "\n",
        "        # return x\n",
        "        x = x.view(-1,10)\n",
        "        return F.log_softmax(x,dim = -1)"
      ]
    },
    {
      "cell_type": "code",
      "execution_count": 173,
      "metadata": {
        "colab": {
          "base_uri": "https://localhost:8080/"
        },
        "id": "mPXuwVAqyoJs",
        "outputId": "c6a7616f-a3b4-46c4-8d3d-21346cdc5678"
      },
      "outputs": [
        {
          "output_type": "stream",
          "name": "stdout",
          "text": [
            "=======================================Reciptive Field Calculator========================================\n",
            "|    | Kernel_size   | Padding   |   Stride | Input_Img_size   | Output_Img_size   | Receptive_field   |\n",
            "|---:|:--------------|:----------|---------:|:-----------------|:------------------|:------------------|\n",
            "|  0 | 3*3           | NO        |        1 | 32*32            | 30*30             | 3*3               |\n",
            "|  1 | 3*3           | 1         |        1 | 30*30            | 30*30             | 5*5               |\n",
            "|  2 | 3*3           | 1         |        1 | 30*30            | 30*30             | 7*7               |\n",
            "|  3 | 2*2           | NO        |        2 | 30*30            | 15*15             | 8*8               |\n",
            "|  4 | 3*3           | 1         |        1 | 15*15            | 15*15             | 12*12             |\n",
            "|  5 | 3*3           | 1         |        1 | 15*15            | 15*15             | 16*16             |\n",
            "|  6 | 3*3           | 1         |        1 | 15*15            | 15*15             | 20*20             |\n",
            "|  7 | 2*2           | NO        |        2 | 15*15            | 7*7               | 22*22             |\n",
            "|  8 | 3*3           | NO        |        1 | 7*7              | 5*5               | 30*30             |\n",
            "|  9 | 3*3           | 1         |        1 | 5*5              | 5*5               | 38*38             |\n",
            "| 10 | 3*3           | NO        |        1 | 5*5              | 3*3               | 46*46             |\n",
            "| 11 | 1*1           | NO        |        1 | 3*3              | 3*3               | 46*46             |\n",
            "| 12 | 3*3           | NO        |        1 | 3*3              | 1*1               | 54*54             |\n",
            "| 13 | 1*1           | NO        |        1 | 1*1              | 1*1               | 54*54             |\n",
            "=========================================================================================================\n",
            "----------------------------------------------------------------\n",
            "        Layer (type)               Output Shape         Param #\n",
            "================================================================\n",
            "            Conv2d-1            [-1, 8, 30, 30]             216\n",
            "       BatchNorm2d-2            [-1, 8, 30, 30]              16\n",
            "              ReLU-3            [-1, 8, 30, 30]               0\n",
            "         Dropout2d-4            [-1, 8, 30, 30]               0\n",
            "         ConvBlock-5            [-1, 8, 30, 30]               0\n",
            "            Conv2d-6            [-1, 8, 30, 30]             576\n",
            "       BatchNorm2d-7            [-1, 8, 30, 30]              16\n",
            "              ReLU-8            [-1, 8, 30, 30]               0\n",
            "         Dropout2d-9            [-1, 8, 30, 30]               0\n",
            "        ConvBlock-10            [-1, 8, 30, 30]               0\n",
            "           Conv2d-11           [-1, 16, 30, 30]           1,152\n",
            "      BatchNorm2d-12           [-1, 16, 30, 30]              32\n",
            "             ReLU-13           [-1, 16, 30, 30]               0\n",
            "        Dropout2d-14           [-1, 16, 30, 30]               0\n",
            "        ConvBlock-15           [-1, 16, 30, 30]               0\n",
            "        MaxPool2d-16           [-1, 16, 15, 15]               0\n",
            "           Conv2d-17           [-1, 16, 15, 15]           2,304\n",
            "      BatchNorm2d-18           [-1, 16, 15, 15]              32\n",
            "             ReLU-19           [-1, 16, 15, 15]               0\n",
            "        Dropout2d-20           [-1, 16, 15, 15]               0\n",
            "        ConvBlock-21           [-1, 16, 15, 15]               0\n",
            "           Conv2d-22           [-1, 32, 15, 15]           4,608\n",
            "      BatchNorm2d-23           [-1, 32, 15, 15]              64\n",
            "             ReLU-24           [-1, 32, 15, 15]               0\n",
            "        Dropout2d-25           [-1, 32, 15, 15]               0\n",
            "        ConvBlock-26           [-1, 32, 15, 15]               0\n",
            "           Conv2d-27           [-1, 32, 15, 15]           9,216\n",
            "      BatchNorm2d-28           [-1, 32, 15, 15]              64\n",
            "             ReLU-29           [-1, 32, 15, 15]               0\n",
            "        Dropout2d-30           [-1, 32, 15, 15]               0\n",
            "        ConvBlock-31           [-1, 32, 15, 15]               0\n",
            "        MaxPool2d-32             [-1, 32, 7, 7]               0\n",
            "           Conv2d-33             [-1, 32, 5, 5]           9,216\n",
            "      BatchNorm2d-34             [-1, 32, 5, 5]              64\n",
            "             ReLU-35             [-1, 32, 5, 5]               0\n",
            "        Dropout2d-36             [-1, 32, 5, 5]               0\n",
            "        ConvBlock-37             [-1, 32, 5, 5]               0\n",
            "           Conv2d-38             [-1, 64, 5, 5]          18,432\n",
            "      BatchNorm2d-39             [-1, 64, 5, 5]             128\n",
            "             ReLU-40             [-1, 64, 5, 5]               0\n",
            "        Dropout2d-41             [-1, 64, 5, 5]               0\n",
            "        ConvBlock-42             [-1, 64, 5, 5]               0\n",
            "           Conv2d-43             [-1, 64, 3, 3]          36,864\n",
            "      BatchNorm2d-44             [-1, 64, 3, 3]             128\n",
            "             ReLU-45             [-1, 64, 3, 3]               0\n",
            "        Dropout2d-46             [-1, 64, 3, 3]               0\n",
            "        ConvBlock-47             [-1, 64, 3, 3]               0\n",
            "           Conv2d-48             [-1, 16, 3, 3]           1,040\n",
            "           Conv2d-49             [-1, 32, 1, 1]           4,640\n",
            "           Conv2d-50             [-1, 10, 1, 1]             330\n",
            "================================================================\n",
            "Total params: 89,138\n",
            "Trainable params: 89,138\n",
            "Non-trainable params: 0\n",
            "----------------------------------------------------------------\n",
            "Input size (MB): 0.01\n",
            "Forward/backward pass size (MB): 1.94\n",
            "Params size (MB): 0.34\n",
            "Estimated Total Size (MB): 2.29\n",
            "----------------------------------------------------------------\n"
          ]
        }
      ],
      "source": [
        "device = 'cuda' if torch.cuda.is_available() else \"cpu\"\n",
        "model = Cifar10Net(norm_type='bn',dropout_val=0.01).to(device)\n",
        "rf_df = receptive_field(model,32)\n",
        "summary(model,input_size=(3,32,32))"
      ]
    },
    {
      "cell_type": "code",
      "execution_count": 173,
      "metadata": {
        "id": "lYI2ntLCmOem"
      },
      "outputs": [],
      "source": [
        ""
      ]
    },
    {
      "cell_type": "code",
      "execution_count": 174,
      "metadata": {
        "id": "mOoX-kftjnXV"
      },
      "outputs": [],
      "source": [
        "#Trying to explore\n",
        "# for data,target in train_loader:\n",
        "#     data = data.to(device)\n",
        "#     target = target.to(device)\n",
        "#     break\n",
        "# model.train()\n",
        "# op = model(data)\n",
        "# op1 = F.log_softmax(op,dim = -1)\n",
        "# op1.argmax(keepdim= True).eq(target).sum().item()"
      ]
    },
    {
      "cell_type": "code",
      "execution_count": 174,
      "metadata": {
        "id": "a05n4HFDm7XN"
      },
      "outputs": [],
      "source": [
        ""
      ]
    },
    {
      "cell_type": "code",
      "execution_count": 175,
      "metadata": {
        "id": "wdeuLltCm63m"
      },
      "outputs": [],
      "source": [
        "def clean_gpu():\n",
        "    \"\"\"Considering we have GPUs\"\"\"\n",
        "\n",
        "    gc.collect()\n",
        "    torch.cuda.empty_cache()\n",
        "    return None\n",
        "\n",
        "#L1 Loss\n",
        "def get_optimizer(model_obj,loss_type=None,scheduler = False):\n",
        "    loss_type= str(loss_type).upper()\n",
        "    parameters = model_obj.parameters()\n",
        "    if loss_type  == 'L2' :\n",
        "        optimizer = SGD( params = parameters,lr = 0.01,momentum = 0.9,weight_decay= 0.001)\n",
        "    else:\n",
        "        optimizer = SGD( params = parameters,lr = 0.01,momentum = 0.9)\n",
        "    if scheduler == True:\n",
        "        scheduler = StepLR(optimizer,step_size = 6,gamma = 0.1)\n",
        "        return optimizer,scheduler\n",
        "    else:\n",
        "        return optimizer,_\n",
        "\n",
        "def L1_loss(model_obj,loss):\n",
        "        \n",
        "    l1 = 0\n",
        "    lambda_l1 = 0.0001\n",
        "    for p in model_obj.parameters():\n",
        "        l1 = l1+p.abs().sum()\n",
        "        loss = loss+ lambda_l1* l1\n",
        "    return loss\n",
        "\n",
        "def plot_acc_loss(typ ,train_acc,train_losses,test_acc,test_losses):\n",
        "    fig, axs = plt.subplots(1,2,figsize = (20,5))\n",
        "    # print ('Accuracy model on  ', typ)\n",
        "    plt.autoscale()\n",
        "    axs[0].plot(train_acc,color = 'red')\n",
        "    axs[0].plot(test_acc,color = 'green')\n",
        "    title = 'Training/testing accuracy'\n",
        "    axs[0].set_title(title)\n",
        "    axs[0].set_ylabel('Accuracy')\n",
        "    axs[0].set_xlabel('Epoch')\n",
        "    axs[0].legend(['train acc','test acc'], loc='best')\n",
        "       \n",
        "    axs[1].plot(train_losses,color = 'red')\n",
        "    axs[1].plot(test_losses,color = 'green')\n",
        "    title = 'Training/Testing Loss'\n",
        "    axs[1].set_title(title)\n",
        "    axs[1].set_ylabel('Loss')\n",
        "    axs[1].set_xlabel('Epoch')\n",
        "    axs[1].legend(['train loss','test loss'], loc='best')\n",
        "    plt.title(typ + ' model Accuracy Vs Loss')\n",
        "\n",
        "    plt.show()\n",
        "    fig.tight_layout(pad = 1.0)"
      ]
    },
    {
      "cell_type": "code",
      "execution_count": 176,
      "metadata": {
        "id": "eX8TODgnnE3m"
      },
      "outputs": [],
      "source": [
        "train_losses = []\n",
        "train_accuracy = []\n",
        "test_losses =[]\n",
        "test_accuracy = []\n",
        "\n",
        "def trainning(model,device,train_data,optimizer,epochs,L1 = False,L2= False):\n",
        "    total_loss = 0\n",
        "    correct = 0\n",
        "    processed = 0\n",
        "\n",
        "    model.train()\n",
        "    pbar = tqdm(train_loader,colour = '\\x1b[34m')\n",
        "    \n",
        "    for index_id,(data,target) in enumerate(pbar):\n",
        "        data,target = data.to(device),target.to(device)\n",
        "        optimizer.zero_grad()\n",
        "        output = model(data)\n",
        "        loss = F.nll_loss(output,target)\n",
        "        if L1 == True:\n",
        "            loss = L1_loss(model,loss)\n",
        "\n",
        "        total_loss += loss\n",
        "        loss.backward()\n",
        "        optimizer.step()\n",
        "        correct += output.argmax(dim = 1).eq(target).sum().item()\n",
        "        processed += len(data)\n",
        "        pbar.set_description(f\"Train ==> Epochs: {epochs} Batch:  {index_id} loss: {loss} Accuracy: { correct/processed *100 :.2f}% \")\n",
        "\n",
        "    acc = correct /processed\n",
        "    total_loss = total_loss.item()/processed\n",
        "    train_losses.append(total_loss)\n",
        "    train_accuracy.append(acc)\n",
        "\n",
        "    return train_losses, train_accuracy\n",
        "\n",
        "\n",
        "def testing(model,device,test_data,optimizer,epochs):\n",
        "    model.eval()\n",
        "    \n",
        "    test_loss = 0\n",
        "    correct = 0\n",
        "    processed = 0\n",
        "    pbar= tqdm(test_loader)\n",
        "    with torch.no_grad():\n",
        "        for id_x,(data,target) in enumerate(pbar):\n",
        "            data,target = data.to(device),target.to(device)\n",
        "\n",
        "            output = model(data)\n",
        "            test_loss += F.nll_loss(output,target,reduce='sum').item()\n",
        "            pred  = output.argmax(dim =1,keepdim = True)\n",
        "\n",
        "            correct += pred.eq(target.view_as(pred)).sum().item()\n",
        "            processed += len(data)\n",
        "            \n",
        "            pbar.set_description(f\"Test ==> Epochs: {epochs} Batch:  {id_x} loss: {test_loss/processed} Accuracy: { correct / processed *100 :.2f}% \")\n",
        "        \n",
        "    acc = correct / processed\n",
        "    test_loss /= processed\n",
        "    test_accuracy.append(acc)\n",
        "    test_losses.append(test_loss)\n",
        "   \n",
        "    \n",
        "    # print('\\nTest set: Average loss: {:.4f}, Accuracy: {}/{} ({:.6f}%)\\n'.format(\n",
        "    #     test_loss, correct, processed, 100. * correct / processed))\n",
        "    \n",
        "    return test_losses,test_accuracy\n",
        "\n",
        "\n"
      ]
    },
    {
      "cell_type": "code",
      "source": [
        "wrong_images = []\n",
        "count = 1\n",
        "for data,label in test_loader:\n",
        "    data,label = data.to(device),label.to(device)\n",
        "    with torch.no_grad():\n",
        "        out = model(data)\n",
        "        wrong_idx = (out.to(device).argmax(dim = 1).eq(label.to(device)) ==False).nonzero()\n",
        "        wrong_images.extend(data[wrong_idx].to(\"cpu\"))\n",
        "        if count ==3:\n",
        "            break\n",
        "        count+=1\n",
        "    # break"
      ],
      "metadata": {
        "id": "UN6ndCSOIy_P"
      },
      "execution_count": 177,
      "outputs": []
    },
    {
      "cell_type": "code",
      "source": [
        "plt.imshow(np.array(np.transpose(data[10].to(\"cpu\"),(1,2,0))))"
      ],
      "metadata": {
        "colab": {
          "base_uri": "https://localhost:8080/",
          "height": 301
        },
        "id": "x8BSD1SvKTuh",
        "outputId": "34ad8c67-5a00-43e0-f56d-b106bbdd27d3"
      },
      "execution_count": 181,
      "outputs": [
        {
          "output_type": "stream",
          "name": "stderr",
          "text": [
            "Clipping input data to the valid range for imshow with RGB data ([0..1] for floats or [0..255] for integers).\n"
          ]
        },
        {
          "output_type": "execute_result",
          "data": {
            "text/plain": [
              "<matplotlib.image.AxesImage at 0x7fce7ed6cd10>"
            ]
          },
          "metadata": {},
          "execution_count": 181
        },
        {
          "output_type": "display_data",
          "data": {
            "image/png": "[encoded data removed]",
            "text/plain": [
              "<Figure size 432x288 with 1 Axes>"
            ]
          },
          "metadata": {
            "needs_background": "light"
          }
        }
      ]
    },
    {
      "cell_type": "code",
      "source": [
        "\n",
        "def print_wrong_image(model,device,data_loader,n_images):\n",
        "\n",
        "    if n_images >= 10:\n",
        "        n_images = 10\n",
        "    wrong_images = []\n",
        "    wrong_labels = []\n",
        "    right_labels = []\n",
        "\n",
        "    for data,label in data_loader:\n",
        "        data,label = data.to(device),label.to(device)\n",
        "        with torch.no_grad():\n",
        "            out = model(data)\n",
        "            wrong_idx = (out.to(device).argmax(dim = 1).eq(label.to(device)) ==False).nonzero()\n",
        "            wrong_images.extend(data[wrong_idx].squeeze().to(\"cpu\"))\n",
        "            wrong_labels.extend(out.to(device).argmax(dim = 1).to(\"cpu\"))\n",
        "            right_labels.extend(label[wrong_idx].squeeze().to(\"cpu\"))\n",
        "\n",
        "    # print (wrong_idx.shape)\n",
        "    # wrong_idx\n",
        "    idx = [i for i in range(0,len(wrong_labels))]\n",
        "    np.random.shuffle(wrong_idx.numpy())\n",
        "    fig = plt.figure(figsize=(20,30))\n",
        "    count = 1\n",
        "    for image_index in wrong_idx:\n",
        "        n= image_index\n",
        "        ax = fig.add_subplot(1,10,count)\n",
        "        _=plt.imshow((img_data[n].reshape(28,28).to('cpu')))\n",
        "        _=plt.title(f\"idx:{n }\")\n",
        "        _=plt.xlabel(f\"Act:{label[n].item()} \")\n",
        "        _=plt.ylabel(f\"Pred: {out.argmax(dim = 1)[n].item()} \")\n",
        "        _ = plt.autoscale()\n",
        "        fig.tight_layout(pad = 1.0)\n",
        "        count+= 1\n",
        "        if count==11:\n",
        "            break\n",
        "    plt.show()"
      ],
      "metadata": {
        "id": "gx8uYs0iF11x"
      },
      "execution_count": null,
      "outputs": []
    },
    {
      "cell_type": "code",
      "source": [
        ""
      ],
      "metadata": {
        "id": "jKgvHUrVF2b5"
      },
      "execution_count": null,
      "outputs": []
    },
    {
      "cell_type": "code",
      "execution_count": null,
      "metadata": {
        "id": "6EjpSYB3nJr1"
      },
      "outputs": [],
      "source": [
        "def Run_Model(model_class,train_loader,test_loader,epochs , L1 = False):\n",
        "    \n",
        "    device = \"cuda\" if torch.cuda.is_available() else \"cpu\"\n",
        "    print (f'running on {device} \\n')\n",
        "    #take input as normal_type ['gbn','bn','gn','ln']\n",
        "    model = model_class.to(device)\n",
        "    try:\n",
        "        print(summary(model,input_size = (3,32,32)))\n",
        "    except:\n",
        "        pass\n",
        "\n",
        "    optimizer,scheduler = get_optimizer(model,scheduler = True )\n",
        "    # optimizer = SGD( params = model.parameters(),lr = 0.01,momentum = 0.9)\n",
        "    for EPOCHS in range(0,epochs):\n",
        "        if L1 == True:\n",
        "            train_losses, train_accuracy = trainning(model,device,train_loader,optimizer,EPOCHS,L1 = L1)\n",
        "        else:\n",
        "            train_losses, train_accuracy = trainning(model,device,train_loader,optimizer,EPOCHS)\n",
        "        test_losses,test_accuracy = testing(model,device,test_loader,optimizer,EPOCHS)\n",
        "        scheduler.step()\n",
        "        print (\"LR :{}\\n\".format(scheduler.get_lr()[0]))\n",
        "    return model,train_losses, train_accuracy,test_losses,test_accuracy"
      ]
    },
    {
      "cell_type": "code",
      "execution_count": null,
      "metadata": {
        "colab": {
          "base_uri": "https://localhost:8080/",
          "height": 487
        },
        "id": "6ZZpcFj6XZ6l",
        "outputId": "b668eb14-e963-432f-fd01-fbdd24e666cb"
      },
      "outputs": [
        {
          "output_type": "stream",
          "name": "stdout",
          "text": [
            "Files already downloaded and verified\n",
            "Files already downloaded and verified\n",
            "running on cuda \n",
            "\n"
          ]
        },
        {
          "output_type": "stream",
          "name": "stderr",
          "text": [
            "Train ==> Epochs: 0 Batch:  631 loss: 1.3262643814086914 Accuracy: 40.92% :  81%|████████  | 632/782 [00:12<00:03, 49.20it/s]\n"
          ]
        },
        {
          "output_type": "error",
          "ename": "KeyboardInterrupt",
          "evalue": "ignored",
          "traceback": [
            "\u001b[0;31m---------------------------------------------------------------------------\u001b[0m",
            "\u001b[0;31mKeyboardInterrupt\u001b[0m                         Traceback (most recent call last)",
            "\u001b[0;32m<ipython-input-32-f8a7b001e4c2>\u001b[0m in \u001b[0;36m<module>\u001b[0;34m()\u001b[0m\n\u001b[1;32m     18\u001b[0m \u001b[0;34m\u001b[0m\u001b[0m\n\u001b[1;32m     19\u001b[0m         \u001b[0mmodel_class\u001b[0m \u001b[0;34m=\u001b[0m \u001b[0mCifar10Net\u001b[0m\u001b[0;34m(\u001b[0m\u001b[0mdropout_val\u001b[0m\u001b[0;34m=\u001b[0m\u001b[0;36m0.01\u001b[0m\u001b[0;34m,\u001b[0m\u001b[0mnorm_type\u001b[0m\u001b[0;34m=\u001b[0m\u001b[0mnorm_type\u001b[0m\u001b[0;34m)\u001b[0m\u001b[0;34m\u001b[0m\u001b[0;34m\u001b[0m\u001b[0m\n\u001b[0;32m---> 20\u001b[0;31m         \u001b[0mmodel\u001b[0m\u001b[0;34m,\u001b[0m\u001b[0mtrain_losses\u001b[0m\u001b[0;34m,\u001b[0m \u001b[0mtrain_accuracy\u001b[0m\u001b[0;34m,\u001b[0m\u001b[0mtest_losses\u001b[0m\u001b[0;34m,\u001b[0m\u001b[0mtest_accuracy\u001b[0m \u001b[0;34m=\u001b[0m \u001b[0mRun_Model\u001b[0m\u001b[0;34m(\u001b[0m\u001b[0mmodel_class\u001b[0m\u001b[0;34m,\u001b[0m\u001b[0mtrain_alb\u001b[0m\u001b[0;34m,\u001b[0m\u001b[0mtest_alb\u001b[0m\u001b[0;34m,\u001b[0m\u001b[0mepochs\u001b[0m \u001b[0;34m=\u001b[0m\u001b[0mepochs\u001b[0m\u001b[0;34m)\u001b[0m\u001b[0;34m\u001b[0m\u001b[0;34m\u001b[0m\u001b[0m\n\u001b[0m\u001b[1;32m     21\u001b[0m         \u001b[0mplot_acc_loss\u001b[0m\u001b[0;34m(\u001b[0m\u001b[0mnorm_type\u001b[0m \u001b[0;34m,\u001b[0m\u001b[0mtrain_accuracy\u001b[0m\u001b[0;34m,\u001b[0m\u001b[0mtrain_losses\u001b[0m\u001b[0;34m,\u001b[0m\u001b[0mtest_accuracy\u001b[0m\u001b[0;34m,\u001b[0m\u001b[0mtest_losses\u001b[0m\u001b[0;34m)\u001b[0m\u001b[0;34m\u001b[0m\u001b[0;34m\u001b[0m\u001b[0m\n\u001b[1;32m     22\u001b[0m         \u001b[0mclean_gpu\u001b[0m\u001b[0;34m(\u001b[0m\u001b[0;34m)\u001b[0m\u001b[0;34m\u001b[0m\u001b[0;34m\u001b[0m\u001b[0m\n",
            "\u001b[0;32m<ipython-input-31-2505c495d26e>\u001b[0m in \u001b[0;36mRun_Model\u001b[0;34m(model_class, train_loader, test_loader, epochs, L1)\u001b[0m\n\u001b[1;32m     16\u001b[0m             \u001b[0mtrain_losses\u001b[0m\u001b[0;34m,\u001b[0m \u001b[0mtrain_accuracy\u001b[0m \u001b[0;34m=\u001b[0m \u001b[0mtrainning\u001b[0m\u001b[0;34m(\u001b[0m\u001b[0mmodel\u001b[0m\u001b[0;34m,\u001b[0m\u001b[0mdevice\u001b[0m\u001b[0;34m,\u001b[0m\u001b[0mtrain_loader\u001b[0m\u001b[0;34m,\u001b[0m\u001b[0moptimizer\u001b[0m\u001b[0;34m,\u001b[0m\u001b[0mEPOCHS\u001b[0m\u001b[0;34m,\u001b[0m\u001b[0mL1\u001b[0m \u001b[0;34m=\u001b[0m \u001b[0mL1\u001b[0m\u001b[0;34m)\u001b[0m\u001b[0;34m\u001b[0m\u001b[0;34m\u001b[0m\u001b[0m\n\u001b[1;32m     17\u001b[0m         \u001b[0;32melse\u001b[0m\u001b[0;34m:\u001b[0m\u001b[0;34m\u001b[0m\u001b[0;34m\u001b[0m\u001b[0m\n\u001b[0;32m---> 18\u001b[0;31m             \u001b[0mtrain_losses\u001b[0m\u001b[0;34m,\u001b[0m \u001b[0mtrain_accuracy\u001b[0m \u001b[0;34m=\u001b[0m \u001b[0mtrainning\u001b[0m\u001b[0;34m(\u001b[0m\u001b[0mmodel\u001b[0m\u001b[0;34m,\u001b[0m\u001b[0mdevice\u001b[0m\u001b[0;34m,\u001b[0m\u001b[0mtrain_loader\u001b[0m\u001b[0;34m,\u001b[0m\u001b[0moptimizer\u001b[0m\u001b[0;34m,\u001b[0m\u001b[0mEPOCHS\u001b[0m\u001b[0;34m)\u001b[0m\u001b[0;34m\u001b[0m\u001b[0;34m\u001b[0m\u001b[0m\n\u001b[0m\u001b[1;32m     19\u001b[0m         \u001b[0mtest_losses\u001b[0m\u001b[0;34m,\u001b[0m\u001b[0mtest_accuracy\u001b[0m \u001b[0;34m=\u001b[0m \u001b[0mtesting\u001b[0m\u001b[0;34m(\u001b[0m\u001b[0mmodel\u001b[0m\u001b[0;34m,\u001b[0m\u001b[0mdevice\u001b[0m\u001b[0;34m,\u001b[0m\u001b[0mtest_loader\u001b[0m\u001b[0;34m,\u001b[0m\u001b[0moptimizer\u001b[0m\u001b[0;34m,\u001b[0m\u001b[0mEPOCHS\u001b[0m\u001b[0;34m)\u001b[0m\u001b[0;34m\u001b[0m\u001b[0;34m\u001b[0m\u001b[0m\n\u001b[1;32m     20\u001b[0m         \u001b[0mscheduler\u001b[0m\u001b[0;34m.\u001b[0m\u001b[0mstep\u001b[0m\u001b[0;34m(\u001b[0m\u001b[0;34m)\u001b[0m\u001b[0;34m\u001b[0m\u001b[0;34m\u001b[0m\u001b[0m\n",
            "\u001b[0;32m<ipython-input-30-0f114b0de402>\u001b[0m in \u001b[0;36mtrainning\u001b[0;34m(model, device, train_data, optimizer, epochs, L1, L2)\u001b[0m\n\u001b[1;32m     15\u001b[0m         \u001b[0mdata\u001b[0m\u001b[0;34m,\u001b[0m\u001b[0mtarget\u001b[0m \u001b[0;34m=\u001b[0m \u001b[0mdata\u001b[0m\u001b[0;34m.\u001b[0m\u001b[0mto\u001b[0m\u001b[0;34m(\u001b[0m\u001b[0mdevice\u001b[0m\u001b[0;34m)\u001b[0m\u001b[0;34m,\u001b[0m\u001b[0mtarget\u001b[0m\u001b[0;34m.\u001b[0m\u001b[0mto\u001b[0m\u001b[0;34m(\u001b[0m\u001b[0mdevice\u001b[0m\u001b[0;34m)\u001b[0m\u001b[0;34m\u001b[0m\u001b[0;34m\u001b[0m\u001b[0m\n\u001b[1;32m     16\u001b[0m         \u001b[0moptimizer\u001b[0m\u001b[0;34m.\u001b[0m\u001b[0mzero_grad\u001b[0m\u001b[0;34m(\u001b[0m\u001b[0;34m)\u001b[0m\u001b[0;34m\u001b[0m\u001b[0;34m\u001b[0m\u001b[0m\n\u001b[0;32m---> 17\u001b[0;31m         \u001b[0moutput\u001b[0m \u001b[0;34m=\u001b[0m \u001b[0mmodel\u001b[0m\u001b[0;34m(\u001b[0m\u001b[0mdata\u001b[0m\u001b[0;34m)\u001b[0m\u001b[0;34m\u001b[0m\u001b[0;34m\u001b[0m\u001b[0m\n\u001b[0m\u001b[1;32m     18\u001b[0m         \u001b[0mloss\u001b[0m \u001b[0;34m=\u001b[0m \u001b[0mF\u001b[0m\u001b[0;34m.\u001b[0m\u001b[0mnll_loss\u001b[0m\u001b[0;34m(\u001b[0m\u001b[0moutput\u001b[0m\u001b[0;34m,\u001b[0m\u001b[0mtarget\u001b[0m\u001b[0;34m)\u001b[0m\u001b[0;34m\u001b[0m\u001b[0;34m\u001b[0m\u001b[0m\n\u001b[1;32m     19\u001b[0m         \u001b[0;32mif\u001b[0m \u001b[0mL1\u001b[0m \u001b[0;34m==\u001b[0m \u001b[0;32mTrue\u001b[0m\u001b[0;34m:\u001b[0m\u001b[0;34m\u001b[0m\u001b[0;34m\u001b[0m\u001b[0m\n",
            "\u001b[0;32m/usr/local/lib/python3.7/dist-packages/torch/nn/modules/module.py\u001b[0m in \u001b[0;36m_call_impl\u001b[0;34m(self, *input, **kwargs)\u001b[0m\n\u001b[1;32m   1100\u001b[0m         if not (self._backward_hooks or self._forward_hooks or self._forward_pre_hooks or _global_backward_hooks\n\u001b[1;32m   1101\u001b[0m                 or _global_forward_hooks or _global_forward_pre_hooks):\n\u001b[0;32m-> 1102\u001b[0;31m             \u001b[0;32mreturn\u001b[0m \u001b[0mforward_call\u001b[0m\u001b[0;34m(\u001b[0m\u001b[0;34m*\u001b[0m\u001b[0minput\u001b[0m\u001b[0;34m,\u001b[0m \u001b[0;34m**\u001b[0m\u001b[0mkwargs\u001b[0m\u001b[0;34m)\u001b[0m\u001b[0;34m\u001b[0m\u001b[0;34m\u001b[0m\u001b[0m\n\u001b[0m\u001b[1;32m   1103\u001b[0m         \u001b[0;31m# Do not call functions when jit is used\u001b[0m\u001b[0;34m\u001b[0m\u001b[0;34m\u001b[0m\u001b[0;34m\u001b[0m\u001b[0m\n\u001b[1;32m   1104\u001b[0m         \u001b[0mfull_backward_hooks\u001b[0m\u001b[0;34m,\u001b[0m \u001b[0mnon_full_backward_hooks\u001b[0m \u001b[0;34m=\u001b[0m \u001b[0;34m[\u001b[0m\u001b[0;34m]\u001b[0m\u001b[0;34m,\u001b[0m \u001b[0;34m[\u001b[0m\u001b[0;34m]\u001b[0m\u001b[0;34m\u001b[0m\u001b[0;34m\u001b[0m\u001b[0m\n",
            "\u001b[0;32m<ipython-input-26-5b3824b2f57a>\u001b[0m in \u001b[0;36mforward\u001b[0;34m(self, x)\u001b[0m\n\u001b[1;32m     33\u001b[0m \u001b[0;34m\u001b[0m\u001b[0m\n\u001b[1;32m     34\u001b[0m     \u001b[0;32mdef\u001b[0m \u001b[0mforward\u001b[0m\u001b[0;34m(\u001b[0m\u001b[0mself\u001b[0m\u001b[0;34m,\u001b[0m\u001b[0mx\u001b[0m\u001b[0;34m)\u001b[0m\u001b[0;34m:\u001b[0m\u001b[0;34m\u001b[0m\u001b[0;34m\u001b[0m\u001b[0m\n\u001b[0;32m---> 35\u001b[0;31m         \u001b[0mx\u001b[0m \u001b[0;34m=\u001b[0m \u001b[0mself\u001b[0m\u001b[0;34m.\u001b[0m\u001b[0mblock1\u001b[0m\u001b[0;34m(\u001b[0m\u001b[0mx\u001b[0m\u001b[0;34m)\u001b[0m\u001b[0;34m\u001b[0m\u001b[0;34m\u001b[0m\u001b[0m\n\u001b[0m\u001b[1;32m     36\u001b[0m         \u001b[0mx\u001b[0m \u001b[0;34m=\u001b[0m \u001b[0mself\u001b[0m\u001b[0;34m.\u001b[0m\u001b[0mpool1\u001b[0m\u001b[0;34m(\u001b[0m\u001b[0mx\u001b[0m\u001b[0;34m)\u001b[0m\u001b[0;34m\u001b[0m\u001b[0;34m\u001b[0m\u001b[0m\n\u001b[1;32m     37\u001b[0m         \u001b[0mx\u001b[0m \u001b[0;34m=\u001b[0m \u001b[0mself\u001b[0m\u001b[0;34m.\u001b[0m\u001b[0mblock2\u001b[0m\u001b[0;34m(\u001b[0m\u001b[0mx\u001b[0m\u001b[0;34m)\u001b[0m\u001b[0;34m\u001b[0m\u001b[0;34m\u001b[0m\u001b[0m\n",
            "\u001b[0;32m/usr/local/lib/python3.7/dist-packages/torch/nn/modules/module.py\u001b[0m in \u001b[0;36m_call_impl\u001b[0;34m(self, *input, **kwargs)\u001b[0m\n\u001b[1;32m   1100\u001b[0m         if not (self._backward_hooks or self._forward_hooks or self._forward_pre_hooks or _global_backward_hooks\n\u001b[1;32m   1101\u001b[0m                 or _global_forward_hooks or _global_forward_pre_hooks):\n\u001b[0;32m-> 1102\u001b[0;31m             \u001b[0;32mreturn\u001b[0m \u001b[0mforward_call\u001b[0m\u001b[0;34m(\u001b[0m\u001b[0;34m*\u001b[0m\u001b[0minput\u001b[0m\u001b[0;34m,\u001b[0m \u001b[0;34m**\u001b[0m\u001b[0mkwargs\u001b[0m\u001b[0;34m)\u001b[0m\u001b[0;34m\u001b[0m\u001b[0;34m\u001b[0m\u001b[0m\n\u001b[0m\u001b[1;32m   1103\u001b[0m         \u001b[0;31m# Do not call functions when jit is used\u001b[0m\u001b[0;34m\u001b[0m\u001b[0;34m\u001b[0m\u001b[0;34m\u001b[0m\u001b[0m\n\u001b[1;32m   1104\u001b[0m         \u001b[0mfull_backward_hooks\u001b[0m\u001b[0;34m,\u001b[0m \u001b[0mnon_full_backward_hooks\u001b[0m \u001b[0;34m=\u001b[0m \u001b[0;34m[\u001b[0m\u001b[0;34m]\u001b[0m\u001b[0;34m,\u001b[0m \u001b[0;34m[\u001b[0m\u001b[0;34m]\u001b[0m\u001b[0;34m\u001b[0m\u001b[0;34m\u001b[0m\u001b[0m\n",
            "\u001b[0;32m/usr/local/lib/python3.7/dist-packages/torch/nn/modules/container.py\u001b[0m in \u001b[0;36mforward\u001b[0;34m(self, input)\u001b[0m\n\u001b[1;32m    139\u001b[0m     \u001b[0;32mdef\u001b[0m \u001b[0mforward\u001b[0m\u001b[0;34m(\u001b[0m\u001b[0mself\u001b[0m\u001b[0;34m,\u001b[0m \u001b[0minput\u001b[0m\u001b[0;34m)\u001b[0m\u001b[0;34m:\u001b[0m\u001b[0;34m\u001b[0m\u001b[0;34m\u001b[0m\u001b[0m\n\u001b[1;32m    140\u001b[0m         \u001b[0;32mfor\u001b[0m \u001b[0mmodule\u001b[0m \u001b[0;32min\u001b[0m \u001b[0mself\u001b[0m\u001b[0;34m:\u001b[0m\u001b[0;34m\u001b[0m\u001b[0;34m\u001b[0m\u001b[0m\n\u001b[0;32m--> 141\u001b[0;31m             \u001b[0minput\u001b[0m \u001b[0;34m=\u001b[0m \u001b[0mmodule\u001b[0m\u001b[0;34m(\u001b[0m\u001b[0minput\u001b[0m\u001b[0;34m)\u001b[0m\u001b[0;34m\u001b[0m\u001b[0;34m\u001b[0m\u001b[0m\n\u001b[0m\u001b[1;32m    142\u001b[0m         \u001b[0;32mreturn\u001b[0m \u001b[0minput\u001b[0m\u001b[0;34m\u001b[0m\u001b[0;34m\u001b[0m\u001b[0m\n\u001b[1;32m    143\u001b[0m \u001b[0;34m\u001b[0m\u001b[0m\n",
            "\u001b[0;32m/usr/local/lib/python3.7/dist-packages/torch/nn/modules/module.py\u001b[0m in \u001b[0;36m_call_impl\u001b[0;34m(self, *input, **kwargs)\u001b[0m\n\u001b[1;32m   1118\u001b[0m             \u001b[0minput\u001b[0m \u001b[0;34m=\u001b[0m \u001b[0mbw_hook\u001b[0m\u001b[0;34m.\u001b[0m\u001b[0msetup_input_hook\u001b[0m\u001b[0;34m(\u001b[0m\u001b[0minput\u001b[0m\u001b[0;34m)\u001b[0m\u001b[0;34m\u001b[0m\u001b[0;34m\u001b[0m\u001b[0m\n\u001b[1;32m   1119\u001b[0m \u001b[0;34m\u001b[0m\u001b[0m\n\u001b[0;32m-> 1120\u001b[0;31m         \u001b[0mresult\u001b[0m \u001b[0;34m=\u001b[0m \u001b[0mforward_call\u001b[0m\u001b[0;34m(\u001b[0m\u001b[0;34m*\u001b[0m\u001b[0minput\u001b[0m\u001b[0;34m,\u001b[0m \u001b[0;34m**\u001b[0m\u001b[0mkwargs\u001b[0m\u001b[0;34m)\u001b[0m\u001b[0;34m\u001b[0m\u001b[0;34m\u001b[0m\u001b[0m\n\u001b[0m\u001b[1;32m   1121\u001b[0m         \u001b[0;32mif\u001b[0m \u001b[0m_global_forward_hooks\u001b[0m \u001b[0;32mor\u001b[0m \u001b[0mself\u001b[0m\u001b[0;34m.\u001b[0m\u001b[0m_forward_hooks\u001b[0m\u001b[0;34m:\u001b[0m\u001b[0;34m\u001b[0m\u001b[0;34m\u001b[0m\u001b[0m\n\u001b[1;32m   1122\u001b[0m             \u001b[0;32mfor\u001b[0m \u001b[0mhook\u001b[0m \u001b[0;32min\u001b[0m \u001b[0;34m(\u001b[0m\u001b[0;34m*\u001b[0m\u001b[0m_global_forward_hooks\u001b[0m\u001b[0;34m.\u001b[0m\u001b[0mvalues\u001b[0m\u001b[0;34m(\u001b[0m\u001b[0;34m)\u001b[0m\u001b[0;34m,\u001b[0m \u001b[0;34m*\u001b[0m\u001b[0mself\u001b[0m\u001b[0;34m.\u001b[0m\u001b[0m_forward_hooks\u001b[0m\u001b[0;34m.\u001b[0m\u001b[0mvalues\u001b[0m\u001b[0;34m(\u001b[0m\u001b[0;34m)\u001b[0m\u001b[0;34m)\u001b[0m\u001b[0;34m:\u001b[0m\u001b[0;34m\u001b[0m\u001b[0;34m\u001b[0m\u001b[0m\n",
            "\u001b[0;32m<ipython-input-25-0352660e6fc0>\u001b[0m in \u001b[0;36mforward\u001b[0;34m(self, x)\u001b[0m\n\u001b[1;32m     16\u001b[0m \u001b[0;34m\u001b[0m\u001b[0m\n\u001b[1;32m     17\u001b[0m     \u001b[0;32mdef\u001b[0m \u001b[0mforward\u001b[0m\u001b[0;34m(\u001b[0m\u001b[0mself\u001b[0m\u001b[0;34m,\u001b[0m\u001b[0mx\u001b[0m\u001b[0;34m)\u001b[0m\u001b[0;34m:\u001b[0m\u001b[0;34m\u001b[0m\u001b[0;34m\u001b[0m\u001b[0m\n\u001b[0;32m---> 18\u001b[0;31m         \u001b[0mx\u001b[0m \u001b[0;34m=\u001b[0m \u001b[0mself\u001b[0m\u001b[0;34m.\u001b[0m\u001b[0mrelu\u001b[0m\u001b[0;34m(\u001b[0m\u001b[0mself\u001b[0m\u001b[0;34m.\u001b[0m\u001b[0mnorm\u001b[0m\u001b[0;34m(\u001b[0m\u001b[0mself\u001b[0m\u001b[0;34m.\u001b[0m\u001b[0mconv\u001b[0m\u001b[0;34m(\u001b[0m\u001b[0mx\u001b[0m\u001b[0;34m)\u001b[0m\u001b[0;34m)\u001b[0m\u001b[0;34m)\u001b[0m\u001b[0;34m\u001b[0m\u001b[0;34m\u001b[0m\u001b[0m\n\u001b[0m\u001b[1;32m     19\u001b[0m         \u001b[0mx\u001b[0m\u001b[0;34m=\u001b[0m \u001b[0mself\u001b[0m\u001b[0;34m.\u001b[0m\u001b[0mdrop\u001b[0m\u001b[0;34m(\u001b[0m\u001b[0mx\u001b[0m\u001b[0;34m)\u001b[0m\u001b[0;34m\u001b[0m\u001b[0;34m\u001b[0m\u001b[0m\n\u001b[1;32m     20\u001b[0m         \u001b[0;32mreturn\u001b[0m \u001b[0mx\u001b[0m\u001b[0;34m\u001b[0m\u001b[0;34m\u001b[0m\u001b[0m\n",
            "\u001b[0;32m/usr/local/lib/python3.7/dist-packages/torch/nn/modules/module.py\u001b[0m in \u001b[0;36m_call_impl\u001b[0;34m(self, *input, **kwargs)\u001b[0m\n\u001b[1;32m   1118\u001b[0m             \u001b[0minput\u001b[0m \u001b[0;34m=\u001b[0m \u001b[0mbw_hook\u001b[0m\u001b[0;34m.\u001b[0m\u001b[0msetup_input_hook\u001b[0m\u001b[0;34m(\u001b[0m\u001b[0minput\u001b[0m\u001b[0;34m)\u001b[0m\u001b[0;34m\u001b[0m\u001b[0;34m\u001b[0m\u001b[0m\n\u001b[1;32m   1119\u001b[0m \u001b[0;34m\u001b[0m\u001b[0m\n\u001b[0;32m-> 1120\u001b[0;31m         \u001b[0mresult\u001b[0m \u001b[0;34m=\u001b[0m \u001b[0mforward_call\u001b[0m\u001b[0;34m(\u001b[0m\u001b[0;34m*\u001b[0m\u001b[0minput\u001b[0m\u001b[0;34m,\u001b[0m \u001b[0;34m**\u001b[0m\u001b[0mkwargs\u001b[0m\u001b[0;34m)\u001b[0m\u001b[0;34m\u001b[0m\u001b[0;34m\u001b[0m\u001b[0m\n\u001b[0m\u001b[1;32m   1121\u001b[0m         \u001b[0;32mif\u001b[0m \u001b[0m_global_forward_hooks\u001b[0m \u001b[0;32mor\u001b[0m \u001b[0mself\u001b[0m\u001b[0;34m.\u001b[0m\u001b[0m_forward_hooks\u001b[0m\u001b[0;34m:\u001b[0m\u001b[0;34m\u001b[0m\u001b[0;34m\u001b[0m\u001b[0m\n\u001b[1;32m   1122\u001b[0m             \u001b[0;32mfor\u001b[0m \u001b[0mhook\u001b[0m \u001b[0;32min\u001b[0m \u001b[0;34m(\u001b[0m\u001b[0;34m*\u001b[0m\u001b[0m_global_forward_hooks\u001b[0m\u001b[0;34m.\u001b[0m\u001b[0mvalues\u001b[0m\u001b[0;34m(\u001b[0m\u001b[0;34m)\u001b[0m\u001b[0;34m,\u001b[0m \u001b[0;34m*\u001b[0m\u001b[0mself\u001b[0m\u001b[0;34m.\u001b[0m\u001b[0m_forward_hooks\u001b[0m\u001b[0;34m.\u001b[0m\u001b[0mvalues\u001b[0m\u001b[0;34m(\u001b[0m\u001b[0;34m)\u001b[0m\u001b[0;34m)\u001b[0m\u001b[0;34m:\u001b[0m\u001b[0;34m\u001b[0m\u001b[0;34m\u001b[0m\u001b[0m\n",
            "\u001b[0;32m<ipython-input-22-8a5f5a14696c>\u001b[0m in \u001b[0;36mforward\u001b[0;34m(self, input)\u001b[0m\n\u001b[1;32m     34\u001b[0m                 \u001b[0minput\u001b[0m\u001b[0;34m.\u001b[0m\u001b[0mview\u001b[0m\u001b[0;34m(\u001b[0m\u001b[0;34m-\u001b[0m\u001b[0;36m1\u001b[0m\u001b[0;34m,\u001b[0m \u001b[0mC\u001b[0m\u001b[0;34m*\u001b[0m\u001b[0mself\u001b[0m\u001b[0;34m.\u001b[0m\u001b[0mnum_splits\u001b[0m\u001b[0;34m,\u001b[0m \u001b[0mH\u001b[0m\u001b[0;34m,\u001b[0m \u001b[0mW\u001b[0m\u001b[0;34m)\u001b[0m\u001b[0;34m,\u001b[0m \u001b[0mself\u001b[0m\u001b[0;34m.\u001b[0m\u001b[0mrunning_mean\u001b[0m\u001b[0;34m,\u001b[0m \u001b[0mself\u001b[0m\u001b[0;34m.\u001b[0m\u001b[0mrunning_var\u001b[0m\u001b[0;34m,\u001b[0m\u001b[0;34m\u001b[0m\u001b[0;34m\u001b[0m\u001b[0m\n\u001b[1;32m     35\u001b[0m                 \u001b[0mself\u001b[0m\u001b[0;34m.\u001b[0m\u001b[0mweight\u001b[0m\u001b[0;34m.\u001b[0m\u001b[0mrepeat\u001b[0m\u001b[0;34m(\u001b[0m\u001b[0mself\u001b[0m\u001b[0;34m.\u001b[0m\u001b[0mnum_splits\u001b[0m\u001b[0;34m)\u001b[0m\u001b[0;34m,\u001b[0m \u001b[0mself\u001b[0m\u001b[0;34m.\u001b[0m\u001b[0mbias\u001b[0m\u001b[0;34m.\u001b[0m\u001b[0mrepeat\u001b[0m\u001b[0;34m(\u001b[0m\u001b[0mself\u001b[0m\u001b[0;34m.\u001b[0m\u001b[0mnum_splits\u001b[0m\u001b[0;34m)\u001b[0m\u001b[0;34m,\u001b[0m\u001b[0;34m\u001b[0m\u001b[0;34m\u001b[0m\u001b[0m\n\u001b[0;32m---> 36\u001b[0;31m                 True, self.momentum, self.eps).view(N, C, H, W) \n\u001b[0m\u001b[1;32m     37\u001b[0m         \u001b[0;32melse\u001b[0m\u001b[0;34m:\u001b[0m\u001b[0;34m\u001b[0m\u001b[0;34m\u001b[0m\u001b[0m\n\u001b[1;32m     38\u001b[0m             return F.batch_norm(\n",
            "\u001b[0;32m/usr/local/lib/python3.7/dist-packages/torch/nn/functional.py\u001b[0m in \u001b[0;36mbatch_norm\u001b[0;34m(input, running_mean, running_var, weight, bias, training, momentum, eps)\u001b[0m\n\u001b[1;32m   2281\u001b[0m \u001b[0;34m\u001b[0m\u001b[0m\n\u001b[1;32m   2282\u001b[0m     return torch.batch_norm(\n\u001b[0;32m-> 2283\u001b[0;31m         \u001b[0minput\u001b[0m\u001b[0;34m,\u001b[0m \u001b[0mweight\u001b[0m\u001b[0;34m,\u001b[0m \u001b[0mbias\u001b[0m\u001b[0;34m,\u001b[0m \u001b[0mrunning_mean\u001b[0m\u001b[0;34m,\u001b[0m \u001b[0mrunning_var\u001b[0m\u001b[0;34m,\u001b[0m \u001b[0mtraining\u001b[0m\u001b[0;34m,\u001b[0m \u001b[0mmomentum\u001b[0m\u001b[0;34m,\u001b[0m \u001b[0meps\u001b[0m\u001b[0;34m,\u001b[0m \u001b[0mtorch\u001b[0m\u001b[0;34m.\u001b[0m\u001b[0mbackends\u001b[0m\u001b[0;34m.\u001b[0m\u001b[0mcudnn\u001b[0m\u001b[0;34m.\u001b[0m\u001b[0menabled\u001b[0m\u001b[0;34m\u001b[0m\u001b[0;34m\u001b[0m\u001b[0m\n\u001b[0m\u001b[1;32m   2284\u001b[0m     )\n\u001b[1;32m   2285\u001b[0m \u001b[0;34m\u001b[0m\u001b[0m\n",
            "\u001b[0;31mKeyboardInterrupt\u001b[0m: "
          ]
        }
      ],
      "source": [
        "if __name__ == \"__main__\":\n",
        "    batch_size = 64\n",
        "    epochs = 10\n",
        "\n",
        "    _=torch.manual_seed(1)\n",
        "    if torch.cuda.is_available():\n",
        "        _=torch.cuda.manual_seed(1)\n",
        "\n",
        "    train,test = get_data()\n",
        "    #take input as normal_type ['gbn','bn','gn','ln']\n",
        "\n",
        "    args = {'pin_memory':True,'num_workers':4} if torch.cuda.is_available() else {}\n",
        "    train_loader = DataLoader(train_alb,batch_size=batch_size,shuffle = True,**args)\n",
        "    test_loader = DataLoader(test_alb,batch_size=batch_size,**args)\n",
        "    # ['gbn','bn','gn','ln']\n",
        "    try_type = ['gbn']\n",
        "    for norm_type in try_type:\n",
        "\n",
        "        model_class = Cifar10Net(dropout_val=0.01,norm_type=norm_type)\n",
        "        model,train_losses, train_accuracy,test_losses,test_accuracy = Run_Model(model_class,train_alb,test_alb,epochs =epochs)\n",
        "        plot_acc_loss(norm_type ,train_accuracy,train_losses,test_accuracy,test_losses)\n",
        "        clean_gpu()\n",
        "    \n",
        "        # test_data = test.test_data\n",
        "        # test_labels = test.test_labels\n",
        "        # print_wrong_image(model ,device,test_data,test_labels,n_images = 10)\n",
        "        clean_gpu()"
      ]
    },
    {
      "cell_type": "code",
      "source": [
        ""
      ],
      "metadata": {
        "id": "4CJVjjt0E92u"
      },
      "execution_count": null,
      "outputs": []
    }
  ],
  "metadata": {
    "accelerator": "GPU",
    "colab": {
      "collapsed_sections": [],
      "machine_shape": "hm",
      "name": "CIFAR10_try.ipynb",
      "provenance": [],
      "include_colab_link": true
    },
    "kernelspec": {
      "display_name": "Python 3",
      "name": "python3"
    },
    "language_info": {
      "codemirror_mode": {
        "name": "ipython",
        "version": 3
      },
      "file_extension": ".py",
      "mimetype": "text/x-python",
      "name": "python",
      "nbconvert_exporter": "python",
      "pygments_lexer": "ipython3",
      "version": "3.6.6"
    }
  },
  "nbformat": 4,
  "nbformat_minor": 0
}