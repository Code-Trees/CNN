{
  "cells": [
    {
      "cell_type": "markdown",
      "metadata": {
        "id": "view-in-github",
        "colab_type": "text"
      },
      "source": [
        "<a href=\"https://colab.research.google.com/github/Code-Trees/CNN/blob/master/CIFAR10_dialated_conv_depthwise_sep_Bn_V2.ipynb\" target=\"_parent\"><img src=\"https://colab.research.google.com/assets/colab-badge.svg\" alt=\"Open In Colab\"/></a>"
      ]
    },
    {
      "cell_type": "code",
      "execution_count": 155,
      "metadata": {
        "id": "2nYRkYAkxIhf"
      },
      "outputs": [],
      "source": [
        "# Requirement Check"
      ]
    },
    {
      "cell_type": "code",
      "source": [
        "gpu_info = !nvidia-smi\n",
        "gpu_info = '\\n'.join(gpu_info)\n",
        "if gpu_info.find('failed') >= 0:\n",
        "  print('Not connected to a GPU')\n",
        "else:\n",
        "  print(gpu_info) "
      ],
      "metadata": {
        "colab": {
          "base_uri": "https://localhost:8080/"
        },
        "id": "Daj3KQ4x_6Ev",
        "outputId": "de3cd815-f600-4603-dcff-c624a4083f1f"
      },
      "execution_count": 156,
      "outputs": [
        {
          "output_type": "stream",
          "name": "stdout",
          "text": [
            "Tue Feb 15 07:50:10 2022       \n",
            "+-----------------------------------------------------------------------------+\n",
            "| NVIDIA-SMI 460.32.03    Driver Version: 460.32.03    CUDA Version: 11.2     |\n",
            "|-------------------------------+----------------------+----------------------+\n",
            "| GPU  Name        Persistence-M| Bus-Id        Disp.A | Volatile Uncorr. ECC |\n",
            "| Fan  Temp  Perf  Pwr:Usage/Cap|         Memory-Usage | GPU-Util  Compute M. |\n",
            "|                               |                      |               MIG M. |\n",
            "|===============================+======================+======================|\n",
            "|   0  Tesla T4            Off  | 00000000:00:04.0 Off |                    0 |\n",
            "| N/A   45C    P0    27W /  70W |   1370MiB / 15109MiB |      0%      Default |\n",
            "|                               |                      |                  N/A |\n",
            "+-------------------------------+----------------------+----------------------+\n",
            "                                                                               \n",
            "+-----------------------------------------------------------------------------+\n",
            "| Processes:                                                                  |\n",
            "|  GPU   GI   CI        PID   Type   Process name                  GPU Memory |\n",
            "|        ID   ID                                                   Usage      |\n",
            "|=============================================================================|\n",
            "+-----------------------------------------------------------------------------+\n"
          ]
        }
      ]
    },
    {
      "cell_type": "code",
      "execution_count": 157,
      "metadata": {
        "id": "TpNG8BrvS1iq",
        "colab": {
          "base_uri": "https://localhost:8080/"
        },
        "outputId": "f00dc6bd-81d3-4844-9b19-d5854b134382"
      },
      "outputs": [
        {
          "output_type": "stream",
          "name": "stdout",
          "text": [
            "Requirement already satisfied: opencv-python in /usr/local/lib/python3.7/dist-packages (4.1.2.30)\n",
            "Requirement already satisfied: numpy>=1.14.5 in /usr/local/lib/python3.7/dist-packages (from opencv-python) (1.19.5)\n",
            "Requirement already satisfied: albumentations in /usr/local/lib/python3.7/dist-packages (1.1.0)\n",
            "Requirement already satisfied: scikit-image>=0.16.1 in /usr/local/lib/python3.7/dist-packages (from albumentations) (0.18.3)\n",
            "Requirement already satisfied: scipy in /usr/local/lib/python3.7/dist-packages (from albumentations) (1.4.1)\n",
            "Requirement already satisfied: qudida>=0.0.4 in /usr/local/lib/python3.7/dist-packages (from albumentations) (0.0.4)\n",
            "Requirement already satisfied: PyYAML in /usr/local/lib/python3.7/dist-packages (from albumentations) (3.13)\n",
            "Requirement already satisfied: numpy>=1.11.1 in /usr/local/lib/python3.7/dist-packages (from albumentations) (1.19.5)\n",
            "Requirement already satisfied: opencv-python-headless>=4.1.1 in /usr/local/lib/python3.7/dist-packages (from albumentations) (4.5.2.52)\n",
            "Requirement already satisfied: typing-extensions in /usr/local/lib/python3.7/dist-packages (from qudida>=0.0.4->albumentations) (3.10.0.2)\n",
            "Requirement already satisfied: scikit-learn>=0.19.1 in /usr/local/lib/python3.7/dist-packages (from qudida>=0.0.4->albumentations) (1.0.2)\n",
            "Requirement already satisfied: imageio>=2.3.0 in /usr/local/lib/python3.7/dist-packages (from scikit-image>=0.16.1->albumentations) (2.4.1)\n",
            "Requirement already satisfied: tifffile>=2019.7.26 in /usr/local/lib/python3.7/dist-packages (from scikit-image>=0.16.1->albumentations) (2021.11.2)\n",
            "Requirement already satisfied: matplotlib!=3.0.0,>=2.0.0 in /usr/local/lib/python3.7/dist-packages (from scikit-image>=0.16.1->albumentations) (3.2.2)\n",
            "Requirement already satisfied: pillow!=7.1.0,!=7.1.1,>=4.3.0 in /usr/local/lib/python3.7/dist-packages (from scikit-image>=0.16.1->albumentations) (7.1.2)\n",
            "Requirement already satisfied: PyWavelets>=1.1.1 in /usr/local/lib/python3.7/dist-packages (from scikit-image>=0.16.1->albumentations) (1.2.0)\n",
            "Requirement already satisfied: networkx>=2.0 in /usr/local/lib/python3.7/dist-packages (from scikit-image>=0.16.1->albumentations) (2.6.3)\n",
            "Requirement already satisfied: cycler>=0.10 in /usr/local/lib/python3.7/dist-packages (from matplotlib!=3.0.0,>=2.0.0->scikit-image>=0.16.1->albumentations) (0.11.0)\n",
            "Requirement already satisfied: pyparsing!=2.0.4,!=2.1.2,!=2.1.6,>=2.0.1 in /usr/local/lib/python3.7/dist-packages (from matplotlib!=3.0.0,>=2.0.0->scikit-image>=0.16.1->albumentations) (3.0.7)\n",
            "Requirement already satisfied: python-dateutil>=2.1 in /usr/local/lib/python3.7/dist-packages (from matplotlib!=3.0.0,>=2.0.0->scikit-image>=0.16.1->albumentations) (2.8.2)\n",
            "Requirement already satisfied: kiwisolver>=1.0.1 in /usr/local/lib/python3.7/dist-packages (from matplotlib!=3.0.0,>=2.0.0->scikit-image>=0.16.1->albumentations) (1.3.2)\n",
            "Requirement already satisfied: six>=1.5 in /usr/local/lib/python3.7/dist-packages (from python-dateutil>=2.1->matplotlib!=3.0.0,>=2.0.0->scikit-image>=0.16.1->albumentations) (1.15.0)\n",
            "Requirement already satisfied: joblib>=0.11 in /usr/local/lib/python3.7/dist-packages (from scikit-learn>=0.19.1->qudida>=0.0.4->albumentations) (1.1.0)\n",
            "Requirement already satisfied: threadpoolctl>=2.0.0 in /usr/local/lib/python3.7/dist-packages (from scikit-learn>=0.19.1->qudida>=0.0.4->albumentations) (3.1.0)\n",
            "Requirement already satisfied: opencv-python-headless==4.5.2.52 in /usr/local/lib/python3.7/dist-packages (4.5.2.52)\n",
            "Requirement already satisfied: numpy>=1.14.5 in /usr/local/lib/python3.7/dist-packages (from opencv-python-headless==4.5.2.52) (1.19.5)\n",
            "Requirement already satisfied: Pillow in /usr/local/lib/python3.7/dist-packages (7.1.2)\n",
            "Requirement already satisfied: rf_calc in /usr/local/lib/python3.7/dist-packages (0.0.7)\n",
            "Requirement already satisfied: numpy>=1.19.4 in /usr/local/lib/python3.7/dist-packages (from rf_calc) (1.19.5)\n",
            "Requirement already satisfied: pandas>=1.1.5 in /usr/local/lib/python3.7/dist-packages (from rf_calc) (1.3.5)\n",
            "Requirement already satisfied: tabulate>=0.8.9 in /usr/local/lib/python3.7/dist-packages (from rf_calc) (0.8.9)\n",
            "Requirement already satisfied: python-dateutil>=2.7.3 in /usr/local/lib/python3.7/dist-packages (from pandas>=1.1.5->rf_calc) (2.8.2)\n",
            "Requirement already satisfied: pytz>=2017.3 in /usr/local/lib/python3.7/dist-packages (from pandas>=1.1.5->rf_calc) (2018.9)\n",
            "Requirement already satisfied: six>=1.5 in /usr/local/lib/python3.7/dist-packages (from python-dateutil>=2.7.3->pandas>=1.1.5->rf_calc) (1.15.0)\n"
          ]
        }
      ],
      "source": [
        "import os\n",
        "\n",
        "!pip install opencv-python\n",
        "!pip install -U albumentations\n",
        "!pip install opencv-python-headless==4.5.2.52\n",
        "!pip install Pillow\n",
        "!pip install rf_calc"
      ]
    },
    {
      "cell_type": "code",
      "execution_count": 158,
      "metadata": {
        "id": "lS60UZTSjNOC",
        "colab": {
          "base_uri": "https://localhost:8080/",
          "height": 35
        },
        "outputId": "f1a065e6-718c-4b50-f063-90d331431db2"
      },
      "outputs": [
        {
          "output_type": "display_data",
          "data": {
            "application/javascript": [
              "IPython.notebook.set_autosave_interval(5000)"
            ]
          },
          "metadata": {}
        },
        {
          "output_type": "stream",
          "name": "stdout",
          "text": [
            "Autosaving every 5 seconds\n"
          ]
        }
      ],
      "source": [
        "import warnings\n",
        "warnings.filterwarnings('ignore')\n",
        "%autosave 5"
      ]
    },
    {
      "cell_type": "code",
      "execution_count": 159,
      "metadata": {
        "colab": {
          "base_uri": "https://localhost:8080/",
          "height": 35
        },
        "id": "QVbdg0z4poCc",
        "outputId": "834339c6-164e-4e23-cdab-2633349d3b96"
      },
      "outputs": [
        {
          "output_type": "display_data",
          "data": {
            "application/javascript": [
              "IPython.notebook.set_autosave_interval(10000)"
            ]
          },
          "metadata": {}
        },
        {
          "output_type": "stream",
          "name": "stdout",
          "text": [
            "Autosaving every 10 seconds\n"
          ]
        }
      ],
      "source": [
        "from IPython.core.interactiveshell import InteractiveShell\n",
        "InteractiveShell.ast_node_interactivity = 'all'\n",
        "%autosave 10"
      ]
    },
    {
      "cell_type": "code",
      "execution_count": 160,
      "metadata": {
        "id": "R5mwABzayFAH"
      },
      "outputs": [],
      "source": [
        "import torch\n",
        "import torch.nn.functional as F\n",
        "import torch.nn as nn\n",
        "\n",
        "from torch.optim import SGD\n",
        "from torch.utils.data import DataLoader\n",
        "from torch.utils.data.dataset import Dataset\n",
        "from torch.optim.lr_scheduler import StepLR\n",
        "\n",
        "from torchvision import transforms,datasets\n",
        "\n",
        "import numpy as np\n",
        "import matplotlib.pyplot as plt\n",
        "from torchsummary import summary\n",
        "import random\n",
        "import seaborn as sns\n",
        "import gc\n",
        "\n",
        "import albumentations as A\n",
        "from albumentations.augmentations.geometric.resize import Resize\n",
        "from albumentations.pytorch.transforms import ToTensorV2"
      ]
    },
    {
      "cell_type": "code",
      "execution_count": 160,
      "metadata": {
        "id": "536wcDeSyFNV"
      },
      "outputs": [],
      "source": [
        ""
      ]
    },
    {
      "cell_type": "code",
      "execution_count": 161,
      "metadata": {
        "id": "0_UHX_gL2Bp2"
      },
      "outputs": [],
      "source": [
        "# we will use the CIFAR10 dataset. It has the classes:\n",
        "# ‘airplane’, ‘automobile’, ‘bird’, ‘cat’, ‘deer’, ‘dog’, ‘frog’, ‘horse’, ‘ship’, ‘truck’.\n",
        "# The images in CIFAR-10 are of size 3x32x32, i.e. 3-channel color images of 32x32 pixels in size."
      ]
    },
    {
      "cell_type": "code",
      "execution_count": 162,
      "metadata": {
        "id": "HKtfXQ8o20UO"
      },
      "outputs": [],
      "source": [
        "from tqdm import tqdm\n",
        "from rf_calc import receptive_field"
      ]
    },
    {
      "cell_type": "markdown",
      "metadata": {
        "id": "XSnEveblkwVz"
      },
      "source": [
        "GPU Cleaner"
      ]
    },
    {
      "cell_type": "code",
      "execution_count": 163,
      "metadata": {
        "id": "mIHPpFNQkvBj"
      },
      "outputs": [],
      "source": [
        "def clean_gpu():\n",
        "    \"\"\"Considering we have GPUs\"\"\"\n",
        "\n",
        "    gc.collect()\n",
        "    torch.cuda.empty_cache()\n",
        "    return None"
      ]
    },
    {
      "cell_type": "markdown",
      "metadata": {
        "id": "CpXzMbFtkzEr"
      },
      "source": [
        "Data Loading "
      ]
    },
    {
      "cell_type": "code",
      "execution_count": 164,
      "metadata": {
        "id": "vmMDwq7b17ou"
      },
      "outputs": [],
      "source": [
        "def get_data(train_transform_composes =None ,test_transform_composes =None):\n",
        "    \"\"\"We can compose customs , else the default is tensors \n",
        "    \"\"\"\n",
        "    train = datasets.CIFAR10(root= './',download = True, train = True,transform = train_transform_composes)\n",
        "    \n",
        "    test = datasets.CIFAR10(root= './',download = True, train = False ,transform = train_transform_composes)\n",
        "\n",
        "    return train,test "
      ]
    },
    {
      "cell_type": "markdown",
      "metadata": {
        "id": "-0J7zYy3k8eS"
      },
      "source": [
        "EDA With Experiments"
      ]
    },
    {
      "cell_type": "code",
      "execution_count": 165,
      "metadata": {
        "id": "VhvjgRRvY9j7"
      },
      "outputs": [],
      "source": [
        "def plot_unique_images(data_set,labels = None):\n",
        "    img_data = data_set.data\n",
        "    target = data_set.targets.copy()\n",
        "\n",
        "    fig = plt.figure(figsize=(30,30))\n",
        "    count = 1\n",
        "    unique_images_index = [random.choice(np.where(np.array(target) == search)[0]) for search in list(set(target))]\n",
        "\n",
        "    for image_index in unique_images_index:\n",
        "        n= image_index\n",
        "        ax = fig.add_subplot(1,10,count)\n",
        "        _=plt.imshow(img_data[n])\n",
        "        try:\n",
        "            _=plt.title(f\"label :{labels[target[n]]} idx:{n}\")\n",
        "        except:\n",
        "            _=plt.title(f\"idx:{n} Label: {target[n]}\")\n",
        "        _ = plt.autoscale()\n",
        "        _= fig.tight_layout(pad =1)\n",
        "        count+= 1\n",
        "        if count>=len(target):\n",
        "            break\n",
        "    plt.show()\n"
      ]
    },
    {
      "cell_type": "code",
      "execution_count": 166,
      "metadata": {
        "id": "jDzg2TuWZBYi"
      },
      "outputs": [],
      "source": [
        "def get_data_stats(dataset_train,dataset_test = None,img_norm_typ ='train',plot = False):\n",
        "    MEAN = []\n",
        "    STD = []\n",
        "    VAR = []\n",
        "    if img_norm_typ == 'train':\n",
        "        fig = plt.figure(figsize=(15,5))\n",
        "        for i in range(0,dataset_train.data.shape[len(dataset_train.data.shape)-1]):\n",
        "            scale = dataset_train.data[:,:,:,i]/dataset_train.data[:,:,:,i].max()\n",
        "            MEAN.append(scale.mean())\n",
        "            STD.append(scale.std())\n",
        "            VAR.append(scale.var())\n",
        "            if plot == True:\n",
        "                ax = fig.add_subplot(1,3,i+1)\n",
        "                _=sns.histplot(scale.reshape(-1) )\n",
        "                _=plt.title(f\"label :{'Train' if dataset_train.train else 'Test' } Channel:{i+1}\")\n",
        "                _= plt.xlabel(f\"Mean:{round(MEAN[i],3)}, std:{round(STD[i],3)}, var:{round(VAR[i],3)}\")\n",
        "                _ = plt.autoscale()\n",
        "                _= fig.tight_layout(pad =1)\n",
        "        # plt.show()\n",
        "        # print(f\" For {'Train' if dataset_train.train else 'Test'} data, Mean: {MEAN} || Variance: {VAR} || Standard Dev: {STD} || Data Dim: {dataset_train.data.shape}\")\n",
        "\n",
        "    elif img_norm_typ == 'train+test':\n",
        "        fig = plt.figure(figsize=(10,5))\n",
        "        mega_data  =np.append(dataset_train.data, dataset_test.data, 0)\n",
        "        for i in range(0,dataset_train.data.shape[len(dataset_train.data.shape)-1]):\n",
        "            scale = mega_data[:,:,:,i]/mega_data[:,:,:,i].max()\n",
        "            MEAN.append(scale.mean())\n",
        "            STD.append(scale.std())\n",
        "            VAR.append(scale.var())\n",
        "            if plot == True:\n",
        "                ax = fig.add_subplot(1,3,i+1)\n",
        "                _=sns.histplot(scale.reshape(-1))\n",
        "                _=plt.title(f\"label :{'Train' if dataset_train.train else 'Test' } Channel:{i+1}\")\n",
        "                _= plt.xlabel(f\"Mean:{round(MEAN[i],3)},std:{round(STD[i],3)},var:{round(VAR[i],3)}\")\n",
        "                _ = plt.autoscale()\n",
        "                _= fig.tight_layout(pad =1)\n",
        "        # print(f\"For {'Train' if dataset_train.train else 'Test'} data, Mean: {MEAN} || Variance: {VAR} || Standard Dev: {STD} || for {mega_data.shape} Dim\")\n",
        "    return tuple(MEAN),tuple(STD)"
      ]
    },
    {
      "cell_type": "code",
      "execution_count": 167,
      "metadata": {
        "colab": {
          "base_uri": "https://localhost:8080/",
          "height": 440
        },
        "id": "sUOh7izWQx4B",
        "outputId": "8dae28e3-cb7d-4a14-a7d2-a524f510fa0b"
      },
      "outputs": [
        {
          "output_type": "stream",
          "name": "stdout",
          "text": [
            "Files already downloaded and verified\n",
            "Files already downloaded and verified\n",
            "Train Shape: (50000, 32, 32, 3) Test Shape: (10000, 32, 32, 3) \n",
            "\n"
          ]
        },
        {
          "output_type": "display_data",
          "data": {
            "image/png": "[encoded data removed]",
            "text/plain": [
              "<Figure size 2160x2160 with 10 Axes>"
            ]
          },
          "metadata": {
            "needs_background": "light"
          }
        },
        {
          "output_type": "display_data",
          "data": {
            "image/png": "[encoded data removed]",
            "text/plain": [
              "<Figure size 2160x2160 with 10 Axes>"
            ]
          },
          "metadata": {
            "needs_background": "light"
          }
        }
      ],
      "source": [
        "labels = {0:'airplane',1:'automobile',2:'bird',3:'cat',4:'deer',5:'dog',6:'frog',7:'horse',8:'ship',9:'truck'}\n",
        "train,test = get_data()\n",
        "print(f\"Train Shape: {train.data.shape} Test Shape: {test.data.shape} \\n\")\n",
        "plot_unique_images(train,labels =labels)\n",
        "plot_unique_images(train,labels =labels)"
      ]
    },
    {
      "cell_type": "code",
      "execution_count": 168,
      "metadata": {
        "id": "7y222dwRSTsb"
      },
      "outputs": [],
      "source": [
        "#Calculating mean and veriance and std"
      ]
    },
    {
      "cell_type": "code",
      "execution_count": 169,
      "metadata": {
        "colab": {
          "base_uri": "https://localhost:8080/",
          "height": 72
        },
        "id": "9hmSYR5PWgO7",
        "outputId": "e1d56075-fd89-44cd-b82d-696ea233ddec"
      },
      "outputs": [
        {
          "output_type": "stream",
          "name": "stdout",
          "text": [
            "Mean: (0.49186877885008395, 0.48265390516493006, 0.44717727749693653) \n",
            "STD: (0.2469712143255279, 0.24338893940434994, 0.2615925905215076)\n"
          ]
        },
        {
          "output_type": "display_data",
          "data": {
            "text/plain": [
              "<Figure size 720x360 with 0 Axes>"
            ]
          },
          "metadata": {}
        }
      ],
      "source": [
        "# img_norm_typ  can be 'train' and 'train+test\n",
        "mean,std  = get_data_stats(train,test,img_norm_typ ='train+test',plot = False)\n",
        "print(f\"Mean: {mean} \\nSTD: {std}\")"
      ]
    },
    {
      "cell_type": "markdown",
      "metadata": {
        "id": "xQzYQVeWlC0c"
      },
      "source": [
        "Data Transform Compose"
      ]
    },
    {
      "cell_type": "code",
      "execution_count": 170,
      "metadata": {
        "id": "nOvXHwrSqKJj"
      },
      "outputs": [],
      "source": [
        "# Base Normalization\n",
        "train_transform =A.Compose([A.Resize(32,32),\n",
        "                            A.Normalize(mean = mean,std = std,max_pixel_value=255,always_apply = True),\n",
        "                            ToTensorV2(transpose_mask =False),\n",
        "                            ])      \n",
        "test_transform = A.Compose([A.Resize(32,32),\n",
        "                            A.Normalize(mean = mean,std = std,max_pixel_value=255,always_apply = True),\n",
        "                            ToTensorV2(transpose_mask =False,),\n",
        "                            ])"
      ]
    },
    {
      "cell_type": "code",
      "source": [
        "# Advanced Normalization\n",
        "train_transform =A.Compose([A.Resize(32,32),\n",
        "                            A.Normalize(mean = mean,std = std,max_pixel_value=255,always_apply = True),\n",
        "                             A.ShiftScaleRotate(always_apply=False),\n",
        "                             A.CoarseDropout(always_apply = False,max_holes = 1, max_height=16, max_width=16, min_holes = 1, min_height=16, min_width=16, fill_value=mean, mask_fill_value = None),\n",
        "                            ToTensorV2(transpose_mask =False),\n",
        "                             ])      \n",
        "test_transform = A.Compose([A.Resize(32,32),\n",
        "                             A.Normalize(mean = mean,std = std,max_pixel_value=255,always_apply = True),\n",
        "                           ToTensorV2(transpose_mask =False), ])"
      ],
      "metadata": {
        "id": "-nT0T1cIDPug"
      },
      "execution_count": 171,
      "outputs": []
    },
    {
      "cell_type": "code",
      "execution_count": 172,
      "metadata": {
        "colab": {
          "base_uri": "https://localhost:8080/",
          "height": 588
        },
        "id": "oaJ7J8rAqTSr",
        "outputId": "106337d6-12cb-484b-ba29-57fda615559e"
      },
      "outputs": [
        {
          "output_type": "execute_result",
          "data": {
            "text/plain": [
              "numpy.ndarray"
            ]
          },
          "metadata": {},
          "execution_count": 172
        },
        {
          "output_type": "display_data",
          "data": {
            "image/png": "[encoded data removed]",
            "text/plain": [
              "<Figure size 432x288 with 1 Axes>"
            ]
          },
          "metadata": {
            "needs_background": "light"
          }
        },
        {
          "output_type": "stream",
          "name": "stderr",
          "text": [
            "Clipping input data to the valid range for imshow with RGB data ([0..1] for floats or [0..255] for integers).\n"
          ]
        },
        {
          "output_type": "stream",
          "name": "stdout",
          "text": [
            "Before(32, 32, 3)\n",
            "Aftertorch.Size([3, 32, 32])\n"
          ]
        },
        {
          "output_type": "display_data",
          "data": {
            "image/png": "[encoded data removed]",
            "text/plain": [
              "<Figure size 432x288 with 1 Axes>"
            ]
          },
          "metadata": {
            "needs_background": "light"
          }
        }
      ],
      "source": [
        "t = train.data\n",
        "type(t[10])\n",
        "a = t[np.random.randint(0,50000)]\n",
        "_ = plt.imshow(a)\n",
        "_ = plt.show()\n",
        "print(f\"Before{a.shape}\")\n",
        "# _ = plt.subplots(figsize = (5,5))\n",
        "a = train_transform(image = a)[\"image\"]\n",
        "print(f\"After{a.shape}\")\n",
        "_ = plt.imshow(np.transpose(a,(1,2,0)))\n",
        "# _ = plt.imshow(a)\n",
        "\n",
        "_ = plt.show()"
      ]
    },
    {
      "cell_type": "code",
      "execution_count": 172,
      "metadata": {
        "id": "Z9MBD0jPacQN"
      },
      "outputs": [],
      "source": [
        ""
      ]
    },
    {
      "cell_type": "markdown",
      "metadata": {
        "id": "ErA4gL-Vbp46"
      },
      "source": [
        "Albumentation Compose"
      ]
    },
    {
      "cell_type": "code",
      "execution_count": 173,
      "metadata": {
        "id": "MEmErKJYn3cn"
      },
      "outputs": [],
      "source": [
        "class AlbumDataset(Dataset):\n",
        "    \"\"\"Face Landmarks dataset.\"\"\"\n",
        "\n",
        "    def __init__(self, data,transform=None):\n",
        "        \"\"\"\n",
        "        Args:\n",
        "            csv_file (string): Path to the csv file with annotations.\n",
        "            root_dir (string): Directory with all the images.\n",
        "            transform (callable, optional): Optional transform to be applied\n",
        "                on a sample.\n",
        "        \"\"\"\n",
        "        self.train = train.data\n",
        "        self.label = train.targets\n",
        "        self.transform = transform\n",
        "\n",
        "    def __len__(self):\n",
        "        return (len(self.train))\n",
        "\n",
        "    def __getitem__(self, idx):\n",
        "        image = self.train[idx]\n",
        "        image = np.array(image)\n",
        "        # image = image.fromarray(image).convert('RGB')\n",
        "        # image = np.asarray(image).astype(np.unit8)\n",
        "        if self.transform:\n",
        "            aug_image = self.transform(image= image)[\"image\"]\n",
        "        aug_image = torch.tensor(aug_image,dtype =torch.float)\n",
        "        return aug_image,self.label[idx]"
      ]
    },
    {
      "cell_type": "code",
      "execution_count": 173,
      "metadata": {
        "id": "5BrYDedLaQi2"
      },
      "outputs": [],
      "source": [
        ""
      ]
    },
    {
      "cell_type": "markdown",
      "metadata": {
        "id": "t5HY69M2kKAr"
      },
      "source": [
        "Custom Network Normalization "
      ]
    },
    {
      "cell_type": "code",
      "execution_count": 174,
      "metadata": {
        "id": "r0UaSg3IBa2A"
      },
      "outputs": [],
      "source": [
        "class GhostBatchNorm(nn.BatchNorm2d):\n",
        "    \"\"\"\n",
        "    From : https://github.com/davidcpage/cifar10-fast/blob/master/bag_of_tricks.ipynb\n",
        "\n",
        "    Batch norm seems to work best with batch size of around 32. The reasons presumably have to do \n",
        "    with noise in the batch statistics and specifically a balance between a beneficial regularising effect \n",
        "    at intermediate batch sizes and an excess of noise at small batches.\n",
        "    \n",
        "    Our batches are of size 512 and we can't afford to reduce them without taking a serious hit on training times, \n",
        "    but we can apply batch norm separately to subsets of a training batch. This technique, known as 'ghost' batch \n",
        "    norm, is usually used in a distributed setting but is just as useful when using large batches on a single node. \n",
        "    It isn't supported directly in PyTorch but we can roll our own easily enough.\n",
        "    \"\"\"\n",
        "    def __init__(self, num_features, num_splits, eps=1e-05, momentum=0.1, weight=True, bias=True):\n",
        "        super(GhostBatchNorm, self).__init__(num_features, eps=eps, momentum=momentum)\n",
        "        self.weight.data.fill_(1.0)\n",
        "        self.bias.data.fill_(0.0)\n",
        "        self.weight.requires_grad = weight\n",
        "        self.bias.requires_grad = bias        \n",
        "        self.num_splits = num_splits\n",
        "        self.register_buffer('running_mean', torch.zeros(num_features*self.num_splits))\n",
        "        self.register_buffer('running_var', torch.ones(num_features*self.num_splits))\n",
        "\n",
        "    def train(self, mode=True):\n",
        "        if (self.training is True) and (mode is False):\n",
        "            self.running_mean = torch.mean(self.running_mean.view(self.num_splits, self.num_features), dim=0).repeat(self.num_splits)\n",
        "            self.running_var = torch.mean(self.running_var.view(self.num_splits, self.num_features), dim=0).repeat(self.num_splits)\n",
        "        return super(GhostBatchNorm, self).train(mode)\n",
        "        \n",
        "    def forward(self, input):\n",
        "        N, C, H, W = input.shape\n",
        "        if self.training or not self.track_running_stats:\n",
        "            return F.batch_norm(\n",
        "                input.view(-1, C*self.num_splits, H, W), self.running_mean, self.running_var, \n",
        "                self.weight.repeat(self.num_splits), self.bias.repeat(self.num_splits),\n",
        "                True, self.momentum, self.eps).view(N, C, H, W) \n",
        "        else:\n",
        "            return F.batch_norm(\n",
        "                input, self.running_mean[:self.num_features], self.running_var[:self.num_features], \n",
        "                self.weight, self.bias, False, self.momentum, self.eps)\n",
        "\n",
        "\n",
        "def Normalize(norm_type,num_features,n_group=2):\n",
        "    if norm_type == 'bn':\n",
        "        return nn.BatchNorm2d(num_features = num_features)\n",
        "\n",
        "    elif norm_type =='gn':\n",
        "        return nn.GroupNorm(num_groups=n_group ,num_channels=num_features)\n",
        "    \n",
        "    elif norm_type =='ln':\n",
        "        return nn.GroupNorm(num_groups =1, num_channels=num_features)\n",
        "\n",
        "    elif norm_type == 'gbn':\n",
        "        return  GhostBatchNorm(num_features, num_splits=4, weight=False)\n",
        "        \n",
        "    else:\n",
        "        print ('Invalid norm Parameter, Providing Default as BN ')\n",
        "        return nn.BatchNorm2d(num_features = num_features,)"
      ]
    },
    {
      "cell_type": "code",
      "execution_count": 174,
      "metadata": {
        "id": "av5b7c4qkdiz"
      },
      "outputs": [],
      "source": [
        ""
      ]
    },
    {
      "cell_type": "markdown",
      "metadata": {
        "id": "vSYBqMQS_-Tf"
      },
      "source": [
        "Custom Convolution Blocks"
      ]
    },
    {
      "cell_type": "code",
      "execution_count": 175,
      "metadata": {
        "id": "1sYqJno_Oifq"
      },
      "outputs": [],
      "source": [
        "class Depthwise_sep_conv(nn.Module):\n",
        "    def __init__(self,in_channels,out_channels,dropout_val=0.1,norm_type = 'bn',stride = 1,padding = 1):\n",
        "        super(Depthwise_sep_conv,self).__init__()\n",
        "        self.in_channels  = in_channels\n",
        "        self.out_channels = out_channels\n",
        "        self.stride = stride\n",
        "        self.dropout_val = dropout_val\n",
        "        self.norm_type = norm_type\n",
        "        self.padding = padding \n",
        "\n",
        "        self.deptwiseseperable = nn.Conv2d(in_channels=self.in_channels, out_channels=self.in_channels,kernel_size =(3,3), stride = self.stride,padding = self.padding,groups = self.in_channels, bias = False)\n",
        "        self.pointwise = nn.Conv2d(in_channels=self.in_channels, out_channels=self.out_channels,kernel_size =(1,1), stride =1, bias = False)\n",
        "        self.norm = Normalize(norm_type = self.norm_type ,num_features= self.out_channels)\n",
        "        self.relu = nn.ReLU()\n",
        "        self.drop = nn.Dropout2d(p = self.dropout_val)\n",
        "    \n",
        "    def forward(self,x):\n",
        "        x = self.deptwiseseperable(x)\n",
        "        x = self.pointwise(x)\n",
        "        x = self.relu(x)\n",
        "        x = self.drop(x)\n",
        "        return x"
      ]
    },
    {
      "cell_type": "code",
      "execution_count": 176,
      "metadata": {
        "id": "i2imTJ9DCj2d"
      },
      "outputs": [],
      "source": [
        "class ConvBlock(nn.Module):\n",
        "    def __init__(self,in_channels,out_channels,stride,padding,kernel_size=(3,3),norm_type = 'bn' ,dropout_val = 0,dilation = 1):\n",
        "        super(ConvBlock,self).__init__()\n",
        "        self.in_channels = in_channels\n",
        "        self.out_channels = out_channels\n",
        "        self.stride=stride\n",
        "        self.padding= padding\n",
        "        self.kernel_size=kernel_size\n",
        "        self.norm_type = norm_type\n",
        "        self.dropout_val = dropout_val\n",
        "        self.dilation = dilation\n",
        "\n",
        "        self.conv = nn.Conv2d(in_channels=self.in_channels, out_channels=self.out_channels,kernel_size=self.kernel_size,stride =self.stride,padding = self.padding,dilation =self.dilation ,bias = False)\n",
        "        self.norm = Normalize(norm_type = self.norm_type ,num_features= self.out_channels)\n",
        "        self.relu = nn.ReLU()\n",
        "        self.drop = nn.Dropout2d(p = self.dropout_val)\n",
        "\n",
        "    def forward(self,x):\n",
        "        x = self.relu(self.norm(self.conv(x)))\n",
        "        x= self.drop(x)\n",
        "        return x"
      ]
    },
    {
      "cell_type": "markdown",
      "metadata": {
        "id": "nrN8Y-yAkfOy"
      },
      "source": [
        "Model Building"
      ]
    },
    {
      "cell_type": "code",
      "execution_count": 177,
      "metadata": {
        "id": "j2S-NcgznQXh"
      },
      "outputs": [],
      "source": [
        "class Cifar10Net1(nn.Module):\n",
        "    def __init__(self,dropout_val = 0,norm_type = 'bn'):\n",
        "        super(Cifar10Net1,self).__init__()\n",
        "        self.norm_type = norm_type\n",
        "        self.drop = dropout_val\n",
        "\n",
        "        self.block1 = nn.Sequential(\n",
        "            ConvBlock(in_channels=3,out_channels=8,kernel_size = (3,3),stride = 1, padding = 0,norm_type = self.norm_type,dropout_val= self.drop),\n",
        "            ConvBlock(in_channels=8,out_channels=16,kernel_size = (3,3),stride = 1, padding = 1,norm_type = self.norm_type,dropout_val= self.drop),\n",
        "            ConvBlock(in_channels=16,out_channels=32,kernel_size = (3,3),stride = 1, padding = 1,norm_type = self.norm_type,dropout_val= self.drop),\n",
        "            )\n",
        "        \n",
        "        self.pool1 =ConvBlock(in_channels=32,out_channels=32,kernel_size = (3,3),stride = 2, padding = 1,norm_type = self.norm_type,dropout_val= self.drop)\n",
        "\n",
        "\n",
        "        self.block2 = nn.Sequential(\n",
        "            ConvBlock(in_channels=32,out_channels=16,kernel_size = (1,1),stride = 1, padding = 1,norm_type = self.norm_type,dropout_val= self.drop),\n",
        "            Depthwise_sep_conv(in_channels=16,out_channels=32,dropout_val=self.drop,norm_type = self.norm_type,stride = 1,padding = 1),\n",
        "            Depthwise_sep_conv(in_channels=32,out_channels=64,dropout_val=self.drop,norm_type = self.norm_type,stride = 1,padding = 1),\n",
        "            # ConvBlock(in_channels=32,out_channels=64,kernel_size = (3,3),stride = 1, padding = 1,norm_type = self.norm_type,dropout_val= self.drop),\n",
        "            )\n",
        "\n",
        "        self.pool2 = ConvBlock(in_channels=64,out_channels=64,kernel_size = (3,3),stride = 2, padding = 0,norm_type = self.norm_type,dropout_val= self.drop)\n",
        "        \n",
        "        self.block3 = nn.Sequential(\n",
        "            ConvBlock(in_channels=64,out_channels=32,kernel_size = (1,1),stride = 1, padding =1,norm_type = self.norm_type,dropout_val= self.drop),\n",
        "            Depthwise_sep_conv(in_channels=32,out_channels=64,dropout_val=self.drop,norm_type = self.norm_type,stride = 1,padding =1),\n",
        "            Depthwise_sep_conv(in_channels=64,out_channels=128,dropout_val=self.drop,norm_type = self.norm_type,stride = 1,padding =1),\n",
        "            )\n",
        "\n",
        "        self.conv_block1 = ConvBlock(in_channels=128,out_channels=32,kernel_size = (1,1),stride = 1, padding =0,norm_type = self.norm_type,dropout_val= self.drop)\n",
        "        self.conv_block2 = ConvBlock(in_channels=32,out_channels=32,kernel_size = (3,3),stride = 1, padding =0,norm_type = self.norm_type,dropout_val= self.drop,dilation =2)\n",
        "        self.conv_block3 = ConvBlock(in_channels=32,out_channels=64,kernel_size = (3,3),stride = 1, padding =0,norm_type = self.norm_type,dropout_val= self.drop,dilation =2)\n",
        "\n",
        "        # self.conv_block1 = nn.Conv2d(in_channels=128,out_channels=32,kernel_size = (1,1),stride = 1, padding =0,bias= False)\n",
        "        # self.conv_block2 = nn.Conv2d(in_channels=32,out_channels=32,kernel_size = (3,3),stride = 1, padding =0,dilation =2,bias= False)\n",
        "        self.conv_block3 = nn.Conv2d(in_channels=32,out_channels=64,kernel_size = (3,3),stride = 1, padding =0,bias= False)\n",
        "        \n",
        "        \n",
        "        self.GAP = nn.AdaptiveAvgPool2d(output_size=(1,1))\n",
        "        # self.GAP = nn.AvgPool2d(kernel_size = (5,5))\n",
        "        self.linear = nn.Linear(in_features =64 ,out_features = 10)\n",
        "        # self.conv_block4 = nn.Conv2d(in_channels=64,out_channels=10,kernel_size = (3,3),stride = 1, padding =0)\n",
        "        # self.conv_block5 = nn.Conv2d(in_channels=64,out_channels=10,kernel_size = (1,1),stride = 1, padding =0)\n",
        "        # self.conv_block4 = nn.Conv2d(in_channels=32,out_channels=10,kernel_size = (1,1),stride = 1, padding =0,bias= False)\n",
        "\n",
        "\n",
        "\n",
        "    def forward(self,x):\n",
        "        x = self.block1(x)\n",
        "        x = self.pool1(x)\n",
        "        x = self.block2(x)\n",
        "        x = self.pool2(x)\n",
        "        x = self.block3(x)\n",
        "        x = self.conv_block1(x)\n",
        "        x = self.conv_block2(x)\n",
        "        x = self.conv_block3(x)\n",
        "        x = self.GAP(x)\n",
        "        # x = self.conv_block4(x)\n",
        "        # x = self.conv_block5(x)\n",
        "        # return x\n",
        "        x = x.view(-1,64)\n",
        "        x = self.linear(x)\n",
        "        return F.log_softmax(x,dim = -1)"
      ]
    },
    {
      "cell_type": "code",
      "execution_count": 177,
      "metadata": {
        "id": "s4vqR3KnO44t"
      },
      "outputs": [],
      "source": [
        ""
      ]
    },
    {
      "cell_type": "code",
      "execution_count": 178,
      "metadata": {
        "id": "BXaOiEc8yoVo",
        "colab": {
          "base_uri": "https://localhost:8080/"
        },
        "outputId": "63a33d44-86eb-44da-f0d6-026cbfe43b7b"
      },
      "outputs": [
        {
          "output_type": "stream",
          "name": "stdout",
          "text": [
            "=======================================Reciptive Field Calculator========================================\n",
            "|    | Kernel_size   | Padding   |   Stride | Input_Img_size   | Output_Img_size   | Receptive_field   |\n",
            "|---:|:--------------|:----------|---------:|:-----------------|:------------------|:------------------|\n",
            "|  0 | 3*3           | NO        |        1 | 32*32            | 30*30             | 3*3               |\n",
            "|  1 | 3*3           | 1         |        1 | 30*30            | 30*30             | 5*5               |\n",
            "|  2 | 3*3           | 1         |        1 | 30*30            | 30*30             | 7*7               |\n",
            "|  3 | 3*3           | 1         |        2 | 30*30            | 15*15             | 9*9               |\n",
            "|  4 | 1*1           | 1         |        1 | 15*15            | 17*17             | 9*9               |\n",
            "|  5 | 3*3           | 1         |        1 | 17*17            | 17*17             | 13*13             |\n",
            "|  6 | 1*1           | NO        |        1 | 17*17            | 17*17             | 13*13             |\n",
            "|  7 | 3*3           | 1         |        1 | 17*17            | 17*17             | 17*17             |\n",
            "|  8 | 1*1           | NO        |        1 | 17*17            | 17*17             | 17*17             |\n",
            "|  9 | 3*3           | NO        |        2 | 17*17            | 8*8               | 21*21             |\n",
            "| 10 | 1*1           | 1         |        1 | 8*8              | 10*10             | 21*21             |\n",
            "| 11 | 3*3           | 1         |        1 | 10*10            | 10*10             | 29*29             |\n",
            "| 12 | 1*1           | NO        |        1 | 10*10            | 10*10             | 29*29             |\n",
            "| 13 | 3*3           | 1         |        1 | 10*10            | 10*10             | 37*37             |\n",
            "| 14 | 1*1           | NO        |        1 | 10*10            | 10*10             | 37*37             |\n",
            "| 15 | 1*1           | NO        |        1 | 10*10            | 10*10             | 37*37             |\n",
            "| 16 | 3*3           | NO        |        1 | 10*10            | 8*8               | 45*45             |\n",
            "| 17 | 3*3           | NO        |        1 | 8*8              | 6*6               | 53*53             |\n",
            "| 18 | 1*1           | NO        |        1 | 6*6              | 6*6               | 53*53             |\n",
            "=========================================================================================================\n",
            "----------------------------------------------------------------\n",
            "        Layer (type)               Output Shape         Param #\n",
            "================================================================\n",
            "            Conv2d-1            [-1, 8, 30, 30]             216\n",
            "       BatchNorm2d-2            [-1, 8, 30, 30]              16\n",
            "              ReLU-3            [-1, 8, 30, 30]               0\n",
            "         Dropout2d-4            [-1, 8, 30, 30]               0\n",
            "         ConvBlock-5            [-1, 8, 30, 30]               0\n",
            "            Conv2d-6           [-1, 16, 30, 30]           1,152\n",
            "       BatchNorm2d-7           [-1, 16, 30, 30]              32\n",
            "              ReLU-8           [-1, 16, 30, 30]               0\n",
            "         Dropout2d-9           [-1, 16, 30, 30]               0\n",
            "        ConvBlock-10           [-1, 16, 30, 30]               0\n",
            "           Conv2d-11           [-1, 32, 30, 30]           4,608\n",
            "      BatchNorm2d-12           [-1, 32, 30, 30]              64\n",
            "             ReLU-13           [-1, 32, 30, 30]               0\n",
            "        Dropout2d-14           [-1, 32, 30, 30]               0\n",
            "        ConvBlock-15           [-1, 32, 30, 30]               0\n",
            "           Conv2d-16           [-1, 32, 15, 15]           9,216\n",
            "      BatchNorm2d-17           [-1, 32, 15, 15]              64\n",
            "             ReLU-18           [-1, 32, 15, 15]               0\n",
            "        Dropout2d-19           [-1, 32, 15, 15]               0\n",
            "        ConvBlock-20           [-1, 32, 15, 15]               0\n",
            "           Conv2d-21           [-1, 16, 17, 17]             512\n",
            "      BatchNorm2d-22           [-1, 16, 17, 17]              32\n",
            "             ReLU-23           [-1, 16, 17, 17]               0\n",
            "        Dropout2d-24           [-1, 16, 17, 17]               0\n",
            "        ConvBlock-25           [-1, 16, 17, 17]               0\n",
            "           Conv2d-26           [-1, 16, 17, 17]             144\n",
            "           Conv2d-27           [-1, 32, 17, 17]             512\n",
            "             ReLU-28           [-1, 32, 17, 17]               0\n",
            "        Dropout2d-29           [-1, 32, 17, 17]               0\n",
            "Depthwise_sep_conv-30           [-1, 32, 17, 17]               0\n",
            "           Conv2d-31           [-1, 32, 17, 17]             288\n",
            "           Conv2d-32           [-1, 64, 17, 17]           2,048\n",
            "             ReLU-33           [-1, 64, 17, 17]               0\n",
            "        Dropout2d-34           [-1, 64, 17, 17]               0\n",
            "Depthwise_sep_conv-35           [-1, 64, 17, 17]               0\n",
            "           Conv2d-36             [-1, 64, 8, 8]          36,864\n",
            "      BatchNorm2d-37             [-1, 64, 8, 8]             128\n",
            "             ReLU-38             [-1, 64, 8, 8]               0\n",
            "        Dropout2d-39             [-1, 64, 8, 8]               0\n",
            "        ConvBlock-40             [-1, 64, 8, 8]               0\n",
            "           Conv2d-41           [-1, 32, 10, 10]           2,048\n",
            "      BatchNorm2d-42           [-1, 32, 10, 10]              64\n",
            "             ReLU-43           [-1, 32, 10, 10]               0\n",
            "        Dropout2d-44           [-1, 32, 10, 10]               0\n",
            "        ConvBlock-45           [-1, 32, 10, 10]               0\n",
            "           Conv2d-46           [-1, 32, 10, 10]             288\n",
            "           Conv2d-47           [-1, 64, 10, 10]           2,048\n",
            "             ReLU-48           [-1, 64, 10, 10]               0\n",
            "        Dropout2d-49           [-1, 64, 10, 10]               0\n",
            "Depthwise_sep_conv-50           [-1, 64, 10, 10]               0\n",
            "           Conv2d-51           [-1, 64, 10, 10]             576\n",
            "           Conv2d-52          [-1, 128, 10, 10]           8,192\n",
            "             ReLU-53          [-1, 128, 10, 10]               0\n",
            "        Dropout2d-54          [-1, 128, 10, 10]               0\n",
            "Depthwise_sep_conv-55          [-1, 128, 10, 10]               0\n",
            "           Conv2d-56           [-1, 32, 10, 10]           4,096\n",
            "      BatchNorm2d-57           [-1, 32, 10, 10]              64\n",
            "             ReLU-58           [-1, 32, 10, 10]               0\n",
            "        Dropout2d-59           [-1, 32, 10, 10]               0\n",
            "        ConvBlock-60           [-1, 32, 10, 10]               0\n",
            "           Conv2d-61             [-1, 32, 6, 6]           9,216\n",
            "      BatchNorm2d-62             [-1, 32, 6, 6]              64\n",
            "             ReLU-63             [-1, 32, 6, 6]               0\n",
            "        Dropout2d-64             [-1, 32, 6, 6]               0\n",
            "        ConvBlock-65             [-1, 32, 6, 6]               0\n",
            "           Conv2d-66             [-1, 64, 4, 4]          18,432\n",
            "AdaptiveAvgPool2d-67             [-1, 64, 1, 1]               0\n",
            "           Linear-68                   [-1, 10]             650\n",
            "================================================================\n",
            "Total params: 101,634\n",
            "Trainable params: 101,634\n",
            "Non-trainable params: 0\n",
            "----------------------------------------------------------------\n",
            "Input size (MB): 0.01\n",
            "Forward/backward pass size (MB): 4.44\n",
            "Params size (MB): 0.39\n",
            "Estimated Total Size (MB): 4.84\n",
            "----------------------------------------------------------------\n"
          ]
        }
      ],
      "source": [
        "device = 'cuda' if torch.cuda.is_available() else \"cpu\"\n",
        "model = Cifar10Net1(norm_type='bn',dropout_val=0.01).to(device)\n",
        "rf_df = receptive_field(model,32)\n",
        "summary(model,input_size=(3,32,32))"
      ]
    },
    {
      "cell_type": "markdown",
      "metadata": {
        "id": "xzED6q5Qxprf"
      },
      "source": [
        "Model Checks"
      ]
    },
    {
      "cell_type": "code",
      "execution_count": 179,
      "metadata": {
        "id": "mPXuwVAqyoJs"
      },
      "outputs": [],
      "source": [
        "# device = 'cuda' if torch.cuda.is_available() else \"cpu\"\n",
        "# model = Cifar10Net(norm_type='bn',dropout_val=0.01).to(device)\n",
        "# rf_df = receptive_field(model,32)\n",
        "# summary(model,input_size=(3,32,32))"
      ]
    },
    {
      "cell_type": "markdown",
      "metadata": {
        "id": "lYI2ntLCmOem"
      },
      "source": [
        "Loss Function and Optimizers"
      ]
    },
    {
      "cell_type": "code",
      "execution_count": 180,
      "metadata": {
        "id": "a05n4HFDm7XN"
      },
      "outputs": [],
      "source": [
        "def get_optimizer(model_obj,loss_type=None,scheduler = False):\n",
        "    loss_type= str(loss_type).upper()\n",
        "    parameters = model_obj.parameters()\n",
        "    if loss_type  == 'L2' :\n",
        "        optimizer = SGD( params = parameters,lr = 0.01,momentum = 0.9,weight_decay= 0.001)\n",
        "    else:\n",
        "        optimizer = SGD( params = parameters,lr = 0.01,momentum = 0.9)\n",
        "    if scheduler == True:\n",
        "        scheduler = StepLR(optimizer,step_size = 20,gamma = 0.1)\n",
        "        return optimizer,scheduler\n",
        "    else:\n",
        "        return optimizer,_\n",
        "\n",
        "\n",
        "#L1 Loss\n",
        "\n",
        "def L1_loss(model_obj,loss):\n",
        "        \n",
        "    l1 = 0\n",
        "    lambda_l1 = 0.0001\n",
        "    for p in model_obj.parameters():\n",
        "        l1 = l1+p.abs().sum()\n",
        "        loss = loss+ lambda_l1* l1\n",
        "    return loss\n"
      ]
    },
    {
      "cell_type": "markdown",
      "metadata": {
        "id": "PDCps6tdlaSD"
      },
      "source": [
        "Model Performance Visualizer"
      ]
    },
    {
      "cell_type": "code",
      "execution_count": 181,
      "metadata": {
        "id": "wdeuLltCm63m"
      },
      "outputs": [],
      "source": [
        "\n",
        "def plot_acc_loss(typ ,train_acc,train_losses,test_acc,test_losses):\n",
        "    fig, axs = plt.subplots(1,2,figsize = (20,5))\n",
        "    # print ('Accuracy model on  ', typ)\n",
        "    plt.autoscale()\n",
        "    axs[0].plot(train_acc,color = 'red')\n",
        "    axs[0].plot(test_acc,color = 'green')\n",
        "    title = 'Training/testing accuracy'\n",
        "    axs[0].set_title(title)\n",
        "    axs[0].set_ylabel('Accuracy')\n",
        "    axs[0].set_xlabel('Epoch')\n",
        "    axs[0].legend(['train acc','test acc'], loc='best')\n",
        "       \n",
        "    axs[1].plot(train_losses,color = 'red')\n",
        "    axs[1].plot(test_losses,color = 'green')\n",
        "    title = 'Training/Testing Loss'\n",
        "    axs[1].set_title(title)\n",
        "    axs[1].set_ylabel('Loss')\n",
        "    axs[1].set_xlabel('Epoch')\n",
        "    axs[1].legend(['train loss','test loss'], loc='best')\n",
        "    plt.title(typ + ' model Accuracy Vs Loss')\n",
        "\n",
        "    plt.show()\n",
        "    fig.tight_layout(pad = 1.0)"
      ]
    },
    {
      "cell_type": "code",
      "execution_count": 181,
      "metadata": {
        "id": "yazoXKp1leJ8"
      },
      "outputs": [],
      "source": [
        ""
      ]
    },
    {
      "cell_type": "markdown",
      "metadata": {
        "id": "PqRHgxBrldsU"
      },
      "source": [
        "Training / Testing Lopp Blocks"
      ]
    },
    {
      "cell_type": "code",
      "execution_count": 182,
      "metadata": {
        "id": "eX8TODgnnE3m"
      },
      "outputs": [],
      "source": [
        "train_losses = []\n",
        "train_accuracy = []\n",
        "test_losses =[]\n",
        "test_accuracy = []\n",
        "\n",
        "def trainning(model,device,train_data,optimizer,epochs,L1 = False,L2= False):\n",
        "    total_loss = 0\n",
        "    correct = 0\n",
        "    processed = 0\n",
        "\n",
        "    model.train()\n",
        "    pbar = tqdm(train_loader,colour = '\\x1b[34m')\n",
        "    \n",
        "    for index_id,(data,target) in enumerate(pbar):\n",
        "        data,target = data.to(device),target.to(device)\n",
        "        optimizer.zero_grad()\n",
        "        output = model(data)\n",
        "        loss = F.nll_loss(output,target)\n",
        "        if L1 == True:\n",
        "            loss = L1_loss(model,loss)\n",
        "\n",
        "        total_loss += loss\n",
        "        loss.backward()\n",
        "        optimizer.step()\n",
        "        correct += output.argmax(dim = 1).eq(target).sum().item()\n",
        "        processed += len(data)\n",
        "        pbar.set_description(f\"Train ==> Epochs: {epochs} Batch:  {index_id} loss: {loss} Accuracy: { correct/processed *100 :.2f}% \")\n",
        "\n",
        "    acc = correct /processed\n",
        "    total_loss = total_loss.item()/processed\n",
        "    train_losses.append(total_loss)\n",
        "    train_accuracy.append(acc)\n",
        "\n",
        "    return train_losses, train_accuracy\n",
        "\n",
        "\n",
        "def testing(model,device,test_data,optimizer,epochs):\n",
        "    model.eval()\n",
        "    \n",
        "    test_loss = 0\n",
        "    correct = 0\n",
        "    processed = 0\n",
        "    pbar= tqdm(test_loader)\n",
        "    with torch.no_grad():\n",
        "        for id_x,(data,target) in enumerate(pbar):\n",
        "            data,target = data.to(device),target.to(device)\n",
        "\n",
        "            output = model(data)\n",
        "            test_loss += F.nll_loss(output,target,reduce='sum').item()\n",
        "            pred  = output.argmax(dim =1,keepdim = True)\n",
        "\n",
        "            correct += pred.eq(target.view_as(pred)).sum().item()\n",
        "            processed += len(data)\n",
        "            \n",
        "            pbar.set_description(f\"Test ==> Epochs: {epochs} Batch:  {id_x} loss: {test_loss/processed} Accuracy: { correct / processed *100 :.2f}% \")\n",
        "        \n",
        "    acc = correct / processed\n",
        "    test_loss /= processed\n",
        "    test_accuracy.append(acc)\n",
        "    test_losses.append(test_loss)\n",
        "   \n",
        "    \n",
        "    # print('\\nTest set: Average loss: {:.4f}, Accuracy: {}/{} ({:.6f}%)\\n'.format(\n",
        "    #     test_loss, correct, processed, 100. * correct / processed))\n",
        "    \n",
        "    return test_losses,test_accuracy"
      ]
    },
    {
      "cell_type": "markdown",
      "metadata": {
        "id": "I2VpCIJnlngb"
      },
      "source": [
        "After Train data Visualization Block"
      ]
    },
    {
      "cell_type": "code",
      "execution_count": 183,
      "metadata": {
        "id": "APE7jzoKh9N7"
      },
      "outputs": [],
      "source": [
        "def convert_image_np(inp,mean,std):\n",
        "    \"\"\"Convert a Tensor to numpy image.\"\"\"\n",
        "    inp = inp.numpy().transpose((1, 2, 0))\n",
        "    mean = np.array(mean)\n",
        "    std = np.array(std)\n",
        "    inp = std * inp + mean\n",
        "    inp = np.clip(inp, 0, 1)\n",
        "    return inp\n",
        "    \n",
        "def print_wrong_image(model,data_loader,mean,std,l,b):\n",
        "\n",
        "    if l*b >= 30:\n",
        "        n_images = 50\n",
        "    \n",
        "    labels = {0: 'airplane', 1: 'automobile', 2: 'bird', 3: 'cat', 4: 'deer', 5: 'dog', 6: 'frog', 7: 'horse', 8: 'ship', 9: 'truck'}\n",
        "    wrong_images = []\n",
        "    wrong_labels = []\n",
        "    right_labels = []\n",
        "    val = []\n",
        "    device = \"cuda\" if torch.cuda.is_available() else \"cpu\"\n",
        "\n",
        "    for data,label in data_loader:\n",
        "        data,label = data.to(device),label.to(device)\n",
        "        # _=plt.imshow(np.transpose(data[16].to(\"cpu\"),(1,2,0)))\n",
        "        # _=plt.xlabel(f\"Act:{labels[label[16].item()]} \\n  \")\n",
        "        with torch.no_grad():\n",
        "            out = model(data)\n",
        "            wrong_idx = (out.to(device).argmax(dim = 1).eq(label.to(device)) ==False)\n",
        "            val.extend(out[wrong_idx].to(\"cpu\").max(axis = 1)[0])\n",
        "            wrong_images.extend(data[wrong_idx].to(\"cpu\"))\n",
        "            wrong_labels.extend(out[wrong_idx].argmax(dim = 1).to(\"cpu\"))\n",
        "            right_labels.extend(label[wrong_idx].to(\"cpu\"))\n",
        "\n",
        "    wrong_idx = [i for i in range(0,len(wrong_images))]\n",
        "    idx = [i for i in range(0,len(wrong_labels))]\n",
        "    np.random.shuffle(wrong_idx)\n",
        "    fig = plt.figure(figsize=(2.5*b,5*l))\n",
        "    count = 1\n",
        "    for image_index in wrong_idx:\n",
        "        n= image_index\n",
        "        ax = fig.add_subplot(l,b,count)\n",
        "        # plt.imshow(np.array(np.transpose(data[10].to(\"cpu\"),(1,2,0))))\n",
        "        img_x = convert_image_np(wrong_images[image_index],mean,std)\n",
        "        _=plt.imshow(img_x)\n",
        "        # _=plt.title(f\"wrong Images\")\n",
        "        _=plt.xlabel(f\"Act:{labels[right_labels[image_index].item()]} \\n Pred: {labels[wrong_labels[image_index].item()]} \\n Val: {val[image_index].item()}\")\n",
        "        \n",
        "        fig.tight_layout(pad = 0.5)\n",
        "        count+= 1\n",
        "        if count== (l*b)+1:\n",
        "            break\n",
        "    _ = plt.autoscale()\n",
        "    _= plt.show()"
      ]
    },
    {
      "cell_type": "markdown",
      "metadata": {
        "id": "tdl4TYhNlrLz"
      },
      "source": [
        "Model and Dependency Calling block "
      ]
    },
    {
      "cell_type": "code",
      "execution_count": 184,
      "metadata": {
        "id": "6EjpSYB3nJr1"
      },
      "outputs": [],
      "source": [
        "def Run_Model(model_class,train_loader,test_loader,epochs , L1 = False):\n",
        "    \n",
        "    device = \"cuda\" if torch.cuda.is_available() else \"cpu\"\n",
        "    print (f'running on {device} \\n')\n",
        "    #take input as normal_type ['gbn','bn','gn','ln']\n",
        "    model = model_class.to(device)\n",
        "    try:\n",
        "        print(summary(model,input_size = (3,32,32)))\n",
        "    except:\n",
        "        pass\n",
        "\n",
        "    optimizer,scheduler = get_optimizer(model,scheduler = True )\n",
        "    # optimizer = SGD( params = model.parameters(),lr = 0.01,momentum = 0.9)\n",
        "    for EPOCHS in range(0,epochs):\n",
        "        if L1 == True:\n",
        "            train_losses, train_accuracy = trainning(model,device,train_loader,optimizer,EPOCHS,L1 = L1)\n",
        "        else:\n",
        "            train_losses, train_accuracy = trainning(model,device,train_loader,optimizer,EPOCHS)\n",
        "        test_losses,test_accuracy = testing(model,device,test_loader,optimizer,EPOCHS)\n",
        "        scheduler.step()\n",
        "        try:\n",
        "            if (EPOCHS >=3)&(max(test_accuracy[:-1]) < test_accuracy[-1]) & (max(test_accuracy) >= .85):\n",
        "                checkpoint = {'epoch': EPOCHS + 1,'valid_loss_min': test_losses[-1],'state_dict': model.state_dict(),'optimizer': optimizer.state_dict(),} # Export to TorchScript\n",
        "                torch.save(checkpoint ,'./Model_cifar10.pt') # Save\n",
        "                print (f\" Target Achieved: {max(test_accuracy)*100}% Test Accuracy !!\")\n",
        "        except:\n",
        "            print('Model Saving Failed !!')\n",
        "\n",
        "        print (\"LR :{}\\n\".format(scheduler.get_lr()[0]))\n",
        "    return model,train_losses, train_accuracy,test_losses,test_accuracy"
      ]
    },
    {
      "cell_type": "markdown",
      "metadata": {
        "id": "64soTjc6lxPc"
      },
      "source": [
        "Master Pipeline Calling Block\n"
      ]
    },
    {
      "cell_type": "code",
      "execution_count": 185,
      "metadata": {
        "id": "6ZZpcFj6XZ6l",
        "colab": {
          "base_uri": "https://localhost:8080/",
          "height": 1000
        },
        "outputId": "e98882f1-e484-4f08-c07c-d3bccd1a7049"
      },
      "outputs": [
        {
          "output_type": "stream",
          "name": "stdout",
          "text": [
            "Files already downloaded and verified\n",
            "Files already downloaded and verified\n",
            "running on cuda \n",
            "\n",
            "----------------------------------------------------------------\n",
            "        Layer (type)               Output Shape         Param #\n",
            "================================================================\n",
            "            Conv2d-1            [-1, 8, 30, 30]             216\n",
            "       BatchNorm2d-2            [-1, 8, 30, 30]              16\n",
            "              ReLU-3            [-1, 8, 30, 30]               0\n",
            "         Dropout2d-4            [-1, 8, 30, 30]               0\n",
            "         ConvBlock-5            [-1, 8, 30, 30]               0\n",
            "            Conv2d-6           [-1, 16, 30, 30]           1,152\n",
            "       BatchNorm2d-7           [-1, 16, 30, 30]              32\n",
            "              ReLU-8           [-1, 16, 30, 30]               0\n",
            "         Dropout2d-9           [-1, 16, 30, 30]               0\n",
            "        ConvBlock-10           [-1, 16, 30, 30]               0\n",
            "           Conv2d-11           [-1, 32, 30, 30]           4,608\n",
            "      BatchNorm2d-12           [-1, 32, 30, 30]              64\n",
            "             ReLU-13           [-1, 32, 30, 30]               0\n",
            "        Dropout2d-14           [-1, 32, 30, 30]               0\n",
            "        ConvBlock-15           [-1, 32, 30, 30]               0\n",
            "           Conv2d-16           [-1, 32, 15, 15]           9,216\n",
            "      BatchNorm2d-17           [-1, 32, 15, 15]              64\n",
            "             ReLU-18           [-1, 32, 15, 15]               0\n",
            "        Dropout2d-19           [-1, 32, 15, 15]               0\n",
            "        ConvBlock-20           [-1, 32, 15, 15]               0\n",
            "           Conv2d-21           [-1, 16, 17, 17]             512\n",
            "      BatchNorm2d-22           [-1, 16, 17, 17]              32\n",
            "             ReLU-23           [-1, 16, 17, 17]               0\n",
            "        Dropout2d-24           [-1, 16, 17, 17]               0\n",
            "        ConvBlock-25           [-1, 16, 17, 17]               0\n",
            "           Conv2d-26           [-1, 16, 17, 17]             144\n",
            "           Conv2d-27           [-1, 32, 17, 17]             512\n",
            "             ReLU-28           [-1, 32, 17, 17]               0\n",
            "        Dropout2d-29           [-1, 32, 17, 17]               0\n",
            "Depthwise_sep_conv-30           [-1, 32, 17, 17]               0\n",
            "           Conv2d-31           [-1, 32, 17, 17]             288\n",
            "           Conv2d-32           [-1, 64, 17, 17]           2,048\n",
            "             ReLU-33           [-1, 64, 17, 17]               0\n",
            "        Dropout2d-34           [-1, 64, 17, 17]               0\n",
            "Depthwise_sep_conv-35           [-1, 64, 17, 17]               0\n",
            "           Conv2d-36             [-1, 64, 8, 8]          36,864\n",
            "      BatchNorm2d-37             [-1, 64, 8, 8]             128\n",
            "             ReLU-38             [-1, 64, 8, 8]               0\n",
            "        Dropout2d-39             [-1, 64, 8, 8]               0\n",
            "        ConvBlock-40             [-1, 64, 8, 8]               0\n",
            "           Conv2d-41           [-1, 32, 10, 10]           2,048\n",
            "      BatchNorm2d-42           [-1, 32, 10, 10]              64\n",
            "             ReLU-43           [-1, 32, 10, 10]               0\n",
            "        Dropout2d-44           [-1, 32, 10, 10]               0\n",
            "        ConvBlock-45           [-1, 32, 10, 10]               0\n",
            "           Conv2d-46           [-1, 32, 10, 10]             288\n",
            "           Conv2d-47           [-1, 64, 10, 10]           2,048\n",
            "             ReLU-48           [-1, 64, 10, 10]               0\n",
            "        Dropout2d-49           [-1, 64, 10, 10]               0\n",
            "Depthwise_sep_conv-50           [-1, 64, 10, 10]               0\n",
            "           Conv2d-51           [-1, 64, 10, 10]             576\n",
            "           Conv2d-52          [-1, 128, 10, 10]           8,192\n",
            "             ReLU-53          [-1, 128, 10, 10]               0\n",
            "        Dropout2d-54          [-1, 128, 10, 10]               0\n",
            "Depthwise_sep_conv-55          [-1, 128, 10, 10]               0\n",
            "           Conv2d-56           [-1, 32, 10, 10]           4,096\n",
            "      BatchNorm2d-57           [-1, 32, 10, 10]              64\n",
            "             ReLU-58           [-1, 32, 10, 10]               0\n",
            "        Dropout2d-59           [-1, 32, 10, 10]               0\n",
            "        ConvBlock-60           [-1, 32, 10, 10]               0\n",
            "           Conv2d-61             [-1, 32, 6, 6]           9,216\n",
            "      BatchNorm2d-62             [-1, 32, 6, 6]              64\n",
            "             ReLU-63             [-1, 32, 6, 6]               0\n",
            "        Dropout2d-64             [-1, 32, 6, 6]               0\n",
            "        ConvBlock-65             [-1, 32, 6, 6]               0\n",
            "           Conv2d-66             [-1, 64, 4, 4]          18,432\n",
            "AdaptiveAvgPool2d-67             [-1, 64, 1, 1]               0\n",
            "           Linear-68                   [-1, 10]             650\n",
            "================================================================\n",
            "Total params: 101,634\n",
            "Trainable params: 101,634\n",
            "Non-trainable params: 0\n",
            "----------------------------------------------------------------\n",
            "Input size (MB): 0.01\n",
            "Forward/backward pass size (MB): 4.44\n",
            "Params size (MB): 0.39\n",
            "Estimated Total Size (MB): 4.84\n",
            "----------------------------------------------------------------\n",
            "None\n"
          ]
        },
        {
          "output_type": "stream",
          "name": "stderr",
          "text": [
            "Train ==> Epochs: 0 Batch:  781 loss: 1.3602893352508545 Accuracy: 35.66% : 100%|██████████| 782/782 [00:12<00:00, 60.30it/s]\n",
            "Test ==> Epochs: 0 Batch:  781 loss: 0.021565119686126708 Accuracy: 49.09% : 100%|██████████| 782/782 [00:07<00:00, 107.26it/s]\n"
          ]
        },
        {
          "output_type": "stream",
          "name": "stdout",
          "text": [
            "Model Saving Failed !!\n",
            "LR :0.01\n",
            "\n"
          ]
        },
        {
          "output_type": "stream",
          "name": "stderr",
          "text": [
            "Train ==> Epochs: 1 Batch:  781 loss: 1.6836981773376465 Accuracy: 46.80% : 100%|██████████| 782/782 [00:12<00:00, 61.71it/s]\n",
            "Test ==> Epochs: 1 Batch:  781 loss: 0.021951890285015107 Accuracy: 50.65% : 100%|██████████| 782/782 [00:07<00:00, 109.28it/s]\n"
          ]
        },
        {
          "output_type": "stream",
          "name": "stdout",
          "text": [
            "LR :0.01\n",
            "\n"
          ]
        },
        {
          "output_type": "stream",
          "name": "stderr",
          "text": [
            "Train ==> Epochs: 2 Batch:  781 loss: 1.154112458229065 Accuracy: 52.40% : 100%|██████████| 782/782 [00:13<00:00, 59.96it/s]\n",
            "Test ==> Epochs: 2 Batch:  781 loss: 0.016934656454324723 Accuracy: 61.29% : 100%|██████████| 782/782 [00:07<00:00, 109.06it/s]\n"
          ]
        },
        {
          "output_type": "stream",
          "name": "stdout",
          "text": [
            "LR :0.01\n",
            "\n"
          ]
        },
        {
          "output_type": "stream",
          "name": "stderr",
          "text": [
            "Train ==> Epochs: 3 Batch:  781 loss: 1.1645286083221436 Accuracy: 56.16% : 100%|██████████| 782/782 [00:12<00:00, 63.44it/s]\n",
            "Test ==> Epochs: 3 Batch:  781 loss: 0.01642635359287262 Accuracy: 64.09% : 100%|██████████| 782/782 [00:07<00:00, 109.24it/s]\n"
          ]
        },
        {
          "output_type": "stream",
          "name": "stdout",
          "text": [
            "LR :0.01\n",
            "\n"
          ]
        },
        {
          "output_type": "stream",
          "name": "stderr",
          "text": [
            "Train ==> Epochs: 4 Batch:  781 loss: 1.3218029737472534 Accuracy: 58.55% : 100%|██████████| 782/782 [00:12<00:00, 62.60it/s]\n",
            "Test ==> Epochs: 4 Batch:  781 loss: 0.013754173727035522 Accuracy: 69.14% : 100%|██████████| 782/782 [00:07<00:00, 109.58it/s]\n"
          ]
        },
        {
          "output_type": "stream",
          "name": "stdout",
          "text": [
            "LR :0.01\n",
            "\n"
          ]
        },
        {
          "output_type": "stream",
          "name": "stderr",
          "text": [
            "Train ==> Epochs: 5 Batch:  781 loss: 1.1076055765151978 Accuracy: 60.47% : 100%|██████████| 782/782 [00:12<00:00, 63.01it/s]\n",
            "Test ==> Epochs: 5 Batch:  781 loss: 0.013565474581122398 Accuracy: 69.22% : 100%|██████████| 782/782 [00:07<00:00, 110.89it/s]\n"
          ]
        },
        {
          "output_type": "stream",
          "name": "stdout",
          "text": [
            "LR :0.01\n",
            "\n"
          ]
        },
        {
          "output_type": "stream",
          "name": "stderr",
          "text": [
            "Train ==> Epochs: 6 Batch:  781 loss: 0.808465838432312 Accuracy: 62.14% : 100%|██████████| 782/782 [00:12<00:00, 62.06it/s]\n",
            "Test ==> Epochs: 6 Batch:  781 loss: 0.013701513456106186 Accuracy: 70.10% : 100%|██████████| 782/782 [00:07<00:00, 105.29it/s]\n"
          ]
        },
        {
          "output_type": "stream",
          "name": "stdout",
          "text": [
            "LR :0.01\n",
            "\n"
          ]
        },
        {
          "output_type": "stream",
          "name": "stderr",
          "text": [
            "Train ==> Epochs: 7 Batch:  781 loss: 0.7920230031013489 Accuracy: 63.18% : 100%|██████████| 782/782 [00:12<00:00, 61.23it/s]\n",
            "Test ==> Epochs: 7 Batch:  781 loss: 0.013649220930337906 Accuracy: 69.10% : 100%|██████████| 782/782 [00:07<00:00, 107.72it/s]\n"
          ]
        },
        {
          "output_type": "stream",
          "name": "stdout",
          "text": [
            "LR :0.01\n",
            "\n"
          ]
        },
        {
          "output_type": "stream",
          "name": "stderr",
          "text": [
            "Train ==> Epochs: 8 Batch:  781 loss: 1.571739912033081 Accuracy: 64.28% : 100%|██████████| 782/782 [00:12<00:00, 62.68it/s]\n",
            "Test ==> Epochs: 8 Batch:  781 loss: 0.011190874302387237 Accuracy: 75.02% : 100%|██████████| 782/782 [00:07<00:00, 110.51it/s]\n"
          ]
        },
        {
          "output_type": "stream",
          "name": "stdout",
          "text": [
            "LR :0.01\n",
            "\n"
          ]
        },
        {
          "output_type": "stream",
          "name": "stderr",
          "text": [
            "Train ==> Epochs: 9 Batch:  781 loss: 0.5558159947395325 Accuracy: 64.87% : 100%|██████████| 782/782 [00:12<00:00, 62.63it/s]\n",
            "Test ==> Epochs: 9 Batch:  781 loss: 0.01251399612903595 Accuracy: 72.47% : 100%|██████████| 782/782 [00:07<00:00, 109.07it/s]\n"
          ]
        },
        {
          "output_type": "stream",
          "name": "stdout",
          "text": [
            "LR :0.01\n",
            "\n"
          ]
        },
        {
          "output_type": "stream",
          "name": "stderr",
          "text": [
            "Train ==> Epochs: 10 Batch:  781 loss: 0.794160783290863 Accuracy: 65.75% : 100%|██████████| 782/782 [00:12<00:00, 62.55it/s]\n",
            "Test ==> Epochs: 10 Batch:  781 loss: 0.011478958060145377 Accuracy: 74.79% : 100%|██████████| 782/782 [00:07<00:00, 108.96it/s]\n"
          ]
        },
        {
          "output_type": "stream",
          "name": "stdout",
          "text": [
            "LR :0.01\n",
            "\n"
          ]
        },
        {
          "output_type": "stream",
          "name": "stderr",
          "text": [
            "Train ==> Epochs: 11 Batch:  781 loss: 1.2883721590042114 Accuracy: 66.36% : 100%|██████████| 782/782 [00:12<00:00, 62.56it/s]\n",
            "Test ==> Epochs: 11 Batch:  781 loss: 0.010171884157657624 Accuracy: 77.36% : 100%|██████████| 782/782 [00:07<00:00, 106.99it/s]\n"
          ]
        },
        {
          "output_type": "stream",
          "name": "stdout",
          "text": [
            "LR :0.01\n",
            "\n"
          ]
        },
        {
          "output_type": "stream",
          "name": "stderr",
          "text": [
            "Train ==> Epochs: 12 Batch:  781 loss: 0.9332736730575562 Accuracy: 66.94% : 100%|██████████| 782/782 [00:12<00:00, 61.96it/s]\n",
            "Test ==> Epochs: 12 Batch:  781 loss: 0.009712838606238365 Accuracy: 78.41% : 100%|██████████| 782/782 [00:07<00:00, 107.18it/s]\n"
          ]
        },
        {
          "output_type": "stream",
          "name": "stdout",
          "text": [
            "LR :0.01\n",
            "\n"
          ]
        },
        {
          "output_type": "stream",
          "name": "stderr",
          "text": [
            "Train ==> Epochs: 13 Batch:  781 loss: 1.768846869468689 Accuracy: 67.53% : 100%|██████████| 782/782 [00:12<00:00, 61.63it/s]\n",
            "Test ==> Epochs: 13 Batch:  781 loss: 0.009829833975434304 Accuracy: 78.33% : 100%|██████████| 782/782 [00:07<00:00, 104.35it/s]\n"
          ]
        },
        {
          "output_type": "stream",
          "name": "stdout",
          "text": [
            "LR :0.01\n",
            "\n"
          ]
        },
        {
          "output_type": "stream",
          "name": "stderr",
          "text": [
            "Train ==> Epochs: 14 Batch:  781 loss: 0.698957622051239 Accuracy: 68.03% : 100%|██████████| 782/782 [00:13<00:00, 60.01it/s]\n",
            "Test ==> Epochs: 14 Batch:  781 loss: 0.00917437466621399 Accuracy: 79.62% : 100%|██████████| 782/782 [00:07<00:00, 98.19it/s] \n"
          ]
        },
        {
          "output_type": "stream",
          "name": "stdout",
          "text": [
            "LR :0.01\n",
            "\n"
          ]
        },
        {
          "output_type": "stream",
          "name": "stderr",
          "text": [
            "Train ==> Epochs: 15 Batch:  781 loss: 0.937953531742096 Accuracy: 68.45% : 100%|██████████| 782/782 [00:13<00:00, 58.03it/s]\n",
            "Test ==> Epochs: 15 Batch:  781 loss: 0.010956485278606414 Accuracy: 75.90% : 100%|██████████| 782/782 [00:07<00:00, 101.64it/s]\n"
          ]
        },
        {
          "output_type": "stream",
          "name": "stdout",
          "text": [
            "LR :0.01\n",
            "\n"
          ]
        },
        {
          "output_type": "stream",
          "name": "stderr",
          "text": [
            "Train ==> Epochs: 16 Batch:  781 loss: 1.513521671295166 Accuracy: 68.98% : 100%|██████████| 782/782 [00:12<00:00, 60.75it/s]\n",
            "Test ==> Epochs: 16 Batch:  781 loss: 0.009293742109239101 Accuracy: 79.49% : 100%|██████████| 782/782 [00:07<00:00, 106.94it/s]\n"
          ]
        },
        {
          "output_type": "stream",
          "name": "stdout",
          "text": [
            "LR :0.01\n",
            "\n"
          ]
        },
        {
          "output_type": "stream",
          "name": "stderr",
          "text": [
            "Train ==> Epochs: 17 Batch:  781 loss: 1.3780148029327393 Accuracy: 69.66% : 100%|██████████| 782/782 [00:12<00:00, 61.94it/s]\n",
            "Test ==> Epochs: 17 Batch:  781 loss: 0.009124734536409378 Accuracy: 79.67% : 100%|██████████| 782/782 [00:07<00:00, 108.54it/s]\n"
          ]
        },
        {
          "output_type": "stream",
          "name": "stdout",
          "text": [
            "LR :0.01\n",
            "\n"
          ]
        },
        {
          "output_type": "stream",
          "name": "stderr",
          "text": [
            "Train ==> Epochs: 18 Batch:  781 loss: 1.044202446937561 Accuracy: 69.74% : 100%|██████████| 782/782 [00:12<00:00, 62.82it/s]\n",
            "Test ==> Epochs: 18 Batch:  781 loss: 0.00862246560305357 Accuracy: 80.69% : 100%|██████████| 782/782 [00:07<00:00, 106.43it/s]\n"
          ]
        },
        {
          "output_type": "stream",
          "name": "stdout",
          "text": [
            "LR :0.01\n",
            "\n"
          ]
        },
        {
          "output_type": "stream",
          "name": "stderr",
          "text": [
            "Train ==> Epochs: 19 Batch:  781 loss: 0.4877716600894928 Accuracy: 69.77% : 100%|██████████| 782/782 [00:12<00:00, 62.15it/s]\n",
            "Test ==> Epochs: 19 Batch:  781 loss: 0.008457334339916706 Accuracy: 81.19% : 100%|██████████| 782/782 [00:07<00:00, 108.50it/s]\n"
          ]
        },
        {
          "output_type": "stream",
          "name": "stdout",
          "text": [
            "LR :0.0001\n",
            "\n"
          ]
        },
        {
          "output_type": "stream",
          "name": "stderr",
          "text": [
            "Train ==> Epochs: 20 Batch:  781 loss: 0.7730827927589417 Accuracy: 72.38% : 100%|██████████| 782/782 [00:12<00:00, 62.58it/s]\n",
            "Test ==> Epochs: 20 Batch:  781 loss: 0.0070584790194034575 Accuracy: 84.53% : 100%|██████████| 782/782 [00:07<00:00, 109.34it/s]\n"
          ]
        },
        {
          "output_type": "stream",
          "name": "stdout",
          "text": [
            "LR :0.001\n",
            "\n"
          ]
        },
        {
          "output_type": "stream",
          "name": "stderr",
          "text": [
            "Train ==> Epochs: 21 Batch:  781 loss: 1.1876933574676514 Accuracy: 73.33% : 100%|██████████| 782/782 [00:12<00:00, 62.99it/s]\n",
            "Test ==> Epochs: 21 Batch:  781 loss: 0.006926354929208755 Accuracy: 84.85% : 100%|██████████| 782/782 [00:07<00:00, 108.20it/s]\n"
          ]
        },
        {
          "output_type": "stream",
          "name": "stdout",
          "text": [
            "LR :0.001\n",
            "\n"
          ]
        },
        {
          "output_type": "stream",
          "name": "stderr",
          "text": [
            "Train ==> Epochs: 22 Batch:  781 loss: 0.599664032459259 Accuracy: 73.93% : 100%|██████████| 782/782 [00:12<00:00, 62.69it/s]\n",
            "Test ==> Epochs: 22 Batch:  781 loss: 0.006840416261851788 Accuracy: 84.94% : 100%|██████████| 782/782 [00:07<00:00, 108.56it/s]\n"
          ]
        },
        {
          "output_type": "stream",
          "name": "stdout",
          "text": [
            "LR :0.001\n",
            "\n"
          ]
        },
        {
          "output_type": "stream",
          "name": "stderr",
          "text": [
            "Train ==> Epochs: 23 Batch:  781 loss: 1.4032379388809204 Accuracy: 73.94% : 100%|██████████| 782/782 [00:12<00:00, 62.24it/s]\n",
            "Test ==> Epochs: 23 Batch:  781 loss: 0.006737624876499176 Accuracy: 85.14% : 100%|██████████| 782/782 [00:07<00:00, 107.60it/s]\n"
          ]
        },
        {
          "output_type": "stream",
          "name": "stdout",
          "text": [
            " Target Achieved: 85.142% Test Accuracy !!\n",
            "LR :0.001\n",
            "\n"
          ]
        },
        {
          "output_type": "stream",
          "name": "stderr",
          "text": [
            "Train ==> Epochs: 24 Batch:  781 loss: 1.1438190937042236 Accuracy: 73.90% : 100%|██████████| 782/782 [00:12<00:00, 63.44it/s]\n",
            "Test ==> Epochs: 24 Batch:  781 loss: 0.006642316800802946 Accuracy: 85.44% : 100%|██████████| 782/782 [00:07<00:00, 109.18it/s]\n"
          ]
        },
        {
          "output_type": "stream",
          "name": "stdout",
          "text": [
            " Target Achieved: 85.444% Test Accuracy !!\n",
            "LR :0.001\n",
            "\n"
          ]
        },
        {
          "output_type": "stream",
          "name": "stderr",
          "text": [
            "Train ==> Epochs: 25 Batch:  781 loss: 0.9765712022781372 Accuracy: 74.31% : 100%|██████████| 782/782 [00:12<00:00, 62.67it/s]\n",
            "Test ==> Epochs: 25 Batch:  781 loss: 0.0065549587336182595 Accuracy: 85.64% : 100%|██████████| 782/782 [00:07<00:00, 105.72it/s]\n"
          ]
        },
        {
          "output_type": "stream",
          "name": "stdout",
          "text": [
            " Target Achieved: 85.64% Test Accuracy !!\n",
            "LR :0.001\n",
            "\n"
          ]
        },
        {
          "output_type": "stream",
          "name": "stderr",
          "text": [
            "Train ==> Epochs: 26 Batch:  781 loss: 0.4415222108364105 Accuracy: 74.18% : 100%|██████████| 782/782 [00:12<00:00, 62.77it/s]\n",
            "Test ==> Epochs: 26 Batch:  781 loss: 0.006469924321472645 Accuracy: 85.75% : 100%|██████████| 782/782 [00:07<00:00, 109.12it/s]\n"
          ]
        },
        {
          "output_type": "stream",
          "name": "stdout",
          "text": [
            " Target Achieved: 85.75% Test Accuracy !!\n",
            "LR :0.001\n",
            "\n"
          ]
        },
        {
          "output_type": "stream",
          "name": "stderr",
          "text": [
            "Train ==> Epochs: 27 Batch:  781 loss: 1.0386849641799927 Accuracy: 74.61% : 100%|██████████| 782/782 [00:12<00:00, 62.87it/s]\n",
            "Test ==> Epochs: 27 Batch:  781 loss: 0.006421245557665825 Accuracy: 85.92% : 100%|██████████| 782/782 [00:07<00:00, 108.18it/s]\n"
          ]
        },
        {
          "output_type": "stream",
          "name": "stdout",
          "text": [
            " Target Achieved: 85.916% Test Accuracy !!\n",
            "LR :0.001\n",
            "\n"
          ]
        },
        {
          "output_type": "stream",
          "name": "stderr",
          "text": [
            "Train ==> Epochs: 28 Batch:  781 loss: 1.2126418352127075 Accuracy: 74.43% : 100%|██████████| 782/782 [00:12<00:00, 62.31it/s]\n",
            "Test ==> Epochs: 28 Batch:  781 loss: 0.006402659485042095 Accuracy: 86.07% : 100%|██████████| 782/782 [00:07<00:00, 108.73it/s]\n"
          ]
        },
        {
          "output_type": "stream",
          "name": "stdout",
          "text": [
            " Target Achieved: 86.074% Test Accuracy !!\n",
            "LR :0.001\n",
            "\n"
          ]
        },
        {
          "output_type": "stream",
          "name": "stderr",
          "text": [
            "Train ==> Epochs: 29 Batch:  781 loss: 0.5974273085594177 Accuracy: 74.47% : 100%|██████████| 782/782 [00:12<00:00, 62.32it/s]\n",
            "Test ==> Epochs: 29 Batch:  781 loss: 0.006308959863483906 Accuracy: 86.18% : 100%|██████████| 782/782 [00:07<00:00, 108.11it/s]\n"
          ]
        },
        {
          "output_type": "stream",
          "name": "stdout",
          "text": [
            " Target Achieved: 86.182% Test Accuracy !!\n",
            "LR :0.001\n",
            "\n"
          ]
        },
        {
          "output_type": "stream",
          "name": "stderr",
          "text": [
            "Train ==> Epochs: 30 Batch:  781 loss: 0.9844322204589844 Accuracy: 74.73% : 100%|██████████| 782/782 [00:12<00:00, 63.12it/s]\n",
            "Test ==> Epochs: 30 Batch:  781 loss: 0.006314007324874401 Accuracy: 86.25% : 100%|██████████| 782/782 [00:07<00:00, 109.02it/s]\n"
          ]
        },
        {
          "output_type": "stream",
          "name": "stdout",
          "text": [
            " Target Achieved: 86.246% Test Accuracy !!\n",
            "LR :0.001\n",
            "\n"
          ]
        },
        {
          "output_type": "stream",
          "name": "stderr",
          "text": [
            "Train ==> Epochs: 31 Batch:  781 loss: 1.0265392065048218 Accuracy: 74.77% : 100%|██████████| 782/782 [00:12<00:00, 61.68it/s]\n",
            "Test ==> Epochs: 31 Batch:  781 loss: 0.0062462759368121625 Accuracy: 86.36% : 100%|██████████| 782/782 [00:07<00:00, 106.98it/s]\n"
          ]
        },
        {
          "output_type": "stream",
          "name": "stdout",
          "text": [
            " Target Achieved: 86.36200000000001% Test Accuracy !!\n",
            "LR :0.001\n",
            "\n"
          ]
        },
        {
          "output_type": "stream",
          "name": "stderr",
          "text": [
            "Train ==> Epochs: 32 Batch:  781 loss: 0.9173952341079712 Accuracy: 74.66% : 100%|██████████| 782/782 [00:12<00:00, 62.42it/s]\n",
            "Test ==> Epochs: 32 Batch:  781 loss: 0.0062273707258701325 Accuracy: 86.42% : 100%|██████████| 782/782 [00:07<00:00, 109.08it/s]\n"
          ]
        },
        {
          "output_type": "stream",
          "name": "stdout",
          "text": [
            " Target Achieved: 86.416% Test Accuracy !!\n",
            "LR :0.001\n",
            "\n"
          ]
        },
        {
          "output_type": "stream",
          "name": "stderr",
          "text": [
            "Train ==> Epochs: 33 Batch:  781 loss: 0.7698813080787659 Accuracy: 74.73% : 100%|██████████| 782/782 [00:12<00:00, 62.49it/s]\n",
            "Test ==> Epochs: 33 Batch:  781 loss: 0.0061557575879991056 Accuracy: 86.46% : 100%|██████████| 782/782 [00:07<00:00, 108.78it/s]\n"
          ]
        },
        {
          "output_type": "stream",
          "name": "stdout",
          "text": [
            " Target Achieved: 86.46000000000001% Test Accuracy !!\n",
            "LR :0.001\n",
            "\n"
          ]
        },
        {
          "output_type": "stream",
          "name": "stderr",
          "text": [
            "Train ==> Epochs: 34 Batch:  781 loss: 0.3351724445819855 Accuracy: 75.01% : 100%|██████████| 782/782 [00:12<00:00, 62.37it/s]\n",
            "Test ==> Epochs: 34 Batch:  781 loss: 0.006110896489620209 Accuracy: 86.62% : 100%|██████████| 782/782 [00:07<00:00, 107.48it/s]\n"
          ]
        },
        {
          "output_type": "stream",
          "name": "stdout",
          "text": [
            " Target Achieved: 86.616% Test Accuracy !!\n",
            "LR :0.001\n",
            "\n"
          ]
        },
        {
          "output_type": "stream",
          "name": "stderr",
          "text": [
            "Train ==> Epochs: 35 Batch:  781 loss: 0.68620765209198 Accuracy: 75.02% : 100%|██████████| 782/782 [00:12<00:00, 62.49it/s]\n",
            "Test ==> Epochs: 35 Batch:  781 loss: 0.006183250522464514 Accuracy: 86.47% : 100%|██████████| 782/782 [00:07<00:00, 107.67it/s]\n"
          ]
        },
        {
          "output_type": "stream",
          "name": "stdout",
          "text": [
            "LR :0.001\n",
            "\n"
          ]
        },
        {
          "output_type": "stream",
          "name": "stderr",
          "text": [
            "Train ==> Epochs: 36 Batch:  781 loss: 0.5518366098403931 Accuracy: 75.24% : 100%|██████████| 782/782 [00:12<00:00, 62.47it/s]\n",
            "Test ==> Epochs: 36 Batch:  781 loss: 0.0060717041723430155 Accuracy: 86.65% : 100%|██████████| 782/782 [00:07<00:00, 109.81it/s]\n"
          ]
        },
        {
          "output_type": "stream",
          "name": "stdout",
          "text": [
            " Target Achieved: 86.65% Test Accuracy !!\n",
            "LR :0.001\n",
            "\n"
          ]
        },
        {
          "output_type": "stream",
          "name": "stderr",
          "text": [
            "Train ==> Epochs: 37 Batch:  781 loss: 1.2334918975830078 Accuracy: 75.21% : 100%|██████████| 782/782 [00:12<00:00, 62.69it/s]\n",
            "Test ==> Epochs: 37 Batch:  781 loss: 0.006117329501211643 Accuracy: 86.66% : 100%|██████████| 782/782 [00:07<00:00, 108.44it/s]\n"
          ]
        },
        {
          "output_type": "stream",
          "name": "stdout",
          "text": [
            " Target Achieved: 86.658% Test Accuracy !!\n",
            "LR :0.001\n",
            "\n"
          ]
        },
        {
          "output_type": "stream",
          "name": "stderr",
          "text": [
            "Train ==> Epochs: 38 Batch:  781 loss: 0.7192965745925903 Accuracy: 75.30% : 100%|██████████| 782/782 [00:12<00:00, 62.70it/s]\n",
            "Test ==> Epochs: 38 Batch:  781 loss: 0.006059348682463169 Accuracy: 86.68% : 100%|██████████| 782/782 [00:07<00:00, 107.41it/s]\n"
          ]
        },
        {
          "output_type": "stream",
          "name": "stdout",
          "text": [
            " Target Achieved: 86.682% Test Accuracy !!\n",
            "LR :0.001\n",
            "\n"
          ]
        },
        {
          "output_type": "stream",
          "name": "stderr",
          "text": [
            "Train ==> Epochs: 39 Batch:  781 loss: 1.0983452796936035 Accuracy: 75.31% : 100%|██████████| 782/782 [00:12<00:00, 61.55it/s]\n",
            "Test ==> Epochs: 39 Batch:  781 loss: 0.005937233977913857 Accuracy: 87.09% : 100%|██████████| 782/782 [00:07<00:00, 107.04it/s]\n"
          ]
        },
        {
          "output_type": "stream",
          "name": "stdout",
          "text": [
            " Target Achieved: 87.09400000000001% Test Accuracy !!\n",
            "LR :1e-05\n",
            "\n"
          ]
        },
        {
          "output_type": "stream",
          "name": "stderr",
          "text": [
            "Train ==> Epochs: 40 Batch:  781 loss: 0.5450167655944824 Accuracy: 75.66% : 100%|██████████| 782/782 [00:12<00:00, 63.04it/s]\n",
            "Test ==> Epochs: 40 Batch:  781 loss: 0.005852276763319969 Accuracy: 87.33% : 100%|██████████| 782/782 [00:07<00:00, 108.55it/s]\n"
          ]
        },
        {
          "output_type": "stream",
          "name": "stdout",
          "text": [
            " Target Achieved: 87.332% Test Accuracy !!\n",
            "LR :0.0001\n",
            "\n"
          ]
        },
        {
          "output_type": "stream",
          "name": "stderr",
          "text": [
            "Train ==> Epochs: 41 Batch:  781 loss: 0.5557159185409546 Accuracy: 75.83% : 100%|██████████| 782/782 [00:12<00:00, 62.62it/s]\n",
            "Test ==> Epochs: 41 Batch:  781 loss: 0.005846301241070032 Accuracy: 87.32% : 100%|██████████| 782/782 [00:07<00:00, 107.99it/s]\n"
          ]
        },
        {
          "output_type": "stream",
          "name": "stdout",
          "text": [
            "LR :0.0001\n",
            "\n"
          ]
        },
        {
          "output_type": "stream",
          "name": "stderr",
          "text": [
            "Train ==> Epochs: 42 Batch:  781 loss: 0.7136468887329102 Accuracy: 75.99% : 100%|██████████| 782/782 [00:12<00:00, 63.19it/s]\n",
            "Test ==> Epochs: 42 Batch:  781 loss: 0.0058142802380025385 Accuracy: 87.42% : 100%|██████████| 782/782 [00:07<00:00, 108.39it/s]\n"
          ]
        },
        {
          "output_type": "stream",
          "name": "stdout",
          "text": [
            " Target Achieved: 87.42% Test Accuracy !!\n",
            "LR :0.0001\n",
            "\n"
          ]
        },
        {
          "output_type": "stream",
          "name": "stderr",
          "text": [
            "Train ==> Epochs: 43 Batch:  781 loss: 0.7549082040786743 Accuracy: 75.62% : 100%|██████████| 782/782 [00:12<00:00, 63.05it/s]\n",
            "Test ==> Epochs: 43 Batch:  781 loss: 0.00581994779586792 Accuracy: 87.41% : 100%|██████████| 782/782 [00:07<00:00, 107.96it/s]\n"
          ]
        },
        {
          "output_type": "stream",
          "name": "stdout",
          "text": [
            "LR :0.0001\n",
            "\n"
          ]
        },
        {
          "output_type": "stream",
          "name": "stderr",
          "text": [
            "Train ==> Epochs: 44 Batch:  781 loss: 1.0667885541915894 Accuracy: 75.90% : 100%|██████████| 782/782 [00:12<00:00, 62.78it/s]\n",
            "Test ==> Epochs: 44 Batch:  781 loss: 0.005813359866887331 Accuracy: 87.43% : 100%|██████████| 782/782 [00:07<00:00, 108.30it/s]\n"
          ]
        },
        {
          "output_type": "stream",
          "name": "stdout",
          "text": [
            " Target Achieved: 87.432% Test Accuracy !!\n",
            "LR :0.0001\n",
            "\n"
          ]
        },
        {
          "output_type": "stream",
          "name": "stderr",
          "text": [
            "Train ==> Epochs: 45 Batch:  781 loss: 1.0584495067596436 Accuracy: 75.70% : 100%|██████████| 782/782 [00:12<00:00, 62.98it/s]\n",
            "Test ==> Epochs: 45 Batch:  781 loss: 0.005787946871817112 Accuracy: 87.42% : 100%|██████████| 782/782 [00:07<00:00, 108.17it/s]\n"
          ]
        },
        {
          "output_type": "stream",
          "name": "stdout",
          "text": [
            "LR :0.0001\n",
            "\n"
          ]
        },
        {
          "output_type": "stream",
          "name": "stderr",
          "text": [
            "Train ==> Epochs: 46 Batch:  781 loss: 0.9090913534164429 Accuracy: 75.56% : 100%|██████████| 782/782 [00:12<00:00, 62.50it/s]\n",
            "Test ==> Epochs: 46 Batch:  781 loss: 0.0057912776979804036 Accuracy: 87.52% : 100%|██████████| 782/782 [00:07<00:00, 106.31it/s]\n"
          ]
        },
        {
          "output_type": "stream",
          "name": "stdout",
          "text": [
            " Target Achieved: 87.52% Test Accuracy !!\n",
            "LR :0.0001\n",
            "\n"
          ]
        },
        {
          "output_type": "stream",
          "name": "stderr",
          "text": [
            "Train ==> Epochs: 47 Batch:  781 loss: 1.1585158109664917 Accuracy: 75.66% : 100%|██████████| 782/782 [00:12<00:00, 62.50it/s]\n",
            "Test ==> Epochs: 47 Batch:  781 loss: 0.005803852837383747 Accuracy: 87.36% : 100%|██████████| 782/782 [00:07<00:00, 106.15it/s]\n"
          ]
        },
        {
          "output_type": "stream",
          "name": "stdout",
          "text": [
            "LR :0.0001\n",
            "\n"
          ]
        },
        {
          "output_type": "stream",
          "name": "stderr",
          "text": [
            "Train ==> Epochs: 48 Batch:  781 loss: 0.7166916728019714 Accuracy: 76.05% : 100%|██████████| 782/782 [00:12<00:00, 62.13it/s]\n",
            "Test ==> Epochs: 48 Batch:  781 loss: 0.005790363887101412 Accuracy: 87.42% : 100%|██████████| 782/782 [00:07<00:00, 107.22it/s]\n"
          ]
        },
        {
          "output_type": "stream",
          "name": "stdout",
          "text": [
            "LR :0.0001\n",
            "\n"
          ]
        },
        {
          "output_type": "stream",
          "name": "stderr",
          "text": [
            "Train ==> Epochs: 49 Batch:  781 loss: 0.5137626528739929 Accuracy: 75.66% : 100%|██████████| 782/782 [00:12<00:00, 63.08it/s]\n",
            "Test ==> Epochs: 49 Batch:  781 loss: 0.005841279506236315 Accuracy: 87.22% : 100%|██████████| 782/782 [00:07<00:00, 107.46it/s]\n"
          ]
        },
        {
          "output_type": "stream",
          "name": "stdout",
          "text": [
            "LR :0.0001\n",
            "\n"
          ]
        },
        {
          "output_type": "stream",
          "name": "stderr",
          "text": [
            "Train ==> Epochs: 50 Batch:  781 loss: 0.5589983463287354 Accuracy: 75.79% : 100%|██████████| 782/782 [00:12<00:00, 62.27it/s]\n",
            "Test ==> Epochs: 50 Batch:  781 loss: 0.0057664301888644695 Accuracy: 87.48% : 100%|██████████| 782/782 [00:07<00:00, 107.40it/s]\n"
          ]
        },
        {
          "output_type": "stream",
          "name": "stdout",
          "text": [
            "LR :0.0001\n",
            "\n"
          ]
        },
        {
          "output_type": "stream",
          "name": "stderr",
          "text": [
            "Train ==> Epochs: 51 Batch:  781 loss: 1.149317741394043 Accuracy: 76.02% : 100%|██████████| 782/782 [00:12<00:00, 62.16it/s]\n",
            "Test ==> Epochs: 51 Batch:  781 loss: 0.005806614993661642 Accuracy: 87.40% : 100%|██████████| 782/782 [00:07<00:00, 106.50it/s]\n"
          ]
        },
        {
          "output_type": "stream",
          "name": "stdout",
          "text": [
            "LR :0.0001\n",
            "\n"
          ]
        },
        {
          "output_type": "stream",
          "name": "stderr",
          "text": [
            "Train ==> Epochs: 52 Batch:  781 loss: 1.451242208480835 Accuracy: 76.13% : 100%|██████████| 782/782 [00:12<00:00, 62.30it/s]\n",
            "Test ==> Epochs: 52 Batch:  781 loss: 0.005787531627714634 Accuracy: 87.48% : 100%|██████████| 782/782 [00:07<00:00, 108.60it/s]\n"
          ]
        },
        {
          "output_type": "stream",
          "name": "stdout",
          "text": [
            "LR :0.0001\n",
            "\n"
          ]
        },
        {
          "output_type": "stream",
          "name": "stderr",
          "text": [
            "Train ==> Epochs: 53 Batch:  781 loss: 1.5085597038269043 Accuracy: 76.14% : 100%|██████████| 782/782 [00:12<00:00, 62.19it/s]\n",
            "Test ==> Epochs: 53 Batch:  781 loss: 0.005799969663470983 Accuracy: 87.41% : 100%|██████████| 782/782 [00:07<00:00, 107.22it/s]\n"
          ]
        },
        {
          "output_type": "stream",
          "name": "stdout",
          "text": [
            "LR :0.0001\n",
            "\n"
          ]
        },
        {
          "output_type": "stream",
          "name": "stderr",
          "text": [
            "Train ==> Epochs: 54 Batch:  781 loss: 1.0057755708694458 Accuracy: 75.93% : 100%|██████████| 782/782 [00:12<00:00, 62.14it/s]\n",
            "Test ==> Epochs: 54 Batch:  781 loss: 0.0058038388837873935 Accuracy: 87.41% : 100%|██████████| 782/782 [00:07<00:00, 103.46it/s]\n"
          ]
        },
        {
          "output_type": "stream",
          "name": "stdout",
          "text": [
            "LR :0.0001\n",
            "\n"
          ]
        },
        {
          "output_type": "stream",
          "name": "stderr",
          "text": [
            "Train ==> Epochs: 55 Batch:  781 loss: 1.189965009689331 Accuracy: 76.01% : 100%|██████████| 782/782 [00:12<00:00, 60.75it/s]\n",
            "Test ==> Epochs: 55 Batch:  781 loss: 0.005778106679469347 Accuracy: 87.41% : 100%|██████████| 782/782 [00:07<00:00, 106.71it/s]\n"
          ]
        },
        {
          "output_type": "stream",
          "name": "stdout",
          "text": [
            "LR :0.0001\n",
            "\n"
          ]
        },
        {
          "output_type": "stream",
          "name": "stderr",
          "text": [
            "Train ==> Epochs: 56 Batch:  781 loss: 0.9665670394897461 Accuracy: 75.93% : 100%|██████████| 782/782 [00:12<00:00, 61.38it/s]\n",
            "Test ==> Epochs: 56 Batch:  781 loss: 0.005742402645051479 Accuracy: 87.44% : 100%|██████████| 782/782 [00:07<00:00, 107.14it/s]\n"
          ]
        },
        {
          "output_type": "stream",
          "name": "stdout",
          "text": [
            "LR :0.0001\n",
            "\n"
          ]
        },
        {
          "output_type": "stream",
          "name": "stderr",
          "text": [
            "Train ==> Epochs: 57 Batch:  781 loss: 0.38450056314468384 Accuracy: 75.96% : 100%|██████████| 782/782 [00:12<00:00, 62.11it/s]\n",
            "Test ==> Epochs: 57 Batch:  781 loss: 0.005700483715385198 Accuracy: 87.70% : 100%|██████████| 782/782 [00:07<00:00, 105.96it/s]\n"
          ]
        },
        {
          "output_type": "stream",
          "name": "stdout",
          "text": [
            " Target Achieved: 87.696% Test Accuracy !!\n",
            "LR :0.0001\n",
            "\n"
          ]
        },
        {
          "output_type": "stream",
          "name": "stderr",
          "text": [
            "Train ==> Epochs: 58 Batch:  781 loss: 0.874547004699707 Accuracy: 75.89% : 100%|██████████| 782/782 [00:12<00:00, 62.39it/s]\n",
            "Test ==> Epochs: 58 Batch:  781 loss: 0.005747526907175779 Accuracy: 87.51% : 100%|██████████| 782/782 [00:07<00:00, 105.67it/s]\n"
          ]
        },
        {
          "output_type": "stream",
          "name": "stdout",
          "text": [
            "LR :0.0001\n",
            "\n"
          ]
        },
        {
          "output_type": "stream",
          "name": "stderr",
          "text": [
            "Train ==> Epochs: 59 Batch:  781 loss: 0.363945335149765 Accuracy: 75.93% : 100%|██████████| 782/782 [00:12<00:00, 61.67it/s]\n",
            "Test ==> Epochs: 59 Batch:  781 loss: 0.005720543156117201 Accuracy: 87.63% : 100%|██████████| 782/782 [00:07<00:00, 107.93it/s]\n"
          ]
        },
        {
          "output_type": "stream",
          "name": "stdout",
          "text": [
            "LR :1.0000000000000002e-06\n",
            "\n"
          ]
        },
        {
          "output_type": "stream",
          "name": "stderr",
          "text": [
            "Train ==> Epochs: 60 Batch:  781 loss: 0.6836948394775391 Accuracy: 75.93% : 100%|██████████| 782/782 [00:12<00:00, 62.23it/s]\n",
            "Test ==> Epochs: 60 Batch:  781 loss: 0.005738412940055132 Accuracy: 87.57% : 100%|██████████| 782/782 [00:07<00:00, 107.52it/s]\n"
          ]
        },
        {
          "output_type": "stream",
          "name": "stdout",
          "text": [
            "LR :1e-05\n",
            "\n"
          ]
        },
        {
          "output_type": "stream",
          "name": "stderr",
          "text": [
            "Train ==> Epochs: 61 Batch:  781 loss: 0.4603601098060608 Accuracy: 76.18% : 100%|██████████| 782/782 [00:12<00:00, 62.36it/s]\n",
            "Test ==> Epochs: 61 Batch:  781 loss: 0.0057041101388633254 Accuracy: 87.66% : 100%|██████████| 782/782 [00:07<00:00, 107.45it/s]\n"
          ]
        },
        {
          "output_type": "stream",
          "name": "stdout",
          "text": [
            "LR :1e-05\n",
            "\n"
          ]
        },
        {
          "output_type": "stream",
          "name": "stderr",
          "text": [
            "Train ==> Epochs: 62 Batch:  781 loss: 0.7646474838256836 Accuracy: 76.06% : 100%|██████████| 782/782 [00:12<00:00, 62.27it/s]\n",
            "Test ==> Epochs: 62 Batch:  781 loss: 0.0057260292768478395 Accuracy: 87.62% : 100%|██████████| 782/782 [00:07<00:00, 106.41it/s]\n"
          ]
        },
        {
          "output_type": "stream",
          "name": "stdout",
          "text": [
            "LR :1e-05\n",
            "\n"
          ]
        },
        {
          "output_type": "stream",
          "name": "stderr",
          "text": [
            "Train ==> Epochs: 63 Batch:  781 loss: 0.6232654452323914 Accuracy: 76.06% : 100%|██████████| 782/782 [00:12<00:00, 62.24it/s]\n",
            "Test ==> Epochs: 63 Batch:  781 loss: 0.005693296520709991 Accuracy: 87.64% : 100%|██████████| 782/782 [00:07<00:00, 105.90it/s]\n"
          ]
        },
        {
          "output_type": "stream",
          "name": "stdout",
          "text": [
            "LR :1e-05\n",
            "\n"
          ]
        },
        {
          "output_type": "stream",
          "name": "stderr",
          "text": [
            "Train ==> Epochs: 64 Batch:  781 loss: 0.9716606140136719 Accuracy: 75.69% : 100%|██████████| 782/782 [00:12<00:00, 61.66it/s]\n",
            "Test ==> Epochs: 64 Batch:  781 loss: 0.005707644071578979 Accuracy: 87.63% : 100%|██████████| 782/782 [00:07<00:00, 106.41it/s]\n"
          ]
        },
        {
          "output_type": "stream",
          "name": "stdout",
          "text": [
            "LR :1e-05\n",
            "\n"
          ]
        },
        {
          "output_type": "stream",
          "name": "stderr",
          "text": [
            "Train ==> Epochs: 65 Batch:  781 loss: 0.5407537221908569 Accuracy: 76.05% : 100%|██████████| 782/782 [00:12<00:00, 61.84it/s]\n",
            "Test ==> Epochs: 65 Batch:  781 loss: 0.005708052283227444 Accuracy: 87.62% : 100%|██████████| 782/782 [00:07<00:00, 104.76it/s]\n"
          ]
        },
        {
          "output_type": "stream",
          "name": "stdout",
          "text": [
            "LR :1e-05\n",
            "\n"
          ]
        },
        {
          "output_type": "stream",
          "name": "stderr",
          "text": [
            "Train ==> Epochs: 66 Batch:  781 loss: 0.7958652377128601 Accuracy: 76.25% : 100%|██████████| 782/782 [00:12<00:00, 62.13it/s]\n",
            "Test ==> Epochs: 66 Batch:  781 loss: 0.005693774607777595 Accuracy: 87.68% : 100%|██████████| 782/782 [00:07<00:00, 104.65it/s]\n"
          ]
        },
        {
          "output_type": "stream",
          "name": "stdout",
          "text": [
            "LR :1e-05\n",
            "\n"
          ]
        },
        {
          "output_type": "stream",
          "name": "stderr",
          "text": [
            "Train ==> Epochs: 67 Batch:  781 loss: 0.5093421936035156 Accuracy: 75.89% : 100%|██████████| 782/782 [00:12<00:00, 61.60it/s]\n",
            "Test ==> Epochs: 67 Batch:  781 loss: 0.0056827078205347065 Accuracy: 87.68% : 100%|██████████| 782/782 [00:07<00:00, 103.88it/s]\n"
          ]
        },
        {
          "output_type": "stream",
          "name": "stdout",
          "text": [
            "LR :1e-05\n",
            "\n"
          ]
        },
        {
          "output_type": "stream",
          "name": "stderr",
          "text": [
            "Train ==> Epochs: 68 Batch:  781 loss: 0.4548954665660858 Accuracy: 75.84% : 100%|██████████| 782/782 [00:12<00:00, 62.60it/s]\n",
            "Test ==> Epochs: 68 Batch:  781 loss: 0.005709326559752226 Accuracy: 87.67% : 100%|██████████| 782/782 [00:07<00:00, 106.61it/s]\n"
          ]
        },
        {
          "output_type": "stream",
          "name": "stdout",
          "text": [
            "LR :1e-05\n",
            "\n"
          ]
        },
        {
          "output_type": "stream",
          "name": "stderr",
          "text": [
            "Train ==> Epochs: 69 Batch:  781 loss: 0.7083293199539185 Accuracy: 76.25% : 100%|██████████| 782/782 [00:12<00:00, 62.46it/s]\n",
            "Test ==> Epochs: 69 Batch:  781 loss: 0.0056912027721107 Accuracy: 87.64% : 100%|██████████| 782/782 [00:07<00:00, 105.75it/s]\n"
          ]
        },
        {
          "output_type": "stream",
          "name": "stdout",
          "text": [
            "LR :1e-05\n",
            "\n"
          ]
        },
        {
          "output_type": "stream",
          "name": "stderr",
          "text": [
            "Train ==> Epochs: 70 Batch:  781 loss: 0.4979706406593323 Accuracy: 75.85% : 100%|██████████| 782/782 [00:12<00:00, 61.35it/s]\n",
            "Test ==> Epochs: 70 Batch:  781 loss: 0.005679895033538341 Accuracy: 87.72% : 100%|██████████| 782/782 [00:07<00:00, 104.90it/s]\n"
          ]
        },
        {
          "output_type": "stream",
          "name": "stdout",
          "text": [
            " Target Achieved: 87.71600000000001% Test Accuracy !!\n",
            "LR :1e-05\n",
            "\n"
          ]
        },
        {
          "output_type": "stream",
          "name": "stderr",
          "text": [
            "Train ==> Epochs: 71 Batch:  781 loss: 0.8264444470405579 Accuracy: 76.01% : 100%|██████████| 782/782 [00:12<00:00, 61.95it/s]\n",
            "Test ==> Epochs: 71 Batch:  781 loss: 0.00568744340762496 Accuracy: 87.72% : 100%|██████████| 782/782 [00:07<00:00, 104.48it/s]\n"
          ]
        },
        {
          "output_type": "stream",
          "name": "stdout",
          "text": [
            "LR :1e-05\n",
            "\n"
          ]
        },
        {
          "output_type": "stream",
          "name": "stderr",
          "text": [
            "Train ==> Epochs: 72 Batch:  781 loss: 0.5949974060058594 Accuracy: 76.03% : 100%|██████████| 782/782 [00:12<00:00, 61.14it/s]\n",
            "Test ==> Epochs: 72 Batch:  781 loss: 0.0057123657114803795 Accuracy: 87.58% : 100%|██████████| 782/782 [00:07<00:00, 105.84it/s]\n"
          ]
        },
        {
          "output_type": "stream",
          "name": "stdout",
          "text": [
            "LR :1e-05\n",
            "\n"
          ]
        },
        {
          "output_type": "stream",
          "name": "stderr",
          "text": [
            "Train ==> Epochs: 73 Batch:  781 loss: 0.8274863958358765 Accuracy: 76.01% : 100%|██████████| 782/782 [00:12<00:00, 62.03it/s]\n",
            "Test ==> Epochs: 73 Batch:  781 loss: 0.005691041669398546 Accuracy: 87.61% : 100%|██████████| 782/782 [00:07<00:00, 104.25it/s]\n"
          ]
        },
        {
          "output_type": "stream",
          "name": "stdout",
          "text": [
            "LR :1e-05\n",
            "\n"
          ]
        },
        {
          "output_type": "stream",
          "name": "stderr",
          "text": [
            "Train ==> Epochs: 74 Batch:  781 loss: 0.6468034982681274 Accuracy: 75.83% : 100%|██████████| 782/782 [00:12<00:00, 61.94it/s]\n",
            "Test ==> Epochs: 74 Batch:  781 loss: 0.0057049578924477104 Accuracy: 87.65% : 100%|██████████| 782/782 [00:07<00:00, 104.90it/s]\n"
          ]
        },
        {
          "output_type": "stream",
          "name": "stdout",
          "text": [
            "LR :1e-05\n",
            "\n"
          ]
        },
        {
          "output_type": "stream",
          "name": "stderr",
          "text": [
            "Train ==> Epochs: 75 Batch:  781 loss: 0.32161447405815125 Accuracy: 75.98% : 100%|██████████| 782/782 [00:12<00:00, 61.84it/s]\n",
            "Test ==> Epochs: 75 Batch:  781 loss: 0.005720260528922081 Accuracy: 87.55% : 100%|██████████| 782/782 [00:07<00:00, 106.97it/s]\n"
          ]
        },
        {
          "output_type": "stream",
          "name": "stdout",
          "text": [
            "LR :1e-05\n",
            "\n"
          ]
        },
        {
          "output_type": "stream",
          "name": "stderr",
          "text": [
            "Train ==> Epochs: 76 Batch:  781 loss: 1.0601489543914795 Accuracy: 76.33% : 100%|██████████| 782/782 [00:12<00:00, 61.63it/s]\n",
            "Test ==> Epochs: 76 Batch:  781 loss: 0.005667110420167446 Accuracy: 87.87% : 100%|██████████| 782/782 [00:07<00:00, 105.30it/s]\n"
          ]
        },
        {
          "output_type": "stream",
          "name": "stdout",
          "text": [
            " Target Achieved: 87.874% Test Accuracy !!\n",
            "LR :1e-05\n",
            "\n"
          ]
        },
        {
          "output_type": "stream",
          "name": "stderr",
          "text": [
            "Train ==> Epochs: 77 Batch:  781 loss: 0.540219247341156 Accuracy: 75.98% : 100%|██████████| 782/782 [00:12<00:00, 61.82it/s]\n",
            "Test ==> Epochs: 77 Batch:  781 loss: 0.005705643323212862 Accuracy: 87.60% : 100%|██████████| 782/782 [00:07<00:00, 105.12it/s]\n"
          ]
        },
        {
          "output_type": "stream",
          "name": "stdout",
          "text": [
            "LR :1e-05\n",
            "\n"
          ]
        },
        {
          "output_type": "stream",
          "name": "stderr",
          "text": [
            "Train ==> Epochs: 78 Batch:  781 loss: 0.7722598314285278 Accuracy: 75.91% : 100%|██████████| 782/782 [00:12<00:00, 61.56it/s]\n",
            "Test ==> Epochs: 78 Batch:  781 loss: 0.005702364907264709 Accuracy: 87.66% : 100%|██████████| 782/782 [00:07<00:00, 105.16it/s]\n"
          ]
        },
        {
          "output_type": "stream",
          "name": "stdout",
          "text": [
            "LR :1e-05\n",
            "\n"
          ]
        },
        {
          "output_type": "stream",
          "name": "stderr",
          "text": [
            "Train ==> Epochs: 79 Batch:  781 loss: 1.2489094734191895 Accuracy: 75.97% : 100%|██████████| 782/782 [00:13<00:00, 60.08it/s]\n",
            "Test ==> Epochs: 79 Batch:  781 loss: 0.005686599927544594 Accuracy: 87.65% : 100%|██████████| 782/782 [00:08<00:00, 89.66it/s]"
          ]
        },
        {
          "output_type": "stream",
          "name": "stdout",
          "text": [
            "LR :1.0000000000000002e-07\n",
            "\n"
          ]
        },
        {
          "output_type": "stream",
          "name": "stderr",
          "text": [
            "\n"
          ]
        },
        {
          "output_type": "display_data",
          "data": {
            "text/plain": [
              "<Figure size 1080x360 with 0 Axes>"
            ]
          },
          "metadata": {}
        },
        {
          "output_type": "display_data",
          "data": {
            "image/png": "[encoded data removed]",
            "text/plain": [
              "<Figure size 1440x360 with 2 Axes>"
            ]
          },
          "metadata": {
            "needs_background": "light"
          }
        },
        {
          "output_type": "display_data",
          "data": {
            "image/png": "[encoded data removed]",
            "text/plain": [
              "<Figure size 1260x1080 with 21 Axes>"
            ]
          },
          "metadata": {
            "needs_background": "light"
          }
        }
      ],
      "source": [
        "if __name__ == \"__main__\":\n",
        "    batch_size = 64\n",
        "    epochs = 80\n",
        "\n",
        "    _=torch.manual_seed(1)\n",
        "    if torch.cuda.is_available():\n",
        "        _=torch.cuda.manual_seed(1)\n",
        "\n",
        "    train,test = get_data()\n",
        "    #take input as normal_type ['gbn','bn','gn','ln']\n",
        "    # To Un Normalize the test data\n",
        "    mean,std  = get_data_stats(test,train,img_norm_typ ='train',plot = False)\n",
        "\n",
        "    train_alb = AlbumDataset(train,train_transform)\n",
        "    test_alb = AlbumDataset(test,test_transform)\n",
        "\n",
        "    args = {'pin_memory':True,'num_workers':4} if torch.cuda.is_available() else {}\n",
        "    train_loader = DataLoader(train_alb,batch_size=batch_size,shuffle = True,**args)\n",
        "    test_loader = DataLoader(test_alb,batch_size=batch_size,**args)\n",
        "    # ['gbn','bn','gn','ln']\n",
        "    try_type = ['bn']\n",
        "    for norm_type in try_type:\n",
        "\n",
        "        model_class = Cifar10Net1(dropout_val=0.00,norm_type=norm_type)\n",
        "        model,train_losses, train_accuracy,test_losses,test_accuracy = Run_Model(model_class,train_alb,test_alb,epochs =epochs)\n",
        "\n",
        "        plot_acc_loss(norm_type ,train_accuracy,train_losses,test_accuracy,test_losses)\n",
        "        clean_gpu()\n",
        "\n",
        "        print_wrong_image(model,test_loader,mean,std,3,7)\n",
        "        clean_gpu()"
      ]
    },
    {
      "cell_type": "code",
      "execution_count": 185,
      "metadata": {
        "id": "4CJVjjt0E92u"
      },
      "outputs": [],
      "source": [
        "CIFAR10_dialated_conv_depthwise_sep__Bnv2.ipynb"
      ]
    },
    {
      "cell_type": "code",
      "source": [
        ""
      ],
      "metadata": {
        "id": "1_y9tY0f8fPu"
      },
      "execution_count": 185,
      "outputs": []
    }
  ],
  "metadata": {
    "accelerator": "GPU",
    "colab": {
      "collapsed_sections": [],
      "machine_shape": "hm",
      "name": "CIFAR10_try.ipynb",
      "provenance": [],
      "include_colab_link": true
    },
    "kernelspec": {
      "display_name": "Python 3",
      "name": "python3"
    },
    "language_info": {
      "codemirror_mode": {
        "name": "ipython",
        "version": 3
      },
      "file_extension": ".py",
      "mimetype": "text/x-python",
      "name": "python",
      "nbconvert_exporter": "python",
      "pygments_lexer": "ipython3",
      "version": "3.6.6"
    }
  },
  "nbformat": 4,
  "nbformat_minor": 0
}